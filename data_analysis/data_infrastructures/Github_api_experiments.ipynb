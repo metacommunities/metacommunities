{
 "metadata": {
  "name": "",
  "signature": "sha256:c122ee5d4674d722fe38dfb3dcc287b2f52ac46851c4cd883ddb22f0f597e994"
 },
 "nbformat": 3,
 "nbformat_minor": 0,
 "worksheets": [
  {
   "cells": [
    {
     "cell_type": "markdown",
     "metadata": {},
     "source": [
      "## Exploring github repository profiles using the github api.\n",
      "\n",
      "Authentication with the github api increases the amount of data that can be retrieved. I've set up a github user id that we can use of api calls. \n",
      "\n",
      "The code that generates the data is now separate from this notebook. "
     ]
    },
    {
     "cell_type": "code",
     "collapsed": true,
     "input": [
      "# functions to fetch from github api\n",
      "import sys\n",
      "sys.path.append('..')\n",
      "import github_api_data as gad\n",
      "import google_bigquery_access as gba\n",
      "import github_api_data as gh\n",
      "import requests\n",
      "import numpy as np\n",
      "import seaborn as sns"
     ],
     "language": "python",
     "metadata": {},
     "outputs": [
      {
       "ename": "InvalidClientSecretsError",
       "evalue": "File not found: \"client_secrets.json\"",
       "output_type": "pyerr",
       "traceback": [
        "\u001b[1;31m---------------------------------------------------------------------------\u001b[0m\n\u001b[1;31mInvalidClientSecretsError\u001b[0m                 Traceback (most recent call last)",
        "\u001b[1;32m<ipython-input-1-4396c292b574>\u001b[0m in \u001b[0;36m<module>\u001b[1;34m()\u001b[0m\n\u001b[0;32m      3\u001b[0m \u001b[0msys\u001b[0m\u001b[1;33m.\u001b[0m\u001b[0mpath\u001b[0m\u001b[1;33m.\u001b[0m\u001b[0mappend\u001b[0m\u001b[1;33m(\u001b[0m\u001b[1;34m'..'\u001b[0m\u001b[1;33m)\u001b[0m\u001b[1;33m\u001b[0m\u001b[0m\n\u001b[0;32m      4\u001b[0m \u001b[1;32mimport\u001b[0m \u001b[0mgithub_api_data\u001b[0m \u001b[1;32mas\u001b[0m \u001b[0mgad\u001b[0m\u001b[1;33m\u001b[0m\u001b[0m\n\u001b[1;32m----> 5\u001b[1;33m \u001b[1;32mimport\u001b[0m \u001b[0mgoogle_bigquery_access\u001b[0m \u001b[1;32mas\u001b[0m \u001b[0mgba\u001b[0m\u001b[1;33m\u001b[0m\u001b[0m\n\u001b[0m\u001b[0;32m      6\u001b[0m \u001b[1;32mimport\u001b[0m \u001b[0mgithub_api_data\u001b[0m \u001b[1;32mas\u001b[0m \u001b[0mgh\u001b[0m\u001b[1;33m\u001b[0m\u001b[0m\n\u001b[0;32m      7\u001b[0m \u001b[1;32mimport\u001b[0m \u001b[0mrequests\u001b[0m\u001b[1;33m\u001b[0m\u001b[0m\n",
        "\u001b[1;32m/home/mackenza/R/metacommunities/data_analysis/google_bigquery_access.py\u001b[0m in \u001b[0;36m<module>\u001b[1;34m()\u001b[0m\n\u001b[0;32m     35\u001b[0m \u001b[1;31m#authorization is handled here; you need one of these to get script to work;\u001b[0m\u001b[1;33m\u001b[0m\u001b[1;33m\u001b[0m\u001b[0m\n\u001b[0;32m     36\u001b[0m FLOW = flow_from_clientsecrets('client_secrets.json',\n\u001b[1;32m---> 37\u001b[1;33m                  scope='https://www.googleapis.com/auth/bigquery')\n\u001b[0m\u001b[0;32m     38\u001b[0m \u001b[1;33m\u001b[0m\u001b[0m\n\u001b[0;32m     39\u001b[0m \u001b[1;31m#a sample query to use for testing - it\u001b[0m\u001b[1;33m\u001b[0m\u001b[1;33m\u001b[0m\u001b[0m\n",
        "\u001b[1;32m/usr/local/lib/python2.7/dist-packages/oauth2client/util.pyc\u001b[0m in \u001b[0;36mpositional_wrapper\u001b[1;34m(*args, **kwargs)\u001b[0m\n\u001b[0;32m    130\u001b[0m         \u001b[1;32melse\u001b[0m\u001b[1;33m:\u001b[0m \u001b[1;31m# IGNORE\u001b[0m\u001b[1;33m\u001b[0m\u001b[0m\n\u001b[0;32m    131\u001b[0m           \u001b[1;32mpass\u001b[0m\u001b[1;33m\u001b[0m\u001b[0m\n\u001b[1;32m--> 132\u001b[1;33m       \u001b[1;32mreturn\u001b[0m \u001b[0mwrapped\u001b[0m\u001b[1;33m(\u001b[0m\u001b[1;33m*\u001b[0m\u001b[0margs\u001b[0m\u001b[1;33m,\u001b[0m \u001b[1;33m**\u001b[0m\u001b[0mkwargs\u001b[0m\u001b[1;33m)\u001b[0m\u001b[1;33m\u001b[0m\u001b[0m\n\u001b[0m\u001b[0;32m    133\u001b[0m     \u001b[1;32mreturn\u001b[0m \u001b[0mpositional_wrapper\u001b[0m\u001b[1;33m\u001b[0m\u001b[0m\n\u001b[0;32m    134\u001b[0m \u001b[1;33m\u001b[0m\u001b[0m\n",
        "\u001b[1;32m/usr/local/lib/python2.7/dist-packages/oauth2client/client.pyc\u001b[0m in \u001b[0;36mflow_from_clientsecrets\u001b[1;34m(filename, scope, redirect_uri, message, cache)\u001b[0m\n\u001b[0;32m   1341\u001b[0m   \"\"\"\n\u001b[0;32m   1342\u001b[0m   \u001b[1;32mtry\u001b[0m\u001b[1;33m:\u001b[0m\u001b[1;33m\u001b[0m\u001b[0m\n\u001b[1;32m-> 1343\u001b[1;33m     \u001b[0mclient_type\u001b[0m\u001b[1;33m,\u001b[0m \u001b[0mclient_info\u001b[0m \u001b[1;33m=\u001b[0m \u001b[0mclientsecrets\u001b[0m\u001b[1;33m.\u001b[0m\u001b[0mloadfile\u001b[0m\u001b[1;33m(\u001b[0m\u001b[0mfilename\u001b[0m\u001b[1;33m,\u001b[0m \u001b[0mcache\u001b[0m\u001b[1;33m=\u001b[0m\u001b[0mcache\u001b[0m\u001b[1;33m)\u001b[0m\u001b[1;33m\u001b[0m\u001b[0m\n\u001b[0m\u001b[0;32m   1344\u001b[0m     \u001b[1;32mif\u001b[0m \u001b[0mclient_type\u001b[0m \u001b[1;32min\u001b[0m \u001b[1;33m(\u001b[0m\u001b[0mclientsecrets\u001b[0m\u001b[1;33m.\u001b[0m\u001b[0mTYPE_WEB\u001b[0m\u001b[1;33m,\u001b[0m \u001b[0mclientsecrets\u001b[0m\u001b[1;33m.\u001b[0m\u001b[0mTYPE_INSTALLED\u001b[0m\u001b[1;33m)\u001b[0m\u001b[1;33m:\u001b[0m\u001b[1;33m\u001b[0m\u001b[0m\n\u001b[0;32m   1345\u001b[0m       constructor_kwargs = {\n",
        "\u001b[1;32m/usr/local/lib/python2.7/dist-packages/oauth2client/clientsecrets.pyc\u001b[0m in \u001b[0;36mloadfile\u001b[1;34m(filename, cache)\u001b[0m\n\u001b[0;32m    143\u001b[0m \u001b[1;33m\u001b[0m\u001b[0m\n\u001b[0;32m    144\u001b[0m   \u001b[1;32mif\u001b[0m \u001b[1;32mnot\u001b[0m \u001b[0mcache\u001b[0m\u001b[1;33m:\u001b[0m\u001b[1;33m\u001b[0m\u001b[0m\n\u001b[1;32m--> 145\u001b[1;33m     \u001b[1;32mreturn\u001b[0m \u001b[0m_loadfile\u001b[0m\u001b[1;33m(\u001b[0m\u001b[0mfilename\u001b[0m\u001b[1;33m)\u001b[0m\u001b[1;33m\u001b[0m\u001b[0m\n\u001b[0m\u001b[0;32m    146\u001b[0m \u001b[1;33m\u001b[0m\u001b[0m\n\u001b[0;32m    147\u001b[0m   \u001b[0mobj\u001b[0m \u001b[1;33m=\u001b[0m \u001b[0mcache\u001b[0m\u001b[1;33m.\u001b[0m\u001b[0mget\u001b[0m\u001b[1;33m(\u001b[0m\u001b[0mfilename\u001b[0m\u001b[1;33m,\u001b[0m \u001b[0mnamespace\u001b[0m\u001b[1;33m=\u001b[0m\u001b[0m_SECRET_NAMESPACE\u001b[0m\u001b[1;33m)\u001b[0m\u001b[1;33m\u001b[0m\u001b[0m\n",
        "\u001b[1;32m/usr/local/lib/python2.7/dist-packages/oauth2client/clientsecrets.pyc\u001b[0m in \u001b[0;36m_loadfile\u001b[1;34m(filename)\u001b[0m\n\u001b[0;32m    105\u001b[0m       \u001b[0mfp\u001b[0m\u001b[1;33m.\u001b[0m\u001b[0mclose\u001b[0m\u001b[1;33m(\u001b[0m\u001b[1;33m)\u001b[0m\u001b[1;33m\u001b[0m\u001b[0m\n\u001b[0;32m    106\u001b[0m   \u001b[1;32mexcept\u001b[0m \u001b[0mIOError\u001b[0m\u001b[1;33m:\u001b[0m\u001b[1;33m\u001b[0m\u001b[0m\n\u001b[1;32m--> 107\u001b[1;33m     \u001b[1;32mraise\u001b[0m \u001b[0mInvalidClientSecretsError\u001b[0m\u001b[1;33m(\u001b[0m\u001b[1;34m'File not found: \"%s\"'\u001b[0m \u001b[1;33m%\u001b[0m \u001b[0mfilename\u001b[0m\u001b[1;33m)\u001b[0m\u001b[1;33m\u001b[0m\u001b[0m\n\u001b[0m\u001b[0;32m    108\u001b[0m   \u001b[1;32mreturn\u001b[0m \u001b[0m_validate_clientsecrets\u001b[0m\u001b[1;33m(\u001b[0m\u001b[0mobj\u001b[0m\u001b[1;33m)\u001b[0m\u001b[1;33m\u001b[0m\u001b[0m\n\u001b[0;32m    109\u001b[0m \u001b[1;33m\u001b[0m\u001b[0m\n",
        "\u001b[1;31mInvalidClientSecretsError\u001b[0m: File not found: \"client_secrets.json\""
       ]
      }
     ],
     "prompt_number": 1
    },
    {
     "cell_type": "markdown",
     "metadata": {},
     "source": [
      "# The problem of programming languages\n",
      "\n",
      "We know roughly what programming languages are used on github [https://github.com/languages](https://github.com/languages)"
     ]
    },
    {
     "cell_type": "code",
     "collapsed": false,
     "input": [
      "# to get view of programming languages, need to query by language.\n",
      "\n",
      "url = 'https://github.com/search?l=Python&q=%40github&ref=searchresults&type=Repositories'\n",
      "\n",
      "# But a more fine grained view comes from asking each repository what languages are being used there. \n",
      "url = 'https://api.github.com/repos/vanpelt/jsawesome/languages'\n",
      "r = requests.get(url)\n",
      "lang = r.json\n",
      "print lang"
     ],
     "language": "python",
     "metadata": {},
     "outputs": [
      {
       "output_type": "stream",
       "stream": "stdout",
       "text": [
        "{u'JavaScript': 126588, u'Ruby': 9677}\n"
       ]
      }
     ],
     "prompt_number": 3
    },
    {
     "cell_type": "markdown",
     "metadata": {},
     "source": [
      "I think the numbers here refer to lines of code. Or maybe character counts.\n",
      "So, user vanpelt's [jawesome repository](https://github.com/vanpelt/jsawesome) has definitely has some javascript. \n",
      "Does it have Ruby code? \n",
      "Run in a shell: git clone https://github.com/vanpelt/jsawesome\n",
      "Cd into jsawesome, and there are definitely both Ruby and Javascript files there. The charcounts on the files are about right. They add up to ~9600 characters for the Ruby files.\n",
      "So this give some sense of the relative importance of the different programming languages in each repo."
     ]
    },
    {
     "cell_type": "code",
     "collapsed": false,
     "input": [
      "# get a sample of repos\n",
      "df_repos = gh.get_repos(1)\n",
      "\n",
      "\n",
      "# we are interested in the platforms and languages of repositories. How do get that from the repository data?\n",
      "df_repos.columns"
     ],
     "language": "python",
     "metadata": {},
     "outputs": [
      {
       "output_type": "stream",
       "stream": "stdout",
       "text": [
        "fetched  100 rows\n"
       ]
      },
      {
       "metadata": {},
       "output_type": "pyout",
       "prompt_number": 4,
       "text": [
        "Index([archive_url, assignees_url, blobs_url, branches_url, collaborators_url, comments_url, commits_url, compare_url, contents_url, contributors_url, description, downloads_url, events_url, fork, forks_url, full_name, git_commits_url, git_refs_url, git_tags_url, hooks_url, html_url, id, issue_comment_url, issue_events_url, issues_url, keys_url, labels_url, languages_url, merges_url, milestones_url, name, notifications_url, owner, private, pulls_url, stargazers_url, statuses_url, subscribers_url, subscription_url, tags_url, teams_url, trees_url, url], dtype=object)"
       ]
      }
     ],
     "prompt_number": 4
    },
    {
     "cell_type": "code",
     "collapsed": false,
     "input": [
      "df_lang = gh.get_programming_languages(df_repos[0:5])\n",
      "    "
     ],
     "language": "python",
     "metadata": {},
     "outputs": [
      {
       "output_type": "stream",
       "stream": "stdout",
       "text": [
        "fetching repository 0 from https://api.github.com/repos/mojombo/grit/languages\n",
        "fetching repository 1 from https://api.github.com/repos/wycats/merb-core/languages"
       ]
      },
      {
       "output_type": "stream",
       "stream": "stdout",
       "text": [
        "\n",
        "fetching repository 2 from https://api.github.com/repos/rubinius/rubinius/languages"
       ]
      },
      {
       "output_type": "stream",
       "stream": "stdout",
       "text": [
        "\n",
        "fetching repository 3 from https://api.github.com/repos/mojombo/god/languages"
       ]
      },
      {
       "output_type": "stream",
       "stream": "stdout",
       "text": [
        "\n",
        "fetching repository 4 from https://api.github.com/repos/vanpelt/jsawesome/languages"
       ]
      },
      {
       "output_type": "stream",
       "stream": "stdout",
       "text": [
        "\n"
       ]
      }
     ],
     "prompt_number": 5
    },
    {
     "cell_type": "code",
     "collapsed": false,
     "input": [
      "import matplotlib.pyplot as plt\n",
      "plt.subplots(nrows=1, ncols=2)\n",
      "#plt.figure() \n",
      "\n",
      "#the use of languages\n",
      "df_lang.apply(lambda x: np.count_nonzero(x)).plot(kind='bar', title = 'language usage')\n",
      "#how much code is written in each language\n",
      "plt.figure()\n",
      "df_lang.sum().plot(kind='bar',title = 'code size')"
     ],
     "language": "python",
     "metadata": {},
     "outputs": [
      {
       "metadata": {},
       "output_type": "pyout",
       "prompt_number": 8,
       "text": [
        "<matplotlib.axes.AxesSubplot at 0x5973850>"
       ]
      }
     ],
     "prompt_number": 8
    },
    {
     "cell_type": "markdown",
     "metadata": {},
     "source": [
      "The figures show that the amount of code written in different languages differs greatly from the number of projects that use languages.\n",
      "So while Javascript is a very popular language in terms of numbers of repositories using it, it looks like much more coding is done in \n",
      "Ruby, C and C++. Obviously only a small sample (a couple of hundred repositories), but might be worth following this up.  "
     ]
    },
    {
     "cell_type": "markdown",
     "metadata": {},
     "source": [
      "## What can we get by looking at the forked repositories. Questions might be:\n",
      "1. what do they fork from? - when a repo is a fork, calling /repos/:owner/:repo also returns \"parent\" and \"source\" objects \n",
      "which direct to the repo it was forked from.\n",
      "2. what kinds of repositories are likely to be forked?\n",
      "3. do forks have lives of their own, or are they mainly dead ends?\n",
      "    "
     ]
    },
    {
     "cell_type": "code",
     "collapsed": false,
     "input": [
      "# interesting to look at how many repositories are forks of others\n",
      "# could we build a picture of github in terms of forks?\n",
      "\n",
      "df_repos.fork.value_counts()\n",
      "df_repos.fork.value_counts().plot(kind='bar')"
     ],
     "language": "python",
     "metadata": {},
     "outputs": [
      {
       "metadata": {},
       "output_type": "pyout",
       "prompt_number": 9,
       "text": [
        "<matplotlib.axes.AxesSubplot at 0x5973850>"
       ]
      }
     ],
     "prompt_number": 9
    },
    {
     "cell_type": "code",
     "collapsed": false,
     "input": [
      "df_repos.description[df_repos.fork==True]"
     ],
     "language": "python",
     "metadata": {},
     "outputs": [
      {
       "metadata": {},
       "output_type": "pyout",
       "prompt_number": 46,
       "text": [
        "name\n",
        "mofo                      Mofo is a fast and simple microformat parser, ...\n",
        "merb-core                          Merb Core: All you need. None you don't.\n",
        "yaws                                           YAWS is an erlang web server\n",
        "ruby-on-rails-tmbundle    Ruby on Rails TextMate bundle [master branch i...\n",
        "ruby-on-rails-tmbundle    Ruby on Rails TextMate bundle [master branch i...\n",
        "simply_versioned          A simple, non-invasive, approach to versioning...\n",
        "ambitious_activeldap                        Ambition adapter for ActiveLdap\n",
        "ruby-on-rails-tmbundle    Ruby on Rails TextMate bundle [master branch i...\n",
        "ambition                                                                   \n",
        "god                                                    Ruby process monitor\n",
        "django-mptt               utilities for implementing a modified pre-orde...\n",
        "rails                                                         Ruby on Rails\n",
        "exception_logger                              our hacks to exception_logger\n",
        "god                                                    Ruby process monitor\n",
        "git-wiki                           A quick & dirty git-powered Sinatra wiki\n",
        "...\n",
        "facebox                                   Facebook-style lightbox, built in jQuery\n",
        "gitnub                           A Gitk-like application written in RubyCocoa t...\n",
        "merb-plugins                     Merb Plugins: Even more modules to hook up you...\n",
        "codereviewr                                A site to make your code lean and mean.\n",
        "vanhelsing                       Super streamlined memory profiler with real ti...\n",
        "nu                               The Nu programming language.  A clone of the o...\n",
        "attachment_fu                    Treat an ActiveRecord model as a file attachme...\n",
        "attachmerb_fu                        A merb port of the attachment_fu Rails plugin\n",
        "gitnub                           A Gitk-like application written in RubyCocoa t...\n",
        "merb-core                                 Merb Core: All you need. None you don't.\n",
        "fireeagle                                      Ruby wrapper for Yahoo!'s FireEagle\n",
        "rspec-haml-scaffold-generator               A Haml Scaffolding Generator for RSpec\n",
        "arc                                                   Paul Graham's Brand New Lisp\n",
        "trails-oldschool                                                     Trails tracks\n",
        "rspec                              Behaviour Driven Development framework for Ruby\n",
        "Name: description, Length: 126"
       ]
      }
     ],
     "prompt_number": 46
    },
    {
     "cell_type": "markdown",
     "metadata": {},
     "source": [
      "In terms of the metacommunity idea, I think it would be worth processing the titles and descriptions to get a catalogue of 'named entities.' \n",
      "I've started to do this with some of the stackoverflow data, using the natural language toolkit. "
     ]
    }
   ],
   "metadata": {}
  }
 ]
}