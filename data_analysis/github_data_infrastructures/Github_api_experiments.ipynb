{
 "metadata": {
  "name": ""
 },
 "nbformat": 3,
 "nbformat_minor": 0,
 "worksheets": [
  {
   "cells": [
    {
     "cell_type": "markdown",
     "metadata": {},
     "source": [
      "## Exploring github repository profiles using the github api.\n",
      "\n",
      "Authentication with the github api increases the amount of data that can be retrieved. I've set up a github user id that we can use of api calls. \n",
      "\n",
      "The code that generates the data is now separate from this notebook. "
     ]
    },
    {
     "cell_type": "code",
     "collapsed": true,
     "input": [
      "# functions to fetch from github api\n",
      "import sys\n",
      "sys.path.append('..')\n",
      "import github_api_data as gad\n",
      "import google_bigquery_access as gba\n",
      "import github_api_data as gh\n",
      "import requests\n",
      "import numpy as np\n",
      "import seaborn as sns"
     ],
     "language": "python",
     "metadata": {},
     "outputs": [],
     "prompt_number": 1
    },
    {
     "cell_type": "markdown",
     "metadata": {},
     "source": [
      "# The problem of programming languages\n",
      "\n",
      "We know roughly what programming languages are used on github [https://github.com/languages](https://github.com/languages)"
     ]
    },
    {
     "cell_type": "code",
     "collapsed": false,
     "input": [
      "# to get view of programming languages, need to query by language.\n",
      "\n",
      "url = 'https://github.com/search?l=Python&q=%40github&ref=searchresults&type=Repositories'\n",
      "\n",
      "# But a more fine grained view comes from asking each repository what languages are being used there. \n",
      "url = 'https://api.github.com/repos/vanpelt/jsawesome/languages'\n",
      "r = requests.get(url)\n",
      "lang = r.json\n",
      "print lang"
     ],
     "language": "python",
     "metadata": {},
     "outputs": [
      {
       "output_type": "stream",
       "stream": "stdout",
       "text": [
        "{u'JavaScript': 126588, u'Ruby': 9677}\n"
       ]
      }
     ],
     "prompt_number": 3
    },
    {
     "cell_type": "markdown",
     "metadata": {},
     "source": [
      "I think the numbers here refer to lines of code. Or maybe character counts.\n",
      "So, user vanpelt's [jawesome repository](https://github.com/vanpelt/jsawesome) has definitely has some javascript. \n",
      "Does it have Ruby code? \n",
      "Run in a shell: git clone https://github.com/vanpelt/jsawesome\n",
      "Cd into jsawesome, and there are definitely both Ruby and Javascript files there. The charcounts on the files are about right. They add up to ~9600 characters for the Ruby files.\n",
      "So this give some sense of the relative importance of the different programming languages in each repo."
     ]
    },
    {
     "cell_type": "code",
     "collapsed": false,
     "input": [
      "# get a sample of repos\n",
      "df_repos = gh.get_repos(1)\n",
      "\n",
      "\n",
      "# we are interested in the platforms and languages of repositories. How do get that from the repository data?\n",
      "df_repos.columns"
     ],
     "language": "python",
     "metadata": {},
     "outputs": [
      {
       "output_type": "stream",
       "stream": "stdout",
       "text": [
        "fetched  100 rows\n"
       ]
      },
      {
       "output_type": "pyout",
       "prompt_number": 4,
       "text": [
        "Index([archive_url, assignees_url, blobs_url, branches_url, collaborators_url, comments_url, commits_url, compare_url, contents_url, contributors_url, description, downloads_url, events_url, fork, forks_url, full_name, git_commits_url, git_refs_url, git_tags_url, hooks_url, html_url, id, issue_comment_url, issue_events_url, issues_url, keys_url, labels_url, languages_url, merges_url, milestones_url, name, notifications_url, owner, private, pulls_url, stargazers_url, statuses_url, subscribers_url, subscription_url, tags_url, teams_url, trees_url, url], dtype=object)"
       ]
      }
     ],
     "prompt_number": 4
    },
    {
     "cell_type": "code",
     "collapsed": false,
     "input": [
      "df_lang = gh.get_programming_languages(df_repos[0:5])\n",
      "    "
     ],
     "language": "python",
     "metadata": {},
     "outputs": [
      {
       "output_type": "stream",
       "stream": "stdout",
       "text": [
        "fetching repository 0 from https://api.github.com/repos/mojombo/grit/languages\n",
        "fetching repository 1 from https://api.github.com/repos/wycats/merb-core/languages"
       ]
      },
      {
       "output_type": "stream",
       "stream": "stdout",
       "text": [
        "\n",
        "fetching repository 2 from https://api.github.com/repos/rubinius/rubinius/languages"
       ]
      },
      {
       "output_type": "stream",
       "stream": "stdout",
       "text": [
        "\n",
        "fetching repository 3 from https://api.github.com/repos/mojombo/god/languages"
       ]
      },
      {
       "output_type": "stream",
       "stream": "stdout",
       "text": [
        "\n",
        "fetching repository 4 from https://api.github.com/repos/vanpelt/jsawesome/languages"
       ]
      },
      {
       "output_type": "stream",
       "stream": "stdout",
       "text": [
        "\n"
       ]
      }
     ],
     "prompt_number": 5
    },
    {
     "cell_type": "code",
     "collapsed": false,
     "input": [
      "import matplotlib.pyplot as plt\n",
      "plt.subplots(nrows=1, ncols=2)\n",
      "#plt.figure() \n",
      "\n",
      "#the use of languages\n",
      "df_lang.apply(lambda x: np.count_nonzero(x)).plot(kind='bar', title = 'language usage')\n",
      "#how much code is written in each language\n",
      "plt.figure()\n",
      "df_lang.sum().plot(kind='bar',title = 'code size')"
     ],
     "language": "python",
     "metadata": {},
     "outputs": [
      {
       "output_type": "pyout",
       "prompt_number": 8,
       "text": [
        "<matplotlib.axes.AxesSubplot at 0x5973850>"
       ]
      }
     ],
     "prompt_number": 8
    },
    {
     "cell_type": "markdown",
     "metadata": {},
     "source": [
      "The figures show that the amount of code written in different languages differs greatly from the number of projects that use languages.\n",
      "So while Javascript is a very popular language in terms of numbers of repositories using it, it looks like much more coding is done in \n",
      "Ruby, C and C++. Obviously only a small sample (a couple of hundred repositories), but might be worth following this up.  "
     ]
    },
    {
     "cell_type": "markdown",
     "metadata": {},
     "source": [
      "## What can we get by looking at the forked repositories. Questions might be:\n",
      "1. what do they fork from? - when a repo is a fork, calling /repos/:owner/:repo also returns \"parent\" and \"source\" objects \n",
      "which direct to the repo it was forked from.\n",
      "2. what kinds of repositories are likely to be forked?\n",
      "3. do forks have lives of their own, or are they mainly dead ends?\n",
      "    "
     ]
    },
    {
     "cell_type": "code",
     "collapsed": false,
     "input": [
      "# interesting to look at how many repositories are forks of others\n",
      "# could we build a picture of github in terms of forks?\n",
      "\n",
      "df_repos.fork.value_counts()\n",
      "df_repos.fork.value_counts().plot(kind='bar')"
     ],
     "language": "python",
     "metadata": {},
     "outputs": [
      {
       "output_type": "pyout",
       "prompt_number": 9,
       "text": [
        "<matplotlib.axes.AxesSubplot at 0x5973850>"
       ]
      }
     ],
     "prompt_number": 9
    },
    {
     "cell_type": "code",
     "collapsed": false,
     "input": [
      "df_repos.description[df_repos.fork==True]"
     ],
     "language": "python",
     "metadata": {},
     "outputs": [
      {
       "output_type": "pyout",
       "prompt_number": 46,
       "text": [
        "name\n",
        "mofo                      Mofo is a fast and simple microformat parser, ...\n",
        "merb-core                          Merb Core: All you need. None you don't.\n",
        "yaws                                           YAWS is an erlang web server\n",
        "ruby-on-rails-tmbundle    Ruby on Rails TextMate bundle [master branch i...\n",
        "ruby-on-rails-tmbundle    Ruby on Rails TextMate bundle [master branch i...\n",
        "simply_versioned          A simple, non-invasive, approach to versioning...\n",
        "ambitious_activeldap                        Ambition adapter for ActiveLdap\n",
        "ruby-on-rails-tmbundle    Ruby on Rails TextMate bundle [master branch i...\n",
        "ambition                                                                   \n",
        "god                                                    Ruby process monitor\n",
        "django-mptt               utilities for implementing a modified pre-orde...\n",
        "rails                                                         Ruby on Rails\n",
        "exception_logger                              our hacks to exception_logger\n",
        "god                                                    Ruby process monitor\n",
        "git-wiki                           A quick & dirty git-powered Sinatra wiki\n",
        "...\n",
        "facebox                                   Facebook-style lightbox, built in jQuery\n",
        "gitnub                           A Gitk-like application written in RubyCocoa t...\n",
        "merb-plugins                     Merb Plugins: Even more modules to hook up you...\n",
        "codereviewr                                A site to make your code lean and mean.\n",
        "vanhelsing                       Super streamlined memory profiler with real ti...\n",
        "nu                               The Nu programming language.  A clone of the o...\n",
        "attachment_fu                    Treat an ActiveRecord model as a file attachme...\n",
        "attachmerb_fu                        A merb port of the attachment_fu Rails plugin\n",
        "gitnub                           A Gitk-like application written in RubyCocoa t...\n",
        "merb-core                                 Merb Core: All you need. None you don't.\n",
        "fireeagle                                      Ruby wrapper for Yahoo!'s FireEagle\n",
        "rspec-haml-scaffold-generator               A Haml Scaffolding Generator for RSpec\n",
        "arc                                                   Paul Graham's Brand New Lisp\n",
        "trails-oldschool                                                     Trails tracks\n",
        "rspec                              Behaviour Driven Development framework for Ruby\n",
        "Name: description, Length: 126"
       ]
      }
     ],
     "prompt_number": 46
    },
    {
     "cell_type": "markdown",
     "metadata": {},
     "source": [
      "In terms of the metacommunity idea, I think it would be worth processing the titles and descriptions to get a catalogue of 'named entities.' \n",
      "I've started to do this with some of the stackoverflow data, using the natural language toolkit. "
     ]
    }
   ],
   "metadata": {}
  }
 ]
}