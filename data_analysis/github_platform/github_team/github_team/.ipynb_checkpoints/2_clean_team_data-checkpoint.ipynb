{
 "metadata": {
  "name": "",
  "signature": "sha256:82d68306da3fa27eaa6e5a7fa377501ffaf13134e8b76d1e3b55c44e308a1923"
 },
 "nbformat": 3,
 "nbformat_minor": 0,
 "worksheets": [
  {
   "cells": [
    {
     "cell_type": "code",
     "collapsed": false,
     "input": [
      "from bs4 import BeautifulSoup\n",
      "import pandas as pd\n",
      "import urllib2\n",
      "import seaborn\n",
      "import ConfigParser\n",
      "import github as gh"
     ],
     "language": "python",
     "metadata": {},
     "outputs": [],
     "prompt_number": 2
    },
    {
     "cell_type": "code",
     "collapsed": false,
     "input": [
      "#Load team description: I added the countries in manually, so load this to see team members (including )\n",
      "team_df = pd.read_csv('data/github_team_with_countries.csv', sep='\\t')\n",
      "\n",
      "# Load team repository descriptions\n",
      "all_team_repos = pd.read_csv('data/github_team_repos.csv', sep='\\t')\n",
      "\n",
      "# Load general event descriptions\n",
      "all_events = pd.read_csv('data/event_counts_top100k.csv', sep = '\\t')"
     ],
     "language": "python",
     "metadata": {},
     "outputs": [],
     "prompt_number": 3
    },
    {
     "cell_type": "markdown",
     "metadata": {},
     "source": [
      "## Clean up countries and cities"
     ]
    },
    {
     "cell_type": "code",
     "collapsed": false,
     "input": [
      "team_df['location'] = team_df.location.str.lower().str.replace(',.*', '')"
     ],
     "language": "python",
     "metadata": {},
     "outputs": [],
     "prompt_number": 9
    },
    {
     "cell_type": "code",
     "collapsed": false,
     "input": [
      "team_df.to_csv('data/github_team_with_countries.csv', sep='\\t')"
     ],
     "language": "python",
     "metadata": {},
     "outputs": [],
     "prompt_number": 11
    }
   ],
   "metadata": {}
  }
 ]
}