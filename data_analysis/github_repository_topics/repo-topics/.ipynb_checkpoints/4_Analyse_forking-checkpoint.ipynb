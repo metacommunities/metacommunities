{
 "metadata": {
  "name": "",
  "signature": "sha256:f0847a2f137f4542f34e6da23063d2c119d03ba3085646dc90f45317ceaf50d2"
 },
 "nbformat": 3,
 "nbformat_minor": 0,
 "worksheets": [
  {
   "cells": [
    {
     "cell_type": "code",
     "collapsed": false,
     "input": [
      "import github as gh\n",
      "import redis\n",
      "import pandas as pd\n",
      "import ConfigParser\n",
      "import os\n",
      "\n",
      "path = '/home/mackenza/.history_git/'\n",
      "conf = ConfigParser.ConfigParser()\n",
      "conf.read(os.path.join(path, 'settings.conf'))\n",
      "# github\n",
      "gh = gh.Github(login_or_token = conf.get('github', 'user'),\n",
      "                        password = conf.get('github', 'password'))"
     ],
     "language": "python",
     "metadata": {},
     "outputs": [],
     "prompt_number": 24
    },
    {
     "cell_type": "markdown",
     "metadata": {},
     "source": [
      "## A heavily forked repo -- octocat/Spoon-Knife"
     ]
    },
    {
     "cell_type": "code",
     "collapsed": true,
     "input": [
      "spoon = gh.get_repo('octocat/Spoon-Knife')"
     ],
     "language": "python",
     "metadata": {},
     "outputs": [],
     "prompt_number": 26
    },
    {
     "cell_type": "code",
     "collapsed": false,
     "input": [
      "forks = spoon.get_forks()"
     ],
     "language": "python",
     "metadata": {},
     "outputs": [],
     "prompt_number": 27
    },
    {
     "cell_type": "code",
     "collapsed": false,
     "input": [
      "forks.totalCount"
     ],
     "language": "python",
     "metadata": {},
     "outputs": [],
     "prompt_number": 29
    }
   ],
   "metadata": {}
  }
 ]
}