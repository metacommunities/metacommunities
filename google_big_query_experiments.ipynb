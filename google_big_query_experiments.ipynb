{
 "metadata": {
  "name": "google_big_query_experiments"
 },
 "nbformat": 3,
 "nbformat_minor": 0,
 "worksheets": [
  {
   "cells": [
    {
     "cell_type": "code",
     "collapsed": false,
     "input": [
      "import google_bigquery_access as gbq\n",
      "import pandas as pd\n",
      "import datetime as dt\n",
      "import matplotlib.pyplot as plt"
     ],
     "language": "python",
     "metadata": {},
     "outputs": [],
     "prompt_number": 2
    },
    {
     "cell_type": "markdown",
     "metadata": {},
     "source": [
      "# Demo: retrieving 50,000 rows from githubarchive on programming languages in 2012\n",
      "\n",
      "The code assumes that you have already authenticated an application with Googel oauth2, and that you have client_secrets.json file in the same directory as the this notebook. "
     ]
    },
    {
     "cell_type": "code",
     "collapsed": true,
     "input": [
      "results_df = gbq.query_table(gbq.QUERY_DATA, max_rows=50000)"
     ],
     "language": "python",
     "metadata": {},
     "outputs": [
      {
       "output_type": "stream",
       "stream": "stdout",
       "text": [
        "Executing query: select actor, repository_language,        count(repository_language)        as pushes       from [githubarchive:github.timeline]       where type='PushEvent'       and repository_language != ''       and PARSE_UTC_USEC(created_at) >= PARSE_UTC_USEC('2012-01-01 00:00:00')       and PARSE_UTC_USEC(created_at) < PARSE_UTC_USEC('2013-01-01 00:00:00')       group by actor, repository_language;\n",
        "has a rows attribute"
       ]
      },
      {
       "output_type": "stream",
       "stream": "stdout",
       "text": [
        "\n",
        "100000"
       ]
      },
      {
       "output_type": "stream",
       "stream": "stdout",
       "text": [
        " of   744493 (100000, 3)\n"
       ]
      }
     ],
     "prompt_number": 3
    },
    {
     "cell_type": "code",
     "collapsed": true,
     "input": [
      "results_df = results_df.fillna('')\n",
      "results_df.head()"
     ],
     "language": "python",
     "metadata": {},
     "outputs": [
      {
       "html": [
        "<div style=\"max-height:1000px;max-width:1500px;overflow:auto;\">\n",
        "<table border=\"1\" class=\"dataframe\">\n",
        "  <thead>\n",
        "    <tr style=\"text-align: right;\">\n",
        "      <th></th>\n",
        "      <th>actor</th>\n",
        "      <th>count</th>\n",
        "      <th>language</th>\n",
        "    </tr>\n",
        "  </thead>\n",
        "  <tbody>\n",
        "    <tr>\n",
        "      <th>0</th>\n",
        "      <td> tomaszchabinka</td>\n",
        "      <td>  147</td>\n",
        "      <td>   Ruby</td>\n",
        "    </tr>\n",
        "    <tr>\n",
        "      <th>1</th>\n",
        "      <td>        kfrapin</td>\n",
        "      <td>  234</td>\n",
        "      <td>   Java</td>\n",
        "    </tr>\n",
        "    <tr>\n",
        "      <th>2</th>\n",
        "      <td>        cdussud</td>\n",
        "      <td>   43</td>\n",
        "      <td>   Ruby</td>\n",
        "    </tr>\n",
        "    <tr>\n",
        "      <th>3</th>\n",
        "      <td>         uforia</td>\n",
        "      <td>  131</td>\n",
        "      <td> Python</td>\n",
        "    </tr>\n",
        "    <tr>\n",
        "      <th>4</th>\n",
        "      <td>       konklone</td>\n",
        "      <td> 1636</td>\n",
        "      <td>   Ruby</td>\n",
        "    </tr>\n",
        "  </tbody>\n",
        "</table>\n",
        "</div>"
       ],
       "output_type": "pyout",
       "prompt_number": 5,
       "text": [
        "            actor count language\n",
        "0  tomaszchabinka   147     Ruby\n",
        "1         kfrapin   234     Java\n",
        "2         cdussud    43     Ruby\n",
        "3          uforia   131   Python\n",
        "4        konklone  1636     Ruby"
       ]
      }
     ],
     "prompt_number": 5
    },
    {
     "cell_type": "code",
     "collapsed": true,
     "input": [
      "results_df['language'].value_counts().plot(kind='bar', title='programming languages on github 2012')"
     ],
     "language": "python",
     "metadata": {},
     "outputs": [
      {
       "output_type": "pyout",
       "prompt_number": 9,
       "text": [
        "<matplotlib.axes.AxesSubplot at 0x8a60390>"
       ]
      },
      {
       "output_type": "display_data",
       "png": "[encoded data removed]"
      }
     ],
     "prompt_number": 9
    },
    {
     "cell_type": "code",
     "collapsed": false,
     "input": [
      "## What about in 2011? Did things look the same then?"
     ],
     "language": "python",
     "metadata": {},
     "outputs": []
    },
    {
     "cell_type": "code",
     "collapsed": false,
     "input": [
      "query=\"\"\"select actor, repository_language, count(repository_language), created_at,\n",
      "as pushes       from [githubarchive:github.timeline]  where type='PushEvent' and repository_language != ''       \n",
      "and PARSE_UTC_USEC(created_at) >= PARSE_UTC_USEC('2011-04-04 00:00:00')  \n",
      "and PARSE_UTC_USEC(created_at) < PARSE_UTC_USEC('2012-01-01 00:00:00')       group by actor, repository_language;\"\"\"\n",
      "query_full = {'query': query}\n"
     ],
     "language": "python",
     "metadata": {},
     "outputs": [],
     "prompt_number": 19
    },
    {
     "cell_type": "code",
     "collapsed": true,
     "input": [
      "results_2011_df = gbq.query_table(query_full, max_rows=100000)"
     ],
     "language": "python",
     "metadata": {},
     "outputs": [
      {
       "output_type": "stream",
       "stream": "stdout",
       "text": [
        "Executing query: select actor, repository_language, count(repository_language)as pushes    from [githubarchive:github.timeline]  where type='PushEvent' and repository_language != ''    and PARSE_UTC_USEC(created_at) >= PARSE_UTC_USEC('2011-04-04 00:00:00')  and PARSE_UTC_USEC(created_at) < PARSE_UTC_USEC('2012-01-01 00:00:00')    group by actor, repository_language;\n"
       ]
      }
     ],
     "prompt_number": 20
    },
    {
     "cell_type": "code",
     "collapsed": false,
     "input": [
      "results_2011_df"
     ],
     "language": "python",
     "metadata": {},
     "outputs": [
      {
       "html": [
        "<div style=\"max-height:1000px;max-width:1500px;overflow:auto;\">\n",
        "<table border=\"1\" class=\"dataframe\">\n",
        "  <tbody>\n",
        "    <tr>\n",
        "      <td>Index([], dtype=object)</td>\n",
        "      <td>Empty DataFrame</td>\n",
        "    </tr>\n",
        "  </tbody>\n",
        "</table>\n",
        "</div>"
       ],
       "output_type": "pyout",
       "prompt_number": 17,
       "text": [
        "Empty DataFrame\n",
        "Columns: []\n",
        "Index: []"
       ]
      }
     ],
     "prompt_number": 17
    },
    {
     "cell_type": "markdown",
     "metadata": {},
     "source": [
      "# The growth of repositories"
     ]
    },
    {
     "cell_type": "code",
     "collapsed": false,
     "input": [
      "query = \"\"\"\n",
      "select repository_name, DATE(TIMESTAMP(repository_created_at)) as date, count(repository_name) \n",
      "FROM\n",
      "  (SELECT repository_name, repository_created_at, type FROM [githubarchive:github.timeline]\n",
      "   WHERE (HASH(repository_created_at)%10 == 0))\n",
      " GROUP BY  repository_name, date\n",
      " order by date;\"\"\""
     ],
     "language": "python",
     "metadata": {},
     "outputs": [],
     "prompt_number": 74
    },
    {
     "cell_type": "code",
     "collapsed": false,
     "input": [
      "resdf = gbq.query_table(query, max_rows=100000, timeout=3.0)"
     ],
     "language": "python",
     "metadata": {},
     "outputs": [
      {
       "output_type": "stream",
       "stream": "stdout",
       "text": [
        "executing query:\n",
        "\n",
        "select repository_name, DATE(TIMESTAMP(repository_created_at)) as date, count(repository_name) \n",
        "FROM\n",
        "  (SELECT repository_name, repository_created_at, type FROM [githubarchive:github.timeline]\n",
        "   WHERE (HASH(repository_created_at)%10 == 0))\n",
        " GROUP BY  repository_name, date\n",
        " order by date     LIMIT 100000;\n",
        "has a rows attribute"
       ]
      },
      {
       "output_type": "stream",
       "stream": "stdout",
       "text": [
        "\n",
        "100000"
       ]
      },
      {
       "output_type": "stream",
       "stream": "stdout",
       "text": [
        " of   100000 (100000, 3)\n"
       ]
      }
     ],
     "prompt_number": 75
    },
    {
     "cell_type": "code",
     "collapsed": false,
     "input": [
      "resdf.head()"
     ],
     "language": "python",
     "metadata": {},
     "outputs": [
      {
       "html": [
        "<div style=\"max-height:1000px;max-width:1500px;overflow:auto;\">\n",
        "<table border=\"1\" class=\"dataframe\">\n",
        "  <thead>\n",
        "    <tr style=\"text-align: right;\">\n",
        "      <th></th>\n",
        "      <th>date</th>\n",
        "      <th>f0_</th>\n",
        "      <th>repository_name</th>\n",
        "    </tr>\n",
        "  </thead>\n",
        "  <tbody>\n",
        "    <tr>\n",
        "      <th>0</th>\n",
        "      <td> 2008-01-12</td>\n",
        "      <td> 10946</td>\n",
        "      <td>      rubinius</td>\n",
        "    </tr>\n",
        "    <tr>\n",
        "      <th>1</th>\n",
        "      <td> 2008-01-14</td>\n",
        "      <td>    42</td>\n",
        "      <td>      ambition</td>\n",
        "    </tr>\n",
        "    <tr>\n",
        "      <th>2</th>\n",
        "      <td> 2008-01-14</td>\n",
        "      <td>   159</td>\n",
        "      <td> attachment_fu</td>\n",
        "    </tr>\n",
        "    <tr>\n",
        "      <th>3</th>\n",
        "      <td> 2008-01-15</td>\n",
        "      <td>     9</td>\n",
        "      <td>      microsis</td>\n",
        "    </tr>\n",
        "    <tr>\n",
        "      <th>4</th>\n",
        "      <td> 2008-01-21</td>\n",
        "      <td>     2</td>\n",
        "      <td>       markaby</td>\n",
        "    </tr>\n",
        "  </tbody>\n",
        "</table>\n",
        "</div>"
       ],
       "output_type": "pyout",
       "prompt_number": 76,
       "text": [
        "         date    f0_ repository_name\n",
        "0  2008-01-12  10946        rubinius\n",
        "1  2008-01-14     42        ambition\n",
        "2  2008-01-14    159   attachment_fu\n",
        "3  2008-01-15      9        microsis\n",
        "4  2008-01-21      2         markaby"
       ]
      }
     ],
     "prompt_number": 76
    },
    {
     "cell_type": "code",
     "collapsed": true,
     "input": [
      "resdf.to_csv('data/repos_created_100k.csv')\n",
      "\n",
      "resdf.head()"
     ],
     "language": "python",
     "metadata": {},
     "outputs": [
      {
       "html": [
        "<div style=\"max-height:1000px;max-width:1500px;overflow:auto;\">\n",
        "<table border=\"1\" class=\"dataframe\">\n",
        "  <thead>\n",
        "    <tr style=\"text-align: right;\">\n",
        "      <th></th>\n",
        "      <th>date</th>\n",
        "      <th>f0_</th>\n",
        "      <th>repository_name</th>\n",
        "    </tr>\n",
        "  </thead>\n",
        "  <tbody>\n",
        "    <tr>\n",
        "      <th>0</th>\n",
        "      <td> 2008-01-12</td>\n",
        "      <td> 10946</td>\n",
        "      <td>      rubinius</td>\n",
        "    </tr>\n",
        "    <tr>\n",
        "      <th>1</th>\n",
        "      <td> 2008-01-14</td>\n",
        "      <td>    42</td>\n",
        "      <td>      ambition</td>\n",
        "    </tr>\n",
        "    <tr>\n",
        "      <th>2</th>\n",
        "      <td> 2008-01-14</td>\n",
        "      <td>   159</td>\n",
        "      <td> attachment_fu</td>\n",
        "    </tr>\n",
        "    <tr>\n",
        "      <th>3</th>\n",
        "      <td> 2008-01-15</td>\n",
        "      <td>     9</td>\n",
        "      <td>      microsis</td>\n",
        "    </tr>\n",
        "    <tr>\n",
        "      <th>4</th>\n",
        "      <td> 2008-01-21</td>\n",
        "      <td>     2</td>\n",
        "      <td>       markaby</td>\n",
        "    </tr>\n",
        "  </tbody>\n",
        "</table>\n",
        "</div>"
       ],
       "output_type": "pyout",
       "prompt_number": 77,
       "text": [
        "         date    f0_ repository_name\n",
        "0  2008-01-12  10946        rubinius\n",
        "1  2008-01-14     42        ambition\n",
        "2  2008-01-14    159   attachment_fu\n",
        "3  2008-01-15      9        microsis\n",
        "4  2008-01-21      2         markaby"
       ]
      }
     ],
     "prompt_number": 77
    },
    {
     "cell_type": "code",
     "collapsed": false,
     "input": [
      "#only if loading locally\n",
      "resdf = pd.DataFrame.from_csv('data/repos_created_100k.csv')"
     ],
     "language": "python",
     "metadata": {},
     "outputs": [],
     "prompt_number": 58
    },
    {
     "cell_type": "code",
     "collapsed": true,
     "input": [
      "series = pd.TimeSeries(data = resdf['repository_name'])\n",
      "dti = pd.DatetimeIndex(resdf['date'])"
     ],
     "language": "python",
     "metadata": {},
     "outputs": [],
     "prompt_number": 78
    },
    {
     "cell_type": "code",
     "collapsed": true,
     "input": [
      "series.index = dti\n",
      "series.head()"
     ],
     "language": "python",
     "metadata": {},
     "outputs": [
      {
       "output_type": "pyout",
       "prompt_number": 79,
       "text": [
        "2008-01-12         rubinius\n",
        "2008-01-14         ambition\n",
        "2008-01-14    attachment_fu\n",
        "2008-01-15         microsis\n",
        "2008-01-21          markaby\n",
        "Name: repository_name"
       ]
      }
     ],
     "prompt_number": 79
    },
    {
     "cell_type": "code",
     "collapsed": true,
     "input": [
      "ms=series.to_period(freq='M')"
     ],
     "language": "python",
     "metadata": {},
     "outputs": [],
     "prompt_number": 80
    },
    {
     "cell_type": "code",
     "collapsed": true,
     "input": [
      "\n",
      "ms"
     ],
     "language": "python",
     "metadata": {},
     "outputs": [
      {
       "output_type": "pyout",
       "prompt_number": 81,
       "text": [
        "2008-01                      rubinius\n",
        "2008-01                      ambition\n",
        "2008-01                 attachment_fu\n",
        "2008-01                      microsis\n",
        "2008-01                       markaby\n",
        "2008-01                      subtlety\n",
        "2008-01              simply_versioned\n",
        "2008-01          ambitious_activeldap\n",
        "2008-02                          soup\n",
        "2008-02                         rails\n",
        "2008-02                    vanhelsing\n",
        "2008-02    rails-authorization-plugin\n",
        "2008-02                          merl\n",
        "2008-02                        tumblr\n",
        "2008-02                           sin\n",
        "...\n",
        "2012-06                   last_app\n",
        "2012-06           middleman-jammit\n",
        "2012-06                      tempo\n",
        "2012-06    qt210_ics_external_pcre\n",
        "2012-06                  FinalSnmp\n",
        "2012-06                        ZSB\n",
        "2012-06           SonataNewsBundle\n",
        "2012-06             myrepoatgithub\n",
        "2012-06                      lawdi\n",
        "2012-06          taggable-behavior\n",
        "2012-06                     marfis\n",
        "2012-06                    My_repo\n",
        "2012-06         AndroidUnForgetter\n",
        "2012-06              Concessionari\n",
        "2012-06    qt210_ics_external_qemu\n",
        "Freq: M, Name: repository_name, Length: 100000"
       ]
      }
     ],
     "prompt_number": 81
    },
    {
     "cell_type": "code",
     "collapsed": true,
     "input": [
      "ds = series.to_period(freq='D')\n",
      "ds.shape\n"
     ],
     "language": "python",
     "metadata": {},
     "outputs": [
      {
       "output_type": "pyout",
       "prompt_number": 83,
       "text": [
        "(100000,)"
       ]
      }
     ],
     "prompt_number": 83
    },
    {
     "cell_type": "code",
     "collapsed": true,
     "input": [
      "ds.head()\n",
      "ds[ds == 'jquery']"
     ],
     "language": "python",
     "metadata": {},
     "outputs": [
      {
       "output_type": "pyout",
       "prompt_number": 84,
       "text": [
        "2008-02-28    jquery\n",
        "2008-10-22    jquery\n",
        "2010-01-06    jquery\n",
        "2010-01-20    jquery\n",
        "2010-10-17    jquery\n",
        "2011-01-05    jquery\n",
        "2011-01-24    jquery\n",
        "2011-03-31    jquery\n",
        "2011-04-18    jquery\n",
        "2011-07-23    jquery\n",
        "2011-09-15    jquery\n",
        "2011-11-04    jquery\n",
        "2011-12-02    jquery\n",
        "2011-12-29    jquery\n",
        "2012-02-15    jquery\n",
        "2012-03-13    jquery\n",
        "2012-03-27    jquery\n",
        "2012-03-29    jquery\n",
        "2012-04-06    jquery\n",
        "2012-04-18    jquery\n",
        "2012-04-20    jquery\n",
        "2012-04-21    jquery\n",
        "2012-04-25    jquery\n",
        "2012-05-20    jquery\n",
        "2012-05-23    jquery\n",
        "2012-05-24    jquery\n",
        "2012-05-25    jquery\n",
        "Freq: D, Name: repository_name"
       ]
      }
     ],
     "prompt_number": 84
    },
    {
     "cell_type": "code",
     "collapsed": false,
     "input": [
      "by_months = ds.resample('m', how='count')\n",
      "by_months.plot(kind='line', label='repositories created by months')\n"
     ],
     "language": "python",
     "metadata": {},
     "outputs": [
      {
       "output_type": "pyout",
       "prompt_number": 90,
       "text": [
        "<matplotlib.axes.AxesSubplot at 0x2d670a10>"
       ]
      },
      {
       "output_type": "display_data",
       "png": "[encoded data removed]"
      }
     ],
     "prompt_number": 90
    },
    {
     "cell_type": "markdown",
     "metadata": {},
     "source": [
      "# Events per repo over time"
     ]
    },
    {
     "cell_type": "code",
     "collapsed": false,
     "input": [
      "query = \"\"\"SELECT\n",
      "  DAYOFYEAR(TIMESTAMP(repository_created_at)) as day,\n",
      "  YEAR(TIMESTAMP(repository_created_at)) as year,\n",
      "  repository_name,\n",
      "  type,\n",
      "  COUNT(*) AS daily_event_count\n",
      "FROM\n",
      "  /* Consider only approximately 1/10th of the creation dates in the entire table */\n",
      "  (SELECT repository_name, repository_created_at, type FROM [githubarchive:github.timeline]\n",
      "   WHERE (HASH(repository_created_at)%10 == 0))\n",
      "GROUP BY\n",
      "  year, day,type, repository_name\n",
      "HAVING\n",
      "  daily_event_count > 2\n",
      "ORDER BY\n",
      "  year ASC, day ASC, daily_event_count DESC; \"\"\""
     ],
     "language": "python",
     "metadata": {},
     "outputs": [],
     "prompt_number": 82
    },
    {
     "cell_type": "code",
     "collapsed": false,
     "input": [
      "events_df = gbq.query_table(query, max_rows = 100000)\n",
      "events_df.head()"
     ],
     "language": "python",
     "metadata": {},
     "outputs": [
      {
       "output_type": "stream",
       "stream": "stdout",
       "text": [
        "executing query:\n",
        "SELECT\n",
        "  DAYOFYEAR(TIMESTAMP(repository_created_at)) as day,\n",
        "  YEAR(TIMESTAMP(repository_created_at)) as year,\n",
        "  repository_name,\n",
        "  type,\n",
        "  COUNT(*) AS daily_event_count\n",
        "FROM\n",
        "  /* Consider only approximately 1/50th of the timestamps in the entire table */\n",
        "  (SELECT repository_name, repository_created_at, type FROM [githubarchive:github.timeline]\n",
        "   WHERE (HASH(repository_created_at)%10 == 0))\n",
        "GROUP BY\n",
        "  year, day,type, repository_name\n",
        "HAVING\n",
        "  daily_event_count > 2\n",
        "ORDER BY\n",
        "  year ASC, day ASC, daily_event_count DESC      LIMIT 100000;\n",
        "has a rows attribute"
       ]
      },
      {
       "output_type": "stream",
       "stream": "stdout",
       "text": [
        "\n",
        "100000"
       ]
      },
      {
       "output_type": "stream",
       "stream": "stdout",
       "text": [
        " of   100000 (100000, 5)\n"
       ]
      },
      {
       "html": [
        "<div style=\"max-height:1000px;max-width:1500px;overflow:auto;\">\n",
        "<table border=\"1\" class=\"dataframe\">\n",
        "  <thead>\n",
        "    <tr style=\"text-align: right;\">\n",
        "      <th></th>\n",
        "      <th>daily_event_count</th>\n",
        "      <th>day</th>\n",
        "      <th>repository_name</th>\n",
        "      <th>type</th>\n",
        "      <th>year</th>\n",
        "    </tr>\n",
        "  </thead>\n",
        "  <tbody>\n",
        "    <tr>\n",
        "      <th>0</th>\n",
        "      <td> 4197</td>\n",
        "      <td> 12</td>\n",
        "      <td> rubinius</td>\n",
        "      <td> IssueCommentEvent</td>\n",
        "      <td> 2008</td>\n",
        "    </tr>\n",
        "    <tr>\n",
        "      <th>1</th>\n",
        "      <td> 2170</td>\n",
        "      <td> 12</td>\n",
        "      <td> rubinius</td>\n",
        "      <td>         PushEvent</td>\n",
        "      <td> 2008</td>\n",
        "    </tr>\n",
        "    <tr>\n",
        "      <th>2</th>\n",
        "      <td> 1415</td>\n",
        "      <td> 12</td>\n",
        "      <td> rubinius</td>\n",
        "      <td>       IssuesEvent</td>\n",
        "      <td> 2008</td>\n",
        "    </tr>\n",
        "    <tr>\n",
        "      <th>3</th>\n",
        "      <td> 1096</td>\n",
        "      <td> 12</td>\n",
        "      <td> rubinius</td>\n",
        "      <td>  PullRequestEvent</td>\n",
        "      <td> 2008</td>\n",
        "    </tr>\n",
        "    <tr>\n",
        "      <th>4</th>\n",
        "      <td>  839</td>\n",
        "      <td> 12</td>\n",
        "      <td> rubinius</td>\n",
        "      <td>        WatchEvent</td>\n",
        "      <td> 2008</td>\n",
        "    </tr>\n",
        "  </tbody>\n",
        "</table>\n",
        "</div>"
       ],
       "output_type": "pyout",
       "prompt_number": 83,
       "text": [
        "  daily_event_count day repository_name               type  year\n",
        "0              4197  12        rubinius  IssueCommentEvent  2008\n",
        "1              2170  12        rubinius          PushEvent  2008\n",
        "2              1415  12        rubinius        IssuesEvent  2008\n",
        "3              1096  12        rubinius   PullRequestEvent  2008\n",
        "4               839  12        rubinius         WatchEvent  2008"
       ]
      }
     ],
     "prompt_number": 83
    },
    {
     "cell_type": "code",
     "collapsed": false,
     "input": [
      "events_df.to_csv('data/events_per_repo.csv')"
     ],
     "language": "python",
     "metadata": {},
     "outputs": [],
     "prompt_number": 84
    },
    {
     "cell_type": "code",
     "collapsed": false,
     "input": [
      "events_df = pd.DataFrame.from_csv('data/events_per_repo.csv')"
     ],
     "language": "python",
     "metadata": {},
     "outputs": [],
     "prompt_number": 4
    },
    {
     "cell_type": "code",
     "collapsed": true,
     "input": [
      "\n",
      "plt.figure()"
     ],
     "language": "python",
     "metadata": {},
     "outputs": [
      {
       "output_type": "pyout",
       "prompt_number": 5,
       "text": [
        "<matplotlib.figure.Figure at 0x3281590>"
       ]
      }
     ],
     "prompt_number": 5
    },
    {
     "cell_type": "code",
     "collapsed": true,
     "input": [
      "events_df['daily_event_count'] = events_df['daily_event_count'].astype('int32')\n",
      "events_df['day'] = events_df['day'].astype('int32')\n",
      "events_df['year'] = events_df['year'].astype('int32')"
     ],
     "language": "python",
     "metadata": {},
     "outputs": [],
     "prompt_number": 6
    },
    {
     "cell_type": "code",
     "collapsed": false,
     "input": [
      "\n",
      "events_df['day'].hist(bins=50, color='k', alpha=0.3, normed=True, by=events_df['year'])\n",
      "\n"
     ],
     "language": "python",
     "metadata": {},
     "outputs": [
      {
       "output_type": "pyout",
       "prompt_number": 29,
       "text": [
        "array([[Axes(0.1,0.7125;0.347826x0.1875),\n",
        "        Axes(0.552174,0.7125;0.347826x0.1875)],\n",
        "       [Axes(0.1,0.43125;0.347826x0.1875),\n",
        "        Axes(0.552174,0.43125;0.347826x0.1875)],\n",
        "       [Axes(0.1,0.15;0.347826x0.1875), Axes(0.552174,0.15;0.347826x0.1875)]], dtype=object)"
       ]
      },
      {
       "output_type": "display_data",
       "png": "[encoded data removed]"
      }
     ],
     "prompt_number": 29
    },
    {
     "cell_type": "code",
     "collapsed": false,
     "input": [],
     "language": "python",
     "metadata": {},
     "outputs": []
    }
   ],
   "metadata": {}
  }
 ]
}