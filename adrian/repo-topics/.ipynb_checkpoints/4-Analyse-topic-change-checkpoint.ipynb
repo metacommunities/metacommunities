{
 "metadata": {
  "name": "",
  "signature": "sha256:5b3512b999eafbc83becd74e765f89eefbb6e94e8e7c40b96d7718e875c887d6"
 },
 "nbformat": 3,
 "nbformat_minor": 0,
 "worksheets": [
  {
   "cells": [
    {
     "cell_type": "markdown",
     "metadata": {},
     "source": [
      "## Changing relations between domains over time\n",
      "\n",
      "Do domain combine differently over time?"
     ]
    },
    {
     "cell_type": "code",
     "collapsed": false,
     "input": [
      "import redis\n",
      "import matplotlib.pyplot as plt\n",
      "import seaborn\n",
      "import pandas as pd\n",
      "import re\n",
      "import itertools\n",
      "import numpy as np\n",
      "from github import Github\n"
     ],
     "language": "python",
     "metadata": {},
     "outputs": [],
     "prompt_number": 3
    },
    {
     "cell_type": "code",
     "collapsed": false,
     "input": [
      "g = Github('rian39', 'inc14ives')\n"
     ],
     "language": "python",
     "metadata": {},
     "outputs": [],
     "prompt_number": 4
    },
    {
     "cell_type": "code",
     "collapsed": false,
     "input": [
      "red  = redis.Redis(db='1')"
     ],
     "language": "python",
     "metadata": {},
     "outputs": []
    },
    {
     "cell_type": "code",
     "collapsed": false,
     "input": [
      "soc_sampe = red.srandmember('social_media', 100)\n",
      "[g.get_repo(r).created_at for r in soc_sampe]"
     ],
     "language": "python",
     "metadata": {},
     "outputs": []
    }
   ],
   "metadata": {}
  }
 ]
}