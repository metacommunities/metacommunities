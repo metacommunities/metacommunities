{
 "metadata": {
  "name": "",
  "signature": "sha256:e1e746327134cf8d30d5d221c10f300650beb720b696699b589db77c236c665c"
 },
 "nbformat": 3,
 "nbformat_minor": 0,
 "worksheets": [
  {
   "cells": [
    {
     "cell_type": "markdown",
     "metadata": {},
     "source": [
      "# Analysis of repo topic data coverage\n",
      "\n",
      "The first objective here is to see whether it is possible to account for most of the repos on github using topics gleaned from names and descriptions"
     ]
    },
    {
     "cell_type": "code",
     "collapsed": false,
     "input": [
      "import redis\n",
      "import matplotlib.pyplot as plt\n",
      "import seaborn\n",
      "import pandas as pd\n",
      "import re\n",
      "import itertools\n",
      "import numpy as np\n",
      "import time\n",
      "# import mpld3\n",
      "# mpld3.enable_notebook()"
     ],
     "language": "python",
     "metadata": {},
     "outputs": [],
     "prompt_number": 13
    },
    {
     "cell_type": "code",
     "collapsed": true,
     "input": [
      "REDIS_HOST = '127.0.0.1'"
     ],
     "language": "python",
     "metadata": {},
     "outputs": [],
     "prompt_number": 14
    },
    {
     "cell_type": "code",
     "collapsed": false,
     "input": [
      "red = redis.Redis(db='1', host=REDIS_HOST)"
     ],
     "language": "python",
     "metadata": {},
     "outputs": [],
     "prompt_number": 15
    },
    {
     "cell_type": "code",
     "collapsed": true,
     "input": [
      "#get all keys\n",
      "keys_all = set(red.keys('*'))\n",
      "#get the intersection keys\n",
      "keys_int = set(red.keys('*:*'))\n",
      "#isolate the topic keys\n",
      "keys = keys_all.difference(keys_int)\n",
      "keys = list(keys)"
     ],
     "language": "python",
     "metadata": {},
     "outputs": [],
     "prompt_number": 16
    },
    {
     "cell_type": "code",
     "collapsed": false,
     "input": [
      "sort(keys)"
     ],
     "language": "python",
     "metadata": {},
     "outputs": [
      {
       "metadata": {},
       "output_type": "pyout",
       "prompt_number": 17,
       "text": [
        "array(['api_sdk', 'books_manuals', 'compilers', 'css', 'data_statistics',\n",
        "       'databases', 'devices', 'documents', 'dotfiles', 'editors',\n",
        "       'gaming', 'geo_gis', 'git', 'icons_fonts', 'ides', 'images',\n",
        "       'integration', 'internet_protocols', 'machine_learning', 'moocs',\n",
        "       'packages', 'policy_law', 'programming_language', 'science',\n",
        "       'servers', 'social_media', 'spam', 'tests',\n",
        "       'web_frontend_javascript', 'webframeworks', 'webpages'], \n",
        "      dtype='|S23')"
       ]
      }
     ],
     "prompt_number": 17
    },
    {
     "cell_type": "code",
     "collapsed": false,
     "input": [
      "#only run if there is fresh data in the redis db\n",
      "un =red.sunionstore('repos:union', *keys)\n"
     ],
     "language": "python",
     "metadata": {},
     "outputs": []
    },
    {
     "cell_type": "code",
     "collapsed": false,
     "input": [
      "red.set('repos:union-count', un)\n",
      "print 'Account for {}% repositories of the total'.format(100*float(red.get('repos:union-count'))/float(red.get('repos:count_timeline')))"
     ],
     "language": "python",
     "metadata": {},
     "outputs": [
      {
       "output_type": "stream",
       "stream": "stdout",
       "text": [
        "Account for 54.8741072755% repositories of the total\n"
       ]
      }
     ],
     "prompt_number": 26
    },
    {
     "cell_type": "code",
     "collapsed": false,
     "input": [
      "key_sizes = {k:red.scard(k) for k in keys}\n",
      "index = key_sizes.keys()\n",
      "my_colors = 'rgbkymc'\n",
      "repos_df  = pd.DataFrame(key_sizes.values(), index = index, columns=['repo_count'])\n",
      "topic_plt = repos_df.repo_count.plot(kind='barh', color = my_colors)\n",
      "topic_plt.set_xlabel('Number of repositories')\n",
      "topic_plt.set_ylabel('Domains')\n",
      "labs = topic_plt.set_yticklabels(index)\n",
      "topic_plt.set_title('Repository topics on Github')\n"
     ],
     "language": "python",
     "metadata": {},
     "outputs": []
    },
    {
     "cell_type": "code",
     "collapsed": false,
     "input": [
      "ts = time.time()\n",
      "topic_plt.figure.savefig('figures/{}repotopics.svg'.format(ts))"
     ],
     "language": "python",
     "metadata": {},
     "outputs": [],
     "prompt_number": 12
    },
    {
     "cell_type": "markdown",
     "metadata": {},
     "source": [
      "## Intersections between topics\n",
      "\n",
      "This was the whole of the topic analysis. Not so much to find the topics on Github, but to explore how they are connected."
     ]
    },
    {
     "cell_type": "code",
     "collapsed": false,
     "input": [
      "## Possible intersections of interest\n",
      "intersects = []\n",
      "src_keys = []\n",
      "dst_keys = []\n",
      "\n",
      "for c in itertools.combinations(keys, 2):\n",
      "    src_keys.append(c[0])\n",
      "    dst_keys.append(c[1])\n",
      "    store_key = c[0]+':'+c[1]\n",
      "    intersects.append(red.sinterstore(store_key, *c))\n",
      "    fresh_intersects = True"
     ],
     "language": "python",
     "metadata": {},
     "outputs": [],
     "prompt_number": 447
    },
    {
     "cell_type": "code",
     "collapsed": false,
     "input": [
      "\n",
      "if fresh_intersects:\n",
      "    intersect_df = pd.DataFrame({'domain1':src_keys, 'domain2':dst_keys, 'intersection':intersects}, columns=['domain1', 'domain2', 'intersection'])\n",
      "    intersect_df.shape\n",
      "    #save as csv to avoid having to run the intersections again\n",
      "    intersect_df.to_csv('data/intersect_df.csv',index=False)\n",
      "    fresh_intersects = False\n",
      "else:     \n",
      "    #load from csv\n",
      "    intersect_df = pd.read_csv('data/intersect_df.csv', header=0)\n",
      "\n",
      "intersect_df = intersect_df.sort(['domain1', 'domain2'])\n"
     ],
     "language": "python",
     "metadata": {},
     "outputs": [],
     "prompt_number": 448
    },
    {
     "cell_type": "code",
     "collapsed": false,
     "input": [
      "intersect_pivot = intersect_df.pivot('domain1', 'domain2', 'intersection')\n",
      "intersect_pivot_df = intersect_pivot.fillna(value=0, inplace=False)\n",
      "\n",
      "## another way to do the same thing\n",
      "# df = intersect_df.set_index(['domain1', 'domain2'])\n",
      "# df.unstack()"
     ],
     "language": "python",
     "metadata": {},
     "outputs": [],
     "prompt_number": 449
    },
    {
     "cell_type": "code",
     "collapsed": false,
     "input": [
      "intersect_norm_df = intersect_pivot_df.apply(np.log1p)\n",
      "intersect_norm_df.to_csv('intersects.csv')\n",
      "\n",
      "print intersect_norm_df.shape\n",
      "print len(intersect_norm_df.index)\n",
      "print len(intersect_norm_df.columns)"
     ],
     "language": "python",
     "metadata": {},
     "outputs": [],
     "prompt_number": 450
    },
    {
     "cell_type": "code",
     "collapsed": false,
     "input": [
      "\n",
      "f = plt.figure(figsize = (10,10))\n",
      "sp = f.add_subplot(111)\n",
      "ax = plt.gca()\n",
      "from mpl_toolkits.axes_grid1 import make_axes_locatable\n",
      "\n",
      "data = intersect_norm_df.transpose().as_matrix()\n",
      "mat = sp.matshow(data, cmap=cm.coolwarm)\n",
      "sp.set_title('Intensity of intersections between domains (normalized)', y= 1.2)\n",
      "sp.set_xticks(range(0, intersect_norm_df.shape[0]))\n",
      "sp.set_yticks(range(0, intersect_norm_df.shape[0]))\n",
      "sp.set_yticklabels(intersect_norm_df.columns)\n",
      "sp.set_xticklabels(intersect_norm_df.index, rotation=90)\n",
      "sp.grid(b=False)\n",
      "\n",
      "divider = make_axes_locatable(ax)\n",
      "\n",
      "cax = divider.append_axes(\"right\", size=\"5%\", pad=0.1)\n",
      "\n",
      "cbar = f.colorbar(mat, ticks=[0, 6, 12], cax=cax)\n",
      "cbar.ax.set_yticklabels(['< 0', '6', '>12'])\n",
      "\n",
      "\n",
      "f.show()\n",
      "\n",
      "f.savefig('figures/intersections_normed.svg')\n"
     ],
     "language": "python",
     "metadata": {},
     "outputs": [
      {
       "metadata": {},
       "output_type": "display_data",
       "png": "[encoded data removed]",
       "text": [
        "<matplotlib.figure.Figure at 0xa3da1d0>"
       ]
      }
     ],
     "prompt_number": 456
    },
    {
     "cell_type": "markdown",
     "metadata": {},
     "source": [
      "## Anomalies in the intersections\n",
      "\n",
      "Why are there so few intersections around social media? And especially between social media and web frameworks?"
     ]
    },
    {
     "cell_type": "code",
     "collapsed": false,
     "input": [
      "intersect_df = intersect_df.set_index('domain1')"
     ],
     "language": "python",
     "metadata": {},
     "outputs": [],
     "prompt_number": 380
    },
    {
     "cell_type": "code",
     "collapsed": false,
     "input": [
      "intersect_df.ix['social_media']"
     ],
     "language": "python",
     "metadata": {},
     "outputs": [
      {
       "metadata": {},
       "output_type": "pyout",
       "prompt_number": 381,
       "text": [
        "domain2         databases\n",
        "intersection         1942\n",
        "Name: social_media, dtype: object"
       ]
      }
     ],
     "prompt_number": 381
    },
    {
     "cell_type": "code",
     "collapsed": false,
     "input": [
      "\n",
      "for i in range(1,100):\n",
      "    print socmedia.pop()"
     ],
     "language": "python",
     "metadata": {},
     "outputs": [
      {
       "output_type": "stream",
       "stream": "stdout",
       "text": [
        "orzoln/NetLogo\n",
        "GTVJones/opening-times\n",
        "AccaliaDeElementia/GoogleDriveSync\n",
        "yejinbing/sinaweibo\n",
        "csbukhari/codeigniter-google-api\n",
        "VladaPetrovic/twitter-text-php\n",
        "jsetiadarma/Google-Maps-Point-in-Polygon\n",
        "stuart007donald/linkedin-utils\n",
        "Aakanksha/c-twitter\n",
        "elenfant/mff-data-mining\n",
        "robin15/twitter-simulation\n",
        "brev/grok-test-twitter\n",
        "MPogson/TwitterBootstrapPlaygroud\n",
        "dreamer0810/googlefontdirectory\n",
        "MengWenkui/DeepLearning\n",
        "mmadhavan/facebook-sdk\n",
        "BraveSweet/facebook-php-sdk\n",
        "gimo83/TrainingCenterSystem\n",
        "adrienthebo/learning_unix\n",
        "allanbatista/Google-body-r26\n",
        "tobejl/learning\n",
        "Uzmani/twitter_oauth\n",
        "Mayaavi/android_external_sonivox\n",
        "JoostSaanen/google_maps\n",
        "tsubame2002/twitter-bootstrap-rails\n",
        "jewson/FH-Training-App-Sencha\n",
        "menthainternet/sfTwitterBootstrapPlugin\n",
        "kasterma/learningfromdata\n",
        "edivando/facebook-android-sdk\n",
        "AgencyPMG/Flickr-oAuth-API\n",
        "yourabi/twitter-typeahead-rails\n",
        "lzhmqq/facebook-android-sdk\n",
        "lost-devil/RenrenAABank\n",
        "cumiki/rails-twitter-app\n",
        "wagnergsantos/twitter-bootstrap-scaffolding\n",
        "magnetised/flickr\n",
        "trevorpower/hackerspaces-status-wall\n",
        "meownosaurus/instagram-php-sdk\n",
        "shervin001/facebook-php-sdk\n",
        "ohtaman/data_mining_algorithms\n",
        "liaokangya/Meeting\n",
        "danielxu/MHFacebookImageViewer\n",
        "bperin/facebook-php-sdk\n",
        "hpaul/Google-short\n",
        "abhinavchdhry/Bug-Prediction-Data-Mining-Scripts\n",
        "syzdykov/Vkontakte-iOS-SDK\n",
        "mayank171986/google-api-nodejs-client\n",
        "slde-rorschach/FOSFacebookBundle\n",
        "easydigitaldownloads/EDD-Recount-Earnings\n",
        "straup/js-flickr-api\n",
        "pratikshapatil/facebook-php-sdk\n",
        "trainingwheels/trainingwheels\n",
        "geko100/google-apis\n",
        "onlineprabhakar/Facebook-oauth\n",
        "TacticalCode/arduino-ledmatrix-multiplexing\n",
        "chemikpil/planning-poker\n",
        "guanle/MogileFS-Server\n",
        "pehentun/training-day\n",
        "galjarek/GitHubTraining\n",
        "Kumiankka/RunningInDarkness\n",
        "tdeekens/delicious-pos-app\n",
        "neilmercer-examtime/twitter-bootstrap-sample-page-layouts\n",
        "andli0626/IOS_App_RenRen\n",
        "aditya-raj/agorava-facebook\n",
        "jamesward/twitter-search-proxy\n",
        "kaoruyamabe/traning_in_DeNA\n",
        "joseph2000/facebook-android-sdk\n",
        "carlhoerberg/twitter-beanstalk-websocket-example\n",
        "jjangmes/pinteresting\n",
        "adityajoshi5/FlickrDesktop\n",
        "pyzen/google-chrome-extensions\n",
        "samcro93/pinteresting1\n",
        "TVPT/VoxelBorder\n",
        "oyiadin/alistening\n",
        "rfather/Stattraining\n",
        "Jonty/MogileFS-Plugin-SortByWait\n",
        "rngtng/soundcloud-widgetify\n",
        "spacespike/SPACESPIKE\n",
        "xwend/trainningGit\n",
        "velvetGoldmine/startLearningWebProgramming\n",
        "isheeler/E-learning-text-templates\n",
        "NavyAnt24/twitter_client\n",
        "cpsubrian/node-training\n",
        "karimkhanp/linkedInScraper\n",
        "Mesidin/LearningUnrealDevelopmentKit\n",
        "kristapsk/chrome-googleback\n",
        "aviindub/Twitter-Word-Tracker\n",
        "MoonMaker/Machine-Learning\n",
        "guilhermeteodoro/learning\n",
        "azedo/Google-Spreadsheet-for-movie-production\n",
        "siuying/MGTwitterEngine\n",
        "joefearnley/twitter_php_bot\n",
        "cjtalbot/AStarPathPlanningApp\n",
        "enthusiastick/korning\n",
        "struys/facebook_test\n",
        "baldrailers/linkedin\n",
        "WaYdotNET/grunt-google-cdn\n",
        "girak/twitter\n",
        "edrobap/FacebookSDK\n"
       ]
      }
     ],
     "prompt_number": 382
    },
    {
     "cell_type": "code",
     "collapsed": false,
     "input": [
      "%load_ext rmagic"
     ],
     "language": "python",
     "metadata": {},
     "outputs": [
      {
       "output_type": "stream",
       "stream": "stdout",
       "text": [
        "The rmagic extension is already loaded. To reload it, use:\n",
        "  %reload_ext rmagic\n"
       ]
      }
     ],
     "prompt_number": 383
    },
    {
     "cell_type": "code",
     "collapsed": false,
     "input": [
      "int_m  = intersect_pivot_df.as_matrix()\n",
      "print(type(int_m))\n",
      "%Rpush int_m"
     ],
     "language": "python",
     "metadata": {},
     "outputs": [
      {
       "output_type": "stream",
       "stream": "stdout",
       "text": [
        "<type 'numpy.ndarray'>\n"
       ]
      }
     ],
     "prompt_number": 384
    },
    {
     "cell_type": "code",
     "collapsed": false,
     "input": [
      "%%R\n",
      "xr=chisq.test(int_m)\n",
      "print(summary(xr$p.value))\n",
      "\n"
     ],
     "language": "python",
     "metadata": {},
     "outputs": [
      {
       "metadata": {},
       "output_type": "display_data",
       "text": [
        "   Min. 1st Qu.  Median    Mean 3rd Qu.    Max. \n",
        "      0       0       0       0       0       0 \n"
       ]
      }
     ],
     "prompt_number": 386
    },
    {
     "cell_type": "code",
     "collapsed": false,
     "input": [],
     "language": "python",
     "metadata": {},
     "outputs": []
    }
   ],
   "metadata": {}
  }
 ]
}