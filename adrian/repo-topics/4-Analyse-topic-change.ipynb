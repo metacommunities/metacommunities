{
 "metadata": {
  "name": "",
  "signature": "sha256:0be4d01a894d793a963cd3f2f2e47c588cee5acad3a44ebaa7fd7051aa92a628"
 },
 "nbformat": 3,
 "nbformat_minor": 0,
 "worksheets": [
  {
   "cells": [
    {
     "cell_type": "markdown",
     "metadata": {},
     "source": [
      "## Changing relations between domains over time\n",
      "\n",
      "Do domain combine differently over time?"
     ]
    },
    {
     "cell_type": "code",
     "collapsed": false,
     "input": [
      "%load_ext autoreload\n",
      "%autoreload 2"
     ],
     "language": "python",
     "metadata": {},
     "outputs": [],
     "prompt_number": 1
    },
    {
     "cell_type": "code",
     "collapsed": false,
     "input": [
      "import redis\n",
      "import matplotlib.pyplot as plt\n",
      "import seaborn\n",
      "import pandas as pd\n",
      "import re\n",
      "import itertools\n",
      "import numpy as np\n",
      "import ConfigParser\n",
      "import github as gh\n"
     ],
     "language": "python",
     "metadata": {},
     "outputs": [],
     "prompt_number": 2
    },
    {
     "cell_type": "code",
     "collapsed": false,
     "input": [
      "sys.path.append('..')\n",
      "import RedisRepos as rr"
     ],
     "language": "python",
     "metadata": {},
     "outputs": [],
     "prompt_number": 3
    },
    {
     "cell_type": "code",
     "collapsed": false,
     "input": [
      "config = ConfigParser.ConfigParser()\n",
      "config.read('/home/mackenza/.history_git/settings.conf')\n",
      "\n",
      "user = config.get('github', 'user')\n",
      "password = config.get('github', 'password')\n",
      "gha = gh.Github(user, password)\n"
     ],
     "language": "python",
     "metadata": {},
     "outputs": [],
     "prompt_number": 8
    },
    {
     "cell_type": "code",
     "collapsed": false,
     "input": [
      "red  = redis.Redis(db='1')\n",
      "rrr = rr.Repos()"
     ],
     "language": "python",
     "metadata": {},
     "outputs": [],
     "prompt_number": 35
    },
    {
     "cell_type": "code",
     "collapsed": false,
     "input": [
      "soc_sampe = rrr.load_repo_collection('repos:social_media')"
     ],
     "language": "python",
     "metadata": {},
     "outputs": [
      {
       "output_type": "stream",
       "stream": "stdout",
       "text": [
        "using redis to get repo names\n"
       ]
      }
     ],
     "prompt_number": 36
    },
    {
     "cell_type": "code",
     "collapsed": false,
     "input": [
      "soc_sampe[0:10]"
     ],
     "language": "python",
     "metadata": {},
     "outputs": [
      {
       "metadata": {},
       "output_type": "pyout",
       "prompt_number": 37,
       "text": [
        "['ohtaman/data_mining_algorithms',\n",
        " 'fourq/google-drive-ruby',\n",
        " 'gregcarrart/google-map-api',\n",
        " 'alcfstiger/facebook-php-sdk',\n",
        " 'jiangcx009/morning',\n",
        " 'meganxoxo/www.facebook.co.uk',\n",
        " 'surindergithub/facebookapp',\n",
        " 'seocore/switchvox',\n",
        " 'abh1nav/twitter-node',\n",
        " 'bluepeppers/googlefromdesktop']"
       ]
      }
     ],
     "prompt_number": 37
    },
    {
     "cell_type": "code",
     "collapsed": true,
     "input": [
      "# soc_sampe = red.srandmember('social_media', 100)\n",
      "for i in soc_sampe[:10]:\n",
      "    repos = gha.get_repo(i)\n",
      "    print repos.created_at\n"
     ],
     "language": "python",
     "metadata": {},
     "outputs": [
      {
       "output_type": "stream",
       "stream": "stdout",
       "text": [
        "2013-08-08 02:25:01\n",
        "2013-07-23 01:57:21"
       ]
      },
      {
       "output_type": "stream",
       "stream": "stdout",
       "text": [
        "\n",
        "2013-05-05 21:49:34"
       ]
      },
      {
       "output_type": "stream",
       "stream": "stdout",
       "text": [
        "\n",
        "2014-01-15 02:05:40"
       ]
      },
      {
       "output_type": "stream",
       "stream": "stdout",
       "text": [
        "\n",
        "2013-10-10 10:11:28"
       ]
      },
      {
       "output_type": "stream",
       "stream": "stdout",
       "text": [
        "\n",
        "2013-03-08 11:40:38"
       ]
      },
      {
       "output_type": "stream",
       "stream": "stdout",
       "text": [
        "\n",
        "2013-02-23 18:09:36"
       ]
      },
      {
       "output_type": "stream",
       "stream": "stdout",
       "text": [
        "\n",
        "2012-07-19 09:36:44"
       ]
      },
      {
       "output_type": "stream",
       "stream": "stdout",
       "text": [
        "\n",
        "2011-08-19 23:24:29"
       ]
      },
      {
       "output_type": "stream",
       "stream": "stdout",
       "text": [
        "\n",
        "2010-04-10 17:42:26"
       ]
      },
      {
       "output_type": "stream",
       "stream": "stdout",
       "text": [
        "\n"
       ]
      }
     ],
     "prompt_number": 38
    }
   ],
   "metadata": {}
  }
 ]
}