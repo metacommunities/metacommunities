{
 "metadata": {
  "name": ""
 },
 "nbformat": 3,
 "nbformat_minor": 0,
 "worksheets": [
  {
   "cells": [
    {
     "cell_type": "markdown",
     "metadata": {},
     "source": [
      "# A series of attempts to map what repos contain"
     ]
    },
    {
     "cell_type": "code",
     "collapsed": false,
     "input": [
      "%load_ext autoreload\n",
      "%autoreload 2"
     ],
     "language": "python",
     "metadata": {},
     "outputs": [],
     "prompt_number": 1
    },
    {
     "cell_type": "code",
     "collapsed": false,
     "input": [
      "\n",
      "import sys\n",
      "sys.path.append('..')\n",
      "import bq\n",
      "import github_api_data as gad\n",
      "import github as gh\n",
      "import google_bigquery_access as gba\n",
      "\n",
      "import pandas as pd\n",
      "import numpy as np\n",
      "import datetime as dt\n",
      "import matplotlib.pyplot as plt\n",
      "import seaborn\n",
      "import gensim as gs\n",
      "import MySQLdb\n",
      "import nltk\n",
      "# import lsh\n",
      "from ggplot import *\n",
      "import requests\n",
      "import json"
     ],
     "language": "python",
     "metadata": {},
     "outputs": [],
     "prompt_number": 29
    },
    {
     "cell_type": "markdown",
     "metadata": {},
     "source": [
      "## Popular repo names and what they say\n"
     ]
    },
    {
     "cell_type": "code",
     "collapsed": false,
     "input": [
      "client = bq.Client.Get()\n",
      "\n",
      "query = \"select * from metacommunities:github_explore.Repo_Names_Popular order by frequency desc\"\n"
     ],
     "language": "python",
     "metadata": {},
     "outputs": [],
     "prompt_number": 56
    },
    {
     "cell_type": "code",
     "collapsed": true,
     "input": [
      "fields, data = client.ReadSchemaAndRows(client.Query(query)['configuration']['query']['destinationTable'], max_rows = 1000000)\n",
      "colnames = [f['name'] for f in fields]"
     ],
     "language": "python",
     "metadata": {},
     "outputs": [
      {
       "output_type": "stream",
       "stream": "stdout",
       "text": [
        "\r",
        "Waiting on bqjob_r5bf67929a625fc58_00000144c6c3aa62_7 ... (0s) Current status: RUNNING "
       ]
      },
      {
       "output_type": "stream",
       "stream": "stdout",
       "text": [
        "\r",
        "Waiting on bqjob_r5bf67929a625fc58_00000144c6c3aa62_7 ... (1s) Current status: RUNNING "
       ]
      },
      {
       "output_type": "stream",
       "stream": "stdout",
       "text": [
        "\r",
        "Waiting on bqjob_r5bf67929a625fc58_00000144c6c3aa62_7 ... (4s) Current status: RUNNING "
       ]
      },
      {
       "output_type": "stream",
       "stream": "stdout",
       "text": [
        "\r",
        "Waiting on bqjob_r5bf67929a625fc58_00000144c6c3aa62_7 ... (6s) Current status: RUNNING "
       ]
      },
      {
       "output_type": "stream",
       "stream": "stdout",
       "text": [
        "\r",
        "Waiting on bqjob_r5bf67929a625fc58_00000144c6c3aa62_7 ... (7s) Current status: RUNNING "
       ]
      },
      {
       "output_type": "stream",
       "stream": "stdout",
       "text": [
        "\r",
        "Waiting on bqjob_r5bf67929a625fc58_00000144c6c3aa62_7 ... (8s) Current status: RUNNING "
       ]
      },
      {
       "output_type": "stream",
       "stream": "stdout",
       "text": [
        "\r",
        "Waiting on bqjob_r5bf67929a625fc58_00000144c6c3aa62_7 ... (9s) Current status: RUNNING "
       ]
      },
      {
       "output_type": "stream",
       "stream": "stdout",
       "text": [
        "\r",
        "Waiting on bqjob_r5bf67929a625fc58_00000144c6c3aa62_7 ... (11s) Current status: RUNNING "
       ]
      },
      {
       "output_type": "stream",
       "stream": "stdout",
       "text": [
        "\r",
        "Waiting on bqjob_r5bf67929a625fc58_00000144c6c3aa62_7 ... (12s) Current status: RUNNING "
       ]
      },
      {
       "output_type": "stream",
       "stream": "stdout",
       "text": [
        "\r",
        "Waiting on bqjob_r5bf67929a625fc58_00000144c6c3aa62_7 ... (13s) Current status: RUNNING "
       ]
      },
      {
       "output_type": "stream",
       "stream": "stdout",
       "text": [
        "\r",
        "Waiting on bqjob_r5bf67929a625fc58_00000144c6c3aa62_7 ... (14s) Current status: RUNNING "
       ]
      },
      {
       "output_type": "stream",
       "stream": "stdout",
       "text": [
        "\r",
        "Waiting on bqjob_r5bf67929a625fc58_00000144c6c3aa62_7 ... (15s) Current status: RUNNING "
       ]
      },
      {
       "output_type": "stream",
       "stream": "stdout",
       "text": [
        "\r",
        "Waiting on bqjob_r5bf67929a625fc58_00000144c6c3aa62_7 ... (16s) Current status: RUNNING "
       ]
      },
      {
       "output_type": "stream",
       "stream": "stdout",
       "text": [
        "\r",
        "Waiting on bqjob_r5bf67929a625fc58_00000144c6c3aa62_7 ... (17s) Current status: RUNNING "
       ]
      },
      {
       "output_type": "stream",
       "stream": "stdout",
       "text": [
        "\r",
        "Waiting on bqjob_r5bf67929a625fc58_00000144c6c3aa62_7 ... (18s) Current status: RUNNING "
       ]
      },
      {
       "ename": "IncompleteRead",
       "evalue": "IncompleteRead(203370 bytes read)",
       "output_type": "pyerr",
       "traceback": [
        "\u001b[1;31m---------------------------------------------------------------------------\u001b[0m\n\u001b[1;31mIncompleteRead\u001b[0m                            Traceback (most recent call last)",
        "\u001b[1;32m<ipython-input-59-50c9bea19921>\u001b[0m in \u001b[0;36m<module>\u001b[1;34m()\u001b[0m\n\u001b[1;32m----> 1\u001b[1;33m \u001b[0mfields\u001b[0m\u001b[1;33m,\u001b[0m \u001b[0mdata\u001b[0m \u001b[1;33m=\u001b[0m \u001b[0mclient\u001b[0m\u001b[1;33m.\u001b[0m\u001b[0mReadSchemaAndRows\u001b[0m\u001b[1;33m(\u001b[0m\u001b[0mclient\u001b[0m\u001b[1;33m.\u001b[0m\u001b[0mQuery\u001b[0m\u001b[1;33m(\u001b[0m\u001b[0mquery\u001b[0m\u001b[1;33m)\u001b[0m\u001b[1;33m[\u001b[0m\u001b[1;34m'configuration'\u001b[0m\u001b[1;33m]\u001b[0m\u001b[1;33m[\u001b[0m\u001b[1;34m'query'\u001b[0m\u001b[1;33m]\u001b[0m\u001b[1;33m[\u001b[0m\u001b[1;34m'destinationTable'\u001b[0m\u001b[1;33m]\u001b[0m\u001b[1;33m,\u001b[0m \u001b[0mmax_rows\u001b[0m \u001b[1;33m=\u001b[0m \u001b[1;36m1000000\u001b[0m\u001b[1;33m)\u001b[0m\u001b[1;33m\u001b[0m\u001b[0m\n\u001b[0m\u001b[0;32m      2\u001b[0m \u001b[0mcolnames\u001b[0m \u001b[1;33m=\u001b[0m \u001b[1;33m[\u001b[0m\u001b[0mf\u001b[0m\u001b[1;33m[\u001b[0m\u001b[1;34m'name'\u001b[0m\u001b[1;33m]\u001b[0m \u001b[1;32mfor\u001b[0m \u001b[0mf\u001b[0m \u001b[1;32min\u001b[0m \u001b[0mfields\u001b[0m\u001b[1;33m]\u001b[0m\u001b[1;33m\u001b[0m\u001b[0m\n",
        "\u001b[1;32m/usr/local/lib/python2.7/dist-packages/bigquery_client.pyc\u001b[0m in \u001b[0;36mReadSchemaAndRows\u001b[1;34m(self, table_dict, start_row, max_rows)\u001b[0m\n\u001b[0;32m    784\u001b[0m     \u001b[0mtable_ref\u001b[0m \u001b[1;33m=\u001b[0m \u001b[0mApiClientHelper\u001b[0m\u001b[1;33m.\u001b[0m\u001b[0mTableReference\u001b[0m\u001b[1;33m.\u001b[0m\u001b[0mCreate\u001b[0m\u001b[1;33m(\u001b[0m\u001b[1;33m**\u001b[0m\u001b[0mtable_dict\u001b[0m\u001b[1;33m)\u001b[0m\u001b[1;33m\u001b[0m\u001b[0m\n\u001b[0;32m    785\u001b[0m     return _TableTableReader(self.apiclient, self.max_rows_per_request,\n\u001b[1;32m--> 786\u001b[1;33m                              table_ref).ReadSchemaAndRows(start_row, max_rows)\n\u001b[0m\u001b[0;32m    787\u001b[0m \u001b[1;33m\u001b[0m\u001b[0m\n\u001b[0;32m    788\u001b[0m   def ReadSchemaAndJobRows(self, job_dict, start_row=0,\n",
        "\u001b[1;32m/usr/local/lib/python2.7/dist-packages/bigquery_client.pyc\u001b[0m in \u001b[0;36mReadSchemaAndRows\u001b[1;34m(self, start_row, max_rows)\u001b[0m\n\u001b[0;32m   2080\u001b[0m           \u001b[0mNone\u001b[0m \u001b[1;32mif\u001b[0m \u001b[0mpage_token\u001b[0m \u001b[1;32melse\u001b[0m \u001b[0mstart_row\u001b[0m\u001b[1;33m,\u001b[0m\u001b[1;33m\u001b[0m\u001b[0m\n\u001b[0;32m   2081\u001b[0m           \u001b[0mmax_rows\u001b[0m\u001b[1;33m=\u001b[0m\u001b[0mNone\u001b[0m \u001b[1;32mif\u001b[0m \u001b[0mpage_token\u001b[0m \u001b[1;32melse\u001b[0m \u001b[0mrows_to_read\u001b[0m\u001b[1;33m,\u001b[0m\u001b[1;33m\u001b[0m\u001b[0m\n\u001b[1;32m-> 2082\u001b[1;33m           page_token=page_token)\n\u001b[0m\u001b[0;32m   2083\u001b[0m       \u001b[1;32mif\u001b[0m \u001b[1;32mnot\u001b[0m \u001b[0mschema\u001b[0m \u001b[1;32mand\u001b[0m \u001b[0mcurrent_schema\u001b[0m\u001b[1;33m:\u001b[0m\u001b[1;33m\u001b[0m\u001b[0m\n\u001b[0;32m   2084\u001b[0m         \u001b[0mschema\u001b[0m \u001b[1;33m=\u001b[0m \u001b[0mcurrent_schema\u001b[0m\u001b[1;33m.\u001b[0m\u001b[0mget\u001b[0m\u001b[1;33m(\u001b[0m\u001b[1;34m'fields'\u001b[0m\u001b[1;33m,\u001b[0m \u001b[1;33m{\u001b[0m\u001b[1;33m}\u001b[0m\u001b[1;33m)\u001b[0m\u001b[1;33m\u001b[0m\u001b[0m\n",
        "\u001b[1;32m/usr/local/lib/python2.7/dist-packages/bigquery_client.pyc\u001b[0m in \u001b[0;36m_ReadOnePage\u001b[1;34m(self, start_row, max_rows, page_token)\u001b[0m\n\u001b[0;32m   2143\u001b[0m     \u001b[1;32melse\u001b[0m\u001b[1;33m:\u001b[0m\u001b[1;33m\u001b[0m\u001b[0m\n\u001b[0;32m   2144\u001b[0m       \u001b[0mkwds\u001b[0m\u001b[1;33m[\u001b[0m\u001b[1;34m'startIndex'\u001b[0m\u001b[1;33m]\u001b[0m \u001b[1;33m=\u001b[0m \u001b[0mstart_row\u001b[0m\u001b[1;33m\u001b[0m\u001b[0m\n\u001b[1;32m-> 2145\u001b[1;33m     \u001b[0mdata\u001b[0m \u001b[1;33m=\u001b[0m \u001b[0mself\u001b[0m\u001b[1;33m.\u001b[0m\u001b[0m_apiclient\u001b[0m\u001b[1;33m.\u001b[0m\u001b[0mtabledata\u001b[0m\u001b[1;33m(\u001b[0m\u001b[1;33m)\u001b[0m\u001b[1;33m.\u001b[0m\u001b[0mlist\u001b[0m\u001b[1;33m(\u001b[0m\u001b[1;33m**\u001b[0m\u001b[0mkwds\u001b[0m\u001b[1;33m)\u001b[0m\u001b[1;33m.\u001b[0m\u001b[0mexecute\u001b[0m\u001b[1;33m(\u001b[0m\u001b[1;33m)\u001b[0m\u001b[1;33m\u001b[0m\u001b[0m\n\u001b[0m\u001b[0;32m   2146\u001b[0m     \u001b[0mpage_token\u001b[0m \u001b[1;33m=\u001b[0m \u001b[0mdata\u001b[0m\u001b[1;33m.\u001b[0m\u001b[0mget\u001b[0m\u001b[1;33m(\u001b[0m\u001b[1;34m'pageToken'\u001b[0m\u001b[1;33m,\u001b[0m \u001b[0mNone\u001b[0m\u001b[1;33m)\u001b[0m\u001b[1;33m\u001b[0m\u001b[0m\n\u001b[0;32m   2147\u001b[0m     \u001b[0mrows\u001b[0m \u001b[1;33m=\u001b[0m \u001b[0mdata\u001b[0m\u001b[1;33m.\u001b[0m\u001b[0mget\u001b[0m\u001b[1;33m(\u001b[0m\u001b[1;34m'rows'\u001b[0m\u001b[1;33m,\u001b[0m \u001b[1;33m[\u001b[0m\u001b[1;33m]\u001b[0m\u001b[1;33m)\u001b[0m\u001b[1;33m\u001b[0m\u001b[0m\n",
        "\u001b[1;32m/usr/local/lib/python2.7/dist-packages/bigquery_client.pyc\u001b[0m in \u001b[0;36mexecute\u001b[1;34m(self, **kwds)\u001b[0m\n\u001b[0;32m    308\u001b[0m   \u001b[1;32mdef\u001b[0m \u001b[0mexecute\u001b[0m\u001b[1;33m(\u001b[0m\u001b[0mself\u001b[0m\u001b[1;33m,\u001b[0m \u001b[1;33m**\u001b[0m\u001b[0mkwds\u001b[0m\u001b[1;33m)\u001b[0m\u001b[1;33m:\u001b[0m  \u001b[1;31m# pylint: disable=g-bad-name\u001b[0m\u001b[1;33m\u001b[0m\u001b[0m\n\u001b[0;32m    309\u001b[0m     \u001b[1;32mtry\u001b[0m\u001b[1;33m:\u001b[0m\u001b[1;33m\u001b[0m\u001b[0m\n\u001b[1;32m--> 310\u001b[1;33m       \u001b[1;32mreturn\u001b[0m \u001b[0msuper\u001b[0m\u001b[1;33m(\u001b[0m\u001b[0mBigqueryHttp\u001b[0m\u001b[1;33m,\u001b[0m \u001b[0mself\u001b[0m\u001b[1;33m)\u001b[0m\u001b[1;33m.\u001b[0m\u001b[0mexecute\u001b[0m\u001b[1;33m(\u001b[0m\u001b[1;33m**\u001b[0m\u001b[0mkwds\u001b[0m\u001b[1;33m)\u001b[0m\u001b[1;33m\u001b[0m\u001b[0m\n\u001b[0m\u001b[0;32m    311\u001b[0m     \u001b[1;32mexcept\u001b[0m \u001b[0mapiclient\u001b[0m\u001b[1;33m.\u001b[0m\u001b[0merrors\u001b[0m\u001b[1;33m.\u001b[0m\u001b[0mHttpError\u001b[0m\u001b[1;33m,\u001b[0m \u001b[0me\u001b[0m\u001b[1;33m:\u001b[0m\u001b[1;33m\u001b[0m\u001b[0m\n\u001b[0;32m    312\u001b[0m       \u001b[1;31m# TODO(user): Remove this when apiclient supports logging\u001b[0m\u001b[1;33m\u001b[0m\u001b[1;33m\u001b[0m\u001b[0m\n",
        "\u001b[1;32m/usr/local/lib/python2.7/dist-packages/oauth2client/util.pyc\u001b[0m in \u001b[0;36mpositional_wrapper\u001b[1;34m(*args, **kwargs)\u001b[0m\n\u001b[0;32m    130\u001b[0m         \u001b[1;32melse\u001b[0m\u001b[1;33m:\u001b[0m \u001b[1;31m# IGNORE\u001b[0m\u001b[1;33m\u001b[0m\u001b[0m\n\u001b[0;32m    131\u001b[0m           \u001b[1;32mpass\u001b[0m\u001b[1;33m\u001b[0m\u001b[0m\n\u001b[1;32m--> 132\u001b[1;33m       \u001b[1;32mreturn\u001b[0m \u001b[0mwrapped\u001b[0m\u001b[1;33m(\u001b[0m\u001b[1;33m*\u001b[0m\u001b[0margs\u001b[0m\u001b[1;33m,\u001b[0m \u001b[1;33m**\u001b[0m\u001b[0mkwargs\u001b[0m\u001b[1;33m)\u001b[0m\u001b[1;33m\u001b[0m\u001b[0m\n\u001b[0m\u001b[0;32m    133\u001b[0m     \u001b[1;32mreturn\u001b[0m \u001b[0mpositional_wrapper\u001b[0m\u001b[1;33m\u001b[0m\u001b[0m\n\u001b[0;32m    134\u001b[0m \u001b[1;33m\u001b[0m\u001b[0m\n",
        "\u001b[1;32m/usr/local/lib/python2.7/dist-packages/apiclient/http.pyc\u001b[0m in \u001b[0;36mexecute\u001b[1;34m(self, http, num_retries)\u001b[0m\n\u001b[0;32m    714\u001b[0m \u001b[1;33m\u001b[0m\u001b[0m\n\u001b[0;32m    715\u001b[0m       resp, content = http.request(str(self.uri), method=str(self.method),\n\u001b[1;32m--> 716\u001b[1;33m                                    body=self.body, headers=self.headers)\n\u001b[0m\u001b[0;32m    717\u001b[0m       \u001b[1;32mif\u001b[0m \u001b[0mresp\u001b[0m\u001b[1;33m.\u001b[0m\u001b[0mstatus\u001b[0m \u001b[1;33m<\u001b[0m \u001b[1;36m500\u001b[0m\u001b[1;33m:\u001b[0m\u001b[1;33m\u001b[0m\u001b[0m\n\u001b[0;32m    718\u001b[0m         \u001b[1;32mbreak\u001b[0m\u001b[1;33m\u001b[0m\u001b[0m\n",
        "\u001b[1;32m/usr/local/lib/python2.7/dist-packages/oauth2client/util.pyc\u001b[0m in \u001b[0;36mpositional_wrapper\u001b[1;34m(*args, **kwargs)\u001b[0m\n\u001b[0;32m    130\u001b[0m         \u001b[1;32melse\u001b[0m\u001b[1;33m:\u001b[0m \u001b[1;31m# IGNORE\u001b[0m\u001b[1;33m\u001b[0m\u001b[0m\n\u001b[0;32m    131\u001b[0m           \u001b[1;32mpass\u001b[0m\u001b[1;33m\u001b[0m\u001b[0m\n\u001b[1;32m--> 132\u001b[1;33m       \u001b[1;32mreturn\u001b[0m \u001b[0mwrapped\u001b[0m\u001b[1;33m(\u001b[0m\u001b[1;33m*\u001b[0m\u001b[0margs\u001b[0m\u001b[1;33m,\u001b[0m \u001b[1;33m**\u001b[0m\u001b[0mkwargs\u001b[0m\u001b[1;33m)\u001b[0m\u001b[1;33m\u001b[0m\u001b[0m\n\u001b[0m\u001b[0;32m    133\u001b[0m     \u001b[1;32mreturn\u001b[0m \u001b[0mpositional_wrapper\u001b[0m\u001b[1;33m\u001b[0m\u001b[0m\n\u001b[0;32m    134\u001b[0m \u001b[1;33m\u001b[0m\u001b[0m\n",
        "\u001b[1;32m/usr/local/lib/python2.7/dist-packages/oauth2client/client.pyc\u001b[0m in \u001b[0;36mnew_request\u001b[1;34m(uri, method, body, headers, redirections, connection_type)\u001b[0m\n\u001b[0;32m    488\u001b[0m \u001b[1;33m\u001b[0m\u001b[0m\n\u001b[0;32m    489\u001b[0m       resp, content = request_orig(uri, method, body, clean_headers(headers),\n\u001b[1;32m--> 490\u001b[1;33m                                    redirections, connection_type)\n\u001b[0m\u001b[0;32m    491\u001b[0m \u001b[1;33m\u001b[0m\u001b[0m\n\u001b[0;32m    492\u001b[0m       \u001b[1;32mif\u001b[0m \u001b[0mresp\u001b[0m\u001b[1;33m.\u001b[0m\u001b[0mstatus\u001b[0m \u001b[1;32min\u001b[0m \u001b[0mREFRESH_STATUS_CODES\u001b[0m\u001b[1;33m:\u001b[0m\u001b[1;33m\u001b[0m\u001b[0m\n",
        "\u001b[1;32m/usr/local/lib/python2.7/dist-packages/httplib2/__init__.pyc\u001b[0m in \u001b[0;36mrequest\u001b[1;34m(self, uri, method, body, headers, redirections, connection_type)\u001b[0m\n\u001b[0;32m   1568\u001b[0m                     \u001b[0mcontent\u001b[0m \u001b[1;33m=\u001b[0m \u001b[1;34m\"\"\u001b[0m\u001b[1;33m\u001b[0m\u001b[0m\n\u001b[0;32m   1569\u001b[0m                 \u001b[1;32melse\u001b[0m\u001b[1;33m:\u001b[0m\u001b[1;33m\u001b[0m\u001b[0m\n\u001b[1;32m-> 1570\u001b[1;33m                     \u001b[1;33m(\u001b[0m\u001b[0mresponse\u001b[0m\u001b[1;33m,\u001b[0m \u001b[0mcontent\u001b[0m\u001b[1;33m)\u001b[0m \u001b[1;33m=\u001b[0m \u001b[0mself\u001b[0m\u001b[1;33m.\u001b[0m\u001b[0m_request\u001b[0m\u001b[1;33m(\u001b[0m\u001b[0mconn\u001b[0m\u001b[1;33m,\u001b[0m \u001b[0mauthority\u001b[0m\u001b[1;33m,\u001b[0m \u001b[0muri\u001b[0m\u001b[1;33m,\u001b[0m \u001b[0mrequest_uri\u001b[0m\u001b[1;33m,\u001b[0m \u001b[0mmethod\u001b[0m\u001b[1;33m,\u001b[0m \u001b[0mbody\u001b[0m\u001b[1;33m,\u001b[0m \u001b[0mheaders\u001b[0m\u001b[1;33m,\u001b[0m \u001b[0mredirections\u001b[0m\u001b[1;33m,\u001b[0m \u001b[0mcachekey\u001b[0m\u001b[1;33m)\u001b[0m\u001b[1;33m\u001b[0m\u001b[0m\n\u001b[0m\u001b[0;32m   1571\u001b[0m         \u001b[1;32mexcept\u001b[0m \u001b[0mException\u001b[0m\u001b[1;33m,\u001b[0m \u001b[0me\u001b[0m\u001b[1;33m:\u001b[0m\u001b[1;33m\u001b[0m\u001b[0m\n\u001b[0;32m   1572\u001b[0m             \u001b[1;32mif\u001b[0m \u001b[0mself\u001b[0m\u001b[1;33m.\u001b[0m\u001b[0mforce_exception_to_status_code\u001b[0m\u001b[1;33m:\u001b[0m\u001b[1;33m\u001b[0m\u001b[0m\n",
        "\u001b[1;32m/usr/local/lib/python2.7/dist-packages/httplib2/__init__.pyc\u001b[0m in \u001b[0;36m_request\u001b[1;34m(self, conn, host, absolute_uri, request_uri, method, body, headers, redirections, cachekey)\u001b[0m\n\u001b[0;32m   1315\u001b[0m             \u001b[0mauth\u001b[0m\u001b[1;33m.\u001b[0m\u001b[0mrequest\u001b[0m\u001b[1;33m(\u001b[0m\u001b[0mmethod\u001b[0m\u001b[1;33m,\u001b[0m \u001b[0mrequest_uri\u001b[0m\u001b[1;33m,\u001b[0m \u001b[0mheaders\u001b[0m\u001b[1;33m,\u001b[0m \u001b[0mbody\u001b[0m\u001b[1;33m)\u001b[0m\u001b[1;33m\u001b[0m\u001b[0m\n\u001b[0;32m   1316\u001b[0m \u001b[1;33m\u001b[0m\u001b[0m\n\u001b[1;32m-> 1317\u001b[1;33m         \u001b[1;33m(\u001b[0m\u001b[0mresponse\u001b[0m\u001b[1;33m,\u001b[0m \u001b[0mcontent\u001b[0m\u001b[1;33m)\u001b[0m \u001b[1;33m=\u001b[0m \u001b[0mself\u001b[0m\u001b[1;33m.\u001b[0m\u001b[0m_conn_request\u001b[0m\u001b[1;33m(\u001b[0m\u001b[0mconn\u001b[0m\u001b[1;33m,\u001b[0m \u001b[0mrequest_uri\u001b[0m\u001b[1;33m,\u001b[0m \u001b[0mmethod\u001b[0m\u001b[1;33m,\u001b[0m \u001b[0mbody\u001b[0m\u001b[1;33m,\u001b[0m \u001b[0mheaders\u001b[0m\u001b[1;33m)\u001b[0m\u001b[1;33m\u001b[0m\u001b[0m\n\u001b[0m\u001b[0;32m   1318\u001b[0m \u001b[1;33m\u001b[0m\u001b[0m\n\u001b[0;32m   1319\u001b[0m         \u001b[1;32mif\u001b[0m \u001b[0mauth\u001b[0m\u001b[1;33m:\u001b[0m\u001b[1;33m\u001b[0m\u001b[0m\n",
        "\u001b[1;32m/usr/local/lib/python2.7/dist-packages/httplib2/__init__.pyc\u001b[0m in \u001b[0;36m_conn_request\u001b[1;34m(self, conn, request_uri, method, body, headers)\u001b[0m\n\u001b[0;32m   1298\u001b[0m                     \u001b[0mconn\u001b[0m\u001b[1;33m.\u001b[0m\u001b[0mclose\u001b[0m\u001b[1;33m(\u001b[0m\u001b[1;33m)\u001b[0m\u001b[1;33m\u001b[0m\u001b[0m\n\u001b[0;32m   1299\u001b[0m                 \u001b[1;32melse\u001b[0m\u001b[1;33m:\u001b[0m\u001b[1;33m\u001b[0m\u001b[0m\n\u001b[1;32m-> 1300\u001b[1;33m                     \u001b[0mcontent\u001b[0m \u001b[1;33m=\u001b[0m \u001b[0mresponse\u001b[0m\u001b[1;33m.\u001b[0m\u001b[0mread\u001b[0m\u001b[1;33m(\u001b[0m\u001b[1;33m)\u001b[0m\u001b[1;33m\u001b[0m\u001b[0m\n\u001b[0m\u001b[0;32m   1301\u001b[0m                 \u001b[0mresponse\u001b[0m \u001b[1;33m=\u001b[0m \u001b[0mResponse\u001b[0m\u001b[1;33m(\u001b[0m\u001b[0mresponse\u001b[0m\u001b[1;33m)\u001b[0m\u001b[1;33m\u001b[0m\u001b[0m\n\u001b[0;32m   1302\u001b[0m                 \u001b[1;32mif\u001b[0m \u001b[0mmethod\u001b[0m \u001b[1;33m!=\u001b[0m \u001b[1;34m\"HEAD\"\u001b[0m\u001b[1;33m:\u001b[0m\u001b[1;33m\u001b[0m\u001b[0m\n",
        "\u001b[1;32m/usr/lib/python2.7/httplib.pyc\u001b[0m in \u001b[0;36mread\u001b[1;34m(self, amt)\u001b[0m\n\u001b[0;32m    541\u001b[0m \u001b[1;33m\u001b[0m\u001b[0m\n\u001b[0;32m    542\u001b[0m         \u001b[1;32mif\u001b[0m \u001b[0mself\u001b[0m\u001b[1;33m.\u001b[0m\u001b[0mchunked\u001b[0m\u001b[1;33m:\u001b[0m\u001b[1;33m\u001b[0m\u001b[0m\n\u001b[1;32m--> 543\u001b[1;33m             \u001b[1;32mreturn\u001b[0m \u001b[0mself\u001b[0m\u001b[1;33m.\u001b[0m\u001b[0m_read_chunked\u001b[0m\u001b[1;33m(\u001b[0m\u001b[0mamt\u001b[0m\u001b[1;33m)\u001b[0m\u001b[1;33m\u001b[0m\u001b[0m\n\u001b[0m\u001b[0;32m    544\u001b[0m \u001b[1;33m\u001b[0m\u001b[0m\n\u001b[0;32m    545\u001b[0m         \u001b[1;32mif\u001b[0m \u001b[0mamt\u001b[0m \u001b[1;32mis\u001b[0m \u001b[0mNone\u001b[0m\u001b[1;33m:\u001b[0m\u001b[1;33m\u001b[0m\u001b[0m\n",
        "\u001b[1;32m/usr/lib/python2.7/httplib.pyc\u001b[0m in \u001b[0;36m_read_chunked\u001b[1;34m(self, amt)\u001b[0m\n\u001b[0;32m    595\u001b[0m                     \u001b[1;31m# probably lost\u001b[0m\u001b[1;33m\u001b[0m\u001b[1;33m\u001b[0m\u001b[0m\n\u001b[0;32m    596\u001b[0m                     \u001b[0mself\u001b[0m\u001b[1;33m.\u001b[0m\u001b[0mclose\u001b[0m\u001b[1;33m(\u001b[0m\u001b[1;33m)\u001b[0m\u001b[1;33m\u001b[0m\u001b[0m\n\u001b[1;32m--> 597\u001b[1;33m                     \u001b[1;32mraise\u001b[0m \u001b[0mIncompleteRead\u001b[0m\u001b[1;33m(\u001b[0m\u001b[1;34m''\u001b[0m\u001b[1;33m.\u001b[0m\u001b[0mjoin\u001b[0m\u001b[1;33m(\u001b[0m\u001b[0mvalue\u001b[0m\u001b[1;33m)\u001b[0m\u001b[1;33m)\u001b[0m\u001b[1;33m\u001b[0m\u001b[0m\n\u001b[0m\u001b[0;32m    598\u001b[0m                 \u001b[1;32mif\u001b[0m \u001b[0mchunk_left\u001b[0m \u001b[1;33m==\u001b[0m \u001b[1;36m0\u001b[0m\u001b[1;33m:\u001b[0m\u001b[1;33m\u001b[0m\u001b[0m\n\u001b[0;32m    599\u001b[0m                     \u001b[1;32mbreak\u001b[0m\u001b[1;33m\u001b[0m\u001b[0m\n",
        "\u001b[1;31mIncompleteRead\u001b[0m: IncompleteRead(203370 bytes read)"
       ]
      },
      {
       "output_type": "stream",
       "stream": "stdout",
       "text": [
        "\r",
        "Waiting on bqjob_r5bf67929a625fc58_00000144c6c3aa62_7 ... (18s) Current status: DONE   \n"
       ]
      }
     ],
     "prompt_number": 59
    },
    {
     "cell_type": "code",
     "collapsed": true,
     "input": [
      "top_names = pd.DataFrame(data, columns = colnames)\n",
      "# top_names.drop_duplicates(inplace=True)\n",
      "top_names['frequency'] = top_names.frequency.astype('int')"
     ],
     "language": "python",
     "metadata": {},
     "outputs": [],
     "prompt_number": 29
    },
    {
     "cell_type": "code",
     "collapsed": false,
     "input": [
      "top_names.to_csv('../data/top_repo_names_100k.csv')"
     ],
     "language": "python",
     "metadata": {},
     "outputs": [],
     "prompt_number": 50
    },
    {
     "cell_type": "code",
     "collapsed": false,
     "input": [
      "# load local copy\n",
      "top_names = pd.DataFrame.from_csv('../data/top_repo_names_100k.csv')"
     ],
     "language": "python",
     "metadata": {},
     "outputs": [],
     "prompt_number": 5
    },
    {
     "cell_type": "code",
     "collapsed": false,
     "input": [
      "# normalise repo names\n",
      "\n",
      "top_names['repos_normed'] = top_names.repository_name.str.lower().str.strip()\n",
      "# top_names.repos_normed.value_counts()"
     ],
     "language": "python",
     "metadata": {},
     "outputs": [],
     "prompt_number": 6
    },
    {
     "cell_type": "code",
     "collapsed": false,
     "input": [
      "repo_words = [i for l in top_names.repos_normed.astype('string').str.strip().str.split(pat = '[-._]').tolist() for i in  l]\n"
     ],
     "language": "python",
     "metadata": {},
     "outputs": [],
     "prompt_number": 7
    },
    {
     "cell_type": "code",
     "collapsed": false,
     "input": [
      "repo_words = pd.Series(repo_words)\n",
      "repo_words.value_counts()[:100]"
     ],
     "language": "python",
     "metadata": {},
     "outputs": [
      {
       "metadata": {},
       "output_type": "pyout",
       "prompt_number": 8,
       "text": [
        "test       1504\n",
        "android    1294\n",
        "            901\n",
        "app         805\n",
        "js          641\n",
        "project     616\n",
        "git         522\n",
        "puppet      459\n",
        "django      447\n",
        "node        433\n",
        "device      431\n",
        "rails       427\n",
        "demo        417\n",
        "php         416\n",
        "my          415\n",
        "...\n",
        "emacs         100\n",
        "wordpress     100\n",
        "learn          99\n",
        "sandbox        99\n",
        "chat           98\n",
        "go             97\n",
        "wp             97\n",
        "stuff          95\n",
        "framework      95\n",
        "javascript     94\n",
        "study          93\n",
        "files          93\n",
        "css            91\n",
        "world          91\n",
        "to             91\n",
        "Length: 100, dtype: int64"
       ]
      }
     ],
     "prompt_number": 8
    },
    {
     "cell_type": "markdown",
     "metadata": {},
     "source": [
      "Oh right, look at the repo names -- hundreds of them consist of hyphens."
     ]
    },
    {
     "cell_type": "markdown",
     "metadata": {},
     "source": [
      "# Github repos that  use github to serve content\n"
     ]
    },
    {
     "cell_type": "code",
     "collapsed": false,
     "input": [
      "client = bq.Client.Get()\n",
      "\n",
      "query = \"select * from metacommunities:github_explore.repos_with_github_names\""
     ],
     "language": "python",
     "metadata": {},
     "outputs": [],
     "prompt_number": 5
    },
    {
     "cell_type": "code",
     "collapsed": false,
     "input": [
      "fields, data = client.ReadSchemaAndRows(client.Query(query)['configuration']['query']['destinationTable'], max_rows = 1000000)\n",
      "colnames = [f['name'] for f in fields]"
     ],
     "language": "python",
     "metadata": {},
     "outputs": [
      {
       "output_type": "stream",
       "stream": "stdout",
       "text": [
        "\r",
        "Waiting on bqjob_r3b202d637ebdd706_00000144c2a60032_1 ... (0s) Current status: RUNNING "
       ]
      },
      {
       "output_type": "stream",
       "stream": "stdout",
       "text": [
        "\r",
        "Waiting on bqjob_r3b202d637ebdd706_00000144c2a60032_1 ... (1s) Current status: RUNNING "
       ]
      },
      {
       "output_type": "stream",
       "stream": "stdout",
       "text": [
        "\r",
        "Waiting on bqjob_r3b202d637ebdd706_00000144c2a60032_1 ... (1s) Current status: DONE   \n"
       ]
      }
     ],
     "prompt_number": 6
    },
    {
     "cell_type": "code",
     "collapsed": false,
     "input": [
      "gh_repos = pd.DataFrame(data, columns = colnames)\n",
      "gh_repos.drop_duplicates(inplace=True)\n"
     ],
     "language": "python",
     "metadata": {},
     "outputs": [],
     "prompt_number": 7
    },
    {
     "cell_type": "code",
     "collapsed": false,
     "input": [
      "gh_repos"
     ],
     "language": "python",
     "metadata": {},
     "outputs": [
      {
       "html": [
        "<div style=\"max-height:1000px;max-width:1500px;overflow:auto;\">\n",
        "<table border=\"1\" class=\"dataframe\">\n",
        "  <thead>\n",
        "    <tr style=\"text-align: right;\">\n",
        "      <th></th>\n",
        "      <th>frequency</th>\n",
        "    </tr>\n",
        "    <tr>\n",
        "      <th>repository_name</th>\n",
        "      <th></th>\n",
        "    </tr>\n",
        "  </thead>\n",
        "  <tbody>\n",
        "    <tr>\n",
        "      <th>eidogram.github.com</th>\n",
        "      <td> 30276</td>\n",
        "    </tr>\n",
        "    <tr>\n",
        "      <th>gnuhub.github.com</th>\n",
        "      <td> 25354</td>\n",
        "    </tr>\n",
        "    <tr>\n",
        "      <th>h0tir0n.github.com</th>\n",
        "      <td> 23359</td>\n",
        "    </tr>\n",
        "    <tr>\n",
        "      <th>flexdigit.github.com</th>\n",
        "      <td> 12657</td>\n",
        "    </tr>\n",
        "    <tr>\n",
        "      <th>github</th>\n",
        "      <td> 11694</td>\n",
        "    </tr>\n",
        "    <tr>\n",
        "      <th>aaaajunk.github.com</th>\n",
        "      <td> 11027</td>\n",
        "    </tr>\n",
        "    <tr>\n",
        "      <th>the-github-game</th>\n",
        "      <td>  9896</td>\n",
        "    </tr>\n",
        "    <tr>\n",
        "      <th>book66.github.com</th>\n",
        "      <td>  8961</td>\n",
        "    </tr>\n",
        "    <tr>\n",
        "      <th>reach-github-limit</th>\n",
        "      <td>  8688</td>\n",
        "    </tr>\n",
        "    <tr>\n",
        "      <th>github-services</th>\n",
        "      <td>  8323</td>\n",
        "    </tr>\n",
        "    <tr>\n",
        "      <th>resume.github.com</th>\n",
        "      <td>  6725</td>\n",
        "    </tr>\n",
        "    <tr>\n",
        "      <th>test-trac2github</th>\n",
        "      <td>  5924</td>\n",
        "    </tr>\n",
        "    <tr>\n",
        "      <th>tjmaynes.github.com</th>\n",
        "      <td>  5727</td>\n",
        "    </tr>\n",
        "    <tr>\n",
        "      <th>github-hooks-test</th>\n",
        "      <td>  5519</td>\n",
        "    </tr>\n",
        "    <tr>\n",
        "      <th>cloudifysource.github.com</th>\n",
        "      <td>  5391</td>\n",
        "    </tr>\n",
        "    <tr>\n",
        "      <th>developer.github.com</th>\n",
        "      <td>  5367</td>\n",
        "    </tr>\n",
        "    <tr>\n",
        "      <th>collective.github.com</th>\n",
        "      <td>  5061</td>\n",
        "    </tr>\n",
        "    <tr>\n",
        "      <th>arquillian.github.com</th>\n",
        "      <td>  4774</td>\n",
        "    </tr>\n",
        "    <tr>\n",
        "      <th>travis-ci.github.com</th>\n",
        "      <td>  4523</td>\n",
        "    </tr>\n",
        "    <tr>\n",
        "      <th>wirelessguy.github.com</th>\n",
        "      <td>  4489</td>\n",
        "    </tr>\n",
        "    <tr>\n",
        "      <th>coldnew.github.io</th>\n",
        "      <td>  4379</td>\n",
        "    </tr>\n",
        "    <tr>\n",
        "      <th>blebon.github.io</th>\n",
        "      <td>  4349</td>\n",
        "    </tr>\n",
        "    <tr>\n",
        "      <th>github-nagios-check</th>\n",
        "      <td>  4159</td>\n",
        "    </tr>\n",
        "    <tr>\n",
        "      <th>simena86.github.com</th>\n",
        "      <td>  4151</td>\n",
        "    </tr>\n",
        "    <tr>\n",
        "      <th>elasticsearch.github.com</th>\n",
        "      <td>  3914</td>\n",
        "    </tr>\n",
        "    <tr>\n",
        "      <th>github3.py</th>\n",
        "      <td>  3875</td>\n",
        "    </tr>\n",
        "    <tr>\n",
        "      <th>maijunjin.github.io</th>\n",
        "      <td>  3681</td>\n",
        "    </tr>\n",
        "    <tr>\n",
        "      <th>hopeww.github.com</th>\n",
        "      <td>  3681</td>\n",
        "    </tr>\n",
        "    <tr>\n",
        "      <th>eclipsebundoran.github.com</th>\n",
        "      <td>  3524</td>\n",
        "    </tr>\n",
        "    <tr>\n",
        "      <th>github-webhook-healthcheck</th>\n",
        "      <td>  3493</td>\n",
        "    </tr>\n",
        "    <tr>\n",
        "      <th>ansible.github.com</th>\n",
        "      <td>  3301</td>\n",
        "    </tr>\n",
        "    <tr>\n",
        "      <th>lifesinger.github.com</th>\n",
        "      <td>  3211</td>\n",
        "    </tr>\n",
        "    <tr>\n",
        "      <th>teach.github.com</th>\n",
        "      <td>  3112</td>\n",
        "    </tr>\n",
        "    <tr>\n",
        "      <th>scala.github.com</th>\n",
        "      <td>  2813</td>\n",
        "    </tr>\n",
        "    <tr>\n",
        "      <th>great-h.github.io</th>\n",
        "      <td>  2676</td>\n",
        "    </tr>\n",
        "    <tr>\n",
        "      <th>github-connector</th>\n",
        "      <td>  2586</td>\n",
        "    </tr>\n",
        "    <tr>\n",
        "      <th>uspirates.github.com</th>\n",
        "      <td>  2481</td>\n",
        "    </tr>\n",
        "    <tr>\n",
        "      <th>onesuper.github.com</th>\n",
        "      <td>  2459</td>\n",
        "    </tr>\n",
        "    <tr>\n",
        "      <th>fusion94.github.com</th>\n",
        "      <td>  2414</td>\n",
        "    </tr>\n",
        "    <tr>\n",
        "      <th>mercadolibre.github.com</th>\n",
        "      <td>  2354</td>\n",
        "    </tr>\n",
        "    <tr>\n",
        "      <th>php-github-api</th>\n",
        "      <td>  2228</td>\n",
        "    </tr>\n",
        "    <tr>\n",
        "      <th>scalapuzzlers.github.com</th>\n",
        "      <td>  2220</td>\n",
        "    </tr>\n",
        "    <tr>\n",
        "      <th>codmy.github.com</th>\n",
        "      <td>  2218</td>\n",
        "    </tr>\n",
        "    <tr>\n",
        "      <th>kissyteam.github.com</th>\n",
        "      <td>  2217</td>\n",
        "    </tr>\n",
        "    <tr>\n",
        "      <th>railsapps.github.com</th>\n",
        "      <td>  2171</td>\n",
        "    </tr>\n",
        "    <tr>\n",
        "      <th>elixir-lang.github.com</th>\n",
        "      <td>  2155</td>\n",
        "    </tr>\n",
        "    <tr>\n",
        "      <th>youzhiyili.github.com</th>\n",
        "      <td>  2148</td>\n",
        "    </tr>\n",
        "    <tr>\n",
        "      <th>czzarr.github.com</th>\n",
        "      <td>  2134</td>\n",
        "    </tr>\n",
        "    <tr>\n",
        "      <th>test_github_api</th>\n",
        "      <td>  2132</td>\n",
        "    </tr>\n",
        "    <tr>\n",
        "      <th>typeplate.github.com</th>\n",
        "      <td>  2107</td>\n",
        "    </tr>\n",
        "    <tr>\n",
        "      <th>luixxiul.github.io</th>\n",
        "      <td>  2085</td>\n",
        "    </tr>\n",
        "    <tr>\n",
        "      <th>project-open-data.github.io</th>\n",
        "      <td>  2051</td>\n",
        "    </tr>\n",
        "    <tr>\n",
        "      <th>government.github.com</th>\n",
        "      <td>  2020</td>\n",
        "    </tr>\n",
        "    <tr>\n",
        "      <th>waydetse.github.com</th>\n",
        "      <td>  2019</td>\n",
        "    </tr>\n",
        "    <tr>\n",
        "      <th>vim-jp.github.com</th>\n",
        "      <td>  2009</td>\n",
        "    </tr>\n",
        "    <tr>\n",
        "      <th>propelorm.github.com</th>\n",
        "      <td>  2002</td>\n",
        "    </tr>\n",
        "    <tr>\n",
        "      <th>hackdaymanifesto.github.com</th>\n",
        "      <td>  1962</td>\n",
        "    </tr>\n",
        "    <tr>\n",
        "      <th>tshepang.github.com</th>\n",
        "      <td>  1959</td>\n",
        "    </tr>\n",
        "    <tr>\n",
        "      <th>github-api</th>\n",
        "      <td>  1932</td>\n",
        "    </tr>\n",
        "    <tr>\n",
        "      <th>tonussi.github.com</th>\n",
        "      <td>  1922</td>\n",
        "    </tr>\n",
        "    <tr>\n",
        "      <th></th>\n",
        "      <td>...</td>\n",
        "    </tr>\n",
        "  </tbody>\n",
        "</table>\n",
        "<p>124975 rows \u00d7 1 columns</p>\n",
        "</div>"
       ],
       "metadata": {},
       "output_type": "pyout",
       "prompt_number": 19,
       "text": [
        "                            frequency\n",
        "repository_name                      \n",
        "eidogram.github.com             30276\n",
        "gnuhub.github.com               25354\n",
        "h0tir0n.github.com              23359\n",
        "flexdigit.github.com            12657\n",
        "github                          11694\n",
        "aaaajunk.github.com             11027\n",
        "the-github-game                  9896\n",
        "book66.github.com                8961\n",
        "reach-github-limit               8688\n",
        "github-services                  8323\n",
        "resume.github.com                6725\n",
        "test-trac2github                 5924\n",
        "tjmaynes.github.com              5727\n",
        "github-hooks-test                5519\n",
        "cloudifysource.github.com        5391\n",
        "developer.github.com             5367\n",
        "collective.github.com            5061\n",
        "arquillian.github.com            4774\n",
        "travis-ci.github.com             4523\n",
        "wirelessguy.github.com           4489\n",
        "coldnew.github.io                4379\n",
        "blebon.github.io                 4349\n",
        "github-nagios-check              4159\n",
        "simena86.github.com              4151\n",
        "elasticsearch.github.com         3914\n",
        "github3.py                       3875\n",
        "maijunjin.github.io              3681\n",
        "hopeww.github.com                3681\n",
        "eclipsebundoran.github.com       3524\n",
        "github-webhook-healthcheck       3493\n",
        "ansible.github.com               3301\n",
        "lifesinger.github.com            3211\n",
        "teach.github.com                 3112\n",
        "scala.github.com                 2813\n",
        "great-h.github.io                2676\n",
        "github-connector                 2586\n",
        "uspirates.github.com             2481\n",
        "onesuper.github.com              2459\n",
        "fusion94.github.com              2414\n",
        "mercadolibre.github.com          2354\n",
        "php-github-api                   2228\n",
        "scalapuzzlers.github.com         2220\n",
        "codmy.github.com                 2218\n",
        "kissyteam.github.com             2217\n",
        "railsapps.github.com             2171\n",
        "elixir-lang.github.com           2155\n",
        "youzhiyili.github.com            2148\n",
        "czzarr.github.com                2134\n",
        "test_github_api                  2132\n",
        "typeplate.github.com             2107\n",
        "luixxiul.github.io               2085\n",
        "project-open-data.github.io      2051\n",
        "government.github.com            2020\n",
        "waydetse.github.com              2019\n",
        "vim-jp.github.com                2009\n",
        "propelorm.github.com             2002\n",
        "hackdaymanifesto.github.com      1962\n",
        "tshepang.github.com              1959\n",
        "github-api                       1932\n",
        "tonussi.github.com               1922\n",
        "                                  ...\n",
        "\n",
        "[124975 rows x 1 columns]"
       ]
      }
     ],
     "prompt_number": 19
    },
    {
     "cell_type": "code",
     "collapsed": true,
     "input": [
      "gh_repos.set_index('repository_n', inplace=True)\n",
      "gh_repos"
     ],
     "language": "python",
     "metadata": {},
     "outputs": [
      {
       "ename": "KeyError",
       "evalue": "u'no item named repository_name'",
       "output_type": "pyerr",
       "traceback": [
        "\u001b[1;31m---------------------------------------------------------------------------\u001b[0m\n\u001b[1;31mKeyError\u001b[0m                                  Traceback (most recent call last)",
        "\u001b[1;32m<ipython-input-18-73f75ddc02c0>\u001b[0m in \u001b[0;36m<module>\u001b[1;34m()\u001b[0m\n\u001b[1;32m----> 1\u001b[1;33m \u001b[0mgh_repos\u001b[0m\u001b[1;33m.\u001b[0m\u001b[0mset_index\u001b[0m\u001b[1;33m(\u001b[0m\u001b[1;34m'repository_name'\u001b[0m\u001b[1;33m,\u001b[0m \u001b[0minplace\u001b[0m\u001b[1;33m=\u001b[0m\u001b[0mTrue\u001b[0m\u001b[1;33m)\u001b[0m\u001b[1;33m\u001b[0m\u001b[0m\n\u001b[0m\u001b[0;32m      2\u001b[0m \u001b[0mgh_repos\u001b[0m\u001b[1;33m\u001b[0m\u001b[0m\n",
        "\u001b[1;32m/usr/local/lib/python2.7/dist-packages/pandas/core/frame.pyc\u001b[0m in \u001b[0;36mset_index\u001b[1;34m(self, keys, drop, append, inplace, verify_integrity)\u001b[0m\n\u001b[0;32m   2232\u001b[0m                 \u001b[0mnames\u001b[0m\u001b[1;33m.\u001b[0m\u001b[0mappend\u001b[0m\u001b[1;33m(\u001b[0m\u001b[0mNone\u001b[0m\u001b[1;33m)\u001b[0m\u001b[1;33m\u001b[0m\u001b[0m\n\u001b[0;32m   2233\u001b[0m             \u001b[1;32melse\u001b[0m\u001b[1;33m:\u001b[0m\u001b[1;33m\u001b[0m\u001b[0m\n\u001b[1;32m-> 2234\u001b[1;33m                 \u001b[0mlevel\u001b[0m \u001b[1;33m=\u001b[0m \u001b[0mframe\u001b[0m\u001b[1;33m[\u001b[0m\u001b[0mcol\u001b[0m\u001b[1;33m]\u001b[0m\u001b[1;33m.\u001b[0m\u001b[0mvalues\u001b[0m\u001b[1;33m\u001b[0m\u001b[0m\n\u001b[0m\u001b[0;32m   2235\u001b[0m                 \u001b[0mnames\u001b[0m\u001b[1;33m.\u001b[0m\u001b[0mappend\u001b[0m\u001b[1;33m(\u001b[0m\u001b[0mcol\u001b[0m\u001b[1;33m)\u001b[0m\u001b[1;33m\u001b[0m\u001b[0m\n\u001b[0;32m   2236\u001b[0m                 \u001b[1;32mif\u001b[0m \u001b[0mdrop\u001b[0m\u001b[1;33m:\u001b[0m\u001b[1;33m\u001b[0m\u001b[0m\n",
        "\u001b[1;32m/usr/local/lib/python2.7/dist-packages/pandas/core/frame.pyc\u001b[0m in \u001b[0;36m__getitem__\u001b[1;34m(self, key)\u001b[0m\n\u001b[0;32m   1656\u001b[0m             \u001b[1;32mreturn\u001b[0m \u001b[0mself\u001b[0m\u001b[1;33m.\u001b[0m\u001b[0m_getitem_multilevel\u001b[0m\u001b[1;33m(\u001b[0m\u001b[0mkey\u001b[0m\u001b[1;33m)\u001b[0m\u001b[1;33m\u001b[0m\u001b[0m\n\u001b[0;32m   1657\u001b[0m         \u001b[1;32melse\u001b[0m\u001b[1;33m:\u001b[0m\u001b[1;33m\u001b[0m\u001b[0m\n\u001b[1;32m-> 1658\u001b[1;33m             \u001b[1;32mreturn\u001b[0m \u001b[0mself\u001b[0m\u001b[1;33m.\u001b[0m\u001b[0m_getitem_column\u001b[0m\u001b[1;33m(\u001b[0m\u001b[0mkey\u001b[0m\u001b[1;33m)\u001b[0m\u001b[1;33m\u001b[0m\u001b[0m\n\u001b[0m\u001b[0;32m   1659\u001b[0m \u001b[1;33m\u001b[0m\u001b[0m\n\u001b[0;32m   1660\u001b[0m     \u001b[1;32mdef\u001b[0m \u001b[0m_getitem_column\u001b[0m\u001b[1;33m(\u001b[0m\u001b[0mself\u001b[0m\u001b[1;33m,\u001b[0m \u001b[0mkey\u001b[0m\u001b[1;33m)\u001b[0m\u001b[1;33m:\u001b[0m\u001b[1;33m\u001b[0m\u001b[0m\n",
        "\u001b[1;32m/usr/local/lib/python2.7/dist-packages/pandas/core/frame.pyc\u001b[0m in \u001b[0;36m_getitem_column\u001b[1;34m(self, key)\u001b[0m\n\u001b[0;32m   1663\u001b[0m         \u001b[1;31m# get column\u001b[0m\u001b[1;33m\u001b[0m\u001b[1;33m\u001b[0m\u001b[0m\n\u001b[0;32m   1664\u001b[0m         \u001b[1;32mif\u001b[0m \u001b[0mself\u001b[0m\u001b[1;33m.\u001b[0m\u001b[0mcolumns\u001b[0m\u001b[1;33m.\u001b[0m\u001b[0mis_unique\u001b[0m\u001b[1;33m:\u001b[0m\u001b[1;33m\u001b[0m\u001b[0m\n\u001b[1;32m-> 1665\u001b[1;33m             \u001b[1;32mreturn\u001b[0m \u001b[0mself\u001b[0m\u001b[1;33m.\u001b[0m\u001b[0m_get_item_cache\u001b[0m\u001b[1;33m(\u001b[0m\u001b[0mkey\u001b[0m\u001b[1;33m)\u001b[0m\u001b[1;33m\u001b[0m\u001b[0m\n\u001b[0m\u001b[0;32m   1666\u001b[0m \u001b[1;33m\u001b[0m\u001b[0m\n\u001b[0;32m   1667\u001b[0m         \u001b[1;31m# duplicate columns & possible reduce dimensionaility\u001b[0m\u001b[1;33m\u001b[0m\u001b[1;33m\u001b[0m\u001b[0m\n",
        "\u001b[1;32m/usr/local/lib/python2.7/dist-packages/pandas/core/generic.pyc\u001b[0m in \u001b[0;36m_get_item_cache\u001b[1;34m(self, item)\u001b[0m\n\u001b[0;32m   1003\u001b[0m         \u001b[0mres\u001b[0m \u001b[1;33m=\u001b[0m \u001b[0mcache\u001b[0m\u001b[1;33m.\u001b[0m\u001b[0mget\u001b[0m\u001b[1;33m(\u001b[0m\u001b[0mitem\u001b[0m\u001b[1;33m)\u001b[0m\u001b[1;33m\u001b[0m\u001b[0m\n\u001b[0;32m   1004\u001b[0m         \u001b[1;32mif\u001b[0m \u001b[0mres\u001b[0m \u001b[1;32mis\u001b[0m \u001b[0mNone\u001b[0m\u001b[1;33m:\u001b[0m\u001b[1;33m\u001b[0m\u001b[0m\n\u001b[1;32m-> 1005\u001b[1;33m             \u001b[0mvalues\u001b[0m \u001b[1;33m=\u001b[0m \u001b[0mself\u001b[0m\u001b[1;33m.\u001b[0m\u001b[0m_data\u001b[0m\u001b[1;33m.\u001b[0m\u001b[0mget\u001b[0m\u001b[1;33m(\u001b[0m\u001b[0mitem\u001b[0m\u001b[1;33m)\u001b[0m\u001b[1;33m\u001b[0m\u001b[0m\n\u001b[0m\u001b[0;32m   1006\u001b[0m             \u001b[0mres\u001b[0m \u001b[1;33m=\u001b[0m \u001b[0mself\u001b[0m\u001b[1;33m.\u001b[0m\u001b[0m_box_item_values\u001b[0m\u001b[1;33m(\u001b[0m\u001b[0mitem\u001b[0m\u001b[1;33m,\u001b[0m \u001b[0mvalues\u001b[0m\u001b[1;33m)\u001b[0m\u001b[1;33m\u001b[0m\u001b[0m\n\u001b[0;32m   1007\u001b[0m             \u001b[0mcache\u001b[0m\u001b[1;33m[\u001b[0m\u001b[0mitem\u001b[0m\u001b[1;33m]\u001b[0m \u001b[1;33m=\u001b[0m \u001b[0mres\u001b[0m\u001b[1;33m\u001b[0m\u001b[0m\n",
        "\u001b[1;32m/usr/local/lib/python2.7/dist-packages/pandas/core/internals.pyc\u001b[0m in \u001b[0;36mget\u001b[1;34m(self, item)\u001b[0m\n\u001b[0;32m   2871\u001b[0m                 \u001b[1;32mreturn\u001b[0m \u001b[0mself\u001b[0m\u001b[1;33m.\u001b[0m\u001b[0mget_for_nan_indexer\u001b[0m\u001b[1;33m(\u001b[0m\u001b[0mindexer\u001b[0m\u001b[1;33m)\u001b[0m\u001b[1;33m\u001b[0m\u001b[0m\n\u001b[0;32m   2872\u001b[0m \u001b[1;33m\u001b[0m\u001b[0m\n\u001b[1;32m-> 2873\u001b[1;33m             \u001b[0m_\u001b[0m\u001b[1;33m,\u001b[0m \u001b[0mblock\u001b[0m \u001b[1;33m=\u001b[0m \u001b[0mself\u001b[0m\u001b[1;33m.\u001b[0m\u001b[0m_find_block\u001b[0m\u001b[1;33m(\u001b[0m\u001b[0mitem\u001b[0m\u001b[1;33m)\u001b[0m\u001b[1;33m\u001b[0m\u001b[0m\n\u001b[0m\u001b[0;32m   2874\u001b[0m             \u001b[1;32mreturn\u001b[0m \u001b[0mblock\u001b[0m\u001b[1;33m.\u001b[0m\u001b[0mget\u001b[0m\u001b[1;33m(\u001b[0m\u001b[0mitem\u001b[0m\u001b[1;33m)\u001b[0m\u001b[1;33m\u001b[0m\u001b[0m\n\u001b[0;32m   2875\u001b[0m         \u001b[1;32melse\u001b[0m\u001b[1;33m:\u001b[0m\u001b[1;33m\u001b[0m\u001b[0m\n",
        "\u001b[1;32m/usr/local/lib/python2.7/dist-packages/pandas/core/internals.pyc\u001b[0m in \u001b[0;36m_find_block\u001b[1;34m(self, item)\u001b[0m\n\u001b[0;32m   3183\u001b[0m \u001b[1;33m\u001b[0m\u001b[0m\n\u001b[0;32m   3184\u001b[0m     \u001b[1;32mdef\u001b[0m \u001b[0m_find_block\u001b[0m\u001b[1;33m(\u001b[0m\u001b[0mself\u001b[0m\u001b[1;33m,\u001b[0m \u001b[0mitem\u001b[0m\u001b[1;33m)\u001b[0m\u001b[1;33m:\u001b[0m\u001b[1;33m\u001b[0m\u001b[0m\n\u001b[1;32m-> 3185\u001b[1;33m         \u001b[0mself\u001b[0m\u001b[1;33m.\u001b[0m\u001b[0m_check_have\u001b[0m\u001b[1;33m(\u001b[0m\u001b[0mitem\u001b[0m\u001b[1;33m)\u001b[0m\u001b[1;33m\u001b[0m\u001b[0m\n\u001b[0m\u001b[0;32m   3186\u001b[0m         \u001b[1;32mfor\u001b[0m \u001b[0mi\u001b[0m\u001b[1;33m,\u001b[0m \u001b[0mblock\u001b[0m \u001b[1;32min\u001b[0m \u001b[0menumerate\u001b[0m\u001b[1;33m(\u001b[0m\u001b[0mself\u001b[0m\u001b[1;33m.\u001b[0m\u001b[0mblocks\u001b[0m\u001b[1;33m)\u001b[0m\u001b[1;33m:\u001b[0m\u001b[1;33m\u001b[0m\u001b[0m\n\u001b[0;32m   3187\u001b[0m             \u001b[1;32mif\u001b[0m \u001b[0mitem\u001b[0m \u001b[1;32min\u001b[0m \u001b[0mblock\u001b[0m\u001b[1;33m:\u001b[0m\u001b[1;33m\u001b[0m\u001b[0m\n",
        "\u001b[1;32m/usr/local/lib/python2.7/dist-packages/pandas/core/internals.pyc\u001b[0m in \u001b[0;36m_check_have\u001b[1;34m(self, item)\u001b[0m\n\u001b[0;32m   3190\u001b[0m     \u001b[1;32mdef\u001b[0m \u001b[0m_check_have\u001b[0m\u001b[1;33m(\u001b[0m\u001b[0mself\u001b[0m\u001b[1;33m,\u001b[0m \u001b[0mitem\u001b[0m\u001b[1;33m)\u001b[0m\u001b[1;33m:\u001b[0m\u001b[1;33m\u001b[0m\u001b[0m\n\u001b[0;32m   3191\u001b[0m         \u001b[1;32mif\u001b[0m \u001b[0mitem\u001b[0m \u001b[1;32mnot\u001b[0m \u001b[1;32min\u001b[0m \u001b[0mself\u001b[0m\u001b[1;33m.\u001b[0m\u001b[0mitems\u001b[0m\u001b[1;33m:\u001b[0m\u001b[1;33m\u001b[0m\u001b[0m\n\u001b[1;32m-> 3192\u001b[1;33m             \u001b[1;32mraise\u001b[0m \u001b[0mKeyError\u001b[0m\u001b[1;33m(\u001b[0m\u001b[1;34m'no item named %s'\u001b[0m \u001b[1;33m%\u001b[0m \u001b[0mcom\u001b[0m\u001b[1;33m.\u001b[0m\u001b[0mpprint_thing\u001b[0m\u001b[1;33m(\u001b[0m\u001b[0mitem\u001b[0m\u001b[1;33m)\u001b[0m\u001b[1;33m)\u001b[0m\u001b[1;33m\u001b[0m\u001b[0m\n\u001b[0m\u001b[0;32m   3193\u001b[0m \u001b[1;33m\u001b[0m\u001b[0m\n\u001b[0;32m   3194\u001b[0m     def reindex_axis(self, new_axis, indexer=None, method=None, axis=0,\n",
        "\u001b[1;31mKeyError\u001b[0m: u'no item named repository_name'"
       ]
      }
     ],
     "prompt_number": 18
    },
    {
     "cell_type": "markdown",
     "metadata": {},
     "source": [
      "## Some major domains in Github\n",
      "\n",
      "Trying to construct a list of the main domains that happen on Github and then verify it \n",
      "\n",
      "1. Social media platform related - facebook, wikimedia, youtube twitter, instagram, foursquare, linkedin, reddit and blogging platforms\n",
      "2. dotfile or other config info\n",
      "3. major games or entertainment -- minecraft, world of warcraft\n",
      "4. git or github itself, including learning to use it\n",
      "5. databases and data stores - aws, mysql, mongo, redis\n",
      "6. web frameworks and platforms, including portals and webservers (apache, etc)\n",
      "7. programming tools and devices -- compilers, editors, cvs, \n",
      "8. webpages and blog pages -- ie. github.io or github.com\n",
      "9. scientific, statistical and mathematical -- numpy, pandas, ggplot, scikit-learn, etc\n",
      "10. political or activist -- e.g. anonymous, pirate party, whitehouse, electronic freedom\n",
      "11. operating systems and suchlike -- android, linux, ios, \n",
      "12. emerging technologies - 3d printing, drones, etc\n",
      "13. markets and shops - ebay, amazon"
     ]
    },
    {
     "cell_type": "code",
     "collapsed": false,
     "input": [
      "# test query on wiki\n",
      "def domain_query(q):\n",
      "    url = 'https://api.github.com/search/repositories?q='+q\n",
      "    req = requests.get(url)\n",
      "    return req.json()"
     ],
     "language": "python",
     "metadata": {},
     "outputs": [],
     "prompt_number": 41
    },
    {
     "cell_type": "code",
     "collapsed": false,
     "input": [
      "wi = domain_query('wiki')\n",
      "print wi['total_count']\n",
      "[w['full_name'] for w in wi['items']]"
     ],
     "language": "python",
     "metadata": {},
     "outputs": [
      {
       "output_type": "stream",
       "stream": "stdout",
       "text": [
        "13580\n"
       ]
      },
      {
       "metadata": {},
       "output_type": "pyout",
       "prompt_number": 42,
       "text": [
        "[u'sr/git-wiki',\n",
        " u'wikimedia/WikipediaMobile',\n",
        " u'goldsmith/Wikipedia',\n",
        " u'benjaoming/django-wiki',\n",
        " u'WardCunningham/Smallest-Federated-Wiki',\n",
        " u'lrytz/progfun-wiki',\n",
        " u'BonzaiThePenguin/WikiSort',\n",
        " u'Jermolene/TiddlyWiki5',\n",
        " u'splitbrain/dokuwiki',\n",
        " u'greatfire/wiki',\n",
        " u'edsu/wikistream',\n",
        " u'gollum/gollum',\n",
        " u'mrmartineau/SublimeTextSetupWiki',\n",
        " u'victorstanciu/Wikitten',\n",
        " u'nricciar/wikicloth',\n",
        " u'AKSW/OntoWiki',\n",
        " u'unclebob/fitnesse',\n",
        " u'alexex/wiki',\n",
        " u'gwhalin/Memcached-Java-Client',\n",
        " u'sneeu/django-wiki',\n",
        " u'nodejs-tw/nodejs-wiki-book',\n",
        " u'Wikitude/wikitude-phonegap',\n",
        " u'wikimedia/wikipedia-iphone',\n",
        " u'bcoe/wikifetch',\n",
        " u'joeyh/ikiwiki',\n",
        " u'wikireader/wikireader',\n",
        " u'jgm/gitit',\n",
        " u'MarkUsProject/Wiki',\n",
        " u'pmtarantino/wikiUp',\n",
        " u'indy256/wikialgo']"
       ]
      }
     ],
     "prompt_number": 42
    },
    {
     "cell_type": "code",
     "collapsed": false,
     "input": [
      "inst = domain_query('instagram')\n",
      "print inst['total_count']\n",
      "[w['full_name'] for w in inst['items']]"
     ],
     "language": "python",
     "metadata": {},
     "outputs": [
      {
       "output_type": "stream",
       "stream": "stdout",
       "text": [
        "1927\n"
       ]
      },
      {
       "metadata": {},
       "output_type": "pyout",
       "prompt_number": 43,
       "text": [
        "[u'mislav/instagram',\n",
        " u'Instagram/python-instagram',\n",
        " u'potomak/jquery-instagram',\n",
        " u'Instagram/instagram-ruby-gem',\n",
        " u'cosenary/Instagram-PHP-API',\n",
        " u'galen/PHP-Instagram-API',\n",
        " u'stuartkhall/Instagram',\n",
        " u'coryalder/DMActivityInstagram',\n",
        " u'crino/instagram-ios-sdk',\n",
        " u'macuenca/Instagram-PHP-API',\n",
        " u'shyambhat/InstagramKit',\n",
        " u'sachin-handiekar/jInstagram',\n",
        " u'stevenschobert/instafeed.js',\n",
        " u'ianckc/CodeIgniter-Instagram-Library',\n",
        " u'webarto/instagraph',\n",
        " u'mckelvey/instagram-node-lib',\n",
        " u'cranklin/Instagram-Bot',\n",
        " u'Instagram/instagram-javascript-sdk',\n",
        " u'Instagram/Realtime-Demo',\n",
        " u'rigoneri/syte',\n",
        " u'osahyoun/instagram-search',\n",
        " u'ParsePlatform/Anypic',\n",
        " u'esilverberg/ios-image-filters',\n",
        " u'ropiku/omniauth-instagram',\n",
        " u'vstirbu/InstagramPlugin',\n",
        " u'burkeholland/InstaSharp',\n",
        " u'teleportd/instagram-node',\n",
        " u'sesser/Instaphp',\n",
        " u'azamsharp/TCam',\n",
        " u'pierrotsmnrd/grabKit']"
       ]
      }
     ],
     "prompt_number": 43
    },
    {
     "cell_type": "code",
     "collapsed": false,
     "input": [
      "yt = domain_query('youtube')\n",
      "print yt['total_count']\n",
      "[w['full_name'] for w in yt['items']]"
     ],
     "language": "python",
     "metadata": {},
     "outputs": [
      {
       "output_type": "stream",
       "stream": "stdout",
       "text": [
        "5808\n"
       ]
      },
      {
       "metadata": {},
       "output_type": "pyout",
       "prompt_number": 44,
       "text": [
        "[u'rg3/youtube-dl',\n",
        " u'kylejginavan/youtube_it',\n",
        " u'eXon/videojs-youtube',\n",
        " u'rstacruz/nprogress',\n",
        " u'flagbug/YoutubeExtractor',\n",
        " u'YePpHa/YouTubeCenter',\n",
        " u'jakiestfu/Youtube-TV',\n",
        " u'OskarVeerhoek/YouTube-tutorials',\n",
        " u'dan0/youtubeplaylist',\n",
        " u'endlesshack/youtube-video',\n",
        " u'jeckman/YouTube-Downloader',\n",
        " u'greneholt/youtube5',\n",
        " u'fent/node-youtube-dl',\n",
        " u'HenrikDK/youtube-xbmc-plugin',\n",
        " u'jimdoescode/CodeIgniter-YouTube-API-Library',\n",
        " u'grosser/youtube_search',\n",
        " u'badsyntax/jquery-youtube-player',\n",
        " u'larcus94/LBYouTubeView',\n",
        " u'trizen/youtube-viewer',\n",
        " u'edgarjs/youtube-model',\n",
        " u'davist11/YouTube-Chromeless',\n",
        " u'soimort/you-get',\n",
        " u'fvdm/nodejs-youtube',\n",
        " u'jonathanboom/YouTube-video-downloader-for-Safari',\n",
        " u'mikecrittenden/toogles',\n",
        " u'dejan/auto_html',\n",
        " u'nirvanatikku/jQuery-TubePlayer-Plugin',\n",
        " u'0xced/XCDYouTubeVideoPlayerViewController',\n",
        " u'np1/mps-youtube',\n",
        " u'emres/youtube2mp3']"
       ]
      }
     ],
     "prompt_number": 44
    },
    {
     "cell_type": "code",
     "collapsed": false,
     "input": [
      "am = domain_query('amazon')\n",
      "print am['total_count']\n",
      "[w['full_name'] for w in am['items']]"
     ],
     "language": "python",
     "metadata": {},
     "outputs": [
      {
       "output_type": "stream",
       "stream": "stdout",
       "text": [
        "5138\n"
       ]
      },
      {
       "metadata": {},
       "output_type": "pyout",
       "prompt_number": 45,
       "text": [
        "[u'jugend/amazon-ecs',\n",
        " u'tpyo/amazon-s3-php-class',\n",
        " u'boto/boto',\n",
        " u'grempe/amazon-ec2',\n",
        " u'Exeu/Amazon-ECS-PHP-Library',\n",
        " u'mcohen01/amazonica',\n",
        " u'uskudnik/amazon-glacier-cmd-interface',\n",
        " u'pyduan/amazonaccess',\n",
        " u'voldemort/voldemort',\n",
        " u'aws/aws-cli',\n",
        " u'joebeeson/amazon',\n",
        " u'dmichael/amazon-mws',\n",
        " u'xamarin/amazon',\n",
        " u'yoavaviram/python-amazon-simple-product-api',\n",
        " u'Cybernox/AmazonWebServicesBundle',\n",
        " u'woxxy/MySQL-backup-to-Amazon-S3',\n",
        " u'Yelp/mrjob',\n",
        " u'rightscale/right_aws',\n",
        " u'geoloqi/Amazon-SES-Mailer-PHP',\n",
        " u'pankratiev/python-amazon-ses-api',\n",
        " u'kamens/jQuery-menu-aim',\n",
        " u'joelcox/codeigniter-amazon-ses',\n",
        " u'waynehoover/s3_direct_upload',\n",
        " u'nuxusr/Node.js---Amazon-S3',\n",
        " u's3tools/s3cmd',\n",
        " u'marcel/aws-s3',\n",
        " u'livelycode/aws-lib',\n",
        " u'acme/net-amazon-s3',\n",
        " u'doitlikejustin/amazon-wish-lister',\n",
        " u'powdahound/ec2instances.info']"
       ]
      }
     ],
     "prompt_number": 45
    },
    {
     "cell_type": "markdown",
     "metadata": {},
     "source": [
      "# Ways of characterising what Github projects are actually about\n",
      "\n",
      "How do we know what repositories are about? Can we know even know whether a repository has any software in it?"
     ]
    },
    {
     "cell_type": "code",
     "collapsed": true,
     "input": [
      "query = \"\"\"select repository_name, repository_description, repository_language \n",
      "from [publicdata:samples.github_timeline]\n",
      "limit 5000;\"\"\"\n",
      "\n",
      "repo_df = gbq.query_table(query, 5000)"
     ],
     "language": "python",
     "metadata": {},
     "outputs": [
      {
       "output_type": "stream",
       "stream": "stdout",
       "text": [
        "Your browser has been opened to visit:\n",
        "\n",
        "    https://accounts.google.com/o/oauth2/auth?scope=https%3A%2F%2Fwww.googleapis.com%2Fauth%2Fbigquery&redirect_uri=http%3A%2F%2Flocalhost%3A8080%2F&response_type=code&client_id=237471208995.apps.googleusercontent.com&access_type=offline\n",
        "\n",
        "If your browser is on a different machine then exit and re-run this\n",
        "application with the command-line parameter \n",
        "\n",
        "  --noauth_local_webserver\n",
        "\n",
        "Authentication successful."
       ]
      },
      {
       "output_type": "stream",
       "stream": "stdout",
       "text": [
        "\n",
        "executing query:"
       ]
      },
      {
       "output_type": "stream",
       "stream": "stdout",
       "text": [
        "\n",
        "select repository_name, repository_description, repository_language \n",
        "from [publicdata:samples.github_timeline]\n",
        "limit 5000;\n",
        "has a rows attribute"
       ]
      },
      {
       "output_type": "stream",
       "stream": "stdout",
       "text": [
        "\n",
        "5000 of   5000 (5000, 3)\n"
       ]
      }
     ],
     "prompt_number": 2
    },
    {
     "cell_type": "code",
     "collapsed": false,
     "input": [
      "repo_df.repository_description = repo_df.repository_description.fillna(' ')\n",
      "stoplist = set('for is or that a of the and to in'.split())\n",
      "texts = [[word for word in document.lower().split() if word not in stoplist] for document in repo_df.repository_description.tolist()]\n",
      "# remove words that appear only once\n",
      "all_tokens = sum(texts, [])\n",
      "tokens_once = set(word for word in set(all_tokens) if all_tokens.count(word) == 1)\n",
      "texts = [[word for word in text if word not in tokens_once]\n",
      "          for text in texts]\n",
      "print(texts[0:10])"
     ],
     "language": "python",
     "metadata": {},
     "outputs": [
      {
       "output_type": "stream",
       "stream": "stdout",
       "text": [
        "[[u'simple', u'application', u'android'], [u'selenium', u'tests', u'case', u'conductor'], [u'personal', u'project'], [u'archive', u'formulae', u'removed', u'from', u'homebrew', u'package', u'manager'], [u'web-based', u'management', u'system'], [u'2012', u'wiki'], [u'simple', u'tool'], [u'an', u'automated', u'project', u'mirror.'], [u'scipy', u'main', u'repository'], [u'real-time', u'log', u'monitoring', u'your', u'browser']]\n"
       ]
      }
     ],
     "prompt_number": 3
    },
    {
     "cell_type": "code",
     "collapsed": false,
     "input": [
      "dictionary = gs.corpora.Dictionary(texts)\n",
      "print(dictionary)\n",
      "git_corpus = [dictionary.doc2bow(text) for text in texts]\n",
      "gs.corpora.BleiCorpus.serialize('data/github_desc.lda_c', git_corpus)"
     ],
     "language": "python",
     "metadata": {},
     "outputs": [
      {
       "output_type": "stream",
       "stream": "stdout",
       "text": [
        "Dictionary(3031 unique tokens)\n"
       ]
      }
     ],
     "prompt_number": 4
    },
    {
     "cell_type": "code",
     "collapsed": false,
     "input": [
      "lda_model = gs.models.ldamodel.LdaModel(corpus=git_corpus, id2word=dictionary, num_topics=10,update_every=0, passes=50)\n"
     ],
     "language": "python",
     "metadata": {},
     "outputs": [],
     "prompt_number": 5
    },
    {
     "cell_type": "code",
     "collapsed": false,
     "input": [
      "[[i, lda_model.print_topic(i)] for i in range(10)]"
     ],
     "language": "python",
     "metadata": {},
     "outputs": [
      {
       "output_type": "pyout",
       "prompt_number": 113,
       "text": [
        "[[0,\n",
        "  u'0.021*library + 0.013*official + 0.013*on + 0.012*jquery + 0.012*with + 0.011*web + 0.010*collection + 0.010*data + 0.010*are + 0.010*website'],\n",
        " [1,\n",
        "  u'0.021*my + 0.016*2 + 0.015*web + 0.014*with + 0.013*project + 0.012*tag + 0.012*finder + 0.012*fuzzy + 0.012*file, + 0.012*buffer,'],\n",
        " [2,\n",
        "  u'0.019*on + 0.016*your + 0.013*with + 0.013*javascript + 0.010*simple + 0.009*tool + 0.009*programming + 0.009*language + 0.008*node.js + 0.008*code'],\n",
        " [3,\n",
        "  u'0.036*library + 0.021*project + 0.018*from + 0.016*implementation + 0.011*with + 0.010*wordpress + 0.010*source + 0.009*using + 0.009*api + 0.009*open'],\n",
        " [4,\n",
        "  u'0.033*rails + 0.033*on + 0.029*ruby + 0.027*an + 0.016*api + 0.016*plugin + 0.010*client + 0.010*it + 0.009*blog + 0.009*c'],\n",
        " [5,\n",
        "  u'0.041*framework + 0.021*php + 0.017*with + 0.017*server + 0.016*site + 0.014*by + 0.010*library + 0.009*from + 0.009*project + 0.008*building'],\n",
        " [6,\n",
        "  u'0.017*code + 0.015*platform + 0.015*system + 0.015*app + 0.010*files + 0.010*this + 0.010*an + 0.010*forms + 0.009*ruby + 0.009*plugin'],\n",
        " [7,\n",
        "  u'0.020*-- + 0.019*at + 0.017*clone + 0.016*into + 0.016*symfony + 0.015*subtree + 0.014*(master + 0.014*symfony/symfony) + 0.014*split + 0.014*[read-only]'],\n",
        " [8,\n",
        "  u'0.022*with + 0.020*this + 0.019*web + 0.017*framework + 0.016*as + 0.015*an + 0.012*- + 0.011*mobile + 0.010*using + 0.009*simple'],\n",
        " [9,\n",
        "  u'0.031*source + 0.027*open + 0.017*de + 0.015*your + 0.011*using + 0.011*code + 0.010*with + 0.009*on + 0.009*tikz + 0.009*app']]"
       ]
      }
     ],
     "prompt_number": 113
    },
    {
     "cell_type": "markdown",
     "metadata": {},
     "source": [
      "## Estimating similarity: trying again with the readme corpus\n",
      "\n",
      "Maybe we don't really need to find the topics. We can just go with similarities, and from there decide whether to put things in classes/topics or not. A similarity based approach means we can augment the readmes with any other data we find (languages, titles, size of projects, growth etc), and it will help the similarity measure. Given a good similarity measure, we can then work with clustering techniques rather than classification techniques?"
     ]
    },
    {
     "cell_type": "code",
     "collapsed": false,
     "input": [
      "\n",
      "#text file with MySQL user on 1st line and password on the 2nd needed!\n",
      "mysql_details = open('mysql_user_login.txt', 'r')\n",
      "credentials = mysql_details.readlines()\n",
      "user = credentials[0].strip()\n",
      "password = credentials[1].strip()\n",
      "\n",
      "\n",
      "# mysql database name where the table lives -- could put this into mysql_details.txt?\n",
      "gh_db = 'github_analysis'\n",
      "db_conn = MySQLdb.connect(db =gh_db, user=user, passwd=password)\n",
      "#the table that Richard made from BQ\n",
      "query = 'select * from readmes'\n",
      "\n",
      "repos_df = pd.io.sql.read_sql(query, db_conn)\n",
      "\n"
     ],
     "language": "python",
     "metadata": {},
     "outputs": [],
     "prompt_number": 3
    },
    {
     "cell_type": "code",
     "collapsed": false,
     "input": [
      "#lower case, strip out punctuation and whitespacing, then tokenize readmes\n",
      "repos_df['readme_tok'] = repos_df.readme.map(lambda x: nltk.word_tokenize(nltk.re.sub('\\W{2}', ' ',x.lower())))\n"
     ],
     "language": "python",
     "metadata": {},
     "outputs": [],
     "prompt_number": 4
    },
    {
     "cell_type": "code",
     "collapsed": false,
     "input": [
      "readme_tok.head()"
     ],
     "language": "python",
     "metadata": {},
     "outputs": [
      {
       "metadata": {},
       "output_type": "pyout",
       "prompt_number": 5,
       "text": [
        "0    [introduction, media-service-upnp, is, a, high...\n",
        "1    [prerequisites, 1, rib, supports, running, onl...\n",
        "2    [0install, copyright, thomas, leonard, and, ot...\n",
        "3    [cubebox, logo, http, /cubebox.bplaced.net/log...\n",
        "4    [0x10c, standards, committee, the, 0x10c, stan...\n",
        "Name: readme, dtype: object"
       ]
      }
     ],
     "prompt_number": 5
    },
    {
     "cell_type": "code",
     "collapsed": false,
     "input": [
      "# take out the na readmes\n",
      "repos_df = repos_df[repos_df.readme_tok.apply(len)>1]"
     ],
     "language": "python",
     "metadata": {},
     "outputs": [
      {
       "ename": "NameError",
       "evalue": "name 'repos_df' is not defined",
       "output_type": "pyerr",
       "traceback": [
        "\u001b[1;31m---------------------------------------------------------------------------\u001b[0m\n\u001b[1;31mNameError\u001b[0m                                 Traceback (most recent call last)",
        "\u001b[1;32m<ipython-input-2-48fdf14874a1>\u001b[0m in \u001b[0;36m<module>\u001b[1;34m()\u001b[0m\n\u001b[0;32m      1\u001b[0m \u001b[1;31m# take out the na readmes\u001b[0m\u001b[1;33m\u001b[0m\u001b[1;33m\u001b[0m\u001b[0m\n\u001b[1;32m----> 2\u001b[1;33m \u001b[0mrepos_df\u001b[0m \u001b[1;33m=\u001b[0m \u001b[0mrepos_df\u001b[0m\u001b[1;33m[\u001b[0m\u001b[0mrepos_df\u001b[0m\u001b[1;33m.\u001b[0m\u001b[0mreadme_tok\u001b[0m\u001b[1;33m.\u001b[0m\u001b[0mapply\u001b[0m\u001b[1;33m(\u001b[0m\u001b[0mlen\u001b[0m\u001b[1;33m)\u001b[0m\u001b[1;33m>\u001b[0m\u001b[1;36m1\u001b[0m\u001b[1;33m]\u001b[0m\u001b[1;33m\u001b[0m\u001b[0m\n\u001b[0m",
        "\u001b[1;31mNameError\u001b[0m: name 'repos_df' is not defined"
       ]
      }
     ],
     "prompt_number": 2
    },
    {
     "cell_type": "code",
     "collapsed": false,
     "input": [
      "def shingle_n(s, n):\n",
      "    \"\"\" Shingles for the text.\n",
      "    s: the text to be shingled\n",
      "    n: number of tokens in the shingle\n",
      "    \n",
      "    Returns a set of shingles for the text\n",
      "    \"\"\"\n",
      "\n",
      "    return {' '.join(s[i:i+n]) for i in range(0,len(s))}\n",
      "\n",
      "\n",
      "#construct all shingles\n",
      "readme_shingles = readme_tok.map(lambda x:shingle_n(x,7))\n"
     ],
     "language": "python",
     "metadata": {},
     "outputs": [],
     "prompt_number": 37
    },
    {
     "cell_type": "code",
     "collapsed": false,
     "input": [
      "#construct the universal set of shingles\n",
      "universal_set = set()\n",
      "{universal_set.update(e) for e in readme_shingles}\n",
      "print('There are %s shingles in the collection' % len(universal_set))"
     ],
     "language": "python",
     "metadata": {},
     "outputs": []
    },
    {
     "cell_type": "code",
     "collapsed": false,
     "input": [
      "def jaccard_distance(s1, s2):\n",
      "    \"\"\" Returns the ratio of the intersection and the union of elements of the two sets\"\"\"\n",
      "    return float(len(s1.intersection(s2)))/len(s1.union(s2))"
     ],
     "language": "python",
     "metadata": {},
     "outputs": [],
     "prompt_number": 21
    },
    {
     "cell_type": "code",
     "collapsed": false,
     "input": [
      "#drop empty readmes\n",
      "readme_shingles = readme_shingles[readme_shingles.apply(len) >1]\n",
      "readme_count = readme_shingles.shape[0]\n",
      "dist_matrix = np.zeros(shape=(readme_count, readme_count))\n",
      "readme_count"
     ],
     "language": "python",
     "metadata": {},
     "outputs": [
      {
       "metadata": {},
       "output_type": "pyout",
       "prompt_number": 38,
       "text": [
        "9561"
       ]
      }
     ],
     "prompt_number": 38
    },
    {
     "cell_type": "code",
     "collapsed": false,
     "input": [
      "readme_shingles.head()"
     ],
     "language": "python",
     "metadata": {},
     "outputs": [
      {
       "metadata": {},
       "output_type": "pyout",
       "prompt_number": 39,
       "text": [
        "0    set([treated as errors during compilation shou...\n",
        "1    set([lib/deflate.js mit/x11 arnaud renervier [...\n",
        "2    set([packaging format unmodified tarballs or z...\n",
        "3    set([guides or linux package dependencies http...\n",
        "4    set([you want to write dcpu-16 assembly probab...\n",
        "Name: readme, dtype: object"
       ]
      }
     ],
     "prompt_number": 39
    },
    {
     "cell_type": "code",
     "collapsed": false,
     "input": [
      "# make list of shingles from pandas series to avoid indexing problems\n",
      "readme_count = 5000\n",
      "readme_shingles_l = readme_shingles.tolist()\n",
      "for i in range(0, readme_count):\n",
      "    for j in range(0, readme_count):\n",
      "        if i != j:\n",
      "            dist_matrix[i,j] = jaccard_distance(readme_shingles_l[i], readme_shingles_l[j])"
     ],
     "language": "python",
     "metadata": {},
     "outputs": [],
     "prompt_number": 55
    },
    {
     "cell_type": "code",
     "collapsed": false,
     "input": [
      "b,s,y = plt.hist(dist_matrix.flatten(), bins=1000)"
     ],
     "language": "python",
     "metadata": {},
     "outputs": [
      {
       "metadata": {},
       "output_type": "display_data",
       "png": "[encoded data removed]",
       "text": [
        "<matplotlib.figure.Figure at 0xe190f350>"
       ]
      }
     ],
     "prompt_number": 56
    },
    {
     "cell_type": "code",
     "collapsed": false,
     "input": [
      "sorted_distances = sorted(dist_matrix.flatten(), reverse=True)"
     ],
     "language": "python",
     "metadata": {},
     "outputs": [],
     "prompt_number": 64
    },
    {
     "cell_type": "code",
     "collapsed": false,
     "input": [
      "len(sorted_distances)"
     ],
     "language": "python",
     "metadata": {},
     "outputs": [
      {
       "metadata": {},
       "output_type": "pyout",
       "prompt_number": 67,
       "text": [
        "91412721"
       ]
      }
     ],
     "prompt_number": "*"
    },
    {
     "cell_type": "markdown",
     "metadata": {},
     "source": [
      "But all of this is too slow. Very 5000 readmes, the distance matrix takes ages (30 minutes?). It will crash with 1,000,000 repos. So better to try a different technique\n",
      "\n",
      "### Locality-sensitive hashing of readmes\n",
      "\n",
      "Even if we find there is very little similarity, it might give us a handle on the levels of duplication going on"
     ]
    },
    {
     "cell_type": "code",
     "collapsed": false,
     "input": [
      "repos_df['tokens'] = repos_df['readme_tok']\n",
      "repos_df['index'] = repos_df.index\n",
      "repos_df['lsh_tuple'] = zip(repos_df.tokens,repos_df.index )\n",
      "repos_df.lsh_tuple.head()"
     ],
     "language": "python",
     "metadata": {},
     "outputs": [
      {
       "ename": "NameError",
       "evalue": "name 'repos_df' is not defined",
       "output_type": "pyerr",
       "traceback": [
        "\u001b[1;31m---------------------------------------------------------------------------\u001b[0m\n\u001b[1;31mNameError\u001b[0m                                 Traceback (most recent call last)",
        "\u001b[1;32m<ipython-input-1-ccad0170f2c6>\u001b[0m in \u001b[0;36m<module>\u001b[1;34m()\u001b[0m\n\u001b[1;32m----> 1\u001b[1;33m \u001b[0mrepos_df\u001b[0m\u001b[1;33m[\u001b[0m\u001b[1;34m'tokens'\u001b[0m\u001b[1;33m]\u001b[0m \u001b[1;33m=\u001b[0m \u001b[0mrepos_df\u001b[0m\u001b[1;33m[\u001b[0m\u001b[1;34m'readme_tok'\u001b[0m\u001b[1;33m]\u001b[0m\u001b[1;33m\u001b[0m\u001b[0m\n\u001b[0m\u001b[0;32m      2\u001b[0m \u001b[0mrepos_df\u001b[0m\u001b[1;33m[\u001b[0m\u001b[1;34m'index'\u001b[0m\u001b[1;33m]\u001b[0m \u001b[1;33m=\u001b[0m \u001b[0mrepos_df\u001b[0m\u001b[1;33m.\u001b[0m\u001b[0mindex\u001b[0m\u001b[1;33m\u001b[0m\u001b[0m\n\u001b[0;32m      3\u001b[0m \u001b[0mrepos_df\u001b[0m\u001b[1;33m[\u001b[0m\u001b[1;34m'lsh_tuple'\u001b[0m\u001b[1;33m]\u001b[0m \u001b[1;33m=\u001b[0m \u001b[0mzip\u001b[0m\u001b[1;33m(\u001b[0m\u001b[0mrepos_df\u001b[0m\u001b[1;33m.\u001b[0m\u001b[0mtokens\u001b[0m\u001b[1;33m,\u001b[0m\u001b[0mrepos_df\u001b[0m\u001b[1;33m.\u001b[0m\u001b[0mindex\u001b[0m \u001b[1;33m)\u001b[0m\u001b[1;33m\u001b[0m\u001b[0m\n\u001b[0;32m      4\u001b[0m \u001b[0mrepos_df\u001b[0m\u001b[1;33m.\u001b[0m\u001b[0mlsh_tuple\u001b[0m\u001b[1;33m.\u001b[0m\u001b[0mhead\u001b[0m\u001b[1;33m(\u001b[0m\u001b[1;33m)\u001b[0m\u001b[1;33m\u001b[0m\u001b[0m\n",
        "\u001b[1;31mNameError\u001b[0m: name 'repos_df' is not defined"
       ]
      }
     ],
     "prompt_number": 1
    },
    {
     "cell_type": "code",
     "collapsed": false,
     "input": [
      "cache = lsh.LSHCache()\n",
      "dups = {}\n",
      "for t,i in zip(repos_df.tokens, range(0,repos_df.tokens.shape[0])):\n",
      "    dups[i] = cache.insert(t,i)\n",
      "#res = [cache.insert(t,i) for t,i in zip(repos_df.tokens, range(0,repos_df.tokens.shape[0]))]\n",
      "\n",
      "\n",
      "#cache.insert_batch(repos_df.lsh_tuple)"
     ],
     "language": "python",
     "metadata": {},
     "outputs": [
      {
       "ename": "TypeError",
       "evalue": "object of type 'int' has no len()",
       "output_type": "pyerr",
       "traceback": [
        "\u001b[1;31m---------------------------------------------------------------------------\u001b[0m\n\u001b[1;31mTypeError\u001b[0m                                 Traceback (most recent call last)",
        "\u001b[1;32m<ipython-input-20-f4b6fe2af784>\u001b[0m in \u001b[0;36m<module>\u001b[1;34m()\u001b[0m\n\u001b[0;32m      1\u001b[0m \u001b[0mcache\u001b[0m \u001b[1;33m=\u001b[0m \u001b[0mlsh\u001b[0m\u001b[1;33m.\u001b[0m\u001b[0mLSHCache\u001b[0m\u001b[1;33m(\u001b[0m\u001b[1;33m)\u001b[0m\u001b[1;33m\u001b[0m\u001b[0m\n\u001b[1;32m----> 2\u001b[1;33m \u001b[1;33m[\u001b[0m\u001b[0mcache\u001b[0m\u001b[1;33m.\u001b[0m\u001b[0minsert\u001b[0m\u001b[1;33m(\u001b[0m\u001b[0mdoc\u001b[0m\u001b[1;33m,\u001b[0m \u001b[0mid\u001b[0m\u001b[1;33m)\u001b[0m \u001b[1;32mfor\u001b[0m \u001b[0mdoc\u001b[0m\u001b[1;33m,\u001b[0m\u001b[0mid\u001b[0m \u001b[1;32min\u001b[0m \u001b[0menumerate\u001b[0m\u001b[1;33m(\u001b[0m\u001b[0mrepos_df\u001b[0m\u001b[1;33m.\u001b[0m\u001b[0mlsh_tuple\u001b[0m\u001b[1;33m[\u001b[0m\u001b[1;33m:\u001b[0m\u001b[1;36m2\u001b[0m\u001b[1;33m]\u001b[0m\u001b[1;33m)\u001b[0m\u001b[1;33m]\u001b[0m\u001b[1;33m\u001b[0m\u001b[0m\n\u001b[0m\u001b[0;32m      3\u001b[0m \u001b[1;31m#cache.insert_batch(repos_df.lsh_tuple)\u001b[0m\u001b[1;33m\u001b[0m\u001b[1;33m\u001b[0m\u001b[0m\n",
        "\u001b[1;32m/home/mackenza/Downloads/lsh/lsh/__init__.py\u001b[0m in \u001b[0;36minsert\u001b[1;34m(self, doc, id, date_added, passive)\u001b[0m\n\u001b[0;32m    158\u001b[0m \u001b[1;33m\u001b[0m\u001b[0m\n\u001b[0;32m    159\u001b[0m     \u001b[1;32mdef\u001b[0m \u001b[0minsert\u001b[0m\u001b[1;33m(\u001b[0m\u001b[0mself\u001b[0m\u001b[1;33m,\u001b[0m \u001b[0mdoc\u001b[0m\u001b[1;33m,\u001b[0m \u001b[0mid\u001b[0m\u001b[1;33m,\u001b[0m \u001b[0mdate_added\u001b[0m\u001b[1;33m=\u001b[0m\u001b[0mint\u001b[0m\u001b[1;33m(\u001b[0m\u001b[0mtime\u001b[0m\u001b[1;33m.\u001b[0m\u001b[0mtime\u001b[0m\u001b[1;33m(\u001b[0m\u001b[1;33m)\u001b[0m\u001b[1;33m)\u001b[0m\u001b[1;33m,\u001b[0m \u001b[0mpassive\u001b[0m\u001b[1;33m=\u001b[0m\u001b[0mTrue\u001b[0m\u001b[1;33m)\u001b[0m\u001b[1;33m:\u001b[0m\u001b[1;33m\u001b[0m\u001b[0m\n\u001b[1;32m--> 160\u001b[1;33m         \u001b[0mlsh\u001b[0m \u001b[1;33m=\u001b[0m \u001b[0mself\u001b[0m\u001b[1;33m.\u001b[0m\u001b[0m_get_lsh_from_doc\u001b[0m\u001b[1;33m(\u001b[0m\u001b[0mdoc\u001b[0m\u001b[1;33m)\u001b[0m\u001b[1;33m\u001b[0m\u001b[0m\n\u001b[0m\u001b[0;32m    161\u001b[0m         \u001b[0mlogging\u001b[0m\u001b[1;33m.\u001b[0m\u001b[0mdebug\u001b[0m\u001b[1;33m(\u001b[0m\u001b[1;34m'id: %d lsh: %s'\u001b[0m\u001b[1;33m,\u001b[0m \u001b[0mid\u001b[0m\u001b[1;33m,\u001b[0m \u001b[0mlsh\u001b[0m\u001b[1;33m)\u001b[0m\u001b[1;33m\u001b[0m\u001b[0m\n\u001b[0;32m    162\u001b[0m         \u001b[0mdup_buckets\u001b[0m \u001b[1;33m=\u001b[0m \u001b[0mself\u001b[0m\u001b[1;33m.\u001b[0m\u001b[0m_insert_lsh\u001b[0m\u001b[1;33m(\u001b[0m\u001b[0mlsh\u001b[0m\u001b[1;33m,\u001b[0m \u001b[0mid\u001b[0m\u001b[1;33m,\u001b[0m \u001b[0mdate_added\u001b[0m\u001b[1;33m)\u001b[0m\u001b[1;33m\u001b[0m\u001b[0m\n",
        "\u001b[1;32m/home/mackenza/Downloads/lsh/lsh/__init__.py\u001b[0m in \u001b[0;36m_get_lsh_from_doc\u001b[1;34m(self, doc)\u001b[0m\n\u001b[0;32m    100\u001b[0m         \u001b[0mgiven\u001b[0m \u001b[0man\u001b[0m \u001b[0miterable\u001b[0m \u001b[0mof\u001b[0m \u001b[0mhashable\u001b[0m \u001b[0mitems\u001b[0m\u001b[1;33m,\u001b[0m \u001b[0mreturns\u001b[0m \u001b[0ma\u001b[0m \u001b[0mlist\u001b[0m \u001b[0mof\u001b[0m \u001b[0mbucket\u001b[0m \u001b[0mids\u001b[0m\u001b[1;33m\u001b[0m\u001b[0m\n\u001b[0;32m    101\u001b[0m         \"\"\"\n\u001b[1;32m--> 102\u001b[1;33m         \u001b[0mlogging\u001b[0m\u001b[1;33m.\u001b[0m\u001b[0mdebug\u001b[0m\u001b[1;33m(\u001b[0m\u001b[1;34m'got tokenized doc: len(doc)=%d'\u001b[0m\u001b[1;33m,\u001b[0m \u001b[0mlen\u001b[0m\u001b[1;33m(\u001b[0m\u001b[0mdoc\u001b[0m\u001b[1;33m)\u001b[0m\u001b[1;33m)\u001b[0m\u001b[1;33m\u001b[0m\u001b[0m\n\u001b[0m\u001b[0;32m    103\u001b[0m         \u001b[0mshingle_vec\u001b[0m \u001b[1;33m=\u001b[0m \u001b[0mself\u001b[0m\u001b[1;33m.\u001b[0m\u001b[0m_get_shingle_vec\u001b[0m\u001b[1;33m(\u001b[0m\u001b[0mdoc\u001b[0m\u001b[1;33m)\u001b[0m\u001b[1;33m\u001b[0m\u001b[0m\n\u001b[0;32m    104\u001b[0m         \u001b[0mlogging\u001b[0m\u001b[1;33m.\u001b[0m\u001b[0mdebug\u001b[0m\u001b[1;33m(\u001b[0m\u001b[1;34m'got shingle_vec: len(shingle_vec)=%d'\u001b[0m\u001b[1;33m,\u001b[0m \u001b[0mlen\u001b[0m\u001b[1;33m(\u001b[0m\u001b[0mshingle_vec\u001b[0m\u001b[1;33m)\u001b[0m\u001b[1;33m)\u001b[0m\u001b[1;33m\u001b[0m\u001b[0m\n",
        "\u001b[1;31mTypeError\u001b[0m: object of type 'int' has no len()"
       ]
      }
     ],
     "prompt_number": 20
    }
   ],
   "metadata": {}
  }
 ]
}