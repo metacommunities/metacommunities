{
 "metadata": {
  "name": ""
 },
 "nbformat": 3,
 "nbformat_minor": 0,
 "worksheets": [
  {
   "cells": [
    {
     "cell_type": "markdown",
     "metadata": {},
     "source": [
      "# Classifying Organizations\n",
      "\n",
      "We are attempting to build a classifier for Github organisations. We want to see if organisations organise github (or not). Is the 'organisation' construct something that deeply shapes what happens on the platform? If so, in what ways?"
     ]
    },
    {
     "cell_type": "code",
     "collapsed": false,
     "input": [
      "%load_ext autoreload\n",
      "%autoreload 2\n",
      "import sys\n",
      "sys.path.append('..')"
     ],
     "language": "python",
     "metadata": {},
     "outputs": [],
     "prompt_number": 1
    },
    {
     "cell_type": "code",
     "collapsed": false,
     "input": [
      "\n",
      "import github_api_data as gad\n",
      "import google_bigquery_access as gba\n",
      "import bq\n",
      "\n",
      "import pandas as pd\n",
      "import numpy as np\n",
      "import datetime as dt\n",
      "import matplotlib.pyplot as plt\n",
      "import seaborn"
     ],
     "language": "python",
     "metadata": {},
     "outputs": [],
     "prompt_number": 2
    },
    {
     "cell_type": "markdown",
     "metadata": {},
     "source": [
      "## Data sources\n",
      "\n",
      "A. The table of ~500 organisations that Richard and Adrian coded by hand as types 0-4. This table is our training and test data. It took a long time to construct because we had to look at the repos and look at websites. We also tagged the organisation with domains like 'design', 'software' etc\n",
      "\n",
      "This is the classification:\n",
      "\n",
      "0. junk or nothing -- equivalent to a spam organisation?\n",
      "1. totally internal to github, almost fictional organisation that individual or group make for some benighted reason (e.g ours -- we have a research project) \n",
      "2. internal but substantial organisations that make something that goes out into the world -- e.g. a software project/product. Github is the main place they exist. Some of the repos should be forked by others \n",
      "3. external organisation who move into github as a way of revamping/expanding etc what they do. e.g. BBC. Github is not the main place they exist\n",
      "4. Other \u2013 impossible to classify\n",
      "\n",
      "B. The table of ~ 80k organisations with as many features as we could find -- how many repos, do they fork, do they receive pull requests, do they have an external website, etc"
     ]
    },
    {
     "cell_type": "code",
     "collapsed": false,
     "input": [
      "## the training/test data\n",
      "org_training = pd.read_excel('../data/orgs_manual_coding_sample_reconciled.xlsx', sheetname= 'Sheet1', header=6, skiprows=6)"
     ],
     "language": "python",
     "metadata": {},
     "outputs": [],
     "prompt_number": 3
    },
    {
     "cell_type": "code",
     "collapsed": true,
     "input": [
      "org_training.shape"
     ],
     "language": "python",
     "metadata": {},
     "outputs": [
      {
       "metadata": {},
       "output_type": "pyout",
       "prompt_number": 4,
       "text": [
        "(559, 11)"
       ]
      }
     ],
     "prompt_number": 4
    },
    {
     "cell_type": "code",
     "collapsed": false,
     "input": [
      "# construct a new column with Adrian and Richard reconciled values\n",
      "org_training['type'] = org_training['adrian type'].where(\n",
      "    cond=org_training['adrian type'] == org_training['Richard type'],other=org_training.reconciled )"
     ],
     "language": "python",
     "metadata": {},
     "outputs": [],
     "prompt_number": 5
    },
    {
     "cell_type": "code",
     "collapsed": false,
     "input": [
      "print(org_training['type'].value_counts())\n",
      "org_training['type'].hist(bins=4,figsize=(4,4))\n"
     ],
     "language": "python",
     "metadata": {},
     "outputs": [
      {
       "output_type": "stream",
       "stream": "stdout",
       "text": [
        "3    265\n",
        "1    180\n",
        "2     72\n",
        "0      8\n",
        "dtype: int64\n"
       ]
      },
      {
       "metadata": {},
       "output_type": "pyout",
       "prompt_number": 6,
       "text": [
        "<matplotlib.axes.AxesSubplot at 0xad26a4c>"
       ]
      },
      {
       "metadata": {},
       "output_type": "display_data",
       "png": "[encoded data removed]",
       "text": [
        "<matplotlib.figure.Figure at 0xaca3fcc>"
       ]
      }
     ],
     "prompt_number": 6
    },
    {
     "cell_type": "markdown",
     "metadata": {},
     "source": [
      "This data is quite unbalanced. We could probably drop type '0' -- the junk organisations. But type 3 -- the external organisations latching onto github -- do outnumber the type 2 -- our favourite _sui generis_ organisations by a factor of 4 to 1."
     ]
    },
    {
     "cell_type": "markdown",
     "metadata": {},
     "source": [
      "## Construct the full training/testing data set using the organization ultimate table on bigquery"
     ]
    },
    {
     "cell_type": "code",
     "collapsed": false,
     "input": [
      "# I tried to use pandas to do this directly, but got UnicodeEncodeErrors\n",
      "# query = 'SELECT * FROM [metacommunities:github_proper.org_ultimate]'\n",
      "# orgs_full = pd.io.gbq.read_gbq(query)\n"
     ],
     "language": "python",
     "metadata": {},
     "outputs": [],
     "prompt_number": 47
    },
    {
     "cell_type": "code",
     "collapsed": false,
     "input": [
      "# using the bq module directly is easy ... \n",
      "client = bq.Client.Get()\n",
      "\n",
      "query = \"select * from metacommunities:github_proper.org_ultimate_1\""
     ],
     "language": "python",
     "metadata": {},
     "outputs": [],
     "prompt_number": 9
    },
    {
     "cell_type": "code",
     "collapsed": false,
     "input": [
      "fields, data = client.ReadSchemaAndRows(client.Query(query)['configuration']['query']['destinationTable'], max_rows = 100000)\n",
      "colnames = [f['name'] for f in fields]"
     ],
     "language": "python",
     "metadata": {},
     "outputs": [
      {
       "output_type": "stream",
       "stream": "stdout",
       "text": [
        "\r",
        "Waiting on bqjob_r18ee02f1_00000144b5f41690_2 ... (0s) Current status: RUNNING "
       ]
      },
      {
       "output_type": "stream",
       "stream": "stdout",
       "text": [
        "\r",
        "Waiting on bqjob_r18ee02f1_00000144b5f41690_2 ... (1s) Current status: RUNNING "
       ]
      },
      {
       "output_type": "stream",
       "stream": "stdout",
       "text": [
        "\r",
        "Waiting on bqjob_r18ee02f1_00000144b5f41690_2 ... (3s) Current status: RUNNING "
       ]
      },
      {
       "output_type": "stream",
       "stream": "stdout",
       "text": [
        "\r",
        "Waiting on bqjob_r18ee02f1_00000144b5f41690_2 ... (4s) Current status: RUNNING "
       ]
      },
      {
       "output_type": "stream",
       "stream": "stdout",
       "text": [
        "\r",
        "Waiting on bqjob_r18ee02f1_00000144b5f41690_2 ... (4s) Current status: DONE   \n"
       ]
      }
     ],
     "prompt_number": 10
    },
    {
     "cell_type": "code",
     "collapsed": false,
     "input": [
      "org_full = pd.DataFrame(data, columns = colnames)\n",
      "org_full = org_full.drop_duplicates()\n",
      "org_full_df = org_full.set_index(org_full['repository_organization'])\n",
      "org_full.shape"
     ],
     "language": "python",
     "metadata": {},
     "outputs": [
      {
       "metadata": {},
       "output_type": "pyout",
       "prompt_number": 11,
       "text": [
        "(80301, 36)"
       ]
      }
     ],
     "prompt_number": 11
    },
    {
     "cell_type": "code",
     "collapsed": false,
     "input": [
      "# to construct the full training set\n",
      "\n",
      "# choose the matching organisation\n",
      "org_full_training_df = org_full_df.ix[org_training['repository_organization']]\n"
     ],
     "language": "python",
     "metadata": {},
     "outputs": [],
     "prompt_number": 12
    },
    {
     "cell_type": "code",
     "collapsed": true,
     "input": [
      "# add the 'type' column, set the index to organization, and save local copy\n",
      "org_full_training_df.set_index(keys = 'repository_organization', inplace=True)\n",
      "org_training.set_index(keys = 'repository_organization', inplace=True)\n",
      "\n",
      "org_full_training_df['type'] = org_training.type\n",
      "org_full_training_df.to_csv('../data/organisation_classification_data.csv')\n",
      "org_full_training_df.shape"
     ],
     "language": "python",
     "metadata": {},
     "outputs": [
      {
       "metadata": {},
       "output_type": "pyout",
       "prompt_number": 13,
       "text": [
        "(559, 36)"
       ]
      }
     ],
     "prompt_number": 13
    },
    {
     "cell_type": "code",
     "collapsed": false,
     "input": [
      "# if already saved, load local copy\n",
      "org_full_training_df = pd.read_csv('../data/organisation_classification_data.csv')\n",
      "print org_full_training_df.shape\n"
     ],
     "language": "python",
     "metadata": {},
     "outputs": [
      {
       "output_type": "stream",
       "stream": "stdout",
       "text": [
        "(559, 38)\n"
       ]
      }
     ],
     "prompt_number": 38
    },
    {
     "cell_type": "code",
     "collapsed": false,
     "input": [
      "org_full_training_df.columns"
     ],
     "language": "python",
     "metadata": {},
     "outputs": [
      {
       "metadata": {},
       "output_type": "pyout",
       "prompt_number": 14,
       "text": [
        "Index([u'Repos', u'ReposWhichAreForks', u'PushEvents', u'Pushers', u'FirstPush', u'LastPush', u'PushDurationDays', u'repository_homepages', u'repository_owners', u'repository_languages', u'WatchEvents', u'ForkEvents', u'IssuesEvents', u'IssueCommentEvents', u'ReleaseEvents', u'DownloadEvents', u'PullRequestsClosed', u'PullRequestsMerged', u'SO_repos_linked_to', u'SO_posts_linking_to_orgs_repos', u'SO_answers_linking_to_orgs_repos', u'org_created', u'blog', u'FirstEvent', u'EarlyEvents', u'MinsTo20Events', u'First20_Creates', u'First20_Forks', u'First20_Pushes', u'First20_WatchEvents', u'First20_IssueEvents', u'First20_PullREquests', u'First20_DistinctRepos', u'First20_OtherEvents', u'Event20Time', u'type'], dtype='object')"
       ]
      }
     ],
     "prompt_number": 14
    },
    {
     "cell_type": "code",
     "collapsed": false,
     "input": [
      "org_full_training_df.type\n",
      "org_full_training_df.type.hist(figsize=(4,4), bins=4)"
     ],
     "language": "python",
     "metadata": {},
     "outputs": [
      {
       "metadata": {},
       "output_type": "pyout",
       "prompt_number": 15,
       "text": [
        "<matplotlib.axes.AxesSubplot at 0xadc192c>"
       ]
      },
      {
       "metadata": {},
       "output_type": "display_data",
       "png": "[encoded data removed]",
       "text": [
        "<matplotlib.figure.Figure at 0x1bdfe98c>"
       ]
      }
     ],
     "prompt_number": 15
    },
    {
     "cell_type": "markdown",
     "metadata": {},
     "source": [
      "## Feature selection\n",
      "\n"
     ]
    }
   ],
   "metadata": {}
  }
 ]
}