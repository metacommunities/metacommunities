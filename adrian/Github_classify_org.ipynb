{
 "metadata": {
  "name": ""
 },
 "nbformat": 3,
 "nbformat_minor": 0,
 "worksheets": [
  {
   "cells": [
    {
     "cell_type": "markdown",
     "metadata": {},
     "source": [
      "# Classifying Organizations\n",
      "\n",
      "We are attempting to build a classifier for Github organisations. We want to see if organisations organise github (or not). Is the 'organisation' construct something that deeply shapes what happens on the platform? If so, in what ways?"
     ]
    },
    {
     "cell_type": "code",
     "collapsed": false,
     "input": [
      "%load_ext autoreload\n",
      "%autoreload 2\n",
      "import sys\n",
      "sys.path.append('..')"
     ],
     "language": "python",
     "metadata": {},
     "outputs": [],
     "prompt_number": 1
    },
    {
     "cell_type": "code",
     "collapsed": false,
     "input": [
      "\n",
      "import github_api_data as gad\n",
      "import google_bigquery_access as gba\n",
      "import bq\n",
      "\n",
      "import pandas as pd\n",
      "import numpy as np\n",
      "import datetime as dt\n",
      "import matplotlib.pyplot as plt\n",
      "import seaborn"
     ],
     "language": "python",
     "metadata": {},
     "outputs": [],
     "prompt_number": 2
    },
    {
     "cell_type": "markdown",
     "metadata": {},
     "source": [
      "## Data sources\n",
      "\n",
      "A. The table of ~500 organisations that Richard and Adrian coded by hand as types 0-4. This table is our training and test data. It took a long time to construct because we had to look at the repos and look at websites. We also tagged the organisation with domains like 'design', 'software' etc\n",
      "\n",
      "This is the classification:\n",
      "\n",
      "0. junk or nothing -- equivalent to a spam organisation?\n",
      "1. totally internal to github, almost fictional organisation that individual or group make for some benighted reason (e.g ours -- we have a research project) \n",
      "2. internal but substantial organisations that make something that goes out into the world -- e.g. a software project/product. Github is the main place they exist. Some of the repos should be forked by others \n",
      "3. external organisation who move into github as a way of revamping/expanding etc what they do. e.g. BBC. Github is not the main place they exist\n",
      "4. Other \u2013 impossible to classify\n",
      "\n",
      "B. The table of ~ 80k organisations with as many features as we could find -- how many repos, do they fork, do they receive pull requests, do they have an external website, etc"
     ]
    },
    {
     "cell_type": "code",
     "collapsed": false,
     "input": [
      "## the training/test data\n",
      "org_training = pd.read_excel('../data/orgs_manual_coding_sample_reconciled.xlsx', sheetname= 'Sheet1', header=6, skiprows=6)"
     ],
     "language": "python",
     "metadata": {},
     "outputs": [],
     "prompt_number": 3
    },
    {
     "cell_type": "code",
     "collapsed": true,
     "input": [
      "org_training.shape"
     ],
     "language": "python",
     "metadata": {},
     "outputs": [
      {
       "metadata": {},
       "output_type": "pyout",
       "prompt_number": 4,
       "text": [
        "(559, 11)"
       ]
      }
     ],
     "prompt_number": 4
    },
    {
     "cell_type": "code",
     "collapsed": false,
     "input": [
      "# construct a new column with Adrian and Richard reconciled values\n",
      "org_training['type'] = org_training['adrian type'].where(\n",
      "    cond=org_training['adrian type'] == org_training['Richard type'],other=org_training.reconciled )"
     ],
     "language": "python",
     "metadata": {},
     "outputs": [],
     "prompt_number": 5
    },
    {
     "cell_type": "code",
     "collapsed": false,
     "input": [
      "print(org_training['type'].value_counts())\n",
      "org_training['type'].hist(bins=4,figsize=(4,4))\n"
     ],
     "language": "python",
     "metadata": {},
     "outputs": [
      {
       "output_type": "stream",
       "stream": "stdout",
       "text": [
        "3    265\n",
        "1    180\n",
        "2     72\n",
        "0      8\n",
        "dtype: int64\n"
       ]
      },
      {
       "metadata": {},
       "output_type": "pyout",
       "prompt_number": 6,
       "text": [
        "<matplotlib.axes.AxesSubplot at 0xad26a4c>"
       ]
      },
      {
       "metadata": {},
       "output_type": "display_data",
       "png": "[encoded data removed]",
       "text": [
        "<matplotlib.figure.Figure at 0xaca3fcc>"
       ]
      }
     ],
     "prompt_number": 6
    },
    {
     "cell_type": "markdown",
     "metadata": {},
     "source": [
      "This data is quite unbalanced. We could probably drop type '0' -- the junk organisations. But type 3 -- the external organisations latching onto github -- do outnumber the type 2 -- our favourite _sui generis_ organisations by a factor of 4 to 1."
     ]
    },
    {
     "cell_type": "markdown",
     "metadata": {},
     "source": [
      "## Construct the full training/testing data set using the organization ultimate table on bigquery"
     ]
    },
    {
     "cell_type": "code",
     "collapsed": false,
     "input": [
      "# I tried to use pandas to do this directly, but got UnicodeEncodeErrors\n",
      "# query = 'SELECT * FROM [metacommunities:github_proper.org_ultimate]'\n",
      "# orgs_full = pd.io.gbq.read_gbq(query)\n"
     ],
     "language": "python",
     "metadata": {},
     "outputs": [],
     "prompt_number": 47
    },
    {
     "cell_type": "code",
     "collapsed": false,
     "input": [
      "# using the bq module directly is easy ... \n",
      "client = bq.Client.Get()\n",
      "\n",
      "query = \"select * from metacommunities:github_proper.org_ultimate_1\""
     ],
     "language": "python",
     "metadata": {},
     "outputs": [],
     "prompt_number": 9
    },
    {
     "cell_type": "code",
     "collapsed": false,
     "input": [
      "fields, data = client.ReadSchemaAndRows(client.Query(query)['configuration']['query']['destinationTable'], max_rows = 100000)\n",
      "colnames = [f['name'] for f in fields]"
     ],
     "language": "python",
     "metadata": {},
     "outputs": [
      {
       "output_type": "stream",
       "stream": "stdout",
       "text": [
        "\r",
        "Waiting on bqjob_r18ee02f1_00000144b5f41690_2 ... (0s) Current status: RUNNING "
       ]
      },
      {
       "output_type": "stream",
       "stream": "stdout",
       "text": [
        "\r",
        "Waiting on bqjob_r18ee02f1_00000144b5f41690_2 ... (1s) Current status: RUNNING "
       ]
      },
      {
       "output_type": "stream",
       "stream": "stdout",
       "text": [
        "\r",
        "Waiting on bqjob_r18ee02f1_00000144b5f41690_2 ... (3s) Current status: RUNNING "
       ]
      },
      {
       "output_type": "stream",
       "stream": "stdout",
       "text": [
        "\r",
        "Waiting on bqjob_r18ee02f1_00000144b5f41690_2 ... (4s) Current status: RUNNING "
       ]
      },
      {
       "output_type": "stream",
       "stream": "stdout",
       "text": [
        "\r",
        "Waiting on bqjob_r18ee02f1_00000144b5f41690_2 ... (4s) Current status: DONE   \n"
       ]
      }
     ],
     "prompt_number": 10
    },
    {
     "cell_type": "code",
     "collapsed": false,
     "input": [
      "org_full = pd.DataFrame(data, columns = colnames)\n",
      "org_full = org_full.drop_duplicates()\n",
      "org_full_df = org_full.set_index(org_full['repository_organization'])\n",
      "org_full.shape"
     ],
     "language": "python",
     "metadata": {},
     "outputs": [
      {
       "metadata": {},
       "output_type": "pyout",
       "prompt_number": 11,
       "text": [
        "(80301, 36)"
       ]
      }
     ],
     "prompt_number": 11
    },
    {
     "cell_type": "code",
     "collapsed": false,
     "input": [
      "# to construct the full training set\n",
      "\n",
      "# choose the matching organisation\n",
      "org_full_training_df = org_full_df.ix[org_training['repository_organization']]\n"
     ],
     "language": "python",
     "metadata": {},
     "outputs": [],
     "prompt_number": 12
    },
    {
     "cell_type": "code",
     "collapsed": true,
     "input": [
      "# add the 'type' column, set the index to organization, and save local copy\n",
      "org_full_training_df.set_index(keys = 'repository_organization', inplace=True)\n",
      "org_training.set_index(keys = 'repository_organization', inplace=True)\n",
      "\n",
      "org_full_training_df['type'] = org_training.type\n",
      "org_full_training_df.to_csv('../data/organisation_classification_data.csv')\n",
      "org_full_training_df.shape"
     ],
     "language": "python",
     "metadata": {},
     "outputs": [
      {
       "metadata": {},
       "output_type": "pyout",
       "prompt_number": 13,
       "text": [
        "(559, 36)"
       ]
      }
     ],
     "prompt_number": 13
    },
    {
     "cell_type": "code",
     "collapsed": false,
     "input": [
      "# if already saved, load local copy\n",
      "org_full_training_df = pd.read_csv('../data/organisation_classification_data.csv')\n",
      "print org_full_training_df.shape\n"
     ],
     "language": "python",
     "metadata": {},
     "outputs": [
      {
       "output_type": "stream",
       "stream": "stdout",
       "text": [
        "(559, 38)\n"
       ]
      }
     ],
     "prompt_number": 38
    },
    {
     "cell_type": "code",
     "collapsed": false,
     "input": [
      "org_full_training_df.columns"
     ],
     "language": "python",
     "metadata": {},
     "outputs": [
      {
       "metadata": {},
       "output_type": "pyout",
       "prompt_number": 14,
       "text": [
        "Index([u'Repos', u'ReposWhichAreForks', u'PushEvents', u'Pushers', u'FirstPush', u'LastPush', u'PushDurationDays', u'repository_homepages', u'repository_owners', u'repository_languages', u'WatchEvents', u'ForkEvents', u'IssuesEvents', u'IssueCommentEvents', u'ReleaseEvents', u'DownloadEvents', u'PullRequestsClosed', u'PullRequestsMerged', u'SO_repos_linked_to', u'SO_posts_linking_to_orgs_repos', u'SO_answers_linking_to_orgs_repos', u'org_created', u'blog', u'FirstEvent', u'EarlyEvents', u'MinsTo20Events', u'First20_Creates', u'First20_Forks', u'First20_Pushes', u'First20_WatchEvents', u'First20_IssueEvents', u'First20_PullREquests', u'First20_DistinctRepos', u'First20_OtherEvents', u'Event20Time', u'type'], dtype='object')"
       ]
      }
     ],
     "prompt_number": 14
    },
    {
     "cell_type": "code",
     "collapsed": false,
     "input": [
      "org_full_training_df.type\n",
      "org_full_training_df.type.hist(figsize=(4,4), bins=4)"
     ],
     "language": "python",
     "metadata": {},
     "outputs": [
      {
       "metadata": {},
       "output_type": "pyout",
       "prompt_number": 15,
       "text": [
        "<matplotlib.axes.AxesSubplot at 0xadc192c>"
       ]
      },
      {
       "metadata": {},
       "output_type": "display_data",
       "png": "[encoded data removed]",
       "text": [
        "<matplotlib.figure.Figure at 0x1bdfe98c>"
       ]
      }
     ],
     "prompt_number": 15
    },
    {
     "cell_type": "markdown",
     "metadata": {},
     "source": [
      "## Feature selection\n",
      "\n"
     ]
    },
    {
     "cell_type": "code",
     "collapsed": false,
     "input": [
      "print '[%s]' % '\\n '.join(map(str, org_full_training_df.columns.tolist()))"
     ],
     "language": "python",
     "metadata": {},
     "outputs": [
      {
       "output_type": "stream",
       "stream": "stdout",
       "text": [
        "[Repos\n",
        " ReposWhichAreForks\n",
        " PushEvents\n",
        " Pushers\n",
        " FirstPush\n",
        " LastPush\n",
        " PushDurationDays\n",
        " repository_homepages\n",
        " repository_owners\n",
        " repository_languages\n",
        " WatchEvents\n",
        " ForkEvents\n",
        " IssuesEvents\n",
        " IssueCommentEvents\n",
        " ReleaseEvents\n",
        " DownloadEvents\n",
        " PullRequestsClosed\n",
        " PullRequestsMerged\n",
        " SO_repos_linked_to\n",
        " SO_posts_linking_to_orgs_repos\n",
        " SO_answers_linking_to_orgs_repos\n",
        " org_created\n",
        " blog\n",
        " FirstEvent\n",
        " EarlyEvents\n",
        " MinsTo20Events\n",
        " First20_Creates\n",
        " First20_Forks\n",
        " First20_Pushes\n",
        " First20_WatchEvents\n",
        " First20_IssueEvents\n",
        " First20_PullREquests\n",
        " First20_DistinctRepos\n",
        " First20_OtherEvents\n",
        " Event20Time\n",
        " type]\n"
       ]
      }
     ],
     "prompt_number": 21
    },
    {
     "cell_type": "markdown",
     "metadata": {},
     "source": [
      "'type' is what we want to predict."
     ]
    },
    {
     "cell_type": "code",
     "collapsed": false,
     "input": [
      "org_full_training_df.iloc[:,2:35].describe()"
     ],
     "language": "python",
     "metadata": {},
     "outputs": [
      {
       "html": [
        "<div style=\"max-height:1000px;max-width:1500px;overflow:auto;\">\n",
        "<table border=\"1\" class=\"dataframe\">\n",
        "  <thead>\n",
        "    <tr style=\"text-align: right;\">\n",
        "      <th></th>\n",
        "      <th>PushEvents</th>\n",
        "      <th>Pushers</th>\n",
        "      <th>FirstPush</th>\n",
        "      <th>LastPush</th>\n",
        "      <th>PushDurationDays</th>\n",
        "      <th>repository_homepages</th>\n",
        "      <th>repository_owners</th>\n",
        "      <th>repository_languages</th>\n",
        "      <th>WatchEvents</th>\n",
        "      <th>ForkEvents</th>\n",
        "      <th>IssuesEvents</th>\n",
        "      <th>IssueCommentEvents</th>\n",
        "      <th>ReleaseEvents</th>\n",
        "      <th>DownloadEvents</th>\n",
        "      <th>PullRequestsClosed</th>\n",
        "      <th>PullRequestsMerged</th>\n",
        "      <th>SO_repos_linked_to</th>\n",
        "      <th>SO_posts_linking_to_orgs_repos</th>\n",
        "      <th>SO_answers_linking_to_orgs_repos</th>\n",
        "      <th>org_created</th>\n",
        "      <th></th>\n",
        "    </tr>\n",
        "  </thead>\n",
        "  <tbody>\n",
        "    <tr>\n",
        "      <th>count</th>\n",
        "      <td> 557</td>\n",
        "      <td> 557</td>\n",
        "      <td>           557</td>\n",
        "      <td>           557</td>\n",
        "      <td>  557</td>\n",
        "      <td> 557</td>\n",
        "      <td> 557</td>\n",
        "      <td> 557</td>\n",
        "      <td> 557</td>\n",
        "      <td> 557</td>\n",
        "      <td> 557</td>\n",
        "      <td> 557</td>\n",
        "      <td> 32</td>\n",
        "      <td> 557</td>\n",
        "      <td> 557</td>\n",
        "      <td> 557</td>\n",
        "      <td> 557</td>\n",
        "      <td> 557</td>\n",
        "      <td> 557</td>\n",
        "      <td>                 557</td>\n",
        "      <td>...</td>\n",
        "    </tr>\n",
        "    <tr>\n",
        "      <th>unique</th>\n",
        "      <td> 246</td>\n",
        "      <td>  23</td>\n",
        "      <td>           557</td>\n",
        "      <td>           557</td>\n",
        "      <td>  335</td>\n",
        "      <td>  18</td>\n",
        "      <td>   3</td>\n",
        "      <td>  11</td>\n",
        "      <td>  79</td>\n",
        "      <td>  65</td>\n",
        "      <td>  79</td>\n",
        "      <td>  85</td>\n",
        "      <td>  9</td>\n",
        "      <td>  19</td>\n",
        "      <td>  51</td>\n",
        "      <td>  61</td>\n",
        "      <td>   5</td>\n",
        "      <td>  13</td>\n",
        "      <td>  10</td>\n",
        "      <td>                 129</td>\n",
        "      <td>...</td>\n",
        "    </tr>\n",
        "    <tr>\n",
        "      <th>top</th>\n",
        "      <td>   7</td>\n",
        "      <td>   2</td>\n",
        "      <td> 1.374496564E9</td>\n",
        "      <td> 1.384266236E9</td>\n",
        "      <td> 35.0</td>\n",
        "      <td>   0</td>\n",
        "      <td>   1</td>\n",
        "      <td>   1</td>\n",
        "      <td>   0</td>\n",
        "      <td>   0</td>\n",
        "      <td>   0</td>\n",
        "      <td>   0</td>\n",
        "      <td>  1</td>\n",
        "      <td>   0</td>\n",
        "      <td>   0</td>\n",
        "      <td>   0</td>\n",
        "      <td>   0</td>\n",
        "      <td>   0</td>\n",
        "      <td>   0</td>\n",
        "      <td> 1000-01-01 00:00:00</td>\n",
        "      <td>...</td>\n",
        "    </tr>\n",
        "    <tr>\n",
        "      <th>freq</th>\n",
        "      <td>  16</td>\n",
        "      <td> 173</td>\n",
        "      <td>             1</td>\n",
        "      <td>             1</td>\n",
        "      <td>    9</td>\n",
        "      <td> 203</td>\n",
        "      <td> 533</td>\n",
        "      <td> 228</td>\n",
        "      <td> 287</td>\n",
        "      <td> 335</td>\n",
        "      <td> 361</td>\n",
        "      <td> 380</td>\n",
        "      <td> 11</td>\n",
        "      <td> 532</td>\n",
        "      <td> 396</td>\n",
        "      <td> 351</td>\n",
        "      <td> 526</td>\n",
        "      <td> 526</td>\n",
        "      <td> 529</td>\n",
        "      <td>                 221</td>\n",
        "      <td>...</td>\n",
        "    </tr>\n",
        "  </tbody>\n",
        "</table>\n",
        "<p>4 rows \u00d7 33 columns</p>\n",
        "</div>"
       ],
       "metadata": {},
       "output_type": "pyout",
       "prompt_number": 61,
       "text": [
        "       PushEvents Pushers      FirstPush       LastPush PushDurationDays  \\\n",
        "count         557     557            557            557              557   \n",
        "unique        246      23            557            557              335   \n",
        "top             7       2  1.374496564E9  1.384266236E9             35.0   \n",
        "freq           16     173              1              1                9   \n",
        "\n",
        "       repository_homepages repository_owners repository_languages  \\\n",
        "count                   557               557                  557   \n",
        "unique                   18                 3                   11   \n",
        "top                       0                 1                    1   \n",
        "freq                    203               533                  228   \n",
        "\n",
        "       WatchEvents ForkEvents IssuesEvents IssueCommentEvents ReleaseEvents  \\\n",
        "count          557        557          557                557            32   \n",
        "unique          79         65           79                 85             9   \n",
        "top              0          0            0                  0             1   \n",
        "freq           287        335          361                380            11   \n",
        "\n",
        "       DownloadEvents PullRequestsClosed PullRequestsMerged  \\\n",
        "count             557                557                557   \n",
        "unique             19                 51                 61   \n",
        "top                 0                  0                  0   \n",
        "freq              532                396                351   \n",
        "\n",
        "       SO_repos_linked_to SO_posts_linking_to_orgs_repos  \\\n",
        "count                 557                            557   \n",
        "unique                  5                             13   \n",
        "top                     0                              0   \n",
        "freq                  526                            526   \n",
        "\n",
        "       SO_answers_linking_to_orgs_repos          org_created      \n",
        "count                               557                  557 ...  \n",
        "unique                               10                  129 ...  \n",
        "top                                   0  1000-01-01 00:00:00 ...  \n",
        "freq                                529                  221 ...  \n",
        "\n",
        "[4 rows x 33 columns]"
       ]
      }
     ],
     "prompt_number": 61
    },
    {
     "cell_type": "code",
     "collapsed": true,
     "input": [
      "import pandas.tools.rplot as rplot\n",
      "orgs = org_full_training_df.dropna()\n",
      "orgs.repository_languages"
     ],
     "language": "python",
     "metadata": {},
     "outputs": [
      {
       "metadata": {},
       "output_type": "pyout",
       "prompt_number": 57,
       "text": [
        "repository_organization\n",
        "AhuraLab                   1\n",
        "BabylonJS                  1\n",
        "Baralga                    3\n",
        "Bevenour-Studios           1\n",
        "DE-IBH                     3\n",
        "DynoSRC                    1\n",
        "FlamingCode                1\n",
        "GPMGo                      2\n",
        "HackBerkeley               7\n",
        "KudosIdeas                 1\n",
        "MeetMe                     5\n",
        "PMSI-AlignAlytics          1\n",
        "SSVC                       1\n",
        "Sandglaz                   2\n",
        "StupidStudio               1\n",
        "agilemd                    3\n",
        "braincrafted               3\n",
        "eggforsale                 3\n",
        "enb-make                   1\n",
        "ese-unibe-ch               4\n",
        "intermine                  9\n",
        "joosy                      4\n",
        "keplerproject              3\n",
        "mysociety                  9\n",
        "odentools                  1\n",
        "plasticpanda               4\n",
        "qooxdoo                    2\n",
        "saltstack                  8\n",
        "semfact                    6\n",
        "sportsynergy               2\n",
        "yardstick                  5\n",
        "yaybu                      4\n",
        "Name: repository_languages, dtype: object"
       ]
      }
     ],
     "prompt_number": 57
    },
    {
     "cell_type": "code",
     "collapsed": false,
     "input": [
      "pl =  plt.figure()\n",
      "plot = rplot.RPlot(orgs, x='PushEvents', y='Pushers')\n",
      "# plot.add(rplot.TrellisGrid(['type', 'repository_languages']))\n",
      "plot.add(rplot.GeomHistogram())\n",
      "plot.render(plt.gcf())"
     ],
     "language": "python",
     "metadata": {},
     "outputs": [
      {
       "ename": "TypeError",
       "evalue": "coercing to Unicode: need string or buffer, float found",
       "output_type": "pyerr",
       "traceback": [
        "\u001b[1;31m---------------------------------------------------------------------------\u001b[0m\n\u001b[1;31mTypeError\u001b[0m                                 Traceback (most recent call last)",
        "\u001b[1;32m<ipython-input-58-94bac4292902>\u001b[0m in \u001b[0;36m<module>\u001b[1;34m()\u001b[0m\n\u001b[0;32m      3\u001b[0m \u001b[1;31m# plot.add(rplot.TrellisGrid(['type', 'repository_languages']))\u001b[0m\u001b[1;33m\u001b[0m\u001b[1;33m\u001b[0m\u001b[0m\n\u001b[0;32m      4\u001b[0m \u001b[0mplot\u001b[0m\u001b[1;33m.\u001b[0m\u001b[0madd\u001b[0m\u001b[1;33m(\u001b[0m\u001b[0mrplot\u001b[0m\u001b[1;33m.\u001b[0m\u001b[0mGeomHistogram\u001b[0m\u001b[1;33m(\u001b[0m\u001b[1;33m)\u001b[0m\u001b[1;33m)\u001b[0m\u001b[1;33m\u001b[0m\u001b[0m\n\u001b[1;32m----> 5\u001b[1;33m \u001b[0mplot\u001b[0m\u001b[1;33m.\u001b[0m\u001b[0mrender\u001b[0m\u001b[1;33m(\u001b[0m\u001b[0mplt\u001b[0m\u001b[1;33m.\u001b[0m\u001b[0mgcf\u001b[0m\u001b[1;33m(\u001b[0m\u001b[1;33m)\u001b[0m\u001b[1;33m)\u001b[0m\u001b[1;33m\u001b[0m\u001b[0m\n\u001b[0m",
        "\u001b[1;32m/usr/local/lib/python2.7/dist-packages/pandas/tools/rplot.pyc\u001b[0m in \u001b[0;36mrender\u001b[1;34m(self, fig)\u001b[0m\n\u001b[0;32m    841\u001b[0m             \u001b[0mnew_layers\u001b[0m \u001b[1;33m=\u001b[0m \u001b[0msequence_layers\u001b[0m\u001b[1;33m(\u001b[0m\u001b[0mself\u001b[0m\u001b[1;33m.\u001b[0m\u001b[0mlayers\u001b[0m\u001b[1;33m)\u001b[0m\u001b[1;33m\u001b[0m\u001b[0m\n\u001b[0;32m    842\u001b[0m             \u001b[1;32mfor\u001b[0m \u001b[0mlayer\u001b[0m \u001b[1;32min\u001b[0m \u001b[0mnew_layers\u001b[0m\u001b[1;33m:\u001b[0m\u001b[1;33m\u001b[0m\u001b[0m\n\u001b[1;32m--> 843\u001b[1;33m                 \u001b[0mlayer\u001b[0m\u001b[1;33m.\u001b[0m\u001b[0mwork\u001b[0m\u001b[1;33m(\u001b[0m\u001b[0mfig\u001b[0m\u001b[1;33m=\u001b[0m\u001b[0mfig\u001b[0m\u001b[1;33m)\u001b[0m\u001b[1;33m\u001b[0m\u001b[0m\n\u001b[0m\u001b[0;32m    844\u001b[0m             \u001b[0mlegend\u001b[0m \u001b[1;33m=\u001b[0m \u001b[1;33m{\u001b[0m\u001b[1;33m}\u001b[0m\u001b[1;33m\u001b[0m\u001b[0m\n\u001b[0;32m    845\u001b[0m             \u001b[1;32mfor\u001b[0m \u001b[0mlayer\u001b[0m \u001b[1;32min\u001b[0m \u001b[0mnew_layers\u001b[0m\u001b[1;33m:\u001b[0m\u001b[1;33m\u001b[0m\u001b[0m\n",
        "\u001b[1;32m/usr/local/lib/python2.7/dist-packages/pandas/tools/rplot.pyc\u001b[0m in \u001b[0;36mwork\u001b[1;34m(self, fig, ax)\u001b[0m\n\u001b[0;32m    500\u001b[0m                 \u001b[0max\u001b[0m \u001b[1;33m=\u001b[0m \u001b[0mfig\u001b[0m\u001b[1;33m.\u001b[0m\u001b[0mgca\u001b[0m\u001b[1;33m(\u001b[0m\u001b[1;33m)\u001b[0m\u001b[1;33m\u001b[0m\u001b[0m\n\u001b[0;32m    501\u001b[0m         \u001b[0mx\u001b[0m \u001b[1;33m=\u001b[0m \u001b[0mself\u001b[0m\u001b[1;33m.\u001b[0m\u001b[0mdata\u001b[0m\u001b[1;33m[\u001b[0m\u001b[0mself\u001b[0m\u001b[1;33m.\u001b[0m\u001b[0maes\u001b[0m\u001b[1;33m[\u001b[0m\u001b[1;34m'x'\u001b[0m\u001b[1;33m]\u001b[0m\u001b[1;33m]\u001b[0m\u001b[1;33m\u001b[0m\u001b[0m\n\u001b[1;32m--> 502\u001b[1;33m         \u001b[0max\u001b[0m\u001b[1;33m.\u001b[0m\u001b[0mhist\u001b[0m\u001b[1;33m(\u001b[0m\u001b[0m_values_from_object\u001b[0m\u001b[1;33m(\u001b[0m\u001b[0mx\u001b[0m\u001b[1;33m)\u001b[0m\u001b[1;33m,\u001b[0m \u001b[0mself\u001b[0m\u001b[1;33m.\u001b[0m\u001b[0mbins\u001b[0m\u001b[1;33m,\u001b[0m \u001b[0mfacecolor\u001b[0m\u001b[1;33m=\u001b[0m\u001b[0mself\u001b[0m\u001b[1;33m.\u001b[0m\u001b[0mcolour\u001b[0m\u001b[1;33m)\u001b[0m\u001b[1;33m\u001b[0m\u001b[0m\n\u001b[0m\u001b[0;32m    503\u001b[0m         \u001b[0max\u001b[0m\u001b[1;33m.\u001b[0m\u001b[0mset_xlabel\u001b[0m\u001b[1;33m(\u001b[0m\u001b[0mself\u001b[0m\u001b[1;33m.\u001b[0m\u001b[0maes\u001b[0m\u001b[1;33m[\u001b[0m\u001b[1;34m'x'\u001b[0m\u001b[1;33m]\u001b[0m\u001b[1;33m)\u001b[0m\u001b[1;33m\u001b[0m\u001b[0m\n\u001b[0;32m    504\u001b[0m         \u001b[1;32mreturn\u001b[0m \u001b[0mfig\u001b[0m\u001b[1;33m,\u001b[0m \u001b[0max\u001b[0m\u001b[1;33m\u001b[0m\u001b[0m\n",
        "\u001b[1;32m/usr/lib/pymodules/python2.7/matplotlib/axes.pyc\u001b[0m in \u001b[0;36mhist\u001b[1;34m(self, x, bins, range, normed, weights, cumulative, bottom, histtype, align, orientation, rwidth, log, color, label, **kwargs)\u001b[0m\n\u001b[0;32m   7732\u001b[0m             \u001b[1;31m# this will automatically overwrite bins,\u001b[0m\u001b[1;33m\u001b[0m\u001b[1;33m\u001b[0m\u001b[0m\n\u001b[0;32m   7733\u001b[0m             \u001b[1;31m# so that each histogram uses the same bins\u001b[0m\u001b[1;33m\u001b[0m\u001b[1;33m\u001b[0m\u001b[0m\n\u001b[1;32m-> 7734\u001b[1;33m             \u001b[0mm\u001b[0m\u001b[1;33m,\u001b[0m \u001b[0mbins\u001b[0m \u001b[1;33m=\u001b[0m \u001b[0mnp\u001b[0m\u001b[1;33m.\u001b[0m\u001b[0mhistogram\u001b[0m\u001b[1;33m(\u001b[0m\u001b[0mx\u001b[0m\u001b[1;33m[\u001b[0m\u001b[0mi\u001b[0m\u001b[1;33m]\u001b[0m\u001b[1;33m,\u001b[0m \u001b[0mbins\u001b[0m\u001b[1;33m,\u001b[0m \u001b[0mweights\u001b[0m\u001b[1;33m=\u001b[0m\u001b[0mw\u001b[0m\u001b[1;33m[\u001b[0m\u001b[0mi\u001b[0m\u001b[1;33m]\u001b[0m\u001b[1;33m,\u001b[0m \u001b[1;33m**\u001b[0m\u001b[0mhist_kwargs\u001b[0m\u001b[1;33m)\u001b[0m\u001b[1;33m\u001b[0m\u001b[0m\n\u001b[0m\u001b[0;32m   7735\u001b[0m             \u001b[1;32mif\u001b[0m \u001b[0mnormed\u001b[0m\u001b[1;33m:\u001b[0m\u001b[1;33m\u001b[0m\u001b[0m\n\u001b[0;32m   7736\u001b[0m                 \u001b[0mdb\u001b[0m \u001b[1;33m=\u001b[0m \u001b[0mnp\u001b[0m\u001b[1;33m.\u001b[0m\u001b[0mdiff\u001b[0m\u001b[1;33m(\u001b[0m\u001b[0mbins\u001b[0m\u001b[1;33m)\u001b[0m\u001b[1;33m\u001b[0m\u001b[0m\n",
        "\u001b[1;32m/usr/local/lib/python2.7/dist-packages/numpy/lib/function_base.pyc\u001b[0m in \u001b[0;36mhistogram\u001b[1;34m(a, bins, range, normed, weights, density)\u001b[0m\n\u001b[0;32m    174\u001b[0m             \u001b[1;32melse\u001b[0m\u001b[1;33m:\u001b[0m\u001b[1;33m\u001b[0m\u001b[0m\n\u001b[0;32m    175\u001b[0m                 \u001b[0mrange\u001b[0m \u001b[1;33m=\u001b[0m \u001b[1;33m(\u001b[0m\u001b[0ma\u001b[0m\u001b[1;33m.\u001b[0m\u001b[0mmin\u001b[0m\u001b[1;33m(\u001b[0m\u001b[1;33m)\u001b[0m\u001b[1;33m,\u001b[0m \u001b[0ma\u001b[0m\u001b[1;33m.\u001b[0m\u001b[0mmax\u001b[0m\u001b[1;33m(\u001b[0m\u001b[1;33m)\u001b[0m\u001b[1;33m)\u001b[0m\u001b[1;33m\u001b[0m\u001b[0m\n\u001b[1;32m--> 176\u001b[1;33m         \u001b[0mmn\u001b[0m\u001b[1;33m,\u001b[0m \u001b[0mmx\u001b[0m \u001b[1;33m=\u001b[0m \u001b[1;33m[\u001b[0m\u001b[0mmi\u001b[0m\u001b[1;33m+\u001b[0m\u001b[1;36m0.0\u001b[0m \u001b[1;32mfor\u001b[0m \u001b[0mmi\u001b[0m \u001b[1;32min\u001b[0m \u001b[0mrange\u001b[0m\u001b[1;33m]\u001b[0m\u001b[1;33m\u001b[0m\u001b[0m\n\u001b[0m\u001b[0;32m    177\u001b[0m         \u001b[1;32mif\u001b[0m \u001b[0mmn\u001b[0m \u001b[1;33m==\u001b[0m \u001b[0mmx\u001b[0m\u001b[1;33m:\u001b[0m\u001b[1;33m\u001b[0m\u001b[0m\n\u001b[0;32m    178\u001b[0m             \u001b[0mmn\u001b[0m \u001b[1;33m-=\u001b[0m \u001b[1;36m0.5\u001b[0m\u001b[1;33m\u001b[0m\u001b[0m\n",
        "\u001b[1;31mTypeError\u001b[0m: coercing to Unicode: need string or buffer, float found"
       ]
      },
      {
       "metadata": {},
       "output_type": "display_data",
       "png": "[encoded data removed]",
       "text": [
        "<matplotlib.figure.Figure at 0x2473b32c>"
       ]
      }
     ],
     "prompt_number": 58
    }
   ],
   "metadata": {}
  }
 ]
}