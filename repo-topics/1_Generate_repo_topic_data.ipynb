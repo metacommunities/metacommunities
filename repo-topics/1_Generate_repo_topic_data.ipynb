{
 "metadata": {
  "name": ""
 },
 "nbformat": 3,
 "nbformat_minor": 0,
 "worksheets": [
  {
   "cells": [
    {
     "cell_type": "code",
     "collapsed": false,
     "input": [
      "import redis\n",
      "import pandas as pd\n",
      "import re"
     ],
     "language": "python",
     "metadata": {},
     "outputs": [],
     "prompt_number": 1
    },
    {
     "cell_type": "markdown",
     "metadata": {},
     "source": [
      "# Topics of github repos \n",
      "\n",
      "How far in classifying all the repositories can we get by using repo names? And also departing from the github showcases?\n",
      "I'm taking a fairly rough but encompassing approach by using lists of sofware from various sources.  I've cleaned the lists quite a bit in making them. \n",
      "\n",
      "## List of topics/domains\n",
      "\n",
      "There are three main sources of topics I'm drawing on here. \n",
      "\n",
      "1. List of software, often found on wikipedia or specialist sites\n",
      "2. A big list (several thousand) of file formats categorised by domain\n",
      "3. A list of disciplines and fields\n",
      "\n",
      "Combining these helps identify components of github repository names. \n",
      "I've also got an idea that these components constitute an intensive time-space metacommunity. \n"
     ]
    },
    {
     "cell_type": "markdown",
     "metadata": {},
     "source": [
      "## Possible domains:\n",
      "\n",
      "\n",
      "\n",
      "1. databases: -- use a list of them: see http://db-engines.com/en/ranking -- DONE\n",
      "2. web frameworks: -- use a list of them -- apache, ruby on rails, asp.net, symphony, etc: see http://hotframeworks.com/ DONE\n",
      "3. editing tools and code development tools: -- using a list of them -- wikipedia has one http://en.wikipedia.org/wiki/List_of_text_editors; and for ides: http://en.wikipedia.org/wiki/Comparison_of_integrated_development_environments\n",
      "4. github and git components: -- need to use search on reponame for these; -- DONE\n",
      "5. test repos for testing github use: -- query reponames for 'test|try|demo|hello' -- DONE\n",
      "6. dot or config files for bash, zsh, tmux, csh, vim, emacs: , etc -- list for these including 'bash|zsh|tmux|csh|vim|emacs|dot?file' -- DONE\n",
      "7. javascript libraries for web pages: - jquery, bootstrap  - http://en.wikipedia.org/wiki/List_of_JavaScript_libraries DONE\n",
      "8. data visualization: d3.js, ggplot2, matplotlib, 'dashboard|infoviz|chart|plot'\n",
      "9. machine learning: in title or in description -- the phrase, plus 'advanced analytics'; perhaps algorithms by name - vowpal, support vector machine, neural net, etc - http://en.wikipedia.org/wiki/List_of_machine_learning_algorithms and added a list of software from  http://en.wikipedia.org/wiki/Machine_learning -- DONE\n",
      "10. icons and fonts and emojis: -- just search for these literals in the name -- DONE\n",
      "11. css tools and libraries: -- css like bootstrap -- http://en.wikipedia.org/wiki/CSS_frameworks -- DONE\n",
      "12. package and library management: -- rubygems, apt, cran, cpan, homebrew, etc - http://en.wikipedia.org/wiki/List_of_software_package_management_systems -- DONE\n",
      "13. server administration, virtualization and infrastructural services: -- chef, including operating systems and cloud platforms like azure, etcsee http://newrelic.com/devops/toolset -- DONE\n",
      "14. drawing and graphic design: -- gimp, inkscape, svg, png, illustrator, sketch, draw, cad, raytrace -- CHECK FILE FORMATS on this\n",
      "15. video, sound and image processing: --  'video, youtube, image,  jpeg, mp3, mpeg, audio, sound, photograph' -- DONE\n",
      "16. code cleaning: -- linters\n",
      "17. policies: -- legal, political, data, \n",
      "18. books: -- mainly technical, but probably others too; tons of these, but many are code-based. Used manual query.  -- DONE\n",
      "19. games: -- use 'game' in the reponames -- again, many just with this simple query, but also 'xbox, ps3, wii', '['game', 'xbox', 'playstation', 'wii', 'kinect', 'nintendo', 'minecraft', 'warcraft'].\n",
      "20. programming languages: -- development of the languages, but also as programming platforms against on which things are made\n",
      "21. computational architectures and operating systems: -- linux, openwrt  -- DONE?\n",
      "22. science and modelling: -- of what? molecules, populations, dynamic systems, etc -- huge list of disciplines http://en.wikipedia.org/wiki/List_of_academic_disciplines_and_sub-disciplines that I've downloaded and cleaned a bit. \n",
      "23. hardware devices: -- arduino, raspberry pi, android, ios, blackberry - they bring many libraries to them; --'arduino|raspberry|android|ios|blackberry|armv|symbian'  DONE\n",
      "24. data manipulation, statistics and calculation: -- pandas, numpy, but also spreadsheets -- hard to define this list -- I started with this http://en.wikipedia.org/wiki/List_of_statistical_packages  and then appended this http://en.wikipedia.org/wiki/List_of_numerical_analysis_software -- DONE\n",
      "25. build and build management tools: -- compilers, but also continuous systems like Jenkins -- http://en.wikipedia.org/wiki/List_of_compilers; http://en.wikipedia.org/wiki/Continuous_integration#Software -- DONE\n",
      "26. maps and gis: -- libraries, tools and maps -- search for gps, geo, gis - http://en.wikipedia.org/wiki/List_of_geographic_information_systems_software - DONE\n",
      "27. business software: -- accounting, finance, personal or business including spreadsheets (xls) \n",
      "28. data processing architectures: -- Hadoop\n",
      "30. Social media platforms: -- how could I forget -- http://en.wikipedia.org/wiki/List_of_social_networking_websites -- DONE\n",
      "31. internet protocols and services: - ftp, smtp, etc, etc -- used http://en.wikipedia.org/wiki/Lists_of_network_protocols  DONE -- might need to add more to the list of 18 -- \n",
      "32. document processing -- wordprocessing, desktop publishing, presentations, docx, markdown, latex, etc; then just 'document|presentation|' \n",
      "32. Github as a blog or webpage -- search for 'github.com|github.io' -- DONE\n",
      "33. cracks and downloads -- 'crack|download' -- DONE\n",
      "34. filehandling tools -- archives, compression, etc -- use fileformats?"
     ]
    },
    {
     "cell_type": "markdown",
     "metadata": {},
     "source": [
      "Each of these domains -- and there are probably more to be added -- is populated by a range of different pieces of software, implemented in different languages, and with different relations to each other. Even assembling a fully list of the main pieces of software would be a significant achievement, and useful in making sense of why Github looks like it does. There would also be many overlaps between them. \n",
      "\n",
      "The aim would be to process all of the 12 million repo names in the list and try to classify them using a mixture of rules. Given the name of a repo, what it groups does it belong to. The mapping that results would be like a treemap, with some blurry edges. "
     ]
    },
    {
     "cell_type": "markdown",
     "metadata": {},
     "source": [
      "#  File formats\n",
      "\n",
      "This is a huge list. They provide pointers to different domains and connect between them (e.g. xml, json vs svg, etc). See http://en.wikipedia.org/wiki/List_of_file_formats; could be interesting to use this as a lens overall; or as a way to augment any of the list givens above all.  "
     ]
    },
    {
     "cell_type": "code",
     "collapsed": false,
     "input": [
      "file_formats = pd.read_csv('topic_lists/file_formats.csv', sep='\\t', header=None, names = ['domain', 'filetype', 'description'])\n",
      "file_formats = file_formats.apply(lambda x: x.str.strip().str.lower())\n",
      "file_formats['domain'].value_counts()\n",
      "# file_formats.head()"
     ],
     "language": "python",
     "metadata": {},
     "outputs": [
      {
       "metadata": {},
       "output_type": "pyout",
       "prompt_number": 134,
       "text": [
        "graphics                                 162\n",
        "video game data                          122\n",
        "source code for computer programs         88\n",
        "computer-aided                            87\n",
        "sound and music                           75\n",
        "archive and compressed                    73\n",
        "document                                  65\n",
        "database                                  59\n",
        "script                                    46\n",
        "object code                               41\n",
        "spreadsheet                               34\n",
        "video                                     31\n",
        "electronic design automation (eda)        29\n",
        "webpage                                   24\n",
        "presentation                              22\n",
        "molecular biology and bioinformatics:     22\n",
        "font file                                 21\n",
        "physical recordable media archiving       20\n",
        "virtual machines                          19\n",
        "biomedical signals (time series)          18\n",
        "audio editing                             17\n",
        "geographic information system             14\n",
        "page description language                 14\n",
        "signal data (non-audio)                   13\n",
        "desktop publishing                        12\n",
        "biomedical imaging                        11\n",
        "scientific data (data exchange)            9\n",
        "graphical information organizers           8\n",
        "playlists                                  8\n",
        "video editing                              7\n",
        "xml                                        7\n",
        "personal information manager               6\n",
        "multi-domain                               5\n",
        "qemu                                       4\n",
        "financial records                          4\n",
        "tabulated data                             4\n",
        "chemistry                                  4\n",
        "meteorology                                4\n",
        "mathematical                               4\n",
        "parallels workstation                      3\n",
        "reference management software              3\n",
        "other biomedical formats                   2\n",
        "project management software                1\n",
        "test technology                            1\n",
        "mathematics                                1\n",
        "dtype: int64"
       ]
      }
     ],
     "prompt_number": 134
    },
    {
     "cell_type": "markdown",
     "metadata": {},
     "source": [
      "This list of file types suggests some things I haven't looked at properly. "
     ]
    },
    {
     "cell_type": "code",
     "collapsed": false,
     "input": [
      "repo_table = 'metacommunities:github_proper.repo_list'\n",
      "\n",
      "def construct_repo_df(query, description = True):\n",
      "    \"\"\" For a given query, return all the repo names, full names and fork\n",
      "    from the master list of reponames held on the githubarchive timeline.\n",
      "    It uses regular expression to do this.\n",
      "    \n",
      "    @param: description - if True, will use the 'description' field too\"\"\"\n",
      "    \n",
      "    print('starting bigquery ... ')\n",
      "    #to deal with the way people name repositories, try various separator characters\n",
      "    query = re.subn('[-_\\s+]', '.?', query)[0]\n",
      "    query = re.subn('[,\\(\\):]', '', query)[0]\n",
      "    print query\n",
      "    if description:\n",
      "        full_query = 'SELECT name, full_name, fork FROM [github_proper.repo_list] where regexp_match(name,\"' + query +'\") or regexp_match(description,\"'+ query +'\")'\n",
      "                          \n",
      "    else:\n",
      "        full_query = 'SELECT name, full_name, fork FROM [github_proper.repo_list] where regexp_match(name,\"' + query +'\")'\n",
      "            \n",
      "    full_df = pd.io.gbq.read_gbq(full_query)\n",
      "    print(full_df.shape)\n",
      "    return full_df\n"
     ],
     "language": "python",
     "metadata": {},
     "outputs": [],
     "prompt_number": 2
    },
    {
     "cell_type": "markdown",
     "metadata": {},
     "source": [
      "# Repo domains"
     ]
    },
    {
     "cell_type": "markdown",
     "metadata": {},
     "source": [
      "## Spam and download repositories\n",
      "\n",
      "Many events on the github timeline might be produced by botnets or spammers. There are many repositories that appear and disappear from the timeline. Yet they add to the overall repository count. "
     ]
    },
    {
     "cell_type": "code",
     "collapsed": false,
     "input": [
      "spam_query = 'crack|download'\n",
      "spam_df = construct_repo_df(spam_query, description = False)\n"
     ],
     "language": "python",
     "metadata": {},
     "outputs": [
      {
       "output_type": "stream",
       "stream": "stdout",
       "text": [
        "starting bigquery ... \n",
        "crack|download\n",
        "\r",
        "Waiting on bqjob_r26669aa4c9c8a9dd_0000014610ab3357_1 ... (0s) Current status: DONE   "
       ]
      },
      {
       "output_type": "stream",
       "stream": "stdout",
       "text": [
        "\n",
        "(32853, 3)"
       ]
      },
      {
       "output_type": "stream",
       "stream": "stdout",
       "text": [
        "\n"
       ]
      }
     ],
     "prompt_number": 3
    },
    {
     "cell_type": "code",
     "collapsed": false,
     "input": [
      "long_title_query = 'SELECT name, full_name, fork FROM [github_proper.repo_list] where length(name) > 40'\n",
      "long_title_df = pd.io.gbq.read_gbq(long_title_query)\n",
      "print(long_title_df.shape)"
     ],
     "language": "python",
     "metadata": {},
     "outputs": [
      {
       "output_type": "stream",
       "stream": "stdout",
       "text": [
        "\r",
        "Waiting on bqjob_r7528a1fc7e91a1d9_0000014610b0b2cc_3 ... (2s) Current status: RUNNING "
       ]
      },
      {
       "output_type": "stream",
       "stream": "stdout",
       "text": [
        "\r",
        "Waiting on bqjob_r7528a1fc7e91a1d9_0000014610b0b2cc_3 ... (2s) Current status: DONE   \n",
        "(45955, 3)"
       ]
      },
      {
       "output_type": "stream",
       "stream": "stdout",
       "text": [
        "\n"
       ]
      }
     ],
     "prompt_number": 7
    },
    {
     "cell_type": "code",
     "collapsed": false,
     "input": [
      "# keep all the Bayesian probability programming books\n",
      "long_title_df = long_title_df.ix[-long_title_df.name.str.contains('Bayesian')]\n",
      "long_title_df.shape"
     ],
     "language": "python",
     "metadata": {},
     "outputs": [
      {
       "metadata": {},
       "output_type": "pyout",
       "prompt_number": 25,
       "text": [
        "(45091, 3)"
       ]
      }
     ],
     "prompt_number": 25
    },
    {
     "cell_type": "code",
     "collapsed": false,
     "input": [
      "spam_df = pd.concat([spam_df, long_title_df])\n",
      "spam_df = spam_df.drop_duplicates()\n",
      "spam_df.shape"
     ],
     "language": "python",
     "metadata": {},
     "outputs": [
      {
       "metadata": {},
       "output_type": "pyout",
       "prompt_number": 28,
       "text": [
        "(73400, 3)"
       ]
      }
     ],
     "prompt_number": 28
    },
    {
     "cell_type": "markdown",
     "metadata": {},
     "source": [
      "## Test/try/demo repos\n",
      "\n",
      "Many people just play a bit with git or github"
     ]
    },
    {
     "cell_type": "code",
     "collapsed": false,
     "input": [
      "test_query = 'test|try|demo|hello'\n",
      "test_df = construct_repo_df(test_query, description=False)"
     ],
     "language": "python",
     "metadata": {},
     "outputs": [
      {
       "output_type": "stream",
       "stream": "stdout",
       "text": [
        "starting bigquery ... \n",
        "test|try|demo|hello\n",
        "\r",
        "Waiting on bqjob_rf3a2c590a12a3c9_00000145fc27971e_113 ... (0s) Current status: RUNNING"
       ]
      },
      {
       "output_type": "stream",
       "stream": "stdout",
       "text": [
        " \r",
        "Waiting on bqjob_rf3a2c590a12a3c9_00000145fc27971e_113 ... (2s) Current status: RUNNING "
       ]
      },
      {
       "output_type": "stream",
       "stream": "stdout",
       "text": [
        "\r",
        "Waiting on bqjob_rf3a2c590a12a3c9_00000145fc27971e_113 ... (4s) Current status: RUNNING "
       ]
      },
      {
       "output_type": "stream",
       "stream": "stdout",
       "text": [
        "\r",
        "Waiting on bqjob_rf3a2c590a12a3c9_00000145fc27971e_113 ... (4s) Current status: DONE   \n",
        "(416771, 3)"
       ]
      },
      {
       "output_type": "stream",
       "stream": "stdout",
       "text": [
        "\n"
       ]
      }
     ],
     "prompt_number": 367
    },
    {
     "cell_type": "code",
     "collapsed": false,
     "input": [
      "test_df.head()"
     ],
     "language": "python",
     "metadata": {},
     "outputs": []
    },
    {
     "cell_type": "markdown",
     "metadata": {},
     "source": [
      "As expected, this is quite a big number of repos -- 0.4M. "
     ]
    },
    {
     "cell_type": "markdown",
     "metadata": {},
     "source": [
      "## Code editors and IDEs\n",
      "\n",
      "These have to be a basic part of the Github world, since nearly everything we find there has been written in some kind of text editor. There are around 120 editors and 133 IDes in the Wikipedia list.\n",
      "\n",
      "Matching problems occur around some editor names -- 'ee', and 'ed' for instance are text editors on Unix and BSD platforms. It's hard to get good matches on those. "
     ]
    },
    {
     "cell_type": "code",
     "collapsed": false,
     "input": [
      "editors = pd.read_csv('topic_lists/editors.csv', header = None, names = ['name'])\n",
      "print(editors.shape)\n",
      "ides = pd.read_csv('topic_lists/ide_list.csv', header=None, names = ['name']).drop_duplicates()\n",
      "print(ides.shape)"
     ],
     "language": "python",
     "metadata": {},
     "outputs": [
      {
       "output_type": "stream",
       "stream": "stdout",
       "text": [
        "(113, 1)\n",
        "(116, 1)\n"
       ]
      }
     ],
     "prompt_number": 388
    },
    {
     "cell_type": "code",
     "collapsed": false,
     "input": [
      "print(ides.head())\n",
      "editors.sort(inplace=True, columns =['name'])\n",
      "editors.drop_duplicates(inplace=True, cols = ['name'])\n",
      "\n",
      "print(editors['name'].head())"
     ],
     "language": "python",
     "metadata": {},
     "outputs": [
      {
       "output_type": "stream",
       "stream": "stdout",
       "text": [
        "                   name\n",
        "0        Flash Builder \n",
        "1  Allegro Common Lisp \n",
        "2               Anjuta \n",
        "5               AppCode\n",
        "6        Aptana Studio \n",
        "\n",
        "[5 rows x 1 columns]\n",
        "1              Acme \n",
        "2           AkelPad \n",
        "3           Alphatk \n",
        "4    Aquamacs Emacs \n",
        "5     Arachnophilia \n",
        "Name: name, dtype: object\n"
       ]
      }
     ],
     "prompt_number": 389
    },
    {
     "cell_type": "code",
     "collapsed": false,
     "input": [
      "ed_query_1 = '|'.join(editors['name'][:50].str.strip()).lower().replace('++', '\\\\\\+\\\\\\+')\n",
      "\n",
      "ed_query_2 = '|'.join(editors['name'][50:].str.strip()).lower().replace('++', '\\\\\\+\\\\\\+')\n",
      "\n",
      "ide_query = '|'.join(ides['name'].str.strip()).lower().replace('++', '\\\\\\+\\\\\\+')\n"
     ],
     "language": "python",
     "metadata": {},
     "outputs": [],
     "prompt_number": 390
    },
    {
     "cell_type": "code",
     "collapsed": false,
     "input": [
      "ide_df = construct_repo_df(ide_query, description=False)"
     ],
     "language": "python",
     "metadata": {},
     "outputs": [
      {
       "output_type": "stream",
       "stream": "stdout",
       "text": [
        "starting bigquery ... \n",
        "flash.?builder|allegro.?common.?lisp|anjuta|appcode|aptana.?studio|aptana.?studio|basic|basic4android|blackbox.?component.?builder|bluej|c\\\\+\\\\+builder|code::blocks|codea|codelite|codelobster|codenvy|component.?pascal|cpide|decoda|dev.?c\\\\+\\\\+|dolphin smalltalk|drjava|drracket|eclipse cdt|eclipse dltk|eclipse epic|eclipse jdt|eclipse jdt ibm|eclipse pdt|eclipse w/ aonixadt[1]|eclipse web tools|eiffelstudio|eric python and ruby ide|express edition: freeware|flashdevelop|free pascal ide|gambas|geany|gnat programming studio|greenfoot|html-kit|intellij idea|jbuilder|jcreator|jdeveloper|jgrasp|kdevelop|komodo ide|komodo ide / edit|labwindows/cvi|lazarus|lccwin32|lispworks|microsoft small basic|microsoft visual studio|microsoft visual studio express|midletpascal|monodevelop|morfik|mseide|myeclipse|netbeans|netbeans c/c\\\\+\\\\+ pack|ninja-ide|nodeclipse nts|nusphere phped|openwatcom|oracle jdeveloper|oracle solaris studio|oxygene|padre|pascal, object pascal|pelles c|pharo|philasmicos entwickler studio|photran|phpeclipse|phped professional|phpedit|phpstorm|pida|pocketstudio|purebasic|pycharm|pydev|pyscripter|python tools for visual studio|pythonanywhere|pythonista|qt creator|quanta plus|racket|radphp (formerly delphi for php)|rational application developer|rational software architect|realaxy actionscript editor|rubymine|servoy|sharpdevelop|slime|small basic|spyder|squeak|stani's python editor|ultimate\\\\+\\\\+ theide|visual studio|visualworks|webdev|webstorm|windev|wing ide|wlanguage|wxdev-c\\\\+\\\\+|xcode|xojo|zend studio\n",
        "\r",
        "Waiting on bqjob_r6d0e0d7c13790c60_00000145fc4ebe91_120 ... (0s) Current status: RUNNING"
       ]
      },
      {
       "output_type": "stream",
       "stream": "stdout",
       "text": [
        " \r",
        "Waiting on bqjob_r6d0e0d7c13790c60_00000145fc4ebe91_120 ... (0s) Current status: DONE   \n",
        "(21347, 3)"
       ]
      },
      {
       "output_type": "stream",
       "stream": "stdout",
       "text": [
        "\n"
       ]
      }
     ],
     "prompt_number": 391
    },
    {
     "cell_type": "code",
     "collapsed": false,
     "input": [
      "ide_df.head()"
     ],
     "language": "python",
     "metadata": {},
     "outputs": [
      {
       "html": [
        "<div style=\"max-height:1000px;max-width:1500px;overflow:auto;\">\n",
        "<table border=\"1\" class=\"dataframe\">\n",
        "  <thead>\n",
        "    <tr style=\"text-align: right;\">\n",
        "      <th></th>\n",
        "      <th>name</th>\n",
        "      <th>full_name</th>\n",
        "      <th>fork</th>\n",
        "    </tr>\n",
        "  </thead>\n",
        "  <tbody>\n",
        "    <tr>\n",
        "      <th>0</th>\n",
        "      <td>                 brackets</td>\n",
        "      <td>              shreyass/brackets</td>\n",
        "      <td> 1</td>\n",
        "    </tr>\n",
        "    <tr>\n",
        "      <th>1</th>\n",
        "      <td>                   racket</td>\n",
        "      <td>                cadre-io/racket</td>\n",
        "      <td> 1</td>\n",
        "    </tr>\n",
        "    <tr>\n",
        "      <th>2</th>\n",
        "      <td> elasticsearch-http-basic</td>\n",
        "      <td> hagun/elasticsearch-http-basic</td>\n",
        "      <td> 1</td>\n",
        "    </tr>\n",
        "    <tr>\n",
        "      <th>3</th>\n",
        "      <td>                 brackets</td>\n",
        "      <td>            tengle1080/brackets</td>\n",
        "      <td> 1</td>\n",
        "    </tr>\n",
        "    <tr>\n",
        "      <th>4</th>\n",
        "      <td>                 brackets</td>\n",
        "      <td>          Nathan-Smith/brackets</td>\n",
        "      <td> 1</td>\n",
        "    </tr>\n",
        "  </tbody>\n",
        "</table>\n",
        "<p>5 rows \u00d7 3 columns</p>\n",
        "</div>"
       ],
       "metadata": {},
       "output_type": "pyout",
       "prompt_number": 392,
       "text": [
        "                       name                       full_name  fork\n",
        "0                  brackets               shreyass/brackets     1\n",
        "1                    racket                 cadre-io/racket     1\n",
        "2  elasticsearch-http-basic  hagun/elasticsearch-http-basic     1\n",
        "3                  brackets             tengle1080/brackets     1\n",
        "4                  brackets           Nathan-Smith/brackets     1\n",
        "\n",
        "[5 rows x 3 columns]"
       ]
      }
     ],
     "prompt_number": 392
    },
    {
     "cell_type": "code",
     "collapsed": false,
     "input": [
      "editor_df = construct_repo_df(ed_query_1)"
     ],
     "language": "python",
     "metadata": {},
     "outputs": [
      {
       "output_type": "stream",
       "stream": "stdout",
       "text": [
        "starting bigquery ... \n",
        "acme|akelpad|alphatk|aquamacs.?emacs|arachnophilia|atom|bbedit|bbedit.?lite|bluefish|codewright|context|cream|crimson.?editor|cygnused|diakonos|e.?text.?editor|eddie|editplus|elvis|emeditor|emacs|epsilon|extensible.?versatile.?editor|gnu.?emacs/xemacs|gwd.?text editor|geany|golded|html kit|hxd|inlage latex editor|jed|joe|jove|juffed|kwrite|kate|kedit|kile|kod|komodo edit|led \u2013 latex editor|language-sensitive editor|lapis|leafpad|leo|light table|ms-dos editor|madedit|metapad|microemacs\n",
        "\r",
        "Waiting on bqjob_r77b2c3286c134273_00000145fc4f90b0_121 ... (0s) Current status: RUNNING"
       ]
      },
      {
       "output_type": "stream",
       "stream": "stdout",
       "text": [
        " \r",
        "Waiting on bqjob_r77b2c3286c134273_00000145fc4f90b0_121 ... (2s) Current status: RUNNING "
       ]
      },
      {
       "output_type": "stream",
       "stream": "stdout",
       "text": [
        "\r",
        "Waiting on bqjob_r77b2c3286c134273_00000145fc4f90b0_121 ... (2s) Current status: DONE   \n",
        "(49864, 3)"
       ]
      },
      {
       "output_type": "stream",
       "stream": "stdout",
       "text": [
        "\n"
       ]
      }
     ],
     "prompt_number": 393
    },
    {
     "cell_type": "code",
     "collapsed": false,
     "input": [
      "editor_df2 = construct_repo_df(ed_query_2)\n"
     ],
     "language": "python",
     "metadata": {},
     "outputs": [
      {
       "output_type": "stream",
       "stream": "stdout",
       "text": [
        "starting bigquery ... \n",
        "mined|mousepad|nano|nedit|notetab|notetab.?light|notepad|notepad\\\\+\\\\+|notepad2|pspad|pico|polyedit|programmer's.?file.?editor|programmer's.?notepad|q10|rj.?texted|rtext|setedit|sam|scite|simpletext|slickedit|smultron|source.?insight|subethaedit|sublime.?text|ted.?notepad|texshop|texniccenter|teachtext|tex.?edit plus|textedit|textmate|textpad and wildedit|textwrangler|the hessling editor|the semware editor|tincta|topstyle|ultraedit|ulysses|unired|vedit|winedt|x11 xedit|xedit|yi editor|yudit|zile|edlin|gedit|ia writer|jedit|mcedit|nvi|skedit|vi|vile|vim\n",
        "\r",
        "Waiting on bqjob_r508304adc2a1b3f7_00000145fc5125c7_122 ... (1s) Current status: RUNNING"
       ]
      },
      {
       "output_type": "stream",
       "stream": "stdout",
       "text": [
        " \r",
        "Waiting on bqjob_r508304adc2a1b3f7_00000145fc5125c7_122 ... (2s) Current status: RUNNING "
       ]
      },
      {
       "output_type": "stream",
       "stream": "stdout",
       "text": [
        "\r",
        "Waiting on bqjob_r508304adc2a1b3f7_00000145fc5125c7_122 ... (4s) Current status: RUNNING "
       ]
      },
      {
       "output_type": "stream",
       "stream": "stdout",
       "text": [
        "\r",
        "Waiting on bqjob_r508304adc2a1b3f7_00000145fc5125c7_122 ... (6s) Current status: RUNNING "
       ]
      },
      {
       "output_type": "stream",
       "stream": "stdout",
       "text": [
        "\r",
        "Waiting on bqjob_r508304adc2a1b3f7_00000145fc5125c7_122 ... (8s) Current status: RUNNING "
       ]
      },
      {
       "output_type": "stream",
       "stream": "stdout",
       "text": [
        "\r",
        "Waiting on bqjob_r508304adc2a1b3f7_00000145fc5125c7_122 ... (10s) Current status: RUNNING "
       ]
      },
      {
       "output_type": "stream",
       "stream": "stdout",
       "text": [
        "\r",
        "Waiting on bqjob_r508304adc2a1b3f7_00000145fc5125c7_122 ... (12s) Current status: RUNNING "
       ]
      },
      {
       "output_type": "stream",
       "stream": "stdout",
       "text": [
        "\r",
        "Waiting on bqjob_r508304adc2a1b3f7_00000145fc5125c7_122 ... (14s) Current status: RUNNING "
       ]
      },
      {
       "output_type": "stream",
       "stream": "stdout",
       "text": [
        "\r",
        "Waiting on bqjob_r508304adc2a1b3f7_00000145fc5125c7_122 ... (14s) Current status: DONE   \n",
        "(957561, 3)"
       ]
      },
      {
       "output_type": "stream",
       "stream": "stdout",
       "text": [
        "\n"
       ]
      }
     ],
     "prompt_number": 394
    },
    {
     "cell_type": "markdown",
     "metadata": {},
     "source": [
      "This is still way too noisy, but I'll work with it for the moment. "
     ]
    },
    {
     "cell_type": "code",
     "collapsed": false,
     "input": [
      "editor_df.head()"
     ],
     "language": "python",
     "metadata": {},
     "outputs": [
      {
       "html": [
        "<div style=\"max-height:1000px;max-width:1500px;overflow:auto;\">\n",
        "<table border=\"1\" class=\"dataframe\">\n",
        "  <thead>\n",
        "    <tr style=\"text-align: right;\">\n",
        "      <th></th>\n",
        "      <th>name</th>\n",
        "      <th>full_name</th>\n",
        "      <th>fork</th>\n",
        "    </tr>\n",
        "  </thead>\n",
        "  <tbody>\n",
        "    <tr>\n",
        "      <th>0</th>\n",
        "      <td>    p5-acme-void</td>\n",
        "      <td>      ryochin/p5-acme-void</td>\n",
        "      <td> 0</td>\n",
        "    </tr>\n",
        "    <tr>\n",
        "      <th>1</th>\n",
        "      <td>       KineticJS</td>\n",
        "      <td>            Frzy/KineticJS</td>\n",
        "      <td> 1</td>\n",
        "    </tr>\n",
        "    <tr>\n",
        "      <th>2</th>\n",
        "      <td>           keleo</td>\n",
        "      <td>            KevinZou/keleo</td>\n",
        "      <td> 0</td>\n",
        "    </tr>\n",
        "    <tr>\n",
        "      <th>3</th>\n",
        "      <td> grails-ckeditor</td>\n",
        "      <td> todoubaba/grails-ckeditor</td>\n",
        "      <td> 1</td>\n",
        "    </tr>\n",
        "    <tr>\n",
        "      <th>4</th>\n",
        "      <td>       eddie-vim</td>\n",
        "      <td>      hutao06051/eddie-vim</td>\n",
        "      <td> 1</td>\n",
        "    </tr>\n",
        "  </tbody>\n",
        "</table>\n",
        "<p>5 rows \u00d7 3 columns</p>\n",
        "</div>"
       ],
       "metadata": {},
       "output_type": "pyout",
       "prompt_number": 319,
       "text": [
        "              name                  full_name  fork\n",
        "0     p5-acme-void       ryochin/p5-acme-void     0\n",
        "1        KineticJS             Frzy/KineticJS     1\n",
        "2            keleo             KevinZou/keleo     0\n",
        "3  grails-ckeditor  todoubaba/grails-ckeditor     1\n",
        "4        eddie-vim       hutao06051/eddie-vim     1\n",
        "\n",
        "[5 rows x 3 columns]"
       ]
      }
     ],
     "prompt_number": 319
    },
    {
     "cell_type": "code",
     "collapsed": false,
     "input": [
      "editor_df = editor_df.append(editor_df2)\n",
      "editor_df.shape"
     ],
     "language": "python",
     "metadata": {},
     "outputs": [
      {
       "metadata": {},
       "output_type": "pyout",
       "prompt_number": 320,
       "text": [
        "(1006628, 3)"
       ]
      }
     ],
     "prompt_number": 320
    },
    {
     "cell_type": "markdown",
     "metadata": {},
     "source": [
      "## Compilers\n",
      "\n",
      "There are huge number of these."
     ]
    },
    {
     "cell_type": "code",
     "collapsed": false,
     "input": [
      "compilers = pd.read_csv('topic_lists/compilers.csv', header=None, names = ['name'])\n",
      "compilers.dropna(inplace=True)\n",
      "compilers.drop_duplicates(inplace=True)\n",
      "compiler_query = '|'.join(compilers.name.str.strip()).lower().replace('++', '\\\\\\+\\\\\\+')\n"
     ],
     "language": "python",
     "metadata": {},
     "outputs": [],
     "prompt_number": 396
    },
    {
     "cell_type": "code",
     "collapsed": false,
     "input": [
      "compiler_df2 = construct_repo_df(compiler_query, description=False)"
     ],
     "language": "python",
     "metadata": {},
     "outputs": [
      {
       "output_type": "stream",
       "stream": "stdout",
       "text": [
        "starting bigquery ... \n",
        "aonix.?object.?ada|borland.?turbo.?c|absoft.?pro.?fortran|algol.?60|algol.?68g.?genie|allegro.?common.?lisp|ampc|amsterdam.?compiler.?kit|armed.?bear.?common.?lisp|aztec.?c|bacon|bail|bbc.?basic.?for.?windows|bigloo|blitzmax|borland.?c\\\\.?\\\\.?|c\\\\.?\\\\.?.?builder|c\\\\.?\\\\.?.?compiler|ccs.?c.?compiler|ch|chez.?scheme|chicken.?scheme|chipmunk.?basic|cint|clang|cli.?compilers|clisp|clozure.?cl|cmu.?common.?lisp|cobol.?compilers|codewarrior|comeau.?c/c\\\\.?\\\\.?|common.?larceny|common.?lisp.?compilers|coolbasic|corman.?common.?lisp|cosy.?compiler.?development.?system|cparser/libfirm|cython|d.?compiler.?for.?.net|d.?compilers|darkbasic|delphi.?prism|dibol/dbl.?compilers|digital.?mars|digital.?mars.?d.?dmd|dignus.?systems/c|doylesoft.?basic|ecj.?eclipse.?compiler.?for.?java|ecmascript.?interpreters|edge.?arm.?c/c\\\\.?\\\\.?|eiffel.?compilers|eiffelstudio|elk.?scheme|embarcadero.?delphi|embeddable.?common.?lisp|felix|frameworkpascal|free.?pascal|freebasic|ftn95|g95|gambas|gambit|gauche|gcc|gcc.?c|gcc.?gnat|gdc|gfortran|ghc|glbasic|gnu.?common.?lisp|gnu.?guile|gnu.?java|gnu.?pascal|gnu.?smalltalk|hbc|hippo.?c|hp.?ac\\\\.?\\\\.?|hp.?pascal|iar.?c/c\\\\.?\\\\.?.?compilers|ibm.?cobol|ibm.?enterprise.?pl/i|ibm.?pl/if|ibm.?rational.?apex|ikarus.?scheme|ildjit|intel.?c\\\\.?\\\\.?.?compiler|intel.?fortran.?compiler|interactive.?c|interpreter|irie.?pascal|iron.?spring.?pl/i|ironscheme|irvine.?compiler|iscobol|java.?compilers|javac|jhc|jikes|jscheme|just.?basic|kai.?c\\\\.?\\\\.?.?compiler|kawa|kbasic|kednos.?pl/i|kylix|labwindows/cvi|lahey.?fortran|larceny|lattice.?c|lcc|ldc|liberty.?basic|lispworks|mac.?c|mankai.?common.?lisp|mark.?williams.?c|mcp.?compiler|micro.?c.?compiler.?mcc|micro.?c.?compiler.?mcc|microsoft.?pascal|microtec|mikroc.?compiler|mit/gnu.?scheme|mmbasic|mono|mpw.?c|multi|multics.?pl/i|nag.?fortran.?compiler|nbasic|neatcc|netbeans|netcobol|nhc|nuitka|nwcc|open.?genera|open.?watcom|open64|opencobol|oracle.?solaris.?studio|owl.?lisp|oxygen.?scheme|parallware|pathscale|pathscale.?compiler.?suite|pelles.?c|persistent.?s.?algol|petit.?larceny|pgcc|pgcpp|pgfortran|pips|pl/i.?compilers|portable.?c.?compiler|portable.net|power.?c|power.?j[7]|powerbasic|prodev.?workshop|psyco|purebasic|pvts|pypy|python.?compilers|qb64|quickbasic|quickc|racket|raincode.?cobol|raincode.?pl/i|rapidq|rcc.?rcor.?c.?compiler|realbasic|realview.?c/c\\\\.?\\\\.?.?compiler.?armcc|ritchie.?c.?compiler.?pdp.?11|rose.?compiler|rscheme|s.n.?java.?compiler|salford.?c\\\\.?\\\\.?.?compiler|sas/c|sas/c.?c\\\\.?\\\\.?|scheme.?48|scheme.?compilers.?and.?interpreters|scieneer.?common.?lisp|scm|shedskin|small.?device.?c.?compiler|small.?c|smalltalk.?compilers|smalltalk.?mt|smalltalk.?yx|solaris.?studio|solaris.?studio.?express|source.?to.?source.?compilers|stalin|steel.?bank.?common.?lisp|subc|synergy.?dbl[4][5][6]|systems/cc\\\\.?\\\\.?|tendra|think.?c.?lightspeed.?c|tiny.?c.?compiler|tinycobol|true.?basic|turbo.?c\\\\.?\\\\.?.?explorer|turbo.?c\\\\.?\\\\.?.?for.?dos|turbo.?pascal|turbo.?pascal.?for.?windows|ups.?debugger.?includes.?c.?interpreter|vbcc|vector.?pascal|vectorc|virtual.?pascal|visual.?basic|visual.?c#|visual.?c#.?express|visual.?c\\\\.?\\\\.?|visual.?c\\\\.?\\\\.?.?express|visual.?cobol|visual.?studio|visualage.?c\\\\.?\\\\.?|visualworks|vs.?fortran|wdsibyl|wind.?river.?diab.?compiler|xcl|xl.?c|xl.?c/c\\\\.?\\\\.?|xl.?fortran|yhc\n",
        "\r",
        "Waiting on bqjob_r73cd693cb3007081_00000145fc63a15a_128 ... (0s) Current status: RUNNING"
       ]
      },
      {
       "output_type": "stream",
       "stream": "stdout",
       "text": [
        " \r",
        "Waiting on bqjob_r73cd693cb3007081_00000145fc63a15a_128 ... (2s) Current status: RUNNING "
       ]
      },
      {
       "output_type": "stream",
       "stream": "stdout",
       "text": [
        "\r",
        "Waiting on bqjob_r73cd693cb3007081_00000145fc63a15a_128 ... (4s) Current status: RUNNING "
       ]
      },
      {
       "output_type": "stream",
       "stream": "stdout",
       "text": [
        "\r",
        "Waiting on bqjob_r73cd693cb3007081_00000145fc63a15a_128 ... (6s) Current status: RUNNING "
       ]
      },
      {
       "output_type": "stream",
       "stream": "stdout",
       "text": [
        "\r",
        "Waiting on bqjob_r73cd693cb3007081_00000145fc63a15a_128 ... (8s) Current status: RUNNING "
       ]
      },
      {
       "output_type": "stream",
       "stream": "stdout",
       "text": [
        "\r",
        "Waiting on bqjob_r73cd693cb3007081_00000145fc63a15a_128 ... (10s) Current status: RUNNING "
       ]
      },
      {
       "output_type": "stream",
       "stream": "stdout",
       "text": [
        "\r",
        "Waiting on bqjob_r73cd693cb3007081_00000145fc63a15a_128 ... (12s) Current status: RUNNING "
       ]
      },
      {
       "output_type": "stream",
       "stream": "stdout",
       "text": [
        "\r",
        "Waiting on bqjob_r73cd693cb3007081_00000145fc63a15a_128 ... (14s) Current status: RUNNING "
       ]
      },
      {
       "output_type": "stream",
       "stream": "stdout",
       "text": [
        "\r",
        "Waiting on bqjob_r73cd693cb3007081_00000145fc63a15a_128 ... (16s) Current status: RUNNING "
       ]
      },
      {
       "output_type": "stream",
       "stream": "stdout",
       "text": [
        "\r",
        "Waiting on bqjob_r73cd693cb3007081_00000145fc63a15a_128 ... (17s) Current status: RUNNING "
       ]
      },
      {
       "output_type": "stream",
       "stream": "stdout",
       "text": [
        "\r",
        "Waiting on bqjob_r73cd693cb3007081_00000145fc63a15a_128 ... (18s) Current status: RUNNING "
       ]
      },
      {
       "output_type": "stream",
       "stream": "stdout",
       "text": [
        "\r",
        "Waiting on bqjob_r73cd693cb3007081_00000145fc63a15a_128 ... (19s) Current status: RUNNING "
       ]
      },
      {
       "output_type": "stream",
       "stream": "stdout",
       "text": [
        "\r",
        "Waiting on bqjob_r73cd693cb3007081_00000145fc63a15a_128 ... (20s) Current status: RUNNING "
       ]
      },
      {
       "output_type": "stream",
       "stream": "stdout",
       "text": [
        "\r",
        "Waiting on bqjob_r73cd693cb3007081_00000145fc63a15a_128 ... (21s) Current status: RUNNING "
       ]
      },
      {
       "output_type": "stream",
       "stream": "stdout",
       "text": [
        "\r",
        "Waiting on bqjob_r73cd693cb3007081_00000145fc63a15a_128 ... (22s) Current status: RUNNING "
       ]
      },
      {
       "output_type": "stream",
       "stream": "stdout",
       "text": [
        "\r",
        "Waiting on bqjob_r73cd693cb3007081_00000145fc63a15a_128 ... (24s) Current status: RUNNING "
       ]
      },
      {
       "output_type": "stream",
       "stream": "stdout",
       "text": [
        "\r",
        "Waiting on bqjob_r73cd693cb3007081_00000145fc63a15a_128 ... (25s) Current status: RUNNING "
       ]
      },
      {
       "output_type": "stream",
       "stream": "stdout",
       "text": [
        "\r",
        "Waiting on bqjob_r73cd693cb3007081_00000145fc63a15a_128 ... (26s) Current status: RUNNING "
       ]
      },
      {
       "output_type": "stream",
       "stream": "stdout",
       "text": [
        "\r",
        "Waiting on bqjob_r73cd693cb3007081_00000145fc63a15a_128 ... (27s) Current status: RUNNING "
       ]
      },
      {
       "output_type": "stream",
       "stream": "stdout",
       "text": [
        "\r",
        "Waiting on bqjob_r73cd693cb3007081_00000145fc63a15a_128 ... (28s) Current status: RUNNING "
       ]
      },
      {
       "output_type": "stream",
       "stream": "stdout",
       "text": [
        "\r",
        "Waiting on bqjob_r73cd693cb3007081_00000145fc63a15a_128 ... (29s) Current status: RUNNING "
       ]
      },
      {
       "output_type": "stream",
       "stream": "stdout",
       "text": [
        "\r",
        "Waiting on bqjob_r73cd693cb3007081_00000145fc63a15a_128 ... (30s) Current status: RUNNING "
       ]
      },
      {
       "output_type": "stream",
       "stream": "stdout",
       "text": [
        "\r",
        "Waiting on bqjob_r73cd693cb3007081_00000145fc63a15a_128 ... (31s) Current status: RUNNING "
       ]
      },
      {
       "output_type": "stream",
       "stream": "stdout",
       "text": [
        "\r",
        "Waiting on bqjob_r73cd693cb3007081_00000145fc63a15a_128 ... (33s) Current status: RUNNING "
       ]
      },
      {
       "output_type": "stream",
       "stream": "stdout",
       "text": [
        "\r",
        "Waiting on bqjob_r73cd693cb3007081_00000145fc63a15a_128 ... (34s) Current status: RUNNING "
       ]
      },
      {
       "output_type": "stream",
       "stream": "stdout",
       "text": [
        "\r",
        "Waiting on bqjob_r73cd693cb3007081_00000145fc63a15a_128 ... (35s) Current status: RUNNING "
       ]
      },
      {
       "output_type": "stream",
       "stream": "stdout",
       "text": [
        "\r",
        "Waiting on bqjob_r73cd693cb3007081_00000145fc63a15a_128 ... (36s) Current status: RUNNING "
       ]
      },
      {
       "output_type": "stream",
       "stream": "stdout",
       "text": [
        "\r",
        "Waiting on bqjob_r73cd693cb3007081_00000145fc63a15a_128 ... (37s) Current status: RUNNING "
       ]
      },
      {
       "output_type": "stream",
       "stream": "stdout",
       "text": [
        "\r",
        "Waiting on bqjob_r73cd693cb3007081_00000145fc63a15a_128 ... (38s) Current status: RUNNING "
       ]
      },
      {
       "output_type": "stream",
       "stream": "stdout",
       "text": [
        "\r",
        "Waiting on bqjob_r73cd693cb3007081_00000145fc63a15a_128 ... (39s) Current status: RUNNING "
       ]
      },
      {
       "output_type": "stream",
       "stream": "stdout",
       "text": [
        "\r",
        "Waiting on bqjob_r73cd693cb3007081_00000145fc63a15a_128 ... (40s) Current status: RUNNING "
       ]
      },
      {
       "output_type": "stream",
       "stream": "stdout",
       "text": [
        "\r",
        "Waiting on bqjob_r73cd693cb3007081_00000145fc63a15a_128 ... (41s) Current status: RUNNING "
       ]
      },
      {
       "output_type": "stream",
       "stream": "stdout",
       "text": [
        "\r",
        "Waiting on bqjob_r73cd693cb3007081_00000145fc63a15a_128 ... (42s) Current status: RUNNING "
       ]
      },
      {
       "output_type": "stream",
       "stream": "stdout",
       "text": [
        "\r",
        "Waiting on bqjob_r73cd693cb3007081_00000145fc63a15a_128 ... (43s) Current status: RUNNING "
       ]
      },
      {
       "output_type": "stream",
       "stream": "stdout",
       "text": [
        "\r",
        "Waiting on bqjob_r73cd693cb3007081_00000145fc63a15a_128 ... (45s) Current status: RUNNING "
       ]
      },
      {
       "output_type": "stream",
       "stream": "stdout",
       "text": [
        "\r",
        "Waiting on bqjob_r73cd693cb3007081_00000145fc63a15a_128 ... (46s) Current status: RUNNING "
       ]
      },
      {
       "output_type": "stream",
       "stream": "stdout",
       "text": [
        "\r",
        "Waiting on bqjob_r73cd693cb3007081_00000145fc63a15a_128 ... (47s) Current status: RUNNING "
       ]
      },
      {
       "output_type": "stream",
       "stream": "stdout",
       "text": [
        "\r",
        "Waiting on bqjob_r73cd693cb3007081_00000145fc63a15a_128 ... (48s) Current status: RUNNING "
       ]
      },
      {
       "output_type": "stream",
       "stream": "stdout",
       "text": [
        "\r",
        "Waiting on bqjob_r73cd693cb3007081_00000145fc63a15a_128 ... (49s) Current status: RUNNING "
       ]
      },
      {
       "output_type": "stream",
       "stream": "stdout",
       "text": [
        "\r",
        "Waiting on bqjob_r73cd693cb3007081_00000145fc63a15a_128 ... (50s) Current status: RUNNING "
       ]
      },
      {
       "output_type": "stream",
       "stream": "stdout",
       "text": [
        "\r",
        "Waiting on bqjob_r73cd693cb3007081_00000145fc63a15a_128 ... (51s) Current status: RUNNING "
       ]
      },
      {
       "output_type": "stream",
       "stream": "stdout",
       "text": [
        "\r",
        "Waiting on bqjob_r73cd693cb3007081_00000145fc63a15a_128 ... (52s) Current status: RUNNING "
       ]
      },
      {
       "output_type": "stream",
       "stream": "stdout",
       "text": [
        "\r",
        "Waiting on bqjob_r73cd693cb3007081_00000145fc63a15a_128 ... (53s) Current status: RUNNING "
       ]
      },
      {
       "output_type": "stream",
       "stream": "stdout",
       "text": [
        "\r",
        "Waiting on bqjob_r73cd693cb3007081_00000145fc63a15a_128 ... (54s) Current status: RUNNING "
       ]
      },
      {
       "output_type": "stream",
       "stream": "stdout",
       "text": [
        "\r",
        "Waiting on bqjob_r73cd693cb3007081_00000145fc63a15a_128 ... (55s) Current status: RUNNING "
       ]
      },
      {
       "output_type": "stream",
       "stream": "stdout",
       "text": [
        "\r",
        "Waiting on bqjob_r73cd693cb3007081_00000145fc63a15a_128 ... (56s) Current status: RUNNING "
       ]
      },
      {
       "output_type": "stream",
       "stream": "stdout",
       "text": [
        "\r",
        "Waiting on bqjob_r73cd693cb3007081_00000145fc63a15a_128 ... (57s) Current status: RUNNING "
       ]
      },
      {
       "output_type": "stream",
       "stream": "stdout",
       "text": [
        "\r",
        "Waiting on bqjob_r73cd693cb3007081_00000145fc63a15a_128 ... (58s) Current status: RUNNING "
       ]
      },
      {
       "output_type": "stream",
       "stream": "stdout",
       "text": [
        "\r",
        "Waiting on bqjob_r73cd693cb3007081_00000145fc63a15a_128 ... (60s) Current status: RUNNING "
       ]
      },
      {
       "output_type": "stream",
       "stream": "stdout",
       "text": [
        "\r",
        "Waiting on bqjob_r73cd693cb3007081_00000145fc63a15a_128 ... (61s) Current status: RUNNING "
       ]
      },
      {
       "output_type": "stream",
       "stream": "stdout",
       "text": [
        "\r",
        "Waiting on bqjob_r73cd693cb3007081_00000145fc63a15a_128 ... (62s) Current status: RUNNING "
       ]
      },
      {
       "output_type": "stream",
       "stream": "stdout",
       "text": [
        "\r",
        "Waiting on bqjob_r73cd693cb3007081_00000145fc63a15a_128 ... (63s) Current status: RUNNING "
       ]
      },
      {
       "output_type": "stream",
       "stream": "stdout",
       "text": [
        "\r",
        "Waiting on bqjob_r73cd693cb3007081_00000145fc63a15a_128 ... (64s) Current status: RUNNING "
       ]
      },
      {
       "output_type": "stream",
       "stream": "stdout",
       "text": [
        "\r",
        "Waiting on bqjob_r73cd693cb3007081_00000145fc63a15a_128 ... (65s) Current status: RUNNING "
       ]
      },
      {
       "output_type": "stream",
       "stream": "stdout",
       "text": [
        "\r",
        "Waiting on bqjob_r73cd693cb3007081_00000145fc63a15a_128 ... (66s) Current status: RUNNING "
       ]
      },
      {
       "output_type": "stream",
       "stream": "stdout",
       "text": [
        "\r",
        "Waiting on bqjob_r73cd693cb3007081_00000145fc63a15a_128 ... (67s) Current status: RUNNING "
       ]
      },
      {
       "output_type": "stream",
       "stream": "stdout",
       "text": [
        "\r",
        "Waiting on bqjob_r73cd693cb3007081_00000145fc63a15a_128 ... (68s) Current status: RUNNING "
       ]
      },
      {
       "output_type": "stream",
       "stream": "stdout",
       "text": [
        "\r",
        "Waiting on bqjob_r73cd693cb3007081_00000145fc63a15a_128 ... (69s) Current status: RUNNING "
       ]
      },
      {
       "output_type": "stream",
       "stream": "stdout",
       "text": [
        "\r",
        "Waiting on bqjob_r73cd693cb3007081_00000145fc63a15a_128 ... (70s) Current status: RUNNING "
       ]
      },
      {
       "output_type": "stream",
       "stream": "stdout",
       "text": [
        "\r",
        "Waiting on bqjob_r73cd693cb3007081_00000145fc63a15a_128 ... (71s) Current status: RUNNING "
       ]
      },
      {
       "output_type": "stream",
       "stream": "stdout",
       "text": [
        "\r",
        "Waiting on bqjob_r73cd693cb3007081_00000145fc63a15a_128 ... (72s) Current status: RUNNING "
       ]
      },
      {
       "output_type": "stream",
       "stream": "stdout",
       "text": [
        "\r",
        "Waiting on bqjob_r73cd693cb3007081_00000145fc63a15a_128 ... (73s) Current status: RUNNING "
       ]
      },
      {
       "output_type": "stream",
       "stream": "stdout",
       "text": [
        "\r",
        "Waiting on bqjob_r73cd693cb3007081_00000145fc63a15a_128 ... (74s) Current status: RUNNING "
       ]
      },
      {
       "output_type": "stream",
       "stream": "stdout",
       "text": [
        "\r",
        "Waiting on bqjob_r73cd693cb3007081_00000145fc63a15a_128 ... (75s) Current status: RUNNING "
       ]
      },
      {
       "output_type": "stream",
       "stream": "stdout",
       "text": [
        "\r",
        "Waiting on bqjob_r73cd693cb3007081_00000145fc63a15a_128 ... (76s) Current status: RUNNING "
       ]
      },
      {
       "output_type": "stream",
       "stream": "stdout",
       "text": [
        "\r",
        "Waiting on bqjob_r73cd693cb3007081_00000145fc63a15a_128 ... (78s) Current status: RUNNING "
       ]
      },
      {
       "output_type": "stream",
       "stream": "stdout",
       "text": [
        "\r",
        "Waiting on bqjob_r73cd693cb3007081_00000145fc63a15a_128 ... (79s) Current status: RUNNING "
       ]
      },
      {
       "output_type": "stream",
       "stream": "stdout",
       "text": [
        "\r",
        "Waiting on bqjob_r73cd693cb3007081_00000145fc63a15a_128 ... (80s) Current status: RUNNING "
       ]
      },
      {
       "output_type": "stream",
       "stream": "stdout",
       "text": [
        "\r",
        "Waiting on bqjob_r73cd693cb3007081_00000145fc63a15a_128 ... (81s) Current status: RUNNING "
       ]
      },
      {
       "output_type": "stream",
       "stream": "stdout",
       "text": [
        "\r",
        "Waiting on bqjob_r73cd693cb3007081_00000145fc63a15a_128 ... (82s) Current status: RUNNING "
       ]
      },
      {
       "output_type": "stream",
       "stream": "stdout",
       "text": [
        "\r",
        "Waiting on bqjob_r73cd693cb3007081_00000145fc63a15a_128 ... (83s) Current status: RUNNING "
       ]
      },
      {
       "output_type": "stream",
       "stream": "stdout",
       "text": [
        "\r",
        "Waiting on bqjob_r73cd693cb3007081_00000145fc63a15a_128 ... (84s) Current status: RUNNING "
       ]
      },
      {
       "output_type": "stream",
       "stream": "stdout",
       "text": [
        "\r",
        "Waiting on bqjob_r73cd693cb3007081_00000145fc63a15a_128 ... (85s) Current status: RUNNING "
       ]
      },
      {
       "output_type": "stream",
       "stream": "stdout",
       "text": [
        "\r",
        "Waiting on bqjob_r73cd693cb3007081_00000145fc63a15a_128 ... (86s) Current status: RUNNING "
       ]
      },
      {
       "output_type": "stream",
       "stream": "stdout",
       "text": [
        "\r",
        "Waiting on bqjob_r73cd693cb3007081_00000145fc63a15a_128 ... (87s) Current status: RUNNING "
       ]
      },
      {
       "output_type": "stream",
       "stream": "stdout",
       "text": [
        "\r",
        "Waiting on bqjob_r73cd693cb3007081_00000145fc63a15a_128 ... (88s) Current status: RUNNING "
       ]
      },
      {
       "output_type": "stream",
       "stream": "stdout",
       "text": [
        "\r",
        "Waiting on bqjob_r73cd693cb3007081_00000145fc63a15a_128 ... (89s) Current status: RUNNING "
       ]
      },
      {
       "output_type": "stream",
       "stream": "stdout",
       "text": [
        "\r",
        "Waiting on bqjob_r73cd693cb3007081_00000145fc63a15a_128 ... (90s) Current status: RUNNING "
       ]
      },
      {
       "output_type": "stream",
       "stream": "stdout",
       "text": [
        "\r",
        "Waiting on bqjob_r73cd693cb3007081_00000145fc63a15a_128 ... (91s) Current status: RUNNING "
       ]
      },
      {
       "output_type": "stream",
       "stream": "stdout",
       "text": [
        "\r",
        "Waiting on bqjob_r73cd693cb3007081_00000145fc63a15a_128 ... (92s) Current status: RUNNING "
       ]
      },
      {
       "output_type": "stream",
       "stream": "stdout",
       "text": [
        "\r",
        "Waiting on bqjob_r73cd693cb3007081_00000145fc63a15a_128 ... (93s) Current status: RUNNING "
       ]
      },
      {
       "output_type": "stream",
       "stream": "stdout",
       "text": [
        "\r",
        "Waiting on bqjob_r73cd693cb3007081_00000145fc63a15a_128 ... (94s) Current status: RUNNING "
       ]
      },
      {
       "output_type": "stream",
       "stream": "stdout",
       "text": [
        "\r",
        "Waiting on bqjob_r73cd693cb3007081_00000145fc63a15a_128 ... (95s) Current status: RUNNING "
       ]
      },
      {
       "output_type": "stream",
       "stream": "stdout",
       "text": [
        "\r",
        "Waiting on bqjob_r73cd693cb3007081_00000145fc63a15a_128 ... (96s) Current status: RUNNING "
       ]
      },
      {
       "output_type": "stream",
       "stream": "stdout",
       "text": [
        "\r",
        "Waiting on bqjob_r73cd693cb3007081_00000145fc63a15a_128 ... (97s) Current status: RUNNING "
       ]
      },
      {
       "output_type": "stream",
       "stream": "stdout",
       "text": [
        "\r",
        "Waiting on bqjob_r73cd693cb3007081_00000145fc63a15a_128 ... (99s) Current status: RUNNING "
       ]
      },
      {
       "output_type": "stream",
       "stream": "stdout",
       "text": [
        "\r",
        "Waiting on bqjob_r73cd693cb3007081_00000145fc63a15a_128 ... (100s) Current status: RUNNING "
       ]
      },
      {
       "output_type": "stream",
       "stream": "stdout",
       "text": [
        "\r",
        "Waiting on bqjob_r73cd693cb3007081_00000145fc63a15a_128 ... (101s) Current status: RUNNING "
       ]
      },
      {
       "output_type": "stream",
       "stream": "stdout",
       "text": [
        "\r",
        "Waiting on bqjob_r73cd693cb3007081_00000145fc63a15a_128 ... (102s) Current status: RUNNING "
       ]
      },
      {
       "output_type": "stream",
       "stream": "stdout",
       "text": [
        "\r",
        "Waiting on bqjob_r73cd693cb3007081_00000145fc63a15a_128 ... (103s) Current status: RUNNING "
       ]
      },
      {
       "output_type": "stream",
       "stream": "stdout",
       "text": [
        "\r",
        "Waiting on bqjob_r73cd693cb3007081_00000145fc63a15a_128 ... (104s) Current status: RUNNING "
       ]
      },
      {
       "output_type": "stream",
       "stream": "stdout",
       "text": [
        "\r",
        "Waiting on bqjob_r73cd693cb3007081_00000145fc63a15a_128 ... (105s) Current status: RUNNING "
       ]
      },
      {
       "output_type": "stream",
       "stream": "stdout",
       "text": [
        "\r",
        "Waiting on bqjob_r73cd693cb3007081_00000145fc63a15a_128 ... (106s) Current status: RUNNING "
       ]
      },
      {
       "output_type": "stream",
       "stream": "stdout",
       "text": [
        "\r",
        "Waiting on bqjob_r73cd693cb3007081_00000145fc63a15a_128 ... (107s) Current status: RUNNING "
       ]
      },
      {
       "output_type": "stream",
       "stream": "stdout",
       "text": [
        "\r",
        "Waiting on bqjob_r73cd693cb3007081_00000145fc63a15a_128 ... (108s) Current status: RUNNING "
       ]
      },
      {
       "output_type": "stream",
       "stream": "stdout",
       "text": [
        "\r",
        "Waiting on bqjob_r73cd693cb3007081_00000145fc63a15a_128 ... (109s) Current status: RUNNING "
       ]
      },
      {
       "output_type": "stream",
       "stream": "stdout",
       "text": [
        "\r",
        "Waiting on bqjob_r73cd693cb3007081_00000145fc63a15a_128 ... (110s) Current status: RUNNING "
       ]
      },
      {
       "output_type": "stream",
       "stream": "stdout",
       "text": [
        "\r",
        "Waiting on bqjob_r73cd693cb3007081_00000145fc63a15a_128 ... (111s) Current status: RUNNING "
       ]
      },
      {
       "output_type": "stream",
       "stream": "stdout",
       "text": [
        "\r",
        "Waiting on bqjob_r73cd693cb3007081_00000145fc63a15a_128 ... (112s) Current status: RUNNING "
       ]
      },
      {
       "output_type": "stream",
       "stream": "stdout",
       "text": [
        "\r",
        "Waiting on bqjob_r73cd693cb3007081_00000145fc63a15a_128 ... (113s) Current status: RUNNING "
       ]
      },
      {
       "output_type": "stream",
       "stream": "stdout",
       "text": [
        "\r",
        "Waiting on bqjob_r73cd693cb3007081_00000145fc63a15a_128 ... (114s) Current status: RUNNING "
       ]
      },
      {
       "output_type": "stream",
       "stream": "stdout",
       "text": [
        "\r",
        "Waiting on bqjob_r73cd693cb3007081_00000145fc63a15a_128 ... (115s) Current status: RUNNING "
       ]
      },
      {
       "output_type": "stream",
       "stream": "stdout",
       "text": [
        "\r",
        "Waiting on bqjob_r73cd693cb3007081_00000145fc63a15a_128 ... (116s) Current status: RUNNING "
       ]
      },
      {
       "output_type": "stream",
       "stream": "stdout",
       "text": [
        "\r",
        "Waiting on bqjob_r73cd693cb3007081_00000145fc63a15a_128 ... (117s) Current status: RUNNING "
       ]
      },
      {
       "output_type": "stream",
       "stream": "stdout",
       "text": [
        "\r",
        "Waiting on bqjob_r73cd693cb3007081_00000145fc63a15a_128 ... (118s) Current status: RUNNING "
       ]
      },
      {
       "output_type": "stream",
       "stream": "stdout",
       "text": [
        "\r",
        "Waiting on bqjob_r73cd693cb3007081_00000145fc63a15a_128 ... (119s) Current status: RUNNING "
       ]
      },
      {
       "output_type": "stream",
       "stream": "stdout",
       "text": [
        "\r",
        "Waiting on bqjob_r73cd693cb3007081_00000145fc63a15a_128 ... (120s) Current status: RUNNING "
       ]
      },
      {
       "output_type": "stream",
       "stream": "stdout",
       "text": [
        "\r",
        "Waiting on bqjob_r73cd693cb3007081_00000145fc63a15a_128 ... (121s) Current status: RUNNING "
       ]
      },
      {
       "output_type": "stream",
       "stream": "stdout",
       "text": [
        "\r",
        "Waiting on bqjob_r73cd693cb3007081_00000145fc63a15a_128 ... (121s) Current status: DONE   \n",
        "(495481, 3)"
       ]
      },
      {
       "output_type": "stream",
       "stream": "stdout",
       "text": [
        "\n"
       ]
      }
     ],
     "prompt_number": 407
    },
    {
     "cell_type": "markdown",
     "metadata": {},
     "source": [
      "This is pretty huge. 0.5M Possible the biggest category I've seen. Is this really noise? "
     ]
    },
    {
     "cell_type": "code",
     "collapsed": false,
     "input": [
      "compiler_df = compiler_df2\n",
      "compiler_df.head()"
     ],
     "language": "python",
     "metadata": {},
     "outputs": [
      {
       "html": [
        "<div style=\"max-height:1000px;max-width:1500px;overflow:auto;\">\n",
        "<table border=\"1\" class=\"dataframe\">\n",
        "  <thead>\n",
        "    <tr style=\"text-align: right;\">\n",
        "      <th></th>\n",
        "      <th>name</th>\n",
        "      <th>full_name</th>\n",
        "      <th>fork</th>\n",
        "    </tr>\n",
        "  </thead>\n",
        "  <tbody>\n",
        "    <tr>\n",
        "      <th>0</th>\n",
        "      <td>  android-kawa</td>\n",
        "      <td>  cadre-io/android-kawa</td>\n",
        "      <td> 1</td>\n",
        "    </tr>\n",
        "    <tr>\n",
        "      <th>1</th>\n",
        "      <td>  Reachability</td>\n",
        "      <td> khramtsou/Reachability</td>\n",
        "      <td> 1</td>\n",
        "    </tr>\n",
        "    <tr>\n",
        "      <th>2</th>\n",
        "      <td>       rscheme</td>\n",
        "      <td>       cadre-io/rscheme</td>\n",
        "      <td> 1</td>\n",
        "    </tr>\n",
        "    <tr>\n",
        "      <th>3</th>\n",
        "      <td> chat-phonegap</td>\n",
        "      <td>   raykin/chat-phonegap</td>\n",
        "      <td> 0</td>\n",
        "    </tr>\n",
        "    <tr>\n",
        "      <th>4</th>\n",
        "      <td>     moustache</td>\n",
        "      <td>     Sawa2012/moustache</td>\n",
        "      <td> 0</td>\n",
        "    </tr>\n",
        "  </tbody>\n",
        "</table>\n",
        "<p>5 rows \u00d7 3 columns</p>\n",
        "</div>"
       ],
       "metadata": {},
       "output_type": "pyout",
       "prompt_number": 410,
       "text": [
        "            name               full_name  fork\n",
        "0   android-kawa   cadre-io/android-kawa     1\n",
        "1   Reachability  khramtsou/Reachability     1\n",
        "2        rscheme        cadre-io/rscheme     1\n",
        "3  chat-phonegap    raykin/chat-phonegap     0\n",
        "4      moustache      Sawa2012/moustache     0\n",
        "\n",
        "[5 rows x 3 columns]"
       ]
      }
     ],
     "prompt_number": 410
    },
    {
     "cell_type": "markdown",
     "metadata": {},
     "source": [
      "## Continuous integration build"
     ]
    },
    {
     "cell_type": "code",
     "collapsed": false,
     "input": [
      "integration_list = pd.read_csv('topic_lists/integration.csv', header =None, names = ['name'])\n",
      "integration_query = '|'.join(integration_list.name.str.strip()).lower()"
     ],
     "language": "python",
     "metadata": {},
     "outputs": [],
     "prompt_number": 425
    },
    {
     "cell_type": "code",
     "collapsed": false,
     "input": [
      "integration_df = construct_repo_df(integration_query, description = True)"
     ],
     "language": "python",
     "metadata": {},
     "outputs": [
      {
       "output_type": "stream",
       "stream": "stdout",
       "text": [
        "starting bigquery ... \n",
        "apache.?continuum|apache.?gump|automatedqa.?automated.?build.?studio|atlassian.?software.?systems.?bamboo|buildbot|buildhive|cabie|cascade|codebeamer|cruisecontrol|cruisecontrol.rb|electric.?cloud.?electriccommander|finalbuilder.?server|hudson|jenkins.?fork.?of.?hudson|ibm.?rational.?team.?concert|ibm.?rational.?software.?sclm|microsoft.?team.?foundation.?server|shippable|strider|teamcity|thoughtworks.?go|tinderbox|travis.?ci|xcode.?5\n",
        "\r",
        "Waiting on bqjob_r30f672db69d3f419_00000145fc9de9a9_134 ... (0s) Current status: RUNNING"
       ]
      },
      {
       "output_type": "stream",
       "stream": "stdout",
       "text": [
        " \r",
        "Waiting on bqjob_r30f672db69d3f419_00000145fc9de9a9_134 ... (0s) Current status: DONE   \n",
        "(4778, 3)"
       ]
      },
      {
       "output_type": "stream",
       "stream": "stdout",
       "text": [
        "\n"
       ]
      }
     ],
     "prompt_number": 429
    },
    {
     "cell_type": "code",
     "collapsed": false,
     "input": [
      "integration_df.head()"
     ],
     "language": "python",
     "metadata": {},
     "outputs": [
      {
       "html": [
        "<div style=\"max-height:1000px;max-width:1500px;overflow:auto;\">\n",
        "<table border=\"1\" class=\"dataframe\">\n",
        "  <thead>\n",
        "    <tr style=\"text-align: right;\">\n",
        "      <th></th>\n",
        "      <th>name</th>\n",
        "      <th>full_name</th>\n",
        "      <th>fork</th>\n",
        "    </tr>\n",
        "  </thead>\n",
        "  <tbody>\n",
        "    <tr>\n",
        "      <th>0</th>\n",
        "      <td>            testteamcity</td>\n",
        "      <td>             olegin62/testteamcity</td>\n",
        "      <td> 0</td>\n",
        "    </tr>\n",
        "    <tr>\n",
        "      <th>1</th>\n",
        "      <td>                 strider</td>\n",
        "      <td>                wouterhund/strider</td>\n",
        "      <td> 1</td>\n",
        "    </tr>\n",
        "    <tr>\n",
        "      <th>2</th>\n",
        "      <td>                buildbot</td>\n",
        "      <td>                     ojwb/buildbot</td>\n",
        "      <td> 1</td>\n",
        "    </tr>\n",
        "    <tr>\n",
        "      <th>3</th>\n",
        "      <td>             SMILEsmileD</td>\n",
        "      <td>        saeed-abdullah/SMILEsmileD</td>\n",
        "      <td> 1</td>\n",
        "    </tr>\n",
        "    <tr>\n",
        "      <th>4</th>\n",
        "      <td> phpunit-runner-teamcity</td>\n",
        "      <td> 4you4ever/phpunit-runner-teamcity</td>\n",
        "      <td> 1</td>\n",
        "    </tr>\n",
        "  </tbody>\n",
        "</table>\n",
        "<p>5 rows \u00d7 3 columns</p>\n",
        "</div>"
       ],
       "metadata": {},
       "output_type": "pyout",
       "prompt_number": 430,
       "text": [
        "                      name                          full_name  fork\n",
        "0             testteamcity              olegin62/testteamcity     0\n",
        "1                  strider                 wouterhund/strider     1\n",
        "2                 buildbot                      ojwb/buildbot     1\n",
        "3              SMILEsmileD         saeed-abdullah/SMILEsmileD     1\n",
        "4  phpunit-runner-teamcity  4you4ever/phpunit-runner-teamcity     1\n",
        "\n",
        "[5 rows x 3 columns]"
       ]
      }
     ],
     "prompt_number": 430
    },
    {
     "cell_type": "markdown",
     "metadata": {},
     "source": [
      "## Package manager software\n",
      "\n",
      "There are around 100 different package managers in use. "
     ]
    },
    {
     "cell_type": "code",
     "collapsed": false,
     "input": [
      "packagelist = pd.read_csv('topic_lists/package_manager.csv', header=None, names = ['name'])\n",
      "packagelist.shape\n",
      "package_query = '|'.join(packagelist['name'].str.strip()).lower()\n"
     ],
     "language": "python",
     "metadata": {},
     "outputs": [],
     "prompt_number": 195
    },
    {
     "cell_type": "code",
     "collapsed": false,
     "input": [
      "package_df = construct_repo_df(package_query)"
     ],
     "language": "python",
     "metadata": {},
     "outputs": [
      {
       "output_type": "stream",
       "stream": "stdout",
       "text": [
        "starting bigquery ... \n",
        "dpkg|rpm package manager|amazon appstore|amiupdate|app store|appbrowser|apt|assembly|bower|bundler|cabal|chocolatey|cocoapods|composer|conary|cpan|cran|ctan|cydia|cygwin|dub|easyinstall|epm|equo|fink|fink|fppkg|getjar|go get|google play|gradle|grunch|haikuports|homebrew|homebrew|ibm smartcloud enterprise|image packaging system|image packaging system|installous|ipkg|ivy|joyent|klik|leiningen|luarocks|mac app store|macports|macports|maven|mingw|morphup|ninite|nix package manager|npackd|npm|nsis|nuget|nuget|opam|opencsw|openpkg|opkg|package.el|packagekit|pacm|pacman for arch linux|par::repository|pear|petget|pisi|pkgsrc|pkgutils|portage|pypi|quicklisp|rebar|rubygems|rudix|sbt|slideme|smart package manager|sorcery|steam|steam|steam|tazpkg|tiltos|tww tools|upkg|vi package manager|windows installer|wpkg|zero install|abs|freebsd ports collection\n",
        "\r",
        "Waiting on bqjob_r3aeb97f99ca99906_00000145f1f9c545_54 ... (2s) Current status: RUNNING"
       ]
      },
      {
       "output_type": "stream",
       "stream": "stdout",
       "text": [
        " \r",
        "Waiting on bqjob_r3aeb97f99ca99906_00000145f1f9c545_54 ... (4s) Current status: RUNNING "
       ]
      },
      {
       "output_type": "stream",
       "stream": "stdout",
       "text": [
        "\r",
        "Waiting on bqjob_r3aeb97f99ca99906_00000145f1f9c545_54 ... (4s) Current status: DONE   \n",
        "(201130, 3)"
       ]
      },
      {
       "output_type": "stream",
       "stream": "stdout",
       "text": [
        "\n"
       ]
      }
     ],
     "prompt_number": 198
    },
    {
     "cell_type": "code",
     "collapsed": false,
     "input": [
      "package_df.head()"
     ],
     "language": "python",
     "metadata": {},
     "outputs": [
      {
       "html": [
        "<div style=\"max-height:1000px;max-width:1500px;overflow:auto;\">\n",
        "<table border=\"1\" class=\"dataframe\">\n",
        "  <thead>\n",
        "    <tr style=\"text-align: right;\">\n",
        "      <th></th>\n",
        "      <th>name</th>\n",
        "      <th>full_name</th>\n",
        "      <th>fork</th>\n",
        "    </tr>\n",
        "  </thead>\n",
        "  <tbody>\n",
        "    <tr>\n",
        "      <th>0</th>\n",
        "      <td>                     webcam</td>\n",
        "      <td>                  the-darknight/webcam</td>\n",
        "      <td> 1</td>\n",
        "    </tr>\n",
        "    <tr>\n",
        "      <th>1</th>\n",
        "      <td> Recipes-for-Mining-Twitter</td>\n",
        "      <td>   winnerdy/Recipes-for-Mining-Twitter</td>\n",
        "      <td> 1</td>\n",
        "    </tr>\n",
        "    <tr>\n",
        "      <th>2</th>\n",
        "      <td>                      Specs</td>\n",
        "      <td>                        Istergul/Specs</td>\n",
        "      <td> 1</td>\n",
        "    </tr>\n",
        "    <tr>\n",
        "      <th>3</th>\n",
        "      <td>               intellij-sbt</td>\n",
        "      <td>                 evantill/intellij-sbt</td>\n",
        "      <td> 1</td>\n",
        "    </tr>\n",
        "    <tr>\n",
        "      <th>4</th>\n",
        "      <td>   symbolic-composer-serial</td>\n",
        "      <td> brisnighmeta/symbolic-composer-serial</td>\n",
        "      <td> 0</td>\n",
        "    </tr>\n",
        "  </tbody>\n",
        "</table>\n",
        "<p>5 rows \u00d7 3 columns</p>\n",
        "</div>"
       ],
       "metadata": {},
       "output_type": "pyout",
       "prompt_number": 199,
       "text": [
        "                         name                              full_name  fork\n",
        "0                      webcam                   the-darknight/webcam     1\n",
        "1  Recipes-for-Mining-Twitter    winnerdy/Recipes-for-Mining-Twitter     1\n",
        "2                       Specs                         Istergul/Specs     1\n",
        "3                intellij-sbt                  evantill/intellij-sbt     1\n",
        "4    symbolic-composer-serial  brisnighmeta/symbolic-composer-serial     0\n",
        "\n",
        "[5 rows x 3 columns]"
       ]
      }
     ],
     "prompt_number": 199
    },
    {
     "cell_type": "markdown",
     "metadata": {},
     "source": [
      "Another quite important category -- 0.2M repos here. "
     ]
    },
    {
     "cell_type": "markdown",
     "metadata": {},
     "source": [
      "## Databases\n",
      "\n",
      "Several hundred databases are in use. The point of looking for them in repo names or descriptions is to highlight work on the databases themselves. "
     ]
    },
    {
     "cell_type": "code",
     "collapsed": false,
     "input": [
      "# list of databases came from db-engine.com. I just copied the ranking table there. There are around 200 there.\n",
      "dblist = pd.read_csv('topic_lists/db_list.csv', header=None)\n",
      "dblist.columns = ['name', 'type']\n",
      "print(dblist.shape)"
     ],
     "language": "python",
     "metadata": {},
     "outputs": [
      {
       "output_type": "stream",
       "stream": "stdout",
       "text": [
        "(219, 2)\n"
       ]
      }
     ],
     "prompt_number": 2
    },
    {
     "cell_type": "code",
     "collapsed": false,
     "input": [
      "dblist['type'].value_counts()"
     ],
     "language": "python",
     "metadata": {},
     "outputs": [
      {
       "metadata": {},
       "output_type": "pyout",
       "prompt_number": 3,
       "text": [
        "Relational DBMS         81\n",
        "Key-value store         38\n",
        "Document store          22\n",
        "RDF store               15\n",
        "Object oriented DBMS    14\n",
        "Search engine           13\n",
        "Graph DBMS               9\n",
        "Multi-model              8\n",
        "Multivalue DBMS          7\n",
        "Native XML DBMS          4\n",
        "Wide column store        4\n",
        "Content store            2\n",
        "Navigational DBMS        2\n",
        "dtype: int64"
       ]
      }
     ],
     "prompt_number": 3
    },
    {
     "cell_type": "markdown",
     "metadata": {},
     "source": [
      "The idea with such lists is to construct queries that look for all the top db names in names of repos, and then see how that divides up"
     ]
    },
    {
     "cell_type": "code",
     "collapsed": false,
     "input": [
      "dbquery = '|'.join(dblist['name']).lower()"
     ],
     "language": "python",
     "metadata": {},
     "outputs": [],
     "prompt_number": 5
    },
    {
     "cell_type": "code",
     "collapsed": false,
     "input": [
      "db_df = construct_repo_df(dbquery, description=False)"
     ],
     "language": "python",
     "metadata": {},
     "outputs": [
      {
       "output_type": "stream",
       "stream": "stdout",
       "text": [
        "starting bigquery ... \n",
        "oracle|mysql|microsoft.?sql.?server|postgresql|mongodb|db2|microsoft.?access|sqlite|cassandra|sybase.?ase|solr|teradata|redis|filemaker|hbase|informix|elasticsearch|hive|memcached|splunk|couchdb|neo4j|sap.?hana|netezza|firebird|windows.?azure.?sql.?database|mariadb|couchbase|vertica|dbase|riak|dynamodb|sphinx|endeca|ingres|marklogic|greenplum|ehcache|interbase|ravendb|sql.?anywhere|sybase.?iq|hypersql|msql|jackrabbit|hazelcast|google.?search.?appliance|adabas|h2|derby|berkeley.?db|simpledb|sybase.?ads|coherence|virtuoso|accumulo|timesten|unidatauniverse|maxdb|google.?bigquery|gemfire|redshift|titan|cach\u00e9|orientdb|db4o|drizzle|openedge|teradata.?aster|versant.?object.?database|cloudant|oracle.?nosql|enterprisedb|ims|infobright|paraccel|tamino|jena|sesame|voltdb|percona.?server|idms|objectstore|red.?brick|d3|infinispan|sedna|sparksee|nuodb|monetdb|jbase|dataease|altibase|datameer|rbase|nonstop.?sql|mnesia|leveldb|gt.m|aerospike|clustrix|cloudsearch|model.?204|gridgain|hypertable|soliddb|zodb|memsql|vectorwise|kdb.?|frontbase|1010data|xapian|kognitio|pervasive.?psql|vistadb|basex|infinidb|allegrograph|tokyo.?cabinet|openbase|northgate.?reality|giraph|algebraix|rethinkdb|ncache|objectivity/db|websphere.?extreme.?scale|cubrid|nexusdb|project.?voldemort|hadapt|tokudb|tokyo.?tyrant|foundationdb|hibari|exasol|compass|akiban|indica|xap|webscalesql|perst|objectdb|tokumx|gemstone/s|geniedb|extremedb|infinitegraph|owlim|scimoredb|redland|dataupia|redstore|scalaris|luciddb|clusterpoint|stardog|starcounter|hamsterdb|infogrid|flockdb|ejdb|arangodb|lightcloud|terrastore|smallsql|kyoto.?tycoon|kyoto.?cabinet|searchblox|4store|translattice|siaqodb|scaledb|exist.?db|sqrrl|rocksdb|openqm|hyperdex|modeshape|cubicweb|eloquera|ittia|amisa.?server|bangdb|brightstardb|c.?treeace|cloudkit|codernitydb|densodb|djondb|dydra|exorbyte|fleetdb|globalsdb|graphbase|hypergraphdb|jade|jasdb|justonedb|mimer.?sql|mulgara|nanolat|raptordb|resin.?cache|scaleout.?stateserver|senseidb|sequoiadb|sisodb|sparkledb|srch\u00b2|strabon|stsdb|tajo|tarantool|tomp2p|velocitydb|wakandadb|xtremedata\n",
        "\r",
        "Waiting on bqjob_r500c20777b51f857_00000146002745ec_1 ... (1s) Current status: RUNNING"
       ]
      },
      {
       "output_type": "stream",
       "stream": "stdout",
       "text": [
        " \r",
        "Waiting on bqjob_r500c20777b51f857_00000146002745ec_1 ... (4s) Current status: RUNNING "
       ]
      },
      {
       "output_type": "stream",
       "stream": "stdout",
       "text": [
        "\r",
        "Waiting on bqjob_r500c20777b51f857_00000146002745ec_1 ... (6s) Current status: RUNNING "
       ]
      },
      {
       "output_type": "stream",
       "stream": "stdout",
       "text": [
        "\r",
        "Waiting on bqjob_r500c20777b51f857_00000146002745ec_1 ... (9s) Current status: RUNNING "
       ]
      },
      {
       "output_type": "stream",
       "stream": "stdout",
       "text": [
        "\r",
        "Waiting on bqjob_r500c20777b51f857_00000146002745ec_1 ... (12s) Current status: RUNNING "
       ]
      },
      {
       "output_type": "stream",
       "stream": "stdout",
       "text": [
        "\r",
        "Waiting on bqjob_r500c20777b51f857_00000146002745ec_1 ... (15s) Current status: RUNNING "
       ]
      },
      {
       "output_type": "stream",
       "stream": "stdout",
       "text": [
        "\r",
        "Waiting on bqjob_r500c20777b51f857_00000146002745ec_1 ... (18s) Current status: RUNNING "
       ]
      },
      {
       "output_type": "stream",
       "stream": "stdout",
       "text": [
        "\r",
        "Waiting on bqjob_r500c20777b51f857_00000146002745ec_1 ... (19s) Current status: RUNNING "
       ]
      },
      {
       "output_type": "stream",
       "stream": "stdout",
       "text": [
        "\r",
        "Waiting on bqjob_r500c20777b51f857_00000146002745ec_1 ... (21s) Current status: RUNNING "
       ]
      },
      {
       "output_type": "stream",
       "stream": "stdout",
       "text": [
        "\r",
        "Waiting on bqjob_r500c20777b51f857_00000146002745ec_1 ... (22s) Current status: RUNNING "
       ]
      },
      {
       "output_type": "stream",
       "stream": "stdout",
       "text": [
        "\r",
        "Waiting on bqjob_r500c20777b51f857_00000146002745ec_1 ... (24s) Current status: RUNNING "
       ]
      },
      {
       "output_type": "stream",
       "stream": "stdout",
       "text": [
        "\r",
        "Waiting on bqjob_r500c20777b51f857_00000146002745ec_1 ... (25s) Current status: RUNNING "
       ]
      },
      {
       "output_type": "stream",
       "stream": "stdout",
       "text": [
        "\r",
        "Waiting on bqjob_r500c20777b51f857_00000146002745ec_1 ... (26s) Current status: RUNNING "
       ]
      },
      {
       "output_type": "stream",
       "stream": "stdout",
       "text": [
        "\r",
        "Waiting on bqjob_r500c20777b51f857_00000146002745ec_1 ... (27s) Current status: RUNNING "
       ]
      },
      {
       "output_type": "stream",
       "stream": "stdout",
       "text": [
        "\r",
        "Waiting on bqjob_r500c20777b51f857_00000146002745ec_1 ... (28s) Current status: RUNNING "
       ]
      },
      {
       "output_type": "stream",
       "stream": "stdout",
       "text": [
        "\r",
        "Waiting on bqjob_r500c20777b51f857_00000146002745ec_1 ... (31s) Current status: RUNNING "
       ]
      },
      {
       "output_type": "stream",
       "stream": "stdout",
       "text": [
        "\r",
        "Waiting on bqjob_r500c20777b51f857_00000146002745ec_1 ... (32s) Current status: RUNNING "
       ]
      },
      {
       "output_type": "stream",
       "stream": "stdout",
       "text": [
        "\r",
        "Waiting on bqjob_r500c20777b51f857_00000146002745ec_1 ... (33s) Current status: RUNNING "
       ]
      },
      {
       "output_type": "stream",
       "stream": "stdout",
       "text": [
        "\r",
        "Waiting on bqjob_r500c20777b51f857_00000146002745ec_1 ... (34s) Current status: RUNNING "
       ]
      },
      {
       "output_type": "stream",
       "stream": "stdout",
       "text": [
        "\r",
        "Waiting on bqjob_r500c20777b51f857_00000146002745ec_1 ... (35s) Current status: RUNNING "
       ]
      },
      {
       "output_type": "stream",
       "stream": "stdout",
       "text": [
        "\r",
        "Waiting on bqjob_r500c20777b51f857_00000146002745ec_1 ... (36s) Current status: RUNNING "
       ]
      },
      {
       "output_type": "stream",
       "stream": "stdout",
       "text": [
        "\r",
        "Waiting on bqjob_r500c20777b51f857_00000146002745ec_1 ... (37s) Current status: RUNNING "
       ]
      },
      {
       "output_type": "stream",
       "stream": "stdout",
       "text": [
        "\r",
        "Waiting on bqjob_r500c20777b51f857_00000146002745ec_1 ... (38s) Current status: RUNNING "
       ]
      },
      {
       "output_type": "stream",
       "stream": "stdout",
       "text": [
        "\r",
        "Waiting on bqjob_r500c20777b51f857_00000146002745ec_1 ... (38s) Current status: DONE   \n",
        "(129754, 3)"
       ]
      },
      {
       "output_type": "stream",
       "stream": "stdout",
       "text": [
        "\n"
       ]
      }
     ],
     "prompt_number": 8
    },
    {
     "cell_type": "code",
     "collapsed": false,
     "input": [
      "\n",
      "print(db_df.shape)\n",
      "db_df.head()"
     ],
     "language": "python",
     "metadata": {},
     "outputs": [
      {
       "output_type": "stream",
       "stream": "stdout",
       "text": [
        "(129754, 3)\n"
       ]
      },
      {
       "html": [
        "<div style=\"max-height:1000px;max-width:1500px;overflow:auto;\">\n",
        "<table border=\"1\" class=\"dataframe\">\n",
        "  <thead>\n",
        "    <tr style=\"text-align: right;\">\n",
        "      <th></th>\n",
        "      <th>name</th>\n",
        "      <th>full_name</th>\n",
        "      <th>fork</th>\n",
        "    </tr>\n",
        "  </thead>\n",
        "  <tbody>\n",
        "    <tr>\n",
        "      <th>0</th>\n",
        "      <td>         chef-mongodb</td>\n",
        "      <td>          liulinyang/chef-mongodb</td>\n",
        "      <td> 1</td>\n",
        "    </tr>\n",
        "    <tr>\n",
        "      <th>1</th>\n",
        "      <td>             simpledb</td>\n",
        "      <td>              studytimee/simpledb</td>\n",
        "      <td> 1</td>\n",
        "    </tr>\n",
        "    <tr>\n",
        "      <th>2</th>\n",
        "      <td> nagios-elasticsearch</td>\n",
        "      <td> hajoeichler/nagios-elasticsearch</td>\n",
        "      <td> 1</td>\n",
        "    </tr>\n",
        "    <tr>\n",
        "      <th>3</th>\n",
        "      <td>        rsolr_cookpad</td>\n",
        "      <td>          penguinco/rsolr_cookpad</td>\n",
        "      <td> 1</td>\n",
        "    </tr>\n",
        "    <tr>\n",
        "      <th>4</th>\n",
        "      <td>   elasticsearch-head</td>\n",
        "      <td>    dieforfree/elasticsearch-head</td>\n",
        "      <td> 1</td>\n",
        "    </tr>\n",
        "  </tbody>\n",
        "</table>\n",
        "<p>5 rows \u00d7 3 columns</p>\n",
        "</div>"
       ],
       "metadata": {},
       "output_type": "pyout",
       "prompt_number": 9,
       "text": [
        "                   name                         full_name  fork\n",
        "0          chef-mongodb           liulinyang/chef-mongodb     1\n",
        "1              simpledb               studytimee/simpledb     1\n",
        "2  nagios-elasticsearch  hajoeichler/nagios-elasticsearch     1\n",
        "3         rsolr_cookpad           penguinco/rsolr_cookpad     1\n",
        "4    elasticsearch-head     dieforfree/elasticsearch-head     1\n",
        "\n",
        "[5 rows x 3 columns]"
       ]
      }
     ],
     "prompt_number": 9
    },
    {
     "cell_type": "markdown",
     "metadata": {},
     "source": [
      "This is not a huge number -- around 0.125 M, but still quite significant. "
     ]
    },
    {
     "cell_type": "markdown",
     "metadata": {},
     "source": [
      "## Web frameworks\n",
      "\n",
      "These are important infrastructural components. Most websites rely on them today. So there are quite a few of them. "
     ]
    },
    {
     "cell_type": "code",
     "collapsed": false,
     "input": [
      "#  http://hotframeworks.com/ has a ranked list\n",
      "\n",
      "wflist_df = pd.read_csv('topic_lists/webframe_list.csv', header=None, names=['name'])"
     ],
     "language": "python",
     "metadata": {},
     "outputs": [],
     "prompt_number": 297
    },
    {
     "cell_type": "code",
     "collapsed": false,
     "input": [
      "print(wflist_df.shape)\n",
      "wflist_df.head()"
     ],
     "language": "python",
     "metadata": {},
     "outputs": [
      {
       "output_type": "stream",
       "stream": "stdout",
       "text": [
        "(135, 1)\n"
       ]
      },
      {
       "html": [
        "<div style=\"max-height:1000px;max-width:1500px;overflow:auto;\">\n",
        "<table border=\"1\" class=\"dataframe\">\n",
        "  <thead>\n",
        "    <tr style=\"text-align: right;\">\n",
        "      <th></th>\n",
        "      <th>name</th>\n",
        "    </tr>\n",
        "  </thead>\n",
        "  <tbody>\n",
        "    <tr>\n",
        "      <th>0</th>\n",
        "      <td>   ASP.NET</td>\n",
        "    </tr>\n",
        "    <tr>\n",
        "      <th>1</th>\n",
        "      <td>     Agavi</td>\n",
        "    </tr>\n",
        "    <tr>\n",
        "      <th>2</th>\n",
        "      <td>  AgilePHP</td>\n",
        "    </tr>\n",
        "    <tr>\n",
        "      <th>3</th>\n",
        "      <td>    Akelos</td>\n",
        "    </tr>\n",
        "    <tr>\n",
        "      <th>4</th>\n",
        "      <td> AngularJS</td>\n",
        "    </tr>\n",
        "  </tbody>\n",
        "</table>\n",
        "<p>5 rows \u00d7 1 columns</p>\n",
        "</div>"
       ],
       "metadata": {},
       "output_type": "pyout",
       "prompt_number": 285,
       "text": [
        "        name\n",
        "0    ASP.NET\n",
        "1      Agavi\n",
        "2   AgilePHP\n",
        "3     Akelos\n",
        "4  AngularJS\n",
        "\n",
        "[5 rows x 1 columns]"
       ]
      }
     ],
     "prompt_number": 285
    },
    {
     "cell_type": "code",
     "collapsed": false,
     "input": [
      "wfquery = '|'.join(wflist_df['name'][:30]).lower()\n",
      "wfquery"
     ],
     "language": "python",
     "metadata": {},
     "outputs": [
      {
       "metadata": {},
       "output_type": "pyout",
       "prompt_number": 286,
       "text": [
        "'asp.net|agavi|agilephp|akelos|angularjs|apache click|asp.net mvc|atomik|aura|bottle|cairngorm|cakephp|camping|cappuccino|catalyst|cgi::application|cgi::prototype|cherrypy|circumflex|clearpress|cocoon|codeigniter|compojure|compoundjs|conjure|cyclone3|django|dojo|eliom|ember.js'"
       ]
      }
     ],
     "prompt_number": 286
    },
    {
     "cell_type": "code",
     "collapsed": false,
     "input": [
      "wf_df = construct_repo_df(wfquery)"
     ],
     "language": "python",
     "metadata": {},
     "outputs": [
      {
       "output_type": "stream",
       "stream": "stdout",
       "text": [
        "starting bigquery ... \n",
        "asp.net|agavi|agilephp|akelos|angularjs|apache click|asp.net mvc|atomik|aura|bottle|cairngorm|cakephp|camping|cappuccino|catalyst|cgi::application|cgi::prototype|cherrypy|circumflex|clearpress|cocoon|codeigniter|compojure|compoundjs|conjure|cyclone3|django|dojo|eliom|ember.js\n",
        "\r",
        "Waiting on bqjob_r3433e39396d93a13_00000145f9febd5f_74 ... (0s) Current status: RUNNING"
       ]
      },
      {
       "output_type": "stream",
       "stream": "stdout",
       "text": [
        " \r",
        "Waiting on bqjob_r3433e39396d93a13_00000145f9febd5f_74 ... (2s) Current status: RUNNING "
       ]
      },
      {
       "output_type": "stream",
       "stream": "stdout",
       "text": [
        "\r",
        "Waiting on bqjob_r3433e39396d93a13_00000145f9febd5f_74 ... (4s) Current status: RUNNING "
       ]
      },
      {
       "output_type": "stream",
       "stream": "stdout",
       "text": [
        "\r",
        "Waiting on bqjob_r3433e39396d93a13_00000145f9febd5f_74 ... (4s) Current status: DONE   \n",
        "(114740, 3)"
       ]
      },
      {
       "output_type": "stream",
       "stream": "stdout",
       "text": [
        "\n"
       ]
      }
     ],
     "prompt_number": 287
    },
    {
     "cell_type": "markdown",
     "metadata": {},
     "source": [
      "0.1M Are there really that many projects working on webframeworks. Or is that these frameworks are widely used, but not actually under development. "
     ]
    },
    {
     "cell_type": "markdown",
     "metadata": {},
     "source": [
      "# Javascript frontend libraries\n",
      "\n",
      "Some of these are hard to differentiate, because javascript is now becoming a server technology, and an application framework. There are 50 libraries in use."
     ]
    },
    {
     "cell_type": "code",
     "collapsed": false,
     "input": [
      "javascript_list = pd.read_csv('topic_lists/javascript_front.csv', header=None, names=['name'])\n",
      "javascript_query = '|'.join(javascript_list.name.str.strip()).lower()\n",
      "print javascript_list.shape"
     ],
     "language": "python",
     "metadata": {},
     "outputs": [
      {
       "output_type": "stream",
       "stream": "stdout",
       "text": [
        "(52, 1)\n"
       ]
      }
     ],
     "prompt_number": 362
    },
    {
     "cell_type": "code",
     "collapsed": false,
     "input": [
      "javascript_df = construct_repo_df(javascript_query)"
     ],
     "language": "python",
     "metadata": {},
     "outputs": [
      {
       "output_type": "stream",
       "stream": "stdout",
       "text": [
        "starting bigquery ... \n",
        "accdc|dojo toolkit|glow|jquery|midori|mootools|prototype javascript framework|yui library|ample sdk|dhtmlx|dojo widgets|ext js|ix framework|jquery ui|lively kernel|qooxdoo|script.aculo.us|smartclient|angularjs|atoms.js|backbone.js|cappuccino|chaplin.js|echo|ember.js|enyo|google web toolkit|javascriptmvc|knockout|rialto toolkit|sproutcore|wakanda framework|kendo|funcjs|google closure library|joose|jsphp|microsoft's ajax library|mochikit|pdf.js|rico|socket.io|spry framework|underscore.js|d3.js|javascript infovis toolkit|kinetic.js|processing.js|rapha\u00ebl|swfobject|three.js|createjs\n",
        "\r",
        "Waiting on bqjob_r5e512c5290602b5d_00000145fa0b4328_79 ... (0s) Current status: RUNNING"
       ]
      },
      {
       "output_type": "stream",
       "stream": "stdout",
       "text": [
        " \r",
        "Waiting on bqjob_r5e512c5290602b5d_00000145fa0b4328_79 ... (2s) Current status: RUNNING "
       ]
      },
      {
       "output_type": "stream",
       "stream": "stdout",
       "text": [
        "\r",
        "Waiting on bqjob_r5e512c5290602b5d_00000145fa0b4328_79 ... (3s) Current status: RUNNING "
       ]
      },
      {
       "output_type": "stream",
       "stream": "stdout",
       "text": [
        "\r",
        "Waiting on bqjob_r5e512c5290602b5d_00000145fa0b4328_79 ... (4s) Current status: RUNNING "
       ]
      },
      {
       "output_type": "stream",
       "stream": "stdout",
       "text": [
        "\r",
        "Waiting on bqjob_r5e512c5290602b5d_00000145fa0b4328_79 ... (7s) Current status: RUNNING "
       ]
      },
      {
       "output_type": "stream",
       "stream": "stdout",
       "text": [
        "\r",
        "Waiting on bqjob_r5e512c5290602b5d_00000145fa0b4328_79 ... (7s) Current status: DONE   \n",
        "(145559, 3)"
       ]
      },
      {
       "output_type": "stream",
       "stream": "stdout",
       "text": [
        "\n"
       ]
      }
     ],
     "prompt_number": 300
    },
    {
     "cell_type": "markdown",
     "metadata": {},
     "source": [
      "A small list of libraries, but a lot of repos -- 0.1M"
     ]
    },
    {
     "cell_type": "markdown",
     "metadata": {},
     "source": [
      "## CSS processors\n",
      "\n",
      "Again, these are widely used components for structuring the content of webpages. A couple of dozen are in use. "
     ]
    },
    {
     "cell_type": "code",
     "collapsed": false,
     "input": [
      "csslist = pd.read_csv('topic_lists/css_list.csv', header=None, names = ['name'])\n",
      "print(csslist.shape)\n",
      "csslist.head()"
     ],
     "language": "python",
     "metadata": {},
     "outputs": [
      {
       "output_type": "stream",
       "stream": "stdout",
       "text": [
        "(36, 1)\n"
       ]
      },
      {
       "html": [
        "<div style=\"max-height:1000px;max-width:1500px;overflow:auto;\">\n",
        "<table border=\"1\" class=\"dataframe\">\n",
        "  <thead>\n",
        "    <tr style=\"text-align: right;\">\n",
        "      <th></th>\n",
        "      <th>name</th>\n",
        "    </tr>\n",
        "  </thead>\n",
        "  <tbody>\n",
        "    <tr>\n",
        "      <th>0</th>\n",
        "      <td>     960 grid system</td>\n",
        "    </tr>\n",
        "    <tr>\n",
        "      <th>1</th>\n",
        "      <td>           Blueprint</td>\n",
        "    </tr>\n",
        "    <tr>\n",
        "      <th>2</th>\n",
        "      <td> Bluesky Grid system</td>\n",
        "    </tr>\n",
        "    <tr>\n",
        "      <th>3</th>\n",
        "      <td>           Bootstrap</td>\n",
        "    </tr>\n",
        "    <tr>\n",
        "      <th>4</th>\n",
        "      <td>            Cardinal</td>\n",
        "    </tr>\n",
        "  </tbody>\n",
        "</table>\n",
        "<p>5 rows \u00d7 1 columns</p>\n",
        "</div>"
       ],
       "metadata": {},
       "output_type": "pyout",
       "prompt_number": 289,
       "text": [
        "                  name\n",
        "0      960 grid system\n",
        "1            Blueprint\n",
        "2  Bluesky Grid system\n",
        "3            Bootstrap\n",
        "4             Cardinal\n",
        "\n",
        "[5 rows x 1 columns]"
       ]
      }
     ],
     "prompt_number": 289
    },
    {
     "cell_type": "code",
     "collapsed": false,
     "input": [
      "cssquery = '|'.join(csslist['name'][:30]).lower()\n",
      "\n",
      "css_df = construct_repo_df(cssquery)"
     ],
     "language": "python",
     "metadata": {},
     "outputs": [
      {
       "output_type": "stream",
       "stream": "stdout",
       "text": [
        "960 grid system|blueprint|bluesky grid system|bootstrap|cardinal|cascade framework|cascade framework light|chopstick|columnal|dismantle|emastic|floatz|fluidable|foundation|gumby framework|ink|jaidee framework|jeet grid system|knacss|kube|kule css lazy|malo|pure|responsive grid system|r\u00d6cssti|schema ui / built with less|semantic ui|skeleton|stacklayout|thao framework\n",
        "starting bigquery ... \n",
        "960 grid system|blueprint|bluesky grid system|bootstrap|cardinal|cascade framework|cascade framework light|chopstick|columnal|dismantle|emastic|floatz|fluidable|foundation|gumby framework|ink|jaidee framework|jeet grid system|knacss|kube|kule css lazy|malo|pure|responsive grid system|r\u00d6cssti|schema ui / built with less|semantic ui|skeleton|stacklayout|thao framework\n",
        "\r",
        "Waiting on bqjob_r1063e49b0ccab937_00000145fa0019e4_75 ... (0s) Current status: RUNNING"
       ]
      },
      {
       "output_type": "stream",
       "stream": "stdout",
       "text": [
        " \r",
        "Waiting on bqjob_r1063e49b0ccab937_00000145fa0019e4_75 ... (2s) Current status: RUNNING "
       ]
      },
      {
       "output_type": "stream",
       "stream": "stdout",
       "text": [
        "\r",
        "Waiting on bqjob_r1063e49b0ccab937_00000145fa0019e4_75 ... (4s) Current status: RUNNING "
       ]
      },
      {
       "output_type": "stream",
       "stream": "stdout",
       "text": [
        "\r",
        "Waiting on bqjob_r1063e49b0ccab937_00000145fa0019e4_75 ... (5s) Current status: RUNNING "
       ]
      },
      {
       "output_type": "stream",
       "stream": "stdout",
       "text": [
        "\r",
        "Waiting on bqjob_r1063e49b0ccab937_00000145fa0019e4_75 ... (5s) Current status: DONE   \n",
        "(206127, 3)"
       ]
      },
      {
       "output_type": "stream",
       "stream": "stdout",
       "text": [
        "\n"
       ]
      }
     ],
     "prompt_number": 290
    },
    {
     "cell_type": "code",
     "collapsed": false,
     "input": [
      "css_df.head(10)"
     ],
     "language": "python",
     "metadata": {},
     "outputs": [
      {
       "html": [
        "<div style=\"max-height:1000px;max-width:1500px;overflow:auto;\">\n",
        "<table border=\"1\" class=\"dataframe\">\n",
        "  <thead>\n",
        "    <tr style=\"text-align: right;\">\n",
        "      <th></th>\n",
        "      <th>name</th>\n",
        "      <th>full_name</th>\n",
        "      <th>fork</th>\n",
        "    </tr>\n",
        "  </thead>\n",
        "  <tbody>\n",
        "    <tr>\n",
        "      <th>0</th>\n",
        "      <td>            pykeylogger</td>\n",
        "      <td>        the-darknight/pykeylogger</td>\n",
        "      <td> 1</td>\n",
        "    </tr>\n",
        "    <tr>\n",
        "      <th>1</th>\n",
        "      <td>              bootstrap</td>\n",
        "      <td>            justin-john/bootstrap</td>\n",
        "      <td> 1</td>\n",
        "    </tr>\n",
        "    <tr>\n",
        "      <th>2</th>\n",
        "      <td>              bootstrap</td>\n",
        "      <td>          hummingbird12/bootstrap</td>\n",
        "      <td> 1</td>\n",
        "    </tr>\n",
        "    <tr>\n",
        "      <th>3</th>\n",
        "      <td>   tieu-de-bai-viet-moi</td>\n",
        "      <td> kickauthor1/tieu-de-bai-viet-moi</td>\n",
        "      <td> 0</td>\n",
        "    </tr>\n",
        "    <tr>\n",
        "      <th>4</th>\n",
        "      <td>         bootstrap-sass</td>\n",
        "      <td>         shaggyone/bootstrap-sass</td>\n",
        "      <td> 1</td>\n",
        "    </tr>\n",
        "    <tr>\n",
        "      <th>5</th>\n",
        "      <td>              bootstrap</td>\n",
        "      <td>              kabaskimy/bootstrap</td>\n",
        "      <td> 1</td>\n",
        "    </tr>\n",
        "    <tr>\n",
        "      <th>6</th>\n",
        "      <td>               TileGame</td>\n",
        "      <td>             ccstevenson/TileGame</td>\n",
        "      <td> 0</td>\n",
        "    </tr>\n",
        "    <tr>\n",
        "      <th>7</th>\n",
        "      <td>                    nix</td>\n",
        "      <td>                      vlstill/nix</td>\n",
        "      <td> 1</td>\n",
        "    </tr>\n",
        "    <tr>\n",
        "      <th>8</th>\n",
        "      <td> Bootstrap-Form-Builder</td>\n",
        "      <td>  nthelton/Bootstrap-Form-Builder</td>\n",
        "      <td> 1</td>\n",
        "    </tr>\n",
        "    <tr>\n",
        "      <th>9</th>\n",
        "      <td>         bootstrap_form</td>\n",
        "      <td>         shobhitic/bootstrap_form</td>\n",
        "      <td> 1</td>\n",
        "    </tr>\n",
        "  </tbody>\n",
        "</table>\n",
        "<p>10 rows \u00d7 3 columns</p>\n",
        "</div>"
       ],
       "metadata": {},
       "output_type": "pyout",
       "prompt_number": 162,
       "text": [
        "                     name                         full_name  fork\n",
        "0             pykeylogger         the-darknight/pykeylogger     1\n",
        "1               bootstrap             justin-john/bootstrap     1\n",
        "2               bootstrap           hummingbird12/bootstrap     1\n",
        "3    tieu-de-bai-viet-moi  kickauthor1/tieu-de-bai-viet-moi     0\n",
        "4          bootstrap-sass          shaggyone/bootstrap-sass     1\n",
        "5               bootstrap               kabaskimy/bootstrap     1\n",
        "6                TileGame              ccstevenson/TileGame     0\n",
        "7                     nix                       vlstill/nix     1\n",
        "8  Bootstrap-Form-Builder   nthelton/Bootstrap-Form-Builder     1\n",
        "9          bootstrap_form          shobhitic/bootstrap_form     1\n",
        "\n",
        "[10 rows x 3 columns]"
       ]
      }
     ],
     "prompt_number": 162
    },
    {
     "cell_type": "markdown",
     "metadata": {},
     "source": [
      "Quite a lot here -- around 0.2 M"
     ]
    },
    {
     "cell_type": "markdown",
     "metadata": {},
     "source": [
      "## Git and github related tools\n"
     ]
    },
    {
     "cell_type": "code",
     "collapsed": false,
     "input": [
      "git_query = 'git|(github)'\n",
      "git_df = construct_repo_df(git_query, description=False)"
     ],
     "language": "python",
     "metadata": {},
     "outputs": [
      {
       "output_type": "stream",
       "stream": "stdout",
       "text": [
        "starting bigquery ... \n",
        "git|(github)\n",
        "\r",
        "Waiting on bqjob_r69c40e71a2252394_00000145fc246fb9_112 ... (0s) Current status: RUNNING"
       ]
      },
      {
       "output_type": "stream",
       "stream": "stdout",
       "text": [
        " \r",
        "Waiting on bqjob_r69c40e71a2252394_00000145fc246fb9_112 ... (2s) Current status: RUNNING "
       ]
      },
      {
       "output_type": "stream",
       "stream": "stdout",
       "text": [
        "\r",
        "Waiting on bqjob_r69c40e71a2252394_00000145fc246fb9_112 ... (4s) Current status: RUNNING "
       ]
      },
      {
       "output_type": "stream",
       "stream": "stdout",
       "text": [
        "\r",
        "Waiting on bqjob_r69c40e71a2252394_00000145fc246fb9_112 ... (4s) Current status: DONE   \n",
        "(330161, 3)"
       ]
      },
      {
       "output_type": "stream",
       "stream": "stdout",
       "text": [
        "\n"
       ]
      }
     ],
     "prompt_number": 365
    },
    {
     "cell_type": "code",
     "collapsed": false,
     "input": [
      "git_df.head(20)"
     ],
     "language": "python",
     "metadata": {},
     "outputs": [
      {
       "html": [
        "<div style=\"max-height:1000px;max-width:1500px;overflow:auto;\">\n",
        "<table border=\"1\" class=\"dataframe\">\n",
        "  <thead>\n",
        "    <tr style=\"text-align: right;\">\n",
        "      <th></th>\n",
        "      <th>name</th>\n",
        "      <th>full_name</th>\n",
        "      <th>fork</th>\n",
        "    </tr>\n",
        "  </thead>\n",
        "  <tbody>\n",
        "    <tr>\n",
        "      <th>0 </th>\n",
        "      <td> benniesokoloski.github.io</td>\n",
        "      <td> benniesokoloski/benniesokoloski.github.io</td>\n",
        "      <td> 0</td>\n",
        "    </tr>\n",
        "    <tr>\n",
        "      <th>1 </th>\n",
        "      <td>          kdabir.github.io</td>\n",
        "      <td>                   kdabir/kdabir.github.io</td>\n",
        "      <td> 0</td>\n",
        "    </tr>\n",
        "    <tr>\n",
        "      <th>2 </th>\n",
        "      <td>                       git</td>\n",
        "      <td>                              hosono-s/git</td>\n",
        "      <td> 1</td>\n",
        "    </tr>\n",
        "    <tr>\n",
        "      <th>3 </th>\n",
        "      <td>                 hello-git</td>\n",
        "      <td>                         SmileMx/hello-git</td>\n",
        "      <td> 0</td>\n",
        "    </tr>\n",
        "    <tr>\n",
        "      <th>4 </th>\n",
        "      <td>                   testgit</td>\n",
        "      <td>                             niane/testgit</td>\n",
        "      <td> 0</td>\n",
        "    </tr>\n",
        "    <tr>\n",
        "      <th>5 </th>\n",
        "      <td>         kuaixp.github.com</td>\n",
        "      <td>                  kuaixp/kuaixp.github.com</td>\n",
        "      <td> 0</td>\n",
        "    </tr>\n",
        "    <tr>\n",
        "      <th>6 </th>\n",
        "      <td>                  gitwatch</td>\n",
        "      <td>                           henrik/gitwatch</td>\n",
        "      <td> 0</td>\n",
        "    </tr>\n",
        "    <tr>\n",
        "      <th>7 </th>\n",
        "      <td>     tencentopen.github.io</td>\n",
        "      <td>           guodayang/tencentopen.github.io</td>\n",
        "      <td> 1</td>\n",
        "    </tr>\n",
        "    <tr>\n",
        "      <th>8 </th>\n",
        "      <td>     liuzhaodong.github.io</td>\n",
        "      <td>         liuzhaodong/liuzhaodong.github.io</td>\n",
        "      <td> 0</td>\n",
        "    </tr>\n",
        "    <tr>\n",
        "      <th>9 </th>\n",
        "      <td>                  git_quiz</td>\n",
        "      <td>                           xfun68/git_quiz</td>\n",
        "      <td> 0</td>\n",
        "    </tr>\n",
        "    <tr>\n",
        "      <th>10</th>\n",
        "      <td>                    gotgit</td>\n",
        "      <td>                          Jaskom001/gotgit</td>\n",
        "      <td> 1</td>\n",
        "    </tr>\n",
        "    <tr>\n",
        "      <th>11</th>\n",
        "      <td>                   gitrepo</td>\n",
        "      <td>                  VigdisKildedalen/gitrepo</td>\n",
        "      <td> 0</td>\n",
        "    </tr>\n",
        "    <tr>\n",
        "      <th>12</th>\n",
        "      <td>                githubtest</td>\n",
        "      <td>                        akenich/githubtest</td>\n",
        "      <td> 0</td>\n",
        "    </tr>\n",
        "    <tr>\n",
        "      <th>13</th>\n",
        "      <td>                    gitprj</td>\n",
        "      <td>                              jpgmr/gitprj</td>\n",
        "      <td> 0</td>\n",
        "    </tr>\n",
        "    <tr>\n",
        "      <th>14</th>\n",
        "      <td>                    gitprj</td>\n",
        "      <td>                           Hewillon/gitprj</td>\n",
        "      <td> 0</td>\n",
        "    </tr>\n",
        "    <tr>\n",
        "      <th>15</th>\n",
        "      <td>                    gitprj</td>\n",
        "      <td>                        existmaster/gitprj</td>\n",
        "      <td> 0</td>\n",
        "    </tr>\n",
        "    <tr>\n",
        "      <th>16</th>\n",
        "      <td>                    gitprj</td>\n",
        "      <td>                               kenu/gitprj</td>\n",
        "      <td> 0</td>\n",
        "    </tr>\n",
        "    <tr>\n",
        "      <th>17</th>\n",
        "      <td>                    gitprj</td>\n",
        "      <td>                           yplch203/gitprj</td>\n",
        "      <td> 0</td>\n",
        "    </tr>\n",
        "    <tr>\n",
        "      <th>18</th>\n",
        "      <td>                    gitprj</td>\n",
        "      <td>                             hjsix2/gitprj</td>\n",
        "      <td> 0</td>\n",
        "    </tr>\n",
        "    <tr>\n",
        "      <th>19</th>\n",
        "      <td>                    gitprj</td>\n",
        "      <td>                          MollyPark/gitprj</td>\n",
        "      <td> 0</td>\n",
        "    </tr>\n",
        "  </tbody>\n",
        "</table>\n",
        "<p>20 rows \u00d7 3 columns</p>\n",
        "</div>"
       ],
       "metadata": {},
       "output_type": "pyout",
       "prompt_number": 369,
       "text": [
        "                         name                                  full_name  fork\n",
        "0   benniesokoloski.github.io  benniesokoloski/benniesokoloski.github.io     0\n",
        "1            kdabir.github.io                    kdabir/kdabir.github.io     0\n",
        "2                         git                               hosono-s/git     1\n",
        "3                   hello-git                          SmileMx/hello-git     0\n",
        "4                     testgit                              niane/testgit     0\n",
        "5           kuaixp.github.com                   kuaixp/kuaixp.github.com     0\n",
        "6                    gitwatch                            henrik/gitwatch     0\n",
        "7       tencentopen.github.io            guodayang/tencentopen.github.io     1\n",
        "8       liuzhaodong.github.io          liuzhaodong/liuzhaodong.github.io     0\n",
        "9                    git_quiz                            xfun68/git_quiz     0\n",
        "10                     gotgit                           Jaskom001/gotgit     1\n",
        "11                    gitrepo                   VigdisKildedalen/gitrepo     0\n",
        "12                 githubtest                         akenich/githubtest     0\n",
        "13                     gitprj                               jpgmr/gitprj     0\n",
        "14                     gitprj                            Hewillon/gitprj     0\n",
        "15                     gitprj                         existmaster/gitprj     0\n",
        "16                     gitprj                                kenu/gitprj     0\n",
        "17                     gitprj                            yplch203/gitprj     0\n",
        "18                     gitprj                              hjsix2/gitprj     0\n",
        "19                     gitprj                           MollyPark/gitprj     0\n",
        "\n",
        "[20 rows x 3 columns]"
       ]
      }
     ],
     "prompt_number": 369
    },
    {
     "cell_type": "markdown",
     "metadata": {},
     "source": [
      "Ok, as expected, quite a few here. I haven't worked out a way to exclude all the "
     ]
    },
    {
     "cell_type": "markdown",
     "metadata": {},
     "source": [
      "## Editor and command configs - dot files\n",
      "\n",
      "I'm thinking these are really important to programmers work. They are commonly known as 'dotfiles.' The query here is very loose. There might be additional terms needed. "
     ]
    },
    {
     "cell_type": "code",
     "collapsed": false,
     "input": [
      "dotquery = 'bash|zsh|tmux|csh|vim|emacs|dot?file'\n",
      "dot_df = construct_repo_df(dotquery)"
     ],
     "language": "python",
     "metadata": {},
     "outputs": [
      {
       "output_type": "stream",
       "stream": "stdout",
       "text": [
        "starting bigquery ... \n",
        "bash|zsh|tmux|csh|vim|emacs|dot?file\n",
        "\r",
        "Waiting on bqjob_rb8125ee784fe8f0_00000145fa023b02_76 ... (0s) Current status: RUNNING"
       ]
      },
      {
       "output_type": "stream",
       "stream": "stdout",
       "text": [
        " \r",
        "Waiting on bqjob_rb8125ee784fe8f0_00000145fa023b02_76 ... (1s) Current status: RUNNING "
       ]
      },
      {
       "output_type": "stream",
       "stream": "stdout",
       "text": [
        "\r",
        "Waiting on bqjob_rb8125ee784fe8f0_00000145fa023b02_76 ... (3s) Current status: RUNNING "
       ]
      },
      {
       "output_type": "stream",
       "stream": "stdout",
       "text": [
        "\r",
        "Waiting on bqjob_rb8125ee784fe8f0_00000145fa023b02_76 ... (4s) Current status: RUNNING "
       ]
      },
      {
       "output_type": "stream",
       "stream": "stdout",
       "text": [
        "\r",
        "Waiting on bqjob_rb8125ee784fe8f0_00000145fa023b02_76 ... (4s) Current status: DONE   \n",
        "(153564, 3)"
       ]
      },
      {
       "output_type": "stream",
       "stream": "stdout",
       "text": [
        "\n"
       ]
      }
     ],
     "prompt_number": 293
    },
    {
     "cell_type": "markdown",
     "metadata": {},
     "source": [
      "Again, quite a few here - around 0.15 M."
     ]
    },
    {
     "cell_type": "markdown",
     "metadata": {},
     "source": [
      "## Server admin, virtualization and infrastructures\n",
      "\n",
      "These are quite large low level bodies of software, including cloud, virtualization, application servers, etc. This list is from newrelic.com. Again, around 120 exist. "
     ]
    },
    {
     "cell_type": "code",
     "collapsed": false,
     "input": [
      "server = pd.read_csv('topic_lists/opsadmin.csv', header=None, names = ['name', 'type'], na_filter=True, sep='\\t')\n",
      "print server.shape\n",
      "server.dropna(inplace=True)\n",
      "server.head()\n"
     ],
     "language": "python",
     "metadata": {},
     "outputs": [
      {
       "output_type": "stream",
       "stream": "stdout",
       "text": [
        "(127, 2)\n"
       ]
      },
      {
       "html": [
        "<div style=\"max-height:1000px;max-width:1500px;overflow:auto;\">\n",
        "<table border=\"1\" class=\"dataframe\">\n",
        "  <thead>\n",
        "    <tr style=\"text-align: right;\">\n",
        "      <th></th>\n",
        "      <th>name</th>\n",
        "      <th>type</th>\n",
        "    </tr>\n",
        "  </thead>\n",
        "  <tbody>\n",
        "    <tr>\n",
        "      <th>0</th>\n",
        "      <td>        Linux</td>\n",
        "      <td> Operating Systems</td>\n",
        "    </tr>\n",
        "    <tr>\n",
        "      <th>1</th>\n",
        "      <td>         Unix</td>\n",
        "      <td> Operating Systems</td>\n",
        "    </tr>\n",
        "    <tr>\n",
        "      <th>2</th>\n",
        "      <td>      Windows</td>\n",
        "      <td> Operating Systems</td>\n",
        "    </tr>\n",
        "    <tr>\n",
        "      <th>3</th>\n",
        "      <td>      Solaris</td>\n",
        "      <td> Operating Systems</td>\n",
        "    </tr>\n",
        "    <tr>\n",
        "      <th>4</th>\n",
        "      <td>     Mac OS X</td>\n",
        "      <td> Operating Systems</td>\n",
        "    </tr>\n",
        "  </tbody>\n",
        "</table>\n",
        "<p>5 rows \u00d7 2 columns</p>\n",
        "</div>"
       ],
       "metadata": {},
       "output_type": "pyout",
       "prompt_number": 292,
       "text": [
        "           name               type\n",
        "0         Linux  Operating Systems\n",
        "1          Unix  Operating Systems\n",
        "2       Windows  Operating Systems\n",
        "3       Solaris  Operating Systems\n",
        "4      Mac OS X  Operating Systems\n",
        "\n",
        "[5 rows x 2 columns]"
       ]
      }
     ],
     "prompt_number": 292
    },
    {
     "cell_type": "code",
     "collapsed": false,
     "input": [
      "serverquery   = '|'.join(server['name'].str.strip()).lower()\n",
      "serverquery"
     ],
     "language": "python",
     "metadata": {},
     "outputs": [
      {
       "metadata": {},
       "output_type": "pyout",
       "prompt_number": 164,
       "text": [
        "'linux|unix|windows|solaris|mac os x|amazon web services j|rackspace j|cloud foundry|azure|google cloud|openstack|centos|redhat|ubuntu|debian|gentoo|slackware|vmware|kvm|xen|virtualbox|lxc|solaris containers|kickstart|cobbler|puppet|mcollective|chef|ansible|cfengine j|saltstack|rancid|jenkins|maven|ant|jboss|tomcat|jetty|glassfish|websphere|nginx|apache|activemq|rabbitmq|memcache|varnish|new relic|nagios|icinga|graphite|ganglia|cacti|pagerduty j|papertrail|logstash|loggly|splunk|monit|runit|supervisor|god|blue pill|upstart|snorby threat stack|tripwire|multihost ssh wrapper|code climate|iperf'"
       ]
      }
     ],
     "prompt_number": 164
    },
    {
     "cell_type": "code",
     "collapsed": false,
     "input": [
      "server_df = construct_repo_df(serverquery)"
     ],
     "language": "python",
     "metadata": {},
     "outputs": [
      {
       "output_type": "stream",
       "stream": "stdout",
       "text": [
        "starting bigquery ... \n",
        "linux|unix|windows|solaris|mac os x|amazon web services j|rackspace j|cloud foundry|azure|google cloud|openstack|centos|redhat|ubuntu|debian|gentoo|slackware|vmware|kvm|xen|virtualbox|lxc|solaris containers|kickstart|cobbler|puppet|mcollective|chef|ansible|cfengine j|saltstack|rancid|jenkins|maven|ant|jboss|tomcat|jetty|glassfish|websphere|nginx|apache|activemq|rabbitmq|memcache|varnish|new relic|nagios|icinga|graphite|ganglia|cacti|pagerduty j|papertrail|logstash|loggly|splunk|monit|runit|supervisor|god|blue pill|upstart|snorby threat stack|tripwire|multihost ssh wrapper|code climate|iperf\n",
        "\r",
        "Waiting on bqjob_r3dd3ab6068339441_00000145f1c0fbcd_46 ... (2s) Current status: RUNNING"
       ]
      },
      {
       "output_type": "stream",
       "stream": "stdout",
       "text": [
        " \r",
        "Waiting on bqjob_r3dd3ab6068339441_00000145f1c0fbcd_46 ... (4s) Current status: RUNNING "
       ]
      },
      {
       "output_type": "stream",
       "stream": "stdout",
       "text": [
        "\r",
        "Waiting on bqjob_r3dd3ab6068339441_00000145f1c0fbcd_46 ... (4s) Current status: DONE   \n",
        "(410946, 3)"
       ]
      },
      {
       "output_type": "stream",
       "stream": "stdout",
       "text": [
        "\n"
       ]
      }
     ],
     "prompt_number": 165
    },
    {
     "cell_type": "code",
     "collapsed": false,
     "input": [
      "server_df.head()"
     ],
     "language": "python",
     "metadata": {},
     "outputs": [
      {
       "html": [
        "<div style=\"max-height:1000px;max-width:1500px;overflow:auto;\">\n",
        "<table border=\"1\" class=\"dataframe\">\n",
        "  <thead>\n",
        "    <tr style=\"text-align: right;\">\n",
        "      <th></th>\n",
        "      <th>name</th>\n",
        "      <th>full_name</th>\n",
        "      <th>fork</th>\n",
        "    </tr>\n",
        "  </thead>\n",
        "  <tbody>\n",
        "    <tr>\n",
        "      <th>0</th>\n",
        "      <td>                    symantec-ghost-serial</td>\n",
        "      <td>                profsefthema/symantec-ghost-serial</td>\n",
        "      <td> 0</td>\n",
        "    </tr>\n",
        "    <tr>\n",
        "      <th>1</th>\n",
        "      <td>                                passup.js</td>\n",
        "      <td>                                  cettox/passup.js</td>\n",
        "      <td> 1</td>\n",
        "    </tr>\n",
        "    <tr>\n",
        "      <th>2</th>\n",
        "      <td> symantec-ghost-imaging-software-download</td>\n",
        "      <td> zaptothynus/symantec-ghost-imaging-software-do...</td>\n",
        "      <td> 0</td>\n",
        "    </tr>\n",
        "    <tr>\n",
        "      <th>3</th>\n",
        "      <td>            symantec-ghost-solution-crack</td>\n",
        "      <td>        siopercpopan/symantec-ghost-solution-crack</td>\n",
        "      <td> 0</td>\n",
        "    </tr>\n",
        "    <tr>\n",
        "      <th>4</th>\n",
        "      <td>     symantec-ghost-solution-suite-serial</td>\n",
        "      <td> desknistsusri/symantec-ghost-solution-suite-se...</td>\n",
        "      <td> 0</td>\n",
        "    </tr>\n",
        "  </tbody>\n",
        "</table>\n",
        "<p>5 rows \u00d7 3 columns</p>\n",
        "</div>"
       ],
       "metadata": {},
       "output_type": "pyout",
       "prompt_number": 166,
       "text": [
        "                                       name  \\\n",
        "0                     symantec-ghost-serial   \n",
        "1                                 passup.js   \n",
        "2  symantec-ghost-imaging-software-download   \n",
        "3             symantec-ghost-solution-crack   \n",
        "4      symantec-ghost-solution-suite-serial   \n",
        "\n",
        "                                           full_name  fork  \n",
        "0                 profsefthema/symantec-ghost-serial     0  \n",
        "1                                   cettox/passup.js     1  \n",
        "2  zaptothynus/symantec-ghost-imaging-software-do...     0  \n",
        "3         siopercpopan/symantec-ghost-solution-crack     0  \n",
        "4  desknistsusri/symantec-ghost-solution-suite-se...     0  \n",
        "\n",
        "[5 rows x 3 columns]"
       ]
      }
     ],
     "prompt_number": 166
    },
    {
     "cell_type": "code",
     "collapsed": false,
     "input": [],
     "language": "python",
     "metadata": {},
     "outputs": []
    },
    {
     "cell_type": "markdown",
     "metadata": {},
     "source": [
      "Around 0.4 M repos here"
     ]
    },
    {
     "cell_type": "markdown",
     "metadata": {},
     "source": [
      "## Hardware devices and platforms\n"
     ]
    },
    {
     "cell_type": "code",
     "collapsed": false,
     "input": [
      "device_query = 'arduino|raspberry|android|ios|blackberry|armv|symbian'"
     ],
     "language": "python",
     "metadata": {},
     "outputs": [],
     "prompt_number": 13
    },
    {
     "cell_type": "code",
     "collapsed": false,
     "input": [
      "devices_df = construct_repo_df(device_query)"
     ],
     "language": "python",
     "metadata": {},
     "outputs": [
      {
       "output_type": "stream",
       "stream": "stdout",
       "text": [
        "starting bigquery ... \n",
        "arduino|raspberry|android|ios|blackberry|armv|symbian\n",
        "\r",
        "Waiting on bqjob_r28d1939a172fd9d6_00000146002a43d9_2 ... (1s) Current status: RUNNING"
       ]
      },
      {
       "output_type": "stream",
       "stream": "stdout",
       "text": [
        " \r",
        "Waiting on bqjob_r28d1939a172fd9d6_00000146002a43d9_2 ... (3s) Current status: RUNNING "
       ]
      },
      {
       "output_type": "stream",
       "stream": "stdout",
       "text": [
        "\r",
        "Waiting on bqjob_r28d1939a172fd9d6_00000146002a43d9_2 ... (5s) Current status: RUNNING "
       ]
      },
      {
       "output_type": "stream",
       "stream": "stdout",
       "text": [
        "\r",
        "Waiting on bqjob_r28d1939a172fd9d6_00000146002a43d9_2 ... (5s) Current status: DONE   \n",
        "(236695, 3)"
       ]
      },
      {
       "output_type": "stream",
       "stream": "stdout",
       "text": [
        "\n"
       ]
      }
     ],
     "prompt_number": 14
    },
    {
     "cell_type": "code",
     "collapsed": false,
     "input": [
      "devices_df.head()"
     ],
     "language": "python",
     "metadata": {},
     "outputs": [
      {
       "html": [
        "<div style=\"max-height:1000px;max-width:1500px;overflow:auto;\">\n",
        "<table border=\"1\" class=\"dataframe\">\n",
        "  <thead>\n",
        "    <tr style=\"text-align: right;\">\n",
        "      <th></th>\n",
        "      <th>name</th>\n",
        "      <th>full_name</th>\n",
        "      <th>fork</th>\n",
        "    </tr>\n",
        "  </thead>\n",
        "  <tbody>\n",
        "    <tr>\n",
        "      <th>0</th>\n",
        "      <td>            android-kawa</td>\n",
        "      <td>            cadre-io/android-kawa</td>\n",
        "      <td> 1</td>\n",
        "    </tr>\n",
        "    <tr>\n",
        "      <th>1</th>\n",
        "      <td>                 android</td>\n",
        "      <td>                  SmileMx/android</td>\n",
        "      <td> 0</td>\n",
        "    </tr>\n",
        "    <tr>\n",
        "      <th>2</th>\n",
        "      <td>               arm7-dasm</td>\n",
        "      <td>          the-darknight/arm7-dasm</td>\n",
        "      <td> 1</td>\n",
        "    </tr>\n",
        "    <tr>\n",
        "      <th>3</th>\n",
        "      <td> android_frameworks_base</td>\n",
        "      <td> truthwzl/android_frameworks_base</td>\n",
        "      <td> 1</td>\n",
        "    </tr>\n",
        "    <tr>\n",
        "      <th>4</th>\n",
        "      <td>                  FFMpeg</td>\n",
        "      <td>                  truthwzl/FFMpeg</td>\n",
        "      <td> 1</td>\n",
        "    </tr>\n",
        "  </tbody>\n",
        "</table>\n",
        "<p>5 rows \u00d7 3 columns</p>\n",
        "</div>"
       ],
       "metadata": {},
       "output_type": "pyout",
       "prompt_number": 15,
       "text": [
        "                      name                         full_name  fork\n",
        "0             android-kawa             cadre-io/android-kawa     1\n",
        "1                  android                   SmileMx/android     0\n",
        "2                arm7-dasm           the-darknight/arm7-dasm     1\n",
        "3  android_frameworks_base  truthwzl/android_frameworks_base     1\n",
        "4                   FFMpeg                   truthwzl/FFMpeg     1\n",
        "\n",
        "[5 rows x 3 columns]"
       ]
      }
     ],
     "prompt_number": 15
    },
    {
     "cell_type": "markdown",
     "metadata": {},
     "source": [
      "Ok, around 0.25M repos again -- this starting to sound familiar! Quite interesting to look more at ARM architectures, and perhaps follow up the very notion of architecture through code. "
     ]
    },
    {
     "cell_type": "markdown",
     "metadata": {},
     "source": [
      "## Social media platforms\n",
      "\n",
      "This is a huge one, combining several of the previous ones, again with several hundred cases"
     ]
    },
    {
     "cell_type": "code",
     "collapsed": false,
     "input": [
      "socialmedia = pd.read_csv('social_media.csv', header=0)\n",
      "socialmedia.shape\n",
      "socialmedia.head()"
     ],
     "language": "python",
     "metadata": {},
     "outputs": [
      {
       "html": [
        "<div style=\"max-height:1000px;max-width:1500px;overflow:auto;\">\n",
        "<table border=\"1\" class=\"dataframe\">\n",
        "  <thead>\n",
        "    <tr style=\"text-align: right;\">\n",
        "      <th></th>\n",
        "      <th>name</th>\n",
        "      <th>description</th>\n",
        "      <th>start</th>\n",
        "      <th>users</th>\n",
        "      <th>Registration post responses and questions </th>\n",
        "      <th>Ranking</th>\n",
        "    </tr>\n",
        "  </thead>\n",
        "  <tbody>\n",
        "    <tr>\n",
        "      <th>0</th>\n",
        "      <td>    43 Things </td>\n",
        "      <td>                     Goal setting and achievement </td>\n",
        "      <td> 1 January 2005 </td>\n",
        "      <td> 3,000,000[2] </td>\n",
        "      <td>     Open </td>\n",
        "      <td>  12,914[3]</td>\n",
        "    </tr>\n",
        "    <tr>\n",
        "      <th>1</th>\n",
        "      <td> Academia.edu </td>\n",
        "      <td> Social networking site for academics/researchers </td>\n",
        "      <td> September 2008 </td>\n",
        "      <td>   211,000[4] </td>\n",
        "      <td>     Open </td>\n",
        "      <td>   1,995[5]</td>\n",
        "    </tr>\n",
        "    <tr>\n",
        "      <th>2</th>\n",
        "      <td>     About.me </td>\n",
        "      <td>                           Social networking site </td>\n",
        "      <td>   October 2009 </td>\n",
        "      <td> 5,000,000[6] </td>\n",
        "      <td>     Open </td>\n",
        "      <td>       1447</td>\n",
        "    </tr>\n",
        "    <tr>\n",
        "      <th>3</th>\n",
        "      <td>     Advogato </td>\n",
        "      <td>         Free and open source software developers </td>\n",
        "      <td>            1999</td>\n",
        "      <td>    13,575[7] </td>\n",
        "      <td>     Open </td>\n",
        "      <td> 292,620[8]</td>\n",
        "    </tr>\n",
        "    <tr>\n",
        "      <th>4</th>\n",
        "      <td>       aNobii </td>\n",
        "      <td>                                            Books </td>\n",
        "      <td>            2006</td>\n",
        "      <td>         Open </td>\n",
        "      <td> 26,939[9]</td>\n",
        "      <td>        NaN</td>\n",
        "    </tr>\n",
        "  </tbody>\n",
        "</table>\n",
        "<p>5 rows \u00d7 6 columns</p>\n",
        "</div>"
       ],
       "metadata": {},
       "output_type": "pyout",
       "prompt_number": 68,
       "text": [
        "            name                                        description  \\\n",
        "0     43 Things                       Goal setting and achievement    \n",
        "1  Academia.edu   Social networking site for academics/researchers    \n",
        "2      About.me                             Social networking site    \n",
        "3      Advogato           Free and open source software developers    \n",
        "4        aNobii                                              Books    \n",
        "\n",
        "             start          users Registration post responses and questions   \\\n",
        "0  1 January 2005   3,000,000[2]                                       Open    \n",
        "1  September 2008     211,000[4]                                       Open    \n",
        "2    October 2009   5,000,000[6]                                       Open    \n",
        "3             1999     13,575[7]                                       Open    \n",
        "4             2006          Open                                   26,939[9]   \n",
        "\n",
        "      Ranking  \n",
        "0   12,914[3]  \n",
        "1    1,995[5]  \n",
        "2        1447  \n",
        "3  292,620[8]  \n",
        "4         NaN  \n",
        "\n",
        "[5 rows x 6 columns]"
       ]
      }
     ],
     "prompt_number": 68
    },
    {
     "cell_type": "code",
     "collapsed": false,
     "input": [
      "socialmediaquery = '|'.join(socialmedia['name'].str.strip()).lower()\n",
      "print socialmediaquery"
     ],
     "language": "python",
     "metadata": {},
     "outputs": [
      {
       "output_type": "stream",
       "stream": "stdout",
       "text": [
        "43 things|academia.edu|about.me|advogato|anobii|asianavenue|asmallworld|athlinks|audimated.com|bebo|biip.no|blackplanet|blauk|blogster|bolt.com|busuu|buzznet|cafemom|care2|caringbridge|classmates.com|cloob|couchsurfing|cozycot|cross.tv|crunchyroll|cyworld|dailybooth|dailystrength|delicious|deviantart|diaspora*|didlr|disaboom|dol2day|dontstayin|draugiem.lv|douban|dxy.cn|elftown|elixio|english, baby!|epernicus|eons.com|etoro|experience project|exploroo|facebook|faceparty|faces.com|fetlife|filmaffinity|filmow|fledgewing|flixster|flickr|focus.com|formspring|fotki|fotolog|foursquare|friendica|friends reunited|friendster|fr\u00fchst\u00fcckstreff|fuelmyblog|fullcircle|gaia online|gamerdna|gapyear.com|gather.com|gays.com|geni.com|getglue|gogoyoko|goodreads|goodwizz|google+|govloop|grono.net|habbo|hi5|hospitality club|hotlist|hr.com|hub culture|hyves|ibibo|identi.ca|indaba music|instagram|irc-galleria|italki.com|itsmy|iwiw|jaiku|jiepang|kaixin001|kiwibox|lafango|laibhaari|last.fm|librarything|lifeknot|linkedin|linkexpats|listography|livejournal|livemocha|makeoutclub|meetin|meetup (website)|meettheboss|millatfacebook|mixi|mocospace|mog|mouthshut.com|mubi|myheritage|mylife|my opera|myspace|nasza-klasa.pl|netlog|nexopia|ngo post|ning|odnoklassniki|open diary|orkut|outeverywhere|patientslikeme|partyflock|pingsta|pinterest|plaxo|playfire|playlist.com|plurk|poolwo|qapacity|quechup|qzone|raptr|ravelry|renren|reverbnation.com|ryze|sciencestage|sgrouples|sharethemusic|shelfari|sina weibo|skoob|skyrock|socialvibe|sonico.com|soundcloud|spaces|stage 32|stickam|studivz|students circle network|stumbleupon|tagged|talkbiznow|taltopia|taringa!|teachstreet|termwiki|the sphere|travbuddy.com|travellerspoint|tribe.net|trombi.com|tuenti|tumblr|twitter|tylted|vkontakte|vampirefreaks.com|viadeo|virb|vox|wattpad|wayn|weeworld|we heart it|wellwer|weourfamily|wepolls.com|wer-kennt-wen|weread|wiser.org|wooxie|writeaprisoner.com|xanga|xing|xt3|yammer|yelp, inc.|zoo.gr|zooppa\n"
       ]
      }
     ],
     "prompt_number": 69
    },
    {
     "cell_type": "code",
     "collapsed": false,
     "input": [
      "socialmedia_df = construct_repo_df(socialmediaquery)"
     ],
     "language": "python",
     "metadata": {},
     "outputs": [
      {
       "output_type": "stream",
       "stream": "stdout",
       "text": [
        "starting bigquery ... \n",
        "\r",
        "Waiting on bqjob_r77e52c5e666f6065_00000145eff18d34_18 ... (0s) Current status: RUNNING"
       ]
      },
      {
       "output_type": "stream",
       "stream": "stdout",
       "text": [
        " \r",
        "Waiting on bqjob_r77e52c5e666f6065_00000145eff18d34_18 ... (1s) Current status: RUNNING "
       ]
      },
      {
       "output_type": "stream",
       "stream": "stdout",
       "text": [
        "\r",
        "Waiting on bqjob_r77e52c5e666f6065_00000145eff18d34_18 ... (3s) Current status: RUNNING "
       ]
      },
      {
       "output_type": "stream",
       "stream": "stdout",
       "text": [
        "\r",
        "Waiting on bqjob_r77e52c5e666f6065_00000145eff18d34_18 ... (4s) Current status: RUNNING "
       ]
      },
      {
       "output_type": "stream",
       "stream": "stdout",
       "text": [
        "\r",
        "Waiting on bqjob_r77e52c5e666f6065_00000145eff18d34_18 ... (6s) Current status: RUNNING "
       ]
      },
      {
       "output_type": "stream",
       "stream": "stdout",
       "text": [
        "\r",
        "Waiting on bqjob_r77e52c5e666f6065_00000145eff18d34_18 ... (8s) Current status: RUNNING "
       ]
      },
      {
       "output_type": "stream",
       "stream": "stdout",
       "text": [
        "\r",
        "Waiting on bqjob_r77e52c5e666f6065_00000145eff18d34_18 ... (10s) Current status: RUNNING "
       ]
      },
      {
       "output_type": "stream",
       "stream": "stdout",
       "text": [
        "\r",
        "Waiting on bqjob_r77e52c5e666f6065_00000145eff18d34_18 ... (12s) Current status: RUNNING "
       ]
      },
      {
       "output_type": "stream",
       "stream": "stdout",
       "text": [
        "\r",
        "Waiting on bqjob_r77e52c5e666f6065_00000145eff18d34_18 ... (14s) Current status: RUNNING "
       ]
      },
      {
       "output_type": "stream",
       "stream": "stdout",
       "text": [
        "\r",
        "Waiting on bqjob_r77e52c5e666f6065_00000145eff18d34_18 ... (15s) Current status: RUNNING "
       ]
      },
      {
       "output_type": "stream",
       "stream": "stdout",
       "text": [
        "\r",
        "Waiting on bqjob_r77e52c5e666f6065_00000145eff18d34_18 ... (18s) Current status: RUNNING "
       ]
      },
      {
       "output_type": "stream",
       "stream": "stdout",
       "text": [
        "\r",
        "Waiting on bqjob_r77e52c5e666f6065_00000145eff18d34_18 ... (19s) Current status: RUNNING "
       ]
      },
      {
       "output_type": "stream",
       "stream": "stdout",
       "text": [
        "\r",
        "Waiting on bqjob_r77e52c5e666f6065_00000145eff18d34_18 ... (20s) Current status: RUNNING "
       ]
      },
      {
       "output_type": "stream",
       "stream": "stdout",
       "text": [
        "\r",
        "Waiting on bqjob_r77e52c5e666f6065_00000145eff18d34_18 ... (21s) Current status: RUNNING "
       ]
      },
      {
       "output_type": "stream",
       "stream": "stdout",
       "text": [
        "\r",
        "Waiting on bqjob_r77e52c5e666f6065_00000145eff18d34_18 ... (22s) Current status: RUNNING "
       ]
      },
      {
       "output_type": "stream",
       "stream": "stdout",
       "text": [
        "\r",
        "Waiting on bqjob_r77e52c5e666f6065_00000145eff18d34_18 ... (23s) Current status: RUNNING "
       ]
      },
      {
       "output_type": "stream",
       "stream": "stdout",
       "text": [
        "\r",
        "Waiting on bqjob_r77e52c5e666f6065_00000145eff18d34_18 ... (24s) Current status: RUNNING "
       ]
      },
      {
       "output_type": "stream",
       "stream": "stdout",
       "text": [
        "\r",
        "Waiting on bqjob_r77e52c5e666f6065_00000145eff18d34_18 ... (25s) Current status: RUNNING "
       ]
      },
      {
       "output_type": "stream",
       "stream": "stdout",
       "text": [
        "\r",
        "Waiting on bqjob_r77e52c5e666f6065_00000145eff18d34_18 ... (26s) Current status: RUNNING "
       ]
      },
      {
       "output_type": "stream",
       "stream": "stdout",
       "text": [
        "\r",
        "Waiting on bqjob_r77e52c5e666f6065_00000145eff18d34_18 ... (27s) Current status: RUNNING "
       ]
      },
      {
       "output_type": "stream",
       "stream": "stdout",
       "text": [
        "\r",
        "Waiting on bqjob_r77e52c5e666f6065_00000145eff18d34_18 ... (28s) Current status: RUNNING "
       ]
      },
      {
       "output_type": "stream",
       "stream": "stdout",
       "text": [
        "\r",
        "Waiting on bqjob_r77e52c5e666f6065_00000145eff18d34_18 ... (29s) Current status: RUNNING "
       ]
      },
      {
       "output_type": "stream",
       "stream": "stdout",
       "text": [
        "\r",
        "Waiting on bqjob_r77e52c5e666f6065_00000145eff18d34_18 ... (30s) Current status: RUNNING "
       ]
      },
      {
       "output_type": "stream",
       "stream": "stdout",
       "text": [
        "\r",
        "Waiting on bqjob_r77e52c5e666f6065_00000145eff18d34_18 ... (31s) Current status: RUNNING "
       ]
      },
      {
       "output_type": "stream",
       "stream": "stdout",
       "text": [
        "\r",
        "Waiting on bqjob_r77e52c5e666f6065_00000145eff18d34_18 ... (32s) Current status: RUNNING "
       ]
      },
      {
       "output_type": "stream",
       "stream": "stdout",
       "text": [
        "\r",
        "Waiting on bqjob_r77e52c5e666f6065_00000145eff18d34_18 ... (33s) Current status: RUNNING "
       ]
      },
      {
       "output_type": "stream",
       "stream": "stdout",
       "text": [
        "\r",
        "Waiting on bqjob_r77e52c5e666f6065_00000145eff18d34_18 ... (34s) Current status: RUNNING "
       ]
      },
      {
       "output_type": "stream",
       "stream": "stdout",
       "text": [
        "\r",
        "Waiting on bqjob_r77e52c5e666f6065_00000145eff18d34_18 ... (35s) Current status: RUNNING "
       ]
      },
      {
       "output_type": "stream",
       "stream": "stdout",
       "text": [
        "\r",
        "Waiting on bqjob_r77e52c5e666f6065_00000145eff18d34_18 ... (36s) Current status: RUNNING "
       ]
      },
      {
       "output_type": "stream",
       "stream": "stdout",
       "text": [
        "\r",
        "Waiting on bqjob_r77e52c5e666f6065_00000145eff18d34_18 ... (37s) Current status: RUNNING "
       ]
      },
      {
       "output_type": "stream",
       "stream": "stdout",
       "text": [
        "\r",
        "Waiting on bqjob_r77e52c5e666f6065_00000145eff18d34_18 ... (38s) Current status: RUNNING "
       ]
      },
      {
       "output_type": "stream",
       "stream": "stdout",
       "text": [
        "\r",
        "Waiting on bqjob_r77e52c5e666f6065_00000145eff18d34_18 ... (39s) Current status: RUNNING "
       ]
      },
      {
       "output_type": "stream",
       "stream": "stdout",
       "text": [
        "\r",
        "Waiting on bqjob_r77e52c5e666f6065_00000145eff18d34_18 ... (40s) Current status: RUNNING "
       ]
      },
      {
       "output_type": "stream",
       "stream": "stdout",
       "text": [
        "\r",
        "Waiting on bqjob_r77e52c5e666f6065_00000145eff18d34_18 ... (41s) Current status: RUNNING "
       ]
      },
      {
       "output_type": "stream",
       "stream": "stdout",
       "text": [
        "\r",
        "Waiting on bqjob_r77e52c5e666f6065_00000145eff18d34_18 ... (43s) Current status: RUNNING "
       ]
      },
      {
       "output_type": "stream",
       "stream": "stdout",
       "text": [
        "\r",
        "Waiting on bqjob_r77e52c5e666f6065_00000145eff18d34_18 ... (44s) Current status: RUNNING "
       ]
      },
      {
       "output_type": "stream",
       "stream": "stdout",
       "text": [
        "\r",
        "Waiting on bqjob_r77e52c5e666f6065_00000145eff18d34_18 ... (45s) Current status: RUNNING "
       ]
      },
      {
       "output_type": "stream",
       "stream": "stdout",
       "text": [
        "\r",
        "Waiting on bqjob_r77e52c5e666f6065_00000145eff18d34_18 ... (46s) Current status: RUNNING "
       ]
      },
      {
       "output_type": "stream",
       "stream": "stdout",
       "text": [
        "\r",
        "Waiting on bqjob_r77e52c5e666f6065_00000145eff18d34_18 ... (47s) Current status: RUNNING "
       ]
      },
      {
       "output_type": "stream",
       "stream": "stdout",
       "text": [
        "\r",
        "Waiting on bqjob_r77e52c5e666f6065_00000145eff18d34_18 ... (48s) Current status: RUNNING "
       ]
      },
      {
       "output_type": "stream",
       "stream": "stdout",
       "text": [
        "\r",
        "Waiting on bqjob_r77e52c5e666f6065_00000145eff18d34_18 ... (49s) Current status: RUNNING "
       ]
      },
      {
       "output_type": "stream",
       "stream": "stdout",
       "text": [
        "\r",
        "Waiting on bqjob_r77e52c5e666f6065_00000145eff18d34_18 ... (50s) Current status: RUNNING "
       ]
      },
      {
       "output_type": "stream",
       "stream": "stdout",
       "text": [
        "\r",
        "Waiting on bqjob_r77e52c5e666f6065_00000145eff18d34_18 ... (51s) Current status: RUNNING "
       ]
      },
      {
       "output_type": "stream",
       "stream": "stdout",
       "text": [
        "\r",
        "Waiting on bqjob_r77e52c5e666f6065_00000145eff18d34_18 ... (52s) Current status: RUNNING "
       ]
      },
      {
       "output_type": "stream",
       "stream": "stdout",
       "text": [
        "\r",
        "Waiting on bqjob_r77e52c5e666f6065_00000145eff18d34_18 ... (53s) Current status: RUNNING "
       ]
      },
      {
       "output_type": "stream",
       "stream": "stdout",
       "text": [
        "\r",
        "Waiting on bqjob_r77e52c5e666f6065_00000145eff18d34_18 ... (54s) Current status: RUNNING "
       ]
      },
      {
       "output_type": "stream",
       "stream": "stdout",
       "text": [
        "\r",
        "Waiting on bqjob_r77e52c5e666f6065_00000145eff18d34_18 ... (55s) Current status: RUNNING "
       ]
      },
      {
       "output_type": "stream",
       "stream": "stdout",
       "text": [
        "\r",
        "Waiting on bqjob_r77e52c5e666f6065_00000145eff18d34_18 ... (56s) Current status: RUNNING "
       ]
      },
      {
       "output_type": "stream",
       "stream": "stdout",
       "text": [
        "\r",
        "Waiting on bqjob_r77e52c5e666f6065_00000145eff18d34_18 ... (57s) Current status: RUNNING "
       ]
      },
      {
       "output_type": "stream",
       "stream": "stdout",
       "text": [
        "\r",
        "Waiting on bqjob_r77e52c5e666f6065_00000145eff18d34_18 ... (58s) Current status: RUNNING "
       ]
      },
      {
       "output_type": "stream",
       "stream": "stdout",
       "text": [
        "\r",
        "Waiting on bqjob_r77e52c5e666f6065_00000145eff18d34_18 ... (59s) Current status: RUNNING "
       ]
      },
      {
       "output_type": "stream",
       "stream": "stdout",
       "text": [
        "\r",
        "Waiting on bqjob_r77e52c5e666f6065_00000145eff18d34_18 ... (60s) Current status: RUNNING "
       ]
      },
      {
       "output_type": "stream",
       "stream": "stdout",
       "text": [
        "\r",
        "Waiting on bqjob_r77e52c5e666f6065_00000145eff18d34_18 ... (61s) Current status: RUNNING "
       ]
      },
      {
       "output_type": "stream",
       "stream": "stdout",
       "text": [
        "\r",
        "Waiting on bqjob_r77e52c5e666f6065_00000145eff18d34_18 ... (62s) Current status: RUNNING "
       ]
      },
      {
       "output_type": "stream",
       "stream": "stdout",
       "text": [
        "\r",
        "Waiting on bqjob_r77e52c5e666f6065_00000145eff18d34_18 ... (63s) Current status: RUNNING "
       ]
      },
      {
       "output_type": "stream",
       "stream": "stdout",
       "text": [
        "\r",
        "Waiting on bqjob_r77e52c5e666f6065_00000145eff18d34_18 ... (64s) Current status: RUNNING "
       ]
      },
      {
       "output_type": "stream",
       "stream": "stdout",
       "text": [
        "\r",
        "Waiting on bqjob_r77e52c5e666f6065_00000145eff18d34_18 ... (65s) Current status: RUNNING "
       ]
      },
      {
       "output_type": "stream",
       "stream": "stdout",
       "text": [
        "\r",
        "Waiting on bqjob_r77e52c5e666f6065_00000145eff18d34_18 ... (66s) Current status: RUNNING "
       ]
      },
      {
       "output_type": "stream",
       "stream": "stdout",
       "text": [
        "\r",
        "Waiting on bqjob_r77e52c5e666f6065_00000145eff18d34_18 ... (67s) Current status: RUNNING "
       ]
      },
      {
       "output_type": "stream",
       "stream": "stdout",
       "text": [
        "\r",
        "Waiting on bqjob_r77e52c5e666f6065_00000145eff18d34_18 ... (68s) Current status: RUNNING "
       ]
      },
      {
       "output_type": "stream",
       "stream": "stdout",
       "text": [
        "\r",
        "Waiting on bqjob_r77e52c5e666f6065_00000145eff18d34_18 ... (69s) Current status: RUNNING "
       ]
      },
      {
       "output_type": "stream",
       "stream": "stdout",
       "text": [
        "\r",
        "Waiting on bqjob_r77e52c5e666f6065_00000145eff18d34_18 ... (70s) Current status: RUNNING "
       ]
      },
      {
       "output_type": "stream",
       "stream": "stdout",
       "text": [
        "\r",
        "Waiting on bqjob_r77e52c5e666f6065_00000145eff18d34_18 ... (71s) Current status: RUNNING "
       ]
      },
      {
       "output_type": "stream",
       "stream": "stdout",
       "text": [
        "\r",
        "Waiting on bqjob_r77e52c5e666f6065_00000145eff18d34_18 ... (72s) Current status: RUNNING "
       ]
      },
      {
       "output_type": "stream",
       "stream": "stdout",
       "text": [
        "\r",
        "Waiting on bqjob_r77e52c5e666f6065_00000145eff18d34_18 ... (73s) Current status: RUNNING "
       ]
      },
      {
       "output_type": "stream",
       "stream": "stdout",
       "text": [
        "\r",
        "Waiting on bqjob_r77e52c5e666f6065_00000145eff18d34_18 ... (74s) Current status: RUNNING "
       ]
      },
      {
       "output_type": "stream",
       "stream": "stdout",
       "text": [
        "\r",
        "Waiting on bqjob_r77e52c5e666f6065_00000145eff18d34_18 ... (75s) Current status: RUNNING "
       ]
      },
      {
       "output_type": "stream",
       "stream": "stdout",
       "text": [
        "\r",
        "Waiting on bqjob_r77e52c5e666f6065_00000145eff18d34_18 ... (76s) Current status: RUNNING "
       ]
      },
      {
       "output_type": "stream",
       "stream": "stdout",
       "text": [
        "\r",
        "Waiting on bqjob_r77e52c5e666f6065_00000145eff18d34_18 ... (77s) Current status: RUNNING "
       ]
      },
      {
       "output_type": "stream",
       "stream": "stdout",
       "text": [
        "\r",
        "Waiting on bqjob_r77e52c5e666f6065_00000145eff18d34_18 ... (78s) Current status: RUNNING "
       ]
      },
      {
       "output_type": "stream",
       "stream": "stdout",
       "text": [
        "\r",
        "Waiting on bqjob_r77e52c5e666f6065_00000145eff18d34_18 ... (79s) Current status: RUNNING "
       ]
      },
      {
       "output_type": "stream",
       "stream": "stdout",
       "text": [
        "\r",
        "Waiting on bqjob_r77e52c5e666f6065_00000145eff18d34_18 ... (80s) Current status: RUNNING "
       ]
      },
      {
       "output_type": "stream",
       "stream": "stdout",
       "text": [
        "\r",
        "Waiting on bqjob_r77e52c5e666f6065_00000145eff18d34_18 ... (81s) Current status: RUNNING "
       ]
      },
      {
       "output_type": "stream",
       "stream": "stdout",
       "text": [
        "\r",
        "Waiting on bqjob_r77e52c5e666f6065_00000145eff18d34_18 ... (82s) Current status: RUNNING "
       ]
      },
      {
       "output_type": "stream",
       "stream": "stdout",
       "text": [
        "\r",
        "Waiting on bqjob_r77e52c5e666f6065_00000145eff18d34_18 ... (83s) Current status: RUNNING "
       ]
      },
      {
       "output_type": "stream",
       "stream": "stdout",
       "text": [
        "\r",
        "Waiting on bqjob_r77e52c5e666f6065_00000145eff18d34_18 ... (84s) Current status: RUNNING "
       ]
      },
      {
       "output_type": "stream",
       "stream": "stdout",
       "text": [
        "\r",
        "Waiting on bqjob_r77e52c5e666f6065_00000145eff18d34_18 ... (85s) Current status: RUNNING "
       ]
      },
      {
       "output_type": "stream",
       "stream": "stdout",
       "text": [
        "\r",
        "Waiting on bqjob_r77e52c5e666f6065_00000145eff18d34_18 ... (86s) Current status: RUNNING "
       ]
      },
      {
       "output_type": "stream",
       "stream": "stdout",
       "text": [
        "\r",
        "Waiting on bqjob_r77e52c5e666f6065_00000145eff18d34_18 ... (87s) Current status: RUNNING "
       ]
      },
      {
       "output_type": "stream",
       "stream": "stdout",
       "text": [
        "\r",
        "Waiting on bqjob_r77e52c5e666f6065_00000145eff18d34_18 ... (88s) Current status: RUNNING "
       ]
      },
      {
       "output_type": "stream",
       "stream": "stdout",
       "text": [
        "\r",
        "Waiting on bqjob_r77e52c5e666f6065_00000145eff18d34_18 ... (89s) Current status: RUNNING "
       ]
      },
      {
       "output_type": "stream",
       "stream": "stdout",
       "text": [
        "\r",
        "Waiting on bqjob_r77e52c5e666f6065_00000145eff18d34_18 ... (90s) Current status: RUNNING "
       ]
      },
      {
       "output_type": "stream",
       "stream": "stdout",
       "text": [
        "\r",
        "Waiting on bqjob_r77e52c5e666f6065_00000145eff18d34_18 ... (91s) Current status: RUNNING "
       ]
      },
      {
       "output_type": "stream",
       "stream": "stdout",
       "text": [
        "\r",
        "Waiting on bqjob_r77e52c5e666f6065_00000145eff18d34_18 ... (92s) Current status: RUNNING "
       ]
      },
      {
       "output_type": "stream",
       "stream": "stdout",
       "text": [
        "\r",
        "Waiting on bqjob_r77e52c5e666f6065_00000145eff18d34_18 ... (93s) Current status: RUNNING "
       ]
      },
      {
       "output_type": "stream",
       "stream": "stdout",
       "text": [
        "\r",
        "Waiting on bqjob_r77e52c5e666f6065_00000145eff18d34_18 ... (96s) Current status: RUNNING "
       ]
      },
      {
       "output_type": "stream",
       "stream": "stdout",
       "text": [
        "\r",
        "Waiting on bqjob_r77e52c5e666f6065_00000145eff18d34_18 ... (97s) Current status: RUNNING "
       ]
      },
      {
       "output_type": "stream",
       "stream": "stdout",
       "text": [
        "\r",
        "Waiting on bqjob_r77e52c5e666f6065_00000145eff18d34_18 ... (98s) Current status: RUNNING "
       ]
      },
      {
       "output_type": "stream",
       "stream": "stdout",
       "text": [
        "\r",
        "Waiting on bqjob_r77e52c5e666f6065_00000145eff18d34_18 ... (99s) Current status: RUNNING "
       ]
      },
      {
       "output_type": "stream",
       "stream": "stdout",
       "text": [
        "\r",
        "Waiting on bqjob_r77e52c5e666f6065_00000145eff18d34_18 ... (100s) Current status: RUNNING "
       ]
      },
      {
       "output_type": "stream",
       "stream": "stdout",
       "text": [
        "\r",
        "Waiting on bqjob_r77e52c5e666f6065_00000145eff18d34_18 ... (101s) Current status: RUNNING "
       ]
      },
      {
       "output_type": "stream",
       "stream": "stdout",
       "text": [
        "\r",
        "Waiting on bqjob_r77e52c5e666f6065_00000145eff18d34_18 ... (102s) Current status: RUNNING "
       ]
      },
      {
       "output_type": "stream",
       "stream": "stdout",
       "text": [
        "\r",
        "Waiting on bqjob_r77e52c5e666f6065_00000145eff18d34_18 ... (103s) Current status: RUNNING "
       ]
      },
      {
       "output_type": "stream",
       "stream": "stdout",
       "text": [
        "\r",
        "Waiting on bqjob_r77e52c5e666f6065_00000145eff18d34_18 ... (104s) Current status: RUNNING "
       ]
      },
      {
       "output_type": "stream",
       "stream": "stdout",
       "text": [
        "\r",
        "Waiting on bqjob_r77e52c5e666f6065_00000145eff18d34_18 ... (105s) Current status: RUNNING "
       ]
      },
      {
       "output_type": "stream",
       "stream": "stdout",
       "text": [
        "\r",
        "Waiting on bqjob_r77e52c5e666f6065_00000145eff18d34_18 ... (106s) Current status: RUNNING "
       ]
      },
      {
       "output_type": "stream",
       "stream": "stdout",
       "text": [
        "\r",
        "Waiting on bqjob_r77e52c5e666f6065_00000145eff18d34_18 ... (107s) Current status: RUNNING "
       ]
      },
      {
       "output_type": "stream",
       "stream": "stdout",
       "text": [
        "\r",
        "Waiting on bqjob_r77e52c5e666f6065_00000145eff18d34_18 ... (108s) Current status: RUNNING "
       ]
      },
      {
       "output_type": "stream",
       "stream": "stdout",
       "text": [
        "\r",
        "Waiting on bqjob_r77e52c5e666f6065_00000145eff18d34_18 ... (109s) Current status: RUNNING "
       ]
      },
      {
       "output_type": "stream",
       "stream": "stdout",
       "text": [
        "\r",
        "Waiting on bqjob_r77e52c5e666f6065_00000145eff18d34_18 ... (110s) Current status: RUNNING "
       ]
      },
      {
       "output_type": "stream",
       "stream": "stdout",
       "text": [
        "\r",
        "Waiting on bqjob_r77e52c5e666f6065_00000145eff18d34_18 ... (111s) Current status: RUNNING "
       ]
      },
      {
       "output_type": "stream",
       "stream": "stdout",
       "text": [
        "\r",
        "Waiting on bqjob_r77e52c5e666f6065_00000145eff18d34_18 ... (112s) Current status: RUNNING "
       ]
      },
      {
       "output_type": "stream",
       "stream": "stdout",
       "text": [
        "\r",
        "Waiting on bqjob_r77e52c5e666f6065_00000145eff18d34_18 ... (113s) Current status: RUNNING "
       ]
      },
      {
       "output_type": "stream",
       "stream": "stdout",
       "text": [
        "\r",
        "Waiting on bqjob_r77e52c5e666f6065_00000145eff18d34_18 ... (114s) Current status: RUNNING "
       ]
      },
      {
       "output_type": "stream",
       "stream": "stdout",
       "text": [
        "\r",
        "Waiting on bqjob_r77e52c5e666f6065_00000145eff18d34_18 ... (115s) Current status: RUNNING "
       ]
      },
      {
       "output_type": "stream",
       "stream": "stdout",
       "text": [
        "\r",
        "Waiting on bqjob_r77e52c5e666f6065_00000145eff18d34_18 ... (116s) Current status: RUNNING "
       ]
      },
      {
       "output_type": "stream",
       "stream": "stdout",
       "text": [
        "\r",
        "Waiting on bqjob_r77e52c5e666f6065_00000145eff18d34_18 ... (117s) Current status: RUNNING "
       ]
      },
      {
       "output_type": "stream",
       "stream": "stdout",
       "text": [
        "\r",
        "Waiting on bqjob_r77e52c5e666f6065_00000145eff18d34_18 ... (118s) Current status: RUNNING "
       ]
      },
      {
       "output_type": "stream",
       "stream": "stdout",
       "text": [
        "\r",
        "Waiting on bqjob_r77e52c5e666f6065_00000145eff18d34_18 ... (118s) Current status: DONE   \n",
        "(333301, 3)"
       ]
      },
      {
       "output_type": "stream",
       "stream": "stdout",
       "text": [
        "\n"
       ]
      }
     ],
     "prompt_number": 71
    },
    {
     "cell_type": "code",
     "collapsed": false,
     "input": [
      "socialmedia_df2 = construct_repo_df(socialmediaquery, description=False)"
     ],
     "language": "python",
     "metadata": {},
     "outputs": []
    },
    {
     "cell_type": "markdown",
     "metadata": {},
     "source": [
      "Almost 0.35M repositories here. Is that mostly noise?"
     ]
    },
    {
     "cell_type": "code",
     "collapsed": false,
     "input": [
      "socialmedia_df.head(30)"
     ],
     "language": "python",
     "metadata": {},
     "outputs": [
      {
       "html": [
        "<div style=\"max-height:1000px;max-width:1500px;overflow:auto;\">\n",
        "<table border=\"1\" class=\"dataframe\">\n",
        "  <thead>\n",
        "    <tr style=\"text-align: right;\">\n",
        "      <th></th>\n",
        "      <th>name</th>\n",
        "      <th>full_name</th>\n",
        "      <th>fork</th>\n",
        "    </tr>\n",
        "  </thead>\n",
        "  <tbody>\n",
        "    <tr>\n",
        "      <th>0 </th>\n",
        "      <td>                 coursera_ml</td>\n",
        "      <td>                  MoonighT/coursera_ml</td>\n",
        "      <td> 0</td>\n",
        "    </tr>\n",
        "    <tr>\n",
        "      <th>1 </th>\n",
        "      <td>                   SlickGrid</td>\n",
        "      <td>                   yelinaung/SlickGrid</td>\n",
        "      <td> 1</td>\n",
        "    </tr>\n",
        "    <tr>\n",
        "      <th>2 </th>\n",
        "      <td>            moocfi-analytics</td>\n",
        "      <td>               matnel/moocfi-analytics</td>\n",
        "      <td> 0</td>\n",
        "    </tr>\n",
        "    <tr>\n",
        "      <th>3 </th>\n",
        "      <td>          Python_Hypersonics</td>\n",
        "      <td>        AaronPhalen/Python_Hypersonics</td>\n",
        "      <td> 0</td>\n",
        "    </tr>\n",
        "    <tr>\n",
        "      <th>4 </th>\n",
        "      <td>                     lineman</td>\n",
        "      <td>                      cadre-io/lineman</td>\n",
        "      <td> 1</td>\n",
        "    </tr>\n",
        "    <tr>\n",
        "      <th>5 </th>\n",
        "      <td>         flaming-octo-wookie</td>\n",
        "      <td>           ChingTi/flaming-octo-wookie</td>\n",
        "      <td> 0</td>\n",
        "    </tr>\n",
        "    <tr>\n",
        "      <th>6 </th>\n",
        "      <td>            ZXing.Net.Mobile</td>\n",
        "      <td>         JerryLee7809/ZXing.Net.Mobile</td>\n",
        "      <td> 1</td>\n",
        "    </tr>\n",
        "    <tr>\n",
        "      <th>7 </th>\n",
        "      <td>                twitteroauth</td>\n",
        "      <td>            mathijsvdhurk/twitteroauth</td>\n",
        "      <td> 1</td>\n",
        "    </tr>\n",
        "    <tr>\n",
        "      <th>8 </th>\n",
        "      <td>                          _s</td>\n",
        "      <td>                     colegeissinger/_s</td>\n",
        "      <td> 1</td>\n",
        "    </tr>\n",
        "    <tr>\n",
        "      <th>9 </th>\n",
        "      <td>                     pythong</td>\n",
        "      <td>                          modu/pythong</td>\n",
        "      <td> 0</td>\n",
        "    </tr>\n",
        "    <tr>\n",
        "      <th>10</th>\n",
        "      <td>  Recipes-for-Mining-Twitter</td>\n",
        "      <td>   winnerdy/Recipes-for-Mining-Twitter</td>\n",
        "      <td> 1</td>\n",
        "    </tr>\n",
        "    <tr>\n",
        "      <th>11</th>\n",
        "      <td>                     smgpapi</td>\n",
        "      <td>                       7nights/smgpapi</td>\n",
        "      <td> 0</td>\n",
        "    </tr>\n",
        "    <tr>\n",
        "      <th>12</th>\n",
        "      <td>                     teambox</td>\n",
        "      <td>                   manxingxing/teambox</td>\n",
        "      <td> 1</td>\n",
        "    </tr>\n",
        "    <tr>\n",
        "      <th>13</th>\n",
        "      <td>               ngx_openresty</td>\n",
        "      <td>                edisonlz/ngx_openresty</td>\n",
        "      <td> 1</td>\n",
        "    </tr>\n",
        "    <tr>\n",
        "      <th>14</th>\n",
        "      <td>                    facebook</td>\n",
        "      <td>              harjeetsingh111/facebook</td>\n",
        "      <td> 0</td>\n",
        "    </tr>\n",
        "    <tr>\n",
        "      <th>15</th>\n",
        "      <td>                    fraction</td>\n",
        "      <td>                     hijarian/fraction</td>\n",
        "      <td> 0</td>\n",
        "    </tr>\n",
        "    <tr>\n",
        "      <th>16</th>\n",
        "      <td>                       boxen</td>\n",
        "      <td>                     bryanwillis/boxen</td>\n",
        "      <td> 0</td>\n",
        "    </tr>\n",
        "    <tr>\n",
        "      <th>17</th>\n",
        "      <td>            RBStoryboardLink</td>\n",
        "      <td>             sedonaFR/RBStoryboardLink</td>\n",
        "      <td> 1</td>\n",
        "    </tr>\n",
        "    <tr>\n",
        "      <th>18</th>\n",
        "      <td>                rails-server</td>\n",
        "      <td>                 kaspernj/rails-server</td>\n",
        "      <td> 0</td>\n",
        "    </tr>\n",
        "    <tr>\n",
        "      <th>19</th>\n",
        "      <td>  symphony-learning-download</td>\n",
        "      <td> teradotact/symphony-learning-download</td>\n",
        "      <td> 0</td>\n",
        "    </tr>\n",
        "    <tr>\n",
        "      <th>20</th>\n",
        "      <td>         semantic_extraction</td>\n",
        "      <td>          Big-Data/semantic_extraction</td>\n",
        "      <td> 1</td>\n",
        "    </tr>\n",
        "    <tr>\n",
        "      <th>21</th>\n",
        "      <td>         semantic_extraction</td>\n",
        "      <td>          scraping/semantic_extraction</td>\n",
        "      <td> 1</td>\n",
        "    </tr>\n",
        "    <tr>\n",
        "      <th>22</th>\n",
        "      <td>         semantic_extraction</td>\n",
        "      <td>     BigData-Tools/semantic_extraction</td>\n",
        "      <td> 1</td>\n",
        "    </tr>\n",
        "    <tr>\n",
        "      <th>23</th>\n",
        "      <td>                        roll</td>\n",
        "      <td>                        hcaigroup/roll</td>\n",
        "      <td> 0</td>\n",
        "    </tr>\n",
        "    <tr>\n",
        "      <th>24</th>\n",
        "      <td> underscore-template-helpers</td>\n",
        "      <td>   patrixd/underscore-template-helpers</td>\n",
        "      <td> 1</td>\n",
        "    </tr>\n",
        "    <tr>\n",
        "      <th>25</th>\n",
        "      <td>        bootstrap-datepicker</td>\n",
        "      <td>      bensanssous/bootstrap-datepicker</td>\n",
        "      <td> 1</td>\n",
        "    </tr>\n",
        "    <tr>\n",
        "      <th>26</th>\n",
        "      <td>        facebook-android-sdk</td>\n",
        "      <td>            slott/facebook-android-sdk</td>\n",
        "      <td> 1</td>\n",
        "    </tr>\n",
        "    <tr>\n",
        "      <th>27</th>\n",
        "      <td>        facebook-android-sdk</td>\n",
        "      <td>        derfshaya/facebook-android-sdk</td>\n",
        "      <td> 1</td>\n",
        "    </tr>\n",
        "    <tr>\n",
        "      <th>28</th>\n",
        "      <td>                 iOSTraining</td>\n",
        "      <td>                 tokyoaret/iOSTraining</td>\n",
        "      <td> 1</td>\n",
        "    </tr>\n",
        "    <tr>\n",
        "      <th>29</th>\n",
        "      <td>         angular-google-maps</td>\n",
        "      <td>             adato/angular-google-maps</td>\n",
        "      <td> 1</td>\n",
        "    </tr>\n",
        "  </tbody>\n",
        "</table>\n",
        "<p>30 rows \u00d7 3 columns</p>\n",
        "</div>"
       ],
       "metadata": {},
       "output_type": "pyout",
       "prompt_number": 288,
       "text": [
        "                           name                              full_name  fork\n",
        "0                   coursera_ml                   MoonighT/coursera_ml     0\n",
        "1                     SlickGrid                    yelinaung/SlickGrid     1\n",
        "2              moocfi-analytics                matnel/moocfi-analytics     0\n",
        "3            Python_Hypersonics         AaronPhalen/Python_Hypersonics     0\n",
        "4                       lineman                       cadre-io/lineman     1\n",
        "5           flaming-octo-wookie            ChingTi/flaming-octo-wookie     0\n",
        "6              ZXing.Net.Mobile          JerryLee7809/ZXing.Net.Mobile     1\n",
        "7                  twitteroauth             mathijsvdhurk/twitteroauth     1\n",
        "8                            _s                      colegeissinger/_s     1\n",
        "9                       pythong                           modu/pythong     0\n",
        "10   Recipes-for-Mining-Twitter    winnerdy/Recipes-for-Mining-Twitter     1\n",
        "11                      smgpapi                        7nights/smgpapi     0\n",
        "12                      teambox                    manxingxing/teambox     1\n",
        "13                ngx_openresty                 edisonlz/ngx_openresty     1\n",
        "14                     facebook               harjeetsingh111/facebook     0\n",
        "15                     fraction                      hijarian/fraction     0\n",
        "16                        boxen                      bryanwillis/boxen     0\n",
        "17             RBStoryboardLink              sedonaFR/RBStoryboardLink     1\n",
        "18                 rails-server                  kaspernj/rails-server     0\n",
        "19   symphony-learning-download  teradotact/symphony-learning-download     0\n",
        "20          semantic_extraction           Big-Data/semantic_extraction     1\n",
        "21          semantic_extraction           scraping/semantic_extraction     1\n",
        "22          semantic_extraction      BigData-Tools/semantic_extraction     1\n",
        "23                         roll                         hcaigroup/roll     0\n",
        "24  underscore-template-helpers    patrixd/underscore-template-helpers     1\n",
        "25         bootstrap-datepicker       bensanssous/bootstrap-datepicker     1\n",
        "26         facebook-android-sdk             slott/facebook-android-sdk     1\n",
        "27         facebook-android-sdk         derfshaya/facebook-android-sdk     1\n",
        "28                  iOSTraining                  tokyoaret/iOSTraining     1\n",
        "29          angular-google-maps              adato/angular-google-maps     1\n",
        "\n",
        "[30 rows x 3 columns]"
       ]
      }
     ],
     "prompt_number": 288
    },
    {
     "cell_type": "markdown",
     "metadata": {},
     "source": [
      "## Internet and communication protocols\n",
      "\n",
      "Again, these are so numerous when you take into account all the different ways computers talk to each other, and these protocols themselves could be a kind of map"
     ]
    },
    {
     "cell_type": "code",
     "collapsed": false,
     "input": [
      "iplist  = pd.read_csv('internet_protocols.csv', header=None, names = ['name'])\n",
      "iplist.shape"
     ],
     "language": "python",
     "metadata": {},
     "outputs": [
      {
       "metadata": {},
       "output_type": "pyout",
       "prompt_number": 62,
       "text": [
        "(17, 1)"
       ]
      }
     ],
     "prompt_number": 62
    },
    {
     "cell_type": "code",
     "collapsed": false,
     "input": [
      "ipquery = '|'.join(iplist['name'].str.strip()).lower()\n",
      "print ipquery"
     ],
     "language": "python",
     "metadata": {},
     "outputs": [
      {
       "output_type": "stream",
       "stream": "stdout",
       "text": [
        "bluetooth|rtps|ssh|ftp|smtp|telnet|http|https|sftp|ssl|tls|pop|ntp|ppp|nntp|imap|wifi\n"
       ]
      }
     ],
     "prompt_number": 63
    },
    {
     "cell_type": "code",
     "collapsed": false,
     "input": [
      "ip_df = construct_repo_df(ipquery)"
     ],
     "language": "python",
     "metadata": {},
     "outputs": [
      {
       "output_type": "stream",
       "stream": "stdout",
       "text": [
        "starting bigquery ... \n",
        "\r",
        "Waiting on bqjob_r47c749dac00711ec_00000145efeb19eb_16 ... (0s) Current status: RUNNING"
       ]
      },
      {
       "output_type": "stream",
       "stream": "stdout",
       "text": [
        " \r",
        "Waiting on bqjob_r47c749dac00711ec_00000145efeb19eb_16 ... (1s) Current status: RUNNING "
       ]
      },
      {
       "output_type": "stream",
       "stream": "stdout",
       "text": [
        "\r",
        "Waiting on bqjob_r47c749dac00711ec_00000145efeb19eb_16 ... (3s) Current status: RUNNING "
       ]
      },
      {
       "output_type": "stream",
       "stream": "stdout",
       "text": [
        "\r",
        "Waiting on bqjob_r47c749dac00711ec_00000145efeb19eb_16 ... (4s) Current status: RUNNING "
       ]
      },
      {
       "output_type": "stream",
       "stream": "stdout",
       "text": [
        "\r",
        "Waiting on bqjob_r47c749dac00711ec_00000145efeb19eb_16 ... (4s) Current status: DONE   \n",
        "(229187, 3)"
       ]
      },
      {
       "output_type": "stream",
       "stream": "stdout",
       "text": [
        "\n"
       ]
      }
     ],
     "prompt_number": 65
    },
    {
     "cell_type": "code",
     "collapsed": false,
     "input": [
      "ip_df.head(10)"
     ],
     "language": "python",
     "metadata": {},
     "outputs": [
      {
       "html": [
        "<div style=\"max-height:1000px;max-width:1500px;overflow:auto;\">\n",
        "<table border=\"1\" class=\"dataframe\">\n",
        "  <thead>\n",
        "    <tr style=\"text-align: right;\">\n",
        "      <th></th>\n",
        "      <th>name</th>\n",
        "      <th>full_name</th>\n",
        "      <th>fork</th>\n",
        "    </tr>\n",
        "  </thead>\n",
        "  <tbody>\n",
        "    <tr>\n",
        "      <th>0</th>\n",
        "      <td>              JZSwipeCell</td>\n",
        "      <td>                ios4u/JZSwipeCell</td>\n",
        "      <td> 1</td>\n",
        "    </tr>\n",
        "    <tr>\n",
        "      <th>1</th>\n",
        "      <td>     tieu-de-bai-viet-moi</td>\n",
        "      <td> kickauthor1/tieu-de-bai-viet-moi</td>\n",
        "      <td> 0</td>\n",
        "    </tr>\n",
        "    <tr>\n",
        "      <th>2</th>\n",
        "      <td>      flaming-octo-wookie</td>\n",
        "      <td>      ChingTi/flaming-octo-wookie</td>\n",
        "      <td> 0</td>\n",
        "    </tr>\n",
        "    <tr>\n",
        "      <th>3</th>\n",
        "      <td>                   jersey</td>\n",
        "      <td>                mengql1987/jersey</td>\n",
        "      <td> 1</td>\n",
        "    </tr>\n",
        "    <tr>\n",
        "      <th>4</th>\n",
        "      <td>             MoreTextView</td>\n",
        "      <td>        silvio-icona/MoreTextView</td>\n",
        "      <td> 0</td>\n",
        "    </tr>\n",
        "    <tr>\n",
        "      <th>5</th>\n",
        "      <td> elasticsearch-http-basic</td>\n",
        "      <td>   hagun/elasticsearch-http-basic</td>\n",
        "      <td> 1</td>\n",
        "    </tr>\n",
        "    <tr>\n",
        "      <th>6</th>\n",
        "      <td>                 magento2</td>\n",
        "      <td>                  soncao/magento2</td>\n",
        "      <td> 1</td>\n",
        "    </tr>\n",
        "    <tr>\n",
        "      <th>7</th>\n",
        "      <td>        puppet-module-ssh</td>\n",
        "      <td>  kentjohansson/puppet-module-ssh</td>\n",
        "      <td> 1</td>\n",
        "    </tr>\n",
        "    <tr>\n",
        "      <th>8</th>\n",
        "      <td>          SVPullToRefresh</td>\n",
        "      <td>          gzd0071/SVPullToRefresh</td>\n",
        "      <td> 0</td>\n",
        "    </tr>\n",
        "    <tr>\n",
        "      <th>9</th>\n",
        "      <td>                 minetest</td>\n",
        "      <td>                 rathgit/minetest</td>\n",
        "      <td> 1</td>\n",
        "    </tr>\n",
        "  </tbody>\n",
        "</table>\n",
        "<p>10 rows \u00d7 3 columns</p>\n",
        "</div>"
       ],
       "metadata": {},
       "output_type": "pyout",
       "prompt_number": 67,
       "text": [
        "                       name                         full_name  fork\n",
        "0               JZSwipeCell                 ios4u/JZSwipeCell     1\n",
        "1      tieu-de-bai-viet-moi  kickauthor1/tieu-de-bai-viet-moi     0\n",
        "2       flaming-octo-wookie       ChingTi/flaming-octo-wookie     0\n",
        "3                    jersey                 mengql1987/jersey     1\n",
        "4              MoreTextView         silvio-icona/MoreTextView     0\n",
        "5  elasticsearch-http-basic    hagun/elasticsearch-http-basic     1\n",
        "6                  magento2                   soncao/magento2     1\n",
        "7         puppet-module-ssh   kentjohansson/puppet-module-ssh     1\n",
        "8           SVPullToRefresh           gzd0071/SVPullToRefresh     0\n",
        "9                  minetest                  rathgit/minetest     1\n",
        "\n",
        "[10 rows x 3 columns]"
       ]
      }
     ],
     "prompt_number": 67
    },
    {
     "cell_type": "markdown",
     "metadata": {},
     "source": [
      "Some of these look a little bit irrelevant, but even if only 50% are right, there are still 100k internet protocol related projects."
     ]
    },
    {
     "cell_type": "markdown",
     "metadata": {},
     "source": [
      "## Machine learning code\n"
     ]
    },
    {
     "cell_type": "code",
     "collapsed": false,
     "input": [
      "ml_list = pd.read_csv('topic_lists/ml.csv', header=None, names = ['name'])\n",
      "ml_list.shape\n",
      "ml_query  = '|'.join(ml_list['name'].str.strip()).lower()"
     ],
     "language": "python",
     "metadata": {},
     "outputs": [],
     "prompt_number": 414
    },
    {
     "cell_type": "code",
     "collapsed": false,
     "input": [
      "ml_df = construct_repo_df(ml_query)"
     ],
     "language": "python",
     "metadata": {},
     "outputs": [
      {
       "output_type": "stream",
       "stream": "stdout",
       "text": [
        "starting bigquery ... \n",
        "artificial.?neural.?network|analogical.?modeling|autoencoders|backpropagation|bayesian.?knowledge.?base|bayesian.?network|boltzmann.?machines|boosting.?meta|bootstrap|c4.5|fisher's.?linear.?discriminant|hopfield.?networks|logistic.?regression|multinomial.?logistic.?regression|naive.?bayes.?classifier|naive.?bayes.?classifier|nearest.?neighbor.?algorithm|perceptron|random.?forests|restricted.?boltzmann.?machines|spiking.?neural.?networks|support.?vector.?machines|anova|artificial.?neural.?network|bayesian.?networks|bayesian.?statistics|boosting|conditional.?random.?field|data.?clustering|decision.?trees|decision.?trees|expectation.?maximization.?algorithm|gaussian.?process.?regression|gene.?expression.?programming|generative.?topographic.?map|group.?method.?of.?data.?handling.?gmdh|hidden.?markov.?models|inductive.?logic.?programming|information.?bottleneck.?method|information.?fuzzy.?networks.?ifn|k.?nearest.?neighbor|lazy.?learning|learning.?automata|learning.?vector.?quantization|linear.?classifiers|logistic.?model.?tree|minimum.?message.?length.?decision.?trees|ordinal.?classification|probably.?approximately.?correct.?learning.?pac.?learning|quadratic.?classifiers|radial.?basis.?function.?network|random.?forests|regression.?analysis|ripple.?down.?rules|self.?organizing.?map|subsymbolic.?machine.?learning.?algorithms|support.?vector.?machines|symbolic.?machine.?learning.?algorithms|vector.?quantization|unsupervised.?learning|association.?rule.?learning|apriori.?algorithm|eclat.?algorithm|fp|hierarchical.?clustering|k.?means|fuzzy.?clustering|dbscan|optics.?algorithm|outlier.?detection|local.?outlier.?factor|reinforcement.?learning|temporal.?difference.?learning|learning.?automata|monte.?carlo.?method|sarsa|deep.?learning|deep.?belief.?networks|deep.?boltzmann.?machines|deep.?convolutional.?neural.?networks|deep.?recurrent.?neural.?networks|ayasdi|angoss.?knowledgestudio|apache.?mahout|gesture.?recognition.?toolkit|ibm.?spss.?modeler|knime|kxen.?modeler|lionsolver|matlab|mlpy|mlpack.?library|mcmll|neurosolutions|opencv|opennn|dlib|oracle.?data.?mining|orange|python.?scikit.?learn|rapidminer|salford.?predictive.?modeler|sas.?enterprise.?miner|shogun.?toolbox|statistica.?data.?miner|weka.\n",
        "\r",
        "Waiting on bqjob_r365ca01a99897daf_00000145fc7d5bf3_130 ... (1s) Current status: RUNNING"
       ]
      },
      {
       "output_type": "stream",
       "stream": "stdout",
       "text": [
        " \r",
        "Waiting on bqjob_r365ca01a99897daf_00000145fc7d5bf3_130 ... (2s) Current status: RUNNING "
       ]
      },
      {
       "output_type": "stream",
       "stream": "stdout",
       "text": [
        "\r",
        "Waiting on bqjob_r365ca01a99897daf_00000145fc7d5bf3_130 ... (4s) Current status: RUNNING "
       ]
      },
      {
       "output_type": "stream",
       "stream": "stdout",
       "text": [
        "\r",
        "Waiting on bqjob_r365ca01a99897daf_00000145fc7d5bf3_130 ... (6s) Current status: RUNNING "
       ]
      },
      {
       "output_type": "stream",
       "stream": "stdout",
       "text": [
        "\r",
        "Waiting on bqjob_r365ca01a99897daf_00000145fc7d5bf3_130 ... (8s) Current status: RUNNING "
       ]
      },
      {
       "output_type": "stream",
       "stream": "stdout",
       "text": [
        "\r",
        "Waiting on bqjob_r365ca01a99897daf_00000145fc7d5bf3_130 ... (10s) Current status: RUNNING "
       ]
      },
      {
       "output_type": "stream",
       "stream": "stdout",
       "text": [
        "\r",
        "Waiting on bqjob_r365ca01a99897daf_00000145fc7d5bf3_130 ... (12s) Current status: RUNNING "
       ]
      },
      {
       "output_type": "stream",
       "stream": "stdout",
       "text": [
        "\r",
        "Waiting on bqjob_r365ca01a99897daf_00000145fc7d5bf3_130 ... (14s) Current status: RUNNING "
       ]
      },
      {
       "output_type": "stream",
       "stream": "stdout",
       "text": [
        "\r",
        "Waiting on bqjob_r365ca01a99897daf_00000145fc7d5bf3_130 ... (15s) Current status: RUNNING "
       ]
      },
      {
       "output_type": "stream",
       "stream": "stdout",
       "text": [
        "\r",
        "Waiting on bqjob_r365ca01a99897daf_00000145fc7d5bf3_130 ... (16s) Current status: RUNNING "
       ]
      },
      {
       "output_type": "stream",
       "stream": "stdout",
       "text": [
        "\r",
        "Waiting on bqjob_r365ca01a99897daf_00000145fc7d5bf3_130 ... (18s) Current status: RUNNING "
       ]
      },
      {
       "output_type": "stream",
       "stream": "stdout",
       "text": [
        "\r",
        "Waiting on bqjob_r365ca01a99897daf_00000145fc7d5bf3_130 ... (19s) Current status: RUNNING "
       ]
      },
      {
       "output_type": "stream",
       "stream": "stdout",
       "text": [
        "\r",
        "Waiting on bqjob_r365ca01a99897daf_00000145fc7d5bf3_130 ... (20s) Current status: RUNNING "
       ]
      },
      {
       "output_type": "stream",
       "stream": "stdout",
       "text": [
        "\r",
        "Waiting on bqjob_r365ca01a99897daf_00000145fc7d5bf3_130 ... (21s) Current status: RUNNING "
       ]
      },
      {
       "output_type": "stream",
       "stream": "stdout",
       "text": [
        "\r",
        "Waiting on bqjob_r365ca01a99897daf_00000145fc7d5bf3_130 ... (22s) Current status: RUNNING "
       ]
      },
      {
       "output_type": "stream",
       "stream": "stdout",
       "text": [
        "\r",
        "Waiting on bqjob_r365ca01a99897daf_00000145fc7d5bf3_130 ... (24s) Current status: RUNNING "
       ]
      },
      {
       "output_type": "stream",
       "stream": "stdout",
       "text": [
        "\r",
        "Waiting on bqjob_r365ca01a99897daf_00000145fc7d5bf3_130 ... (25s) Current status: RUNNING "
       ]
      },
      {
       "output_type": "stream",
       "stream": "stdout",
       "text": [
        "\r",
        "Waiting on bqjob_r365ca01a99897daf_00000145fc7d5bf3_130 ... (26s) Current status: RUNNING "
       ]
      },
      {
       "output_type": "stream",
       "stream": "stdout",
       "text": [
        "\r",
        "Waiting on bqjob_r365ca01a99897daf_00000145fc7d5bf3_130 ... (27s) Current status: RUNNING "
       ]
      },
      {
       "output_type": "stream",
       "stream": "stdout",
       "text": [
        "\r",
        "Waiting on bqjob_r365ca01a99897daf_00000145fc7d5bf3_130 ... (28s) Current status: RUNNING "
       ]
      },
      {
       "output_type": "stream",
       "stream": "stdout",
       "text": [
        "\r",
        "Waiting on bqjob_r365ca01a99897daf_00000145fc7d5bf3_130 ... (29s) Current status: RUNNING "
       ]
      },
      {
       "output_type": "stream",
       "stream": "stdout",
       "text": [
        "\r",
        "Waiting on bqjob_r365ca01a99897daf_00000145fc7d5bf3_130 ... (30s) Current status: RUNNING "
       ]
      },
      {
       "output_type": "stream",
       "stream": "stdout",
       "text": [
        "\r",
        "Waiting on bqjob_r365ca01a99897daf_00000145fc7d5bf3_130 ... (31s) Current status: RUNNING "
       ]
      },
      {
       "output_type": "stream",
       "stream": "stdout",
       "text": [
        "\r",
        "Waiting on bqjob_r365ca01a99897daf_00000145fc7d5bf3_130 ... (33s) Current status: RUNNING "
       ]
      },
      {
       "output_type": "stream",
       "stream": "stdout",
       "text": [
        "\r",
        "Waiting on bqjob_r365ca01a99897daf_00000145fc7d5bf3_130 ... (34s) Current status: RUNNING "
       ]
      },
      {
       "output_type": "stream",
       "stream": "stdout",
       "text": [
        "\r",
        "Waiting on bqjob_r365ca01a99897daf_00000145fc7d5bf3_130 ... (35s) Current status: RUNNING "
       ]
      },
      {
       "output_type": "stream",
       "stream": "stdout",
       "text": [
        "\r",
        "Waiting on bqjob_r365ca01a99897daf_00000145fc7d5bf3_130 ... (36s) Current status: RUNNING "
       ]
      },
      {
       "output_type": "stream",
       "stream": "stdout",
       "text": [
        "\r",
        "Waiting on bqjob_r365ca01a99897daf_00000145fc7d5bf3_130 ... (37s) Current status: RUNNING "
       ]
      },
      {
       "output_type": "stream",
       "stream": "stdout",
       "text": [
        "\r",
        "Waiting on bqjob_r365ca01a99897daf_00000145fc7d5bf3_130 ... (38s) Current status: RUNNING "
       ]
      },
      {
       "output_type": "stream",
       "stream": "stdout",
       "text": [
        "\r",
        "Waiting on bqjob_r365ca01a99897daf_00000145fc7d5bf3_130 ... (39s) Current status: RUNNING "
       ]
      },
      {
       "output_type": "stream",
       "stream": "stdout",
       "text": [
        "\r",
        "Waiting on bqjob_r365ca01a99897daf_00000145fc7d5bf3_130 ... (40s) Current status: RUNNING "
       ]
      },
      {
       "output_type": "stream",
       "stream": "stdout",
       "text": [
        "\r",
        "Waiting on bqjob_r365ca01a99897daf_00000145fc7d5bf3_130 ... (41s) Current status: RUNNING "
       ]
      },
      {
       "output_type": "stream",
       "stream": "stdout",
       "text": [
        "\r",
        "Waiting on bqjob_r365ca01a99897daf_00000145fc7d5bf3_130 ... (42s) Current status: RUNNING "
       ]
      },
      {
       "output_type": "stream",
       "stream": "stdout",
       "text": [
        "\r",
        "Waiting on bqjob_r365ca01a99897daf_00000145fc7d5bf3_130 ... (43s) Current status: RUNNING "
       ]
      },
      {
       "output_type": "stream",
       "stream": "stdout",
       "text": [
        "\r",
        "Waiting on bqjob_r365ca01a99897daf_00000145fc7d5bf3_130 ... (45s) Current status: RUNNING "
       ]
      },
      {
       "output_type": "stream",
       "stream": "stdout",
       "text": [
        "\r",
        "Waiting on bqjob_r365ca01a99897daf_00000145fc7d5bf3_130 ... (46s) Current status: RUNNING "
       ]
      },
      {
       "output_type": "stream",
       "stream": "stdout",
       "text": [
        "\r",
        "Waiting on bqjob_r365ca01a99897daf_00000145fc7d5bf3_130 ... (47s) Current status: RUNNING "
       ]
      },
      {
       "output_type": "stream",
       "stream": "stdout",
       "text": [
        "\r",
        "Waiting on bqjob_r365ca01a99897daf_00000145fc7d5bf3_130 ... (48s) Current status: RUNNING "
       ]
      },
      {
       "output_type": "stream",
       "stream": "stdout",
       "text": [
        "\r",
        "Waiting on bqjob_r365ca01a99897daf_00000145fc7d5bf3_130 ... (49s) Current status: RUNNING "
       ]
      },
      {
       "output_type": "stream",
       "stream": "stdout",
       "text": [
        "\r",
        "Waiting on bqjob_r365ca01a99897daf_00000145fc7d5bf3_130 ... (50s) Current status: RUNNING "
       ]
      },
      {
       "output_type": "stream",
       "stream": "stdout",
       "text": [
        "\r",
        "Waiting on bqjob_r365ca01a99897daf_00000145fc7d5bf3_130 ... (51s) Current status: RUNNING "
       ]
      },
      {
       "output_type": "stream",
       "stream": "stdout",
       "text": [
        "\r",
        "Waiting on bqjob_r365ca01a99897daf_00000145fc7d5bf3_130 ... (52s) Current status: RUNNING "
       ]
      },
      {
       "output_type": "stream",
       "stream": "stdout",
       "text": [
        "\r",
        "Waiting on bqjob_r365ca01a99897daf_00000145fc7d5bf3_130 ... (53s) Current status: RUNNING "
       ]
      },
      {
       "output_type": "stream",
       "stream": "stdout",
       "text": [
        "\r",
        "Waiting on bqjob_r365ca01a99897daf_00000145fc7d5bf3_130 ... (54s) Current status: RUNNING "
       ]
      },
      {
       "output_type": "stream",
       "stream": "stdout",
       "text": [
        "\r",
        "Waiting on bqjob_r365ca01a99897daf_00000145fc7d5bf3_130 ... (55s) Current status: RUNNING "
       ]
      },
      {
       "output_type": "stream",
       "stream": "stdout",
       "text": [
        "\r",
        "Waiting on bqjob_r365ca01a99897daf_00000145fc7d5bf3_130 ... (56s) Current status: RUNNING "
       ]
      },
      {
       "output_type": "stream",
       "stream": "stdout",
       "text": [
        "\r",
        "Waiting on bqjob_r365ca01a99897daf_00000145fc7d5bf3_130 ... (57s) Current status: RUNNING "
       ]
      },
      {
       "output_type": "stream",
       "stream": "stdout",
       "text": [
        "\r",
        "Waiting on bqjob_r365ca01a99897daf_00000145fc7d5bf3_130 ... (58s) Current status: RUNNING "
       ]
      },
      {
       "output_type": "stream",
       "stream": "stdout",
       "text": [
        "\r",
        "Waiting on bqjob_r365ca01a99897daf_00000145fc7d5bf3_130 ... (60s) Current status: RUNNING "
       ]
      },
      {
       "output_type": "stream",
       "stream": "stdout",
       "text": [
        "\r",
        "Waiting on bqjob_r365ca01a99897daf_00000145fc7d5bf3_130 ... (61s) Current status: RUNNING "
       ]
      },
      {
       "output_type": "stream",
       "stream": "stdout",
       "text": [
        "\r",
        "Waiting on bqjob_r365ca01a99897daf_00000145fc7d5bf3_130 ... (62s) Current status: RUNNING "
       ]
      },
      {
       "output_type": "stream",
       "stream": "stdout",
       "text": [
        "\r",
        "Waiting on bqjob_r365ca01a99897daf_00000145fc7d5bf3_130 ... (63s) Current status: RUNNING "
       ]
      },
      {
       "output_type": "stream",
       "stream": "stdout",
       "text": [
        "\r",
        "Waiting on bqjob_r365ca01a99897daf_00000145fc7d5bf3_130 ... (64s) Current status: RUNNING "
       ]
      },
      {
       "output_type": "stream",
       "stream": "stdout",
       "text": [
        "\r",
        "Waiting on bqjob_r365ca01a99897daf_00000145fc7d5bf3_130 ... (65s) Current status: RUNNING "
       ]
      },
      {
       "output_type": "stream",
       "stream": "stdout",
       "text": [
        "\r",
        "Waiting on bqjob_r365ca01a99897daf_00000145fc7d5bf3_130 ... (66s) Current status: RUNNING "
       ]
      },
      {
       "output_type": "stream",
       "stream": "stdout",
       "text": [
        "\r",
        "Waiting on bqjob_r365ca01a99897daf_00000145fc7d5bf3_130 ... (67s) Current status: RUNNING "
       ]
      },
      {
       "output_type": "stream",
       "stream": "stdout",
       "text": [
        "\r",
        "Waiting on bqjob_r365ca01a99897daf_00000145fc7d5bf3_130 ... (68s) Current status: RUNNING "
       ]
      },
      {
       "output_type": "stream",
       "stream": "stdout",
       "text": [
        "\r",
        "Waiting on bqjob_r365ca01a99897daf_00000145fc7d5bf3_130 ... (69s) Current status: RUNNING "
       ]
      },
      {
       "output_type": "stream",
       "stream": "stdout",
       "text": [
        "\r",
        "Waiting on bqjob_r365ca01a99897daf_00000145fc7d5bf3_130 ... (70s) Current status: RUNNING "
       ]
      },
      {
       "output_type": "stream",
       "stream": "stdout",
       "text": [
        "\r",
        "Waiting on bqjob_r365ca01a99897daf_00000145fc7d5bf3_130 ... (71s) Current status: RUNNING "
       ]
      },
      {
       "output_type": "stream",
       "stream": "stdout",
       "text": [
        "\r",
        "Waiting on bqjob_r365ca01a99897daf_00000145fc7d5bf3_130 ... (72s) Current status: RUNNING "
       ]
      },
      {
       "output_type": "stream",
       "stream": "stdout",
       "text": [
        "\r",
        "Waiting on bqjob_r365ca01a99897daf_00000145fc7d5bf3_130 ... (73s) Current status: RUNNING "
       ]
      },
      {
       "output_type": "stream",
       "stream": "stdout",
       "text": [
        "\r",
        "Waiting on bqjob_r365ca01a99897daf_00000145fc7d5bf3_130 ... (74s) Current status: RUNNING "
       ]
      },
      {
       "output_type": "stream",
       "stream": "stdout",
       "text": [
        "\r",
        "Waiting on bqjob_r365ca01a99897daf_00000145fc7d5bf3_130 ... (75s) Current status: RUNNING "
       ]
      },
      {
       "output_type": "stream",
       "stream": "stdout",
       "text": [
        "\r",
        "Waiting on bqjob_r365ca01a99897daf_00000145fc7d5bf3_130 ... (76s) Current status: RUNNING "
       ]
      },
      {
       "output_type": "stream",
       "stream": "stdout",
       "text": [
        "\r",
        "Waiting on bqjob_r365ca01a99897daf_00000145fc7d5bf3_130 ... (78s) Current status: RUNNING "
       ]
      },
      {
       "output_type": "stream",
       "stream": "stdout",
       "text": [
        "\r",
        "Waiting on bqjob_r365ca01a99897daf_00000145fc7d5bf3_130 ... (79s) Current status: RUNNING "
       ]
      },
      {
       "output_type": "stream",
       "stream": "stdout",
       "text": [
        "\r",
        "Waiting on bqjob_r365ca01a99897daf_00000145fc7d5bf3_130 ... (80s) Current status: RUNNING "
       ]
      },
      {
       "output_type": "stream",
       "stream": "stdout",
       "text": [
        "\r",
        "Waiting on bqjob_r365ca01a99897daf_00000145fc7d5bf3_130 ... (81s) Current status: RUNNING "
       ]
      },
      {
       "output_type": "stream",
       "stream": "stdout",
       "text": [
        "\r",
        "Waiting on bqjob_r365ca01a99897daf_00000145fc7d5bf3_130 ... (82s) Current status: RUNNING "
       ]
      },
      {
       "output_type": "stream",
       "stream": "stdout",
       "text": [
        "\r",
        "Waiting on bqjob_r365ca01a99897daf_00000145fc7d5bf3_130 ... (83s) Current status: RUNNING "
       ]
      },
      {
       "output_type": "stream",
       "stream": "stdout",
       "text": [
        "\r",
        "Waiting on bqjob_r365ca01a99897daf_00000145fc7d5bf3_130 ... (84s) Current status: RUNNING "
       ]
      },
      {
       "output_type": "stream",
       "stream": "stdout",
       "text": [
        "\r",
        "Waiting on bqjob_r365ca01a99897daf_00000145fc7d5bf3_130 ... (85s) Current status: RUNNING "
       ]
      },
      {
       "output_type": "stream",
       "stream": "stdout",
       "text": [
        "\r",
        "Waiting on bqjob_r365ca01a99897daf_00000145fc7d5bf3_130 ... (86s) Current status: RUNNING "
       ]
      },
      {
       "output_type": "stream",
       "stream": "stdout",
       "text": [
        "\r",
        "Waiting on bqjob_r365ca01a99897daf_00000145fc7d5bf3_130 ... (87s) Current status: RUNNING "
       ]
      },
      {
       "output_type": "stream",
       "stream": "stdout",
       "text": [
        "\r",
        "Waiting on bqjob_r365ca01a99897daf_00000145fc7d5bf3_130 ... (88s) Current status: RUNNING "
       ]
      },
      {
       "output_type": "stream",
       "stream": "stdout",
       "text": [
        "\r",
        "Waiting on bqjob_r365ca01a99897daf_00000145fc7d5bf3_130 ... (89s) Current status: RUNNING "
       ]
      },
      {
       "output_type": "stream",
       "stream": "stdout",
       "text": [
        "\r",
        "Waiting on bqjob_r365ca01a99897daf_00000145fc7d5bf3_130 ... (90s) Current status: RUNNING "
       ]
      },
      {
       "output_type": "stream",
       "stream": "stdout",
       "text": [
        "\r",
        "Waiting on bqjob_r365ca01a99897daf_00000145fc7d5bf3_130 ... (91s) Current status: RUNNING "
       ]
      },
      {
       "output_type": "stream",
       "stream": "stdout",
       "text": [
        "\r",
        "Waiting on bqjob_r365ca01a99897daf_00000145fc7d5bf3_130 ... (92s) Current status: RUNNING "
       ]
      },
      {
       "output_type": "stream",
       "stream": "stdout",
       "text": [
        "\r",
        "Waiting on bqjob_r365ca01a99897daf_00000145fc7d5bf3_130 ... (93s) Current status: RUNNING "
       ]
      },
      {
       "output_type": "stream",
       "stream": "stdout",
       "text": [
        "\r",
        "Waiting on bqjob_r365ca01a99897daf_00000145fc7d5bf3_130 ... (94s) Current status: RUNNING "
       ]
      },
      {
       "output_type": "stream",
       "stream": "stdout",
       "text": [
        "\r",
        "Waiting on bqjob_r365ca01a99897daf_00000145fc7d5bf3_130 ... (95s) Current status: RUNNING "
       ]
      },
      {
       "output_type": "stream",
       "stream": "stdout",
       "text": [
        "\r",
        "Waiting on bqjob_r365ca01a99897daf_00000145fc7d5bf3_130 ... (96s) Current status: RUNNING "
       ]
      },
      {
       "output_type": "stream",
       "stream": "stdout",
       "text": [
        "\r",
        "Waiting on bqjob_r365ca01a99897daf_00000145fc7d5bf3_130 ... (97s) Current status: RUNNING "
       ]
      },
      {
       "output_type": "stream",
       "stream": "stdout",
       "text": [
        "\r",
        "Waiting on bqjob_r365ca01a99897daf_00000145fc7d5bf3_130 ... (99s) Current status: RUNNING "
       ]
      },
      {
       "output_type": "stream",
       "stream": "stdout",
       "text": [
        "\r",
        "Waiting on bqjob_r365ca01a99897daf_00000145fc7d5bf3_130 ... (100s) Current status: RUNNING "
       ]
      },
      {
       "output_type": "stream",
       "stream": "stdout",
       "text": [
        "\r",
        "Waiting on bqjob_r365ca01a99897daf_00000145fc7d5bf3_130 ... (101s) Current status: RUNNING "
       ]
      },
      {
       "output_type": "stream",
       "stream": "stdout",
       "text": [
        "\r",
        "Waiting on bqjob_r365ca01a99897daf_00000145fc7d5bf3_130 ... (102s) Current status: RUNNING "
       ]
      },
      {
       "output_type": "stream",
       "stream": "stdout",
       "text": [
        "\r",
        "Waiting on bqjob_r365ca01a99897daf_00000145fc7d5bf3_130 ... (103s) Current status: RUNNING "
       ]
      },
      {
       "output_type": "stream",
       "stream": "stdout",
       "text": [
        "\r",
        "Waiting on bqjob_r365ca01a99897daf_00000145fc7d5bf3_130 ... (104s) Current status: RUNNING "
       ]
      },
      {
       "output_type": "stream",
       "stream": "stdout",
       "text": [
        "\r",
        "Waiting on bqjob_r365ca01a99897daf_00000145fc7d5bf3_130 ... (105s) Current status: RUNNING "
       ]
      },
      {
       "output_type": "stream",
       "stream": "stdout",
       "text": [
        "\r",
        "Waiting on bqjob_r365ca01a99897daf_00000145fc7d5bf3_130 ... (106s) Current status: RUNNING "
       ]
      },
      {
       "output_type": "stream",
       "stream": "stdout",
       "text": [
        "\r",
        "Waiting on bqjob_r365ca01a99897daf_00000145fc7d5bf3_130 ... (107s) Current status: RUNNING "
       ]
      },
      {
       "output_type": "stream",
       "stream": "stdout",
       "text": [
        "\r",
        "Waiting on bqjob_r365ca01a99897daf_00000145fc7d5bf3_130 ... (108s) Current status: RUNNING "
       ]
      },
      {
       "output_type": "stream",
       "stream": "stdout",
       "text": [
        "\r",
        "Waiting on bqjob_r365ca01a99897daf_00000145fc7d5bf3_130 ... (109s) Current status: RUNNING "
       ]
      },
      {
       "output_type": "stream",
       "stream": "stdout",
       "text": [
        "\r",
        "Waiting on bqjob_r365ca01a99897daf_00000145fc7d5bf3_130 ... (110s) Current status: RUNNING "
       ]
      },
      {
       "output_type": "stream",
       "stream": "stdout",
       "text": [
        "\r",
        "Waiting on bqjob_r365ca01a99897daf_00000145fc7d5bf3_130 ... (111s) Current status: RUNNING "
       ]
      },
      {
       "output_type": "stream",
       "stream": "stdout",
       "text": [
        "\r",
        "Waiting on bqjob_r365ca01a99897daf_00000145fc7d5bf3_130 ... (112s) Current status: RUNNING "
       ]
      },
      {
       "output_type": "stream",
       "stream": "stdout",
       "text": [
        "\r",
        "Waiting on bqjob_r365ca01a99897daf_00000145fc7d5bf3_130 ... (113s) Current status: RUNNING "
       ]
      },
      {
       "output_type": "stream",
       "stream": "stdout",
       "text": [
        "\r",
        "Waiting on bqjob_r365ca01a99897daf_00000145fc7d5bf3_130 ... (114s) Current status: RUNNING "
       ]
      },
      {
       "output_type": "stream",
       "stream": "stdout",
       "text": [
        "\r",
        "Waiting on bqjob_r365ca01a99897daf_00000145fc7d5bf3_130 ... (115s) Current status: RUNNING "
       ]
      },
      {
       "output_type": "stream",
       "stream": "stdout",
       "text": [
        "\r",
        "Waiting on bqjob_r365ca01a99897daf_00000145fc7d5bf3_130 ... (116s) Current status: RUNNING "
       ]
      },
      {
       "output_type": "stream",
       "stream": "stdout",
       "text": [
        "\r",
        "Waiting on bqjob_r365ca01a99897daf_00000145fc7d5bf3_130 ... (117s) Current status: RUNNING "
       ]
      },
      {
       "output_type": "stream",
       "stream": "stdout",
       "text": [
        "\r",
        "Waiting on bqjob_r365ca01a99897daf_00000145fc7d5bf3_130 ... (118s) Current status: RUNNING "
       ]
      },
      {
       "output_type": "stream",
       "stream": "stdout",
       "text": [
        "\r",
        "Waiting on bqjob_r365ca01a99897daf_00000145fc7d5bf3_130 ... (119s) Current status: RUNNING "
       ]
      },
      {
       "output_type": "stream",
       "stream": "stdout",
       "text": [
        "\r",
        "Waiting on bqjob_r365ca01a99897daf_00000145fc7d5bf3_130 ... (120s) Current status: RUNNING "
       ]
      },
      {
       "output_type": "stream",
       "stream": "stdout",
       "text": [
        "\r",
        "Waiting on bqjob_r365ca01a99897daf_00000145fc7d5bf3_130 ... (121s) Current status: RUNNING "
       ]
      },
      {
       "output_type": "stream",
       "stream": "stdout",
       "text": [
        "\r",
        "Waiting on bqjob_r365ca01a99897daf_00000145fc7d5bf3_130 ... (123s) Current status: RUNNING "
       ]
      },
      {
       "output_type": "stream",
       "stream": "stdout",
       "text": [
        "\r",
        "Waiting on bqjob_r365ca01a99897daf_00000145fc7d5bf3_130 ... (124s) Current status: RUNNING "
       ]
      },
      {
       "output_type": "stream",
       "stream": "stdout",
       "text": [
        "\r",
        "Waiting on bqjob_r365ca01a99897daf_00000145fc7d5bf3_130 ... (125s) Current status: RUNNING "
       ]
      },
      {
       "output_type": "stream",
       "stream": "stdout",
       "text": [
        "\r",
        "Waiting on bqjob_r365ca01a99897daf_00000145fc7d5bf3_130 ... (126s) Current status: RUNNING "
       ]
      },
      {
       "output_type": "stream",
       "stream": "stdout",
       "text": [
        "\r",
        "Waiting on bqjob_r365ca01a99897daf_00000145fc7d5bf3_130 ... (127s) Current status: RUNNING "
       ]
      },
      {
       "output_type": "stream",
       "stream": "stdout",
       "text": [
        "\r",
        "Waiting on bqjob_r365ca01a99897daf_00000145fc7d5bf3_130 ... (128s) Current status: RUNNING "
       ]
      },
      {
       "output_type": "stream",
       "stream": "stdout",
       "text": [
        "\r",
        "Waiting on bqjob_r365ca01a99897daf_00000145fc7d5bf3_130 ... (129s) Current status: RUNNING "
       ]
      },
      {
       "output_type": "stream",
       "stream": "stdout",
       "text": [
        "\r",
        "Waiting on bqjob_r365ca01a99897daf_00000145fc7d5bf3_130 ... (130s) Current status: RUNNING "
       ]
      },
      {
       "output_type": "stream",
       "stream": "stdout",
       "text": [
        "\r",
        "Waiting on bqjob_r365ca01a99897daf_00000145fc7d5bf3_130 ... (131s) Current status: RUNNING "
       ]
      },
      {
       "output_type": "stream",
       "stream": "stdout",
       "text": [
        "\r",
        "Waiting on bqjob_r365ca01a99897daf_00000145fc7d5bf3_130 ... (132s) Current status: RUNNING "
       ]
      },
      {
       "output_type": "stream",
       "stream": "stdout",
       "text": [
        "\r",
        "Waiting on bqjob_r365ca01a99897daf_00000145fc7d5bf3_130 ... (133s) Current status: RUNNING "
       ]
      },
      {
       "output_type": "stream",
       "stream": "stdout",
       "text": [
        "\r",
        "Waiting on bqjob_r365ca01a99897daf_00000145fc7d5bf3_130 ... (134s) Current status: RUNNING "
       ]
      },
      {
       "output_type": "stream",
       "stream": "stdout",
       "text": [
        "\r",
        "Waiting on bqjob_r365ca01a99897daf_00000145fc7d5bf3_130 ... (135s) Current status: RUNNING "
       ]
      },
      {
       "output_type": "stream",
       "stream": "stdout",
       "text": [
        "\r",
        "Waiting on bqjob_r365ca01a99897daf_00000145fc7d5bf3_130 ... (136s) Current status: RUNNING "
       ]
      },
      {
       "output_type": "stream",
       "stream": "stdout",
       "text": [
        "\r",
        "Waiting on bqjob_r365ca01a99897daf_00000145fc7d5bf3_130 ... (137s) Current status: RUNNING "
       ]
      },
      {
       "output_type": "stream",
       "stream": "stdout",
       "text": [
        "\r",
        "Waiting on bqjob_r365ca01a99897daf_00000145fc7d5bf3_130 ... (138s) Current status: RUNNING "
       ]
      },
      {
       "output_type": "stream",
       "stream": "stdout",
       "text": [
        "\r",
        "Waiting on bqjob_r365ca01a99897daf_00000145fc7d5bf3_130 ... (139s) Current status: RUNNING "
       ]
      },
      {
       "output_type": "stream",
       "stream": "stdout",
       "text": [
        "\r",
        "Waiting on bqjob_r365ca01a99897daf_00000145fc7d5bf3_130 ... (140s) Current status: RUNNING "
       ]
      },
      {
       "output_type": "stream",
       "stream": "stdout",
       "text": [
        "\r",
        "Waiting on bqjob_r365ca01a99897daf_00000145fc7d5bf3_130 ... (141s) Current status: RUNNING "
       ]
      },
      {
       "output_type": "stream",
       "stream": "stdout",
       "text": [
        "\r",
        "Waiting on bqjob_r365ca01a99897daf_00000145fc7d5bf3_130 ... (142s) Current status: RUNNING "
       ]
      },
      {
       "output_type": "stream",
       "stream": "stdout",
       "text": [
        "\r",
        "Waiting on bqjob_r365ca01a99897daf_00000145fc7d5bf3_130 ... (143s) Current status: RUNNING "
       ]
      },
      {
       "output_type": "stream",
       "stream": "stdout",
       "text": [
        "\r",
        "Waiting on bqjob_r365ca01a99897daf_00000145fc7d5bf3_130 ... (144s) Current status: RUNNING "
       ]
      },
      {
       "output_type": "stream",
       "stream": "stdout",
       "text": [
        "\r",
        "Waiting on bqjob_r365ca01a99897daf_00000145fc7d5bf3_130 ... (145s) Current status: RUNNING "
       ]
      },
      {
       "output_type": "stream",
       "stream": "stdout",
       "text": [
        "\r",
        "Waiting on bqjob_r365ca01a99897daf_00000145fc7d5bf3_130 ... (146s) Current status: RUNNING "
       ]
      },
      {
       "output_type": "stream",
       "stream": "stdout",
       "text": [
        "\r",
        "Waiting on bqjob_r365ca01a99897daf_00000145fc7d5bf3_130 ... (147s) Current status: RUNNING "
       ]
      },
      {
       "output_type": "stream",
       "stream": "stdout",
       "text": [
        "\r",
        "Waiting on bqjob_r365ca01a99897daf_00000145fc7d5bf3_130 ... (148s) Current status: RUNNING "
       ]
      },
      {
       "output_type": "stream",
       "stream": "stdout",
       "text": [
        "\r",
        "Waiting on bqjob_r365ca01a99897daf_00000145fc7d5bf3_130 ... (151s) Current status: RUNNING "
       ]
      },
      {
       "output_type": "stream",
       "stream": "stdout",
       "text": [
        "\r",
        "Waiting on bqjob_r365ca01a99897daf_00000145fc7d5bf3_130 ... (152s) Current status: RUNNING "
       ]
      },
      {
       "output_type": "stream",
       "stream": "stdout",
       "text": [
        "\r",
        "Waiting on bqjob_r365ca01a99897daf_00000145fc7d5bf3_130 ... (153s) Current status: RUNNING "
       ]
      },
      {
       "output_type": "stream",
       "stream": "stdout",
       "text": [
        "\r",
        "Waiting on bqjob_r365ca01a99897daf_00000145fc7d5bf3_130 ... (154s) Current status: RUNNING "
       ]
      },
      {
       "output_type": "stream",
       "stream": "stdout",
       "text": [
        "\r",
        "Waiting on bqjob_r365ca01a99897daf_00000145fc7d5bf3_130 ... (155s) Current status: RUNNING "
       ]
      },
      {
       "output_type": "stream",
       "stream": "stdout",
       "text": [
        "\r",
        "Waiting on bqjob_r365ca01a99897daf_00000145fc7d5bf3_130 ... (156s) Current status: RUNNING "
       ]
      },
      {
       "output_type": "stream",
       "stream": "stdout",
       "text": [
        "\r",
        "Waiting on bqjob_r365ca01a99897daf_00000145fc7d5bf3_130 ... (157s) Current status: RUNNING "
       ]
      },
      {
       "output_type": "stream",
       "stream": "stdout",
       "text": [
        "\r",
        "Waiting on bqjob_r365ca01a99897daf_00000145fc7d5bf3_130 ... (158s) Current status: RUNNING "
       ]
      },
      {
       "output_type": "stream",
       "stream": "stdout",
       "text": [
        "\r",
        "Waiting on bqjob_r365ca01a99897daf_00000145fc7d5bf3_130 ... (159s) Current status: RUNNING "
       ]
      },
      {
       "output_type": "stream",
       "stream": "stdout",
       "text": [
        "\r",
        "Waiting on bqjob_r365ca01a99897daf_00000145fc7d5bf3_130 ... (160s) Current status: RUNNING "
       ]
      },
      {
       "output_type": "stream",
       "stream": "stdout",
       "text": [
        "\r",
        "Waiting on bqjob_r365ca01a99897daf_00000145fc7d5bf3_130 ... (161s) Current status: RUNNING "
       ]
      },
      {
       "output_type": "stream",
       "stream": "stdout",
       "text": [
        "\r",
        "Waiting on bqjob_r365ca01a99897daf_00000145fc7d5bf3_130 ... (162s) Current status: RUNNING "
       ]
      },
      {
       "output_type": "stream",
       "stream": "stdout",
       "text": [
        "\r",
        "Waiting on bqjob_r365ca01a99897daf_00000145fc7d5bf3_130 ... (163s) Current status: RUNNING "
       ]
      },
      {
       "output_type": "stream",
       "stream": "stdout",
       "text": [
        "\r",
        "Waiting on bqjob_r365ca01a99897daf_00000145fc7d5bf3_130 ... (164s) Current status: RUNNING "
       ]
      },
      {
       "output_type": "stream",
       "stream": "stdout",
       "text": [
        "\r",
        "Waiting on bqjob_r365ca01a99897daf_00000145fc7d5bf3_130 ... (165s) Current status: RUNNING "
       ]
      },
      {
       "output_type": "stream",
       "stream": "stdout",
       "text": [
        "\r",
        "Waiting on bqjob_r365ca01a99897daf_00000145fc7d5bf3_130 ... (166s) Current status: RUNNING "
       ]
      },
      {
       "output_type": "stream",
       "stream": "stdout",
       "text": [
        "\r",
        "Waiting on bqjob_r365ca01a99897daf_00000145fc7d5bf3_130 ... (167s) Current status: RUNNING "
       ]
      },
      {
       "output_type": "stream",
       "stream": "stdout",
       "text": [
        "\r",
        "Waiting on bqjob_r365ca01a99897daf_00000145fc7d5bf3_130 ... (168s) Current status: RUNNING "
       ]
      },
      {
       "output_type": "stream",
       "stream": "stdout",
       "text": [
        "\r",
        "Waiting on bqjob_r365ca01a99897daf_00000145fc7d5bf3_130 ... (169s) Current status: RUNNING "
       ]
      },
      {
       "output_type": "stream",
       "stream": "stdout",
       "text": [
        "\r",
        "Waiting on bqjob_r365ca01a99897daf_00000145fc7d5bf3_130 ... (170s) Current status: RUNNING "
       ]
      },
      {
       "output_type": "stream",
       "stream": "stdout",
       "text": [
        "\r",
        "Waiting on bqjob_r365ca01a99897daf_00000145fc7d5bf3_130 ... (171s) Current status: RUNNING "
       ]
      },
      {
       "output_type": "stream",
       "stream": "stdout",
       "text": [
        "\r",
        "Waiting on bqjob_r365ca01a99897daf_00000145fc7d5bf3_130 ... (172s) Current status: RUNNING "
       ]
      },
      {
       "output_type": "stream",
       "stream": "stdout",
       "text": [
        "\r",
        "Waiting on bqjob_r365ca01a99897daf_00000145fc7d5bf3_130 ... (173s) Current status: RUNNING "
       ]
      },
      {
       "output_type": "stream",
       "stream": "stdout",
       "text": [
        "\r",
        "Waiting on bqjob_r365ca01a99897daf_00000145fc7d5bf3_130 ... (174s) Current status: RUNNING "
       ]
      },
      {
       "output_type": "stream",
       "stream": "stdout",
       "text": [
        "\r",
        "Waiting on bqjob_r365ca01a99897daf_00000145fc7d5bf3_130 ... (175s) Current status: RUNNING "
       ]
      },
      {
       "output_type": "stream",
       "stream": "stdout",
       "text": [
        "\r",
        "Waiting on bqjob_r365ca01a99897daf_00000145fc7d5bf3_130 ... (176s) Current status: RUNNING "
       ]
      },
      {
       "output_type": "stream",
       "stream": "stdout",
       "text": [
        "\r",
        "Waiting on bqjob_r365ca01a99897daf_00000145fc7d5bf3_130 ... (177s) Current status: RUNNING "
       ]
      },
      {
       "output_type": "stream",
       "stream": "stdout",
       "text": [
        "\r",
        "Waiting on bqjob_r365ca01a99897daf_00000145fc7d5bf3_130 ... (178s) Current status: RUNNING "
       ]
      },
      {
       "output_type": "stream",
       "stream": "stdout",
       "text": [
        "\r",
        "Waiting on bqjob_r365ca01a99897daf_00000145fc7d5bf3_130 ... (179s) Current status: RUNNING "
       ]
      },
      {
       "output_type": "stream",
       "stream": "stdout",
       "text": [
        "\r",
        "Waiting on bqjob_r365ca01a99897daf_00000145fc7d5bf3_130 ... (180s) Current status: RUNNING "
       ]
      },
      {
       "output_type": "stream",
       "stream": "stdout",
       "text": [
        "\r",
        "Waiting on bqjob_r365ca01a99897daf_00000145fc7d5bf3_130 ... (181s) Current status: RUNNING "
       ]
      },
      {
       "output_type": "stream",
       "stream": "stdout",
       "text": [
        "\r",
        "Waiting on bqjob_r365ca01a99897daf_00000145fc7d5bf3_130 ... (182s) Current status: RUNNING "
       ]
      },
      {
       "output_type": "stream",
       "stream": "stdout",
       "text": [
        "\r",
        "Waiting on bqjob_r365ca01a99897daf_00000145fc7d5bf3_130 ... (183s) Current status: RUNNING "
       ]
      },
      {
       "output_type": "stream",
       "stream": "stdout",
       "text": [
        "\r",
        "Waiting on bqjob_r365ca01a99897daf_00000145fc7d5bf3_130 ... (184s) Current status: RUNNING "
       ]
      },
      {
       "output_type": "stream",
       "stream": "stdout",
       "text": [
        "\r",
        "Waiting on bqjob_r365ca01a99897daf_00000145fc7d5bf3_130 ... (185s) Current status: RUNNING "
       ]
      },
      {
       "output_type": "stream",
       "stream": "stdout",
       "text": [
        "\r",
        "Waiting on bqjob_r365ca01a99897daf_00000145fc7d5bf3_130 ... (186s) Current status: RUNNING "
       ]
      },
      {
       "output_type": "stream",
       "stream": "stdout",
       "text": [
        "\r",
        "Waiting on bqjob_r365ca01a99897daf_00000145fc7d5bf3_130 ... (187s) Current status: RUNNING "
       ]
      },
      {
       "output_type": "stream",
       "stream": "stdout",
       "text": [
        "\r",
        "Waiting on bqjob_r365ca01a99897daf_00000145fc7d5bf3_130 ... (188s) Current status: RUNNING "
       ]
      },
      {
       "output_type": "stream",
       "stream": "stdout",
       "text": [
        "\r",
        "Waiting on bqjob_r365ca01a99897daf_00000145fc7d5bf3_130 ... (189s) Current status: RUNNING "
       ]
      },
      {
       "output_type": "stream",
       "stream": "stdout",
       "text": [
        "\r",
        "Waiting on bqjob_r365ca01a99897daf_00000145fc7d5bf3_130 ... (190s) Current status: RUNNING "
       ]
      },
      {
       "output_type": "stream",
       "stream": "stdout",
       "text": [
        "\r",
        "Waiting on bqjob_r365ca01a99897daf_00000145fc7d5bf3_130 ... (191s) Current status: RUNNING "
       ]
      },
      {
       "output_type": "stream",
       "stream": "stdout",
       "text": [
        "\r",
        "Waiting on bqjob_r365ca01a99897daf_00000145fc7d5bf3_130 ... (192s) Current status: RUNNING "
       ]
      },
      {
       "output_type": "stream",
       "stream": "stdout",
       "text": [
        "\r",
        "Waiting on bqjob_r365ca01a99897daf_00000145fc7d5bf3_130 ... (193s) Current status: RUNNING "
       ]
      },
      {
       "output_type": "stream",
       "stream": "stdout",
       "text": [
        "\r",
        "Waiting on bqjob_r365ca01a99897daf_00000145fc7d5bf3_130 ... (194s) Current status: RUNNING "
       ]
      },
      {
       "output_type": "stream",
       "stream": "stdout",
       "text": [
        "\r",
        "Waiting on bqjob_r365ca01a99897daf_00000145fc7d5bf3_130 ... (195s) Current status: RUNNING "
       ]
      },
      {
       "output_type": "stream",
       "stream": "stdout",
       "text": [
        "\r",
        "Waiting on bqjob_r365ca01a99897daf_00000145fc7d5bf3_130 ... (196s) Current status: RUNNING "
       ]
      },
      {
       "output_type": "stream",
       "stream": "stdout",
       "text": [
        "\r",
        "Waiting on bqjob_r365ca01a99897daf_00000145fc7d5bf3_130 ... (197s) Current status: RUNNING "
       ]
      },
      {
       "output_type": "stream",
       "stream": "stdout",
       "text": [
        "\r",
        "Waiting on bqjob_r365ca01a99897daf_00000145fc7d5bf3_130 ... (198s) Current status: RUNNING "
       ]
      },
      {
       "output_type": "stream",
       "stream": "stdout",
       "text": [
        "\r",
        "Waiting on bqjob_r365ca01a99897daf_00000145fc7d5bf3_130 ... (199s) Current status: RUNNING "
       ]
      },
      {
       "output_type": "stream",
       "stream": "stdout",
       "text": [
        "\r",
        "Waiting on bqjob_r365ca01a99897daf_00000145fc7d5bf3_130 ... (200s) Current status: RUNNING "
       ]
      },
      {
       "output_type": "stream",
       "stream": "stdout",
       "text": [
        "\r",
        "Waiting on bqjob_r365ca01a99897daf_00000145fc7d5bf3_130 ... (201s) Current status: RUNNING "
       ]
      },
      {
       "output_type": "stream",
       "stream": "stdout",
       "text": [
        "\r",
        "Waiting on bqjob_r365ca01a99897daf_00000145fc7d5bf3_130 ... (202s) Current status: RUNNING "
       ]
      },
      {
       "output_type": "stream",
       "stream": "stdout",
       "text": [
        "\r",
        "Waiting on bqjob_r365ca01a99897daf_00000145fc7d5bf3_130 ... (203s) Current status: RUNNING "
       ]
      },
      {
       "output_type": "stream",
       "stream": "stdout",
       "text": [
        "\r",
        "Waiting on bqjob_r365ca01a99897daf_00000145fc7d5bf3_130 ... (204s) Current status: RUNNING "
       ]
      },
      {
       "output_type": "stream",
       "stream": "stdout",
       "text": [
        "\r",
        "Waiting on bqjob_r365ca01a99897daf_00000145fc7d5bf3_130 ... (206s) Current status: RUNNING "
       ]
      },
      {
       "output_type": "stream",
       "stream": "stdout",
       "text": [
        "\r",
        "Waiting on bqjob_r365ca01a99897daf_00000145fc7d5bf3_130 ... (207s) Current status: RUNNING "
       ]
      },
      {
       "output_type": "stream",
       "stream": "stdout",
       "text": [
        "\r",
        "Waiting on bqjob_r365ca01a99897daf_00000145fc7d5bf3_130 ... (208s) Current status: RUNNING "
       ]
      },
      {
       "output_type": "stream",
       "stream": "stdout",
       "text": [
        "\r",
        "Waiting on bqjob_r365ca01a99897daf_00000145fc7d5bf3_130 ... (209s) Current status: RUNNING "
       ]
      },
      {
       "output_type": "stream",
       "stream": "stdout",
       "text": [
        "\r",
        "Waiting on bqjob_r365ca01a99897daf_00000145fc7d5bf3_130 ... (210s) Current status: RUNNING "
       ]
      },
      {
       "output_type": "stream",
       "stream": "stdout",
       "text": [
        "\r",
        "Waiting on bqjob_r365ca01a99897daf_00000145fc7d5bf3_130 ... (211s) Current status: RUNNING "
       ]
      },
      {
       "output_type": "stream",
       "stream": "stdout",
       "text": [
        "\r",
        "Waiting on bqjob_r365ca01a99897daf_00000145fc7d5bf3_130 ... (212s) Current status: RUNNING "
       ]
      },
      {
       "output_type": "stream",
       "stream": "stdout",
       "text": [
        "\r",
        "Waiting on bqjob_r365ca01a99897daf_00000145fc7d5bf3_130 ... (213s) Current status: RUNNING "
       ]
      },
      {
       "output_type": "stream",
       "stream": "stdout",
       "text": [
        "\r",
        "Waiting on bqjob_r365ca01a99897daf_00000145fc7d5bf3_130 ... (214s) Current status: RUNNING "
       ]
      },
      {
       "output_type": "stream",
       "stream": "stdout",
       "text": [
        "\r",
        "Waiting on bqjob_r365ca01a99897daf_00000145fc7d5bf3_130 ... (215s) Current status: RUNNING "
       ]
      },
      {
       "output_type": "stream",
       "stream": "stdout",
       "text": [
        "\r",
        "Waiting on bqjob_r365ca01a99897daf_00000145fc7d5bf3_130 ... (216s) Current status: RUNNING "
       ]
      },
      {
       "output_type": "stream",
       "stream": "stdout",
       "text": [
        "\r",
        "Waiting on bqjob_r365ca01a99897daf_00000145fc7d5bf3_130 ... (217s) Current status: RUNNING "
       ]
      },
      {
       "output_type": "stream",
       "stream": "stdout",
       "text": [
        "\r",
        "Waiting on bqjob_r365ca01a99897daf_00000145fc7d5bf3_130 ... (218s) Current status: RUNNING "
       ]
      },
      {
       "output_type": "stream",
       "stream": "stdout",
       "text": [
        "\r",
        "Waiting on bqjob_r365ca01a99897daf_00000145fc7d5bf3_130 ... (219s) Current status: RUNNING "
       ]
      },
      {
       "output_type": "stream",
       "stream": "stdout",
       "text": [
        "\r",
        "Waiting on bqjob_r365ca01a99897daf_00000145fc7d5bf3_130 ... (220s) Current status: RUNNING "
       ]
      },
      {
       "output_type": "stream",
       "stream": "stdout",
       "text": [
        "\r",
        "Waiting on bqjob_r365ca01a99897daf_00000145fc7d5bf3_130 ... (221s) Current status: RUNNING "
       ]
      },
      {
       "output_type": "stream",
       "stream": "stdout",
       "text": [
        "\r",
        "Waiting on bqjob_r365ca01a99897daf_00000145fc7d5bf3_130 ... (222s) Current status: RUNNING "
       ]
      },
      {
       "output_type": "stream",
       "stream": "stdout",
       "text": [
        "\r",
        "Waiting on bqjob_r365ca01a99897daf_00000145fc7d5bf3_130 ... (223s) Current status: RUNNING "
       ]
      },
      {
       "output_type": "stream",
       "stream": "stdout",
       "text": [
        "\r",
        "Waiting on bqjob_r365ca01a99897daf_00000145fc7d5bf3_130 ... (224s) Current status: RUNNING "
       ]
      },
      {
       "output_type": "stream",
       "stream": "stdout",
       "text": [
        "\r",
        "Waiting on bqjob_r365ca01a99897daf_00000145fc7d5bf3_130 ... (225s) Current status: RUNNING "
       ]
      },
      {
       "output_type": "stream",
       "stream": "stdout",
       "text": [
        "\r",
        "Waiting on bqjob_r365ca01a99897daf_00000145fc7d5bf3_130 ... (226s) Current status: RUNNING "
       ]
      },
      {
       "output_type": "stream",
       "stream": "stdout",
       "text": [
        "\r",
        "Waiting on bqjob_r365ca01a99897daf_00000145fc7d5bf3_130 ... (227s) Current status: RUNNING "
       ]
      },
      {
       "output_type": "stream",
       "stream": "stdout",
       "text": [
        "\r",
        "Waiting on bqjob_r365ca01a99897daf_00000145fc7d5bf3_130 ... (228s) Current status: RUNNING "
       ]
      },
      {
       "output_type": "stream",
       "stream": "stdout",
       "text": [
        "\r",
        "Waiting on bqjob_r365ca01a99897daf_00000145fc7d5bf3_130 ... (229s) Current status: RUNNING "
       ]
      },
      {
       "output_type": "stream",
       "stream": "stdout",
       "text": [
        "\r",
        "Waiting on bqjob_r365ca01a99897daf_00000145fc7d5bf3_130 ... (230s) Current status: RUNNING "
       ]
      },
      {
       "output_type": "stream",
       "stream": "stdout",
       "text": [
        "\r",
        "Waiting on bqjob_r365ca01a99897daf_00000145fc7d5bf3_130 ... (231s) Current status: RUNNING "
       ]
      },
      {
       "output_type": "stream",
       "stream": "stdout",
       "text": [
        "\r",
        "Waiting on bqjob_r365ca01a99897daf_00000145fc7d5bf3_130 ... (232s) Current status: RUNNING "
       ]
      },
      {
       "output_type": "stream",
       "stream": "stdout",
       "text": [
        "\r",
        "Waiting on bqjob_r365ca01a99897daf_00000145fc7d5bf3_130 ... (233s) Current status: RUNNING "
       ]
      },
      {
       "output_type": "stream",
       "stream": "stdout",
       "text": [
        "\r",
        "Waiting on bqjob_r365ca01a99897daf_00000145fc7d5bf3_130 ... (234s) Current status: RUNNING "
       ]
      },
      {
       "output_type": "stream",
       "stream": "stdout",
       "text": [
        "\r",
        "Waiting on bqjob_r365ca01a99897daf_00000145fc7d5bf3_130 ... (235s) Current status: RUNNING "
       ]
      },
      {
       "output_type": "stream",
       "stream": "stdout",
       "text": [
        "\r",
        "Waiting on bqjob_r365ca01a99897daf_00000145fc7d5bf3_130 ... (236s) Current status: RUNNING "
       ]
      },
      {
       "output_type": "stream",
       "stream": "stdout",
       "text": [
        "\r",
        "Waiting on bqjob_r365ca01a99897daf_00000145fc7d5bf3_130 ... (237s) Current status: RUNNING "
       ]
      },
      {
       "output_type": "stream",
       "stream": "stdout",
       "text": [
        "\r",
        "Waiting on bqjob_r365ca01a99897daf_00000145fc7d5bf3_130 ... (238s) Current status: RUNNING "
       ]
      },
      {
       "output_type": "stream",
       "stream": "stdout",
       "text": [
        "\r",
        "Waiting on bqjob_r365ca01a99897daf_00000145fc7d5bf3_130 ... (239s) Current status: RUNNING "
       ]
      },
      {
       "output_type": "stream",
       "stream": "stdout",
       "text": [
        "\r",
        "Waiting on bqjob_r365ca01a99897daf_00000145fc7d5bf3_130 ... (240s) Current status: RUNNING "
       ]
      },
      {
       "output_type": "stream",
       "stream": "stdout",
       "text": [
        "\r",
        "Waiting on bqjob_r365ca01a99897daf_00000145fc7d5bf3_130 ... (242s) Current status: RUNNING "
       ]
      },
      {
       "output_type": "stream",
       "stream": "stdout",
       "text": [
        "\r",
        "Waiting on bqjob_r365ca01a99897daf_00000145fc7d5bf3_130 ... (243s) Current status: RUNNING "
       ]
      },
      {
       "output_type": "stream",
       "stream": "stdout",
       "text": [
        "\r",
        "Waiting on bqjob_r365ca01a99897daf_00000145fc7d5bf3_130 ... (244s) Current status: RUNNING "
       ]
      },
      {
       "output_type": "stream",
       "stream": "stdout",
       "text": [
        "\r",
        "Waiting on bqjob_r365ca01a99897daf_00000145fc7d5bf3_130 ... (245s) Current status: RUNNING "
       ]
      },
      {
       "output_type": "stream",
       "stream": "stdout",
       "text": [
        "\r",
        "Waiting on bqjob_r365ca01a99897daf_00000145fc7d5bf3_130 ... (246s) Current status: RUNNING "
       ]
      },
      {
       "output_type": "stream",
       "stream": "stdout",
       "text": [
        "\r",
        "Waiting on bqjob_r365ca01a99897daf_00000145fc7d5bf3_130 ... (247s) Current status: RUNNING "
       ]
      },
      {
       "output_type": "stream",
       "stream": "stdout",
       "text": [
        "\r",
        "Waiting on bqjob_r365ca01a99897daf_00000145fc7d5bf3_130 ... (248s) Current status: RUNNING "
       ]
      },
      {
       "output_type": "stream",
       "stream": "stdout",
       "text": [
        "\r",
        "Waiting on bqjob_r365ca01a99897daf_00000145fc7d5bf3_130 ... (249s) Current status: RUNNING "
       ]
      },
      {
       "output_type": "stream",
       "stream": "stdout",
       "text": [
        "\r",
        "Waiting on bqjob_r365ca01a99897daf_00000145fc7d5bf3_130 ... (250s) Current status: RUNNING "
       ]
      },
      {
       "output_type": "stream",
       "stream": "stdout",
       "text": [
        "\r",
        "Waiting on bqjob_r365ca01a99897daf_00000145fc7d5bf3_130 ... (251s) Current status: RUNNING "
       ]
      },
      {
       "output_type": "stream",
       "stream": "stdout",
       "text": [
        "\r",
        "Waiting on bqjob_r365ca01a99897daf_00000145fc7d5bf3_130 ... (252s) Current status: RUNNING "
       ]
      },
      {
       "output_type": "stream",
       "stream": "stdout",
       "text": [
        "\r",
        "Waiting on bqjob_r365ca01a99897daf_00000145fc7d5bf3_130 ... (253s) Current status: RUNNING "
       ]
      },
      {
       "output_type": "stream",
       "stream": "stdout",
       "text": [
        "\r",
        "Waiting on bqjob_r365ca01a99897daf_00000145fc7d5bf3_130 ... (254s) Current status: RUNNING "
       ]
      },
      {
       "output_type": "stream",
       "stream": "stdout",
       "text": [
        "\r",
        "Waiting on bqjob_r365ca01a99897daf_00000145fc7d5bf3_130 ... (255s) Current status: RUNNING "
       ]
      },
      {
       "output_type": "stream",
       "stream": "stdout",
       "text": [
        "\r",
        "Waiting on bqjob_r365ca01a99897daf_00000145fc7d5bf3_130 ... (256s) Current status: RUNNING "
       ]
      },
      {
       "output_type": "stream",
       "stream": "stdout",
       "text": [
        "\r",
        "Waiting on bqjob_r365ca01a99897daf_00000145fc7d5bf3_130 ... (257s) Current status: RUNNING "
       ]
      },
      {
       "output_type": "stream",
       "stream": "stdout",
       "text": [
        "\r",
        "Waiting on bqjob_r365ca01a99897daf_00000145fc7d5bf3_130 ... (258s) Current status: RUNNING "
       ]
      },
      {
       "output_type": "stream",
       "stream": "stdout",
       "text": [
        "\r",
        "Waiting on bqjob_r365ca01a99897daf_00000145fc7d5bf3_130 ... (259s) Current status: RUNNING "
       ]
      },
      {
       "output_type": "stream",
       "stream": "stdout",
       "text": [
        "\r",
        "Waiting on bqjob_r365ca01a99897daf_00000145fc7d5bf3_130 ... (260s) Current status: RUNNING "
       ]
      },
      {
       "output_type": "stream",
       "stream": "stdout",
       "text": [
        "\r",
        "Waiting on bqjob_r365ca01a99897daf_00000145fc7d5bf3_130 ... (261s) Current status: RUNNING "
       ]
      },
      {
       "output_type": "stream",
       "stream": "stdout",
       "text": [
        "\r",
        "Waiting on bqjob_r365ca01a99897daf_00000145fc7d5bf3_130 ... (262s) Current status: RUNNING "
       ]
      },
      {
       "output_type": "stream",
       "stream": "stdout",
       "text": [
        "\r",
        "Waiting on bqjob_r365ca01a99897daf_00000145fc7d5bf3_130 ... (263s) Current status: RUNNING "
       ]
      },
      {
       "output_type": "stream",
       "stream": "stdout",
       "text": [
        "\r",
        "Waiting on bqjob_r365ca01a99897daf_00000145fc7d5bf3_130 ... (264s) Current status: RUNNING "
       ]
      },
      {
       "output_type": "stream",
       "stream": "stdout",
       "text": [
        "\r",
        "Waiting on bqjob_r365ca01a99897daf_00000145fc7d5bf3_130 ... (265s) Current status: RUNNING "
       ]
      },
      {
       "output_type": "stream",
       "stream": "stdout",
       "text": [
        "\r",
        "Waiting on bqjob_r365ca01a99897daf_00000145fc7d5bf3_130 ... (266s) Current status: RUNNING "
       ]
      },
      {
       "output_type": "stream",
       "stream": "stdout",
       "text": [
        "\r",
        "Waiting on bqjob_r365ca01a99897daf_00000145fc7d5bf3_130 ... (267s) Current status: RUNNING "
       ]
      },
      {
       "output_type": "stream",
       "stream": "stdout",
       "text": [
        "\r",
        "Waiting on bqjob_r365ca01a99897daf_00000145fc7d5bf3_130 ... (268s) Current status: RUNNING "
       ]
      },
      {
       "output_type": "stream",
       "stream": "stdout",
       "text": [
        "\r",
        "Waiting on bqjob_r365ca01a99897daf_00000145fc7d5bf3_130 ... (269s) Current status: RUNNING "
       ]
      },
      {
       "output_type": "stream",
       "stream": "stdout",
       "text": [
        "\r",
        "Waiting on bqjob_r365ca01a99897daf_00000145fc7d5bf3_130 ... (270s) Current status: RUNNING "
       ]
      },
      {
       "output_type": "stream",
       "stream": "stdout",
       "text": [
        "\r",
        "Waiting on bqjob_r365ca01a99897daf_00000145fc7d5bf3_130 ... (271s) Current status: RUNNING "
       ]
      },
      {
       "output_type": "stream",
       "stream": "stdout",
       "text": [
        "\r",
        "Waiting on bqjob_r365ca01a99897daf_00000145fc7d5bf3_130 ... (273s) Current status: RUNNING "
       ]
      },
      {
       "output_type": "stream",
       "stream": "stdout",
       "text": [
        "\r",
        "Waiting on bqjob_r365ca01a99897daf_00000145fc7d5bf3_130 ... (274s) Current status: RUNNING "
       ]
      },
      {
       "output_type": "stream",
       "stream": "stdout",
       "text": [
        "\r",
        "Waiting on bqjob_r365ca01a99897daf_00000145fc7d5bf3_130 ... (275s) Current status: RUNNING "
       ]
      },
      {
       "output_type": "stream",
       "stream": "stdout",
       "text": [
        "\r",
        "Waiting on bqjob_r365ca01a99897daf_00000145fc7d5bf3_130 ... (276s) Current status: RUNNING "
       ]
      },
      {
       "output_type": "stream",
       "stream": "stdout",
       "text": [
        "\r",
        "Waiting on bqjob_r365ca01a99897daf_00000145fc7d5bf3_130 ... (277s) Current status: RUNNING "
       ]
      },
      {
       "output_type": "stream",
       "stream": "stdout",
       "text": [
        "\r",
        "Waiting on bqjob_r365ca01a99897daf_00000145fc7d5bf3_130 ... (278s) Current status: RUNNING "
       ]
      },
      {
       "output_type": "stream",
       "stream": "stdout",
       "text": [
        "\r",
        "Waiting on bqjob_r365ca01a99897daf_00000145fc7d5bf3_130 ... (279s) Current status: RUNNING "
       ]
      },
      {
       "output_type": "stream",
       "stream": "stdout",
       "text": [
        "\r",
        "Waiting on bqjob_r365ca01a99897daf_00000145fc7d5bf3_130 ... (280s) Current status: RUNNING "
       ]
      },
      {
       "output_type": "stream",
       "stream": "stdout",
       "text": [
        "\r",
        "Waiting on bqjob_r365ca01a99897daf_00000145fc7d5bf3_130 ... (281s) Current status: RUNNING "
       ]
      },
      {
       "output_type": "stream",
       "stream": "stdout",
       "text": [
        "\r",
        "Waiting on bqjob_r365ca01a99897daf_00000145fc7d5bf3_130 ... (282s) Current status: RUNNING "
       ]
      },
      {
       "output_type": "stream",
       "stream": "stdout",
       "text": [
        "\r",
        "Waiting on bqjob_r365ca01a99897daf_00000145fc7d5bf3_130 ... (283s) Current status: RUNNING "
       ]
      },
      {
       "output_type": "stream",
       "stream": "stdout",
       "text": [
        "\r",
        "Waiting on bqjob_r365ca01a99897daf_00000145fc7d5bf3_130 ... (284s) Current status: RUNNING "
       ]
      },
      {
       "output_type": "stream",
       "stream": "stdout",
       "text": [
        "\r",
        "Waiting on bqjob_r365ca01a99897daf_00000145fc7d5bf3_130 ... (285s) Current status: RUNNING "
       ]
      },
      {
       "output_type": "stream",
       "stream": "stdout",
       "text": [
        "\r",
        "Waiting on bqjob_r365ca01a99897daf_00000145fc7d5bf3_130 ... (286s) Current status: RUNNING "
       ]
      },
      {
       "output_type": "stream",
       "stream": "stdout",
       "text": [
        "\r",
        "Waiting on bqjob_r365ca01a99897daf_00000145fc7d5bf3_130 ... (287s) Current status: RUNNING "
       ]
      },
      {
       "output_type": "stream",
       "stream": "stdout",
       "text": [
        "\r",
        "Waiting on bqjob_r365ca01a99897daf_00000145fc7d5bf3_130 ... (288s) Current status: RUNNING "
       ]
      },
      {
       "output_type": "stream",
       "stream": "stdout",
       "text": [
        "\r",
        "Waiting on bqjob_r365ca01a99897daf_00000145fc7d5bf3_130 ... (289s) Current status: RUNNING "
       ]
      },
      {
       "output_type": "stream",
       "stream": "stdout",
       "text": [
        "\r",
        "Waiting on bqjob_r365ca01a99897daf_00000145fc7d5bf3_130 ... (290s) Current status: RUNNING "
       ]
      },
      {
       "output_type": "stream",
       "stream": "stdout",
       "text": [
        "\r",
        "Waiting on bqjob_r365ca01a99897daf_00000145fc7d5bf3_130 ... (291s) Current status: RUNNING "
       ]
      },
      {
       "output_type": "stream",
       "stream": "stdout",
       "text": [
        "\r",
        "Waiting on bqjob_r365ca01a99897daf_00000145fc7d5bf3_130 ... (292s) Current status: RUNNING "
       ]
      },
      {
       "output_type": "stream",
       "stream": "stdout",
       "text": [
        "\r",
        "Waiting on bqjob_r365ca01a99897daf_00000145fc7d5bf3_130 ... (293s) Current status: RUNNING "
       ]
      },
      {
       "output_type": "stream",
       "stream": "stdout",
       "text": [
        "\r",
        "Waiting on bqjob_r365ca01a99897daf_00000145fc7d5bf3_130 ... (294s) Current status: RUNNING "
       ]
      },
      {
       "output_type": "stream",
       "stream": "stdout",
       "text": [
        "\r",
        "Waiting on bqjob_r365ca01a99897daf_00000145fc7d5bf3_130 ... (295s) Current status: RUNNING "
       ]
      },
      {
       "output_type": "stream",
       "stream": "stdout",
       "text": [
        "\r",
        "Waiting on bqjob_r365ca01a99897daf_00000145fc7d5bf3_130 ... (296s) Current status: RUNNING "
       ]
      },
      {
       "output_type": "stream",
       "stream": "stdout",
       "text": [
        "\r",
        "Waiting on bqjob_r365ca01a99897daf_00000145fc7d5bf3_130 ... (297s) Current status: RUNNING "
       ]
      },
      {
       "output_type": "stream",
       "stream": "stdout",
       "text": [
        "\r",
        "Waiting on bqjob_r365ca01a99897daf_00000145fc7d5bf3_130 ... (298s) Current status: RUNNING "
       ]
      },
      {
       "output_type": "stream",
       "stream": "stdout",
       "text": [
        "\r",
        "Waiting on bqjob_r365ca01a99897daf_00000145fc7d5bf3_130 ... (299s) Current status: RUNNING "
       ]
      },
      {
       "output_type": "stream",
       "stream": "stdout",
       "text": [
        "\r",
        "Waiting on bqjob_r365ca01a99897daf_00000145fc7d5bf3_130 ... (300s) Current status: RUNNING "
       ]
      },
      {
       "output_type": "stream",
       "stream": "stdout",
       "text": [
        "\r",
        "Waiting on bqjob_r365ca01a99897daf_00000145fc7d5bf3_130 ... (301s) Current status: RUNNING "
       ]
      },
      {
       "output_type": "stream",
       "stream": "stdout",
       "text": [
        "\r",
        "Waiting on bqjob_r365ca01a99897daf_00000145fc7d5bf3_130 ... (302s) Current status: RUNNING "
       ]
      },
      {
       "output_type": "stream",
       "stream": "stdout",
       "text": [
        "\r",
        "Waiting on bqjob_r365ca01a99897daf_00000145fc7d5bf3_130 ... (304s) Current status: RUNNING "
       ]
      },
      {
       "output_type": "stream",
       "stream": "stdout",
       "text": [
        "\r",
        "Waiting on bqjob_r365ca01a99897daf_00000145fc7d5bf3_130 ... (305s) Current status: RUNNING "
       ]
      },
      {
       "output_type": "stream",
       "stream": "stdout",
       "text": [
        "\r",
        "Waiting on bqjob_r365ca01a99897daf_00000145fc7d5bf3_130 ... (306s) Current status: RUNNING "
       ]
      },
      {
       "output_type": "stream",
       "stream": "stdout",
       "text": [
        "\r",
        "Waiting on bqjob_r365ca01a99897daf_00000145fc7d5bf3_130 ... (307s) Current status: RUNNING "
       ]
      },
      {
       "output_type": "stream",
       "stream": "stdout",
       "text": [
        "\r",
        "Waiting on bqjob_r365ca01a99897daf_00000145fc7d5bf3_130 ... (308s) Current status: RUNNING "
       ]
      },
      {
       "output_type": "stream",
       "stream": "stdout",
       "text": [
        "\r",
        "Waiting on bqjob_r365ca01a99897daf_00000145fc7d5bf3_130 ... (309s) Current status: RUNNING "
       ]
      },
      {
       "output_type": "stream",
       "stream": "stdout",
       "text": [
        "\r",
        "Waiting on bqjob_r365ca01a99897daf_00000145fc7d5bf3_130 ... (310s) Current status: RUNNING "
       ]
      },
      {
       "output_type": "stream",
       "stream": "stdout",
       "text": [
        "\r",
        "Waiting on bqjob_r365ca01a99897daf_00000145fc7d5bf3_130 ... (311s) Current status: RUNNING "
       ]
      },
      {
       "output_type": "stream",
       "stream": "stdout",
       "text": [
        "\r",
        "Waiting on bqjob_r365ca01a99897daf_00000145fc7d5bf3_130 ... (312s) Current status: RUNNING "
       ]
      },
      {
       "output_type": "stream",
       "stream": "stdout",
       "text": [
        "\r",
        "Waiting on bqjob_r365ca01a99897daf_00000145fc7d5bf3_130 ... (313s) Current status: RUNNING "
       ]
      },
      {
       "output_type": "stream",
       "stream": "stdout",
       "text": [
        "\r",
        "Waiting on bqjob_r365ca01a99897daf_00000145fc7d5bf3_130 ... (314s) Current status: RUNNING "
       ]
      },
      {
       "output_type": "stream",
       "stream": "stdout",
       "text": [
        "\r",
        "Waiting on bqjob_r365ca01a99897daf_00000145fc7d5bf3_130 ... (315s) Current status: RUNNING "
       ]
      },
      {
       "output_type": "stream",
       "stream": "stdout",
       "text": [
        "\r",
        "Waiting on bqjob_r365ca01a99897daf_00000145fc7d5bf3_130 ... (316s) Current status: RUNNING "
       ]
      },
      {
       "output_type": "stream",
       "stream": "stdout",
       "text": [
        "\r",
        "Waiting on bqjob_r365ca01a99897daf_00000145fc7d5bf3_130 ... (317s) Current status: RUNNING "
       ]
      },
      {
       "output_type": "stream",
       "stream": "stdout",
       "text": [
        "\r",
        "Waiting on bqjob_r365ca01a99897daf_00000145fc7d5bf3_130 ... (318s) Current status: RUNNING "
       ]
      },
      {
       "output_type": "stream",
       "stream": "stdout",
       "text": [
        "\r",
        "Waiting on bqjob_r365ca01a99897daf_00000145fc7d5bf3_130 ... (319s) Current status: RUNNING "
       ]
      },
      {
       "output_type": "stream",
       "stream": "stdout",
       "text": [
        "\r",
        "Waiting on bqjob_r365ca01a99897daf_00000145fc7d5bf3_130 ... (320s) Current status: RUNNING "
       ]
      },
      {
       "output_type": "stream",
       "stream": "stdout",
       "text": [
        "\r",
        "Waiting on bqjob_r365ca01a99897daf_00000145fc7d5bf3_130 ... (321s) Current status: RUNNING "
       ]
      },
      {
       "output_type": "stream",
       "stream": "stdout",
       "text": [
        "\r",
        "Waiting on bqjob_r365ca01a99897daf_00000145fc7d5bf3_130 ... (322s) Current status: RUNNING "
       ]
      },
      {
       "output_type": "stream",
       "stream": "stdout",
       "text": [
        "\r",
        "Waiting on bqjob_r365ca01a99897daf_00000145fc7d5bf3_130 ... (323s) Current status: RUNNING "
       ]
      },
      {
       "output_type": "stream",
       "stream": "stdout",
       "text": [
        "\r",
        "Waiting on bqjob_r365ca01a99897daf_00000145fc7d5bf3_130 ... (324s) Current status: RUNNING "
       ]
      },
      {
       "output_type": "stream",
       "stream": "stdout",
       "text": [
        "\r",
        "Waiting on bqjob_r365ca01a99897daf_00000145fc7d5bf3_130 ... (325s) Current status: RUNNING "
       ]
      },
      {
       "output_type": "stream",
       "stream": "stdout",
       "text": [
        "\r",
        "Waiting on bqjob_r365ca01a99897daf_00000145fc7d5bf3_130 ... (326s) Current status: RUNNING "
       ]
      },
      {
       "output_type": "stream",
       "stream": "stdout",
       "text": [
        "\r",
        "Waiting on bqjob_r365ca01a99897daf_00000145fc7d5bf3_130 ... (327s) Current status: RUNNING "
       ]
      },
      {
       "output_type": "stream",
       "stream": "stdout",
       "text": [
        "\r",
        "Waiting on bqjob_r365ca01a99897daf_00000145fc7d5bf3_130 ... (328s) Current status: RUNNING "
       ]
      },
      {
       "output_type": "stream",
       "stream": "stdout",
       "text": [
        "\r",
        "Waiting on bqjob_r365ca01a99897daf_00000145fc7d5bf3_130 ... (329s) Current status: RUNNING "
       ]
      },
      {
       "output_type": "stream",
       "stream": "stdout",
       "text": [
        "\r",
        "Waiting on bqjob_r365ca01a99897daf_00000145fc7d5bf3_130 ... (330s) Current status: RUNNING "
       ]
      },
      {
       "output_type": "stream",
       "stream": "stdout",
       "text": [
        "\r",
        "Waiting on bqjob_r365ca01a99897daf_00000145fc7d5bf3_130 ... (331s) Current status: RUNNING "
       ]
      },
      {
       "output_type": "stream",
       "stream": "stdout",
       "text": [
        "\r",
        "Waiting on bqjob_r365ca01a99897daf_00000145fc7d5bf3_130 ... (332s) Current status: RUNNING "
       ]
      },
      {
       "output_type": "stream",
       "stream": "stdout",
       "text": [
        "\r",
        "Waiting on bqjob_r365ca01a99897daf_00000145fc7d5bf3_130 ... (333s) Current status: RUNNING "
       ]
      },
      {
       "output_type": "stream",
       "stream": "stdout",
       "text": [
        "\r",
        "Waiting on bqjob_r365ca01a99897daf_00000145fc7d5bf3_130 ... (335s) Current status: RUNNING "
       ]
      },
      {
       "output_type": "stream",
       "stream": "stdout",
       "text": [
        "\r",
        "Waiting on bqjob_r365ca01a99897daf_00000145fc7d5bf3_130 ... (336s) Current status: RUNNING "
       ]
      },
      {
       "output_type": "stream",
       "stream": "stdout",
       "text": [
        "\r",
        "Waiting on bqjob_r365ca01a99897daf_00000145fc7d5bf3_130 ... (337s) Current status: RUNNING "
       ]
      },
      {
       "output_type": "stream",
       "stream": "stdout",
       "text": [
        "\r",
        "Waiting on bqjob_r365ca01a99897daf_00000145fc7d5bf3_130 ... (338s) Current status: RUNNING "
       ]
      },
      {
       "output_type": "stream",
       "stream": "stdout",
       "text": [
        "\r",
        "Waiting on bqjob_r365ca01a99897daf_00000145fc7d5bf3_130 ... (339s) Current status: RUNNING "
       ]
      },
      {
       "output_type": "stream",
       "stream": "stdout",
       "text": [
        "\r",
        "Waiting on bqjob_r365ca01a99897daf_00000145fc7d5bf3_130 ... (340s) Current status: RUNNING "
       ]
      },
      {
       "output_type": "stream",
       "stream": "stdout",
       "text": [
        "\r",
        "Waiting on bqjob_r365ca01a99897daf_00000145fc7d5bf3_130 ... (341s) Current status: RUNNING "
       ]
      },
      {
       "output_type": "stream",
       "stream": "stdout",
       "text": [
        "\r",
        "Waiting on bqjob_r365ca01a99897daf_00000145fc7d5bf3_130 ... (342s) Current status: RUNNING "
       ]
      },
      {
       "output_type": "stream",
       "stream": "stdout",
       "text": [
        "\r",
        "Waiting on bqjob_r365ca01a99897daf_00000145fc7d5bf3_130 ... (343s) Current status: RUNNING "
       ]
      },
      {
       "output_type": "stream",
       "stream": "stdout",
       "text": [
        "\r",
        "Waiting on bqjob_r365ca01a99897daf_00000145fc7d5bf3_130 ... (344s) Current status: RUNNING "
       ]
      },
      {
       "output_type": "stream",
       "stream": "stdout",
       "text": [
        "\r",
        "Waiting on bqjob_r365ca01a99897daf_00000145fc7d5bf3_130 ... (345s) Current status: RUNNING "
       ]
      },
      {
       "output_type": "stream",
       "stream": "stdout",
       "text": [
        "\r",
        "Waiting on bqjob_r365ca01a99897daf_00000145fc7d5bf3_130 ... (346s) Current status: RUNNING "
       ]
      },
      {
       "output_type": "stream",
       "stream": "stdout",
       "text": [
        "\r",
        "Waiting on bqjob_r365ca01a99897daf_00000145fc7d5bf3_130 ... (347s) Current status: RUNNING "
       ]
      },
      {
       "output_type": "stream",
       "stream": "stdout",
       "text": [
        "\r",
        "Waiting on bqjob_r365ca01a99897daf_00000145fc7d5bf3_130 ... (348s) Current status: RUNNING "
       ]
      },
      {
       "output_type": "stream",
       "stream": "stdout",
       "text": [
        "\r",
        "Waiting on bqjob_r365ca01a99897daf_00000145fc7d5bf3_130 ... (349s) Current status: RUNNING "
       ]
      },
      {
       "output_type": "stream",
       "stream": "stdout",
       "text": [
        "\r",
        "Waiting on bqjob_r365ca01a99897daf_00000145fc7d5bf3_130 ... (350s) Current status: RUNNING "
       ]
      },
      {
       "output_type": "stream",
       "stream": "stdout",
       "text": [
        "\r",
        "Waiting on bqjob_r365ca01a99897daf_00000145fc7d5bf3_130 ... (351s) Current status: RUNNING "
       ]
      },
      {
       "output_type": "stream",
       "stream": "stdout",
       "text": [
        "\r",
        "Waiting on bqjob_r365ca01a99897daf_00000145fc7d5bf3_130 ... (352s) Current status: RUNNING "
       ]
      },
      {
       "output_type": "stream",
       "stream": "stdout",
       "text": [
        "\r",
        "Waiting on bqjob_r365ca01a99897daf_00000145fc7d5bf3_130 ... (353s) Current status: RUNNING "
       ]
      },
      {
       "output_type": "stream",
       "stream": "stdout",
       "text": [
        "\r",
        "Waiting on bqjob_r365ca01a99897daf_00000145fc7d5bf3_130 ... (354s) Current status: RUNNING "
       ]
      },
      {
       "output_type": "stream",
       "stream": "stdout",
       "text": [
        "\r",
        "Waiting on bqjob_r365ca01a99897daf_00000145fc7d5bf3_130 ... (355s) Current status: RUNNING "
       ]
      },
      {
       "output_type": "stream",
       "stream": "stdout",
       "text": [
        "\r",
        "Waiting on bqjob_r365ca01a99897daf_00000145fc7d5bf3_130 ... (356s) Current status: RUNNING "
       ]
      },
      {
       "output_type": "stream",
       "stream": "stdout",
       "text": [
        "\r",
        "Waiting on bqjob_r365ca01a99897daf_00000145fc7d5bf3_130 ... (357s) Current status: RUNNING "
       ]
      },
      {
       "output_type": "stream",
       "stream": "stdout",
       "text": [
        "\r",
        "Waiting on bqjob_r365ca01a99897daf_00000145fc7d5bf3_130 ... (358s) Current status: RUNNING "
       ]
      },
      {
       "output_type": "stream",
       "stream": "stdout",
       "text": [
        "\r",
        "Waiting on bqjob_r365ca01a99897daf_00000145fc7d5bf3_130 ... (359s) Current status: RUNNING "
       ]
      },
      {
       "output_type": "stream",
       "stream": "stdout",
       "text": [
        "\r",
        "Waiting on bqjob_r365ca01a99897daf_00000145fc7d5bf3_130 ... (360s) Current status: RUNNING "
       ]
      },
      {
       "output_type": "stream",
       "stream": "stdout",
       "text": [
        "\r",
        "Waiting on bqjob_r365ca01a99897daf_00000145fc7d5bf3_130 ... (361s) Current status: RUNNING "
       ]
      },
      {
       "output_type": "stream",
       "stream": "stdout",
       "text": [
        "\r",
        "Waiting on bqjob_r365ca01a99897daf_00000145fc7d5bf3_130 ... (362s) Current status: RUNNING "
       ]
      },
      {
       "output_type": "stream",
       "stream": "stdout",
       "text": [
        "\r",
        "Waiting on bqjob_r365ca01a99897daf_00000145fc7d5bf3_130 ... (363s) Current status: RUNNING "
       ]
      },
      {
       "output_type": "stream",
       "stream": "stdout",
       "text": [
        "\r",
        "Waiting on bqjob_r365ca01a99897daf_00000145fc7d5bf3_130 ... (364s) Current status: RUNNING "
       ]
      },
      {
       "output_type": "stream",
       "stream": "stdout",
       "text": [
        "\r",
        "Waiting on bqjob_r365ca01a99897daf_00000145fc7d5bf3_130 ... (366s) Current status: RUNNING "
       ]
      },
      {
       "output_type": "stream",
       "stream": "stdout",
       "text": [
        "\r",
        "Waiting on bqjob_r365ca01a99897daf_00000145fc7d5bf3_130 ... (367s) Current status: RUNNING "
       ]
      },
      {
       "output_type": "stream",
       "stream": "stdout",
       "text": [
        "\r",
        "Waiting on bqjob_r365ca01a99897daf_00000145fc7d5bf3_130 ... (368s) Current status: RUNNING "
       ]
      },
      {
       "output_type": "stream",
       "stream": "stdout",
       "text": [
        "\r",
        "Waiting on bqjob_r365ca01a99897daf_00000145fc7d5bf3_130 ... (369s) Current status: RUNNING "
       ]
      },
      {
       "output_type": "stream",
       "stream": "stdout",
       "text": [
        "\r",
        "Waiting on bqjob_r365ca01a99897daf_00000145fc7d5bf3_130 ... (370s) Current status: RUNNING "
       ]
      },
      {
       "output_type": "stream",
       "stream": "stdout",
       "text": [
        "\r",
        "Waiting on bqjob_r365ca01a99897daf_00000145fc7d5bf3_130 ... (371s) Current status: RUNNING "
       ]
      },
      {
       "output_type": "stream",
       "stream": "stdout",
       "text": [
        "\r",
        "Waiting on bqjob_r365ca01a99897daf_00000145fc7d5bf3_130 ... (372s) Current status: RUNNING "
       ]
      },
      {
       "output_type": "stream",
       "stream": "stdout",
       "text": [
        "\r",
        "Waiting on bqjob_r365ca01a99897daf_00000145fc7d5bf3_130 ... (373s) Current status: RUNNING "
       ]
      },
      {
       "output_type": "stream",
       "stream": "stdout",
       "text": [
        "\r",
        "Waiting on bqjob_r365ca01a99897daf_00000145fc7d5bf3_130 ... (374s) Current status: RUNNING "
       ]
      },
      {
       "output_type": "stream",
       "stream": "stdout",
       "text": [
        "\r",
        "Waiting on bqjob_r365ca01a99897daf_00000145fc7d5bf3_130 ... (375s) Current status: RUNNING "
       ]
      },
      {
       "output_type": "stream",
       "stream": "stdout",
       "text": [
        "\r",
        "Waiting on bqjob_r365ca01a99897daf_00000145fc7d5bf3_130 ... (376s) Current status: RUNNING "
       ]
      },
      {
       "output_type": "stream",
       "stream": "stdout",
       "text": [
        "\r",
        "Waiting on bqjob_r365ca01a99897daf_00000145fc7d5bf3_130 ... (377s) Current status: RUNNING "
       ]
      },
      {
       "output_type": "stream",
       "stream": "stdout",
       "text": [
        "\r",
        "Waiting on bqjob_r365ca01a99897daf_00000145fc7d5bf3_130 ... (378s) Current status: RUNNING "
       ]
      },
      {
       "output_type": "stream",
       "stream": "stdout",
       "text": [
        "\r",
        "Waiting on bqjob_r365ca01a99897daf_00000145fc7d5bf3_130 ... (379s) Current status: RUNNING "
       ]
      },
      {
       "output_type": "stream",
       "stream": "stdout",
       "text": [
        "\r",
        "Waiting on bqjob_r365ca01a99897daf_00000145fc7d5bf3_130 ... (380s) Current status: RUNNING "
       ]
      },
      {
       "output_type": "stream",
       "stream": "stdout",
       "text": [
        "\r",
        "Waiting on bqjob_r365ca01a99897daf_00000145fc7d5bf3_130 ... (381s) Current status: RUNNING "
       ]
      },
      {
       "output_type": "stream",
       "stream": "stdout",
       "text": [
        "\r",
        "Waiting on bqjob_r365ca01a99897daf_00000145fc7d5bf3_130 ... (382s) Current status: RUNNING "
       ]
      },
      {
       "output_type": "stream",
       "stream": "stdout",
       "text": [
        "\r",
        "Waiting on bqjob_r365ca01a99897daf_00000145fc7d5bf3_130 ... (383s) Current status: RUNNING "
       ]
      },
      {
       "output_type": "stream",
       "stream": "stdout",
       "text": [
        "\r",
        "Waiting on bqjob_r365ca01a99897daf_00000145fc7d5bf3_130 ... (384s) Current status: RUNNING "
       ]
      },
      {
       "output_type": "stream",
       "stream": "stdout",
       "text": [
        "\r",
        "Waiting on bqjob_r365ca01a99897daf_00000145fc7d5bf3_130 ... (385s) Current status: RUNNING "
       ]
      },
      {
       "output_type": "stream",
       "stream": "stdout",
       "text": [
        "\r",
        "Waiting on bqjob_r365ca01a99897daf_00000145fc7d5bf3_130 ... (386s) Current status: RUNNING "
       ]
      },
      {
       "output_type": "stream",
       "stream": "stdout",
       "text": [
        "\r",
        "Waiting on bqjob_r365ca01a99897daf_00000145fc7d5bf3_130 ... (387s) Current status: RUNNING "
       ]
      },
      {
       "output_type": "stream",
       "stream": "stdout",
       "text": [
        "\r",
        "Waiting on bqjob_r365ca01a99897daf_00000145fc7d5bf3_130 ... (388s) Current status: RUNNING "
       ]
      },
      {
       "output_type": "stream",
       "stream": "stdout",
       "text": [
        "\r",
        "Waiting on bqjob_r365ca01a99897daf_00000145fc7d5bf3_130 ... (389s) Current status: RUNNING "
       ]
      },
      {
       "output_type": "stream",
       "stream": "stdout",
       "text": [
        "\r",
        "Waiting on bqjob_r365ca01a99897daf_00000145fc7d5bf3_130 ... (390s) Current status: RUNNING "
       ]
      },
      {
       "output_type": "stream",
       "stream": "stdout",
       "text": [
        "\r",
        "Waiting on bqjob_r365ca01a99897daf_00000145fc7d5bf3_130 ... (391s) Current status: RUNNING "
       ]
      },
      {
       "output_type": "stream",
       "stream": "stdout",
       "text": [
        "\r",
        "Waiting on bqjob_r365ca01a99897daf_00000145fc7d5bf3_130 ... (392s) Current status: RUNNING "
       ]
      },
      {
       "output_type": "stream",
       "stream": "stdout",
       "text": [
        "\r",
        "Waiting on bqjob_r365ca01a99897daf_00000145fc7d5bf3_130 ... (393s) Current status: RUNNING "
       ]
      },
      {
       "output_type": "stream",
       "stream": "stdout",
       "text": [
        "\r",
        "Waiting on bqjob_r365ca01a99897daf_00000145fc7d5bf3_130 ... (394s) Current status: RUNNING "
       ]
      },
      {
       "output_type": "stream",
       "stream": "stdout",
       "text": [
        "\r",
        "Waiting on bqjob_r365ca01a99897daf_00000145fc7d5bf3_130 ... (395s) Current status: RUNNING "
       ]
      },
      {
       "output_type": "stream",
       "stream": "stdout",
       "text": [
        "\r",
        "Waiting on bqjob_r365ca01a99897daf_00000145fc7d5bf3_130 ... (397s) Current status: RUNNING "
       ]
      },
      {
       "output_type": "stream",
       "stream": "stdout",
       "text": [
        "\r",
        "Waiting on bqjob_r365ca01a99897daf_00000145fc7d5bf3_130 ... (398s) Current status: RUNNING "
       ]
      },
      {
       "output_type": "stream",
       "stream": "stdout",
       "text": [
        "\r",
        "Waiting on bqjob_r365ca01a99897daf_00000145fc7d5bf3_130 ... (399s) Current status: RUNNING "
       ]
      },
      {
       "output_type": "stream",
       "stream": "stdout",
       "text": [
        "\r",
        "Waiting on bqjob_r365ca01a99897daf_00000145fc7d5bf3_130 ... (400s) Current status: RUNNING "
       ]
      },
      {
       "output_type": "stream",
       "stream": "stdout",
       "text": [
        "\r",
        "Waiting on bqjob_r365ca01a99897daf_00000145fc7d5bf3_130 ... (401s) Current status: RUNNING "
       ]
      },
      {
       "output_type": "stream",
       "stream": "stdout",
       "text": [
        "\r",
        "Waiting on bqjob_r365ca01a99897daf_00000145fc7d5bf3_130 ... (402s) Current status: RUNNING "
       ]
      },
      {
       "output_type": "stream",
       "stream": "stdout",
       "text": [
        "\r",
        "Waiting on bqjob_r365ca01a99897daf_00000145fc7d5bf3_130 ... (403s) Current status: RUNNING "
       ]
      },
      {
       "output_type": "stream",
       "stream": "stdout",
       "text": [
        "\r",
        "Waiting on bqjob_r365ca01a99897daf_00000145fc7d5bf3_130 ... (404s) Current status: RUNNING "
       ]
      },
      {
       "output_type": "stream",
       "stream": "stdout",
       "text": [
        "\r",
        "Waiting on bqjob_r365ca01a99897daf_00000145fc7d5bf3_130 ... (405s) Current status: RUNNING "
       ]
      },
      {
       "output_type": "stream",
       "stream": "stdout",
       "text": [
        "\r",
        "Waiting on bqjob_r365ca01a99897daf_00000145fc7d5bf3_130 ... (406s) Current status: RUNNING "
       ]
      },
      {
       "output_type": "stream",
       "stream": "stdout",
       "text": [
        "\r",
        "Waiting on bqjob_r365ca01a99897daf_00000145fc7d5bf3_130 ... (407s) Current status: RUNNING "
       ]
      },
      {
       "output_type": "stream",
       "stream": "stdout",
       "text": [
        "\r",
        "Waiting on bqjob_r365ca01a99897daf_00000145fc7d5bf3_130 ... (408s) Current status: RUNNING "
       ]
      },
      {
       "output_type": "stream",
       "stream": "stdout",
       "text": [
        "\r",
        "Waiting on bqjob_r365ca01a99897daf_00000145fc7d5bf3_130 ... (409s) Current status: RUNNING "
       ]
      },
      {
       "output_type": "stream",
       "stream": "stdout",
       "text": [
        "\r",
        "Waiting on bqjob_r365ca01a99897daf_00000145fc7d5bf3_130 ... (410s) Current status: RUNNING "
       ]
      },
      {
       "output_type": "stream",
       "stream": "stdout",
       "text": [
        "\r",
        "Waiting on bqjob_r365ca01a99897daf_00000145fc7d5bf3_130 ... (411s) Current status: RUNNING "
       ]
      },
      {
       "output_type": "stream",
       "stream": "stdout",
       "text": [
        "\r",
        "Waiting on bqjob_r365ca01a99897daf_00000145fc7d5bf3_130 ... (412s) Current status: RUNNING "
       ]
      },
      {
       "output_type": "stream",
       "stream": "stdout",
       "text": [
        "\r",
        "Waiting on bqjob_r365ca01a99897daf_00000145fc7d5bf3_130 ... (413s) Current status: RUNNING "
       ]
      },
      {
       "output_type": "stream",
       "stream": "stdout",
       "text": [
        "\r",
        "Waiting on bqjob_r365ca01a99897daf_00000145fc7d5bf3_130 ... (414s) Current status: RUNNING "
       ]
      },
      {
       "output_type": "stream",
       "stream": "stdout",
       "text": [
        "\r",
        "Waiting on bqjob_r365ca01a99897daf_00000145fc7d5bf3_130 ... (415s) Current status: RUNNING "
       ]
      },
      {
       "output_type": "stream",
       "stream": "stdout",
       "text": [
        "\r",
        "Waiting on bqjob_r365ca01a99897daf_00000145fc7d5bf3_130 ... (416s) Current status: RUNNING "
       ]
      },
      {
       "output_type": "stream",
       "stream": "stdout",
       "text": [
        "\r",
        "Waiting on bqjob_r365ca01a99897daf_00000145fc7d5bf3_130 ... (417s) Current status: RUNNING "
       ]
      },
      {
       "output_type": "stream",
       "stream": "stdout",
       "text": [
        "\r",
        "Waiting on bqjob_r365ca01a99897daf_00000145fc7d5bf3_130 ... (418s) Current status: RUNNING "
       ]
      },
      {
       "output_type": "stream",
       "stream": "stdout",
       "text": [
        "\r",
        "Waiting on bqjob_r365ca01a99897daf_00000145fc7d5bf3_130 ... (419s) Current status: RUNNING "
       ]
      },
      {
       "output_type": "stream",
       "stream": "stdout",
       "text": [
        "\r",
        "Waiting on bqjob_r365ca01a99897daf_00000145fc7d5bf3_130 ... (420s) Current status: RUNNING "
       ]
      },
      {
       "output_type": "stream",
       "stream": "stdout",
       "text": [
        "\r",
        "Waiting on bqjob_r365ca01a99897daf_00000145fc7d5bf3_130 ... (421s) Current status: RUNNING "
       ]
      },
      {
       "output_type": "stream",
       "stream": "stdout",
       "text": [
        "\r",
        "Waiting on bqjob_r365ca01a99897daf_00000145fc7d5bf3_130 ... (422s) Current status: RUNNING "
       ]
      },
      {
       "output_type": "stream",
       "stream": "stdout",
       "text": [
        "\r",
        "Waiting on bqjob_r365ca01a99897daf_00000145fc7d5bf3_130 ... (423s) Current status: RUNNING "
       ]
      },
      {
       "output_type": "stream",
       "stream": "stdout",
       "text": [
        "\r",
        "Waiting on bqjob_r365ca01a99897daf_00000145fc7d5bf3_130 ... (424s) Current status: RUNNING "
       ]
      },
      {
       "output_type": "stream",
       "stream": "stdout",
       "text": [
        "\r",
        "Waiting on bqjob_r365ca01a99897daf_00000145fc7d5bf3_130 ... (425s) Current status: RUNNING "
       ]
      },
      {
       "output_type": "stream",
       "stream": "stdout",
       "text": [
        "\r",
        "Waiting on bqjob_r365ca01a99897daf_00000145fc7d5bf3_130 ... (426s) Current status: RUNNING "
       ]
      },
      {
       "output_type": "stream",
       "stream": "stdout",
       "text": [
        "\r",
        "Waiting on bqjob_r365ca01a99897daf_00000145fc7d5bf3_130 ... (428s) Current status: RUNNING "
       ]
      },
      {
       "output_type": "stream",
       "stream": "stdout",
       "text": [
        "\r",
        "Waiting on bqjob_r365ca01a99897daf_00000145fc7d5bf3_130 ... (429s) Current status: RUNNING "
       ]
      },
      {
       "output_type": "stream",
       "stream": "stdout",
       "text": [
        "\r",
        "Waiting on bqjob_r365ca01a99897daf_00000145fc7d5bf3_130 ... (430s) Current status: RUNNING "
       ]
      },
      {
       "output_type": "stream",
       "stream": "stdout",
       "text": [
        "\r",
        "Waiting on bqjob_r365ca01a99897daf_00000145fc7d5bf3_130 ... (431s) Current status: RUNNING "
       ]
      },
      {
       "output_type": "stream",
       "stream": "stdout",
       "text": [
        "\r",
        "Waiting on bqjob_r365ca01a99897daf_00000145fc7d5bf3_130 ... (432s) Current status: RUNNING "
       ]
      },
      {
       "output_type": "stream",
       "stream": "stdout",
       "text": [
        "\r",
        "Waiting on bqjob_r365ca01a99897daf_00000145fc7d5bf3_130 ... (433s) Current status: RUNNING "
       ]
      },
      {
       "output_type": "stream",
       "stream": "stdout",
       "text": [
        "\r",
        "Waiting on bqjob_r365ca01a99897daf_00000145fc7d5bf3_130 ... (434s) Current status: RUNNING "
       ]
      },
      {
       "output_type": "stream",
       "stream": "stdout",
       "text": [
        "\r",
        "Waiting on bqjob_r365ca01a99897daf_00000145fc7d5bf3_130 ... (435s) Current status: RUNNING "
       ]
      },
      {
       "output_type": "stream",
       "stream": "stdout",
       "text": [
        "\r",
        "Waiting on bqjob_r365ca01a99897daf_00000145fc7d5bf3_130 ... (436s) Current status: RUNNING "
       ]
      },
      {
       "output_type": "stream",
       "stream": "stdout",
       "text": [
        "\r",
        "Waiting on bqjob_r365ca01a99897daf_00000145fc7d5bf3_130 ... (437s) Current status: RUNNING "
       ]
      },
      {
       "output_type": "stream",
       "stream": "stdout",
       "text": [
        "\r",
        "Waiting on bqjob_r365ca01a99897daf_00000145fc7d5bf3_130 ... (438s) Current status: RUNNING "
       ]
      },
      {
       "output_type": "stream",
       "stream": "stdout",
       "text": [
        "\r",
        "Waiting on bqjob_r365ca01a99897daf_00000145fc7d5bf3_130 ... (439s) Current status: RUNNING "
       ]
      },
      {
       "output_type": "stream",
       "stream": "stdout",
       "text": [
        "\r",
        "Waiting on bqjob_r365ca01a99897daf_00000145fc7d5bf3_130 ... (440s) Current status: RUNNING "
       ]
      },
      {
       "output_type": "stream",
       "stream": "stdout",
       "text": [
        "\r",
        "Waiting on bqjob_r365ca01a99897daf_00000145fc7d5bf3_130 ... (441s) Current status: RUNNING "
       ]
      },
      {
       "output_type": "stream",
       "stream": "stdout",
       "text": [
        "\r",
        "Waiting on bqjob_r365ca01a99897daf_00000145fc7d5bf3_130 ... (442s) Current status: RUNNING "
       ]
      },
      {
       "output_type": "stream",
       "stream": "stdout",
       "text": [
        "\r",
        "Waiting on bqjob_r365ca01a99897daf_00000145fc7d5bf3_130 ... (443s) Current status: RUNNING "
       ]
      },
      {
       "output_type": "stream",
       "stream": "stdout",
       "text": [
        "\r",
        "Waiting on bqjob_r365ca01a99897daf_00000145fc7d5bf3_130 ... (444s) Current status: RUNNING "
       ]
      },
      {
       "output_type": "stream",
       "stream": "stdout",
       "text": [
        "\r",
        "Waiting on bqjob_r365ca01a99897daf_00000145fc7d5bf3_130 ... (445s) Current status: RUNNING "
       ]
      },
      {
       "output_type": "stream",
       "stream": "stdout",
       "text": [
        "\r",
        "Waiting on bqjob_r365ca01a99897daf_00000145fc7d5bf3_130 ... (446s) Current status: RUNNING "
       ]
      },
      {
       "output_type": "stream",
       "stream": "stdout",
       "text": [
        "\r",
        "Waiting on bqjob_r365ca01a99897daf_00000145fc7d5bf3_130 ... (447s) Current status: RUNNING "
       ]
      },
      {
       "output_type": "stream",
       "stream": "stdout",
       "text": [
        "\r",
        "Waiting on bqjob_r365ca01a99897daf_00000145fc7d5bf3_130 ... (448s) Current status: RUNNING "
       ]
      },
      {
       "output_type": "stream",
       "stream": "stdout",
       "text": [
        "\r",
        "Waiting on bqjob_r365ca01a99897daf_00000145fc7d5bf3_130 ... (449s) Current status: RUNNING "
       ]
      },
      {
       "output_type": "stream",
       "stream": "stdout",
       "text": [
        "\r",
        "Waiting on bqjob_r365ca01a99897daf_00000145fc7d5bf3_130 ... (450s) Current status: RUNNING "
       ]
      },
      {
       "output_type": "stream",
       "stream": "stdout",
       "text": [
        "\r",
        "Waiting on bqjob_r365ca01a99897daf_00000145fc7d5bf3_130 ... (451s) Current status: RUNNING "
       ]
      },
      {
       "output_type": "stream",
       "stream": "stdout",
       "text": [
        "\r",
        "Waiting on bqjob_r365ca01a99897daf_00000145fc7d5bf3_130 ... (452s) Current status: RUNNING "
       ]
      },
      {
       "output_type": "stream",
       "stream": "stdout",
       "text": [
        "\r",
        "Waiting on bqjob_r365ca01a99897daf_00000145fc7d5bf3_130 ... (453s) Current status: RUNNING "
       ]
      },
      {
       "output_type": "stream",
       "stream": "stdout",
       "text": [
        "\r",
        "Waiting on bqjob_r365ca01a99897daf_00000145fc7d5bf3_130 ... (454s) Current status: RUNNING "
       ]
      },
      {
       "output_type": "stream",
       "stream": "stdout",
       "text": [
        "\r",
        "Waiting on bqjob_r365ca01a99897daf_00000145fc7d5bf3_130 ... (455s) Current status: RUNNING "
       ]
      },
      {
       "output_type": "stream",
       "stream": "stdout",
       "text": [
        "\r",
        "Waiting on bqjob_r365ca01a99897daf_00000145fc7d5bf3_130 ... (456s) Current status: RUNNING "
       ]
      },
      {
       "output_type": "stream",
       "stream": "stdout",
       "text": [
        "\r",
        "Waiting on bqjob_r365ca01a99897daf_00000145fc7d5bf3_130 ... (457s) Current status: RUNNING "
       ]
      },
      {
       "output_type": "stream",
       "stream": "stdout",
       "text": [
        "\r",
        "Waiting on bqjob_r365ca01a99897daf_00000145fc7d5bf3_130 ... (459s) Current status: RUNNING "
       ]
      },
      {
       "output_type": "stream",
       "stream": "stdout",
       "text": [
        "\r",
        "Waiting on bqjob_r365ca01a99897daf_00000145fc7d5bf3_130 ... (460s) Current status: RUNNING "
       ]
      },
      {
       "output_type": "stream",
       "stream": "stdout",
       "text": [
        "\r",
        "Waiting on bqjob_r365ca01a99897daf_00000145fc7d5bf3_130 ... (461s) Current status: RUNNING "
       ]
      },
      {
       "output_type": "stream",
       "stream": "stdout",
       "text": [
        "\r",
        "Waiting on bqjob_r365ca01a99897daf_00000145fc7d5bf3_130 ... (462s) Current status: RUNNING "
       ]
      },
      {
       "output_type": "stream",
       "stream": "stdout",
       "text": [
        "\r",
        "Waiting on bqjob_r365ca01a99897daf_00000145fc7d5bf3_130 ... (463s) Current status: RUNNING "
       ]
      },
      {
       "output_type": "stream",
       "stream": "stdout",
       "text": [
        "\r",
        "Waiting on bqjob_r365ca01a99897daf_00000145fc7d5bf3_130 ... (464s) Current status: RUNNING "
       ]
      },
      {
       "output_type": "stream",
       "stream": "stdout",
       "text": [
        "\r",
        "Waiting on bqjob_r365ca01a99897daf_00000145fc7d5bf3_130 ... (465s) Current status: RUNNING "
       ]
      },
      {
       "output_type": "stream",
       "stream": "stdout",
       "text": [
        "\r",
        "Waiting on bqjob_r365ca01a99897daf_00000145fc7d5bf3_130 ... (466s) Current status: RUNNING "
       ]
      },
      {
       "output_type": "stream",
       "stream": "stdout",
       "text": [
        "\r",
        "Waiting on bqjob_r365ca01a99897daf_00000145fc7d5bf3_130 ... (467s) Current status: RUNNING "
       ]
      },
      {
       "output_type": "stream",
       "stream": "stdout",
       "text": [
        "\r",
        "Waiting on bqjob_r365ca01a99897daf_00000145fc7d5bf3_130 ... (468s) Current status: RUNNING "
       ]
      },
      {
       "output_type": "stream",
       "stream": "stdout",
       "text": [
        "\r",
        "Waiting on bqjob_r365ca01a99897daf_00000145fc7d5bf3_130 ... (469s) Current status: RUNNING "
       ]
      },
      {
       "output_type": "stream",
       "stream": "stdout",
       "text": [
        "\r",
        "Waiting on bqjob_r365ca01a99897daf_00000145fc7d5bf3_130 ... (470s) Current status: RUNNING "
       ]
      },
      {
       "output_type": "stream",
       "stream": "stdout",
       "text": [
        "\r",
        "Waiting on bqjob_r365ca01a99897daf_00000145fc7d5bf3_130 ... (471s) Current status: RUNNING "
       ]
      },
      {
       "output_type": "stream",
       "stream": "stdout",
       "text": [
        "\r",
        "Waiting on bqjob_r365ca01a99897daf_00000145fc7d5bf3_130 ... (472s) Current status: RUNNING "
       ]
      },
      {
       "output_type": "stream",
       "stream": "stdout",
       "text": [
        "\r",
        "Waiting on bqjob_r365ca01a99897daf_00000145fc7d5bf3_130 ... (473s) Current status: RUNNING "
       ]
      },
      {
       "output_type": "stream",
       "stream": "stdout",
       "text": [
        "\r",
        "Waiting on bqjob_r365ca01a99897daf_00000145fc7d5bf3_130 ... (474s) Current status: RUNNING "
       ]
      },
      {
       "output_type": "stream",
       "stream": "stdout",
       "text": [
        "\r",
        "Waiting on bqjob_r365ca01a99897daf_00000145fc7d5bf3_130 ... (475s) Current status: RUNNING "
       ]
      },
      {
       "output_type": "stream",
       "stream": "stdout",
       "text": [
        "\r",
        "Waiting on bqjob_r365ca01a99897daf_00000145fc7d5bf3_130 ... (476s) Current status: RUNNING "
       ]
      },
      {
       "output_type": "stream",
       "stream": "stdout",
       "text": [
        "\r",
        "Waiting on bqjob_r365ca01a99897daf_00000145fc7d5bf3_130 ... (477s) Current status: RUNNING "
       ]
      },
      {
       "output_type": "stream",
       "stream": "stdout",
       "text": [
        "\r",
        "Waiting on bqjob_r365ca01a99897daf_00000145fc7d5bf3_130 ... (478s) Current status: RUNNING "
       ]
      },
      {
       "output_type": "stream",
       "stream": "stdout",
       "text": [
        "\r",
        "Waiting on bqjob_r365ca01a99897daf_00000145fc7d5bf3_130 ... (479s) Current status: RUNNING "
       ]
      },
      {
       "output_type": "stream",
       "stream": "stdout",
       "text": [
        "\r",
        "Waiting on bqjob_r365ca01a99897daf_00000145fc7d5bf3_130 ... (480s) Current status: RUNNING "
       ]
      },
      {
       "output_type": "stream",
       "stream": "stdout",
       "text": [
        "\r",
        "Waiting on bqjob_r365ca01a99897daf_00000145fc7d5bf3_130 ... (481s) Current status: RUNNING "
       ]
      },
      {
       "output_type": "stream",
       "stream": "stdout",
       "text": [
        "\r",
        "Waiting on bqjob_r365ca01a99897daf_00000145fc7d5bf3_130 ... (482s) Current status: RUNNING "
       ]
      },
      {
       "output_type": "stream",
       "stream": "stdout",
       "text": [
        "\r",
        "Waiting on bqjob_r365ca01a99897daf_00000145fc7d5bf3_130 ... (483s) Current status: RUNNING "
       ]
      },
      {
       "output_type": "stream",
       "stream": "stdout",
       "text": [
        "\r",
        "Waiting on bqjob_r365ca01a99897daf_00000145fc7d5bf3_130 ... (484s) Current status: RUNNING "
       ]
      },
      {
       "output_type": "stream",
       "stream": "stdout",
       "text": [
        "\r",
        "Waiting on bqjob_r365ca01a99897daf_00000145fc7d5bf3_130 ... (485s) Current status: RUNNING "
       ]
      },
      {
       "output_type": "stream",
       "stream": "stdout",
       "text": [
        "\r",
        "Waiting on bqjob_r365ca01a99897daf_00000145fc7d5bf3_130 ... (486s) Current status: RUNNING "
       ]
      },
      {
       "output_type": "stream",
       "stream": "stdout",
       "text": [
        "\r",
        "Waiting on bqjob_r365ca01a99897daf_00000145fc7d5bf3_130 ... (487s) Current status: RUNNING "
       ]
      },
      {
       "output_type": "stream",
       "stream": "stdout",
       "text": [
        "\r",
        "Waiting on bqjob_r365ca01a99897daf_00000145fc7d5bf3_130 ... (488s) Current status: RUNNING "
       ]
      },
      {
       "output_type": "stream",
       "stream": "stdout",
       "text": [
        "\r",
        "Waiting on bqjob_r365ca01a99897daf_00000145fc7d5bf3_130 ... (490s) Current status: RUNNING "
       ]
      },
      {
       "output_type": "stream",
       "stream": "stdout",
       "text": [
        "\r",
        "Waiting on bqjob_r365ca01a99897daf_00000145fc7d5bf3_130 ... (491s) Current status: RUNNING "
       ]
      },
      {
       "output_type": "stream",
       "stream": "stdout",
       "text": [
        "\r",
        "Waiting on bqjob_r365ca01a99897daf_00000145fc7d5bf3_130 ... (492s) Current status: RUNNING "
       ]
      },
      {
       "output_type": "stream",
       "stream": "stdout",
       "text": [
        "\r",
        "Waiting on bqjob_r365ca01a99897daf_00000145fc7d5bf3_130 ... (493s) Current status: RUNNING "
       ]
      },
      {
       "output_type": "stream",
       "stream": "stdout",
       "text": [
        "\r",
        "Waiting on bqjob_r365ca01a99897daf_00000145fc7d5bf3_130 ... (494s) Current status: RUNNING "
       ]
      },
      {
       "output_type": "stream",
       "stream": "stdout",
       "text": [
        "\r",
        "Waiting on bqjob_r365ca01a99897daf_00000145fc7d5bf3_130 ... (495s) Current status: RUNNING "
       ]
      },
      {
       "output_type": "stream",
       "stream": "stdout",
       "text": [
        "\r",
        "Waiting on bqjob_r365ca01a99897daf_00000145fc7d5bf3_130 ... (496s) Current status: RUNNING "
       ]
      },
      {
       "output_type": "stream",
       "stream": "stdout",
       "text": [
        "\r",
        "Waiting on bqjob_r365ca01a99897daf_00000145fc7d5bf3_130 ... (497s) Current status: RUNNING "
       ]
      },
      {
       "output_type": "stream",
       "stream": "stdout",
       "text": [
        "\r",
        "Waiting on bqjob_r365ca01a99897daf_00000145fc7d5bf3_130 ... (498s) Current status: RUNNING "
       ]
      },
      {
       "output_type": "stream",
       "stream": "stdout",
       "text": [
        "\r",
        "Waiting on bqjob_r365ca01a99897daf_00000145fc7d5bf3_130 ... (499s) Current status: RUNNING "
       ]
      },
      {
       "output_type": "stream",
       "stream": "stdout",
       "text": [
        "\r",
        "Waiting on bqjob_r365ca01a99897daf_00000145fc7d5bf3_130 ... (500s) Current status: RUNNING "
       ]
      },
      {
       "output_type": "stream",
       "stream": "stdout",
       "text": [
        "\r",
        "Waiting on bqjob_r365ca01a99897daf_00000145fc7d5bf3_130 ... (501s) Current status: RUNNING "
       ]
      },
      {
       "output_type": "stream",
       "stream": "stdout",
       "text": [
        "\r",
        "Waiting on bqjob_r365ca01a99897daf_00000145fc7d5bf3_130 ... (502s) Current status: RUNNING "
       ]
      },
      {
       "output_type": "stream",
       "stream": "stdout",
       "text": [
        "\r",
        "Waiting on bqjob_r365ca01a99897daf_00000145fc7d5bf3_130 ... (503s) Current status: RUNNING "
       ]
      },
      {
       "output_type": "stream",
       "stream": "stdout",
       "text": [
        "\r",
        "Waiting on bqjob_r365ca01a99897daf_00000145fc7d5bf3_130 ... (504s) Current status: RUNNING "
       ]
      },
      {
       "output_type": "stream",
       "stream": "stdout",
       "text": [
        "\r",
        "Waiting on bqjob_r365ca01a99897daf_00000145fc7d5bf3_130 ... (505s) Current status: RUNNING "
       ]
      },
      {
       "output_type": "stream",
       "stream": "stdout",
       "text": [
        "\r",
        "Waiting on bqjob_r365ca01a99897daf_00000145fc7d5bf3_130 ... (506s) Current status: RUNNING "
       ]
      },
      {
       "output_type": "stream",
       "stream": "stdout",
       "text": [
        "\r",
        "Waiting on bqjob_r365ca01a99897daf_00000145fc7d5bf3_130 ... (507s) Current status: RUNNING "
       ]
      },
      {
       "output_type": "stream",
       "stream": "stdout",
       "text": [
        "\r",
        "Waiting on bqjob_r365ca01a99897daf_00000145fc7d5bf3_130 ... (508s) Current status: RUNNING "
       ]
      },
      {
       "output_type": "stream",
       "stream": "stdout",
       "text": [
        "\r",
        "Waiting on bqjob_r365ca01a99897daf_00000145fc7d5bf3_130 ... (509s) Current status: RUNNING "
       ]
      },
      {
       "output_type": "stream",
       "stream": "stdout",
       "text": [
        "\r",
        "Waiting on bqjob_r365ca01a99897daf_00000145fc7d5bf3_130 ... (510s) Current status: RUNNING "
       ]
      },
      {
       "output_type": "stream",
       "stream": "stdout",
       "text": [
        "\r",
        "Waiting on bqjob_r365ca01a99897daf_00000145fc7d5bf3_130 ... (511s) Current status: RUNNING "
       ]
      },
      {
       "output_type": "stream",
       "stream": "stdout",
       "text": [
        "\r",
        "Waiting on bqjob_r365ca01a99897daf_00000145fc7d5bf3_130 ... (512s) Current status: RUNNING "
       ]
      },
      {
       "output_type": "stream",
       "stream": "stdout",
       "text": [
        "\r",
        "Waiting on bqjob_r365ca01a99897daf_00000145fc7d5bf3_130 ... (513s) Current status: RUNNING "
       ]
      },
      {
       "output_type": "stream",
       "stream": "stdout",
       "text": [
        "\r",
        "Waiting on bqjob_r365ca01a99897daf_00000145fc7d5bf3_130 ... (514s) Current status: RUNNING "
       ]
      },
      {
       "output_type": "stream",
       "stream": "stdout",
       "text": [
        "\r",
        "Waiting on bqjob_r365ca01a99897daf_00000145fc7d5bf3_130 ... (515s) Current status: RUNNING "
       ]
      },
      {
       "output_type": "stream",
       "stream": "stdout",
       "text": [
        "\r",
        "Waiting on bqjob_r365ca01a99897daf_00000145fc7d5bf3_130 ... (516s) Current status: RUNNING "
       ]
      },
      {
       "output_type": "stream",
       "stream": "stdout",
       "text": [
        "\r",
        "Waiting on bqjob_r365ca01a99897daf_00000145fc7d5bf3_130 ... (517s) Current status: RUNNING "
       ]
      },
      {
       "output_type": "stream",
       "stream": "stdout",
       "text": [
        "\r",
        "Waiting on bqjob_r365ca01a99897daf_00000145fc7d5bf3_130 ... (518s) Current status: RUNNING "
       ]
      },
      {
       "output_type": "stream",
       "stream": "stdout",
       "text": [
        "\r",
        "Waiting on bqjob_r365ca01a99897daf_00000145fc7d5bf3_130 ... (519s) Current status: RUNNING "
       ]
      },
      {
       "output_type": "stream",
       "stream": "stdout",
       "text": [
        "\r",
        "Waiting on bqjob_r365ca01a99897daf_00000145fc7d5bf3_130 ... (520s) Current status: RUNNING "
       ]
      },
      {
       "output_type": "stream",
       "stream": "stdout",
       "text": [
        "\r",
        "Waiting on bqjob_r365ca01a99897daf_00000145fc7d5bf3_130 ... (521s) Current status: RUNNING "
       ]
      },
      {
       "output_type": "stream",
       "stream": "stdout",
       "text": [
        "\r",
        "Waiting on bqjob_r365ca01a99897daf_00000145fc7d5bf3_130 ... (522s) Current status: RUNNING "
       ]
      },
      {
       "output_type": "stream",
       "stream": "stdout",
       "text": [
        "\r",
        "Waiting on bqjob_r365ca01a99897daf_00000145fc7d5bf3_130 ... (523s) Current status: RUNNING "
       ]
      },
      {
       "output_type": "stream",
       "stream": "stdout",
       "text": [
        "\r",
        "Waiting on bqjob_r365ca01a99897daf_00000145fc7d5bf3_130 ... (524s) Current status: RUNNING "
       ]
      },
      {
       "output_type": "stream",
       "stream": "stdout",
       "text": [
        "\r",
        "Waiting on bqjob_r365ca01a99897daf_00000145fc7d5bf3_130 ... (525s) Current status: RUNNING "
       ]
      },
      {
       "output_type": "stream",
       "stream": "stdout",
       "text": [
        "\r",
        "Waiting on bqjob_r365ca01a99897daf_00000145fc7d5bf3_130 ... (526s) Current status: RUNNING "
       ]
      },
      {
       "output_type": "stream",
       "stream": "stdout",
       "text": [
        "\r",
        "Waiting on bqjob_r365ca01a99897daf_00000145fc7d5bf3_130 ... (527s) Current status: RUNNING "
       ]
      },
      {
       "output_type": "stream",
       "stream": "stdout",
       "text": [
        "\r",
        "Waiting on bqjob_r365ca01a99897daf_00000145fc7d5bf3_130 ... (528s) Current status: RUNNING "
       ]
      },
      {
       "output_type": "stream",
       "stream": "stdout",
       "text": [
        "\r",
        "Waiting on bqjob_r365ca01a99897daf_00000145fc7d5bf3_130 ... (529s) Current status: RUNNING "
       ]
      },
      {
       "output_type": "stream",
       "stream": "stdout",
       "text": [
        "\r",
        "Waiting on bqjob_r365ca01a99897daf_00000145fc7d5bf3_130 ... (530s) Current status: RUNNING "
       ]
      },
      {
       "output_type": "stream",
       "stream": "stdout",
       "text": [
        "\r",
        "Waiting on bqjob_r365ca01a99897daf_00000145fc7d5bf3_130 ... (531s) Current status: RUNNING "
       ]
      },
      {
       "output_type": "stream",
       "stream": "stdout",
       "text": [
        "\r",
        "Waiting on bqjob_r365ca01a99897daf_00000145fc7d5bf3_130 ... (532s) Current status: RUNNING "
       ]
      },
      {
       "output_type": "stream",
       "stream": "stdout",
       "text": [
        "\r",
        "Waiting on bqjob_r365ca01a99897daf_00000145fc7d5bf3_130 ... (533s) Current status: RUNNING "
       ]
      },
      {
       "output_type": "stream",
       "stream": "stdout",
       "text": [
        "\r",
        "Waiting on bqjob_r365ca01a99897daf_00000145fc7d5bf3_130 ... (534s) Current status: RUNNING "
       ]
      },
      {
       "output_type": "stream",
       "stream": "stdout",
       "text": [
        "\r",
        "Waiting on bqjob_r365ca01a99897daf_00000145fc7d5bf3_130 ... (535s) Current status: RUNNING "
       ]
      },
      {
       "output_type": "stream",
       "stream": "stdout",
       "text": [
        "\r",
        "Waiting on bqjob_r365ca01a99897daf_00000145fc7d5bf3_130 ... (536s) Current status: RUNNING "
       ]
      },
      {
       "output_type": "stream",
       "stream": "stdout",
       "text": [
        "\r",
        "Waiting on bqjob_r365ca01a99897daf_00000145fc7d5bf3_130 ... (537s) Current status: RUNNING "
       ]
      },
      {
       "output_type": "stream",
       "stream": "stdout",
       "text": [
        "\r",
        "Waiting on bqjob_r365ca01a99897daf_00000145fc7d5bf3_130 ... (538s) Current status: RUNNING "
       ]
      },
      {
       "output_type": "stream",
       "stream": "stdout",
       "text": [
        "\r",
        "Waiting on bqjob_r365ca01a99897daf_00000145fc7d5bf3_130 ... (539s) Current status: RUNNING "
       ]
      },
      {
       "output_type": "stream",
       "stream": "stdout",
       "text": [
        "\r",
        "Waiting on bqjob_r365ca01a99897daf_00000145fc7d5bf3_130 ... (540s) Current status: RUNNING "
       ]
      },
      {
       "output_type": "stream",
       "stream": "stdout",
       "text": [
        "\r",
        "Waiting on bqjob_r365ca01a99897daf_00000145fc7d5bf3_130 ... (541s) Current status: RUNNING "
       ]
      },
      {
       "output_type": "stream",
       "stream": "stdout",
       "text": [
        "\r",
        "Waiting on bqjob_r365ca01a99897daf_00000145fc7d5bf3_130 ... (542s) Current status: RUNNING "
       ]
      },
      {
       "output_type": "stream",
       "stream": "stdout",
       "text": [
        "\r",
        "Waiting on bqjob_r365ca01a99897daf_00000145fc7d5bf3_130 ... (543s) Current status: RUNNING "
       ]
      },
      {
       "output_type": "stream",
       "stream": "stdout",
       "text": [
        "\r",
        "Waiting on bqjob_r365ca01a99897daf_00000145fc7d5bf3_130 ... (544s) Current status: RUNNING "
       ]
      },
      {
       "output_type": "stream",
       "stream": "stdout",
       "text": [
        "\r",
        "Waiting on bqjob_r365ca01a99897daf_00000145fc7d5bf3_130 ... (545s) Current status: RUNNING "
       ]
      },
      {
       "output_type": "stream",
       "stream": "stdout",
       "text": [
        "\r",
        "Waiting on bqjob_r365ca01a99897daf_00000145fc7d5bf3_130 ... (546s) Current status: RUNNING "
       ]
      },
      {
       "output_type": "stream",
       "stream": "stdout",
       "text": [
        "\r",
        "Waiting on bqjob_r365ca01a99897daf_00000145fc7d5bf3_130 ... (547s) Current status: RUNNING "
       ]
      },
      {
       "output_type": "stream",
       "stream": "stdout",
       "text": [
        "\r",
        "Waiting on bqjob_r365ca01a99897daf_00000145fc7d5bf3_130 ... (548s) Current status: RUNNING "
       ]
      },
      {
       "output_type": "stream",
       "stream": "stdout",
       "text": [
        "\r",
        "Waiting on bqjob_r365ca01a99897daf_00000145fc7d5bf3_130 ... (549s) Current status: RUNNING "
       ]
      },
      {
       "output_type": "stream",
       "stream": "stdout",
       "text": [
        "\r",
        "Waiting on bqjob_r365ca01a99897daf_00000145fc7d5bf3_130 ... (551s) Current status: RUNNING "
       ]
      },
      {
       "output_type": "stream",
       "stream": "stdout",
       "text": [
        "\r",
        "Waiting on bqjob_r365ca01a99897daf_00000145fc7d5bf3_130 ... (552s) Current status: RUNNING "
       ]
      },
      {
       "output_type": "stream",
       "stream": "stdout",
       "text": [
        "\r",
        "Waiting on bqjob_r365ca01a99897daf_00000145fc7d5bf3_130 ... (553s) Current status: RUNNING "
       ]
      },
      {
       "output_type": "stream",
       "stream": "stdout",
       "text": [
        "\r",
        "Waiting on bqjob_r365ca01a99897daf_00000145fc7d5bf3_130 ... (554s) Current status: RUNNING "
       ]
      },
      {
       "output_type": "stream",
       "stream": "stdout",
       "text": [
        "\r",
        "Waiting on bqjob_r365ca01a99897daf_00000145fc7d5bf3_130 ... (555s) Current status: RUNNING "
       ]
      },
      {
       "output_type": "stream",
       "stream": "stdout",
       "text": [
        "\r",
        "Waiting on bqjob_r365ca01a99897daf_00000145fc7d5bf3_130 ... (556s) Current status: RUNNING "
       ]
      },
      {
       "output_type": "stream",
       "stream": "stdout",
       "text": [
        "\r",
        "Waiting on bqjob_r365ca01a99897daf_00000145fc7d5bf3_130 ... (557s) Current status: RUNNING "
       ]
      },
      {
       "output_type": "stream",
       "stream": "stdout",
       "text": [
        "\r",
        "Waiting on bqjob_r365ca01a99897daf_00000145fc7d5bf3_130 ... (558s) Current status: RUNNING "
       ]
      },
      {
       "output_type": "stream",
       "stream": "stdout",
       "text": [
        "\r",
        "Waiting on bqjob_r365ca01a99897daf_00000145fc7d5bf3_130 ... (559s) Current status: RUNNING "
       ]
      },
      {
       "output_type": "stream",
       "stream": "stdout",
       "text": [
        "\r",
        "Waiting on bqjob_r365ca01a99897daf_00000145fc7d5bf3_130 ... (560s) Current status: RUNNING "
       ]
      },
      {
       "output_type": "stream",
       "stream": "stdout",
       "text": [
        "\r",
        "Waiting on bqjob_r365ca01a99897daf_00000145fc7d5bf3_130 ... (561s) Current status: RUNNING "
       ]
      },
      {
       "output_type": "stream",
       "stream": "stdout",
       "text": [
        "\r",
        "Waiting on bqjob_r365ca01a99897daf_00000145fc7d5bf3_130 ... (562s) Current status: RUNNING "
       ]
      },
      {
       "output_type": "stream",
       "stream": "stdout",
       "text": [
        "\r",
        "Waiting on bqjob_r365ca01a99897daf_00000145fc7d5bf3_130 ... (563s) Current status: RUNNING "
       ]
      },
      {
       "output_type": "stream",
       "stream": "stdout",
       "text": [
        "\r",
        "Waiting on bqjob_r365ca01a99897daf_00000145fc7d5bf3_130 ... (564s) Current status: RUNNING "
       ]
      },
      {
       "output_type": "stream",
       "stream": "stdout",
       "text": [
        "\r",
        "Waiting on bqjob_r365ca01a99897daf_00000145fc7d5bf3_130 ... (565s) Current status: RUNNING "
       ]
      },
      {
       "output_type": "stream",
       "stream": "stdout",
       "text": [
        "\r",
        "Waiting on bqjob_r365ca01a99897daf_00000145fc7d5bf3_130 ... (566s) Current status: RUNNING "
       ]
      },
      {
       "output_type": "stream",
       "stream": "stdout",
       "text": [
        "\r",
        "Waiting on bqjob_r365ca01a99897daf_00000145fc7d5bf3_130 ... (567s) Current status: RUNNING "
       ]
      },
      {
       "output_type": "stream",
       "stream": "stdout",
       "text": [
        "\r",
        "Waiting on bqjob_r365ca01a99897daf_00000145fc7d5bf3_130 ... (568s) Current status: RUNNING "
       ]
      },
      {
       "output_type": "stream",
       "stream": "stdout",
       "text": [
        "\r",
        "Waiting on bqjob_r365ca01a99897daf_00000145fc7d5bf3_130 ... (569s) Current status: RUNNING "
       ]
      },
      {
       "output_type": "stream",
       "stream": "stdout",
       "text": [
        "\r",
        "Waiting on bqjob_r365ca01a99897daf_00000145fc7d5bf3_130 ... (570s) Current status: RUNNING "
       ]
      },
      {
       "output_type": "stream",
       "stream": "stdout",
       "text": [
        "\r",
        "Waiting on bqjob_r365ca01a99897daf_00000145fc7d5bf3_130 ... (571s) Current status: RUNNING "
       ]
      },
      {
       "output_type": "stream",
       "stream": "stdout",
       "text": [
        "\r",
        "Waiting on bqjob_r365ca01a99897daf_00000145fc7d5bf3_130 ... (572s) Current status: RUNNING "
       ]
      },
      {
       "output_type": "stream",
       "stream": "stdout",
       "text": [
        "\r",
        "Waiting on bqjob_r365ca01a99897daf_00000145fc7d5bf3_130 ... (573s) Current status: RUNNING "
       ]
      },
      {
       "output_type": "stream",
       "stream": "stdout",
       "text": [
        "\r",
        "Waiting on bqjob_r365ca01a99897daf_00000145fc7d5bf3_130 ... (574s) Current status: RUNNING "
       ]
      },
      {
       "output_type": "stream",
       "stream": "stdout",
       "text": [
        "\r",
        "Waiting on bqjob_r365ca01a99897daf_00000145fc7d5bf3_130 ... (575s) Current status: RUNNING "
       ]
      },
      {
       "output_type": "stream",
       "stream": "stdout",
       "text": [
        "\r",
        "Waiting on bqjob_r365ca01a99897daf_00000145fc7d5bf3_130 ... (576s) Current status: RUNNING "
       ]
      },
      {
       "output_type": "stream",
       "stream": "stdout",
       "text": [
        "\r",
        "Waiting on bqjob_r365ca01a99897daf_00000145fc7d5bf3_130 ... (577s) Current status: RUNNING "
       ]
      },
      {
       "output_type": "stream",
       "stream": "stdout",
       "text": [
        "\r",
        "Waiting on bqjob_r365ca01a99897daf_00000145fc7d5bf3_130 ... (578s) Current status: RUNNING "
       ]
      },
      {
       "output_type": "stream",
       "stream": "stdout",
       "text": [
        "\r",
        "Waiting on bqjob_r365ca01a99897daf_00000145fc7d5bf3_130 ... (579s) Current status: RUNNING "
       ]
      },
      {
       "output_type": "stream",
       "stream": "stdout",
       "text": [
        "\r",
        "Waiting on bqjob_r365ca01a99897daf_00000145fc7d5bf3_130 ... (580s) Current status: RUNNING "
       ]
      },
      {
       "output_type": "stream",
       "stream": "stdout",
       "text": [
        "\r",
        "Waiting on bqjob_r365ca01a99897daf_00000145fc7d5bf3_130 ... (582s) Current status: RUNNING "
       ]
      },
      {
       "output_type": "stream",
       "stream": "stdout",
       "text": [
        "\r",
        "Waiting on bqjob_r365ca01a99897daf_00000145fc7d5bf3_130 ... (583s) Current status: RUNNING "
       ]
      },
      {
       "output_type": "stream",
       "stream": "stdout",
       "text": [
        "\r",
        "Waiting on bqjob_r365ca01a99897daf_00000145fc7d5bf3_130 ... (584s) Current status: RUNNING "
       ]
      },
      {
       "output_type": "stream",
       "stream": "stdout",
       "text": [
        "\r",
        "Waiting on bqjob_r365ca01a99897daf_00000145fc7d5bf3_130 ... (585s) Current status: RUNNING "
       ]
      },
      {
       "output_type": "stream",
       "stream": "stdout",
       "text": [
        "\r",
        "Waiting on bqjob_r365ca01a99897daf_00000145fc7d5bf3_130 ... (586s) Current status: RUNNING "
       ]
      },
      {
       "output_type": "stream",
       "stream": "stdout",
       "text": [
        "\r",
        "Waiting on bqjob_r365ca01a99897daf_00000145fc7d5bf3_130 ... (587s) Current status: RUNNING "
       ]
      },
      {
       "output_type": "stream",
       "stream": "stdout",
       "text": [
        "\r",
        "Waiting on bqjob_r365ca01a99897daf_00000145fc7d5bf3_130 ... (588s) Current status: RUNNING "
       ]
      },
      {
       "output_type": "stream",
       "stream": "stdout",
       "text": [
        "\r",
        "Waiting on bqjob_r365ca01a99897daf_00000145fc7d5bf3_130 ... (589s) Current status: RUNNING "
       ]
      },
      {
       "output_type": "stream",
       "stream": "stdout",
       "text": [
        "\r",
        "Waiting on bqjob_r365ca01a99897daf_00000145fc7d5bf3_130 ... (590s) Current status: RUNNING "
       ]
      },
      {
       "output_type": "stream",
       "stream": "stdout",
       "text": [
        "\r",
        "Waiting on bqjob_r365ca01a99897daf_00000145fc7d5bf3_130 ... (591s) Current status: RUNNING "
       ]
      },
      {
       "output_type": "stream",
       "stream": "stdout",
       "text": [
        "\r",
        "Waiting on bqjob_r365ca01a99897daf_00000145fc7d5bf3_130 ... (592s) Current status: RUNNING "
       ]
      },
      {
       "output_type": "stream",
       "stream": "stdout",
       "text": [
        "\r",
        "Waiting on bqjob_r365ca01a99897daf_00000145fc7d5bf3_130 ... (593s) Current status: RUNNING "
       ]
      },
      {
       "output_type": "stream",
       "stream": "stdout",
       "text": [
        "\r",
        "Waiting on bqjob_r365ca01a99897daf_00000145fc7d5bf3_130 ... (594s) Current status: RUNNING "
       ]
      },
      {
       "output_type": "stream",
       "stream": "stdout",
       "text": [
        "\r",
        "Waiting on bqjob_r365ca01a99897daf_00000145fc7d5bf3_130 ... (595s) Current status: RUNNING "
       ]
      },
      {
       "output_type": "stream",
       "stream": "stdout",
       "text": [
        "\r",
        "Waiting on bqjob_r365ca01a99897daf_00000145fc7d5bf3_130 ... (596s) Current status: RUNNING "
       ]
      },
      {
       "output_type": "stream",
       "stream": "stdout",
       "text": [
        "\r",
        "Waiting on bqjob_r365ca01a99897daf_00000145fc7d5bf3_130 ... (597s) Current status: RUNNING "
       ]
      },
      {
       "output_type": "stream",
       "stream": "stdout",
       "text": [
        "\r",
        "Waiting on bqjob_r365ca01a99897daf_00000145fc7d5bf3_130 ... (598s) Current status: RUNNING "
       ]
      },
      {
       "output_type": "stream",
       "stream": "stdout",
       "text": [
        "\r",
        "Waiting on bqjob_r365ca01a99897daf_00000145fc7d5bf3_130 ... (599s) Current status: RUNNING "
       ]
      },
      {
       "output_type": "stream",
       "stream": "stdout",
       "text": [
        "\r",
        "Waiting on bqjob_r365ca01a99897daf_00000145fc7d5bf3_130 ... (600s) Current status: RUNNING "
       ]
      },
      {
       "output_type": "stream",
       "stream": "stdout",
       "text": [
        "\r",
        "Waiting on bqjob_r365ca01a99897daf_00000145fc7d5bf3_130 ... (601s) Current status: RUNNING "
       ]
      },
      {
       "output_type": "stream",
       "stream": "stdout",
       "text": [
        "\r",
        "Waiting on bqjob_r365ca01a99897daf_00000145fc7d5bf3_130 ... (602s) Current status: RUNNING "
       ]
      },
      {
       "output_type": "stream",
       "stream": "stdout",
       "text": [
        "\r",
        "Waiting on bqjob_r365ca01a99897daf_00000145fc7d5bf3_130 ... (603s) Current status: RUNNING "
       ]
      },
      {
       "output_type": "stream",
       "stream": "stdout",
       "text": [
        "\r",
        "Waiting on bqjob_r365ca01a99897daf_00000145fc7d5bf3_130 ... (604s) Current status: RUNNING "
       ]
      },
      {
       "output_type": "stream",
       "stream": "stdout",
       "text": [
        "\r",
        "Waiting on bqjob_r365ca01a99897daf_00000145fc7d5bf3_130 ... (605s) Current status: RUNNING "
       ]
      },
      {
       "output_type": "stream",
       "stream": "stdout",
       "text": [
        "\r",
        "Waiting on bqjob_r365ca01a99897daf_00000145fc7d5bf3_130 ... (606s) Current status: RUNNING "
       ]
      },
      {
       "output_type": "stream",
       "stream": "stdout",
       "text": [
        "\r",
        "Waiting on bqjob_r365ca01a99897daf_00000145fc7d5bf3_130 ... (607s) Current status: RUNNING "
       ]
      },
      {
       "output_type": "stream",
       "stream": "stdout",
       "text": [
        "\r",
        "Waiting on bqjob_r365ca01a99897daf_00000145fc7d5bf3_130 ... (608s) Current status: RUNNING "
       ]
      },
      {
       "output_type": "stream",
       "stream": "stdout",
       "text": [
        "\r",
        "Waiting on bqjob_r365ca01a99897daf_00000145fc7d5bf3_130 ... (609s) Current status: RUNNING "
       ]
      },
      {
       "output_type": "stream",
       "stream": "stdout",
       "text": [
        "\r",
        "Waiting on bqjob_r365ca01a99897daf_00000145fc7d5bf3_130 ... (610s) Current status: RUNNING "
       ]
      },
      {
       "output_type": "stream",
       "stream": "stdout",
       "text": [
        "\r",
        "Waiting on bqjob_r365ca01a99897daf_00000145fc7d5bf3_130 ... (611s) Current status: RUNNING "
       ]
      },
      {
       "output_type": "stream",
       "stream": "stdout",
       "text": [
        "\r",
        "Waiting on bqjob_r365ca01a99897daf_00000145fc7d5bf3_130 ... (613s) Current status: RUNNING "
       ]
      },
      {
       "output_type": "stream",
       "stream": "stdout",
       "text": [
        "\r",
        "Waiting on bqjob_r365ca01a99897daf_00000145fc7d5bf3_130 ... (614s) Current status: RUNNING "
       ]
      },
      {
       "output_type": "stream",
       "stream": "stdout",
       "text": [
        "\r",
        "Waiting on bqjob_r365ca01a99897daf_00000145fc7d5bf3_130 ... (615s) Current status: RUNNING "
       ]
      },
      {
       "output_type": "stream",
       "stream": "stdout",
       "text": [
        "\r",
        "Waiting on bqjob_r365ca01a99897daf_00000145fc7d5bf3_130 ... (616s) Current status: RUNNING "
       ]
      },
      {
       "output_type": "stream",
       "stream": "stdout",
       "text": [
        "\r",
        "Waiting on bqjob_r365ca01a99897daf_00000145fc7d5bf3_130 ... (617s) Current status: RUNNING "
       ]
      },
      {
       "output_type": "stream",
       "stream": "stdout",
       "text": [
        "\r",
        "Waiting on bqjob_r365ca01a99897daf_00000145fc7d5bf3_130 ... (618s) Current status: RUNNING "
       ]
      },
      {
       "output_type": "stream",
       "stream": "stdout",
       "text": [
        "\r",
        "Waiting on bqjob_r365ca01a99897daf_00000145fc7d5bf3_130 ... (619s) Current status: RUNNING "
       ]
      },
      {
       "output_type": "stream",
       "stream": "stdout",
       "text": [
        "\r",
        "Waiting on bqjob_r365ca01a99897daf_00000145fc7d5bf3_130 ... (620s) Current status: RUNNING "
       ]
      },
      {
       "output_type": "stream",
       "stream": "stdout",
       "text": [
        "\r",
        "Waiting on bqjob_r365ca01a99897daf_00000145fc7d5bf3_130 ... (621s) Current status: RUNNING "
       ]
      },
      {
       "output_type": "stream",
       "stream": "stdout",
       "text": [
        "\r",
        "Waiting on bqjob_r365ca01a99897daf_00000145fc7d5bf3_130 ... (622s) Current status: RUNNING "
       ]
      },
      {
       "output_type": "stream",
       "stream": "stdout",
       "text": [
        "\r",
        "Waiting on bqjob_r365ca01a99897daf_00000145fc7d5bf3_130 ... (623s) Current status: RUNNING "
       ]
      },
      {
       "output_type": "stream",
       "stream": "stdout",
       "text": [
        "\r",
        "Waiting on bqjob_r365ca01a99897daf_00000145fc7d5bf3_130 ... (624s) Current status: RUNNING "
       ]
      },
      {
       "output_type": "stream",
       "stream": "stdout",
       "text": [
        "\r",
        "Waiting on bqjob_r365ca01a99897daf_00000145fc7d5bf3_130 ... (625s) Current status: RUNNING "
       ]
      },
      {
       "output_type": "stream",
       "stream": "stdout",
       "text": [
        "\r",
        "Waiting on bqjob_r365ca01a99897daf_00000145fc7d5bf3_130 ... (626s) Current status: RUNNING "
       ]
      },
      {
       "output_type": "stream",
       "stream": "stdout",
       "text": [
        "\r",
        "Waiting on bqjob_r365ca01a99897daf_00000145fc7d5bf3_130 ... (627s) Current status: RUNNING "
       ]
      },
      {
       "output_type": "stream",
       "stream": "stdout",
       "text": [
        "\r",
        "Waiting on bqjob_r365ca01a99897daf_00000145fc7d5bf3_130 ... (628s) Current status: RUNNING "
       ]
      },
      {
       "output_type": "stream",
       "stream": "stdout",
       "text": [
        "\r",
        "Waiting on bqjob_r365ca01a99897daf_00000145fc7d5bf3_130 ... (629s) Current status: RUNNING "
       ]
      },
      {
       "output_type": "stream",
       "stream": "stdout",
       "text": [
        "\r",
        "Waiting on bqjob_r365ca01a99897daf_00000145fc7d5bf3_130 ... (630s) Current status: RUNNING "
       ]
      },
      {
       "output_type": "stream",
       "stream": "stdout",
       "text": [
        "\r",
        "Waiting on bqjob_r365ca01a99897daf_00000145fc7d5bf3_130 ... (631s) Current status: RUNNING "
       ]
      },
      {
       "output_type": "stream",
       "stream": "stdout",
       "text": [
        "\r",
        "Waiting on bqjob_r365ca01a99897daf_00000145fc7d5bf3_130 ... (632s) Current status: RUNNING "
       ]
      },
      {
       "output_type": "stream",
       "stream": "stdout",
       "text": [
        "\r",
        "Waiting on bqjob_r365ca01a99897daf_00000145fc7d5bf3_130 ... (633s) Current status: RUNNING "
       ]
      },
      {
       "output_type": "stream",
       "stream": "stdout",
       "text": [
        "\r",
        "Waiting on bqjob_r365ca01a99897daf_00000145fc7d5bf3_130 ... (634s) Current status: RUNNING "
       ]
      },
      {
       "output_type": "stream",
       "stream": "stdout",
       "text": [
        "\r",
        "Waiting on bqjob_r365ca01a99897daf_00000145fc7d5bf3_130 ... (635s) Current status: RUNNING "
       ]
      },
      {
       "output_type": "stream",
       "stream": "stdout",
       "text": [
        "\r",
        "Waiting on bqjob_r365ca01a99897daf_00000145fc7d5bf3_130 ... (636s) Current status: RUNNING "
       ]
      },
      {
       "output_type": "stream",
       "stream": "stdout",
       "text": [
        "\r",
        "Waiting on bqjob_r365ca01a99897daf_00000145fc7d5bf3_130 ... (637s) Current status: RUNNING "
       ]
      },
      {
       "output_type": "stream",
       "stream": "stdout",
       "text": [
        "\r",
        "Waiting on bqjob_r365ca01a99897daf_00000145fc7d5bf3_130 ... (638s) Current status: RUNNING "
       ]
      },
      {
       "output_type": "stream",
       "stream": "stdout",
       "text": [
        "\r",
        "Waiting on bqjob_r365ca01a99897daf_00000145fc7d5bf3_130 ... (639s) Current status: RUNNING "
       ]
      },
      {
       "output_type": "stream",
       "stream": "stdout",
       "text": [
        "\r",
        "Waiting on bqjob_r365ca01a99897daf_00000145fc7d5bf3_130 ... (640s) Current status: RUNNING "
       ]
      },
      {
       "output_type": "stream",
       "stream": "stdout",
       "text": [
        "\r",
        "Waiting on bqjob_r365ca01a99897daf_00000145fc7d5bf3_130 ... (641s) Current status: RUNNING "
       ]
      },
      {
       "output_type": "stream",
       "stream": "stdout",
       "text": [
        "\r",
        "Waiting on bqjob_r365ca01a99897daf_00000145fc7d5bf3_130 ... (642s) Current status: RUNNING "
       ]
      },
      {
       "output_type": "stream",
       "stream": "stdout",
       "text": [
        "\r",
        "Waiting on bqjob_r365ca01a99897daf_00000145fc7d5bf3_130 ... (644s) Current status: RUNNING "
       ]
      },
      {
       "output_type": "stream",
       "stream": "stdout",
       "text": [
        "\r",
        "Waiting on bqjob_r365ca01a99897daf_00000145fc7d5bf3_130 ... (645s) Current status: RUNNING "
       ]
      },
      {
       "output_type": "stream",
       "stream": "stdout",
       "text": [
        "\r",
        "Waiting on bqjob_r365ca01a99897daf_00000145fc7d5bf3_130 ... (646s) Current status: RUNNING "
       ]
      },
      {
       "output_type": "stream",
       "stream": "stdout",
       "text": [
        "\r",
        "Waiting on bqjob_r365ca01a99897daf_00000145fc7d5bf3_130 ... (647s) Current status: RUNNING "
       ]
      },
      {
       "output_type": "stream",
       "stream": "stdout",
       "text": [
        "\r",
        "Waiting on bqjob_r365ca01a99897daf_00000145fc7d5bf3_130 ... (648s) Current status: RUNNING "
       ]
      },
      {
       "output_type": "stream",
       "stream": "stdout",
       "text": [
        "\r",
        "Waiting on bqjob_r365ca01a99897daf_00000145fc7d5bf3_130 ... (649s) Current status: RUNNING "
       ]
      },
      {
       "output_type": "stream",
       "stream": "stdout",
       "text": [
        "\r",
        "Waiting on bqjob_r365ca01a99897daf_00000145fc7d5bf3_130 ... (650s) Current status: RUNNING "
       ]
      },
      {
       "output_type": "stream",
       "stream": "stdout",
       "text": [
        "\r",
        "Waiting on bqjob_r365ca01a99897daf_00000145fc7d5bf3_130 ... (651s) Current status: RUNNING "
       ]
      },
      {
       "output_type": "stream",
       "stream": "stdout",
       "text": [
        "\r",
        "Waiting on bqjob_r365ca01a99897daf_00000145fc7d5bf3_130 ... (652s) Current status: RUNNING "
       ]
      },
      {
       "output_type": "stream",
       "stream": "stdout",
       "text": [
        "\r",
        "Waiting on bqjob_r365ca01a99897daf_00000145fc7d5bf3_130 ... (653s) Current status: RUNNING "
       ]
      },
      {
       "output_type": "stream",
       "stream": "stdout",
       "text": [
        "\r",
        "Waiting on bqjob_r365ca01a99897daf_00000145fc7d5bf3_130 ... (654s) Current status: RUNNING "
       ]
      },
      {
       "output_type": "stream",
       "stream": "stdout",
       "text": [
        "\r",
        "Waiting on bqjob_r365ca01a99897daf_00000145fc7d5bf3_130 ... (655s) Current status: RUNNING "
       ]
      },
      {
       "output_type": "stream",
       "stream": "stdout",
       "text": [
        "\r",
        "Waiting on bqjob_r365ca01a99897daf_00000145fc7d5bf3_130 ... (656s) Current status: RUNNING "
       ]
      },
      {
       "output_type": "stream",
       "stream": "stdout",
       "text": [
        "\r",
        "Waiting on bqjob_r365ca01a99897daf_00000145fc7d5bf3_130 ... (657s) Current status: RUNNING "
       ]
      },
      {
       "output_type": "stream",
       "stream": "stdout",
       "text": [
        "\r",
        "Waiting on bqjob_r365ca01a99897daf_00000145fc7d5bf3_130 ... (658s) Current status: RUNNING "
       ]
      },
      {
       "output_type": "stream",
       "stream": "stdout",
       "text": [
        "\r",
        "Waiting on bqjob_r365ca01a99897daf_00000145fc7d5bf3_130 ... (659s) Current status: RUNNING "
       ]
      },
      {
       "output_type": "stream",
       "stream": "stdout",
       "text": [
        "\r",
        "Waiting on bqjob_r365ca01a99897daf_00000145fc7d5bf3_130 ... (660s) Current status: RUNNING "
       ]
      },
      {
       "output_type": "stream",
       "stream": "stdout",
       "text": [
        "\r",
        "Waiting on bqjob_r365ca01a99897daf_00000145fc7d5bf3_130 ... (661s) Current status: RUNNING "
       ]
      },
      {
       "output_type": "stream",
       "stream": "stdout",
       "text": [
        "\r",
        "Waiting on bqjob_r365ca01a99897daf_00000145fc7d5bf3_130 ... (662s) Current status: RUNNING "
       ]
      },
      {
       "output_type": "stream",
       "stream": "stdout",
       "text": [
        "\r",
        "Waiting on bqjob_r365ca01a99897daf_00000145fc7d5bf3_130 ... (663s) Current status: RUNNING "
       ]
      },
      {
       "output_type": "stream",
       "stream": "stdout",
       "text": [
        "\r",
        "Waiting on bqjob_r365ca01a99897daf_00000145fc7d5bf3_130 ... (664s) Current status: RUNNING "
       ]
      },
      {
       "output_type": "stream",
       "stream": "stdout",
       "text": [
        "\r",
        "Waiting on bqjob_r365ca01a99897daf_00000145fc7d5bf3_130 ... (665s) Current status: RUNNING "
       ]
      },
      {
       "output_type": "stream",
       "stream": "stdout",
       "text": [
        "\r",
        "Waiting on bqjob_r365ca01a99897daf_00000145fc7d5bf3_130 ... (666s) Current status: RUNNING "
       ]
      },
      {
       "output_type": "stream",
       "stream": "stdout",
       "text": [
        "\r",
        "Waiting on bqjob_r365ca01a99897daf_00000145fc7d5bf3_130 ... (667s) Current status: RUNNING "
       ]
      },
      {
       "output_type": "stream",
       "stream": "stdout",
       "text": [
        "\r",
        "Waiting on bqjob_r365ca01a99897daf_00000145fc7d5bf3_130 ... (668s) Current status: RUNNING "
       ]
      },
      {
       "output_type": "stream",
       "stream": "stdout",
       "text": [
        "\r",
        "Waiting on bqjob_r365ca01a99897daf_00000145fc7d5bf3_130 ... (669s) Current status: RUNNING "
       ]
      },
      {
       "output_type": "stream",
       "stream": "stdout",
       "text": [
        "\r",
        "Waiting on bqjob_r365ca01a99897daf_00000145fc7d5bf3_130 ... (670s) Current status: RUNNING "
       ]
      },
      {
       "output_type": "stream",
       "stream": "stdout",
       "text": [
        "\r",
        "Waiting on bqjob_r365ca01a99897daf_00000145fc7d5bf3_130 ... (671s) Current status: RUNNING "
       ]
      },
      {
       "output_type": "stream",
       "stream": "stdout",
       "text": [
        "\r",
        "Waiting on bqjob_r365ca01a99897daf_00000145fc7d5bf3_130 ... (672s) Current status: RUNNING "
       ]
      },
      {
       "output_type": "stream",
       "stream": "stdout",
       "text": [
        "\r",
        "Waiting on bqjob_r365ca01a99897daf_00000145fc7d5bf3_130 ... (673s) Current status: RUNNING "
       ]
      },
      {
       "output_type": "stream",
       "stream": "stdout",
       "text": [
        "\r",
        "Waiting on bqjob_r365ca01a99897daf_00000145fc7d5bf3_130 ... (675s) Current status: RUNNING "
       ]
      },
      {
       "output_type": "stream",
       "stream": "stdout",
       "text": [
        "\r",
        "Waiting on bqjob_r365ca01a99897daf_00000145fc7d5bf3_130 ... (676s) Current status: RUNNING "
       ]
      },
      {
       "output_type": "stream",
       "stream": "stdout",
       "text": [
        "\r",
        "Waiting on bqjob_r365ca01a99897daf_00000145fc7d5bf3_130 ... (677s) Current status: RUNNING "
       ]
      },
      {
       "output_type": "stream",
       "stream": "stdout",
       "text": [
        "\r",
        "Waiting on bqjob_r365ca01a99897daf_00000145fc7d5bf3_130 ... (678s) Current status: RUNNING "
       ]
      },
      {
       "output_type": "stream",
       "stream": "stdout",
       "text": [
        "\r",
        "Waiting on bqjob_r365ca01a99897daf_00000145fc7d5bf3_130 ... (679s) Current status: RUNNING "
       ]
      },
      {
       "output_type": "stream",
       "stream": "stdout",
       "text": [
        "\r",
        "Waiting on bqjob_r365ca01a99897daf_00000145fc7d5bf3_130 ... (680s) Current status: RUNNING "
       ]
      },
      {
       "output_type": "stream",
       "stream": "stdout",
       "text": [
        "\r",
        "Waiting on bqjob_r365ca01a99897daf_00000145fc7d5bf3_130 ... (681s) Current status: RUNNING "
       ]
      },
      {
       "output_type": "stream",
       "stream": "stdout",
       "text": [
        "\r",
        "Waiting on bqjob_r365ca01a99897daf_00000145fc7d5bf3_130 ... (682s) Current status: RUNNING "
       ]
      },
      {
       "output_type": "stream",
       "stream": "stdout",
       "text": [
        "\r",
        "Waiting on bqjob_r365ca01a99897daf_00000145fc7d5bf3_130 ... (683s) Current status: RUNNING "
       ]
      },
      {
       "output_type": "stream",
       "stream": "stdout",
       "text": [
        "\r",
        "Waiting on bqjob_r365ca01a99897daf_00000145fc7d5bf3_130 ... (684s) Current status: RUNNING "
       ]
      },
      {
       "output_type": "stream",
       "stream": "stdout",
       "text": [
        "\r",
        "Waiting on bqjob_r365ca01a99897daf_00000145fc7d5bf3_130 ... (685s) Current status: RUNNING "
       ]
      },
      {
       "output_type": "stream",
       "stream": "stdout",
       "text": [
        "\r",
        "Waiting on bqjob_r365ca01a99897daf_00000145fc7d5bf3_130 ... (686s) Current status: RUNNING "
       ]
      },
      {
       "output_type": "stream",
       "stream": "stdout",
       "text": [
        "\r",
        "Waiting on bqjob_r365ca01a99897daf_00000145fc7d5bf3_130 ... (687s) Current status: RUNNING "
       ]
      },
      {
       "output_type": "stream",
       "stream": "stdout",
       "text": [
        "\r",
        "Waiting on bqjob_r365ca01a99897daf_00000145fc7d5bf3_130 ... (688s) Current status: RUNNING "
       ]
      },
      {
       "output_type": "stream",
       "stream": "stdout",
       "text": [
        "\r",
        "Waiting on bqjob_r365ca01a99897daf_00000145fc7d5bf3_130 ... (689s) Current status: RUNNING "
       ]
      },
      {
       "output_type": "stream",
       "stream": "stdout",
       "text": [
        "\r",
        "Waiting on bqjob_r365ca01a99897daf_00000145fc7d5bf3_130 ... (690s) Current status: RUNNING "
       ]
      },
      {
       "output_type": "stream",
       "stream": "stdout",
       "text": [
        "\r",
        "Waiting on bqjob_r365ca01a99897daf_00000145fc7d5bf3_130 ... (691s) Current status: RUNNING "
       ]
      },
      {
       "output_type": "stream",
       "stream": "stdout",
       "text": [
        "\r",
        "Waiting on bqjob_r365ca01a99897daf_00000145fc7d5bf3_130 ... (692s) Current status: RUNNING "
       ]
      },
      {
       "output_type": "stream",
       "stream": "stdout",
       "text": [
        "\r",
        "Waiting on bqjob_r365ca01a99897daf_00000145fc7d5bf3_130 ... (693s) Current status: RUNNING "
       ]
      },
      {
       "output_type": "stream",
       "stream": "stdout",
       "text": [
        "\r",
        "Waiting on bqjob_r365ca01a99897daf_00000145fc7d5bf3_130 ... (694s) Current status: RUNNING "
       ]
      },
      {
       "output_type": "stream",
       "stream": "stdout",
       "text": [
        "\r",
        "Waiting on bqjob_r365ca01a99897daf_00000145fc7d5bf3_130 ... (695s) Current status: RUNNING "
       ]
      },
      {
       "output_type": "stream",
       "stream": "stdout",
       "text": [
        "\r",
        "Waiting on bqjob_r365ca01a99897daf_00000145fc7d5bf3_130 ... (696s) Current status: RUNNING "
       ]
      },
      {
       "output_type": "stream",
       "stream": "stdout",
       "text": [
        "\r",
        "Waiting on bqjob_r365ca01a99897daf_00000145fc7d5bf3_130 ... (697s) Current status: RUNNING "
       ]
      },
      {
       "output_type": "stream",
       "stream": "stdout",
       "text": [
        "\r",
        "Waiting on bqjob_r365ca01a99897daf_00000145fc7d5bf3_130 ... (698s) Current status: RUNNING "
       ]
      },
      {
       "output_type": "stream",
       "stream": "stdout",
       "text": [
        "\r",
        "Waiting on bqjob_r365ca01a99897daf_00000145fc7d5bf3_130 ... (699s) Current status: RUNNING "
       ]
      },
      {
       "output_type": "stream",
       "stream": "stdout",
       "text": [
        "\r",
        "Waiting on bqjob_r365ca01a99897daf_00000145fc7d5bf3_130 ... (700s) Current status: RUNNING "
       ]
      },
      {
       "output_type": "stream",
       "stream": "stdout",
       "text": [
        "\r",
        "Waiting on bqjob_r365ca01a99897daf_00000145fc7d5bf3_130 ... (701s) Current status: RUNNING "
       ]
      },
      {
       "output_type": "stream",
       "stream": "stdout",
       "text": [
        "\r",
        "Waiting on bqjob_r365ca01a99897daf_00000145fc7d5bf3_130 ... (702s) Current status: RUNNING "
       ]
      },
      {
       "output_type": "stream",
       "stream": "stdout",
       "text": [
        "\r",
        "Waiting on bqjob_r365ca01a99897daf_00000145fc7d5bf3_130 ... (703s) Current status: RUNNING "
       ]
      },
      {
       "output_type": "stream",
       "stream": "stdout",
       "text": [
        "\r",
        "Waiting on bqjob_r365ca01a99897daf_00000145fc7d5bf3_130 ... (704s) Current status: RUNNING "
       ]
      },
      {
       "output_type": "stream",
       "stream": "stdout",
       "text": [
        "\r",
        "Waiting on bqjob_r365ca01a99897daf_00000145fc7d5bf3_130 ... (704s) Current status: DONE   \n",
        "(101794, 3)"
       ]
      },
      {
       "output_type": "stream",
       "stream": "stdout",
       "text": [
        "\n"
       ]
      }
     ],
     "prompt_number": 416
    },
    {
     "cell_type": "code",
     "collapsed": false,
     "input": [
      "ml_df.head(10)"
     ],
     "language": "python",
     "metadata": {},
     "outputs": [
      {
       "html": [
        "<div style=\"max-height:1000px;max-width:1500px;overflow:auto;\">\n",
        "<table border=\"1\" class=\"dataframe\">\n",
        "  <thead>\n",
        "    <tr style=\"text-align: right;\">\n",
        "      <th></th>\n",
        "      <th>name</th>\n",
        "      <th>full_name</th>\n",
        "      <th>fork</th>\n",
        "    </tr>\n",
        "  </thead>\n",
        "  <tbody>\n",
        "    <tr>\n",
        "      <th>0</th>\n",
        "      <td>              bootstrap</td>\n",
        "      <td>            justin-john/bootstrap</td>\n",
        "      <td> 1</td>\n",
        "    </tr>\n",
        "    <tr>\n",
        "      <th>1</th>\n",
        "      <td>              bootstrap</td>\n",
        "      <td>          hummingbird12/bootstrap</td>\n",
        "      <td> 1</td>\n",
        "    </tr>\n",
        "    <tr>\n",
        "      <th>2</th>\n",
        "      <td>         bootstrap-sass</td>\n",
        "      <td>         shaggyone/bootstrap-sass</td>\n",
        "      <td> 1</td>\n",
        "    </tr>\n",
        "    <tr>\n",
        "      <th>3</th>\n",
        "      <td>              bootstrap</td>\n",
        "      <td>              kabaskimy/bootstrap</td>\n",
        "      <td> 1</td>\n",
        "    </tr>\n",
        "    <tr>\n",
        "      <th>4</th>\n",
        "      <td>                   fpxx</td>\n",
        "      <td>                 ericniebler/fpxx</td>\n",
        "      <td> 0</td>\n",
        "    </tr>\n",
        "    <tr>\n",
        "      <th>5</th>\n",
        "      <td> Bootstrap-Form-Builder</td>\n",
        "      <td>  nthelton/Bootstrap-Form-Builder</td>\n",
        "      <td> 1</td>\n",
        "    </tr>\n",
        "    <tr>\n",
        "      <th>6</th>\n",
        "      <td>         bootstrap_form</td>\n",
        "      <td>         shobhitic/bootstrap_form</td>\n",
        "      <td> 1</td>\n",
        "    </tr>\n",
        "    <tr>\n",
        "      <th>7</th>\n",
        "      <td>  select2-bootstrap-css</td>\n",
        "      <td>    angelim/select2-bootstrap-css</td>\n",
        "      <td> 1</td>\n",
        "    </tr>\n",
        "    <tr>\n",
        "      <th>8</th>\n",
        "      <td>   bootstrap-datepicker</td>\n",
        "      <td> bensanssous/bootstrap-datepicker</td>\n",
        "      <td> 1</td>\n",
        "    </tr>\n",
        "    <tr>\n",
        "      <th>9</th>\n",
        "      <td>                    fpw</td>\n",
        "      <td>                       korisk/fpw</td>\n",
        "      <td> 0</td>\n",
        "    </tr>\n",
        "  </tbody>\n",
        "</table>\n",
        "<p>10 rows \u00d7 3 columns</p>\n",
        "</div>"
       ],
       "metadata": {},
       "output_type": "pyout",
       "prompt_number": 417,
       "text": [
        "                     name                         full_name  fork\n",
        "0               bootstrap             justin-john/bootstrap     1\n",
        "1               bootstrap           hummingbird12/bootstrap     1\n",
        "2          bootstrap-sass          shaggyone/bootstrap-sass     1\n",
        "3               bootstrap               kabaskimy/bootstrap     1\n",
        "4                    fpxx                  ericniebler/fpxx     0\n",
        "5  Bootstrap-Form-Builder   nthelton/Bootstrap-Form-Builder     1\n",
        "6          bootstrap_form          shobhitic/bootstrap_form     1\n",
        "7   select2-bootstrap-css     angelim/select2-bootstrap-css     1\n",
        "8    bootstrap-datepicker  bensanssous/bootstrap-datepicker     1\n",
        "9                     fpw                        korisk/fpw     0\n",
        "\n",
        "[10 rows x 3 columns]"
       ]
      }
     ],
     "prompt_number": 417
    },
    {
     "cell_type": "markdown",
     "metadata": {},
     "source": [
      "These results look a bit strange. Around 100k, so should be able find something here. "
     ]
    },
    {
     "cell_type": "markdown",
     "metadata": {},
     "source": [
      "## Scientific software\n",
      "\n",
      "This is a huge topic. I have a list of around 1000 fields"
     ]
    },
    {
     "cell_type": "code",
     "collapsed": false,
     "input": [
      "\n",
      "scilist  = pd.read_csv('topic_lists/science.csv', header=None, names = ['name'])\n",
      "scilist.shape\n",
      "sci_qs = []\n",
      "for i in range(100, scilist.shape[0], 100):\n",
      "    sci_qs.append('|'.join(scilist['name'][i-100:i].str.strip()).lower())\n"
     ],
     "language": "python",
     "metadata": {},
     "outputs": [],
     "prompt_number": 458
    },
    {
     "cell_type": "code",
     "collapsed": true,
     "input": [
      "sci_dfs = []\n",
      "for qu in sci_qs:\n",
      "    sci_dfs.append(construct_repo_df(qu))"
     ],
     "language": "python",
     "metadata": {},
     "outputs": [
      {
       "output_type": "stream",
       "stream": "stdout",
       "text": [
        "starting bigquery ... \n",
        "artificial.?neural.?network|string.?theory|support.?vector.?machine|actuarial.?science|assignment.?problem|astrophysical.?plasma|automated.?reasoning|behavioral.?geography|black.?holes|bootstrap.?statistics|calculus.?outline|chaos.?theory|children's.?geographies|coding.?theory|commutative.?algebra|computational.?complexity.?theory|computational.?fluid.?dynamics|computer.?vision|conchology|concurrent.?programming|decision.?analysis|demography|deontic.?logic|development.?geography|distributed.?database|doxastic.?logic|dynamic.?programming|econometrics|economic.?development|education.?policy|epidemiology|exercise.?physiology|feminist.?geography|finite.?element.?analysis|foot.?and.?ankle.?surgery|forensic.?science.?outline|fourier.?analysis|fractal.?geometry|functional.?programming|fuzzy.?logic|galaxy.?formation.?and.?evolution|gamma.?ray.?astronomy|glaciology|group.?representation|hand.?surgery|health.?geography|health.?policy|helioseismology|hepatology|high.?energy.?astrophysics|housing.?policy|hydrodynamics|imperative.?programming|infrared.?astronomy|integral.?geometry|inventory.?theory|joint.?replacement|labor.?policy|limnology|linear.?programming|logic.?programming|machine.?learning|magnetohydrodynamics|mathematical.?optimization|mathematical.?statistics|medical.?toxicology|microwave.?astronomy|military.?geography|natural.?language.?processing.?computational.?linguistics|noncommutative.?algebra|object.?database|object.?oriented.?programming|oceanography|operator.?theory|optical.?astronomy|optimal.?maintenance|palaeoclimatology|police.?science|probability.?outline|quantum.?field.?theory|quantum.?gravity|quantum.?mechanics|radio.?astronomy|real.?options.?analysis|relational.?database|scheduling|shoulder.?surgery|social.?development|social.?policy|sound.?and.?music.?computing|sports.?medicine|star.?formation|statistical.?mechanics|stellar.?evolution|stellar.?nucleosynthesis|stochastic.?processes|strategic.?geography|structural.?equation.?model|systems.?analysis|television.?studies*\n",
        "\r",
        "Waiting on bqjob_r742789b2d079b25d_00000145ff49799f_154 ... (0s) Current status: DONE   "
       ]
      },
      {
       "output_type": "stream",
       "stream": "stdout",
       "text": [
        "\n",
        "(13518, 3)"
       ]
      },
      {
       "output_type": "stream",
       "stream": "stdout",
       "text": [
        "\n",
        "starting bigquery ... \n",
        "time.?series|topos.?theory|tourism.?geography|type.?design|uv.?astronomy|x.?ray.?astronomy|addiction.?medicine|admiralty.?law|advertising|affine.?geometry|agricultural.?education|agricultural.?policy|agroecology|algebraic.?symbolic.?computation|algebraic.?number.?theory|algebraic.?topology|alternative.?education|analytic.?number.?theory|andrology|animal.?communication|animal.?communications|animal.?law/animal.?rights|anthropology.?of.?religion|apiology|appalachian.?studies|approximation.?theory|arachnology|architecture.?outline|art.?education|associative.?algebra|athletic.?director|athletic.?training|automata.?theory.?formal.?languages|automotive.?engineering|bariatric.?surgery|beekeeping.?apiculture|behavioral.?medicine|behavioral.?neuroscience|behavioural.?genetics|biblical.?hebrew|biblical.?studies/sacred.?scripture|bilingual.?education|biogeography|biological.?systems.?engineering|biomechanical.?engineering|biomedical.?engineering|biostatistics|block.?design.?and.?analysis.?of.?variance|broadcast.?journalism|canadian.?studies|carcinology|cardiology|cardiothoracic.?surgery|category.?theory|celtic.?studies|ceramic.?engineering|cetology|chemistry.?education|christian.?ethics|citation.?analysis|civil.?procedure|climatology|clinical.?biochemistry|clinical.?immunology|clinical.?microbiology|clinical.?psychology|cloud.?computing|coastal.?geography|coastal.?management|cognitive.?science|collective.?bargaining|combinatorics.?outline|communication.?design|community.?informatics|community.?organizing|comparative.?anatomy|compilers|complex.?analysis|computability.?theory|computational.?biology.?bioinformatics|computational.?chemistry|computational.?complexity.?theory|computational.?economics|computational.?finance|computational.?geometry|computational.?mathematics|computational.?neuroscience|computational.?number.?theory|computational.?physics|computational.?sociology|computational.?sociology|computer.?aided.?engineering|concurrency.?theory|contract.?law|control.?engineering|control.?systems|convex.?geometry|cooperative.?learning|corporations|counseling.?psychology\n",
        "\r",
        "Waiting on bqjob_r43fbd60631be6102_00000145ff499674_155 ... (0s) Current status: DONE   "
       ]
      },
      {
       "output_type": "stream",
       "stream": "stdout",
       "text": [
        "\n",
        "(5217, 3)"
       ]
      },
      {
       "output_type": "stream",
       "stream": "stdout",
       "text": [
        "\n",
        "starting bigquery ... \n",
        "counselor.?education|criminal.?justice.?outline|criminal.?procedure|cryptography|cryptography|cultural.?geography|cytogenetics|cytohematology|cytology|data.?management|data.?mining|data.?mining|database.?outline|decision.?theory|defense.?policy|dental.?hygiene.?and.?epidemiology|dental.?surgery|dermatology|developmental.?systems.?theory|diachronic.?linguistics.?or.?historical.?linguistics|differential.?algebra|differential.?topology|discrete.?geometry|distributed.?algorithms|dogmatic.?theology|domestic.?policy|drug.?policy|dynamical.?systems|dynamical.?systems|earthquake.?engineering|ecclesiology|economic.?anthropology|economic.?geography|economic.?sociology/socioeconomics|elementary.?education|embryology|endocrinology|endodontics|energy.?policy|engineering.?geology|entomology|environmental.?communication|environmental.?law|environmental.?policy|ergodic.?theory|ergonomics.?outline|ethnobotany|ethnoecology|ethnography|ethnohistory|ethnolinguistics|ethnology|ethnomethodology|ethnomusicology|ethnozoology|ethology|expert.?systems|fault.?tolerant.?computing|field.?theory|fiscal.?policy|fisheries.?management|folklore|food.?engineering|food.?engineering|foodservice.?management*|foreign.?policy|forensic.?anthropology|formal.?methods.?formal.?verification|formal.?methods.?formal.?verification|functional.?analysis|game.?design|game.?theory|gastroenterology|gene.?culture.?coevolution|general.?practice|general.?systems.?theory|general.?topology|geodesy|geometric.?number.?theory|geometric.?topology|geomorphology|geotechnical.?engineering|geriatrics|german.?studies|graph.?theory|graphic.?design|gravitational.?astronomy|grid.?computing|group.?fitness.?/.?aerobics|group.?fitness.?/.?aerobics|group.?theory|gynaecology|haemostasiology|harmonic.?analysis|health.?informatics|health.?psychology|helminthology|hematology|herpetology|high.?performance.?computing\n",
        "\r",
        "Waiting on bqjob_r3c0dc2377f0082ad_00000145ff49aa86_156 ... (0s) Current status: DONE   "
       ]
      },
      {
       "output_type": "stream",
       "stream": "stdout",
       "text": [
        "\n",
        "(4109, 3)"
       ]
      },
      {
       "output_type": "stream",
       "stream": "stdout",
       "text": [
        "\n",
        "starting bigquery ... \n",
        "higher.?education|highway.?engineering|histology|historical.?geography|history.?of.?computer.?hardware|history.?of.?computer.?science.?outline|homiletics|homological.?algebra|human.?anatomy.?outline|human.?behavioral.?ecology|human.?ecology|human.?evolution|human.?physiology|human.?resources|humanistic.?informatics|hydrology/hydrography|ichthyology|image.?processing|immigration.?policy|implantology|indology.?indian.?studies|infectious.?disease|information.?architecture|information.?management|information.?retrieval|information.?theory|information.?theory|information.?theory|integral.?geometry|interaction.?design|intercultural.?communication|interior.?design.?interior.?architecture|international.?law|internet.?outline|internet.?world.?wide.?web|interstellar.?medium|intuitionistic.?logic|intuitionistic.?logic|iranian.?studies|japanology.?japanese.?studies|k.?theory|kinesiology.?/.?exercise.?science.?/.?human.?performance|knowledge.?management|korean.?studies|labor.?economics|labor.?history|labor.?law|land.?management|landscape.?architecture.?landscape.?planning|landscape.?ecology|landscape.?ecology|language.?education|latin|latin.?american.?studies|lattice.?theory.?order.?theory|legal.?education|leisure.?studies|lie.?algebra|linear.?algebra.?vector.?space|literary.?journalism|liturgy|logic.?programming|logical.?reasoning|magazine|malacology|mammalogy|management.?information.?systems|manufacturing.?engineering|marine.?engineering|marketing.?outline|mass.?communication|mastery.?learning|mathematical.?physics|mathematical.?statistics|mathematical.?system.?theory|mathematics.?education|measure.?theory|medical.?anthropology|medical.?education|medical.?psychology|metallurgical.?engineering|military.?education.?and.?training|missiology|missiology|modal.?logic|modal.?logic|modal.?logic|model.?theory|model.?theory|molecular.?genetics|molecular.?genetics|molecular.?virology|multi.?valued.?logic|multilinear.?algebra|multimedia.?hypermedia|multivariate.?analysis|museum.?administration|music.?education|myrmecology|mythology\n",
        "\r",
        "Waiting on bqjob_r85278fbec46e1b6_00000145ff49bb7f_157 ... (0s) Current status: DONE   "
       ]
      },
      {
       "output_type": "stream",
       "stream": "stdout",
       "text": [
        "\n",
        "(25426, 3)"
       ]
      },
      {
       "output_type": "stream",
       "stream": "stdout",
       "text": [
        "\n",
        "starting bigquery ... \n",
        "natural.?resource.?management|naval.?architecture|naval.?architecture|naval.?engineering|naval.?tactics|naval.?tactics|nematology|nephrology|neuroethology|neurology|neurosurgery|neurosurgery|new.?media.?journalism|new.?testament.?greek|newspaper|non.?associative.?algebra|non.?euclidean.?geometry|non.?governmental.?organization.?ngo.?administration|non.?governmental.?organization.?ngo.?administration|non.?standard.?analysis|noncommutative.?geometry|nonprofit.?administration|nonprofit.?administration|nonverbal.?communication|numerical.?analysis|numerical.?analysis|numerical.?simulations.?in|nursing.?education|nursing.?theory|observational.?astronomy|obstetrics.?.?.?outline|old.?church.?slavonic|oncology|oology|operations.?research|ophthalmology|oral.?and.?maxillofacial.?surgery|ordinary.?differential.?equations|organizational.?communication|organizational.?studies|ornithology|orthodontics|orthopedic.?surgery|otolaryngology|p.?adic.?analysis|palaeogeography|paleoanthropology|paleobiology|paleontology|paralegal.?studies|parallel.?algorithms|parasitology|partial.?differential.?equations|pastoral.?counseling|pastoral.?theology|pathology|peace.?education|pediatrics|periodontics|personal.?fitness.?training|personal.?trainer.?/.?personal.?fitness.?training|phenomenology|phycology|physical.?cosmology|physical.?education/sports.?coaching|physics.?education|planktology|plastic.?surgery|political.?anthropology|political.?geography.?&.?geopolitics|political.?sociology|polymer.?engineering|pomology|population.?genetics|population.?genetics|population.?geography|port.?management|preventive.?medicine|primatology|primatology|print.?journalism|program.?semantics|programming.?language.?semantics|programming.?paradigms|projective.?geometry|proof.?theory|proof.?theory|propaganda|property.?law|prosthodontics|psychological.?anthropology|public.?relations.?outline|public.?sociology|pulmonology|pulmonology|pure.?sociology|quality.?control|radio.?outline|randomized.?algorithms|reading.?education\n",
        "\r",
        "Waiting on bqjob_r18015e45a1ffec22_00000145ff49e380_158 ... (0s) Current status: DONE   "
       ]
      },
      {
       "output_type": "stream",
       "stream": "stdout",
       "text": [
        "\n",
        "(1710, 3)"
       ]
      },
      {
       "output_type": "stream",
       "stream": "stdout",
       "text": [
        "\n",
        "starting bigquery ... \n",
        "real.?analysis|recursion.?theory|recursion.?theory|regression|reliability.?theory|religious.?education|religious.?education.?techniques|representation.?theory|response.?surface.?methodology|ring.?theory|robotics.?outline|sacramental.?theology|sacred.?music|sampling.?theory|scandinavian.?studies|science.?education|scientific.?computing.?computational.?science|scientific.?visualization|secondary.?education|set.?theory|set.?theory|sex.?education|simulation|sinology.?outline.?chinese.?studies|slavic.?studies|sleep.?medicine|social.?constructionism|social.?engineering|social.?geography|social.?movements|social.?network.?analysis|social.?policy|sociolinguistics|sociology.?of.?education|southeast.?asian.?studies|special.?education|speech.?communication|sports.?journalism.?/.?sportscasting|statistics|stellar.?astrophysics|stochastic.?process|survey.?methodology|sustainable.?development|symbolic.?interactionism|synchronic.?linguistics.?or.?descriptive.?linguistics|systematic.?theology|systems.?analysis|tax.?law|technical.?drawing|technical.?writing|technology.?education|television.?outline|teratology|the.?digital.?humanities.?humanities.?computing|theory.?of.?computation|time.?geography|tort.?law|toy.?and.?amusement.?design|trade.?policy|translation|transportation.?engineering|traumatology|type.?theory|type.?theory|ubiquitous.?computing|universal.?algebra|urban.?geography|urban.?planning.?urban.?design|user.?experience.?evaluation|user.?interface.?design|vlsi.?design|vocational.?education|weapons.?systems|wildlife.?management|wireless.?computing.?mobile.?computing|zoosemiotics|zootomy|abnormal.?psychology|accounting.?scholarship|acoustics|aerobiology|aerospace.?engineering|african.?studies|agricultural.?economics|agricultural.?economics|agricultural.?engineering|agricultural.?engineering|agrochemistry|agroecology|agrology|agronomy|algebra.?outline|algorithms|american.?politics|american.?studies|amphibious.?warfare|analysis|analytical.?chemistry|anarchist.?economics|anatomy\n",
        "\r",
        "Waiting on bqjob_r62240760b9d6851c_00000145ff49f081_159 ... (0s) Current status: DONE   "
       ]
      },
      {
       "output_type": "stream",
       "stream": "stdout",
       "text": [
        "\n",
        "(59626, 3)"
       ]
      },
      {
       "output_type": "stream",
       "stream": "stdout",
       "text": [
        "\n",
        "starting bigquery ... \n",
        "animal.?husbandry.?animal.?science|anthropological.?linguistics|applied.?mathematics|applied.?physics|applied.?psychology|applied.?sociology|aquaculture|architectural.?analytics|architectural.?analytics|architectural.?engineering|architecture.?and.?related.?design|archival.?science|artificial.?intelligence.?outline|artillery|asian.?american.?studies|asian.?studies|asian.?studies|astrobiology|astrochemistry|astronomy.?outline|astrophysics|astrophysics|atmospheric.?chemistry|atomic.?molecular.?and.?optical.?physics|australian.?studies|behavioral.?economics|bibliometrics|biochemistry.?outline|biochemistry.?outline|bioeconomics|bioengineering|bioinformatics|biological.?anthropology|biological.?psychology|biomechanics.?/.?sports.?biomechanics|biophysics.?outline.?of.?biophysics|biophysics.?outline|biotechnology.?outline|black.?studies.?or.?african.?american.?studies|botany.?outline|business.?administration|business.?analysis|business.?ethics|business.?law|campaigning|canadian.?politics|canon.?law|canon.?law|cartography.?outline|cell.?biology.?outline|chemical.?biology|chemical.?engineering|chemical.?engineering|cheminformatics|chicano.?studies|child.?welfare|childhood.?studies|chronobiology|church.?history|civics|civil.?engineering|civil.?law|classical.?archaeology|clinical.?laboratory.?sciences/clinical.?pathology/laboratory.?medicine|clinical.?neuropsychology|clinical.?physiology|clinical.?psychology|cognitive.?psychology|collective.?behavior|communication.?studies|community.?informatics|community.?practice|community.?psychology|comparative.?law|comparative.?politics|comparative.?psychology|comparative.?sociology|competition.?law|complex.?systems|complexity.?economics|computational.?biology|computational.?chemistry|computational.?economics|computational.?physics|computational.?statistics|computer.?architecture|computer.?communications.?networks|computer.?engineering.?outline|computer.?graphics|computer.?security.?and.?reliability|computing.?in.?mathematics.?natural.?sciences.?engineering.?and.?medicine|computing.?in.?social.?sciences.?arts.?and.?humanities.?professions|condensed.?matter.?physics|conflict.?theory|conservation.?biology|conservation.?psychology|conservation.?science|constitutional.?law|consumer.?economics|consumer.?education\n",
        "\r",
        "Waiting on bqjob_r410f7b2cf19cda78_00000145ff4a1830_160 ... (0s) Current status: DONE   "
       ]
      },
      {
       "output_type": "stream",
       "stream": "stdout",
       "text": [
        "\n",
        "(1918, 3)"
       ]
      },
      {
       "output_type": "stream",
       "stream": "stdout",
       "text": [
        "\n",
        "starting bigquery ... \n",
        "consumer.?education|consumer.?psychology|control.?systems.?engineering|control.?theory|corrections|corrections|cosmochemistry|counseling.?psychology|criminal.?justice.?outline|criminal.?law|criminology/criminal.?justice.?outline|critical.?management.?studies|critical.?pedagogy|cryobiology|cryogenics|cultural.?anthropology|cultural.?psychology|cultural.?studies|curriculum.?and.?instruction|cybernetics|dance.?outline|data.?structures|demography/population|dentistry.?outline|design.?of.?experiments|development.?economics|developmental.?biology|developmental.?psychology|differential.?psychology|disability.?studies|distance.?education|distributed.?computing|doctrine|e.?business|ecological.?economics|ecological.?engineering|ecology.?outline|econometrics|economic.?geography|economic.?history|economic.?sociology|economic.?systems|edaphology|educational.?leadership|educational.?philosophy|educational.?psychology|educational.?psychology|educational.?technology|egyptology|electrical.?engineering.?outline|electrochemistry|electromagnetism|electronic.?engineering|elementary.?particle.?physics|emergency.?management|endocrinology|energy.?economics|engineering.?physics|enology|entomology|entrepreneurial.?economics|entrepreneurship|environmental.?chemistry|environmental.?chemistry|environmental.?economics|environmental.?engineering|environmental.?geography|environmental.?management|environmental.?policy|environmental.?psychology|environmental.?science|environmental.?sociology|ergonomics|european.?studies|evolutionary.?biology|evolutionary.?economics|evolutionary.?psychology|exercise.?physiology|experimental.?archaeology|experimental.?economics|experimental.?psychology|family.?psychology|fashion.?design|feminine.?psychology|feminist.?economics|feminist.?sociology|femtochemistry|field.?ministry|finance.?outline|financial.?econometrics|financial.?economics|fire.?ecology.?wildland.?fire.?management|fire.?safety.?structural.?fire.?protection|flavor|flow.?chemistry|fluid.?dynamics|food.?science|forensic.?psychology|futures.?studies.?outline|game.?design\n",
        "\r",
        "Waiting on bqjob_r1a86c662a510b94c_00000145ff4a2839_161 ... (0s) Current status: DONE   "
       ]
      },
      {
       "output_type": "stream",
       "stream": "stdout",
       "text": [
        "\n",
        "(13003, 3)"
       ]
      },
      {
       "output_type": "stream",
       "stream": "stdout",
       "text": [
        "\n",
        "starting bigquery ... \n",
        "game.?theory|game.?theory|gemology|gender.?studies/gender.?theory|genetics.?outline|geochemistry|geochemistry|geodesy|geography.?outline|geology.?outline|geometry.?outline.?and.?topology|geomorphology|geophysics.?outline|geophysics.?outline|geopolitics.?political.?geography|gerontology|glaciology|governmental.?affairs|green.?chemistry|green.?economics|group.?psychology|growth.?economics|health.?informatics/clinical.?informatics|health.?psychology|heterosexism|highway.?safety|histochemistry|historic.?preservation|horticulture|housing*|human.?biology|human.?development.?theory|human.?ecology|human.?geography|human.?sexual.?behavior|human.?sexuality.?outline|human.?computer.?interaction|humanistic.?psychology|humanistic.?sociology|hydrogenation|hydrogeology|hydrology.?outline|hydrology.?outline|immunochemistry|immunology|industrial.?and.?labor.?relations|industrial.?design.?product.?design|industrial.?engineering|industrial.?organization|infographics|informatics|information.?architecture|information.?economics|information.?science|information.?systems.?business.?informatics|information.?technology.?outline|inorganic.?chemistry|institutional.?economics|instrumentation.?engineering|interactionism|interior.?design|intermodal.?transportation.?studies|internal.?medicine|international.?affairs|international.?economics|international.?organizations|international.?relations|international.?trade|islamic.?economics|islamic.?law|jewish.?law|journalism.?outline|jurisprudence.?philosophy.?of.?law|kinesiology.?/.?exercise.?science.?/.?human.?performance|labor.?economics|latino.?studies|law.?and.?economics|leadership|legal.?psychology|leisure.?studies|limnology|linnaean.?taxonomy|logic.?and.?foundations.?of.?mathematics|logic.?in.?computer.?science|logistics|macroeconomics|managerial.?economics|marine.?biology|marine.?chemistry|marine.?transportation|maritime.?archaeology|marketing.?outline|marxian.?economics|masculine.?psychology|mass.?transit|materials.?engineering|materials.?science|materials.?science|mathematical.?biology|mathematical.?chemistry\n",
        "\r",
        "Waiting on bqjob_r550eee8e64dc9500_00000145ff4a39c1_162 ... (0s) Current status: DONE   "
       ]
      },
      {
       "output_type": "stream",
       "stream": "stdout",
       "text": [
        "\n",
        "(3150, 3)"
       ]
      },
      {
       "output_type": "stream",
       "stream": "stdout",
       "text": [
        "\n",
        "starting bigquery ... \n",
        "mathematical.?economics|mathematical.?logic|mathematical.?physics|mechanical.?engineering|mechanics|mechanochemistry|media.?psychology|media.?studies.?mass.?media|medical.?physics|medical.?psychology|medical.?social.?work|medical.?sociology|medicinal.?chemistry|men's.?studies|mental.?health|meteorology.?outline|microbiology|microeconomics|middle.?east.?studies|midwifery.?obstetrics|military.?engineering|military.?history|military.?intelligence|military.?law|military.?medicine|military.?psychology|military.?sociology|mineralogy|mining.?engineering|molecular.?biology|molecular.?biology|molecular.?mechanics|molecular.?physics|monetary.?economics|moral.?psychology.?and.?descriptive.?ethics|museology|mycology|nanoengineering|nanotechnology|nationalism.?studies|native.?american.?studies|natural.?product.?chemistry|naval.?science|near.?eastern.?archaeology|neurochemistry|neuroeconomics|neuropsychology|neuroscience.?outline|newtonian.?dynamics|nuclear.?engineering|nuclear.?physics|number.?theory|nursing|nutrition.?outline|nutrition.?outline|nutrition.?outlineand.?dietetics|occupational.?health.?psychology|occupational.?therapy|ocean.?engineering|oceanography.?outline|oenology|operating.?systems|operations.?research|operations.?research|optical.?engineering|optics|optometry|organic.?chemistry.?outline|organizational.?psychology|organizational.?studies|organometallic.?chemistry|orthoptics|paleoanthropology|paleobiology|paleontology|parallel.?computing|parapsychology.?outline|parasitology|participatory.?economics|pathology|peace.?and.?conflict.?studies|peace.?and.?conflict.?studies|pediatric.?psychology|pedology|personality.?psychology|petrochemistry|petroleum.?engineering|pharmaceutical.?sciences|pharmacology|pharmacy|philosophical.?logic|photochemistry|physical.?chemistry|physical.?education.?/.?pedagogy|physical.?fitness|physical.?fitness|physical.?geography|physical.?organic.?chemistry|physiology|physiotherapy\n",
        "\r",
        "Waiting on bqjob_r3972cd62871ce236_00000145ff4a496d_163 ... (0s) Current status: DONE   "
       ]
      },
      {
       "output_type": "stream",
       "stream": "stdout",
       "text": [
        "\n",
        "(2652, 3)"
       ]
      },
      {
       "output_type": "stream",
       "stream": "stdout",
       "text": [
        "\n",
        "starting bigquery ... \n",
        "phytochemistry|planetary.?science.?alternatively.?a.?part.?of.?earth.?science|planetary.?science.?alternatively.?a.?part.?of.?space.?science|plant.?science|plasma.?physics|podiatry|police.?science|policy.?studies|political.?behavior|political.?culture|political.?economy|political.?economy|political.?history|political.?philosophy|political.?psychology|polymer.?chemistry|positive.?psychology|prehistoric.?archaeology|primary.?care|probability.?theory|programming.?languages|psephology|psychiatry.?outline|psychoanalysis|psychology.?outline|psychology.?of.?religion|psychometrics|psychophysics|public.?administration|public.?administration|public.?economics|public.?finance|public.?health|public.?policy|public.?policy|purchasing|quality.?assurance.?engineering|quantitative.?psychology|quantum.?chemistry|quantum.?computing|quantum.?physics|queer.?studies/queer.?theory|radiochemistry|radiology|real.?estate.?economics|recreation.?ecology|recreation.?therapy|regional.?geography|rehabilitation.?medicine|rehabilitation.?psychology|remote.?sensing|resource.?economics|respiratory.?medicine|respiratory.?therapy|rheumatology|risk.?management.?and.?insurance|safety.?engineering|sample.?survey|school.?psychology|school.?social.?work|science.?studies/science.?and.?technology.?studies|scriptural.?study.?and.?languages|sedimentology|see.?also.?acm.?computing.?classification.?system|see.?also.?biology.?outline|see.?also.?branches.?of.?chemistry|see.?also.?branches.?of.?earth.?sciences|see.?also.?branches.?of.?engineering|see.?also.?branches.?of.?life.?sciences|see.?also.?branches.?of.?mathematics.?and.?ams.?mathematics.?subject.?classification|see.?also.?branches.?of.?physics|sex.?education|sexology|sexology|sexology|silviculture|social.?capital|social.?change|social.?choice.?theory|social.?choice.?theory|social.?control|social.?economy|social.?philosophy|social.?policy|social.?psychology|social.?psychology|social.?research|social.?stratification|social.?theory|social.?transformation|socialist.?economics|sociobiology|sociocybernetics|socioeconomics|sociolinguistics|sociological.?theory|sociology.?of.?culture|sociology.?of.?deviance|sociology.?of.?education|sociology.?of.?gender\n",
        "\r",
        "Waiting on bqjob_r792b074c91636f2c_00000145ff4a59ee_164 ... (0s) Current status: DONE   "
       ]
      },
      {
       "output_type": "stream",
       "stream": "stdout",
       "text": [
        "\n",
        "(2268, 3)"
       ]
      },
      {
       "output_type": "stream",
       "stream": "stdout",
       "text": [
        "\n",
        "starting bigquery ... \n",
        "sociology.?of.?knowledge|sociology.?of.?law|sociology.?of.?religion|sociology.?of.?sport|sociology.?of.?sport|sociology.?of.?the.?family|sociology.?of.?work|software.?engineering|software.?engineering.?outline|soil.?science|solid.?mechanics|solid.?state.?physics|solid.?state.?chemistry|sonochemistry|speech.?and.?language.?pathology|speleology|sport.?management|sport.?psychology|sport.?psychology|sports.?coaching|sports.?journalism.?/.?sportscasting|sports.?medicine|sports.?medicine|statistical.?mechanics|statistical.?modelling|statistical.?theory|strategy|structural.?engineering|supramolecular.?chemistry|surface.?chemistry|surgery|sustainability.?studies|synthetic.?chemistry|systematics.?taxonomy|systems.?biology|systems.?dynamics|systems.?engineering|systems.?engineering|systems.?science|systems.?theory|tactics|tectonics|telecommunications.?engineering|textile.?design|textiles*|theology.?outline|theoretical.?chemistry|theoretical.?physics|theory.?of.?computation|thermochemistry|thermodynamics|toxicology|toy.?and.?amusement.?design|transport.?economics|urban.?studies.?or.?urban.?sociology/rural.?sociology|urology|user.?experience.?design|vehicle.?dynamics|vehicle.?engineering|veterinary.?medicine|virology|visual.?communication|visual.?sociology|viticulture|volcanology|web.?engineering|welfare.?economics|women's.?studies|xenobiology|zoology.?outline|agriculture|anthropology|archaeology|architecture.?and.?design|area.?studies|biology|business|chemistry|computer.?sciences|cultural.?and.?ethnic.?studies|divinity|earth.?sciences|economics|education|engineering|environmental.?studies.?and.?forestry|family.?and.?consumer.?science|formal.?sciences|gender.?and.?sexuality.?studies|geography|healthcare.?science|human.?physical.?performance.?and.?recreation*|journalism.?media.?studies.?and.?communication|law|library.?and.?museum.?studies|military.?sciences|natural.?sciences|physics|political.?science|professions.?and.?applied.?sciences\n",
        "\r",
        "Waiting on bqjob_r5183bd10c7a74866_00000145ff4a6900_165 ... (0s) Current status: DONE   "
       ]
      },
      {
       "output_type": "stream",
       "stream": "stdout",
       "text": [
        "\n",
        "(34820, 3)"
       ]
      },
      {
       "output_type": "stream",
       "stream": "stdout",
       "text": [
        "\n"
       ]
      }
     ],
     "prompt_number": 466
    },
    {
     "cell_type": "code",
     "collapsed": false,
     "input": [
      "sci_df = pd.DataFrame()\n",
      "for df in sci_dfs:\n",
      "    sci_df = sci_df.append(df)\n",
      "print sci_df.shape\n",
      "sci_df.head()"
     ],
     "language": "python",
     "metadata": {},
     "outputs": [
      {
       "output_type": "stream",
       "stream": "stdout",
       "text": [
        "(167417, 3)\n"
       ]
      },
      {
       "html": [
        "<div style=\"max-height:1000px;max-width:1500px;overflow:auto;\">\n",
        "<table border=\"1\" class=\"dataframe\">\n",
        "  <thead>\n",
        "    <tr style=\"text-align: right;\">\n",
        "      <th></th>\n",
        "      <th>fork</th>\n",
        "      <th>full_name</th>\n",
        "      <th>name</th>\n",
        "    </tr>\n",
        "  </thead>\n",
        "  <tbody>\n",
        "    <tr>\n",
        "      <th>0</th>\n",
        "      <td> 1</td>\n",
        "      <td> jtgonz/opencv-processing</td>\n",
        "      <td> opencv-processing</td>\n",
        "    </tr>\n",
        "    <tr>\n",
        "      <th>1</th>\n",
        "      <td> 0</td>\n",
        "      <td>             hcliu/docket</td>\n",
        "      <td>            docket</td>\n",
        "    </tr>\n",
        "    <tr>\n",
        "      <th>2</th>\n",
        "      <td> 0</td>\n",
        "      <td> pipeDelimited/PatternsDB</td>\n",
        "      <td>        PatternsDB</td>\n",
        "    </tr>\n",
        "    <tr>\n",
        "      <th>3</th>\n",
        "      <td> 1</td>\n",
        "      <td> joaopalotti/scikit-learn</td>\n",
        "      <td>      scikit-learn</td>\n",
        "    </tr>\n",
        "    <tr>\n",
        "      <th>4</th>\n",
        "      <td> 1</td>\n",
        "      <td>   HumanAnalytics/pattern</td>\n",
        "      <td>           pattern</td>\n",
        "    </tr>\n",
        "  </tbody>\n",
        "</table>\n",
        "<p>5 rows \u00d7 3 columns</p>\n",
        "</div>"
       ],
       "metadata": {},
       "output_type": "pyout",
       "prompt_number": 472,
       "text": [
        "   fork                 full_name               name\n",
        "0     1  jtgonz/opencv-processing  opencv-processing\n",
        "1     0              hcliu/docket             docket\n",
        "2     0  pipeDelimited/PatternsDB         PatternsDB\n",
        "3     1  joaopalotti/scikit-learn       scikit-learn\n",
        "4     1    HumanAnalytics/pattern            pattern\n",
        "\n",
        "[5 rows x 3 columns]"
       ]
      }
     ],
     "prompt_number": 472
    },
    {
     "cell_type": "markdown",
     "metadata": {},
     "source": [
      "Ok, 0.17M -- not a huge amount but worth tracking a bit more"
     ]
    },
    {
     "cell_type": "markdown",
     "metadata": {},
     "source": [
      "## Geo, gis and mapping software\n",
      "\n",
      "Mapserver is one of the most active repos on github. I gleaned a list from http://en.wikipedia.org/wiki/List_of_geographic_information_systems_software. There is lot of mapping software"
     ]
    },
    {
     "cell_type": "code",
     "collapsed": false,
     "input": [
      "gengeolist  = ['gis', 'geo']\n",
      "geolist  = pd.read_csv('topic_lists/geo_gis.csv', header=None, names = ['name'])\n",
      "geolist.shape\n",
      "geolist.head()\n"
     ],
     "language": "python",
     "metadata": {},
     "outputs": [
      {
       "html": [
        "<div style=\"max-height:1000px;max-width:1500px;overflow:auto;\">\n",
        "<table border=\"1\" class=\"dataframe\">\n",
        "  <thead>\n",
        "    <tr style=\"text-align: right;\">\n",
        "      <th></th>\n",
        "      <th>name</th>\n",
        "    </tr>\n",
        "  </thead>\n",
        "  <tbody>\n",
        "    <tr>\n",
        "      <th>0</th>\n",
        "      <td> Capaware</td>\n",
        "    </tr>\n",
        "    <tr>\n",
        "      <th>1</th>\n",
        "      <td>    GRASS</td>\n",
        "    </tr>\n",
        "    <tr>\n",
        "      <th>2</th>\n",
        "      <td>    gvSIG</td>\n",
        "    </tr>\n",
        "    <tr>\n",
        "      <th>3</th>\n",
        "      <td>   IDRISI</td>\n",
        "    </tr>\n",
        "    <tr>\n",
        "      <th>4</th>\n",
        "      <td> SAGA-GIS</td>\n",
        "    </tr>\n",
        "  </tbody>\n",
        "</table>\n",
        "<p>5 rows \u00d7 1 columns</p>\n",
        "</div>"
       ],
       "metadata": {},
       "output_type": "pyout",
       "prompt_number": 90,
       "text": [
        "       name\n",
        "0  Capaware\n",
        "1     GRASS\n",
        "2     gvSIG\n",
        "3    IDRISI\n",
        "4  SAGA-GIS\n",
        "\n",
        "[5 rows x 1 columns]"
       ]
      }
     ],
     "prompt_number": 90
    },
    {
     "cell_type": "code",
     "collapsed": false,
     "input": [
      "geoquery = '|'.join(geolist['name'].str.strip()).lower()\n",
      "geoquery = geoquery + '|geo|gis'\n",
      "print geoquery"
     ],
     "language": "python",
     "metadata": {},
     "outputs": [
      {
       "output_type": "stream",
       "stream": "stdout",
       "text": [
        "capaware|grass|gvsig|idrisi|saga-gis|grass|gvsig|ilwis|openjump|mapwindow|qgis|saga|udig|capaware|falconview|kalypso|terraview|whitebox|geoserver|mapguide|mapnik|mapserver|postgis|spatialite|terralib|geobase|geomajas|mapfish|openlayers|leafletjs|geotools|gdal|orfeo|geonetwork|chameleon|mappoint|autodesk|bentley|erdas|esri|intergraph|mapinfo|pci|remoteview|smallworld|supergeo|supermap|tntmips|avenza|cadcorp|caliper|dragon/ips|envi|geosoft|geotime|idrisi|mapdotnet|manifold|citysurf|netcad|regiograph|arcview|arcgis|arcsde|arcims|arcweb|arcgis|geo|gis\n"
       ]
      }
     ],
     "prompt_number": 92
    },
    {
     "cell_type": "code",
     "collapsed": false,
     "input": [
      "geo_df = construct_repo_df(geoquery)"
     ],
     "language": "python",
     "metadata": {},
     "outputs": [
      {
       "output_type": "stream",
       "stream": "stdout",
       "text": [
        "starting bigquery ... \n",
        "\r",
        "Waiting on bqjob_r732e689b7a24323b_00000145f0050557_21 ... (0s) Current status: RUNNING"
       ]
      },
      {
       "output_type": "stream",
       "stream": "stdout",
       "text": [
        " \r",
        "Waiting on bqjob_r732e689b7a24323b_00000145f0050557_21 ... (1s) Current status: RUNNING "
       ]
      },
      {
       "output_type": "stream",
       "stream": "stdout",
       "text": [
        "\r",
        "Waiting on bqjob_r732e689b7a24323b_00000145f0050557_21 ... (1s) Current status: DONE   \n",
        "(89239, 3)"
       ]
      },
      {
       "output_type": "stream",
       "stream": "stdout",
       "text": [
        "\n"
       ]
      }
     ],
     "prompt_number": 95
    },
    {
     "cell_type": "code",
     "collapsed": false,
     "input": [
      "geo_df.full_name[:30]"
     ],
     "language": "python",
     "metadata": {},
     "outputs": [
      {
       "metadata": {},
       "output_type": "pyout",
       "prompt_number": 97,
       "text": [
        "0                    isakvan/Register---Login-Examples\n",
        "1                               netconstructor/geodict\n",
        "2                                      mapping/geodict\n",
        "3                                     Big-Data/geodict\n",
        "4                                     scraping/geodict\n",
        "5                                BigData-Tools/geodict\n",
        "6                          v-iacovella/python-user-env\n",
        "7                                  oliverm-be/geomajas\n",
        "8                                     lat-lon/geomajas\n",
        "9                          ipa-desire/cob_environments\n",
        "10                                         hasin89/mgr\n",
        "11                                   crondaemon/ip2geo\n",
        "12                               alfonsodev/libre-user\n",
        "13                                    axal/Development\n",
        "14    rishahosli/system-mechanics-7-registration-crack\n",
        "15         ordafiban/system-registry-freeware-download\n",
        "16          etenaccob/system-registry-cleaner-download\n",
        "17                              matthewjhunt/twofishes\n",
        "18                     jarus/django-rest-framework-gis\n",
        "19                                    maste9/Statistix\n",
        "20                              ventosus/supercollider\n",
        "21                                iN1kk0/AuthRegSmarty\n",
        "22                                  vuntz/barclamp-dns\n",
        "23                                        hedersb/wati\n",
        "24                             stevexucd/Mobile-Detect\n",
        "25                           ucuzbilgisayar/bilgisayar\n",
        "26                      909652048/gis-tools-for-hadoop\n",
        "27                         909652048/geometry-api-java\n",
        "28             tualtioloapun/t21-pci-serial-controller\n",
        "29            909652048/geoprocessing-tools-for-hadoop\n",
        "Name: full_name, dtype: object"
       ]
      }
     ],
     "prompt_number": 97
    },
    {
     "cell_type": "markdown",
     "metadata": {},
     "source": [
      "The usual number here -- around 0.1 M. So substantial, but probably still very noisy"
     ]
    },
    {
     "cell_type": "markdown",
     "metadata": {},
     "source": [
      "## Data manipulations including statistics\n",
      "\n"
     ]
    },
    {
     "cell_type": "code",
     "collapsed": false,
     "input": [
      "datasoftware = pd.read_csv('topic_lists/data_stats.csv', header=None, names = ['name'])\n",
      "datasoftware.drop_duplicates(inplace=True)\n",
      "datasoftware.shape"
     ],
     "language": "python",
     "metadata": {},
     "outputs": [
      {
       "metadata": {},
       "output_type": "pyout",
       "prompt_number": 433,
       "text": [
        "(157, 1)"
       ]
      }
     ],
     "prompt_number": 433
    },
    {
     "cell_type": "code",
     "collapsed": false,
     "input": [
      "data_query1 = '|'.join(datasoftware['name'][:50].str.strip()).lower()\n",
      "print data_query1\n",
      "data_query2 = '|'.join(datasoftware['name'][50:100].str.strip()).lower()\n",
      "print data_query2\n",
      "data_query3 = '|'.join(datasoftware['name'][100:].str.strip()).lower()\n",
      "print data_query3"
     ],
     "language": "python",
     "metadata": {},
     "outputs": [
      {
       "output_type": "stream",
       "stream": "stdout",
       "text": [
        "adamsoft|acslx|admb|ampl|analyse-it|analytica|angoss|apmonitor:|armadillo|asreml|automlab|baudline|bayesian filtering library|bmdp|bv4.1|ceemple:|chronux|comsol|cspro|dadisp|dap|data applied|dataplot|dotplot|ejs|elki|epi|euler|fenics|fityk|flexpro|freemat|gauss|geoda|gnu|graphpad|gretl|hermes|idams/winidams|idl|igor|ilnumerics.net|jacket|jags|jlab|jmathlab|jmulti|julia|kpp|labplot\n",
        "labview|libsvm|limdep|lisrel|macsyma|madagascar|madartsoft|madeline|maple|mathcad|mathemagix|mathematica|matlab|mcsim|mcxlab|medcalc|metfem2d:|minitab|minuit|mlpack|mlwin|mondrian|mpmath|nag|ncar|ncss|nlogit|nmath|numbergo|numxl|o-matrix|octave|openbugs|openepi|openmx|optimj|orange|origin|originpro|pandas|pari/gp|partek|paw|pbdr|ploticus|plotly|primer-e|pspp|pv-wave|pylab\n",
        "qed|qtiplot|quadrigram|quadrigram|quantopix|quantum analytics|r commander|rapidminer|rats|rattle|revolution r|rlab|s-plus|sage|salome|salstat|sas|scavis|scigpgpu|scikit-learn|scilab|scipy|shazam|shogun|sigmastat|sigmaxl|simfit|simplexnumerica|simul|socr|sofa|spc|speakeasy|spss|stan|stata|statgraphics|statistica|statsdirect|statsmodels|statsxl|statxact|sudaan|sysquake|systat|trilinos|unistat|vissim|waffles|weka|winbugs|winpepi|x-12-arima|xlfit|xlisp-stat|xplore|yorick\n"
       ]
      }
     ],
     "prompt_number": 434
    },
    {
     "cell_type": "code",
     "collapsed": false,
     "input": [
      "datastat_df = construct_repo_df(data_query1)"
     ],
     "language": "python",
     "metadata": {},
     "outputs": [
      {
       "output_type": "stream",
       "stream": "stdout",
       "text": [
        "starting bigquery ... \n",
        "adamsoft|acslx|admb|ampl|analyse.?it|analytica|angoss|apmonitor|armadillo|asreml|automlab|baudline|bayesian.?filtering.?library|bmdp|bv4.1|ceemple|chronux|comsol|cspro|dadisp|dap|data.?applied|dataplot|dotplot|ejs|elki|epi|euler|fenics|fityk|flexpro|freemat|gauss|geoda|gnu|graphpad|gretl|hermes|idams/winidams|idl|igor|ilnumerics.net|jacket|jags|jlab|jmathlab|jmulti|julia|kpp|labplot\n",
        "\r",
        "Waiting on bqjob_r28b03e508ec732df_00000145fca89127_136 ... (0s) Current status: RUNNING"
       ]
      },
      {
       "output_type": "stream",
       "stream": "stdout",
       "text": [
        " \r",
        "Waiting on bqjob_r28b03e508ec732df_00000145fca89127_136 ... (2s) Current status: RUNNING "
       ]
      },
      {
       "output_type": "stream",
       "stream": "stdout",
       "text": [
        "\r",
        "Waiting on bqjob_r28b03e508ec732df_00000145fca89127_136 ... (4s) Current status: RUNNING "
       ]
      },
      {
       "output_type": "stream",
       "stream": "stdout",
       "text": [
        "\r",
        "Waiting on bqjob_r28b03e508ec732df_00000145fca89127_136 ... (7s) Current status: RUNNING "
       ]
      },
      {
       "output_type": "stream",
       "stream": "stdout",
       "text": [
        "\r",
        "Waiting on bqjob_r28b03e508ec732df_00000145fca89127_136 ... (9s) Current status: RUNNING "
       ]
      },
      {
       "output_type": "stream",
       "stream": "stdout",
       "text": [
        "\r",
        "Waiting on bqjob_r28b03e508ec732df_00000145fca89127_136 ... (11s) Current status: RUNNING "
       ]
      },
      {
       "output_type": "stream",
       "stream": "stdout",
       "text": [
        "\r",
        "Waiting on bqjob_r28b03e508ec732df_00000145fca89127_136 ... (13s) Current status: RUNNING "
       ]
      },
      {
       "output_type": "stream",
       "stream": "stdout",
       "text": [
        "\r",
        "Waiting on bqjob_r28b03e508ec732df_00000145fca89127_136 ... (14s) Current status: RUNNING "
       ]
      },
      {
       "output_type": "stream",
       "stream": "stdout",
       "text": [
        "\r",
        "Waiting on bqjob_r28b03e508ec732df_00000145fca89127_136 ... (16s) Current status: RUNNING "
       ]
      },
      {
       "output_type": "stream",
       "stream": "stdout",
       "text": [
        "\r",
        "Waiting on bqjob_r28b03e508ec732df_00000145fca89127_136 ... (17s) Current status: RUNNING "
       ]
      },
      {
       "output_type": "stream",
       "stream": "stdout",
       "text": [
        "\r",
        "Waiting on bqjob_r28b03e508ec732df_00000145fca89127_136 ... (19s) Current status: RUNNING "
       ]
      },
      {
       "output_type": "stream",
       "stream": "stdout",
       "text": [
        "\r",
        "Waiting on bqjob_r28b03e508ec732df_00000145fca89127_136 ... (20s) Current status: RUNNING "
       ]
      },
      {
       "output_type": "stream",
       "stream": "stdout",
       "text": [
        "\r",
        "Waiting on bqjob_r28b03e508ec732df_00000145fca89127_136 ... (21s) Current status: RUNNING "
       ]
      },
      {
       "output_type": "stream",
       "stream": "stdout",
       "text": [
        "\r",
        "Waiting on bqjob_r28b03e508ec732df_00000145fca89127_136 ... (22s) Current status: RUNNING "
       ]
      },
      {
       "output_type": "stream",
       "stream": "stdout",
       "text": [
        "\r",
        "Waiting on bqjob_r28b03e508ec732df_00000145fca89127_136 ... (23s) Current status: RUNNING "
       ]
      },
      {
       "output_type": "stream",
       "stream": "stdout",
       "text": [
        "\r",
        "Waiting on bqjob_r28b03e508ec732df_00000145fca89127_136 ... (23s) Current status: DONE   \n",
        "(410103, 3)"
       ]
      },
      {
       "output_type": "stream",
       "stream": "stdout",
       "text": [
        "\n"
       ]
      }
     ],
     "prompt_number": 436
    },
    {
     "cell_type": "code",
     "collapsed": true,
     "input": [
      "datastat_df = construct_repo_df(data_query1)"
     ],
     "language": "python",
     "metadata": {},
     "outputs": [
      {
       "output_type": "stream",
       "stream": "stdout",
       "text": [
        "starting bigquery ... \n",
        "\r",
        "Waiting on bqjob_r6c37d9a966677c5c_00000145f0272e63_27 ... (0s) Current status: RUNNING"
       ]
      },
      {
       "output_type": "stream",
       "stream": "stdout",
       "text": [
        " \r",
        "Waiting on bqjob_r6c37d9a966677c5c_00000145f0272e63_27 ... (1s) Current status: RUNNING "
       ]
      },
      {
       "output_type": "stream",
       "stream": "stdout",
       "text": [
        "\r",
        "Waiting on bqjob_r6c37d9a966677c5c_00000145f0272e63_27 ... (3s) Current status: RUNNING "
       ]
      },
      {
       "ename": "BigqueryServiceError",
       "evalue": "Error processing job 'metacommunities:bqjob_r6c37d9a966677c5c_00000145f0272e63_27': Response too large to return.",
       "output_type": "pyerr",
       "traceback": [
        "\u001b[1;31m---------------------------------------------------------------------------\u001b[0m\n\u001b[1;31mBigqueryServiceError\u001b[0m                      Traceback (most recent call last)",
        "\u001b[1;32m<ipython-input-115-50e1e1b0a5d0>\u001b[0m in \u001b[0;36m<module>\u001b[1;34m()\u001b[0m\n\u001b[1;32m----> 1\u001b[1;33m \u001b[0mdatastat_df3\u001b[0m \u001b[1;33m=\u001b[0m \u001b[0mconstruct_repo_df\u001b[0m\u001b[1;33m(\u001b[0m\u001b[0mdata_query3\u001b[0m\u001b[1;33m)\u001b[0m\u001b[1;33m\u001b[0m\u001b[0m\n\u001b[0m",
        "\u001b[1;32m<ipython-input-36-69408ea3cd6e>\u001b[0m in \u001b[0;36mconstruct_repo_df\u001b[1;34m(query, description)\u001b[0m\n\u001b[0;32m     14\u001b[0m         \u001b[0mfull_query\u001b[0m \u001b[1;33m=\u001b[0m \u001b[1;34m'SELECT name, full_name, fork FROM [github_proper.repo_list] where regexp_match(name,\"'\u001b[0m \u001b[1;33m+\u001b[0m \u001b[0mquery\u001b[0m \u001b[1;33m+\u001b[0m\u001b[1;34m'\")'\u001b[0m\u001b[1;33m\u001b[0m\u001b[0m\n\u001b[0;32m     15\u001b[0m \u001b[1;33m\u001b[0m\u001b[0m\n\u001b[1;32m---> 16\u001b[1;33m     \u001b[0mfull_df\u001b[0m \u001b[1;33m=\u001b[0m \u001b[0mpd\u001b[0m\u001b[1;33m.\u001b[0m\u001b[0mio\u001b[0m\u001b[1;33m.\u001b[0m\u001b[0mgbq\u001b[0m\u001b[1;33m.\u001b[0m\u001b[0mread_gbq\u001b[0m\u001b[1;33m(\u001b[0m\u001b[0mfull_query\u001b[0m\u001b[1;33m)\u001b[0m\u001b[1;33m\u001b[0m\u001b[0m\n\u001b[0m\u001b[0;32m     17\u001b[0m     \u001b[1;32mprint\u001b[0m\u001b[1;33m(\u001b[0m\u001b[0mfull_df\u001b[0m\u001b[1;33m.\u001b[0m\u001b[0mshape\u001b[0m\u001b[1;33m)\u001b[0m\u001b[1;33m\u001b[0m\u001b[0m\n\u001b[0;32m     18\u001b[0m     \u001b[1;32mreturn\u001b[0m \u001b[0mfull_df\u001b[0m\u001b[1;33m\u001b[0m\u001b[0m\n",
        "\u001b[1;32m/usr/local/lib/python2.7/dist-packages/pandas/io/gbq.pyc\u001b[0m in \u001b[0;36mread_gbq\u001b[1;34m(query, project_id, destination_table, index_col, col_order, **kwargs)\u001b[0m\n\u001b[0;32m    526\u001b[0m     \u001b[0mclient\u001b[0m \u001b[1;33m=\u001b[0m \u001b[0m_authenticate\u001b[0m\u001b[1;33m(\u001b[0m\u001b[1;33m)\u001b[0m\u001b[1;33m\u001b[0m\u001b[0m\n\u001b[0;32m    527\u001b[0m \u001b[1;33m\u001b[0m\u001b[0m\n\u001b[1;32m--> 528\u001b[1;33m     \u001b[0mjob\u001b[0m \u001b[1;33m=\u001b[0m \u001b[0mclient\u001b[0m\u001b[1;33m.\u001b[0m\u001b[0mQuery\u001b[0m\u001b[1;33m(\u001b[0m\u001b[1;33m**\u001b[0m\u001b[0mquery_args\u001b[0m\u001b[1;33m)\u001b[0m\u001b[1;33m\u001b[0m\u001b[0m\n\u001b[0m\u001b[0;32m    529\u001b[0m \u001b[1;33m\u001b[0m\u001b[0m\n\u001b[0;32m    530\u001b[0m     \u001b[1;32mreturn\u001b[0m \u001b[0m_parse_data\u001b[0m\u001b[1;33m(\u001b[0m\u001b[0mclient\u001b[0m\u001b[1;33m,\u001b[0m \u001b[0mjob\u001b[0m\u001b[1;33m,\u001b[0m \u001b[0mindex_col\u001b[0m\u001b[1;33m=\u001b[0m\u001b[0mindex_col\u001b[0m\u001b[1;33m,\u001b[0m \u001b[0mcol_order\u001b[0m\u001b[1;33m=\u001b[0m\u001b[0mcol_order\u001b[0m\u001b[1;33m)\u001b[0m\u001b[1;33m\u001b[0m\u001b[0m\n",
        "\u001b[1;32m/usr/local/lib/python2.7/dist-packages/bigquery_client.pyc\u001b[0m in \u001b[0;36mQuery\u001b[1;34m(self, query, destination_table, create_disposition, write_disposition, priority, preserve_nulls, allow_large_results, dry_run, use_cache, min_completion_ratio, **kwds)\u001b[0m\n\u001b[0;32m   1936\u001b[0m     \u001b[0mrequest\u001b[0m \u001b[1;33m=\u001b[0m \u001b[1;33m{\u001b[0m\u001b[1;34m'query'\u001b[0m\u001b[1;33m:\u001b[0m \u001b[0mquery_config\u001b[0m\u001b[1;33m}\u001b[0m\u001b[1;33m\u001b[0m\u001b[0m\n\u001b[0;32m   1937\u001b[0m     \u001b[0m_ApplyParameters\u001b[0m\u001b[1;33m(\u001b[0m\u001b[0mrequest\u001b[0m\u001b[1;33m,\u001b[0m \u001b[0mdry_run\u001b[0m\u001b[1;33m=\u001b[0m\u001b[0mdry_run\u001b[0m\u001b[1;33m)\u001b[0m\u001b[1;33m\u001b[0m\u001b[0m\n\u001b[1;32m-> 1938\u001b[1;33m     \u001b[1;32mreturn\u001b[0m \u001b[0mself\u001b[0m\u001b[1;33m.\u001b[0m\u001b[0mExecuteJob\u001b[0m\u001b[1;33m(\u001b[0m\u001b[0mrequest\u001b[0m\u001b[1;33m,\u001b[0m \u001b[1;33m**\u001b[0m\u001b[0mkwds\u001b[0m\u001b[1;33m)\u001b[0m\u001b[1;33m\u001b[0m\u001b[0m\n\u001b[0m\u001b[0;32m   1939\u001b[0m \u001b[1;33m\u001b[0m\u001b[0m\n\u001b[0;32m   1940\u001b[0m   def Load(self, destination_table_reference, source,\n",
        "\u001b[1;32m/usr/local/lib/python2.7/dist-packages/bigquery_client.pyc\u001b[0m in \u001b[0;36mExecuteJob\u001b[1;34m(self, configuration, sync, project_id, upload_file, job_id)\u001b[0m\n\u001b[0;32m   1601\u001b[0m       job = self.RunJobSynchronously(\n\u001b[0;32m   1602\u001b[0m           \u001b[0mconfiguration\u001b[0m\u001b[1;33m,\u001b[0m \u001b[0mproject_id\u001b[0m\u001b[1;33m=\u001b[0m\u001b[0mproject_id\u001b[0m\u001b[1;33m,\u001b[0m \u001b[0mupload_file\u001b[0m\u001b[1;33m=\u001b[0m\u001b[0mupload_file\u001b[0m\u001b[1;33m,\u001b[0m\u001b[1;33m\u001b[0m\u001b[0m\n\u001b[1;32m-> 1603\u001b[1;33m           job_id=job_id)\n\u001b[0m\u001b[0;32m   1604\u001b[0m     \u001b[1;32melse\u001b[0m\u001b[1;33m:\u001b[0m\u001b[1;33m\u001b[0m\u001b[0m\n\u001b[0;32m   1605\u001b[0m       job = self.StartJob(\n",
        "\u001b[1;32m/usr/local/lib/python2.7/dist-packages/bigquery_client.pyc\u001b[0m in \u001b[0;36mRunJobSynchronously\u001b[1;34m(self, configuration, project_id, upload_file, job_id)\u001b[0m\n\u001b[0;32m   1590\u001b[0m       \u001b[0mjob_reference\u001b[0m \u001b[1;33m=\u001b[0m \u001b[0mBigqueryClient\u001b[0m\u001b[1;33m.\u001b[0m\u001b[0mConstructObjectReference\u001b[0m\u001b[1;33m(\u001b[0m\u001b[0mresult\u001b[0m\u001b[1;33m)\u001b[0m\u001b[1;33m\u001b[0m\u001b[0m\n\u001b[0;32m   1591\u001b[0m       \u001b[0mresult\u001b[0m \u001b[1;33m=\u001b[0m \u001b[0mself\u001b[0m\u001b[1;33m.\u001b[0m\u001b[0mWaitJob\u001b[0m\u001b[1;33m(\u001b[0m\u001b[0mjob_reference\u001b[0m\u001b[1;33m)\u001b[0m\u001b[1;33m\u001b[0m\u001b[0m\n\u001b[1;32m-> 1592\u001b[1;33m     \u001b[1;32mreturn\u001b[0m \u001b[0mself\u001b[0m\u001b[1;33m.\u001b[0m\u001b[0mRaiseIfJobError\u001b[0m\u001b[1;33m(\u001b[0m\u001b[0mresult\u001b[0m\u001b[1;33m)\u001b[0m\u001b[1;33m\u001b[0m\u001b[0m\n\u001b[0m\u001b[0;32m   1593\u001b[0m \u001b[1;33m\u001b[0m\u001b[0m\n\u001b[0;32m   1594\u001b[0m   def ExecuteJob(self, configuration, sync=None,\n",
        "\u001b[1;32m/usr/local/lib/python2.7/dist-packages/bigquery_client.pyc\u001b[0m in \u001b[0;36mRaiseIfJobError\u001b[1;34m(job)\u001b[0m\n\u001b[0;32m    878\u001b[0m       raise BigqueryError.Create(\n\u001b[0;32m    879\u001b[0m           \u001b[0merror\u001b[0m\u001b[1;33m,\u001b[0m \u001b[0merror\u001b[0m\u001b[1;33m,\u001b[0m \u001b[0merror_ls\u001b[0m\u001b[1;33m,\u001b[0m\u001b[1;33m\u001b[0m\u001b[0m\n\u001b[1;32m--> 880\u001b[1;33m           job_ref=BigqueryClient.ConstructObjectReference(job))\n\u001b[0m\u001b[0;32m    881\u001b[0m     \u001b[1;32mreturn\u001b[0m \u001b[0mjob\u001b[0m\u001b[1;33m\u001b[0m\u001b[0m\n\u001b[0;32m    882\u001b[0m \u001b[1;33m\u001b[0m\u001b[0m\n",
        "\u001b[1;31mBigqueryServiceError\u001b[0m: Error processing job 'metacommunities:bqjob_r6c37d9a966677c5c_00000145f0272e63_27': Response too large to return."
       ]
      },
      {
       "output_type": "stream",
       "stream": "stdout",
       "text": [
        "\r",
        "Waiting on bqjob_r6c37d9a966677c5c_00000145f0272e63_27 ... (3s) Current status: DONE   \n"
       ]
      }
     ],
     "prompt_number": 115
    },
    {
     "cell_type": "code",
     "collapsed": false,
     "input": [
      "datastat_df2 = construct_repo_df(data_query2)"
     ],
     "language": "python",
     "metadata": {},
     "outputs": [
      {
       "output_type": "stream",
       "stream": "stdout",
       "text": [
        "starting bigquery ... \n",
        "\r",
        "Waiting on bqjob_rb4e524fee8360c3_00000145f03419f0_33 ... (0s) Current status: RUNNING"
       ]
      },
      {
       "output_type": "stream",
       "stream": "stdout",
       "text": [
        " \r",
        "Waiting on bqjob_rb4e524fee8360c3_00000145f03419f0_33 ... (1s) Current status: RUNNING "
       ]
      },
      {
       "output_type": "stream",
       "stream": "stdout",
       "text": [
        "\r",
        "Waiting on bqjob_rb4e524fee8360c3_00000145f03419f0_33 ... (2s) Current status: RUNNING "
       ]
      },
      {
       "output_type": "stream",
       "stream": "stdout",
       "text": [
        "\r",
        "Waiting on bqjob_rb4e524fee8360c3_00000145f03419f0_33 ... (4s) Current status: RUNNING "
       ]
      },
      {
       "output_type": "stream",
       "stream": "stdout",
       "text": [
        "\r",
        "Waiting on bqjob_rb4e524fee8360c3_00000145f03419f0_33 ... (5s) Current status: RUNNING "
       ]
      },
      {
       "output_type": "stream",
       "stream": "stdout",
       "text": [
        "\r",
        "Waiting on bqjob_rb4e524fee8360c3_00000145f03419f0_33 ... (5s) Current status: DONE   \n",
        "(248570, 3)"
       ]
      },
      {
       "output_type": "stream",
       "stream": "stdout",
       "text": [
        "\n"
       ]
      }
     ],
     "prompt_number": 130
    },
    {
     "cell_type": "code",
     "collapsed": false,
     "input": [
      "datastat_df3 = construct_repo_df(data_query3)"
     ],
     "language": "python",
     "metadata": {},
     "outputs": [
      {
       "output_type": "stream",
       "stream": "stdout",
       "text": [
        "starting bigquery ... \n",
        "\r",
        "Waiting on bqjob_r750285a89892af77_00000145f02f0c42_31 ... (0s) Current status: RUNNING"
       ]
      },
      {
       "output_type": "stream",
       "stream": "stdout",
       "text": [
        " \r",
        "Waiting on bqjob_r750285a89892af77_00000145f02f0c42_31 ... (2s) Current status: RUNNING "
       ]
      },
      {
       "output_type": "stream",
       "stream": "stdout",
       "text": [
        "\r",
        "Waiting on bqjob_r750285a89892af77_00000145f02f0c42_31 ... (3s) Current status: RUNNING "
       ]
      },
      {
       "output_type": "stream",
       "stream": "stdout",
       "text": [
        "\r",
        "Waiting on bqjob_r750285a89892af77_00000145f02f0c42_31 ... (3s) Current status: DONE   \n",
        "(196882, 3)"
       ]
      },
      {
       "output_type": "stream",
       "stream": "stdout",
       "text": [
        "\n"
       ]
      }
     ],
     "prompt_number": 121
    },
    {
     "cell_type": "code",
     "collapsed": false,
     "input": [
      "datastat_df = pd.concat([datastat_df, datastat_df2, datastat_df3])\n",
      "print datastat_df_all.shape\n",
      "datastat_df.head()"
     ],
     "language": "python",
     "metadata": {},
     "outputs": [
      {
       "output_type": "stream",
       "stream": "stdout",
       "text": [
        "(855549, 3)\n"
       ]
      },
      {
       "html": [
        "<div style=\"max-height:1000px;max-width:1500px;overflow:auto;\">\n",
        "<table border=\"1\" class=\"dataframe\">\n",
        "  <thead>\n",
        "    <tr style=\"text-align: right;\">\n",
        "      <th></th>\n",
        "      <th>name</th>\n",
        "      <th>full_name</th>\n",
        "      <th>fork</th>\n",
        "    </tr>\n",
        "  </thead>\n",
        "  <tbody>\n",
        "    <tr>\n",
        "      <th>0</th>\n",
        "      <td>               android-kawa</td>\n",
        "      <td>                cadre-io/android-kawa</td>\n",
        "      <td> 1</td>\n",
        "    </tr>\n",
        "    <tr>\n",
        "      <th>1</th>\n",
        "      <td>             Struts2Example</td>\n",
        "      <td>               JevanWu/Struts2Example</td>\n",
        "      <td> 0</td>\n",
        "    </tr>\n",
        "    <tr>\n",
        "      <th>2</th>\n",
        "      <td>           AndroidKeyLogger</td>\n",
        "      <td>       the-darknight/AndroidKeyLogger</td>\n",
        "      <td> 1</td>\n",
        "    </tr>\n",
        "    <tr>\n",
        "      <th>3</th>\n",
        "      <td>                 nodejstest</td>\n",
        "      <td>                     barmi/nodejstest</td>\n",
        "      <td> 0</td>\n",
        "    </tr>\n",
        "    <tr>\n",
        "      <th>4</th>\n",
        "      <td> BlurEffectForAndroidDesign</td>\n",
        "      <td> yang-chao/BlurEffectForAndroidDesign</td>\n",
        "      <td> 1</td>\n",
        "    </tr>\n",
        "  </tbody>\n",
        "</table>\n",
        "<p>5 rows \u00d7 3 columns</p>\n",
        "</div>"
       ],
       "metadata": {},
       "output_type": "pyout",
       "prompt_number": 132,
       "text": [
        "                         name                             full_name  fork\n",
        "0                android-kawa                 cadre-io/android-kawa     1\n",
        "1              Struts2Example                JevanWu/Struts2Example     0\n",
        "2            AndroidKeyLogger        the-darknight/AndroidKeyLogger     1\n",
        "3                  nodejstest                      barmi/nodejstest     0\n",
        "4  BlurEffectForAndroidDesign  yang-chao/BlurEffectForAndroidDesign     1\n",
        "\n",
        "[5 rows x 3 columns]"
       ]
      }
     ],
     "prompt_number": 132
    },
    {
     "cell_type": "markdown",
     "metadata": {},
     "source": [
      "The use of these datamining packages is huge. There seems to be around 0.8M. They probably need further analysis"
     ]
    },
    {
     "cell_type": "markdown",
     "metadata": {},
     "source": [
      "## Documents and publishing\n",
      "\n",
      "This is an amorphous category but includes word processing, document formats, bibliographic and reference software, markup and publishing software. Mundane but ubiquitous."
     ]
    },
    {
     "cell_type": "code",
     "collapsed": false,
     "input": [
      "file_formats.domain.value_counts()\n",
      "docs = file_formats['domain'] == 'document'\n",
      "pub = file_formats['domain'] == 'desktop publishing'\n",
      "refs = file_formats['domain'] == 'reference management software'\n",
      "pres = file_formats['domain'] == 'presentation'\n",
      "doc_types = file_formats[docs + pub + refs + pres].filetype\n",
      "# .map(str) + \"|\" + file_formats[docs + pub + refs].description\n",
      "\n",
      "doc_query = '\\\\b' + '\\\\b|\\\\b'.join(doc_types.dropna()).lower() + '\\\\b'\n",
      "# doc_query"
     ],
     "language": "python",
     "metadata": {},
     "outputs": [
      {
       "metadata": {},
       "output_type": "pyout",
       "prompt_number": 146,
       "text": [
        "'\\\\bzave\\\\b|\\\\bchp\\\\b|\\\\bdtp\\\\b|\\\\bgdraw\\\\b|\\\\bindd\\\\b|\\\\bmcf\\\\b|\\\\bpmd\\\\b|\\\\bppp\\\\b|\\\\bpub\\\\b|\\\\bqxd\\\\b|\\\\bfm\\\\b|\\\\bsla / scd\\\\b|\\\\babw\\\\b|\\\\bacl\\\\b|\\\\bafp\\\\b|\\\\bami\\\\b|\\\\bans\\\\b|\\\\basc\\\\b|\\\\baww\\\\b|\\\\bccf\\\\b|\\\\bcsv\\\\b|\\\\bcwk\\\\b|\\\\bdbk\\\\b|\\\\bdoc\\\\b|\\\\bdocm\\\\b|\\\\bdocx\\\\b|\\\\bdot\\\\b|\\\\bdotx\\\\b|\\\\begt\\\\b|\\\\bepub\\\\b|\\\\bezw\\\\b|\\\\bfdx\\\\b|\\\\bftm\\\\b|\\\\bftx\\\\b|\\\\bgdoc\\\\b|\\\\bhtml\\\\b|\\\\bhwp\\\\b|\\\\bhwpml\\\\b|\\\\blwp\\\\b|\\\\bmbp\\\\b|\\\\bmd\\\\b|\\\\bmcw\\\\b|\\\\bmobi\\\\b|\\\\bnb\\\\b|\\\\bnbp\\\\b|\\\\bodm\\\\b|\\\\bodt\\\\b|\\\\bott\\\\b|\\\\bomm\\\\b|\\\\bpages\\\\b|\\\\bpap\\\\b|\\\\bpdax\\\\b|\\\\bpdf\\\\b|\\\\bradix-64\\\\b|\\\\brtf\\\\b|\\\\bquox\\\\b|\\\\brpt\\\\b|\\\\bsdw\\\\b|\\\\bse\\\\b|\\\\bstw\\\\b|\\\\bsxw\\\\b|\\\\btex\\\\b|\\\\binfo\\\\b|\\\\btroff\\\\b|\\\\btxt\\\\b|\\\\buof\\\\b|\\\\buoml\\\\b|\\\\bvia\\\\b|\\\\bwpd\\\\b|\\\\bwps\\\\b|\\\\bwpt\\\\b|\\\\bwrd\\\\b|\\\\bwrf\\\\b|\\\\bwri\\\\b|\\\\bxhtml (xhtml\\\\b|\\\\bxml\\\\b|\\\\bxps\\\\b|\\\\bgslides\\\\b|\\\\bkey\\\\b|\\\\bnb\\\\b|\\\\bnbp\\\\b|\\\\bodp\\\\b|\\\\botp\\\\b|\\\\bpez\\\\b|\\\\bpot\\\\b|\\\\bpps\\\\b|\\\\bppt\\\\b|\\\\bpptx\\\\b|\\\\bprz\\\\b|\\\\bsdd\\\\b|\\\\bshf\\\\b|\\\\bshow\\\\b|\\\\bshw\\\\b|\\\\bslp\\\\b|\\\\bsspss\\\\b|\\\\bsti\\\\b|\\\\bsxi\\\\b|\\\\bthmx - microsoft powerpoint theme template\\\\b|\\\\bwatch\\\\b|\\\\bbib\\\\b|\\\\benl\\\\b|\\\\bris\\\\b'"
       ]
      }
     ],
     "prompt_number": 146
    },
    {
     "cell_type": "code",
     "collapsed": false,
     "input": [
      "docs_list = pd.read_csv('topic_lists/docs.csv', header = None, names = ['extension', 'description'])\n",
      "doc_query = '|'.join(docs_list.extension.str.strip()).lower()\n",
      "doc_query"
     ],
     "language": "python",
     "metadata": {},
     "outputs": [
      {
       "metadata": {},
       "output_type": "pyout",
       "prompt_number": 3,
       "text": [
        "'indd|pmd|doc|docx|dotx|epub|gdoc|md|mcw|odm|odt|ott|pdax|pdf|tex|txt|xml|odp|ppt|pptx|bib|enl|ris'"
       ]
      }
     ],
     "prompt_number": 3
    },
    {
     "cell_type": "code",
     "collapsed": false,
     "input": [
      "doc_df = construct_repo_df(doc_query, description=False)"
     ],
     "language": "python",
     "metadata": {},
     "outputs": [
      {
       "output_type": "stream",
       "stream": "stdout",
       "text": [
        "starting bigquery ... \n",
        "indd|pmd|doc|docx|dotx|epub|gdoc|md|mcw|odm|odt|ott|pdax|pdf|tex|txt|xml|odp|ppt|pptx|bib|enl|ris\n",
        "\r",
        "Waiting on bqjob_r1f27ee754fde4575_000001460ec2dd9b_1 ... (1s) Current status: RUNNING"
       ]
      },
      {
       "output_type": "stream",
       "stream": "stdout",
       "text": [
        " \r",
        "Waiting on bqjob_r1f27ee754fde4575_000001460ec2dd9b_1 ... (2s) Current status: RUNNING "
       ]
      },
      {
       "output_type": "stream",
       "stream": "stdout",
       "text": [
        "\r",
        "Waiting on bqjob_r1f27ee754fde4575_000001460ec2dd9b_1 ... (2s) Current status: DONE   \n",
        "(197006, 3)"
       ]
      },
      {
       "output_type": "stream",
       "stream": "stdout",
       "text": [
        "\n"
       ]
      }
     ],
     "prompt_number": 4
    },
    {
     "cell_type": "code",
     "collapsed": false,
     "input": [
      "doc_df.ix[60:100]"
     ],
     "language": "python",
     "metadata": {},
     "outputs": [
      {
       "html": [
        "<div style=\"max-height:1000px;max-width:1500px;overflow:auto;\">\n",
        "<table border=\"1\" class=\"dataframe\">\n",
        "  <thead>\n",
        "    <tr style=\"text-align: right;\">\n",
        "      <th></th>\n",
        "      <th>name</th>\n",
        "      <th>full_name</th>\n",
        "      <th>fork</th>\n",
        "    </tr>\n",
        "  </thead>\n",
        "  <tbody>\n",
        "    <tr>\n",
        "      <th>60 </th>\n",
        "      <td>                               yetris</td>\n",
        "      <td>                                z32556601/yetris</td>\n",
        "      <td> 0</td>\n",
        "    </tr>\n",
        "    <tr>\n",
        "      <th>61 </th>\n",
        "      <td>                    P4_rottenpotatoes</td>\n",
        "      <td>                      jmaviles/P4_rottenpotatoes</td>\n",
        "      <td> 1</td>\n",
        "    </tr>\n",
        "    <tr>\n",
        "      <th>62 </th>\n",
        "      <td>                           pivottable</td>\n",
        "      <td>                             xiaobozi/pivottable</td>\n",
        "      <td> 1</td>\n",
        "    </tr>\n",
        "    <tr>\n",
        "      <th>63 </th>\n",
        "      <td>                             colubris</td>\n",
        "      <td>                         alexeyostapets/colubris</td>\n",
        "      <td> 0</td>\n",
        "    </tr>\n",
        "    <tr>\n",
        "      <th>64 </th>\n",
        "      <td>                          HTML5Tetris</td>\n",
        "      <td>                          Roonerelli/HTML5Tetris</td>\n",
        "      <td> 0</td>\n",
        "    </tr>\n",
        "    <tr>\n",
        "      <th>65 </th>\n",
        "      <td>                             charisma</td>\n",
        "      <td>                             peidachang/charisma</td>\n",
        "      <td> 1</td>\n",
        "    </tr>\n",
        "    <tr>\n",
        "      <th>66 </th>\n",
        "      <td>                   systemdoctor-crack</td>\n",
        "      <td>                 plucmoutibil/systemdoctor-crack</td>\n",
        "      <td> 0</td>\n",
        "    </tr>\n",
        "    <tr>\n",
        "      <th>67 </th>\n",
        "      <td>                              xml2tss</td>\n",
        "      <td>                                dbankier/xml2tss</td>\n",
        "      <td> 0</td>\n",
        "    </tr>\n",
        "    <tr>\n",
        "      <th>68 </th>\n",
        "      <td>         systems-analysis-torrent-pdf</td>\n",
        "      <td>          amenasten/systems-analysis-torrent-pdf</td>\n",
        "      <td> 0</td>\n",
        "    </tr>\n",
        "    <tr>\n",
        "      <th>69 </th>\n",
        "      <td>                 chris24dmr.github.io</td>\n",
        "      <td>                 chris24dmr/chris24dmr.github.io</td>\n",
        "      <td> 0</td>\n",
        "    </tr>\n",
        "    <tr>\n",
        "      <th>70 </th>\n",
        "      <td>                               xmlmws</td>\n",
        "      <td>                               lewiswalsh/xmlmws</td>\n",
        "      <td> 0</td>\n",
        "    </tr>\n",
        "    <tr>\n",
        "      <th>71 </th>\n",
        "      <td>                         mdns-gateway</td>\n",
        "      <td>                           bfajalia/mdns-gateway</td>\n",
        "      <td> 1</td>\n",
        "    </tr>\n",
        "    <tr>\n",
        "      <th>72 </th>\n",
        "      <td>                   t-mobile-mda-crack</td>\n",
        "      <td>                    coicobaba/t-mobile-mda-crack</td>\n",
        "      <td> 0</td>\n",
        "    </tr>\n",
        "    <tr>\n",
        "      <th>73 </th>\n",
        "      <td>               t-mobile-mda-sim-crack</td>\n",
        "      <td>                 enabeser/t-mobile-mda-sim-crack</td>\n",
        "      <td> 0</td>\n",
        "    </tr>\n",
        "    <tr>\n",
        "      <th>74 </th>\n",
        "      <td>                               pdf.js</td>\n",
        "      <td>                              thorlarholm/pdf.js</td>\n",
        "      <td> 1</td>\n",
        "    </tr>\n",
        "    <tr>\n",
        "      <th>75 </th>\n",
        "      <td>         Opencartimportexportproducts</td>\n",
        "      <td>       AnandPhadnis/Opencartimportexportproducts</td>\n",
        "      <td> 0</td>\n",
        "    </tr>\n",
        "    <tr>\n",
        "      <th>76 </th>\n",
        "      <td>                        epubinfo-demo</td>\n",
        "      <td>                   agilecreativity/epubinfo-demo</td>\n",
        "      <td> 0</td>\n",
        "    </tr>\n",
        "    <tr>\n",
        "      <th>77 </th>\n",
        "      <td>                               pdf.js</td>\n",
        "      <td>                                samuelj90/pdf.js</td>\n",
        "      <td> 1</td>\n",
        "    </tr>\n",
        "    <tr>\n",
        "      <th>78 </th>\n",
        "      <td>   t-mobile-mda-tomtom6-download-free</td>\n",
        "      <td>  ceilupoburg/t-mobile-mda-tomtom6-download-free</td>\n",
        "      <td> 0</td>\n",
        "    </tr>\n",
        "    <tr>\n",
        "      <th>79 </th>\n",
        "      <td>                               docker</td>\n",
        "      <td>                               nahiluhmot/docker</td>\n",
        "      <td> 1</td>\n",
        "    </tr>\n",
        "    <tr>\n",
        "      <th>80 </th>\n",
        "      <td> t-pain-chris-brown-greatness-torrent</td>\n",
        "      <td> slanininse/t-pain-chris-brown-greatness-torrent</td>\n",
        "      <td> 0</td>\n",
        "    </tr>\n",
        "    <tr>\n",
        "      <th>81 </th>\n",
        "      <td>              t-pain-ludacris-torrent</td>\n",
        "      <td>           minsspoolexen/t-pain-ludacris-torrent</td>\n",
        "      <td> 0</td>\n",
        "    </tr>\n",
        "    <tr>\n",
        "      <th>82 </th>\n",
        "      <td>                         libevent_doc</td>\n",
        "      <td>                           xuchdong/libevent_doc</td>\n",
        "      <td> 0</td>\n",
        "    </tr>\n",
        "    <tr>\n",
        "      <th>83 </th>\n",
        "      <td>                           pivottable</td>\n",
        "      <td>                          countersoft/pivottable</td>\n",
        "      <td> 1</td>\n",
        "    </tr>\n",
        "    <tr>\n",
        "      <th>84 </th>\n",
        "      <td>                             openldap</td>\n",
        "      <td>                               jimcroft/openldap</td>\n",
        "      <td> 1</td>\n",
        "    </tr>\n",
        "    <tr>\n",
        "      <th>85 </th>\n",
        "      <td>                             ecigs-md</td>\n",
        "      <td>                                  vzdor/ecigs-md</td>\n",
        "      <td> 0</td>\n",
        "    </tr>\n",
        "    <tr>\n",
        "      <th>86 </th>\n",
        "      <td>                              dwg2pdf</td>\n",
        "      <td>                                  schnho/dwg2pdf</td>\n",
        "      <td> 0</td>\n",
        "    </tr>\n",
        "    <tr>\n",
        "      <th>87 </th>\n",
        "      <td>          sublime-text-2-csharp-build</td>\n",
        "      <td>            sudocoda/sublime-text-2-csharp-build</td>\n",
        "      <td> 1</td>\n",
        "    </tr>\n",
        "    <tr>\n",
        "      <th>88 </th>\n",
        "      <td>                                frist</td>\n",
        "      <td>                                    cp1001/frist</td>\n",
        "      <td> 0</td>\n",
        "    </tr>\n",
        "    <tr>\n",
        "      <th>89 </th>\n",
        "      <td>                   player-comparisons</td>\n",
        "      <td>                   TagesWoche/player-comparisons</td>\n",
        "      <td> 0</td>\n",
        "    </tr>\n",
        "    <tr>\n",
        "      <th>90 </th>\n",
        "      <td>                      shoulda-context</td>\n",
        "      <td>                    HotFusionMan/shoulda-context</td>\n",
        "      <td> 1</td>\n",
        "    </tr>\n",
        "    <tr>\n",
        "      <th>91 </th>\n",
        "      <td>                           modmailpro</td>\n",
        "      <td>                           LowSociety/modmailpro</td>\n",
        "      <td> 1</td>\n",
        "    </tr>\n",
        "    <tr>\n",
        "      <th>92 </th>\n",
        "      <td>                               hyrise</td>\n",
        "      <td>                                  kaihowl/hyrise</td>\n",
        "      <td> 1</td>\n",
        "    </tr>\n",
        "    <tr>\n",
        "      <th>93 </th>\n",
        "      <td>                        Kristen-Papua</td>\n",
        "      <td>                      kristenpapua/Kristen-Papua</td>\n",
        "      <td> 0</td>\n",
        "    </tr>\n",
        "    <tr>\n",
        "      <th>94 </th>\n",
        "      <td>                            meta-text</td>\n",
        "      <td>                               kawanet/meta-text</td>\n",
        "      <td> 0</td>\n",
        "    </tr>\n",
        "    <tr>\n",
        "      <th>95 </th>\n",
        "      <td>                tablet-bible-download</td>\n",
        "      <td>               wiereadigsu/tablet-bible-download</td>\n",
        "      <td> 0</td>\n",
        "    </tr>\n",
        "    <tr>\n",
        "      <th>96 </th>\n",
        "      <td>                    islandora_marcxml</td>\n",
        "      <td>                         nhart/islandora_marcxml</td>\n",
        "      <td> 1</td>\n",
        "    </tr>\n",
        "    <tr>\n",
        "      <th>97 </th>\n",
        "      <td>                                 fmdb</td>\n",
        "      <td>                              terekhovanton/fmdb</td>\n",
        "      <td> 1</td>\n",
        "    </tr>\n",
        "    <tr>\n",
        "      <th>98 </th>\n",
        "      <td>                   hw2_rottenpotatoes</td>\n",
        "      <td>                  achapman100/hw2_rottenpotatoes</td>\n",
        "      <td> 0</td>\n",
        "    </tr>\n",
        "    <tr>\n",
        "      <th>99 </th>\n",
        "      <td>                                mycmd</td>\n",
        "      <td>                                  kostua16/mycmd</td>\n",
        "      <td> 0</td>\n",
        "    </tr>\n",
        "    <tr>\n",
        "      <th>100</th>\n",
        "      <td>                         trainspamder</td>\n",
        "      <td>                           buganini/trainspamder</td>\n",
        "      <td> 0</td>\n",
        "    </tr>\n",
        "  </tbody>\n",
        "</table>\n",
        "<p>41 rows \u00d7 3 columns</p>\n",
        "</div>"
       ],
       "metadata": {},
       "output_type": "pyout",
       "prompt_number": 5,
       "text": [
        "                                     name  \\\n",
        "60                                 yetris   \n",
        "61                      P4_rottenpotatoes   \n",
        "62                             pivottable   \n",
        "63                               colubris   \n",
        "64                            HTML5Tetris   \n",
        "65                               charisma   \n",
        "66                     systemdoctor-crack   \n",
        "67                                xml2tss   \n",
        "68           systems-analysis-torrent-pdf   \n",
        "69                   chris24dmr.github.io   \n",
        "70                                 xmlmws   \n",
        "71                           mdns-gateway   \n",
        "72                     t-mobile-mda-crack   \n",
        "73                 t-mobile-mda-sim-crack   \n",
        "74                                 pdf.js   \n",
        "75           Opencartimportexportproducts   \n",
        "76                          epubinfo-demo   \n",
        "77                                 pdf.js   \n",
        "78     t-mobile-mda-tomtom6-download-free   \n",
        "79                                 docker   \n",
        "80   t-pain-chris-brown-greatness-torrent   \n",
        "81                t-pain-ludacris-torrent   \n",
        "82                           libevent_doc   \n",
        "83                             pivottable   \n",
        "84                               openldap   \n",
        "85                               ecigs-md   \n",
        "86                                dwg2pdf   \n",
        "87            sublime-text-2-csharp-build   \n",
        "88                                  frist   \n",
        "89                     player-comparisons   \n",
        "90                        shoulda-context   \n",
        "91                             modmailpro   \n",
        "92                                 hyrise   \n",
        "93                          Kristen-Papua   \n",
        "94                              meta-text   \n",
        "95                  tablet-bible-download   \n",
        "96                      islandora_marcxml   \n",
        "97                                   fmdb   \n",
        "98                     hw2_rottenpotatoes   \n",
        "99                                  mycmd   \n",
        "100                          trainspamder   \n",
        "\n",
        "                                           full_name  fork  \n",
        "60                                  z32556601/yetris     0  \n",
        "61                        jmaviles/P4_rottenpotatoes     1  \n",
        "62                               xiaobozi/pivottable     1  \n",
        "63                           alexeyostapets/colubris     0  \n",
        "64                            Roonerelli/HTML5Tetris     0  \n",
        "65                               peidachang/charisma     1  \n",
        "66                   plucmoutibil/systemdoctor-crack     0  \n",
        "67                                  dbankier/xml2tss     0  \n",
        "68            amenasten/systems-analysis-torrent-pdf     0  \n",
        "69                   chris24dmr/chris24dmr.github.io     0  \n",
        "70                                 lewiswalsh/xmlmws     0  \n",
        "71                             bfajalia/mdns-gateway     1  \n",
        "72                      coicobaba/t-mobile-mda-crack     0  \n",
        "73                   enabeser/t-mobile-mda-sim-crack     0  \n",
        "74                                thorlarholm/pdf.js     1  \n",
        "75         AnandPhadnis/Opencartimportexportproducts     0  \n",
        "76                     agilecreativity/epubinfo-demo     0  \n",
        "77                                  samuelj90/pdf.js     1  \n",
        "78    ceilupoburg/t-mobile-mda-tomtom6-download-free     0  \n",
        "79                                 nahiluhmot/docker     1  \n",
        "80   slanininse/t-pain-chris-brown-greatness-torrent     0  \n",
        "81             minsspoolexen/t-pain-ludacris-torrent     0  \n",
        "82                             xuchdong/libevent_doc     0  \n",
        "83                            countersoft/pivottable     1  \n",
        "84                                 jimcroft/openldap     1  \n",
        "85                                    vzdor/ecigs-md     0  \n",
        "86                                    schnho/dwg2pdf     0  \n",
        "87              sudocoda/sublime-text-2-csharp-build     1  \n",
        "88                                      cp1001/frist     0  \n",
        "89                     TagesWoche/player-comparisons     0  \n",
        "90                      HotFusionMan/shoulda-context     1  \n",
        "91                             LowSociety/modmailpro     1  \n",
        "92                                    kaihowl/hyrise     1  \n",
        "93                        kristenpapua/Kristen-Papua     0  \n",
        "94                                 kawanet/meta-text     0  \n",
        "95                 wiereadigsu/tablet-bible-download     0  \n",
        "96                           nhart/islandora_marcxml     1  \n",
        "97                                terekhovanton/fmdb     1  \n",
        "98                    achapman100/hw2_rottenpotatoes     0  \n",
        "99                                    kostua16/mycmd     0  \n",
        "100                            buganini/trainspamder     0  \n",
        "\n",
        "[41 rows x 3 columns]"
       ]
      }
     ],
     "prompt_number": 5
    },
    {
     "cell_type": "markdown",
     "metadata": {},
     "source": [
      "## Github as a blog or webpage\n",
      "\n",
      "Lots of repositories are actually blogs or webpages. This shows up in the repo name"
     ]
    },
    {
     "cell_type": "code",
     "collapsed": false,
     "input": [
      "page_query  = 'github.com|github.io'\n",
      "page_df = construct_repo_df(page_query, description = False)"
     ],
     "language": "python",
     "metadata": {},
     "outputs": [
      {
       "output_type": "stream",
       "stream": "stdout",
       "text": [
        "starting bigquery ... \n",
        "github.com|github.io\n",
        "\r",
        "Waiting on bqjob_r21d470d7a2e6d7ef_00000145fa2d6f8d_88 ... (0s) Current status: RUNNING"
       ]
      },
      {
       "output_type": "stream",
       "stream": "stdout",
       "text": [
        " \r",
        "Waiting on bqjob_r21d470d7a2e6d7ef_00000145fa2d6f8d_88 ... (2s) Current status: RUNNING "
       ]
      },
      {
       "output_type": "stream",
       "stream": "stdout",
       "text": [
        "\r",
        "Waiting on bqjob_r21d470d7a2e6d7ef_00000145fa2d6f8d_88 ... (2s) Current status: DONE   \n",
        "(151416, 3)"
       ]
      },
      {
       "output_type": "stream",
       "stream": "stdout",
       "text": [
        "\n"
       ]
      }
     ],
     "prompt_number": 331
    },
    {
     "cell_type": "markdown",
     "metadata": {},
     "source": [
      "0.15M repos used as blogs or webpages"
     ]
    },
    {
     "cell_type": "markdown",
     "metadata": {},
     "source": [
      "## Policies, laws, standards, manifestos\n",
      "\n",
      "Are there lots of legal documents on Github?"
     ]
    },
    {
     "cell_type": "code",
     "collapsed": false,
     "input": [
      "policy_query = '|'.join(['policy', 'law', 'manifesto', 'agreement', 'guideline'])\n",
      "\n",
      "policy_df = construct_repo_df(policy_query)\n"
     ],
     "language": "python",
     "metadata": {},
     "outputs": [
      {
       "output_type": "stream",
       "stream": "stdout",
       "text": [
        "starting bigquery ... \n",
        "policy|law|manifesto|agreement|guideline\n",
        "\r",
        "Waiting on bqjob_r1103507236284540_00000145fcaa9a91_137 ... (0s) Current status: RUNNING"
       ]
      },
      {
       "output_type": "stream",
       "stream": "stdout",
       "text": [
        " \r",
        "Waiting on bqjob_r1103507236284540_00000145fcaa9a91_137 ... (2s) Current status: RUNNING "
       ]
      },
      {
       "output_type": "stream",
       "stream": "stdout",
       "text": [
        "\r",
        "Waiting on bqjob_r1103507236284540_00000145fcaa9a91_137 ... (2s) Current status: DONE   \n",
        "(9135, 3)"
       ]
      },
      {
       "output_type": "stream",
       "stream": "stdout",
       "text": [
        "\n"
       ]
      }
     ],
     "prompt_number": 438
    },
    {
     "cell_type": "code",
     "collapsed": false,
     "input": [
      "policy_df.head()"
     ],
     "language": "python",
     "metadata": {},
     "outputs": [
      {
       "html": [
        "<div style=\"max-height:1000px;max-width:1500px;overflow:auto;\">\n",
        "<table border=\"1\" class=\"dataframe\">\n",
        "  <thead>\n",
        "    <tr style=\"text-align: right;\">\n",
        "      <th></th>\n",
        "      <th>name</th>\n",
        "      <th>full_name</th>\n",
        "      <th>fork</th>\n",
        "    </tr>\n",
        "  </thead>\n",
        "  <tbody>\n",
        "    <tr>\n",
        "      <th>0</th>\n",
        "      <td>                                magento2</td>\n",
        "      <td>                                   soncao/magento2</td>\n",
        "      <td> 1</td>\n",
        "    </tr>\n",
        "    <tr>\n",
        "      <th>1</th>\n",
        "      <td>        ms-accessible-site-guidelines-v2</td>\n",
        "      <td>    jalbertbowden/ms-accessible-site-guidelines-v2</td>\n",
        "      <td> 0</td>\n",
        "    </tr>\n",
        "    <tr>\n",
        "      <th>2</th>\n",
        "      <td>                               adhocracy</td>\n",
        "      <td>                              cristianlp/adhocracy</td>\n",
        "      <td> 1</td>\n",
        "    </tr>\n",
        "    <tr>\n",
        "      <th>3</th>\n",
        "      <td>                         css-conventions</td>\n",
        "      <td>                           cbracco/css-conventions</td>\n",
        "      <td> 0</td>\n",
        "    </tr>\n",
        "    <tr>\n",
        "      <th>4</th>\n",
        "      <td> takamine-lawsuit-guitars-serial-numbers</td>\n",
        "      <td> tabtiogade/takamine-lawsuit-guitars-serial-num...</td>\n",
        "      <td> 0</td>\n",
        "    </tr>\n",
        "  </tbody>\n",
        "</table>\n",
        "<p>5 rows \u00d7 3 columns</p>\n",
        "</div>"
       ],
       "metadata": {},
       "output_type": "pyout",
       "prompt_number": 439,
       "text": [
        "                                      name  \\\n",
        "0                                 magento2   \n",
        "1         ms-accessible-site-guidelines-v2   \n",
        "2                                adhocracy   \n",
        "3                          css-conventions   \n",
        "4  takamine-lawsuit-guitars-serial-numbers   \n",
        "\n",
        "                                           full_name  fork  \n",
        "0                                    soncao/magento2     1  \n",
        "1     jalbertbowden/ms-accessible-site-guidelines-v2     0  \n",
        "2                               cristianlp/adhocracy     1  \n",
        "3                            cbracco/css-conventions     0  \n",
        "4  tabtiogade/takamine-lawsuit-guitars-serial-num...     0  \n",
        "\n",
        "[5 rows x 3 columns]"
       ]
      }
     ],
     "prompt_number": 439
    },
    {
     "cell_type": "markdown",
     "metadata": {},
     "source": [
      "## Books, buides, and articles\n",
      "\n",
      "Are there lots of writing projects on Github?"
     ]
    },
    {
     "cell_type": "code",
     "collapsed": false,
     "input": [
      "bookquery = '|'.join(['book', 'article', 'guide', 'how to', 'manual'])\n",
      "print bookquery\n",
      "book_df = construct_repo_df(bookquery)\n"
     ],
     "language": "python",
     "metadata": {},
     "outputs": [
      {
       "output_type": "stream",
       "stream": "stdout",
       "text": [
        "book|article|guide|how to|manual\n",
        "starting bigquery ... \n",
        "book|article|guide|how to|manual\n",
        "\r",
        "Waiting on bqjob_r41fe6d8b65a2c24c_00000145f11a935b_40 ... (2s) Current status: RUNNING"
       ]
      },
      {
       "output_type": "stream",
       "stream": "stdout",
       "text": [
        " \r",
        "Waiting on bqjob_r41fe6d8b65a2c24c_00000145f11a935b_40 ... (5s) Current status: RUNNING "
       ]
      },
      {
       "output_type": "stream",
       "stream": "stdout",
       "text": [
        "\r",
        "Waiting on bqjob_r41fe6d8b65a2c24c_00000145f11a935b_40 ... (6s) Current status: RUNNING "
       ]
      },
      {
       "output_type": "stream",
       "stream": "stdout",
       "text": [
        "\r",
        "Waiting on bqjob_r41fe6d8b65a2c24c_00000145f11a935b_40 ... (6s) Current status: DONE   \n",
        "(261466, 3)"
       ]
      },
      {
       "output_type": "stream",
       "stream": "stdout",
       "text": [
        "\n"
       ]
      }
     ],
     "prompt_number": 149
    },
    {
     "cell_type": "code",
     "collapsed": false,
     "input": [
      "book_df.head(10)"
     ],
     "language": "python",
     "metadata": {},
     "outputs": [
      {
       "html": [
        "<div style=\"max-height:1000px;max-width:1500px;overflow:auto;\">\n",
        "<table border=\"1\" class=\"dataframe\">\n",
        "  <thead>\n",
        "    <tr style=\"text-align: right;\">\n",
        "      <th></th>\n",
        "      <th>name</th>\n",
        "      <th>full_name</th>\n",
        "      <th>fork</th>\n",
        "    </tr>\n",
        "  </thead>\n",
        "  <tbody>\n",
        "    <tr>\n",
        "      <th>0</th>\n",
        "      <td> BlurEffectForAndroidDesign</td>\n",
        "      <td> yang-chao/BlurEffectForAndroidDesign</td>\n",
        "      <td> 1</td>\n",
        "    </tr>\n",
        "    <tr>\n",
        "      <th>1</th>\n",
        "      <td>       tieu-de-bai-viet-moi</td>\n",
        "      <td>     kickauthor1/tieu-de-bai-viet-moi</td>\n",
        "      <td> 0</td>\n",
        "    </tr>\n",
        "    <tr>\n",
        "      <th>2</th>\n",
        "      <td>        Post-type-wordpress</td>\n",
        "      <td>        anddrie69/Post-type-wordpress</td>\n",
        "      <td> 0</td>\n",
        "    </tr>\n",
        "    <tr>\n",
        "      <th>3</th>\n",
        "      <td>        flaming-octo-wookie</td>\n",
        "      <td>          ChingTi/flaming-octo-wookie</td>\n",
        "      <td> 0</td>\n",
        "    </tr>\n",
        "    <tr>\n",
        "      <th>4</th>\n",
        "      <td>               chef-mongodb</td>\n",
        "      <td>              liulinyang/chef-mongodb</td>\n",
        "      <td> 1</td>\n",
        "    </tr>\n",
        "    <tr>\n",
        "      <th>5</th>\n",
        "      <td>                 FB-Gallery</td>\n",
        "      <td>                     ios4u/FB-Gallery</td>\n",
        "      <td> 1</td>\n",
        "    </tr>\n",
        "    <tr>\n",
        "      <th>6</th>\n",
        "      <td>     frontend-dev-bookmarks</td>\n",
        "      <td>        birkof/frontend-dev-bookmarks</td>\n",
        "      <td> 1</td>\n",
        "    </tr>\n",
        "    <tr>\n",
        "      <th>7</th>\n",
        "      <td>                   facebook</td>\n",
        "      <td>             harjeetsingh111/facebook</td>\n",
        "      <td> 0</td>\n",
        "    </tr>\n",
        "    <tr>\n",
        "      <th>8</th>\n",
        "      <td>           baike-classifier</td>\n",
        "      <td>            tatetian/baike-classifier</td>\n",
        "      <td> 0</td>\n",
        "    </tr>\n",
        "    <tr>\n",
        "      <th>9</th>\n",
        "      <td>               python-guide</td>\n",
        "      <td>                 TAKO712/python-guide</td>\n",
        "      <td> 1</td>\n",
        "    </tr>\n",
        "  </tbody>\n",
        "</table>\n",
        "<p>10 rows \u00d7 3 columns</p>\n",
        "</div>"
       ],
       "metadata": {},
       "output_type": "pyout",
       "prompt_number": 150,
       "text": [
        "                         name                             full_name  fork\n",
        "0  BlurEffectForAndroidDesign  yang-chao/BlurEffectForAndroidDesign     1\n",
        "1        tieu-de-bai-viet-moi      kickauthor1/tieu-de-bai-viet-moi     0\n",
        "2         Post-type-wordpress         anddrie69/Post-type-wordpress     0\n",
        "3         flaming-octo-wookie           ChingTi/flaming-octo-wookie     0\n",
        "4                chef-mongodb               liulinyang/chef-mongodb     1\n",
        "5                  FB-Gallery                      ios4u/FB-Gallery     1\n",
        "6      frontend-dev-bookmarks         birkof/frontend-dev-bookmarks     1\n",
        "7                    facebook              harjeetsingh111/facebook     0\n",
        "8            baike-classifier             tatetian/baike-classifier     0\n",
        "9                python-guide                  TAKO712/python-guide     1\n",
        "\n",
        "[10 rows x 3 columns]"
       ]
      }
     ],
     "prompt_number": 150
    },
    {
     "cell_type": "markdown",
     "metadata": {},
     "source": [
      "Around 0.25M. Need to check if these are too noisy, but they seem ok overall."
     ]
    },
    {
     "cell_type": "markdown",
     "metadata": {},
     "source": [
      "## The image/video software\n",
      "\n",
      "I'm thinking this will be quite important in terms of applications"
     ]
    },
    {
     "cell_type": "code",
     "collapsed": false,
     "input": [
      "image_terms = ['video','image','jpeg', 'mp3', 'mpeg', 'audio', 'sound','photograph', 'camera', 'webcam']\n",
      "image_query = '|'.join(image_terms)\n"
     ],
     "language": "python",
     "metadata": {},
     "outputs": [],
     "prompt_number": 175
    },
    {
     "cell_type": "code",
     "collapsed": false,
     "input": [
      "image_df = construct_repo_df(image_query)"
     ],
     "language": "python",
     "metadata": {},
     "outputs": [
      {
       "output_type": "stream",
       "stream": "stdout",
       "text": [
        "starting bigquery ... \n",
        "video|image|jpeg|mp3|mpeg|audio|sound|photograph|camera|webcam\n",
        "\r",
        "Waiting on bqjob_r3b04b580136ece87_00000145f1c7a3d2_49 ... (2s) Current status: RUNNING"
       ]
      },
      {
       "output_type": "stream",
       "stream": "stdout",
       "text": [
        " \r",
        "Waiting on bqjob_r3b04b580136ece87_00000145f1c7a3d2_49 ... (4s) Current status: RUNNING "
       ]
      },
      {
       "output_type": "stream",
       "stream": "stdout",
       "text": [
        "\r",
        "Waiting on bqjob_r3b04b580136ece87_00000145f1c7a3d2_49 ... (4s) Current status: DONE   \n",
        "(171863, 3)"
       ]
      },
      {
       "output_type": "stream",
       "stream": "stdout",
       "text": [
        "\n"
       ]
      }
     ],
     "prompt_number": 176
    },
    {
     "cell_type": "markdown",
     "metadata": {},
     "source": [
      "Ok, _160k_ is not so many. Perhaps need to add more terms here. "
     ]
    },
    {
     "cell_type": "code",
     "collapsed": false,
     "input": [
      "image_df.head(10)"
     ],
     "language": "python",
     "metadata": {},
     "outputs": [
      {
       "html": [
        "<div style=\"max-height:1000px;max-width:1500px;overflow:auto;\">\n",
        "<table border=\"1\" class=\"dataframe\">\n",
        "  <thead>\n",
        "    <tr style=\"text-align: right;\">\n",
        "      <th></th>\n",
        "      <th>name</th>\n",
        "      <th>full_name</th>\n",
        "      <th>fork</th>\n",
        "    </tr>\n",
        "  </thead>\n",
        "  <tbody>\n",
        "    <tr>\n",
        "      <th>0</th>\n",
        "      <td>                  webcam</td>\n",
        "      <td>                 the-darknight/webcam</td>\n",
        "      <td> 1</td>\n",
        "    </tr>\n",
        "    <tr>\n",
        "      <th>1</th>\n",
        "      <td>                 kxmovie</td>\n",
        "      <td>                        zhuyc/kxmovie</td>\n",
        "      <td> 1</td>\n",
        "    </tr>\n",
        "    <tr>\n",
        "      <th>2</th>\n",
        "      <td>                  FFMpeg</td>\n",
        "      <td>                      truthwzl/FFMpeg</td>\n",
        "      <td> 1</td>\n",
        "    </tr>\n",
        "    <tr>\n",
        "      <th>3</th>\n",
        "      <td>      UIImageWithiPhone5</td>\n",
        "      <td>         limbo0312/UIImageWithiPhone5</td>\n",
        "      <td> 1</td>\n",
        "    </tr>\n",
        "    <tr>\n",
        "      <th>4</th>\n",
        "      <td>       android-cropimage</td>\n",
        "      <td>            thanhtx/android-cropimage</td>\n",
        "      <td> 1</td>\n",
        "    </tr>\n",
        "    <tr>\n",
        "      <th>5</th>\n",
        "      <td>              Video_Hook</td>\n",
        "      <td>                  kishkaru/Video_Hook</td>\n",
        "      <td> 0</td>\n",
        "    </tr>\n",
        "    <tr>\n",
        "      <th>6</th>\n",
        "      <td> symbol-red-mp3-download</td>\n",
        "      <td> terjunouncho/symbol-red-mp3-download</td>\n",
        "      <td> 0</td>\n",
        "    </tr>\n",
        "    <tr>\n",
        "      <th>7</th>\n",
        "      <td>              youtube-dl</td>\n",
        "      <td>                nathanchen/youtube-dl</td>\n",
        "      <td> 1</td>\n",
        "    </tr>\n",
        "    <tr>\n",
        "      <th>8</th>\n",
        "      <td>      jquery-collagePlus</td>\n",
        "      <td>          cocus-es/jquery-collagePlus</td>\n",
        "      <td> 1</td>\n",
        "    </tr>\n",
        "    <tr>\n",
        "      <th>9</th>\n",
        "      <td>      jquery-collagePlus</td>\n",
        "      <td>         xdiverres/jquery-collagePlus</td>\n",
        "      <td> 1</td>\n",
        "    </tr>\n",
        "  </tbody>\n",
        "</table>\n",
        "<p>10 rows \u00d7 3 columns</p>\n",
        "</div>"
       ],
       "metadata": {},
       "output_type": "pyout",
       "prompt_number": 246,
       "text": [
        "                      name                             full_name  fork\n",
        "0                   webcam                  the-darknight/webcam     1\n",
        "1                  kxmovie                         zhuyc/kxmovie     1\n",
        "2                   FFMpeg                       truthwzl/FFMpeg     1\n",
        "3       UIImageWithiPhone5          limbo0312/UIImageWithiPhone5     1\n",
        "4        android-cropimage             thanhtx/android-cropimage     1\n",
        "5               Video_Hook                   kishkaru/Video_Hook     0\n",
        "6  symbol-red-mp3-download  terjunouncho/symbol-red-mp3-download     0\n",
        "7               youtube-dl                 nathanchen/youtube-dl     1\n",
        "8       jquery-collagePlus           cocus-es/jquery-collagePlus     1\n",
        "9       jquery-collagePlus          xdiverres/jquery-collagePlus     1\n",
        "\n",
        "[10 rows x 3 columns]"
       ]
      }
     ],
     "prompt_number": 246
    },
    {
     "cell_type": "markdown",
     "metadata": {},
     "source": [
      "## Games and gaming\n"
     ]
    },
    {
     "cell_type": "code",
     "collapsed": false,
     "input": [
      "game_list  = ['game', 'xbox', 'playstation', 'wii', 'kinect', 'nintendo', 'minecraft', 'warcraft']\n",
      "game_query = '|'.join(game_list)"
     ],
     "language": "python",
     "metadata": {},
     "outputs": [],
     "prompt_number": 179
    },
    {
     "cell_type": "code",
     "collapsed": false,
     "input": [
      "game_df = construct_repo_df(game_query)"
     ],
     "language": "python",
     "metadata": {},
     "outputs": [
      {
       "output_type": "stream",
       "stream": "stdout",
       "text": [
        "starting bigquery ... \n",
        "game|xbox|playstation|wii|kinect|nintendo|minecraft|warcraft\n",
        "\r",
        "Waiting on bqjob_r2e8325cd18b713cb_00000145f1cb8726_50 ... (2s) Current status: RUNNING"
       ]
      },
      {
       "output_type": "stream",
       "stream": "stdout",
       "text": [
        " \r",
        "Waiting on bqjob_r2e8325cd18b713cb_00000145f1cb8726_50 ... (3s) Current status: RUNNING "
       ]
      },
      {
       "output_type": "stream",
       "stream": "stdout",
       "text": [
        "\r",
        "Waiting on bqjob_r2e8325cd18b713cb_00000145f1cb8726_50 ... (4s) Current status: RUNNING "
       ]
      },
      {
       "output_type": "stream",
       "stream": "stdout",
       "text": [
        "\r",
        "Waiting on bqjob_r2e8325cd18b713cb_00000145f1cb8726_50 ... (5s) Current status: RUNNING "
       ]
      },
      {
       "output_type": "stream",
       "stream": "stdout",
       "text": [
        "\r",
        "Waiting on bqjob_r2e8325cd18b713cb_00000145f1cb8726_50 ... (5s) Current status: DONE   \n",
        "(145452, 3)"
       ]
      },
      {
       "output_type": "stream",
       "stream": "stdout",
       "text": [
        "\n"
       ]
      }
     ],
     "prompt_number": 180
    },
    {
     "cell_type": "code",
     "collapsed": false,
     "input": [
      "game_df.head(10)"
     ],
     "language": "python",
     "metadata": {},
     "outputs": [
      {
       "html": [
        "<div style=\"max-height:1000px;max-width:1500px;overflow:auto;\">\n",
        "<table border=\"1\" class=\"dataframe\">\n",
        "  <thead>\n",
        "    <tr style=\"text-align: right;\">\n",
        "      <th></th>\n",
        "      <th>name</th>\n",
        "      <th>full_name</th>\n",
        "      <th>fork</th>\n",
        "    </tr>\n",
        "  </thead>\n",
        "  <tbody>\n",
        "    <tr>\n",
        "      <th>0</th>\n",
        "      <td>            MCCrashReporter</td>\n",
        "      <td>        Thaumic-Tinkerer/MCCrashReporter</td>\n",
        "      <td> 0</td>\n",
        "    </tr>\n",
        "    <tr>\n",
        "      <th>1</th>\n",
        "      <td>              Zelda-Strikes</td>\n",
        "      <td>                      Quff/Zelda-Strikes</td>\n",
        "      <td> 0</td>\n",
        "    </tr>\n",
        "    <tr>\n",
        "      <th>2</th>\n",
        "      <td>                   CheatMod</td>\n",
        "      <td>                         Ga1294/CheatMod</td>\n",
        "      <td> 1</td>\n",
        "    </tr>\n",
        "    <tr>\n",
        "      <th>3</th>\n",
        "      <td>                 codecombat</td>\n",
        "      <td>                   jayant1992/codecombat</td>\n",
        "      <td> 1</td>\n",
        "    </tr>\n",
        "    <tr>\n",
        "      <th>4</th>\n",
        "      <td> confectionery-crush-phaser</td>\n",
        "      <td> willmcneilly/confectionery-crush-phaser</td>\n",
        "      <td> 0</td>\n",
        "    </tr>\n",
        "    <tr>\n",
        "      <th>5</th>\n",
        "      <td>                  dice-game</td>\n",
        "      <td>                         emb78/dice-game</td>\n",
        "      <td> 0</td>\n",
        "    </tr>\n",
        "    <tr>\n",
        "      <th>6</th>\n",
        "      <td>                  antichess</td>\n",
        "      <td>                       smy2748/antichess</td>\n",
        "      <td> 0</td>\n",
        "    </tr>\n",
        "    <tr>\n",
        "      <th>7</th>\n",
        "      <td>                Breakout-PB</td>\n",
        "      <td>                  greggraham/Breakout-PB</td>\n",
        "      <td> 1</td>\n",
        "    </tr>\n",
        "    <tr>\n",
        "      <th>8</th>\n",
        "      <td>               Kinect_Piano</td>\n",
        "      <td>                     Xandon/Kinect_Piano</td>\n",
        "      <td> 0</td>\n",
        "    </tr>\n",
        "    <tr>\n",
        "      <th>9</th>\n",
        "      <td>                 TopicBingo</td>\n",
        "      <td>                worthingtonse/TopicBingo</td>\n",
        "      <td> 1</td>\n",
        "    </tr>\n",
        "  </tbody>\n",
        "</table>\n",
        "<p>10 rows \u00d7 3 columns</p>\n",
        "</div>"
       ],
       "metadata": {},
       "output_type": "pyout",
       "prompt_number": 183,
       "text": [
        "                         name                                full_name  fork\n",
        "0             MCCrashReporter         Thaumic-Tinkerer/MCCrashReporter     0\n",
        "1               Zelda-Strikes                       Quff/Zelda-Strikes     0\n",
        "2                    CheatMod                          Ga1294/CheatMod     1\n",
        "3                  codecombat                    jayant1992/codecombat     1\n",
        "4  confectionery-crush-phaser  willmcneilly/confectionery-crush-phaser     0\n",
        "5                   dice-game                          emb78/dice-game     0\n",
        "6                   antichess                        smy2748/antichess     0\n",
        "7                 Breakout-PB                   greggraham/Breakout-PB     1\n",
        "8                Kinect_Piano                      Xandon/Kinect_Piano     0\n",
        "9                  TopicBingo                 worthingtonse/TopicBingo     1\n",
        "\n",
        "[10 rows x 3 columns]"
       ]
      }
     ],
     "prompt_number": 183
    },
    {
     "cell_type": "markdown",
     "metadata": {},
     "source": [
      "Again, around 150k hits here, but probably could be expanded quite a bit. "
     ]
    },
    {
     "cell_type": "markdown",
     "metadata": {},
     "source": [
      "\n",
      "## Icons, fonts and themes\n",
      "\n",
      "I'm not whether these matter, but they are a showcase on Github"
     ]
    },
    {
     "cell_type": "code",
     "collapsed": false,
     "input": [
      "iconlist = ['icon','font', 'emoji', 'theme']\n",
      "iconquery = '|'.join(iconlist)\n",
      "print iconquery"
     ],
     "language": "python",
     "metadata": {},
     "outputs": [
      {
       "output_type": "stream",
       "stream": "stdout",
       "text": [
        "icon|font|emoji|theme\n"
       ]
      }
     ],
     "prompt_number": 211
    },
    {
     "cell_type": "code",
     "collapsed": false,
     "input": [
      "icon_df = construct_repo_df(iconquery)"
     ],
     "language": "python",
     "metadata": {},
     "outputs": [
      {
       "output_type": "stream",
       "stream": "stdout",
       "text": [
        "starting bigquery ... \n",
        "icon|font|emoji|theme\n",
        "\r",
        "Waiting on bqjob_r96cd8212b57d342_00000145f2040a02_61 ... (1s) Current status: RUNNING"
       ]
      },
      {
       "output_type": "stream",
       "stream": "stdout",
       "text": [
        " \r",
        "Waiting on bqjob_r96cd8212b57d342_00000145f2040a02_61 ... (3s) Current status: RUNNING "
       ]
      },
      {
       "output_type": "stream",
       "stream": "stdout",
       "text": [
        "\r",
        "Waiting on bqjob_r96cd8212b57d342_00000145f2040a02_61 ... (3s) Current status: DONE   \n",
        "(103029, 3)"
       ]
      },
      {
       "output_type": "stream",
       "stream": "stdout",
       "text": [
        "\n"
       ]
      }
     ],
     "prompt_number": 212
    },
    {
     "cell_type": "code",
     "collapsed": false,
     "input": [
      "icon_df.head()"
     ],
     "language": "python",
     "metadata": {},
     "outputs": [
      {
       "html": [
        "<div style=\"max-height:1000px;max-width:1500px;overflow:auto;\">\n",
        "<table border=\"1\" class=\"dataframe\">\n",
        "  <thead>\n",
        "    <tr style=\"text-align: right;\">\n",
        "      <th></th>\n",
        "      <th>name</th>\n",
        "      <th>full_name</th>\n",
        "      <th>fork</th>\n",
        "    </tr>\n",
        "  </thead>\n",
        "  <tbody>\n",
        "    <tr>\n",
        "      <th>0</th>\n",
        "      <td>                     Under_Foundation</td>\n",
        "      <td>           colegeissinger/Under_Foundation</td>\n",
        "      <td> 0</td>\n",
        "    </tr>\n",
        "    <tr>\n",
        "      <th>1</th>\n",
        "      <td>                          JZSwipeCell</td>\n",
        "      <td>                         ios4u/JZSwipeCell</td>\n",
        "      <td> 1</td>\n",
        "    </tr>\n",
        "    <tr>\n",
        "      <th>2</th>\n",
        "      <td>                                   _s</td>\n",
        "      <td>                         colegeissinger/_s</td>\n",
        "      <td> 1</td>\n",
        "    </tr>\n",
        "    <tr>\n",
        "      <th>3</th>\n",
        "      <td>           symbian-60-themes-download</td>\n",
        "      <td>   cimuquarchea/symbian-60-themes-download</td>\n",
        "      <td> 0</td>\n",
        "    </tr>\n",
        "    <tr>\n",
        "      <th>4</th>\n",
        "      <td> chrome-devtools-zerodarkmatrix-theme</td>\n",
        "      <td> bqst/chrome-devtools-zerodarkmatrix-theme</td>\n",
        "      <td> 1</td>\n",
        "    </tr>\n",
        "  </tbody>\n",
        "</table>\n",
        "<p>5 rows \u00d7 3 columns</p>\n",
        "</div>"
       ],
       "metadata": {},
       "output_type": "pyout",
       "prompt_number": 213,
       "text": [
        "                                   name  \\\n",
        "0                      Under_Foundation   \n",
        "1                           JZSwipeCell   \n",
        "2                                    _s   \n",
        "3            symbian-60-themes-download   \n",
        "4  chrome-devtools-zerodarkmatrix-theme   \n",
        "\n",
        "                                   full_name  fork  \n",
        "0            colegeissinger/Under_Foundation     0  \n",
        "1                          ios4u/JZSwipeCell     1  \n",
        "2                          colegeissinger/_s     1  \n",
        "3    cimuquarchea/symbian-60-themes-download     0  \n",
        "4  bqst/chrome-devtools-zerodarkmatrix-theme     1  \n",
        "\n",
        "[5 rows x 3 columns]"
       ]
      }
     ],
     "prompt_number": 213
    },
    {
     "cell_type": "markdown",
     "metadata": {},
     "source": [
      "Around 100k repos on this, which is a lot, given that they don't that much ... "
     ]
    },
    {
     "cell_type": "markdown",
     "metadata": {},
     "source": [
      "# Save dataframes to redis for analysis"
     ]
    },
    {
     "cell_type": "code",
     "collapsed": false,
     "input": [
      "red = redis.Redis(db='1')"
     ],
     "language": "python",
     "metadata": {},
     "outputs": [],
     "prompt_number": 30
    },
    {
     "cell_type": "code",
     "collapsed": false,
     "input": [
      "red.sadd('server', *server_df.full_name)\n",
      "red.sadd('ide', *ide_df.full_name)\n",
      "red.sadd('editor', *editor_df.full_name)\n",
      "red.sadd('game', *game_df.full_name)\n",
      "red.sadd('icon', *icon_df.full_name)\n",
      "red.sadd('image', *image_df.full_name)\n",
      "red.sadd('books', *book_df.full_name)\n",
      "red.sadd('datastat', *datastat_df.full_name)\n",
      "red.sadd('geo', *geo_df.full_name)\n",
      "red.sadd('machinelearning', *ml_df.full_name)\n",
      "red.sadd('internetprotocol', *ip_df.full_name)\n",
      "red.sadd('socialmedia', *socialmedia_df.name)\n",
      "red.sadd('devices', *devices_df.name)\n",
      "red.sadd('package', *package_df.full_name)\n",
      "red.sadd('database', *db_df.full_name)\n",
      "red.sadd('webframework', *wf_df.full_name)\n",
      "red.sadd('css', *css_df.full_name)\n",
      "red.sadd('dotfiles', *dot_df.full_name)\n",
      "red.sadd('webpages', *page_df.full_name)\n",
      "red.sadd('tests', *test_df.full_name)\n",
      "red.sadd('git', *git_df.full_name)\n",
      "red.sadd('web_frontend_javascript', *javascript_df.full_name)\n",
      "red.sadd('compilers', *compiler_df.full_name)\n",
      "red.sadd('machinelearning', *ml_df.full_name)\n",
      "red.sadd('integration', *integration_df.full_name)\n",
      "red.sadd('policy', *policy_df.full_name)\n",
      "red.sadd('science', *sci_df.full_name)\n",
      "red.sadd('documents', *doc_df.full_name)\n",
      "red.sadd('spam', *spam_df.full_name)"
     ],
     "language": "python",
     "metadata": {},
     "outputs": [
      {
       "metadata": {},
       "output_type": "pyout",
       "prompt_number": 31,
       "text": [
        "73400"
       ]
      }
     ],
     "prompt_number": 31
    }
   ],
   "metadata": {}
  }
 ]
}