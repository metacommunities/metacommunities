{
 "cells": [
  {
   "cell_type": "markdown",
   "metadata": {},
   "source": [
    "## Code in cities\n",
    "\n",
    "I wanted to get some sense of the geography of github. It only needs to be approximate, so I'm using actor_location to do this"
   ]
  },
  {
   "cell_type": "code",
   "execution_count": 10,
   "metadata": {
    "collapsed": false
   },
   "outputs": [
    {
     "name": "stdout",
     "output_type": "stream",
     "text": [
      "The autoreload extension is already loaded. To reload it, use:\n",
      "  %reload_ext autoreload\n"
     ]
    }
   ],
   "source": [
    "%load_ext autoreload\n",
    "%autoreload 2\n",
    "import sys\n",
    "sys.path.append('/home/mackenza/metacommunities/data_analysis/github_data_infrastructures/')\n",
    "sys.path.append('../..')"
   ]
  },
  {
   "cell_type": "code",
   "execution_count": 21,
   "metadata": {
    "collapsed": false
   },
   "outputs": [],
   "source": [
    "# import github_api_data as gad\n",
    "import google_bigquery_access as gba\n",
    "import bq\n",
    "import pandas as pd\n",
    "import numpy as np\n",
    "import datetime as dt\n",
    "import matplotlib.pyplot as plt\n",
    "import seaborn\n",
    "from ggplot import *\n",
    "\n"
   ]
  },
  {
   "cell_type": "code",
   "execution_count": 22,
   "metadata": {
    "collapsed": false
   },
   "outputs": [],
   "source": [
    "client = bq.Client.Get()\n",
    "\n",
    "query = \"select * from metacommunities:github.actor_location\""
   ]
  },
  {
   "cell_type": "code",
   "execution_count": 24,
   "metadata": {
    "collapsed": false
   },
   "outputs": [
    {
     "ename": "AccessTokenRefreshError",
     "evalue": "invalid_grant",
     "output_type": "error",
     "traceback": [
      "\u001b[1;31m---------------------------------------------------------------------------\u001b[0m",
      "\u001b[1;31mAccessTokenRefreshError\u001b[0m                   Traceback (most recent call last)",
      "\u001b[1;32m<ipython-input-24-72c8ccc683f0>\u001b[0m in \u001b[0;36m<module>\u001b[1;34m()\u001b[0m\n\u001b[1;32m----> 1\u001b[1;33m \u001b[0mfields\u001b[0m\u001b[1;33m,\u001b[0m \u001b[0mdata\u001b[0m \u001b[1;33m=\u001b[0m \u001b[0mclient\u001b[0m\u001b[1;33m.\u001b[0m\u001b[0mReadSchemaAndRows\u001b[0m\u001b[1;33m(\u001b[0m\u001b[0mclient\u001b[0m\u001b[1;33m.\u001b[0m\u001b[0mQuery\u001b[0m\u001b[1;33m(\u001b[0m\u001b[0mquery\u001b[0m\u001b[1;33m)\u001b[0m\u001b[1;33m[\u001b[0m\u001b[1;34m'configuration'\u001b[0m\u001b[1;33m]\u001b[0m\u001b[1;33m[\u001b[0m\u001b[1;34m'query'\u001b[0m\u001b[1;33m]\u001b[0m\u001b[1;33m[\u001b[0m\u001b[1;34m'destinationTable'\u001b[0m\u001b[1;33m]\u001b[0m\u001b[1;33m,\u001b[0m \u001b[0mmax_rows\u001b[0m \u001b[1;33m=\u001b[0m \u001b[1;36m100000\u001b[0m\u001b[1;33m)\u001b[0m\u001b[1;33m\u001b[0m\u001b[0m\n\u001b[0m\u001b[0;32m      2\u001b[0m \u001b[0mcolnames\u001b[0m \u001b[1;33m=\u001b[0m \u001b[1;33m[\u001b[0m\u001b[0mf\u001b[0m\u001b[1;33m[\u001b[0m\u001b[1;34m'name'\u001b[0m\u001b[1;33m]\u001b[0m \u001b[1;32mfor\u001b[0m \u001b[0mf\u001b[0m \u001b[1;32min\u001b[0m \u001b[0mfields\u001b[0m\u001b[1;33m]\u001b[0m\u001b[1;33m\u001b[0m\u001b[0m\n",
      "\u001b[1;32m/usr/local/lib/python2.7/dist-packages/bigquery_client.pyc\u001b[0m in \u001b[0;36mQuery\u001b[1;34m(self, query, destination_table, create_disposition, write_disposition, priority, preserve_nulls, allow_large_results, dry_run, use_cache, min_completion_ratio, **kwds)\u001b[0m\n\u001b[0;32m   1936\u001b[0m     \u001b[0mrequest\u001b[0m \u001b[1;33m=\u001b[0m \u001b[1;33m{\u001b[0m\u001b[1;34m'query'\u001b[0m\u001b[1;33m:\u001b[0m \u001b[0mquery_config\u001b[0m\u001b[1;33m}\u001b[0m\u001b[1;33m\u001b[0m\u001b[0m\n\u001b[0;32m   1937\u001b[0m     \u001b[0m_ApplyParameters\u001b[0m\u001b[1;33m(\u001b[0m\u001b[0mrequest\u001b[0m\u001b[1;33m,\u001b[0m \u001b[0mdry_run\u001b[0m\u001b[1;33m=\u001b[0m\u001b[0mdry_run\u001b[0m\u001b[1;33m)\u001b[0m\u001b[1;33m\u001b[0m\u001b[0m\n\u001b[1;32m-> 1938\u001b[1;33m     \u001b[1;32mreturn\u001b[0m \u001b[0mself\u001b[0m\u001b[1;33m.\u001b[0m\u001b[0mExecuteJob\u001b[0m\u001b[1;33m(\u001b[0m\u001b[0mrequest\u001b[0m\u001b[1;33m,\u001b[0m \u001b[1;33m**\u001b[0m\u001b[0mkwds\u001b[0m\u001b[1;33m)\u001b[0m\u001b[1;33m\u001b[0m\u001b[0m\n\u001b[0m\u001b[0;32m   1939\u001b[0m \u001b[1;33m\u001b[0m\u001b[0m\n\u001b[0;32m   1940\u001b[0m   def Load(self, destination_table_reference, source,\n",
      "\u001b[1;32m/usr/local/lib/python2.7/dist-packages/bigquery_client.pyc\u001b[0m in \u001b[0;36mExecuteJob\u001b[1;34m(self, configuration, sync, project_id, upload_file, job_id)\u001b[0m\n\u001b[0;32m   1601\u001b[0m       job = self.RunJobSynchronously(\n\u001b[0;32m   1602\u001b[0m           \u001b[0mconfiguration\u001b[0m\u001b[1;33m,\u001b[0m \u001b[0mproject_id\u001b[0m\u001b[1;33m=\u001b[0m\u001b[0mproject_id\u001b[0m\u001b[1;33m,\u001b[0m \u001b[0mupload_file\u001b[0m\u001b[1;33m=\u001b[0m\u001b[0mupload_file\u001b[0m\u001b[1;33m,\u001b[0m\u001b[1;33m\u001b[0m\u001b[0m\n\u001b[1;32m-> 1603\u001b[1;33m           job_id=job_id)\n\u001b[0m\u001b[0;32m   1604\u001b[0m     \u001b[1;32melse\u001b[0m\u001b[1;33m:\u001b[0m\u001b[1;33m\u001b[0m\u001b[0m\n\u001b[0;32m   1605\u001b[0m       job = self.StartJob(\n",
      "\u001b[1;32m/usr/local/lib/python2.7/dist-packages/bigquery_client.pyc\u001b[0m in \u001b[0;36mRunJobSynchronously\u001b[1;34m(self, configuration, project_id, upload_file, job_id)\u001b[0m\n\u001b[0;32m   1586\u001b[0m                           upload_file=None, job_id=None):\n\u001b[0;32m   1587\u001b[0m     result = self.StartJob(configuration, project_id=project_id,\n\u001b[1;32m-> 1588\u001b[1;33m                            upload_file=upload_file, job_id=job_id)\n\u001b[0m\u001b[0;32m   1589\u001b[0m     \u001b[1;32mif\u001b[0m \u001b[0mresult\u001b[0m\u001b[1;33m[\u001b[0m\u001b[1;34m'status'\u001b[0m\u001b[1;33m]\u001b[0m\u001b[1;33m[\u001b[0m\u001b[1;34m'state'\u001b[0m\u001b[1;33m]\u001b[0m \u001b[1;33m!=\u001b[0m \u001b[1;34m'DONE'\u001b[0m\u001b[1;33m:\u001b[0m\u001b[1;33m\u001b[0m\u001b[0m\n\u001b[0;32m   1590\u001b[0m       \u001b[0mjob_reference\u001b[0m \u001b[1;33m=\u001b[0m \u001b[0mBigqueryClient\u001b[0m\u001b[1;33m.\u001b[0m\u001b[0mConstructObjectReference\u001b[0m\u001b[1;33m(\u001b[0m\u001b[0mresult\u001b[0m\u001b[1;33m)\u001b[0m\u001b[1;33m\u001b[0m\u001b[0m\n",
      "\u001b[1;32m/usr/local/lib/python2.7/dist-packages/bigquery_client.pyc\u001b[0m in \u001b[0;36mStartJob\u001b[1;34m(self, configuration, project_id, upload_file, job_id)\u001b[0m\n\u001b[0;32m   1494\u001b[0m     result = self.apiclient.jobs().insert(\n\u001b[0;32m   1495\u001b[0m         \u001b[0mbody\u001b[0m\u001b[1;33m=\u001b[0m\u001b[0mjob_request\u001b[0m\u001b[1;33m,\u001b[0m \u001b[0mmedia_body\u001b[0m\u001b[1;33m=\u001b[0m\u001b[0mmedia_upload\u001b[0m\u001b[1;33m,\u001b[0m\u001b[1;33m\u001b[0m\u001b[0m\n\u001b[1;32m-> 1496\u001b[1;33m         projectId=project_id).execute()\n\u001b[0m\u001b[0;32m   1497\u001b[0m     \u001b[1;32mreturn\u001b[0m \u001b[0mresult\u001b[0m\u001b[1;33m\u001b[0m\u001b[0m\n\u001b[0;32m   1498\u001b[0m \u001b[1;33m\u001b[0m\u001b[0m\n",
      "\u001b[1;32m/usr/local/lib/python2.7/dist-packages/bigquery_client.pyc\u001b[0m in \u001b[0;36mexecute\u001b[1;34m(self, **kwds)\u001b[0m\n\u001b[0;32m    308\u001b[0m   \u001b[1;32mdef\u001b[0m \u001b[0mexecute\u001b[0m\u001b[1;33m(\u001b[0m\u001b[0mself\u001b[0m\u001b[1;33m,\u001b[0m \u001b[1;33m**\u001b[0m\u001b[0mkwds\u001b[0m\u001b[1;33m)\u001b[0m\u001b[1;33m:\u001b[0m  \u001b[1;31m# pylint: disable=g-bad-name\u001b[0m\u001b[1;33m\u001b[0m\u001b[0m\n\u001b[0;32m    309\u001b[0m     \u001b[1;32mtry\u001b[0m\u001b[1;33m:\u001b[0m\u001b[1;33m\u001b[0m\u001b[0m\n\u001b[1;32m--> 310\u001b[1;33m       \u001b[1;32mreturn\u001b[0m \u001b[0msuper\u001b[0m\u001b[1;33m(\u001b[0m\u001b[0mBigqueryHttp\u001b[0m\u001b[1;33m,\u001b[0m \u001b[0mself\u001b[0m\u001b[1;33m)\u001b[0m\u001b[1;33m.\u001b[0m\u001b[0mexecute\u001b[0m\u001b[1;33m(\u001b[0m\u001b[1;33m**\u001b[0m\u001b[0mkwds\u001b[0m\u001b[1;33m)\u001b[0m\u001b[1;33m\u001b[0m\u001b[0m\n\u001b[0m\u001b[0;32m    311\u001b[0m     \u001b[1;32mexcept\u001b[0m \u001b[0mapiclient\u001b[0m\u001b[1;33m.\u001b[0m\u001b[0merrors\u001b[0m\u001b[1;33m.\u001b[0m\u001b[0mHttpError\u001b[0m\u001b[1;33m,\u001b[0m \u001b[0me\u001b[0m\u001b[1;33m:\u001b[0m\u001b[1;33m\u001b[0m\u001b[0m\n\u001b[0;32m    312\u001b[0m       \u001b[1;31m# TODO(user): Remove this when apiclient supports logging\u001b[0m\u001b[1;33m\u001b[0m\u001b[1;33m\u001b[0m\u001b[0m\n",
      "\u001b[1;32m/usr/local/lib/python2.7/dist-packages/oauth2client/util.pyc\u001b[0m in \u001b[0;36mpositional_wrapper\u001b[1;34m(*args, **kwargs)\u001b[0m\n\u001b[0;32m    130\u001b[0m         \u001b[1;32melse\u001b[0m\u001b[1;33m:\u001b[0m \u001b[1;31m# IGNORE\u001b[0m\u001b[1;33m\u001b[0m\u001b[0m\n\u001b[0;32m    131\u001b[0m           \u001b[1;32mpass\u001b[0m\u001b[1;33m\u001b[0m\u001b[0m\n\u001b[1;32m--> 132\u001b[1;33m       \u001b[1;32mreturn\u001b[0m \u001b[0mwrapped\u001b[0m\u001b[1;33m(\u001b[0m\u001b[1;33m*\u001b[0m\u001b[0margs\u001b[0m\u001b[1;33m,\u001b[0m \u001b[1;33m**\u001b[0m\u001b[0mkwargs\u001b[0m\u001b[1;33m)\u001b[0m\u001b[1;33m\u001b[0m\u001b[0m\n\u001b[0m\u001b[0;32m    133\u001b[0m     \u001b[1;32mreturn\u001b[0m \u001b[0mpositional_wrapper\u001b[0m\u001b[1;33m\u001b[0m\u001b[0m\n\u001b[0;32m    134\u001b[0m \u001b[1;33m\u001b[0m\u001b[0m\n",
      "\u001b[1;32m/usr/local/lib/python2.7/dist-packages/apiclient/http.pyc\u001b[0m in \u001b[0;36mexecute\u001b[1;34m(self, http, num_retries)\u001b[0m\n\u001b[0;32m    714\u001b[0m \u001b[1;33m\u001b[0m\u001b[0m\n\u001b[0;32m    715\u001b[0m       resp, content = http.request(str(self.uri), method=str(self.method),\n\u001b[1;32m--> 716\u001b[1;33m                                    body=self.body, headers=self.headers)\n\u001b[0m\u001b[0;32m    717\u001b[0m       \u001b[1;32mif\u001b[0m \u001b[0mresp\u001b[0m\u001b[1;33m.\u001b[0m\u001b[0mstatus\u001b[0m \u001b[1;33m<\u001b[0m \u001b[1;36m500\u001b[0m\u001b[1;33m:\u001b[0m\u001b[1;33m\u001b[0m\u001b[0m\n\u001b[0;32m    718\u001b[0m         \u001b[1;32mbreak\u001b[0m\u001b[1;33m\u001b[0m\u001b[0m\n",
      "\u001b[1;32m/usr/local/lib/python2.7/dist-packages/oauth2client/util.pyc\u001b[0m in \u001b[0;36mpositional_wrapper\u001b[1;34m(*args, **kwargs)\u001b[0m\n\u001b[0;32m    130\u001b[0m         \u001b[1;32melse\u001b[0m\u001b[1;33m:\u001b[0m \u001b[1;31m# IGNORE\u001b[0m\u001b[1;33m\u001b[0m\u001b[0m\n\u001b[0;32m    131\u001b[0m           \u001b[1;32mpass\u001b[0m\u001b[1;33m\u001b[0m\u001b[0m\n\u001b[1;32m--> 132\u001b[1;33m       \u001b[1;32mreturn\u001b[0m \u001b[0mwrapped\u001b[0m\u001b[1;33m(\u001b[0m\u001b[1;33m*\u001b[0m\u001b[0margs\u001b[0m\u001b[1;33m,\u001b[0m \u001b[1;33m**\u001b[0m\u001b[0mkwargs\u001b[0m\u001b[1;33m)\u001b[0m\u001b[1;33m\u001b[0m\u001b[0m\n\u001b[0m\u001b[0;32m    133\u001b[0m     \u001b[1;32mreturn\u001b[0m \u001b[0mpositional_wrapper\u001b[0m\u001b[1;33m\u001b[0m\u001b[0m\n\u001b[0;32m    134\u001b[0m \u001b[1;33m\u001b[0m\u001b[0m\n",
      "\u001b[1;32m/usr/local/lib/python2.7/dist-packages/oauth2client/client.pyc\u001b[0m in \u001b[0;36mnew_request\u001b[1;34m(uri, method, body, headers, redirections, connection_type)\u001b[0m\n\u001b[0;32m    492\u001b[0m       \u001b[1;32mif\u001b[0m \u001b[0mresp\u001b[0m\u001b[1;33m.\u001b[0m\u001b[0mstatus\u001b[0m \u001b[1;32min\u001b[0m \u001b[0mREFRESH_STATUS_CODES\u001b[0m\u001b[1;33m:\u001b[0m\u001b[1;33m\u001b[0m\u001b[0m\n\u001b[0;32m    493\u001b[0m         \u001b[0mlogger\u001b[0m\u001b[1;33m.\u001b[0m\u001b[0minfo\u001b[0m\u001b[1;33m(\u001b[0m\u001b[1;34m'Refreshing due to a %s'\u001b[0m \u001b[1;33m%\u001b[0m \u001b[0mstr\u001b[0m\u001b[1;33m(\u001b[0m\u001b[0mresp\u001b[0m\u001b[1;33m.\u001b[0m\u001b[0mstatus\u001b[0m\u001b[1;33m)\u001b[0m\u001b[1;33m)\u001b[0m\u001b[1;33m\u001b[0m\u001b[0m\n\u001b[1;32m--> 494\u001b[1;33m         \u001b[0mself\u001b[0m\u001b[1;33m.\u001b[0m\u001b[0m_refresh\u001b[0m\u001b[1;33m(\u001b[0m\u001b[0mrequest_orig\u001b[0m\u001b[1;33m)\u001b[0m\u001b[1;33m\u001b[0m\u001b[0m\n\u001b[0m\u001b[0;32m    495\u001b[0m         \u001b[0mself\u001b[0m\u001b[1;33m.\u001b[0m\u001b[0mapply\u001b[0m\u001b[1;33m(\u001b[0m\u001b[0mheaders\u001b[0m\u001b[1;33m)\u001b[0m\u001b[1;33m\u001b[0m\u001b[0m\n\u001b[0;32m    496\u001b[0m         return request_orig(uri, method, body, clean_headers(headers),\n",
      "\u001b[1;32m/usr/local/lib/python2.7/dist-packages/oauth2client/client.pyc\u001b[0m in \u001b[0;36m_refresh\u001b[1;34m(self, http_request)\u001b[0m\n\u001b[0;32m    661\u001b[0m           \u001b[0mself\u001b[0m\u001b[1;33m.\u001b[0m\u001b[0m_updateFromCredential\u001b[0m\u001b[1;33m(\u001b[0m\u001b[0mnew_cred\u001b[0m\u001b[1;33m)\u001b[0m\u001b[1;33m\u001b[0m\u001b[0m\n\u001b[0;32m    662\u001b[0m         \u001b[1;32melse\u001b[0m\u001b[1;33m:\u001b[0m\u001b[1;33m\u001b[0m\u001b[0m\n\u001b[1;32m--> 663\u001b[1;33m           \u001b[0mself\u001b[0m\u001b[1;33m.\u001b[0m\u001b[0m_do_refresh_request\u001b[0m\u001b[1;33m(\u001b[0m\u001b[0mhttp_request\u001b[0m\u001b[1;33m)\u001b[0m\u001b[1;33m\u001b[0m\u001b[0m\n\u001b[0m\u001b[0;32m    664\u001b[0m       \u001b[1;32mfinally\u001b[0m\u001b[1;33m:\u001b[0m\u001b[1;33m\u001b[0m\u001b[0m\n\u001b[0;32m    665\u001b[0m         \u001b[0mself\u001b[0m\u001b[1;33m.\u001b[0m\u001b[0mstore\u001b[0m\u001b[1;33m.\u001b[0m\u001b[0mrelease_lock\u001b[0m\u001b[1;33m(\u001b[0m\u001b[1;33m)\u001b[0m\u001b[1;33m\u001b[0m\u001b[0m\n",
      "\u001b[1;32m/usr/local/lib/python2.7/dist-packages/oauth2client/client.pyc\u001b[0m in \u001b[0;36m_do_refresh_request\u001b[1;34m(self, http_request)\u001b[0m\n\u001b[0;32m    708\u001b[0m       \u001b[1;32mexcept\u001b[0m \u001b[0mStandardError\u001b[0m\u001b[1;33m:\u001b[0m\u001b[1;33m\u001b[0m\u001b[0m\n\u001b[0;32m    709\u001b[0m         \u001b[1;32mpass\u001b[0m\u001b[1;33m\u001b[0m\u001b[0m\n\u001b[1;32m--> 710\u001b[1;33m       \u001b[1;32mraise\u001b[0m \u001b[0mAccessTokenRefreshError\u001b[0m\u001b[1;33m(\u001b[0m\u001b[0merror_msg\u001b[0m\u001b[1;33m)\u001b[0m\u001b[1;33m\u001b[0m\u001b[0m\n\u001b[0m\u001b[0;32m    711\u001b[0m \u001b[1;33m\u001b[0m\u001b[0m\n\u001b[0;32m    712\u001b[0m   \u001b[1;32mdef\u001b[0m \u001b[0m_revoke\u001b[0m\u001b[1;33m(\u001b[0m\u001b[0mself\u001b[0m\u001b[1;33m,\u001b[0m \u001b[0mhttp_request\u001b[0m\u001b[1;33m)\u001b[0m\u001b[1;33m:\u001b[0m\u001b[1;33m\u001b[0m\u001b[0m\n",
      "\u001b[1;31mAccessTokenRefreshError\u001b[0m: invalid_grant"
     ]
    }
   ],
   "source": [
    "fields, data = client.ReadSchemaAndRows(client.Query(query)['configuration']['query']['destinationTable'], max_rows = 100000)\n",
    "colnames = [f['name'] for f in fields]"
   ]
  },
  {
   "cell_type": "code",
   "execution_count": 16,
   "metadata": {
    "collapsed": false
   },
   "outputs": [
    {
     "ename": "NameError",
     "evalue": "name 'data' is not defined",
     "output_type": "error",
     "traceback": [
      "\u001b[1;31m---------------------------------------------------------------------------\u001b[0m",
      "\u001b[1;31mNameError\u001b[0m                                 Traceback (most recent call last)",
      "\u001b[1;32m<ipython-input-16-38941047d5ec>\u001b[0m in \u001b[0;36m<module>\u001b[1;34m()\u001b[0m\n\u001b[1;32m----> 1\u001b[1;33m \u001b[0mlocations_df\u001b[0m \u001b[1;33m=\u001b[0m \u001b[0mpd\u001b[0m\u001b[1;33m.\u001b[0m\u001b[0mDataFrame\u001b[0m\u001b[1;33m(\u001b[0m\u001b[0mdata\u001b[0m\u001b[1;33m,\u001b[0m \u001b[0mcolumns\u001b[0m \u001b[1;33m=\u001b[0m \u001b[0mcolnames\u001b[0m\u001b[1;33m)\u001b[0m\u001b[1;33m\u001b[0m\u001b[0m\n\u001b[0m\u001b[0;32m      2\u001b[0m \u001b[0mlocations_df\u001b[0m\u001b[1;33m.\u001b[0m\u001b[0mshape\u001b[0m\u001b[1;33m\u001b[0m\u001b[0m\n",
      "\u001b[1;31mNameError\u001b[0m: name 'data' is not defined"
     ]
    }
   ],
   "source": [
    "locations_df = pd.DataFrame(data, columns = colnames)\n",
    "locations_df.shape"
   ]
  },
  {
   "cell_type": "code",
   "execution_count": 25,
   "metadata": {
    "collapsed": false
   },
   "outputs": [
    {
     "ename": "NameError",
     "evalue": "name 'locations_df' is not defined",
     "output_type": "error",
     "traceback": [
      "\u001b[1;31m---------------------------------------------------------------------------\u001b[0m",
      "\u001b[1;31mNameError\u001b[0m                                 Traceback (most recent call last)",
      "\u001b[1;32m<ipython-input-25-908f42c4ad7f>\u001b[0m in \u001b[0;36m<module>\u001b[1;34m()\u001b[0m\n\u001b[1;32m----> 1\u001b[1;33m \u001b[0mlocations_df\u001b[0m\u001b[1;33m[\u001b[0m\u001b[1;34m'location_count'\u001b[0m\u001b[1;33m]\u001b[0m \u001b[1;33m=\u001b[0m \u001b[0mlocations_df\u001b[0m\u001b[1;33m.\u001b[0m\u001b[0mlocation_count\u001b[0m\u001b[1;33m.\u001b[0m\u001b[0mastype\u001b[0m\u001b[1;33m(\u001b[0m\u001b[1;34m'int'\u001b[0m\u001b[1;33m)\u001b[0m\u001b[1;33m\u001b[0m\u001b[0m\n\u001b[0m\u001b[0;32m      2\u001b[0m \u001b[0mlocations_df\u001b[0m\u001b[1;33m.\u001b[0m\u001b[0msort\u001b[0m\u001b[1;33m(\u001b[0m\u001b[1;34m'location_count'\u001b[0m\u001b[1;33m,\u001b[0m \u001b[0mascending\u001b[0m\u001b[1;33m=\u001b[0m\u001b[0mFalse\u001b[0m\u001b[1;33m)\u001b[0m\u001b[1;33m\u001b[0m\u001b[0m\n",
      "\u001b[1;31mNameError\u001b[0m: name 'locations_df' is not defined"
     ]
    }
   ],
   "source": [
    "locations_df['location_count'] = locations_df.location_count.astype('int')\n",
    "locations_df.sort('location_count', ascending=False)"
   ]
  },
  {
   "cell_type": "code",
   "execution_count": 26,
   "metadata": {
    "collapsed": false
   },
   "outputs": [
    {
     "ename": "NameError",
     "evalue": "name 'locations_df' is not defined",
     "output_type": "error",
     "traceback": [
      "\u001b[1;31m---------------------------------------------------------------------------\u001b[0m",
      "\u001b[1;31mNameError\u001b[0m                                 Traceback (most recent call last)",
      "\u001b[1;32m<ipython-input-26-e62b8a5963bb>\u001b[0m in \u001b[0;36m<module>\u001b[1;34m()\u001b[0m\n\u001b[0;32m      1\u001b[0m \u001b[1;31m# clean up location names\u001b[0m\u001b[1;33m\u001b[0m\u001b[1;33m\u001b[0m\u001b[0m\n\u001b[1;32m----> 2\u001b[1;33m \u001b[0mlocations_df\u001b[0m\u001b[1;33m[\u001b[0m\u001b[1;34m'locations_full'\u001b[0m\u001b[1;33m]\u001b[0m \u001b[1;33m=\u001b[0m \u001b[0mlocations_df\u001b[0m\u001b[1;33m.\u001b[0m\u001b[0mlocation\u001b[0m\u001b[1;33m.\u001b[0m\u001b[0mstr\u001b[0m\u001b[1;33m.\u001b[0m\u001b[0mlower\u001b[0m\u001b[1;33m(\u001b[0m\u001b[1;33m)\u001b[0m\u001b[1;33m.\u001b[0m\u001b[0mstr\u001b[0m\u001b[1;33m.\u001b[0m\u001b[0mstrip\u001b[0m\u001b[1;33m(\u001b[0m\u001b[1;33m)\u001b[0m\u001b[1;33m.\u001b[0m\u001b[0mstr\u001b[0m\u001b[1;33m.\u001b[0m\u001b[0mreplace\u001b[0m\u001b[1;33m(\u001b[0m\u001b[1;34m'$ '\u001b[0m\u001b[1;33m,\u001b[0m \u001b[1;34m'na'\u001b[0m\u001b[1;33m)\u001b[0m\u001b[1;33m.\u001b[0m\u001b[0mstr\u001b[0m\u001b[1;33m.\u001b[0m\u001b[0mencode\u001b[0m\u001b[1;33m(\u001b[0m\u001b[1;34m'utf8'\u001b[0m\u001b[1;33m)\u001b[0m\u001b[1;33m.\u001b[0m\u001b[0mstr\u001b[0m\u001b[1;33m.\u001b[0m\u001b[0mreplace\u001b[0m\u001b[1;33m(\u001b[0m\u001b[1;34m'[<>=().;/\"]'\u001b[0m\u001b[1;33m,\u001b[0m \u001b[1;34m''\u001b[0m\u001b[1;33m)\u001b[0m\u001b[1;33m.\u001b[0m\u001b[0mstr\u001b[0m\u001b[1;33m.\u001b[0m\u001b[0msplit\u001b[0m\u001b[1;33m(\u001b[0m\u001b[1;34m', '\u001b[0m\u001b[1;33m)\u001b[0m\u001b[1;33m\u001b[0m\u001b[0m\n\u001b[0m\u001b[0;32m      3\u001b[0m \u001b[1;33m\u001b[0m\u001b[0m\n\u001b[0;32m      4\u001b[0m \u001b[1;31m# drop empty values\u001b[0m\u001b[1;33m\u001b[0m\u001b[1;33m\u001b[0m\u001b[0m\n\u001b[0;32m      5\u001b[0m \u001b[0mlocs\u001b[0m \u001b[1;33m=\u001b[0m \u001b[0mlocations_df\u001b[0m\u001b[1;33m.\u001b[0m\u001b[0mdropna\u001b[0m\u001b[1;33m(\u001b[0m\u001b[1;33m)\u001b[0m\u001b[1;33m\u001b[0m\u001b[0m\n",
      "\u001b[1;31mNameError\u001b[0m: name 'locations_df' is not defined"
     ]
    }
   ],
   "source": [
    "# clean up location names\n",
    "locations_df['locations_full'] = locations_df.location.str.lower().str.strip().str.replace('$ ', 'na').str.encode('utf8').str.replace('[<>=().;/\"]', '').str.split(', ')\n",
    "\n",
    "# drop empty values\n",
    "locs = locations_df.dropna()\n",
    "locs.shape"
   ]
  },
  {
   "cell_type": "code",
   "execution_count": 99,
   "metadata": {
    "collapsed": false
   },
   "outputs": [],
   "source": [
    "# create master list of places that mixes countries, cities, states, etc\n",
    "place_list = [i for l in locs.locations_full.tolist() for i in l]\n"
   ]
  },
  {
   "cell_type": "code",
   "execution_count": 101,
   "metadata": {
    "collapsed": false
   },
   "outputs": [],
   "source": [
    "place_set = list(set(sort(place_list)))"
   ]
  },
  {
   "cell_type": "code",
   "execution_count": 81,
   "metadata": {
    "collapsed": false
   },
   "outputs": [
    {
     "data": {
      "text/html": [
       "<div style=\"max-height:1000px;max-width:1500px;overflow:auto;\">\n",
       "<table border=\"1\" class=\"dataframe\">\n",
       "  <thead>\n",
       "    <tr style=\"text-align: right;\">\n",
       "      <th></th>\n",
       "      <th>location</th>\n",
       "      <th>location_count</th>\n",
       "      <th>locations_full</th>\n",
       "    </tr>\n",
       "  </thead>\n",
       "  <tbody>\n",
       "    <tr>\n",
       "      <th>780  </th>\n",
       "      <td>                                         Hong Kong</td>\n",
       "      <td> 139755</td>\n",
       "      <td>                                       [hong kong]</td>\n",
       "    </tr>\n",
       "    <tr>\n",
       "      <th>1431 </th>\n",
       "      <td>                                  Hong Kong, China</td>\n",
       "      <td>   3053</td>\n",
       "      <td>                                [hong kong, china]</td>\n",
       "    </tr>\n",
       "    <tr>\n",
       "      <th>6489 </th>\n",
       "      <td>              Hong Kong, Vancouver, Sydney, London</td>\n",
       "      <td>     12</td>\n",
       "      <td>            [hong kong, vancouver, sydney, london]</td>\n",
       "    </tr>\n",
       "    <tr>\n",
       "      <th>10993</th>\n",
       "      <td>                                         hong kong</td>\n",
       "      <td>    338</td>\n",
       "      <td>                                       [hong kong]</td>\n",
       "    </tr>\n",
       "    <tr>\n",
       "      <th>11748</th>\n",
       "      <td>                                Kowloon, Hong Kong</td>\n",
       "      <td>    307</td>\n",
       "      <td>                              [kowloon, hong kong]</td>\n",
       "    </tr>\n",
       "    <tr>\n",
       "      <th>13356</th>\n",
       "      <td>                          Discovery Bay, Hong Kong</td>\n",
       "      <td>    389</td>\n",
       "      <td>                        [discovery bay, hong kong]</td>\n",
       "    </tr>\n",
       "    <tr>\n",
       "      <th>14667</th>\n",
       "      <td>                    Vancouver, Hong Kong, Malaysia</td>\n",
       "      <td>    683</td>\n",
       "      <td>                  [vancouver, hong kong, malaysia]</td>\n",
       "    </tr>\n",
       "    <tr>\n",
       "      <th>18551</th>\n",
       "      <td>                        Jordan, Kowloon, Hong Kong</td>\n",
       "      <td>    173</td>\n",
       "      <td>                      [jordan, kowloon, hong kong]</td>\n",
       "    </tr>\n",
       "    <tr>\n",
       "      <th>27928</th>\n",
       "      <td> London / St Albans, England or Kowloon, Hong K...</td>\n",
       "      <td>    195</td>\n",
       "      <td> [london  st albans, england or kowloon, hong k...</td>\n",
       "    </tr>\n",
       "    <tr>\n",
       "      <th>28472</th>\n",
       "      <td> London / St Albans, England or Kowloon, Hong Kong</td>\n",
       "      <td>    234</td>\n",
       "      <td> [london  st albans, england or kowloon, hong k...</td>\n",
       "    </tr>\n",
       "    <tr>\n",
       "      <th>29831</th>\n",
       "      <td>                                 Hong Kong, Manila</td>\n",
       "      <td>     37</td>\n",
       "      <td>                               [hong kong, manila]</td>\n",
       "    </tr>\n",
       "    <tr>\n",
       "      <th>32242</th>\n",
       "      <td>                           Kowloon City, Hong Kong</td>\n",
       "      <td>     99</td>\n",
       "      <td>                         [kowloon city, hong kong]</td>\n",
       "    </tr>\n",
       "    <tr>\n",
       "      <th>32599</th>\n",
       "      <td>                                         Hong kong</td>\n",
       "      <td>     29</td>\n",
       "      <td>                                       [hong kong]</td>\n",
       "    </tr>\n",
       "    <tr>\n",
       "      <th>33000</th>\n",
       "      <td>                                    Hong Kong, PRC</td>\n",
       "      <td>     32</td>\n",
       "      <td>                                  [hong kong, prc]</td>\n",
       "    </tr>\n",
       "    <tr>\n",
       "      <th>37680</th>\n",
       "      <td>                       Tokyo, Hong Kong, Singapore</td>\n",
       "      <td>     68</td>\n",
       "      <td>                     [tokyo, hong kong, singapore]</td>\n",
       "    </tr>\n",
       "    <tr>\n",
       "      <th>38111</th>\n",
       "      <td>                                Hong Kong, Beijing</td>\n",
       "      <td>     40</td>\n",
       "      <td>                              [hong kong, beijing]</td>\n",
       "    </tr>\n",
       "    <tr>\n",
       "      <th>40266</th>\n",
       "      <td>                                         HONG KONG</td>\n",
       "      <td>    153</td>\n",
       "      <td>                                       [hong kong]</td>\n",
       "    </tr>\n",
       "    <tr>\n",
       "      <th>40878</th>\n",
       "      <td>                       Hong Kong, Hong Kong, China</td>\n",
       "      <td>     50</td>\n",
       "      <td>                     [hong kong, hong kong, china]</td>\n",
       "    </tr>\n",
       "    <tr>\n",
       "      <th>44183</th>\n",
       "      <td>                                  Japan, Hong Kong</td>\n",
       "      <td>     53</td>\n",
       "      <td>                                [japan, hong kong]</td>\n",
       "    </tr>\n",
       "    <tr>\n",
       "      <th>44362</th>\n",
       "      <td>                                  Hong Kong, Earth</td>\n",
       "      <td>     36</td>\n",
       "      <td>                                [hong kong, earth]</td>\n",
       "    </tr>\n",
       "    <tr>\n",
       "      <th>47110</th>\n",
       "      <td>                              Hong Kong, Hong Kong</td>\n",
       "      <td>     69</td>\n",
       "      <td>                            [hong kong, hong kong]</td>\n",
       "    </tr>\n",
       "    <tr>\n",
       "      <th>49165</th>\n",
       "      <td>                                 London, Hong Kong</td>\n",
       "      <td>     19</td>\n",
       "      <td>                               [london, hong kong]</td>\n",
       "    </tr>\n",
       "    <tr>\n",
       "      <th>52676</th>\n",
       "      <td>                              Singapore, Hong Kong</td>\n",
       "      <td>      3</td>\n",
       "      <td>                            [singapore, hong kong]</td>\n",
       "    </tr>\n",
       "    <tr>\n",
       "      <th>54001</th>\n",
       "      <td>                                    Hong Kong, SAR</td>\n",
       "      <td>      5</td>\n",
       "      <td>                                  [hong kong, sar]</td>\n",
       "    </tr>\n",
       "    <tr>\n",
       "      <th>54869</th>\n",
       "      <td>                          Hong Kong, New York City</td>\n",
       "      <td>      2</td>\n",
       "      <td>                        [hong kong, new york city]</td>\n",
       "    </tr>\n",
       "    <tr>\n",
       "      <th>62715</th>\n",
       "      <td>                                  China, Hong Kong</td>\n",
       "      <td>      1</td>\n",
       "      <td>                                [china, hong kong]</td>\n",
       "    </tr>\n",
       "    <tr>\n",
       "      <th>66808</th>\n",
       "      <td>                                  Hong Kong, Tokyo</td>\n",
       "      <td>      5</td>\n",
       "      <td>                                [hong kong, tokyo]</td>\n",
       "    </tr>\n",
       "    <tr>\n",
       "      <th>67673</th>\n",
       "      <td>                               Pokfulam, Hong Kong</td>\n",
       "      <td>      1</td>\n",
       "      <td>                             [pokfulam, hong kong]</td>\n",
       "    </tr>\n",
       "    <tr>\n",
       "      <th>71459</th>\n",
       "      <td>                         Beijing, Tokyo, Hong Kong</td>\n",
       "      <td>      2</td>\n",
       "      <td>                       [beijing, tokyo, hong kong]</td>\n",
       "    </tr>\n",
       "  </tbody>\n",
       "</table>\n",
       "<p>29 rows × 3 columns</p>\n",
       "</div>"
      ],
      "text/plain": [
       "                                                location  location_count  \\\n",
       "780                                            Hong Kong          139755   \n",
       "1431                                    Hong Kong, China            3053   \n",
       "6489                Hong Kong, Vancouver, Sydney, London              12   \n",
       "10993                                          hong kong             338   \n",
       "11748                                 Kowloon, Hong Kong             307   \n",
       "13356                           Discovery Bay, Hong Kong             389   \n",
       "14667                     Vancouver, Hong Kong, Malaysia             683   \n",
       "18551                         Jordan, Kowloon, Hong Kong             173   \n",
       "27928  London / St Albans, England or Kowloon, Hong K...             195   \n",
       "28472  London / St Albans, England or Kowloon, Hong Kong             234   \n",
       "29831                                  Hong Kong, Manila              37   \n",
       "32242                            Kowloon City, Hong Kong              99   \n",
       "32599                                          Hong kong              29   \n",
       "33000                                     Hong Kong, PRC              32   \n",
       "37680                        Tokyo, Hong Kong, Singapore              68   \n",
       "38111                                 Hong Kong, Beijing              40   \n",
       "40266                                          HONG KONG             153   \n",
       "40878                        Hong Kong, Hong Kong, China              50   \n",
       "44183                                   Japan, Hong Kong              53   \n",
       "44362                                   Hong Kong, Earth              36   \n",
       "47110                               Hong Kong, Hong Kong              69   \n",
       "49165                                  London, Hong Kong              19   \n",
       "52676                               Singapore, Hong Kong               3   \n",
       "54001                                     Hong Kong, SAR               5   \n",
       "54869                           Hong Kong, New York City               2   \n",
       "62715                                   China, Hong Kong               1   \n",
       "66808                                   Hong Kong, Tokyo               5   \n",
       "67673                                Pokfulam, Hong Kong               1   \n",
       "71459                          Beijing, Tokyo, Hong Kong               2   \n",
       "\n",
       "                                          locations_full  \n",
       "780                                          [hong kong]  \n",
       "1431                                  [hong kong, china]  \n",
       "6489              [hong kong, vancouver, sydney, london]  \n",
       "10993                                        [hong kong]  \n",
       "11748                               [kowloon, hong kong]  \n",
       "13356                         [discovery bay, hong kong]  \n",
       "14667                   [vancouver, hong kong, malaysia]  \n",
       "18551                       [jordan, kowloon, hong kong]  \n",
       "27928  [london  st albans, england or kowloon, hong k...  \n",
       "28472  [london  st albans, england or kowloon, hong k...  \n",
       "29831                                [hong kong, manila]  \n",
       "32242                          [kowloon city, hong kong]  \n",
       "32599                                        [hong kong]  \n",
       "33000                                   [hong kong, prc]  \n",
       "37680                      [tokyo, hong kong, singapore]  \n",
       "38111                               [hong kong, beijing]  \n",
       "40266                                        [hong kong]  \n",
       "40878                      [hong kong, hong kong, china]  \n",
       "44183                                 [japan, hong kong]  \n",
       "44362                                 [hong kong, earth]  \n",
       "47110                             [hong kong, hong kong]  \n",
       "49165                                [london, hong kong]  \n",
       "52676                             [singapore, hong kong]  \n",
       "54001                                   [hong kong, sar]  \n",
       "54869                         [hong kong, new york city]  \n",
       "62715                                 [china, hong kong]  \n",
       "66808                                 [hong kong, tokyo]  \n",
       "67673                              [pokfulam, hong kong]  \n",
       "71459                        [beijing, tokyo, hong kong]  \n",
       "\n",
       "[29 rows x 3 columns]"
      ]
     },
     "execution_count": 81,
     "metadata": {},
     "output_type": "execute_result"
    }
   ],
   "source": [
    "locs.ix[locs['locations_full'].map(lambda x: 'hong kong' in x)]"
   ]
  }
 ],
 "metadata": {
  "kernelspec": {
   "display_name": "Python 2",
   "language": "python",
   "name": "python2"
  },
  "language_info": {
   "codemirror_mode": {
    "name": "ipython",
    "version": 2
   },
   "file_extension": ".py",
   "mimetype": "text/x-python",
   "name": "python",
   "nbconvert_exporter": "python",
   "pygments_lexer": "ipython2",
   "version": "2.7.6"
  }
 },
 "nbformat": 4,
 "nbformat_minor": 0
}
