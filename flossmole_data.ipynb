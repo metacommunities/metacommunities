{
 "metadata": {
  "name": "flossmole_data"
 },
 "nbformat": 3,
 "nbformat_minor": 0,
 "worksheets": [
  {
   "cells": [
    {
     "cell_type": "markdown",
     "metadata": {},
     "source": [
      "# Repository datasets archived at [flossmole](http://code.google.com/p/flossmole/downloads/list)\n",
      "\n",
      "They could be a way to help fill out data before February 2011 for github (the github data seems to only go back to 2010. And flossmole has many other sites, such as sourceforge, google code, and launchpad. Both the data and the scripts they used could be helpful for us. The url for the download page is http://code.google.com/p/flossmole/downloads/list"
     ]
    },
    {
     "cell_type": "code",
     "collapsed": false,
     "input": [
      "import pandas as pd\n",
      "import bz2\n",
      "import requests\n",
      "import StringIO as io\n",
      "import json\n",
      "\n",
      "def get_flossmole(url, header=34):\n",
      "\n",
      "    \"\"\" Returns a dataframe for the data at the given flossmole url\n",
      "    Arguments:\n",
      "    --------------------------\n",
      "    url: flossmole url\n",
      "    header: the line number of the header line\n",
      "    \"\"\"\n",
      "\n",
      "    bz_file = requests.get(url)\n",
      "    flossmole_data =io.StringIO(bz2.decompress(bz_file.content))\n",
      "    floss_mole_df = pd.read_table(flossmole_data, sep='\\t',  lineterminator='\\n',  header = header)\n",
      "    return floss_mole_df"
     ],
     "language": "python",
     "metadata": {},
     "outputs": [],
     "prompt_number": 13
    },
    {
     "cell_type": "code",
     "collapsed": false,
     "input": [
      "url = 'http://flossmole.googlecode.com/files/ghProjectInfo2010-May.txt.bz2'\n",
      "\n",
      "\n",
      "gh_2010_df = get_flossmole(url, header=34)"
     ],
     "language": "python",
     "metadata": {},
     "outputs": [],
     "prompt_number": 14
    },
    {
     "cell_type": "code",
     "collapsed": false,
     "input": [
      "gh_2010_df.head()"
     ],
     "language": "python",
     "metadata": {},
     "outputs": [
      {
       "html": [
        "<div style=\"max-height:1000px;max-width:1500px;overflow:auto;\">\n",
        "<table border=\"1\" class=\"dataframe\">\n",
        "  <thead>\n",
        "    <tr style=\"text-align: right;\">\n",
        "      <th></th>\n",
        "      <th>project_name</th>\n",
        "      <th>developer_name</th>\n",
        "      <th>description</th>\n",
        "      <th>private</th>\n",
        "      <th>url</th>\n",
        "      <th>forked</th>\n",
        "      <th>fork_number</th>\n",
        "      <th>homepage</th>\n",
        "      <th>watchers</th>\n",
        "      <th>open_issues</th>\n",
        "      <th>datasource_id</th>\n",
        "      <th>last_modified</th>\n",
        "    </tr>\n",
        "  </thead>\n",
        "  <tbody>\n",
        "    <tr>\n",
        "      <th>0</th>\n",
        "      <td>                   _</td>\n",
        "      <td>           mame</td>\n",
        "      <td> _ allows you to write Ruby script by using onl...</td>\n",
        "      <td> False</td>\n",
        "      <td>                       http://github.com/mame/_</td>\n",
        "      <td> False</td>\n",
        "      <td> 0</td>\n",
        "      <td> http://github.com/mame/_/tree/master</td>\n",
        "      <td> 6</td>\n",
        "      <td> 0</td>\n",
        "      <td> 223</td>\n",
        "      <td> 2010-06-06 01:03:59</td>\n",
        "    </tr>\n",
        "    <tr>\n",
        "      <th>1</th>\n",
        "      <td>       __GitTestVS__</td>\n",
        "      <td> CrashTestDummy</td>\n",
        "      <td>                                  Git test with VS</td>\n",
        "      <td> False</td>\n",
        "      <td> http://github.com/CrashTestDummy/__GitTestVS__</td>\n",
        "      <td> False</td>\n",
        "      <td> 0</td>\n",
        "      <td>                                  NaN</td>\n",
        "      <td> 1</td>\n",
        "      <td> 0</td>\n",
        "      <td> 223</td>\n",
        "      <td> 2010-06-06 01:04:08</td>\n",
        "    </tr>\n",
        "    <tr>\n",
        "      <th>2</th>\n",
        "      <td>             __shelf</td>\n",
        "      <td>         samoht</td>\n",
        "      <td>                   Serialization library for OCaml</td>\n",
        "      <td> False</td>\n",
        "      <td>               http://github.com/samoht/__shelf</td>\n",
        "      <td> False</td>\n",
        "      <td> 0</td>\n",
        "      <td>                                  NaN</td>\n",
        "      <td> 1</td>\n",
        "      <td> 0</td>\n",
        "      <td> 223</td>\n",
        "      <td> 2010-06-06 01:04:09</td>\n",
        "    </tr>\n",
        "    <tr>\n",
        "      <th>3</th>\n",
        "      <td> _1_online_reporting</td>\n",
        "      <td>            aj7</td>\n",
        "      <td>                       first test project on rails</td>\n",
        "      <td> False</td>\n",
        "      <td>      http://github.com/aj7/_1_online_reporting</td>\n",
        "      <td> False</td>\n",
        "      <td> 0</td>\n",
        "      <td>                                  NaN</td>\n",
        "      <td> 1</td>\n",
        "      <td> 0</td>\n",
        "      <td> 223</td>\n",
        "      <td> 2010-06-06 01:04:00</td>\n",
        "    </tr>\n",
        "    <tr>\n",
        "      <th>4</th>\n",
        "      <td>                _csm</td>\n",
        "      <td>        kipster</td>\n",
        "      <td>                                coudresurmesure.fr</td>\n",
        "      <td> False</td>\n",
        "      <td>                 http://github.com/kipster/_csm</td>\n",
        "      <td> False</td>\n",
        "      <td> 0</td>\n",
        "      <td>               www.coudresurmesure.fr</td>\n",
        "      <td> 1</td>\n",
        "      <td> 0</td>\n",
        "      <td> 223</td>\n",
        "      <td> 2010-06-06 01:04:00</td>\n",
        "    </tr>\n",
        "  </tbody>\n",
        "</table>\n",
        "</div>"
       ],
       "output_type": "pyout",
       "prompt_number": 15,
       "text": [
        "          project_name  developer_name  \\\n",
        "0                    _            mame   \n",
        "1        __GitTestVS__  CrashTestDummy   \n",
        "2              __shelf          samoht   \n",
        "3  _1_online_reporting             aj7   \n",
        "4                 _csm         kipster   \n",
        "\n",
        "                                         description private  \\\n",
        "0  _ allows you to write Ruby script by using onl...   False   \n",
        "1                                   Git test with VS   False   \n",
        "2                    Serialization library for OCaml   False   \n",
        "3                        first test project on rails   False   \n",
        "4                                 coudresurmesure.fr   False   \n",
        "\n",
        "                                              url forked  fork_number  \\\n",
        "0                        http://github.com/mame/_  False            0   \n",
        "1  http://github.com/CrashTestDummy/__GitTestVS__  False            0   \n",
        "2                http://github.com/samoht/__shelf  False            0   \n",
        "3       http://github.com/aj7/_1_online_reporting  False            0   \n",
        "4                  http://github.com/kipster/_csm  False            0   \n",
        "\n",
        "                               homepage  watchers  open_issues  datasource_id  \\\n",
        "0  http://github.com/mame/_/tree/master         6            0            223   \n",
        "1                                   NaN         1            0            223   \n",
        "2                                   NaN         1            0            223   \n",
        "3                                   NaN         1            0            223   \n",
        "4                www.coudresurmesure.fr         1            0            223   \n",
        "\n",
        "         last_modified  \n",
        "0  2010-06-06 01:03:59  \n",
        "1  2010-06-06 01:04:08  \n",
        "2  2010-06-06 01:04:09  \n",
        "3  2010-06-06 01:04:00  \n",
        "4  2010-06-06 01:04:00  "
       ]
      }
     ],
     "prompt_number": 15
    },
    {
     "cell_type": "markdown",
     "metadata": {},
     "source": [
      "The fields here are not exactly the same as at githubarchive, but having the project names, and url is probably enough to help us see what was there in May 2012."
     ]
    },
    {
     "cell_type": "markdown",
     "metadata": {},
     "source": [
      "## some data on other repositories: e.g SourceForge"
     ]
    },
    {
     "cell_type": "code",
     "collapsed": false,
     "input": [
      "url_sf = 'http://flossmole.googlecode.com/files/sfRawUserIntData2008-Feb.txt.bz2'\n",
      "url_sf_topics = 'http://flossmole.googlecode.com/files/sfRawTopicData2008-Feb.txt.bz2'"
     ],
     "language": "python",
     "metadata": {},
     "outputs": [],
     "prompt_number": 16
    },
    {
     "cell_type": "code",
     "collapsed": false,
     "input": [
      "sf_df = get_flossmole(url_sf, 30)\n",
      "sf_df.head()"
     ],
     "language": "python",
     "metadata": {},
     "outputs": [
      {
       "html": [
        "<div style=\"max-height:1000px;max-width:1500px;overflow:auto;\">\n",
        "<table border=\"1\" class=\"dataframe\">\n",
        "  <thead>\n",
        "    <tr style=\"text-align: right;\">\n",
        "      <th></th>\n",
        "      <th>proj_unixname</th>\n",
        "      <th>code</th>\n",
        "      <th>description</th>\n",
        "      <th>date_collected</th>\n",
        "      <th>datasource_id</th>\n",
        "    </tr>\n",
        "  </thead>\n",
        "  <tbody>\n",
        "    <tr>\n",
        "      <th>0</th>\n",
        "      <td>    a-a-p</td>\n",
        "      <td> 230</td>\n",
        "      <td>    Win32 (MS Windows)</td>\n",
        "      <td> 2008-02-05 06:39:34</td>\n",
        "      <td> 110</td>\n",
        "    </tr>\n",
        "    <tr>\n",
        "      <th>1</th>\n",
        "      <td>    a-a-p</td>\n",
        "      <td> 229</td>\n",
        "      <td> X Window System (X11)</td>\n",
        "      <td> 2008-02-05 06:39:34</td>\n",
        "      <td> 110</td>\n",
        "    </tr>\n",
        "    <tr>\n",
        "      <th>2</th>\n",
        "      <td>    a-aio</td>\n",
        "      <td> 237</td>\n",
        "      <td>             Web-based</td>\n",
        "      <td> 2008-02-05 06:39:34</td>\n",
        "      <td> 110</td>\n",
        "    </tr>\n",
        "    <tr>\n",
        "      <th>3</th>\n",
        "      <td>      a-f</td>\n",
        "      <td> 237</td>\n",
        "      <td>             Web-based</td>\n",
        "      <td> 2008-02-05 06:39:34</td>\n",
        "      <td> 110</td>\n",
        "    </tr>\n",
        "    <tr>\n",
        "      <th>4</th>\n",
        "      <td> a-helper</td>\n",
        "      <td> 237</td>\n",
        "      <td>             Web-based</td>\n",
        "      <td> 2008-02-05 06:39:34</td>\n",
        "      <td> 110</td>\n",
        "    </tr>\n",
        "  </tbody>\n",
        "</table>\n",
        "</div>"
       ],
       "output_type": "pyout",
       "prompt_number": 17,
       "text": [
        "  proj_unixname  code            description       date_collected  datasource_id\n",
        "0         a-a-p   230     Win32 (MS Windows)  2008-02-05 06:39:34            110\n",
        "1         a-a-p   229  X Window System (X11)  2008-02-05 06:39:34            110\n",
        "2         a-aio   237              Web-based  2008-02-05 06:39:34            110\n",
        "3           a-f   237              Web-based  2008-02-05 06:39:34            110\n",
        "4      a-helper   237              Web-based  2008-02-05 06:39:34            110"
       ]
      }
     ],
     "prompt_number": 17
    },
    {
     "cell_type": "code",
     "collapsed": false,
     "input": [
      "sf_topics_df = get_flossmole(url_sf_topics, header=30)\n",
      "sf_topics_df.head()\n",
      "sf_df.ix[sf_df['proj_unixname'] == 'filezilla']"
     ],
     "language": "python",
     "metadata": {},
     "outputs": [
      {
       "html": [
        "<div style=\"max-height:1000px;max-width:1500px;overflow:auto;\">\n",
        "<table border=\"1\" class=\"dataframe\">\n",
        "  <thead>\n",
        "    <tr style=\"text-align: right;\">\n",
        "      <th></th>\n",
        "      <th>proj_unixname</th>\n",
        "      <th>code</th>\n",
        "      <th>description</th>\n",
        "      <th>date_collected</th>\n",
        "      <th>datasource_id</th>\n",
        "    </tr>\n",
        "  </thead>\n",
        "  <tbody>\n",
        "    <tr>\n",
        "      <th>27494</th>\n",
        "      <td> filezilla</td>\n",
        "      <td> 230</td>\n",
        "      <td> Win32 (MS Windows)</td>\n",
        "      <td> 2008-02-05 07:05:39</td>\n",
        "      <td> 110</td>\n",
        "    </tr>\n",
        "  </tbody>\n",
        "</table>\n",
        "</div>"
       ],
       "output_type": "pyout",
       "prompt_number": 18,
       "text": [
        "      proj_unixname  code         description       date_collected  datasource_id\n",
        "27494     filezilla   230  Win32 (MS Windows)  2008-02-05 07:05:39            110"
       ]
      }
     ],
     "prompt_number": 18
    },
    {
     "cell_type": "markdown",
     "metadata": {},
     "source": [
      "Could we combine these project names with the SourceForge api to get more data?"
     ]
    },
    {
     "cell_type": "code",
     "collapsed": false,
     "input": [
      "sf_api_url='http://sourceforge.net/api/project/name/tangoiconsprite/json'\n",
      "req = requests.get(sf_api_url)\n",
      "sf_example =json.load(io.StringIO(req.content))"
     ],
     "language": "python",
     "metadata": {},
     "outputs": [],
     "prompt_number": 19
    },
    {
     "cell_type": "code",
     "collapsed": false,
     "input": [
      "sf_example_df = pd.DataFrame.from_dict(sf_example, orient='index')\n",
      "sf_example_df"
     ],
     "language": "python",
     "metadata": {},
     "outputs": [
      {
       "output_type": "pyout",
       "prompt_number": 20,
       "text": [
        "<class 'pandas.core.frame.DataFrame'>\n",
        "Index: 1 entries, Project to Project\n",
        "Data columns:\n",
        "topics               1  non-null values\n",
        "private              1  non-null values\n",
        "licenses             1  non-null values\n",
        "audiences            1  non-null values\n",
        "created_timestamp    1  non-null values\n",
        "id                   1  non-null values\n",
        "mailing-list         1  non-null values\n",
        "base_url             1  non-null values\n",
        "download-page        1  non-null values\n",
        "developers           1  non-null values\n",
        "homepage             1  non-null values\n",
        "status               1  non-null values\n",
        "ranking              1  non-null values\n",
        "description          1  non-null values\n",
        "maintainers          1  non-null values\n",
        "percentile           1  non-null values\n",
        "categories           1  non-null values\n",
        "summary-page         1  non-null values\n",
        "name                 1  non-null values\n",
        "created              1  non-null values\n",
        "type                 1  non-null values\n",
        "trackers             1  non-null values\n",
        "donation             1  non-null values\n",
        "shortdesc            1  non-null values\n",
        "support-page         1  non-null values\n",
        "SVNRepository        1  non-null values\n",
        "dtypes: float64(1), int64(5), object(20)"
       ]
      }
     ],
     "prompt_number": 20
    },
    {
     "cell_type": "code",
     "collapsed": true,
     "input": [
      "## using flossmole list of projects ...\n",
      "sf_repos_df = pd.DataFrame()\n",
      "sf_api_url_prefix = 'http://sourceforge.net/api/project/name/'\n",
      "sf_api_url_suffix = '/json'\n",
      "for name in sf_df['proj_unixname'][100:150]:\n",
      "    repo_url= sf_api_url_prefix + name + sf_api_url_suffix\n",
      "    print 'getting %s from %s' % (name, repo_url)\n",
      "    repo_req = requests.get(repo_url)\n",
      "    repo_json = json.load(io.StringIO(repo_req.content))\n",
      "    sf_repos_df = sf_repos_df.append(pd.DataFrame.from_dict(repo_json,orient='index'))"
     ],
     "language": "python",
     "metadata": {},
     "outputs": [
      {
       "output_type": "stream",
       "stream": "stdout",
       "text": [
        "getting aapr from http://sourceforge.net/api/project/name/aapr/json\n",
        "getting aarchitect from http://sourceforge.net/api/project/name/aarchitect/json"
       ]
      },
      {
       "output_type": "stream",
       "stream": "stdout",
       "text": [
        "\n",
        "getting aardvark from http://sourceforge.net/api/project/name/aardvark/json"
       ]
      },
      {
       "output_type": "stream",
       "stream": "stdout",
       "text": [
        "\n",
        "getting aardvarkfm from http://sourceforge.net/api/project/name/aardvarkfm/json"
       ]
      },
      {
       "output_type": "stream",
       "stream": "stdout",
       "text": [
        "\n",
        "getting aardvarktool from http://sourceforge.net/api/project/name/aardvarktool/json"
       ]
      },
      {
       "output_type": "stream",
       "stream": "stdout",
       "text": [
        "\n",
        "getting aarmed from http://sourceforge.net/api/project/name/aarmed/json"
       ]
      },
      {
       "output_type": "stream",
       "stream": "stdout",
       "text": [
        "\n",
        "getting aarmed from http://sourceforge.net/api/project/name/aarmed/json"
       ]
      },
      {
       "output_type": "stream",
       "stream": "stdout",
       "text": [
        "\n",
        "getting aaron from http://sourceforge.net/api/project/name/aaron/json"
       ]
      },
      {
       "output_type": "stream",
       "stream": "stdout",
       "text": [
        "\n",
        "getting aarton from http://sourceforge.net/api/project/name/aarton/json"
       ]
      },
      {
       "output_type": "stream",
       "stream": "stdout",
       "text": [
        "\n",
        "getting aartsprojetia from http://sourceforge.net/api/project/name/aartsprojetia/json"
       ]
      },
      {
       "output_type": "stream",
       "stream": "stdout",
       "text": [
        "\n",
        "getting aartsprojetia from http://sourceforge.net/api/project/name/aartsprojetia/json"
       ]
      },
      {
       "output_type": "stream",
       "stream": "stdout",
       "text": [
        "\n",
        "getting aartsprojetia from http://sourceforge.net/api/project/name/aartsprojetia/json"
       ]
      },
      {
       "output_type": "stream",
       "stream": "stdout",
       "text": [
        "\n",
        "getting aas from http://sourceforge.net/api/project/name/aas/json"
       ]
      },
      {
       "output_type": "stream",
       "stream": "stdout",
       "text": [
        "\n",
        "getting aas from http://sourceforge.net/api/project/name/aas/json"
       ]
      },
      {
       "output_type": "stream",
       "stream": "stdout",
       "text": [
        "\n",
        "getting aasc from http://sourceforge.net/api/project/name/aasc/json"
       ]
      },
      {
       "output_type": "stream",
       "stream": "stdout",
       "text": [
        "\n",
        "getting aat from http://sourceforge.net/api/project/name/aat/json"
       ]
      },
      {
       "output_type": "stream",
       "stream": "stdout",
       "text": [
        "\n",
        "getting aatcalendario from http://sourceforge.net/api/project/name/aatcalendario/json"
       ]
      },
      {
       "output_type": "stream",
       "stream": "stdout",
       "text": [
        "\n",
        "getting aatools from http://sourceforge.net/api/project/name/aatools/json"
       ]
      },
      {
       "output_type": "stream",
       "stream": "stdout",
       "text": [
        "\n",
        "getting aatopendcd from http://sourceforge.net/api/project/name/aatopendcd/json"
       ]
      },
      {
       "output_type": "stream",
       "stream": "stdout",
       "text": [
        "\n",
        "getting aatopendcd from http://sourceforge.net/api/project/name/aatopendcd/json"
       ]
      },
      {
       "output_type": "stream",
       "stream": "stdout",
       "text": [
        "\n",
        "getting aatrade from http://sourceforge.net/api/project/name/aatrade/json"
       ]
      },
      {
       "output_type": "stream",
       "stream": "stdout",
       "text": [
        "\n",
        "getting aatv from http://sourceforge.net/api/project/name/aatv/json"
       ]
      },
      {
       "output_type": "stream",
       "stream": "stdout",
       "text": [
        "\n",
        "getting aatv from http://sourceforge.net/api/project/name/aatv/json"
       ]
      },
      {
       "output_type": "stream",
       "stream": "stdout",
       "text": [
        "\n",
        "getting aavalanche from http://sourceforge.net/api/project/name/aavalanche/json"
       ]
      },
      {
       "output_type": "stream",
       "stream": "stdout",
       "text": [
        "\n",
        "getting aaviewer from http://sourceforge.net/api/project/name/aaviewer/json"
       ]
      },
      {
       "output_type": "stream",
       "stream": "stdout",
       "text": [
        "\n",
        "getting aavso-vsr from http://sourceforge.net/api/project/name/aavso-vsr/json"
       ]
      },
      {
       "output_type": "stream",
       "stream": "stdout",
       "text": [
        "\n",
        "getting aawa from http://sourceforge.net/api/project/name/aawa/json"
       ]
      },
      {
       "output_type": "stream",
       "stream": "stdout",
       "text": [
        "\n",
        "getting aawebgui from http://sourceforge.net/api/project/name/aawebgui/json"
       ]
      },
      {
       "output_type": "stream",
       "stream": "stdout",
       "text": [
        "\n",
        "getting aaxed from http://sourceforge.net/api/project/name/aaxed/json"
       ]
      },
      {
       "output_type": "stream",
       "stream": "stdout",
       "text": [
        "\n",
        "getting ab-conv from http://sourceforge.net/api/project/name/ab-conv/json"
       ]
      },
      {
       "output_type": "stream",
       "stream": "stdout",
       "text": [
        "\n",
        "getting ab-toolbox from http://sourceforge.net/api/project/name/ab-toolbox/json"
       ]
      },
      {
       "output_type": "stream",
       "stream": "stdout",
       "text": [
        "\n",
        "getting ab2foaf from http://sourceforge.net/api/project/name/ab2foaf/json"
       ]
      },
      {
       "output_type": "stream",
       "stream": "stdout",
       "text": [
        "\n",
        "getting ab2phpnuke from http://sourceforge.net/api/project/name/ab2phpnuke/json"
       ]
      },
      {
       "output_type": "stream",
       "stream": "stdout",
       "text": [
        "\n",
        "getting aba from http://sourceforge.net/api/project/name/aba/json"
       ]
      },
      {
       "output_type": "stream",
       "stream": "stdout",
       "text": [
        "\n",
        "getting aba-curling from http://sourceforge.net/api/project/name/aba-curling/json"
       ]
      },
      {
       "output_type": "stream",
       "stream": "stdout",
       "text": [
        "\n",
        "getting abackgammon from http://sourceforge.net/api/project/name/abackgammon/json"
       ]
      },
      {
       "output_type": "stream",
       "stream": "stdout",
       "text": [
        "\n",
        "getting abackgammon from http://sourceforge.net/api/project/name/abackgammon/json"
       ]
      },
      {
       "output_type": "stream",
       "stream": "stdout",
       "text": [
        "\n",
        "getting abackgammon from http://sourceforge.net/api/project/name/abackgammon/json"
       ]
      },
      {
       "output_type": "stream",
       "stream": "stdout",
       "text": [
        "\n",
        "getting abaco from http://sourceforge.net/api/project/name/abaco/json"
       ]
      },
      {
       "output_type": "stream",
       "stream": "stdout",
       "text": [
        "\n",
        "getting abacom from http://sourceforge.net/api/project/name/abacom/json"
       ]
      },
      {
       "output_type": "stream",
       "stream": "stdout",
       "text": [
        "\n",
        "getting abacuscm from http://sourceforge.net/api/project/name/abacuscm/json"
       ]
      },
      {
       "output_type": "stream",
       "stream": "stdout",
       "text": [
        "\n",
        "getting abacuses from http://sourceforge.net/api/project/name/abacuses/json"
       ]
      },
      {
       "output_type": "stream",
       "stream": "stdout",
       "text": [
        "\n",
        "getting abacusvm from http://sourceforge.net/api/project/name/abacusvm/json"
       ]
      },
      {
       "output_type": "stream",
       "stream": "stdout",
       "text": [
        "\n",
        "getting abacusvm from http://sourceforge.net/api/project/name/abacusvm/json"
       ]
      },
      {
       "output_type": "stream",
       "stream": "stdout",
       "text": [
        "\n",
        "getting abakus from http://sourceforge.net/api/project/name/abakus/json"
       ]
      },
      {
       "output_type": "stream",
       "stream": "stdout",
       "text": [
        "\n",
        "getting abamath from http://sourceforge.net/api/project/name/abamath/json"
       ]
      },
      {
       "output_type": "stream",
       "stream": "stdout",
       "text": [
        "\n",
        "getting abaque from http://sourceforge.net/api/project/name/abaque/json"
       ]
      },
      {
       "output_type": "stream",
       "stream": "stdout",
       "text": [
        "\n",
        "getting abaque from http://sourceforge.net/api/project/name/abaque/json"
       ]
      },
      {
       "output_type": "stream",
       "stream": "stdout",
       "text": [
        "\n",
        "getting abatornet from http://sourceforge.net/api/project/name/abatornet/json"
       ]
      },
      {
       "output_type": "stream",
       "stream": "stdout",
       "text": [
        "\n",
        "getting abax from http://sourceforge.net/api/project/name/abax/json"
       ]
      },
      {
       "output_type": "stream",
       "stream": "stdout",
       "text": [
        "\n"
       ]
      }
     ],
     "prompt_number": 21
    },
    {
     "cell_type": "code",
     "collapsed": false,
     "input": [
      "sf_repos_df.columns"
     ],
     "language": "python",
     "metadata": {},
     "outputs": [
      {
       "output_type": "pyout",
       "prompt_number": 22,
       "text": [
        "Index([0, CVSRepository, SVNRepository, audiences, base_url, categories, created, created_timestamp, databases, description, developers, donation, download-page, environments, homepage, id, licenses, mailing-list, maintainers, name, os, percentile, private, programming-languages, ranking, shortdesc, status, summary-page, support-page, topics, trackers, translations, type], dtype=object)"
       ]
      }
     ],
     "prompt_number": 22
    },
    {
     "cell_type": "code",
     "collapsed": true,
     "input": [
      "sf_repos_df.created"
     ],
     "language": "python",
     "metadata": {},
     "outputs": [
      {
       "output_type": "pyout",
       "prompt_number": 24,
       "text": [
        "Project    Jul 10, 2007\n",
        "Error               NaN\n",
        "Project    Jun  1, 2005\n",
        "Project    Mar 24, 2002\n",
        "Project    Apr 15, 2003\n",
        "Project    Sep  6, 2001\n",
        "Project    Sep  6, 2001\n",
        "Project    Jun 24, 2001\n",
        "Project    Oct 11, 2007\n",
        "Project    Feb  5, 2002\n",
        "Project    Feb  5, 2002\n",
        "Project    Feb  5, 2002\n",
        "Project    Oct  5, 2005\n",
        "Project    Oct  5, 2005\n",
        "Project    Jun  1, 2007\n",
        "Project    Jul  5, 2007\n",
        "Project    Sep 18, 2006\n",
        "Project    Apr  9, 2007\n",
        "Project    Jul 31, 2003\n",
        "Project    Jul 31, 2003\n",
        "Project    Mar 28, 2003\n",
        "Project    Jan  9, 2002\n",
        "Project    Jan  9, 2002\n",
        "Project    Jan  4, 2007\n",
        "Project    Mar  1, 2007\n",
        "Project    Jun  1, 2005\n",
        "Project    Nov  4, 2004\n",
        "Project    Mar 27, 2006\n",
        "Project    Jan 24, 2007\n",
        "Project    Feb 24, 2005\n",
        "Project    Nov  6, 2007\n",
        "Project    Nov 30, 2005\n",
        "Project    Jan 29, 2003\n",
        "Project    Oct  2, 2004\n",
        "Project    Mar 25, 2005\n",
        "Project    Mar 10, 2005\n",
        "Project    Mar 10, 2005\n",
        "Project    Mar 10, 2005\n",
        "Project    Dec 10, 2007\n",
        "Project    Aug  1, 2002\n",
        "Project    Nov  7, 2005\n",
        "Project    Dec 20, 2005\n",
        "Project    Jan  4, 2007\n",
        "Project    Jan  4, 2007\n",
        "Project    Feb 11, 2005\n",
        "Project    Jun 16, 2003\n",
        "Project    May 10, 2001\n",
        "Project    May 10, 2001\n",
        "Project    Jul 11, 2006\n",
        "Project    Jul 10, 2007\n",
        "Name: created"
       ]
      }
     ],
     "prompt_number": 24
    },
    {
     "cell_type": "code",
     "collapsed": false,
     "input": [],
     "language": "python",
     "metadata": {},
     "outputs": [],
     "prompt_number": 24
    }
   ],
   "metadata": {}
  }
 ]
}