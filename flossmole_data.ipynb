{
 "metadata": {
  "name": "flossmole_data"
 },
 "nbformat": 3,
 "nbformat_minor": 0,
 "worksheets": [
  {
   "cells": [
    {
     "cell_type": "markdown",
     "metadata": {},
     "source": [
      "# Repository datasets archived at [flossmole](http://code.google.com/p/flossmole/downloads/list) and also SourceForge\n",
      "\n",
      "Flossmole could be a way to help fill out data before February 2011 for github (the github data seems to only go back to 2010. And flossmole has data on many other sites, such as sourceforge, google code, and launchpad. Both the data and the scripts they used could be helpful for us. The url for the download page is http://code.google.com/p/flossmole/downloads/list"
     ]
    },
    {
     "cell_type": "code",
     "collapsed": false,
     "input": [
      "import pandas as pd\n",
      "import bz2\n",
      "import requests\n",
      "import StringIO as io\n",
      "import json\n",
      "import time\n",
      "import datetime\n",
      "\n",
      "def get_flossmole(url, header=34):\n",
      "\n",
      "    \"\"\" Returns a dataframe for the data at the given flossmole url\n",
      "    Arguments:\n",
      "    --------------------------\n",
      "    url: flossmole url\n",
      "    header: the line number of the header line\n",
      "    \"\"\"\n",
      "\n",
      "    bz_file = requests.get(url)\n",
      "    flossmole_data =io.StringIO(bz2.decompress(bz_file.content))\n",
      "    floss_mole_df = pd.read_table(flossmole_data, sep='\\t',  lineterminator='\\n',  header = header)\n",
      "    return floss_mole_df\n",
      "\n",
      "def get_sourceforge_repo(name):\n",
      "    \n",
      "    \"\"\" Returns a json dict for the sourceforge projects \n",
      "    Arguments:\n",
      "    --------------------------\n",
      "    name: the name of the sourceforge project\n",
      "    \"\"\"\n",
      "\n",
      "    sf_api_url_prefix = 'http://sourceforge.net/api/project/name/'\n",
      "    sf_api_url_suffix = '/json'\n",
      "    repo_url= sf_api_url_prefix + name + sf_api_url_suffix\n",
      "    print 'getting %s from %s' % (name, repo_url)\n",
      "    repo_req = requests.get(repo_url)\n",
      "    repo_json = json.load(io.StringIO(repo_req.content))\n",
      "    return repo_json"
     ],
     "language": "python",
     "metadata": {},
     "outputs": [],
     "prompt_number": 58
    },
    {
     "cell_type": "code",
     "collapsed": false,
     "input": [
      "\n",
      "url = 'http://flossmole.googlecode.com/files/ghProjectInfo2010-May.txt.bz2'\n",
      "\n",
      "\n",
      "gh_2010_df = get_flossmole(url, header=34)"
     ],
     "language": "python",
     "metadata": {},
     "outputs": [],
     "prompt_number": 14
    },
    {
     "cell_type": "code",
     "collapsed": false,
     "input": [
      "gh_2010_df.head()"
     ],
     "language": "python",
     "metadata": {},
     "outputs": [
      {
       "html": [
        "<div style=\"max-height:1000px;max-width:1500px;overflow:auto;\">\n",
        "<table border=\"1\" class=\"dataframe\">\n",
        "  <thead>\n",
        "    <tr style=\"text-align: right;\">\n",
        "      <th></th>\n",
        "      <th>project_name</th>\n",
        "      <th>developer_name</th>\n",
        "      <th>description</th>\n",
        "      <th>private</th>\n",
        "      <th>url</th>\n",
        "      <th>forked</th>\n",
        "      <th>fork_number</th>\n",
        "      <th>homepage</th>\n",
        "      <th>watchers</th>\n",
        "      <th>open_issues</th>\n",
        "      <th>datasource_id</th>\n",
        "      <th>last_modified</th>\n",
        "    </tr>\n",
        "  </thead>\n",
        "  <tbody>\n",
        "    <tr>\n",
        "      <th>0</th>\n",
        "      <td>                   _</td>\n",
        "      <td>           mame</td>\n",
        "      <td> _ allows you to write Ruby script by using onl...</td>\n",
        "      <td> False</td>\n",
        "      <td>                       http://github.com/mame/_</td>\n",
        "      <td> False</td>\n",
        "      <td> 0</td>\n",
        "      <td> http://github.com/mame/_/tree/master</td>\n",
        "      <td> 6</td>\n",
        "      <td> 0</td>\n",
        "      <td> 223</td>\n",
        "      <td> 2010-06-06 01:03:59</td>\n",
        "    </tr>\n",
        "    <tr>\n",
        "      <th>1</th>\n",
        "      <td>       __GitTestVS__</td>\n",
        "      <td> CrashTestDummy</td>\n",
        "      <td>                                  Git test with VS</td>\n",
        "      <td> False</td>\n",
        "      <td> http://github.com/CrashTestDummy/__GitTestVS__</td>\n",
        "      <td> False</td>\n",
        "      <td> 0</td>\n",
        "      <td>                                  NaN</td>\n",
        "      <td> 1</td>\n",
        "      <td> 0</td>\n",
        "      <td> 223</td>\n",
        "      <td> 2010-06-06 01:04:08</td>\n",
        "    </tr>\n",
        "    <tr>\n",
        "      <th>2</th>\n",
        "      <td>             __shelf</td>\n",
        "      <td>         samoht</td>\n",
        "      <td>                   Serialization library for OCaml</td>\n",
        "      <td> False</td>\n",
        "      <td>               http://github.com/samoht/__shelf</td>\n",
        "      <td> False</td>\n",
        "      <td> 0</td>\n",
        "      <td>                                  NaN</td>\n",
        "      <td> 1</td>\n",
        "      <td> 0</td>\n",
        "      <td> 223</td>\n",
        "      <td> 2010-06-06 01:04:09</td>\n",
        "    </tr>\n",
        "    <tr>\n",
        "      <th>3</th>\n",
        "      <td> _1_online_reporting</td>\n",
        "      <td>            aj7</td>\n",
        "      <td>                       first test project on rails</td>\n",
        "      <td> False</td>\n",
        "      <td>      http://github.com/aj7/_1_online_reporting</td>\n",
        "      <td> False</td>\n",
        "      <td> 0</td>\n",
        "      <td>                                  NaN</td>\n",
        "      <td> 1</td>\n",
        "      <td> 0</td>\n",
        "      <td> 223</td>\n",
        "      <td> 2010-06-06 01:04:00</td>\n",
        "    </tr>\n",
        "    <tr>\n",
        "      <th>4</th>\n",
        "      <td>                _csm</td>\n",
        "      <td>        kipster</td>\n",
        "      <td>                                coudresurmesure.fr</td>\n",
        "      <td> False</td>\n",
        "      <td>                 http://github.com/kipster/_csm</td>\n",
        "      <td> False</td>\n",
        "      <td> 0</td>\n",
        "      <td>               www.coudresurmesure.fr</td>\n",
        "      <td> 1</td>\n",
        "      <td> 0</td>\n",
        "      <td> 223</td>\n",
        "      <td> 2010-06-06 01:04:00</td>\n",
        "    </tr>\n",
        "  </tbody>\n",
        "</table>\n",
        "</div>"
       ],
       "output_type": "pyout",
       "prompt_number": 15,
       "text": [
        "          project_name  developer_name  \\\n",
        "0                    _            mame   \n",
        "1        __GitTestVS__  CrashTestDummy   \n",
        "2              __shelf          samoht   \n",
        "3  _1_online_reporting             aj7   \n",
        "4                 _csm         kipster   \n",
        "\n",
        "                                         description private  \\\n",
        "0  _ allows you to write Ruby script by using onl...   False   \n",
        "1                                   Git test with VS   False   \n",
        "2                    Serialization library for OCaml   False   \n",
        "3                        first test project on rails   False   \n",
        "4                                 coudresurmesure.fr   False   \n",
        "\n",
        "                                              url forked  fork_number  \\\n",
        "0                        http://github.com/mame/_  False            0   \n",
        "1  http://github.com/CrashTestDummy/__GitTestVS__  False            0   \n",
        "2                http://github.com/samoht/__shelf  False            0   \n",
        "3       http://github.com/aj7/_1_online_reporting  False            0   \n",
        "4                  http://github.com/kipster/_csm  False            0   \n",
        "\n",
        "                               homepage  watchers  open_issues  datasource_id  \\\n",
        "0  http://github.com/mame/_/tree/master         6            0            223   \n",
        "1                                   NaN         1            0            223   \n",
        "2                                   NaN         1            0            223   \n",
        "3                                   NaN         1            0            223   \n",
        "4                www.coudresurmesure.fr         1            0            223   \n",
        "\n",
        "         last_modified  \n",
        "0  2010-06-06 01:03:59  \n",
        "1  2010-06-06 01:04:08  \n",
        "2  2010-06-06 01:04:09  \n",
        "3  2010-06-06 01:04:00  \n",
        "4  2010-06-06 01:04:00  "
       ]
      }
     ],
     "prompt_number": 15
    },
    {
     "cell_type": "markdown",
     "metadata": {},
     "source": [
      "The fields here are not exactly the same as at githubarchive, but having the project names, and url is probably enough to help us see what was there in May 2012."
     ]
    },
    {
     "cell_type": "markdown",
     "metadata": {},
     "source": [
      "## some data on other repositories: e.g SourceForge"
     ]
    },
    {
     "cell_type": "code",
     "collapsed": false,
     "input": [
      "url_sf = 'http://flossmole.googlecode.com/files/sfRawUserIntData2008-Feb.txt.bz2'\n",
      "url_sf_topics = 'http://flossmole.googlecode.com/files/sfRawTopicData2008-Feb.txt.bz2'"
     ],
     "language": "python",
     "metadata": {},
     "outputs": [],
     "prompt_number": 55
    },
    {
     "cell_type": "code",
     "collapsed": false,
     "input": [
      "sf_df = get_flossmole(url_sf, 30)\n",
      "sf_df.head()"
     ],
     "language": "python",
     "metadata": {},
     "outputs": [
      {
       "html": [
        "<div style=\"max-height:1000px;max-width:1500px;overflow:auto;\">\n",
        "<table border=\"1\" class=\"dataframe\">\n",
        "  <thead>\n",
        "    <tr style=\"text-align: right;\">\n",
        "      <th></th>\n",
        "      <th>proj_unixname</th>\n",
        "      <th>code</th>\n",
        "      <th>description</th>\n",
        "      <th>date_collected</th>\n",
        "      <th>datasource_id</th>\n",
        "    </tr>\n",
        "  </thead>\n",
        "  <tbody>\n",
        "    <tr>\n",
        "      <th>0</th>\n",
        "      <td>    a-a-p</td>\n",
        "      <td> 230</td>\n",
        "      <td>    Win32 (MS Windows)</td>\n",
        "      <td> 2008-02-05 06:39:34</td>\n",
        "      <td> 110</td>\n",
        "    </tr>\n",
        "    <tr>\n",
        "      <th>1</th>\n",
        "      <td>    a-a-p</td>\n",
        "      <td> 229</td>\n",
        "      <td> X Window System (X11)</td>\n",
        "      <td> 2008-02-05 06:39:34</td>\n",
        "      <td> 110</td>\n",
        "    </tr>\n",
        "    <tr>\n",
        "      <th>2</th>\n",
        "      <td>    a-aio</td>\n",
        "      <td> 237</td>\n",
        "      <td>             Web-based</td>\n",
        "      <td> 2008-02-05 06:39:34</td>\n",
        "      <td> 110</td>\n",
        "    </tr>\n",
        "    <tr>\n",
        "      <th>3</th>\n",
        "      <td>      a-f</td>\n",
        "      <td> 237</td>\n",
        "      <td>             Web-based</td>\n",
        "      <td> 2008-02-05 06:39:34</td>\n",
        "      <td> 110</td>\n",
        "    </tr>\n",
        "    <tr>\n",
        "      <th>4</th>\n",
        "      <td> a-helper</td>\n",
        "      <td> 237</td>\n",
        "      <td>             Web-based</td>\n",
        "      <td> 2008-02-05 06:39:34</td>\n",
        "      <td> 110</td>\n",
        "    </tr>\n",
        "  </tbody>\n",
        "</table>\n",
        "</div>"
       ],
       "output_type": "pyout",
       "prompt_number": 56,
       "text": [
        "  proj_unixname  code            description       date_collected  datasource_id\n",
        "0         a-a-p   230     Win32 (MS Windows)  2008-02-05 06:39:34            110\n",
        "1         a-a-p   229  X Window System (X11)  2008-02-05 06:39:34            110\n",
        "2         a-aio   237              Web-based  2008-02-05 06:39:34            110\n",
        "3           a-f   237              Web-based  2008-02-05 06:39:34            110\n",
        "4      a-helper   237              Web-based  2008-02-05 06:39:34            110"
       ]
      }
     ],
     "prompt_number": 56
    },
    {
     "cell_type": "code",
     "collapsed": false,
     "input": [
      "sf_topics_df = get_flossmole(url_sf_topics, header=30)\n",
      "sf_topics_df.head()\n",
      "sf_df.ix[sf_df['proj_unixname'] == 'filezilla']"
     ],
     "language": "python",
     "metadata": {},
     "outputs": [
      {
       "html": [
        "<div style=\"max-height:1000px;max-width:1500px;overflow:auto;\">\n",
        "<table border=\"1\" class=\"dataframe\">\n",
        "  <thead>\n",
        "    <tr style=\"text-align: right;\">\n",
        "      <th></th>\n",
        "      <th>proj_unixname</th>\n",
        "      <th>code</th>\n",
        "      <th>description</th>\n",
        "      <th>date_collected</th>\n",
        "      <th>datasource_id</th>\n",
        "    </tr>\n",
        "  </thead>\n",
        "  <tbody>\n",
        "    <tr>\n",
        "      <th>27494</th>\n",
        "      <td> filezilla</td>\n",
        "      <td> 230</td>\n",
        "      <td> Win32 (MS Windows)</td>\n",
        "      <td> 2008-02-05 07:05:39</td>\n",
        "      <td> 110</td>\n",
        "    </tr>\n",
        "  </tbody>\n",
        "</table>\n",
        "</div>"
       ],
       "output_type": "pyout",
       "prompt_number": 18,
       "text": [
        "      proj_unixname  code         description       date_collected  datasource_id\n",
        "27494     filezilla   230  Win32 (MS Windows)  2008-02-05 07:05:39            110"
       ]
      }
     ],
     "prompt_number": 18
    },
    {
     "cell_type": "markdown",
     "metadata": {},
     "source": [
      "# Could we combine these project names with the SourceForge api to get more data? \n",
      "\n",
      "The sourceforge api is fairly basic but easy to use: http://sourceforge.net/apps/trac/sourceforge/wiki/API. Many queries return json. \n",
      "It can be date delimited, but then you get RSS, which needs further processing\n",
      "e.g. http://sourceforge.net/api/project/index/new_since/1272409091"
     ]
    },
    {
     "cell_type": "code",
     "collapsed": false,
     "input": [
      "sf_api_url='http://sourceforge.net/api/project/name/tangoiconsprite/json'\n",
      "req = requests.get(sf_api_url)\n",
      "sf_example =json.load(io.StringIO(req.content))"
     ],
     "language": "python",
     "metadata": {},
     "outputs": [],
     "prompt_number": 52
    },
    {
     "cell_type": "code",
     "collapsed": false,
     "input": [
      "sf_example_df = pd.DataFrame.from_dict(sf_example, orient='index')\n",
      "sf_example_df"
     ],
     "language": "python",
     "metadata": {},
     "outputs": [
      {
       "output_type": "pyout",
       "prompt_number": 53,
       "text": [
        "<class 'pandas.core.frame.DataFrame'>\n",
        "Index: 1 entries, Project to Project\n",
        "Data columns:\n",
        "topics               1  non-null values\n",
        "private              1  non-null values\n",
        "licenses             1  non-null values\n",
        "audiences            1  non-null values\n",
        "created_timestamp    1  non-null values\n",
        "id                   1  non-null values\n",
        "mailing-list         1  non-null values\n",
        "base_url             1  non-null values\n",
        "download-page        1  non-null values\n",
        "developers           1  non-null values\n",
        "homepage             1  non-null values\n",
        "status               1  non-null values\n",
        "ranking              1  non-null values\n",
        "description          1  non-null values\n",
        "maintainers          1  non-null values\n",
        "percentile           1  non-null values\n",
        "categories           1  non-null values\n",
        "summary-page         1  non-null values\n",
        "name                 1  non-null values\n",
        "created              1  non-null values\n",
        "type                 1  non-null values\n",
        "trackers             1  non-null values\n",
        "donation             1  non-null values\n",
        "shortdesc            1  non-null values\n",
        "support-page         1  non-null values\n",
        "SVNRepository        1  non-null values\n",
        "dtypes: float64(1), int64(5), object(20)"
       ]
      }
     ],
     "prompt_number": 53
    },
    {
     "cell_type": "code",
     "collapsed": true,
     "input": [
      "## using flossmole list of projects ...\n",
      "\n",
      "sf_repos_df = pd.DataFrame()\n",
      "for name in sf_df['proj_unixname'][100:105]:\n",
      "    repo_json = get_sourceforge_repo(name)\n",
      "    sf_repos_df = sf_repos_df.append(pd.DataFrame.from_dict(repo_json,orient='index'))"
     ],
     "language": "python",
     "metadata": {},
     "outputs": [
      {
       "output_type": "stream",
       "stream": "stdout",
       "text": [
        "getting aapr from http://sourceforge.net/api/project/name/aapr/json\n",
        "getting aarchitect from http://sourceforge.net/api/project/name/aarchitect/json"
       ]
      },
      {
       "output_type": "stream",
       "stream": "stdout",
       "text": [
        "\n",
        "getting aardvark from http://sourceforge.net/api/project/name/aardvark/json"
       ]
      },
      {
       "output_type": "stream",
       "stream": "stdout",
       "text": [
        "\n",
        "getting aardvarkfm from http://sourceforge.net/api/project/name/aardvarkfm/json"
       ]
      },
      {
       "output_type": "stream",
       "stream": "stdout",
       "text": [
        "\n",
        "getting aardvarktool from http://sourceforge.net/api/project/name/aardvarktool/json"
       ]
      },
      {
       "output_type": "stream",
       "stream": "stdout",
       "text": [
        "\n"
       ]
      }
     ],
     "prompt_number": 59
    },
    {
     "cell_type": "code",
     "collapsed": false,
     "input": [
      "sf_repos_df.columns"
     ],
     "language": "python",
     "metadata": {},
     "outputs": [
      {
       "output_type": "pyout",
       "prompt_number": 60,
       "text": [
        "Index([0, CVSRepository, audiences, base_url, categories, created, created_timestamp, description, developers, donation, download-page, environments, homepage, id, licenses, mailing-list, maintainers, name, os, percentile, private, programming-languages, ranking, shortdesc, status, summary-page, support-page, topics, trackers, translations, type], dtype=object)"
       ]
      }
     ],
     "prompt_number": 60
    },
    {
     "cell_type": "code",
     "collapsed": true,
     "input": [
      "sf_repos_df.created"
     ],
     "language": "python",
     "metadata": {},
     "outputs": [
      {
       "output_type": "pyout",
       "prompt_number": 61,
       "text": [
        "Project    Jul 10, 2007\n",
        "Error               NaN\n",
        "Project    Jun  1, 2005\n",
        "Project    Mar 24, 2002\n",
        "Project    Apr 15, 2003\n",
        "Name: created"
       ]
      }
     ],
     "prompt_number": 61
    },
    {
     "cell_type": "markdown",
     "metadata": {},
     "source": [
      "## To get time delimited SourceForge data\n",
      "\n",
      "URL has the form: http://sourceforge.net/api/project/index/new_since/timestamp\n",
      "\n",
      "I think the results are paged, so more work to get them. But to show possibilities ... "
     ]
    },
    {
     "cell_type": "code",
     "collapsed": true,
     "input": [
      "\n",
      "\n",
      "start_date = datetime.datetime(2010, 12, 31)\n",
      "timestamp = int(time.mktime(start_date.timetuple()))\n",
      "date_url = \"http://sourceforge.net/api/project/index/new_since/\" + str(timestamp)\n",
      "date_req = requests.get(date_url)\n"
     ],
     "language": "python",
     "metadata": {},
     "outputs": [
      {
       "output_type": "stream",
       "stream": "stdout",
       "text": [
        "Group: andianab.u<br/>\n",
        "Group: bleupomme.u<br/>\n",
        "Group: namahage.u<br/>\n",
        "Group: drbd<br/>\n",
        "Group: nareshcssoft.u<br/>\n",
        "Group: zengsheng.u<br/>\n",
        "Group: myword.u<br/>\n",
        "Group: andyheere.u<br/>\n",
        "Group: jackjohan729.u<br/>\n",
        "Group: userid-1179712.u<br/>\n",
        "Group: rkarmshil.u<br/>\n",
        "Group: jangrabowski.u<br/>\n",
        "Group: hiwasawa.u<br/>\n",
        "Group: csunlayer8.u<br/>\n",
        "Group: karnovit.u<br/>\n",
        "Group: ideasfactory<br/>\n",
        "Group: fruitos<br/>\n",
        "Group: projectileman.u<br/>\n",
        "Group: arkantium87000.u<br/>\n",
        "Group: wsxn<br/>\n",
        "Group: poojajayaramu86.u<br/>\n",
        "Group: fra86co.u<br/>\n",
        "Group: dsull.u<br/>\n",
        "Group: kts168.u<br/>\n",
        "Group: userid-1923930.u<br/>\n",
        "Group: punfini<br/>\n",
        "Group: bestiufulo.u<br/>\n",
        "Group: coolnewproject<br/>\n",
        "Group: jgostanian.u<br/>\n",
        "Group: dallasdude.u<br/>\n",
        "Group: cmptch.u<br/>\n",
        "Group: clouddrift.u<br/>\n",
        "Group: androsm<br/>\n",
        "Group: tss123.u<br/>\n",
        "Group: noytest2<br/>\n",
        "Group: jdtotow.u<br/>\n",
        "Group: javiermc.u<br/>\n",
        "Group: wm52308.u<br/>\n",
        "Group: adamdunkels.u<br/>\n",
        "Group: davidbrich.u<br/>\n",
        "Group: userid-1756817.u<br/>\n",
        "Group: hemingroot.u<br/>\n",
        "Group: petulda.u<br/>\n",
        "Group: rodo6510.u<br/>\n",
        "Group: yataha<br/>\n",
        "Group: lxbfly.u<br/>\n",
        "Group: smarcosmarco.u<br/>\n",
        "Group: wimorse<br/>\n",
        "Group: mctw<br/>\n",
        "Group: samirjustinaihw<br/>\n",
        "Group: dreamingth.u<br/>\n",
        "Group: dolhastelian.u<br/>\n",
        "Group: taarka.u<br/>\n",
        "Group: airurad.u<br/>\n",
        "Group: silversphere.u<br/>\n",
        "Group: sbwong.u<br/>\n",
        "Group: raroth.u<br/>\n",
        "Group: mohsinmh.u<br/>\n",
        "Group: antonio-sanchez.u<br/>\n",
        "Group: yisraeel.u<br/>\n",
        "Group: mantra-chromium<br/>\n",
        "Group: goaxcap2.u<br/>\n",
        "Group: bufnitaciumec.u<br/>\n",
        "Group: kimrhoads19.u<br/>\n",
        "Group: panpansh.u<br/>\n",
        "Group: horst2012.u<br/>\n",
        "Group: userid-1539225.u<br/>\n",
        "Group: userid-403488.u<br/>\n",
        "Group: userid-1623957.u<br/>\n",
        "Group: bezalielviana.u<br/>\n",
        "Group: kuanlijia.u<br/>\n",
        "Group: psykobrat.u<br/>\n",
        "Group: terryfightart<br/>\n",
        "Group: jkcms<br/>\n",
        "Group: asd377907757.u<br/>\n",
        "Group: gavin-hellojava<br/>\n",
        "Group: laifuer1.u<br/>\n",
        "Group: jdcohen.u<br/>\n",
        "Group: will19870305.u<br/>\n",
        "Group: byoeng.u<br/>\n",
        "Group: lightcacti.u<br/>\n",
        "Group: userid-1362615.u<br/>\n",
        "Group: pluigi.u<br/>\n",
        "Group: hartera.u<br/>\n",
        "Group: jamesparnette.u<br/>\n",
        "Group: ctaarfxj.u<br/>\n",
        "Group: marshallab.u<br/>\n",
        "Group: kthompson49009.u<br/>\n",
        "Group: fsalwen.u<br/>\n",
        "Group: kbakaras.u<br/>\n",
        "Group: uzaqefogyde<br/>\n",
        "Group: lynettefusi.u<br/>\n",
        "Group: vienanbirth<br/>\n",
        "Group: dotnetsusanta.u<br/>\n",
        "Group: lucalyqy.u<br/>\n",
        "Group: mp2012.u<br/>\n",
        "Group: jerrywestrick.u<br/>\n",
        "Group: conkytop<br/>\n",
        "Group: walldorff.u<br/>\n",
        "Group: hbstephens.u<br/>\n",
        "\n"
       ]
      }
     ],
     "prompt_number": 6
    },
    {
     "cell_type": "code",
     "collapsed": false,
     "input": [
      "# make this into a list of elements, dropping all the name.u entries (I think)\n",
      "projects = date_req.content\n",
      "projects_clean = projects.replace('<br/>', '').replace('Group: ', '')\n",
      "projects_clean = projects_clean.splitlines()\n",
      "\n",
      "projects_alone = []\n",
      "for project in projects_clean:\n",
      "    if project.find('.u') <0:\n",
      "        projects_alone.append(project)"
     ],
     "language": "python",
     "metadata": {},
     "outputs": [],
     "prompt_number": 47
    },
    {
     "cell_type": "code",
     "collapsed": false,
     "input": [
      "projects_alone"
     ],
     "language": "python",
     "metadata": {},
     "outputs": [
      {
       "output_type": "pyout",
       "prompt_number": 48,
       "text": [
        "['drbd',\n",
        " 'ideasfactory',\n",
        " 'fruitos',\n",
        " 'wsxn',\n",
        " 'punfini',\n",
        " 'coolnewproject',\n",
        " 'androsm',\n",
        " 'noytest2',\n",
        " 'yataha',\n",
        " 'wimorse',\n",
        " 'mctw',\n",
        " 'samirjustinaihw',\n",
        " 'mantra-chromium',\n",
        " 'terryfightart',\n",
        " 'jkcms',\n",
        " 'gavin-hellojava',\n",
        " 'uzaqefogyde',\n",
        " 'vienanbirth',\n",
        " 'conkytop']"
       ]
      }
     ],
     "prompt_number": 48
    },
    {
     "cell_type": "markdown",
     "metadata": {},
     "source": [
      "We can use then use those project lists to get repository data, as shown above, and also to access the repository directly"
     ]
    },
    {
     "cell_type": "code",
     "collapsed": false,
     "input": [
      "get_sourceforge_repo(projects_alone[1])"
     ],
     "language": "python",
     "metadata": {},
     "outputs": [
      {
       "output_type": "stream",
       "stream": "stdout",
       "text": [
        "getting ideasfactory from http://sourceforge.net/api/project/name/ideasfactory/json\n"
       ]
      },
      {
       "output_type": "pyout",
       "prompt_number": 62,
       "text": [
        "{u'Project': {u'SVNRepository': {u'browse': u'http://ideasfactory.svn.sourceforge.net/',\n",
        "   u'location': u'http://ideasfactory.svn.sourceforge.net/svnroot/ideasfactory'},\n",
        "  u'base_url': u'http://sourceforge.net',\n",
        "  u'categories': [],\n",
        "  u'created': u'Apr 18, 2013',\n",
        "  u'created_timestamp': 1366273621,\n",
        "  u'description': u'',\n",
        "  u'developers': [],\n",
        "  u'donation': {u'charities': [],\n",
        "   u'comment': u'',\n",
        "   u'status': u'Not Accepting'},\n",
        "  u'download-page': u'http://sourceforge.net/project/showfiles.php?group_id=1601467',\n",
        "  u'homepage': u'',\n",
        "  u'id': 1601467,\n",
        "  u'mailing-list': u'http://sourceforge.net/mail/?group_id=1601467',\n",
        "  u'maintainers': [{u'homepage': u'http://sourceforge.net/users/arlord',\n",
        "    u'mbox_sha1sum': u'8c3e7b774c4c152233db714818bba1f45a2f11aa',\n",
        "    u'name': u'arlord'}],\n",
        "  u'name': u'IdeasFactory',\n",
        "  u'percentile': 0,\n",
        "  u'private': 0,\n",
        "  u'ranking': 0,\n",
        "  u'shortdesc': u'ideasfactory',\n",
        "  u'status': u'A',\n",
        "  u'summary-page': u'http://sourceforge.net/projects/ideasfactory',\n",
        "  u'support-page': u'http://sourceforge.net/projects/ideasfactory/support',\n",
        "  u'trackers': [{u'location': u'http://sourceforge.net/tracker/?group_id=1601467&atid=6278849',\n",
        "    u'name': u'Feature Requests'},\n",
        "   {u'location': u'http://sourceforge.net/tracker/?group_id=1601467&atid=6278848',\n",
        "    u'name': u'Patches'},\n",
        "   {u'location': u'http://sourceforge.net/tracker/?group_id=1601467&atid=6278847',\n",
        "    u'name': u'Support Requests'},\n",
        "   {u'location': u'http://sourceforge.net/tracker/?group_id=1601467&atid=6278846',\n",
        "    u'name': u'Bugs'}],\n",
        "  u'type': 10}}"
       ]
      }
     ],
     "prompt_number": 62
    },
    {
     "cell_type": "code",
     "collapsed": false,
     "input": [],
     "language": "python",
     "metadata": {},
     "outputs": []
    }
   ],
   "metadata": {}
  }
 ]
}