{
 "metadata": {
  "name": "Github_project_topics"
 },
 "nbformat": 3,
 "nbformat_minor": 0,
 "worksheets": [
  {
   "cells": [
    {
     "cell_type": "code",
     "collapsed": false,
     "input": [
      "import google_bigquery_access as gbq\n",
      "import pandas as pd\n",
      "import datetime as dt\n",
      "import matplotlib.pyplot as plt\n",
      "import gensim as gs"
     ],
     "language": "python",
     "metadata": {},
     "outputs": [],
     "prompt_number": 1
    },
    {
     "cell_type": "markdown",
     "metadata": {},
     "source": [
      "# Ways of characterising what Github projects are actually about\n",
      "\n",
      "How do we know what repositories are about? Can we know even know whether a repository has any software in it?"
     ]
    },
    {
     "cell_type": "code",
     "collapsed": true,
     "input": [
      "query = \"\"\"select repository_name, repository_description, repository_language \n",
      "from [publicdata:samples.github_timeline]\n",
      "limit 5000;\"\"\"\n",
      "\n",
      "repo_df = gbq.query_table(query, 5000)"
     ],
     "language": "python",
     "metadata": {},
     "outputs": [
      {
       "output_type": "stream",
       "stream": "stdout",
       "text": [
        "Your browser has been opened to visit:\n",
        "\n",
        "    https://accounts.google.com/o/oauth2/auth?scope=https%3A%2F%2Fwww.googleapis.com%2Fauth%2Fbigquery&redirect_uri=http%3A%2F%2Flocalhost%3A8080%2F&response_type=code&client_id=237471208995.apps.googleusercontent.com&access_type=offline\n",
        "\n",
        "If your browser is on a different machine then exit and re-run this\n",
        "application with the command-line parameter \n",
        "\n",
        "  --noauth_local_webserver\n",
        "\n",
        "Authentication successful."
       ]
      },
      {
       "output_type": "stream",
       "stream": "stdout",
       "text": [
        "\n",
        "executing query:"
       ]
      },
      {
       "output_type": "stream",
       "stream": "stdout",
       "text": [
        "\n",
        "select repository_name, repository_description, repository_language \n",
        "from [publicdata:samples.github_timeline]\n",
        "limit 5000;\n",
        "has a rows attribute"
       ]
      },
      {
       "output_type": "stream",
       "stream": "stdout",
       "text": [
        "\n",
        "5000 of   5000 (5000, 3)\n"
       ]
      }
     ],
     "prompt_number": 2
    },
    {
     "cell_type": "code",
     "collapsed": false,
     "input": [
      "repo_df.repository_description = repo_df.repository_description.fillna(' ')\n",
      "stoplist = set('for is or that a of the and to in'.split())\n",
      "texts = [[word for word in document.lower().split() if word not in stoplist] for document in repo_df.repository_description.tolist()]\n",
      "# remove words that appear only once\n",
      "all_tokens = sum(texts, [])\n",
      "tokens_once = set(word for word in set(all_tokens) if all_tokens.count(word) == 1)\n",
      "texts = [[word for word in text if word not in tokens_once]\n",
      "          for text in texts]\n",
      "print(texts[0:10])"
     ],
     "language": "python",
     "metadata": {},
     "outputs": [
      {
       "output_type": "stream",
       "stream": "stdout",
       "text": [
        "[[u'simple', u'application', u'android'], [u'selenium', u'tests', u'case', u'conductor'], [u'personal', u'project'], [u'archive', u'formulae', u'removed', u'from', u'homebrew', u'package', u'manager'], [u'web-based', u'management', u'system'], [u'2012', u'wiki'], [u'simple', u'tool'], [u'an', u'automated', u'project', u'mirror.'], [u'scipy', u'main', u'repository'], [u'real-time', u'log', u'monitoring', u'your', u'browser']]\n"
       ]
      }
     ],
     "prompt_number": 3
    },
    {
     "cell_type": "code",
     "collapsed": false,
     "input": [
      "dictionary = gs.corpora.Dictionary(texts)\n",
      "print(dictionary)\n",
      "git_corpus = [dictionary.doc2bow(text) for text in texts]\n",
      "gs.corpora.BleiCorpus.serialize('data/github_desc.lda_c', git_corpus)"
     ],
     "language": "python",
     "metadata": {},
     "outputs": [
      {
       "output_type": "stream",
       "stream": "stdout",
       "text": [
        "Dictionary(3031 unique tokens)\n"
       ]
      }
     ],
     "prompt_number": 4
    },
    {
     "cell_type": "code",
     "collapsed": false,
     "input": [
      "lda_model = gs.models.ldamodel.LdaModel(corpus=git_corpus, id2word=dictionary, num_topics=10,update_every=0, passes=50)\n"
     ],
     "language": "python",
     "metadata": {},
     "outputs": [],
     "prompt_number": 5
    },
    {
     "cell_type": "code",
     "collapsed": false,
     "input": [
      "[[i, lda_model.print_topic(i)] for i in range(10)]"
     ],
     "language": "python",
     "metadata": {},
     "outputs": [
      {
       "output_type": "pyout",
       "prompt_number": 113,
       "text": [
        "[[0,\n",
        "  u'0.021*library + 0.013*official + 0.013*on + 0.012*jquery + 0.012*with + 0.011*web + 0.010*collection + 0.010*data + 0.010*are + 0.010*website'],\n",
        " [1,\n",
        "  u'0.021*my + 0.016*2 + 0.015*web + 0.014*with + 0.013*project + 0.012*tag + 0.012*finder + 0.012*fuzzy + 0.012*file, + 0.012*buffer,'],\n",
        " [2,\n",
        "  u'0.019*on + 0.016*your + 0.013*with + 0.013*javascript + 0.010*simple + 0.009*tool + 0.009*programming + 0.009*language + 0.008*node.js + 0.008*code'],\n",
        " [3,\n",
        "  u'0.036*library + 0.021*project + 0.018*from + 0.016*implementation + 0.011*with + 0.010*wordpress + 0.010*source + 0.009*using + 0.009*api + 0.009*open'],\n",
        " [4,\n",
        "  u'0.033*rails + 0.033*on + 0.029*ruby + 0.027*an + 0.016*api + 0.016*plugin + 0.010*client + 0.010*it + 0.009*blog + 0.009*c'],\n",
        " [5,\n",
        "  u'0.041*framework + 0.021*php + 0.017*with + 0.017*server + 0.016*site + 0.014*by + 0.010*library + 0.009*from + 0.009*project + 0.008*building'],\n",
        " [6,\n",
        "  u'0.017*code + 0.015*platform + 0.015*system + 0.015*app + 0.010*files + 0.010*this + 0.010*an + 0.010*forms + 0.009*ruby + 0.009*plugin'],\n",
        " [7,\n",
        "  u'0.020*-- + 0.019*at + 0.017*clone + 0.016*into + 0.016*symfony + 0.015*subtree + 0.014*(master + 0.014*symfony/symfony) + 0.014*split + 0.014*[read-only]'],\n",
        " [8,\n",
        "  u'0.022*with + 0.020*this + 0.019*web + 0.017*framework + 0.016*as + 0.015*an + 0.012*- + 0.011*mobile + 0.010*using + 0.009*simple'],\n",
        " [9,\n",
        "  u'0.031*source + 0.027*open + 0.017*de + 0.015*your + 0.011*using + 0.011*code + 0.010*with + 0.009*on + 0.009*tikz + 0.009*app']]"
       ]
      }
     ],
     "prompt_number": 113
    }
   ],
   "metadata": {}
  }
 ]
}