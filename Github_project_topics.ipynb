{
 "cells": [
  {
   "cell_type": "code",
   "execution_count": 1,
   "metadata": {
    "collapsed": false
   },
   "outputs": [],
   "source": [
    "import google_bigquery_access as gbq\n",
    "import pandas as pd\n",
    "import datetime as dt\n",
    "import matplotlib.pyplot as plt\n",
    "import gensim as gs"
   ]
  },
  {
   "cell_type": "markdown",
   "metadata": {},
   "source": [
    "# Ways of characterising what Github projects are actually about\n",
    "\n",
    "How do we know what repositories are about? Can we know even know whether a repository has any software in it?"
   ]
  },
  {
   "cell_type": "code",
   "execution_count": 2,
   "metadata": {
    "collapsed": false
   },
   "outputs": [
    {
     "name": "stdout",
     "output_type": "stream",
     "text": [
      "executing query:\n",
      "select repository_name, repository_description, repository_language \n",
      "from [publicdata:samples.github_timeline]\n",
      "limit 5000;\n",
      "has a rows attribute\n",
      "5000 of   5000 (5000, 3)\n"
     ]
    }
   ],
   "source": [
    "query = \"\"\"select repository_name, repository_description, repository_language \n",
    "from [publicdata:samples.github_timeline]\n",
    "limit 5000;\"\"\"\n",
    "\n",
    "repo_df = gbq.query_table(query, 5000)"
   ]
  },
  {
   "cell_type": "code",
   "execution_count": 13,
   "metadata": {
    "collapsed": false
   },
   "outputs": [
    {
     "name": "stdout",
     "output_type": "stream",
     "text": [
      "[[u'foo'], [u'php', u'bindings'], [u'playground', u'redis', u'c.'], [u'simple', u'powerful', u'android'], [], [u'personal', u'configuration', u'files.'], [], [u'python', u'api', u'getting', u'zipcodes'], [], [u'automated', u'checker']]\n"
     ]
    }
   ],
   "source": [
    "repo_df.repository_description = repo_df.repository_description.fillna(' ')\n",
    "stoplist = set('for from but an on is or that a of the and to in with this that be using -'.split())\n",
    "texts = [[word for word in document.lower().split() if word not in stoplist] for document in repo_df.repository_description.tolist()]\n",
    "\n",
    "# remove words that appear only once\n",
    "all_tokens = sum(texts, [])\n",
    "tokens_once = set(word for word in set(all_tokens) if all_tokens.count(word) == 1)\n",
    "texts = [[word for word in text if word not in tokens_once]\n",
    "          for text in texts]\n",
    "print(texts[0:10])"
   ]
  },
  {
   "cell_type": "code",
   "execution_count": 14,
   "metadata": {
    "collapsed": false
   },
   "outputs": [
    {
     "name": "stdout",
     "output_type": "stream",
     "text": [
      "Dictionary(2915 unique tokens: [u'zendesk', u'assembler', u'dynamic', u'monte', u'breakout']...)\n"
     ]
    }
   ],
   "source": [
    "dictionary = gs.corpora.Dictionary(texts)\n",
    "print(dictionary)\n",
    "git_corpus = [dictionary.doc2bow(text) for text in texts]\n",
    "gs.corpora.BleiCorpus.serialize('data/github_desc.lda_c', git_corpus)"
   ]
  },
  {
   "cell_type": "code",
   "execution_count": 15,
   "metadata": {
    "collapsed": false
   },
   "outputs": [],
   "source": [
    "lda_model = gs.models.ldamodel.LdaModel(corpus=git_corpus, id2word=dictionary, num_topics=15,update_every=0, passes=50)\n"
   ]
  },
  {
   "cell_type": "code",
   "execution_count": 17,
   "metadata": {
    "collapsed": false
   },
   "outputs": [
    {
     "data": {
      "text/plain": [
       "[[0,\n",
       "  u'0.080*plugin + 0.052*interface + 0.043*mirror + 0.038*email + 0.036*adding + 0.035*git-svn + 0.035*trac + 0.035*email2trac, + 0.032*jquery + 0.016*website'],\n",
       " [1,\n",
       "  u'0.019*your + 0.016*test + 0.013*extension + 0.012*password + 0.010*ios + 0.010*node + 0.010*like + 0.009*estimation + 0.009*realistic + 0.009*strength'],\n",
       " [2,\n",
       "  u'0.026*server + 0.021*data + 0.020*use + 0.014*easy + 0.013*api + 0.011*engine + 0.011*project + 0.011*source + 0.011*open + 0.010*node.js'],\n",
       " [3,\n",
       "  u'0.034*javascript + 0.028*web + 0.023*application + 0.022*framework + 0.021*python + 0.017*testing + 0.014*into + 0.011*open + 0.011*node.js + 0.010*xml'],\n",
       " [4,\n",
       "  u'0.021*as + 0.017*blog + 0.015*rails + 0.014*library + 0.013*your + 0.012*personal + 0.010*java + 0.010*tool + 0.009*simple + 0.009*data'],\n",
       " [5,\n",
       "  u'0.031*framework + 0.016*web + 0.015*building + 0.014*management + 0.014*your + 0.011*php + 0.011*html5 + 0.011*work + 0.010*applications + 0.010*simple,'],\n",
       " [6,\n",
       "  u'0.032*see + 0.030*here + 0.030*nothing + 0.015*source + 0.012*by + 0.011*project + 0.008*advanced + 0.008*not + 0.007*test + 0.007*open'],\n",
       " [7,\n",
       "  u'0.021*code + 0.020*framework + 0.016*server + 0.015*salesforce + 0.015*application + 0.014*repository + 0.012*web + 0.012*project + 0.011*scripts + 0.011*collection'],\n",
       " [8,\n",
       "  u'0.036*app + 0.029*ruby + 0.027*rails + 0.016*tutorial + 0.016*application + 0.011*web + 0.010*written + 0.010*at + 0.009*example + 0.009*management'],\n",
       " [9,\n",
       "  u'0.033*my + 0.019*toolkit + 0.013*ruby + 0.013*python + 0.013*base + 0.010*vim + 0.010*js + 0.010*android + 0.008*twitter + 0.008*(cyanogenmod)'],\n",
       " [10,\n",
       "  u'0.033*game + 0.016*simple + 0.013*by + 0.013*will + 0.011*engine + 0.010*you + 0.010*written + 0.009*python + 0.008*module + 0.008*state'],\n",
       " [11,\n",
       "  u'0.019*+ + 0.018*node.js + 0.017*service + 0.016*manager + 0.016*library + 0.014*your + 0.013*package + 0.013*system + 0.012*socket.io + 0.011*push/pull'],\n",
       " [12,\n",
       "  u'0.027*library + 0.019*simple + 0.019*system + 0.016*ruby + 0.015*html + 0.015*build + 0.015*client + 0.011*you + 0.009*line + 0.009*javascript'],\n",
       " [13,\n",
       "  u'0.130*files + 0.126*tool + 0.122*configuration + 0.118*update + 0.115*bootloader + 0.009** + 0.009*test + 0.008*rails + 0.006*code + 0.006*library'],\n",
       " [14,\n",
       "  u'0.031*api + 0.024*source + 0.021*android + 0.021*your + 0.019*client + 0.018*open + 0.016*de + 0.013*php + 0.012*free + 0.012*cms']]"
      ]
     },
     "execution_count": 17,
     "metadata": {},
     "output_type": "execute_result"
    }
   ],
   "source": [
    "[[i, lda_model.print_topic(i)] for i in range(15)]"
   ]
  }
 ],
 "metadata": {
  "kernelspec": {
   "display_name": "Python 2",
   "language": "python",
   "name": "python2"
  },
  "language_info": {
   "codemirror_mode": {
    "name": "ipython",
    "version": 2
   },
   "file_extension": ".py",
   "mimetype": "text/x-python",
   "name": "python",
   "nbconvert_exporter": "python",
   "pygments_lexer": "ipython2",
   "version": "2.7.9"
  }
 },
 "nbformat": 4,
 "nbformat_minor": 0
}
