{
 "cells": [
  {
   "cell_type": "code",
   "execution_count": 37,
   "metadata": {
    "collapsed": false
   },
   "outputs": [
    {
     "name": "stdout",
     "output_type": "stream",
     "text": [
      "The autoreload extension is already loaded. To reload it, use:\n",
      "  %reload_ext autoreload\n",
      "Using matplotlib backend: WX\n"
     ]
    }
   ],
   "source": [
    "%load_ext autoreload\n",
    "%autoreload 2\n",
    "%matplotlib"
   ]
  },
  {
   "cell_type": "code",
   "execution_count": 34,
   "metadata": {
    "collapsed": true
   },
   "outputs": [],
   "source": [
    "# coding: utf-8\n",
    "import fork_plotting as fp\n",
    "import pandas as pd\n",
    "import matplotlib.pyplot as plt\n",
    "import datetime\n",
    "import sys\n",
    "import seaborn\n",
    "seaborn.set_style(\"whitegrid\")\n",
    "seaborn.set_style(\"ticks\")\n",
    "seaborn.despine(trim=True)"
   ]
  },
  {
   "cell_type": "code",
   "execution_count": 26,
   "metadata": {
    "collapsed": true
   },
   "outputs": [],
   "source": [
    "testing = True\n",
    "\n",
    "if testing:\n",
    "    repo_name = 'bootstrap'\n",
    "else:\n",
    "    repo_name = sys.argv[1]"
   ]
  },
  {
   "cell_type": "code",
   "execution_count": 27,
   "metadata": {
    "collapsed": false
   },
   "outputs": [
    {
     "name": "stdout",
     "output_type": "stream",
     "text": [
      "loading fork filedata/bootstrap_fork_events.csv\n"
     ]
    }
   ],
   "source": [
    "fork_df, fork_week = fp.load_fork_dataframe_and_group_by_week('data/{}_fork_events.csv'.format(repo_name))\n",
    "\n",
    "forkcount = 333\n",
    "if fork_df['repository_url'].unique().shape[0] < forkcount:\n",
    "    forkcount = fork_df['repository_url'].unique().shape[0]"
   ]
  },
  {
   "cell_type": "code",
   "execution_count": 28,
   "metadata": {
    "collapsed": false
   },
   "outputs": [
    {
     "data": {
      "text/html": [
       "<div>\n",
       "<table border=\"1\" class=\"dataframe\">\n",
       "  <thead>\n",
       "    <tr style=\"text-align: right;\">\n",
       "      <th></th>\n",
       "      <th></th>\n",
       "      <th>fork_count</th>\n",
       "    </tr>\n",
       "    <tr>\n",
       "      <th>repository_name</th>\n",
       "      <th>created_at</th>\n",
       "      <th></th>\n",
       "    </tr>\n",
       "  </thead>\n",
       "  <tbody>\n",
       "    <tr>\n",
       "      <th>-..-bootstrap-autoload.php-1</th>\n",
       "      <th>2014-11-09</th>\n",
       "      <td>1</td>\n",
       "    </tr>\n",
       "    <tr>\n",
       "      <th rowspan=\"4\" valign=\"top\">0bootstrap</th>\n",
       "      <th>2013-01-27</th>\n",
       "      <td>1</td>\n",
       "    </tr>\n",
       "    <tr>\n",
       "      <th>2013-02-03</th>\n",
       "      <td>0</td>\n",
       "    </tr>\n",
       "    <tr>\n",
       "      <th>2013-02-10</th>\n",
       "      <td>0</td>\n",
       "    </tr>\n",
       "    <tr>\n",
       "      <th>2013-02-17</th>\n",
       "      <td>0</td>\n",
       "    </tr>\n",
       "  </tbody>\n",
       "</table>\n",
       "</div>"
      ],
      "text/plain": [
       "                                         fork_count\n",
       "repository_name              created_at            \n",
       "-..-bootstrap-autoload.php-1 2014-11-09           1\n",
       "0bootstrap                   2013-01-27           1\n",
       "                             2013-02-03           0\n",
       "                             2013-02-10           0\n",
       "                             2013-02-17           0"
      ]
     },
     "execution_count": 28,
     "metadata": {},
     "output_type": "execute_result"
    }
   ],
   "source": [
    "\n",
    "fork_week.head()"
   ]
  },
  {
   "cell_type": "code",
   "execution_count": 38,
   "metadata": {
    "collapsed": false
   },
   "outputs": [
    {
     "name": "stdout",
     "output_type": "stream",
     "text": [
      "plotting bootstrap repository forks\n"
     ]
    },
    {
     "data": {
      "text/plain": [
       "<matplotlib.text.Text at 0x7fa9be908ad0>"
      ]
     },
     "execution_count": 38,
     "metadata": {},
     "output_type": "execute_result"
    }
   ],
   "source": [
    "print 'plotting {} repository forks'.format(repo_name)\n",
    "plt.figure(figsize = (16,10))\n",
    "fp.fork_stackplot(repo_name, fork_week, forkcount)\n",
    "plt.title('{} {} and related repository forks since 2012'.format(forkcount, repo_name))\n",
    "plt.ylabel('forks/week')\n"
   ]
  },
  {
   "cell_type": "code",
   "execution_count": 39,
   "metadata": {
    "collapsed": false
   },
   "outputs": [],
   "source": [
    "plt.show()\n",
    "plt.savefig('plots/{0}_stackplot_{1}.svg'.format(repo_name, datetime.datetime.strftime(datetime.datetime.now(), format = '%Y-%m-%d-%H-%M')))\n",
    "plt.close()"
   ]
  },
  {
   "cell_type": "code",
   "execution_count": null,
   "metadata": {
    "collapsed": true
   },
   "outputs": [],
   "source": [
    "print 'plotting {} repo forks without {} itself'.format(forkcount, repo_name)\n",
    "plt.figure(figsize = (16,10))\n",
    "forks_minus_repo_name = fork_week[fork_week.index.get_level_values(0) !=repo_name]\n",
    "fp.fork_stackplot(forks_minus_repo_name)\n",
    "plt.ylabel('forks/week')\n",
    "\n",
    "plt.savefig('plots/{0}_stackplot_no_{0}_{1}.png'.format(repo_name, datetime.datetime.strftime(datetime.datetime.now(), format = '%Y-%m-%d-%H-%M')), figsize=(10,12))\n",
    "\n",
    "plt.close()"
   ]
  }
 ],
 "metadata": {
  "kernelspec": {
   "display_name": "Python 2",
   "language": "python",
   "name": "python2"
  },
  "language_info": {
   "codemirror_mode": {
    "name": "ipython",
    "version": 2
   },
   "file_extension": ".py",
   "mimetype": "text/x-python",
   "name": "python",
   "nbconvert_exporter": "python",
   "pygments_lexer": "ipython2",
   "version": "2.7.9"
  }
 },
 "nbformat": 4,
 "nbformat_minor": 0
}
