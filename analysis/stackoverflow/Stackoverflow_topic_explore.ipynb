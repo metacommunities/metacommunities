{
 "metadata": {
  "name": ""
 },
 "nbformat": 3,
 "nbformat_minor": 0,
 "worksheets": [
  {
   "cells": [
    {
     "cell_type": "markdown",
     "metadata": {},
     "source": [
      "# Topics on stackoverflow\n",
      "\n",
      "Trying out some of the ideas from Allamanis (Allamanis, 2013) to see whether they help us. "
     ]
    },
    {
     "cell_type": "code",
     "collapsed": false,
     "input": [
      "import sys\n",
      "sys.path.append('..')\n",
      "\n",
      "import google_bigquery_access as gbq\n",
      "import pandas as pd\n",
      "import datetime as dt\n",
      "import matplotlib.pyplot as plt\n",
      "import gensim as gs"
     ],
     "language": "python",
     "metadata": {},
     "outputs": [],
     "prompt_number": 1
    },
    {
     "cell_type": "markdown",
     "metadata": {},
     "source": [
      "## Questions about git and github\n",
      "\n",
      "We could use stackoverflow to see how people talk about git or github. What kind of issues or problems do they ask about?"
     ]
    },
    {
     "cell_type": "code",
     "collapsed": false,
     "input": [
      "query1 = \"\"\"select title, body, tags, viewcount from [stack_overflow.Posts]\n",
      "where tags contains 'git'\n",
      "limit 1000;\"\"\"\n",
      "git_df = gbq.query_table(query1, 1000)"
     ],
     "language": "python",
     "metadata": {},
     "outputs": [
      {
       "output_type": "stream",
       "stream": "stdout",
       "text": [
        "executing query:\n",
        "select title, body, tags, viewcount from [stack_overflow.Posts]\n",
        "where tags contains 'git'\n",
        "limit 1000;\n",
        "has a rows attribute"
       ]
      },
      {
       "output_type": "stream",
       "stream": "stdout",
       "text": [
        "\n",
        "1000 of   1000 (1000, 4)\n"
       ]
      }
     ],
     "prompt_number": 38
    },
    {
     "cell_type": "markdown",
     "metadata": {},
     "source": [
      "To get some idea of the most popular questions about git, just look at those that are viewed more than 2000 times"
     ]
    },
    {
     "cell_type": "code",
     "collapsed": false,
     "input": [
      "git_df['viewcount'] = git_df['viewcount'].astype('int')\n",
      "git_df[git_df['viewcount']>2000].title"
     ],
     "language": "python",
     "metadata": {},
     "outputs": [
      {
       "output_type": "pyout",
       "prompt_number": 67,
       "text": [
        "12    TortoiseGit - git did not exit cleanly (exit c...\n",
        "37                 Hosting a Maven repository on github\n",
        "47    Can I rename LOCAL, REMOTE and BASE as used in...\n",
        "48                        Cloning a private Github repo\n",
        "50         Git checking out problem [fatal: early EOFs]\n",
        "52                                   Undoing git reset?\n",
        "55    Listing each branch and its last revision's da...\n",
        "56    How to check for changes on remote (origin) gi...\n",
        "58    How do I force git to use LF instead of CR+LF ...\n",
        "59                How to pull a specific file with GIT?\n",
        "60    git - how to recover the file permissions git ...\n",
        "62                   How to get to a particular git tag\n",
        "65    Git: HEAD has disappeared, want to merge it in...\n",
        "66           Multiple Git repositories in one directory\n",
        "67              GIT clone repo across local file system\n",
        "...\n",
        "838            Java, Digital Signature with BouncyCastle\n",
        "848                 Github push error. Permission denied\n",
        "850    git behind proxy: remote HEAD refers to nonexi...\n",
        "856                              git workflow and gerrit\n",
        "867                           Tutorial on GIT with XCODE\n",
        "873                       git add multiple files at once\n",
        "878    How to reset everything Heroku in my Git/Rails...\n",
        "891                   git pull request for just one file\n",
        "932       Git push failed - unpack-objects abnormal exit\n",
        "938    How to see an html page on github as a normal ...\n",
        "959           Understanding Git with XCode and BitBucket\n",
        "961    How to setup github repository in my NetBeans ...\n",
        "983    How to get the marked speed limit of a road, o...\n",
        "989                     Git commit -a \"untracked files\"?\n",
        "998           Typical .gitignore file for an Android app\n",
        "Name: title, Length: 136, dtype: object"
       ]
      }
     ],
     "prompt_number": 67
    },
    {
     "cell_type": "markdown",
     "metadata": {},
     "source": [
      "The most heavily viewed question on Stackoverflow about git is:"
     ]
    },
    {
     "cell_type": "code",
     "collapsed": false,
     "input": [
      "git_df[git_df.viewcount == git_df.viewcount.max()][['title', 'tags']]"
     ],
     "language": "python",
     "metadata": {},
     "outputs": [
      {
       "html": [
        "<div style=\"max-height:1000px;max-width:1500px;overflow:auto;\">\n",
        "<table border=\"1\" class=\"dataframe\">\n",
        "  <thead>\n",
        "    <tr style=\"text-align: right;\">\n",
        "      <th></th>\n",
        "      <th>title</th>\n",
        "      <th>tags</th>\n",
        "    </tr>\n",
        "  </thead>\n",
        "  <tbody>\n",
        "    <tr>\n",
        "      <th>581</th>\n",
        "      <td> Git: how to diff the same file between two dif...</td>\n",
        "      <td> &lt;git&gt;&lt;git-diff&gt;</td>\n",
        "    </tr>\n",
        "  </tbody>\n",
        "</table>\n",
        "</div>"
       ],
       "output_type": "pyout",
       "prompt_number": 83,
       "text": [
        "                                                 title             tags\n",
        "581  Git: how to diff the same file between two dif...  <git><git-diff>"
       ]
      }
     ],
     "prompt_number": 83
    },
    {
     "cell_type": "markdown",
     "metadata": {},
     "source": [
      "This suggests that differences and merging is a key issue. "
     ]
    },
    {
     "cell_type": "markdown",
     "metadata": {},
     "source": [
      "## Particular platforms and their importance: the example of Node.js\n",
      "\n",
      "If we think that particular platforms or libraries are especially worth investigating, how would we go about that?\n",
      "Take for instance the Node.js platform: how is that present on Stackoverflow?"
     ]
    },
    {
     "cell_type": "code",
     "collapsed": false,
     "input": [
      "query2 = \"\"\" select title, body, tags, answercount, creationdate from [stack_overflow.Posts]\n",
      "where tags contains 'node.js'\n",
      "limit 100\"\"\"\n",
      "node_df = gbq.query_table(query2, 1000)"
     ],
     "language": "python",
     "metadata": {},
     "outputs": [
      {
       "output_type": "stream",
       "stream": "stdout",
       "text": [
        "executing query:\n",
        " select title, body, tags, answercount, creationdate from [stack_overflow.Posts]\n",
        "where tags contains 'node.js'\n",
        "limit 100\n",
        "has a rows attribute"
       ]
      },
      {
       "output_type": "stream",
       "stream": "stdout",
       "text": [
        "\n",
        "100 of   100 (100, 5)\n"
       ]
      }
     ],
     "prompt_number": 88
    },
    {
     "cell_type": "code",
     "collapsed": false,
     "input": [
      "node_df.ix[0:10][['creationdate', 'title']]"
     ],
     "language": "python",
     "metadata": {},
     "outputs": [
      {
       "html": [
        "<div style=\"max-height:1000px;max-width:1500px;overflow:auto;\">\n",
        "<table border=\"1\" class=\"dataframe\">\n",
        "  <thead>\n",
        "    <tr style=\"text-align: right;\">\n",
        "      <th></th>\n",
        "      <th>creationdate</th>\n",
        "      <th>title</th>\n",
        "    </tr>\n",
        "  </thead>\n",
        "  <tbody>\n",
        "    <tr>\n",
        "      <th>0 </th>\n",
        "      <td> 2013-05-16T11:47:32.740</td>\n",
        "      <td>        Node.js for server to server communication</td>\n",
        "    </tr>\n",
        "    <tr>\n",
        "      <th>1 </th>\n",
        "      <td> 2013-05-16T11:48:47.257</td>\n",
        "      <td> Why would calling a child_process command work...</td>\n",
        "    </tr>\n",
        "    <tr>\n",
        "      <th>2 </th>\n",
        "      <td> 2013-05-16T11:50:44.053</td>\n",
        "      <td>                             Node.js async to sync</td>\n",
        "    </tr>\n",
        "    <tr>\n",
        "      <th>3 </th>\n",
        "      <td> 2013-05-16T11:53:51.740</td>\n",
        "      <td> Configuring v8's memory management to be smart...</td>\n",
        "    </tr>\n",
        "    <tr>\n",
        "      <th>4 </th>\n",
        "      <td> 2013-05-16T13:01:41.873</td>\n",
        "      <td> MySQL/node.js transactions within a stored pro...</td>\n",
        "    </tr>\n",
        "    <tr>\n",
        "      <th>5 </th>\n",
        "      <td> 2013-05-16T13:01:46.517</td>\n",
        "      <td> sending an email with aws nodejs sdk (using th...</td>\n",
        "    </tr>\n",
        "    <tr>\n",
        "      <th>6 </th>\n",
        "      <td> 2013-05-16T13:25:31.333</td>\n",
        "      <td> Heroku - Created a facebook app with Node.js w...</td>\n",
        "    </tr>\n",
        "    <tr>\n",
        "      <th>7 </th>\n",
        "      <td> 2013-05-16T13:26:17.150</td>\n",
        "      <td> What will be the best way to reuse a CouchBase...</td>\n",
        "    </tr>\n",
        "    <tr>\n",
        "      <th>8 </th>\n",
        "      <td> 2013-05-16T14:02:33.887</td>\n",
        "      <td>    Making mocha \"use strict\" when running in node</td>\n",
        "    </tr>\n",
        "    <tr>\n",
        "      <th>9 </th>\n",
        "      <td> 2013-05-16T14:12:21.070</td>\n",
        "      <td>     node.js socket.io express - user login system</td>\n",
        "    </tr>\n",
        "    <tr>\n",
        "      <th>10</th>\n",
        "      <td> 2013-05-16T14:49:51.000</td>\n",
        "      <td> Inserted inside the callback function of the q...</td>\n",
        "    </tr>\n",
        "  </tbody>\n",
        "</table>\n",
        "</div>"
       ],
       "output_type": "pyout",
       "prompt_number": 100,
       "text": [
        "               creationdate                                              title\n",
        "0   2013-05-16T11:47:32.740         Node.js for server to server communication\n",
        "1   2013-05-16T11:48:47.257  Why would calling a child_process command work...\n",
        "2   2013-05-16T11:50:44.053                              Node.js async to sync\n",
        "3   2013-05-16T11:53:51.740  Configuring v8's memory management to be smart...\n",
        "4   2013-05-16T13:01:41.873  MySQL/node.js transactions within a stored pro...\n",
        "5   2013-05-16T13:01:46.517  sending an email with aws nodejs sdk (using th...\n",
        "6   2013-05-16T13:25:31.333  Heroku - Created a facebook app with Node.js w...\n",
        "7   2013-05-16T13:26:17.150  What will be the best way to reuse a CouchBase...\n",
        "8   2013-05-16T14:02:33.887     Making mocha \"use strict\" when running in node\n",
        "9   2013-05-16T14:12:21.070      node.js socket.io express - user login system\n",
        "10  2013-05-16T14:49:51.000  Inserted inside the callback function of the q..."
       ]
      }
     ],
     "prompt_number": 100
    },
    {
     "cell_type": "markdown",
     "metadata": {},
     "source": [
      "A very small sample here, but the rate at which these questions were being created suggests high levels of interest in node.js"
     ]
    }
   ],
   "metadata": {}
  }
 ]
}