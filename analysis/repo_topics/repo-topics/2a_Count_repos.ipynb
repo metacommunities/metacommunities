{
 "metadata": {
  "name": ""
 },
 "nbformat": 3,
 "nbformat_minor": 0,
 "worksheets": [
  {
   "cells": [
    {
     "cell_type": "markdown",
     "metadata": {},
     "source": [
      "# Repository census\n",
      "\n",
      "A basic count of the number of distinct repositories in the timelines is a baseline for this work. It is somewhere around 10 million. "
     ]
    },
    {
     "cell_type": "code",
     "collapsed": false,
     "input": [
      "import redis\n",
      "import matplotlib.pyplot as plt, mpld3\n",
      "import seaborn\n",
      "from bs4 import BeautifulSoup\n",
      "import pandas as pd\n",
      "import re\n",
      "mpld3.enable_notebook()"
     ],
     "language": "python",
     "metadata": {},
     "outputs": [],
     "prompt_number": 14
    },
    {
     "cell_type": "code",
     "collapsed": false,
     "input": [
      "red = redis.Redis(db='1')"
     ],
     "language": "python",
     "metadata": {},
     "outputs": [],
     "prompt_number": 5
    },
    {
     "cell_type": "code",
     "collapsed": false,
     "input": [
      "repo_table = 'metacommunities:github_proper.repo_list'\n",
      "\n",
      "query = \"\"\"SELECT count(distinct(repository_url)) FROM [githubarchive:github.timeline] \n",
      "\"\"\"\n",
      "\n",
      "repo_count_df = pd.io.gbq.read_gbq(query)\n",
      "repo_count_df.ix[0]"
     ],
     "language": "python",
     "metadata": {},
     "outputs": [
      {
       "output_type": "stream",
       "stream": "stdout",
       "text": [
        "\r",
        "Waiting on bqjob_r1bfa3e7d66ce0d37_0000014649a380ea_1 ... (2s) Current status: RUNNING "
       ]
      },
      {
       "output_type": "stream",
       "stream": "stdout",
       "text": [
        "\r",
        "Waiting on bqjob_r1bfa3e7d66ce0d37_0000014649a380ea_1 ... (2s) Current status: DONE   \n"
       ]
      },
      {
       "metadata": {},
       "output_type": "pyout",
       "prompt_number": 6,
       "text": [
        "f0_    10485038\n",
        "Name: 0, dtype: int64"
       ]
      }
     ],
     "prompt_number": 6
    },
    {
     "cell_type": "code",
     "collapsed": false,
     "input": [
      "red.set('repos:count_timeline', repo_count_df.ix[0].values[0])"
     ],
     "language": "python",
     "metadata": {},
     "outputs": [
      {
       "metadata": {},
       "output_type": "pyout",
       "prompt_number": 25,
       "text": [
        "True"
       ]
      }
     ],
     "prompt_number": 25
    },
    {
     "cell_type": "code",
     "collapsed": true,
     "input": [
      "query_sample = \"\"\"select repository_owner, repository_name,\n",
      "if (hash(repository_url) % 100000 == 0, 'True', 'False') as included\n",
      "from [githubarchive:github.timeline]  limit 100\"\"\"\n",
      "repos_sample = pd.io.gbq.read_gbq(query_sample)\n",
      "repos_sample.head(10)"
     ],
     "language": "python",
     "metadata": {},
     "outputs": [
      {
       "html": [
        "<div style=\"max-height:1000px;max-width:1500px;overflow:auto;\">\n",
        "<table border=\"1\" class=\"dataframe\">\n",
        "  <thead>\n",
        "    <tr style=\"text-align: right;\">\n",
        "      <th></th>\n",
        "      <th>repository_owner</th>\n",
        "      <th>repository_name</th>\n",
        "      <th>included</th>\n",
        "    </tr>\n",
        "  </thead>\n",
        "  <tbody>\n",
        "    <tr>\n",
        "      <th>0 </th>\n",
        "      <td>             adam-p</td>\n",
        "      <td>              markdown-here</td>\n",
        "      <td> False</td>\n",
        "    </tr>\n",
        "    <tr>\n",
        "      <th>1 </th>\n",
        "      <td>       samsalisbury</td>\n",
        "      <td>                   shouldly</td>\n",
        "      <td> False</td>\n",
        "    </tr>\n",
        "    <tr>\n",
        "      <th>2 </th>\n",
        "      <td>              qerub</td>\n",
        "      <td>                   rackjure</td>\n",
        "      <td> False</td>\n",
        "    </tr>\n",
        "    <tr>\n",
        "      <th>3 </th>\n",
        "      <td>               reuk</td>\n",
        "      <td> impulse-response-raytracer</td>\n",
        "      <td> False</td>\n",
        "    </tr>\n",
        "    <tr>\n",
        "      <th>4 </th>\n",
        "      <td>          steinarvk</td>\n",
        "      <td>               shufflestega</td>\n",
        "      <td> False</td>\n",
        "    </tr>\n",
        "    <tr>\n",
        "      <th>5 </th>\n",
        "      <td>             guille</td>\n",
        "      <td>                       spot</td>\n",
        "      <td> False</td>\n",
        "    </tr>\n",
        "    <tr>\n",
        "      <th>6 </th>\n",
        "      <td>            shelldn</td>\n",
        "      <td>                  ajax-auth</td>\n",
        "      <td> False</td>\n",
        "    </tr>\n",
        "    <tr>\n",
        "      <th>7 </th>\n",
        "      <td>            dev1991</td>\n",
        "      <td>                wtf_project</td>\n",
        "      <td> False</td>\n",
        "    </tr>\n",
        "    <tr>\n",
        "      <th>8 </th>\n",
        "      <td>           snowplow</td>\n",
        "      <td>             website-reboot</td>\n",
        "      <td> False</td>\n",
        "    </tr>\n",
        "    <tr>\n",
        "      <th>9 </th>\n",
        "      <td>      processing-js</td>\n",
        "      <td>              processing-js</td>\n",
        "      <td> False</td>\n",
        "    </tr>\n",
        "    <tr>\n",
        "      <th>10</th>\n",
        "      <td>         githumtime</td>\n",
        "      <td>                 githubtime</td>\n",
        "      <td> False</td>\n",
        "    </tr>\n",
        "    <tr>\n",
        "      <th>11</th>\n",
        "      <td>               M66B</td>\n",
        "      <td>                   XPrivacy</td>\n",
        "      <td> False</td>\n",
        "    </tr>\n",
        "    <tr>\n",
        "      <th>12</th>\n",
        "      <td>            sunglim</td>\n",
        "      <td>                      spark</td>\n",
        "      <td> False</td>\n",
        "    </tr>\n",
        "    <tr>\n",
        "      <th>13</th>\n",
        "      <td>         githumtime</td>\n",
        "      <td>                githubprime</td>\n",
        "      <td> False</td>\n",
        "    </tr>\n",
        "    <tr>\n",
        "      <th>14</th>\n",
        "      <td>            openatv</td>\n",
        "      <td>                    enigma2</td>\n",
        "      <td> False</td>\n",
        "    </tr>\n",
        "    <tr>\n",
        "      <th>15</th>\n",
        "      <td>                rg3</td>\n",
        "      <td>                 youtube-dl</td>\n",
        "      <td> False</td>\n",
        "    </tr>\n",
        "    <tr>\n",
        "      <th>16</th>\n",
        "      <td> ros-infrastructure</td>\n",
        "      <td>           rosdoc_tag_index</td>\n",
        "      <td> False</td>\n",
        "    </tr>\n",
        "    <tr>\n",
        "      <th>17</th>\n",
        "      <td>      wildfiremedia</td>\n",
        "      <td>                       wfm2</td>\n",
        "      <td> False</td>\n",
        "    </tr>\n",
        "    <tr>\n",
        "      <th>18</th>\n",
        "      <td>             jmhale</td>\n",
        "      <td>                 xbmcposttv</td>\n",
        "      <td> False</td>\n",
        "    </tr>\n",
        "    <tr>\n",
        "      <th>19</th>\n",
        "      <td>         hewigovens</td>\n",
        "      <td>         PackageUninstaller</td>\n",
        "      <td> False</td>\n",
        "    </tr>\n",
        "    <tr>\n",
        "      <th>20</th>\n",
        "      <td>          crbassett</td>\n",
        "      <td>        crbassett.github.io</td>\n",
        "      <td> False</td>\n",
        "    </tr>\n",
        "    <tr>\n",
        "      <th>21</th>\n",
        "      <td>           XhmikosR</td>\n",
        "      <td>                     mpc-hc</td>\n",
        "      <td> False</td>\n",
        "    </tr>\n",
        "    <tr>\n",
        "      <th>22</th>\n",
        "      <td>   wordpress-mobile</td>\n",
        "      <td>              WordPress-iOS</td>\n",
        "      <td> False</td>\n",
        "    </tr>\n",
        "    <tr>\n",
        "      <th>23</th>\n",
        "      <td>          LinguaLeo</td>\n",
        "      <td>                  php-cache</td>\n",
        "      <td> False</td>\n",
        "    </tr>\n",
        "    <tr>\n",
        "      <th>24</th>\n",
        "      <td>          sc00byd00</td>\n",
        "      <td>   Sc00byd00-Bukkit-Plugins</td>\n",
        "      <td> False</td>\n",
        "    </tr>\n",
        "    <tr>\n",
        "      <th>25</th>\n",
        "      <td>            gleesin</td>\n",
        "      <td>                 mtg-pricer</td>\n",
        "      <td> False</td>\n",
        "    </tr>\n",
        "    <tr>\n",
        "      <th>26</th>\n",
        "      <td>               9chu</td>\n",
        "      <td>                    fancy2d</td>\n",
        "      <td> False</td>\n",
        "    </tr>\n",
        "    <tr>\n",
        "      <th>27</th>\n",
        "      <td>           itigoppo</td>\n",
        "      <td>                     ponpon</td>\n",
        "      <td> False</td>\n",
        "    </tr>\n",
        "    <tr>\n",
        "      <th>28</th>\n",
        "      <td>              qrush</td>\n",
        "      <td>           qrush.github.com</td>\n",
        "      <td> False</td>\n",
        "    </tr>\n",
        "    <tr>\n",
        "      <th>29</th>\n",
        "      <td>         PatchNotes</td>\n",
        "      <td>             PatchNotes.org</td>\n",
        "      <td> False</td>\n",
        "    </tr>\n",
        "  </tbody>\n",
        "</table>\n",
        "<p>30 rows \u00d7 3 columns</p>\n",
        "</div>"
       ],
       "metadata": {},
       "output_type": "pyout",
       "prompt_number": 359,
       "text": [
        "      repository_owner             repository_name included\n",
        "0               adam-p               markdown-here    False\n",
        "1         samsalisbury                    shouldly    False\n",
        "2                qerub                    rackjure    False\n",
        "3                 reuk  impulse-response-raytracer    False\n",
        "4            steinarvk                shufflestega    False\n",
        "5               guille                        spot    False\n",
        "6              shelldn                   ajax-auth    False\n",
        "7              dev1991                 wtf_project    False\n",
        "8             snowplow              website-reboot    False\n",
        "9        processing-js               processing-js    False\n",
        "10          githumtime                  githubtime    False\n",
        "11                M66B                    XPrivacy    False\n",
        "12             sunglim                       spark    False\n",
        "13          githumtime                 githubprime    False\n",
        "14             openatv                     enigma2    False\n",
        "15                 rg3                  youtube-dl    False\n",
        "16  ros-infrastructure            rosdoc_tag_index    False\n",
        "17       wildfiremedia                        wfm2    False\n",
        "18              jmhale                  xbmcposttv    False\n",
        "19          hewigovens          PackageUninstaller    False\n",
        "20           crbassett         crbassett.github.io    False\n",
        "21            XhmikosR                      mpc-hc    False\n",
        "22    wordpress-mobile               WordPress-iOS    False\n",
        "23           LinguaLeo                   php-cache    False\n",
        "24           sc00byd00    Sc00byd00-Bukkit-Plugins    False\n",
        "25             gleesin                  mtg-pricer    False\n",
        "26                9chu                     fancy2d    False\n",
        "27            itigoppo                      ponpon    False\n",
        "28               qrush            qrush.github.com    False\n",
        "29          PatchNotes              PatchNotes.org    False\n",
        "\n",
        "[30 rows x 3 columns]"
       ]
      }
     ],
     "prompt_number": 359
    },
    {
     "cell_type": "markdown",
     "metadata": {},
     "source": [
      "We know that there are more on Github, but this is a reasonable number to work with -- 10M. "
     ]
    },
    {
     "cell_type": "code",
     "collapsed": false,
     "input": [
      "query = \"\"\"SELECT count(distinct(full_name)) FROM [metacommunities:github_proper.repo_list] \n",
      "\"\"\"\n",
      "\n",
      "full_repo_count_df = pd.io.gbq.read_gbq(query)\n"
     ],
     "language": "python",
     "metadata": {},
     "outputs": [
      {
       "output_type": "stream",
       "stream": "stdout",
       "text": [
        "\r",
        "Waiting on bqjob_r676e068f86ec4337_000001464d0c5476_3 ... (0s) Current status: RUNNING "
       ]
      },
      {
       "output_type": "stream",
       "stream": "stdout",
       "text": [
        "\r",
        "Waiting on bqjob_r676e068f86ec4337_000001464d0c5476_3 ... (0s) Current status: DONE   \n"
       ]
      }
     ],
     "prompt_number": 15
    },
    {
     "cell_type": "code",
     "collapsed": false,
     "input": [
      "full_repo_count_df.ix[0].values[0]"
     ],
     "language": "python",
     "metadata": {},
     "outputs": [
      {
       "metadata": {},
       "output_type": "pyout",
       "prompt_number": 23,
       "text": [
        "9880730"
       ]
      }
     ],
     "prompt_number": 23
    },
    {
     "cell_type": "code",
     "collapsed": false,
     "input": [
      "print full_repo_count_df.ix[0]\n",
      "red.set('repos:count_api', full_repo_count_df.ix[0].values[0])"
     ],
     "language": "python",
     "metadata": {},
     "outputs": [
      {
       "output_type": "stream",
       "stream": "stdout",
       "text": [
        "f0_    9880730\n",
        "Name: 0, dtype: int64\n"
       ]
      },
      {
       "metadata": {},
       "output_type": "pyout",
       "prompt_number": 24,
       "text": [
        "True"
       ]
      }
     ],
     "prompt_number": 24
    }
   ],
   "metadata": {}
  }
 ]
}