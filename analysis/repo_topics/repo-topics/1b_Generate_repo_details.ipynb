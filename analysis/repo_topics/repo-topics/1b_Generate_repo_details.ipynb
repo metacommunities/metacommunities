{
 "metadata": {
  "name": "",
  "signature": "sha256:84064c45cff08c5d3309d1e841add90cb684bb3df838633b5e69d70d91ac8067"
 },
 "nbformat": 3,
 "nbformat_minor": 0,
 "worksheets": [
  {
   "cells": [
    {
     "cell_type": "code",
     "collapsed": false,
     "input": [
      "import redis\n",
      "import pandas as pd\n",
      "import re"
     ],
     "language": "python",
     "metadata": {},
     "outputs": [],
     "prompt_number": 1
    },
    {
     "cell_type": "markdown",
     "metadata": {},
     "source": [
      "## Generate details on repo topics and domains\n",
      "\n",
      "Code to generate more detailed information on particular domains"
     ]
    },
    {
     "cell_type": "code",
     "collapsed": false,
     "input": [
      "red = redis.Redis(db='1')\n",
      "\n",
      "def device_specific_repos(query, use_description = False):\n",
      "    \"\"\" For a given query, return all the repo names, full names and fork\n",
      "    from the master list of reponames held on the githubarchive timeline.\n",
      "    It uses regular expression to do this.\n",
      "    \n",
      "    @param: description - if True, will use the 'description' field too\"\"\"\n",
      "    \n",
      "    print('starting bigquery ... ')\n",
      "    #to deal with the way people name repositories, try various separator characters\n",
      "    query = re.subn('[-_\\s+]', '.?', query)[0]\n",
      "    query = re.subn('[,\\(\\):]', '', query)[0]\n",
      "    print query\n",
      "    if use_description:\n",
      "        full_query = 'SELECT name, full_name, fork FROM [github_proper.repo_list] where regexp_match(lower(name),\"' + query +'\") or regexp_match(lower(description),\"'+ query +'\")'\n",
      "                          \n",
      "    else:\n",
      "        full_query = 'SELECT name, full_name, fork FROM [github_proper.repo_list] where regexp_match(lower(name),\"' + query +'\")'\n",
      "            \n",
      "    full_df = pd.io.gbq.read_gbq(full_query)\n",
      "    full_df['device'] = query\n",
      "    print(full_df.shape)\n",
      "    return full_df"
     ],
     "language": "python",
     "metadata": {},
     "outputs": [],
     "prompt_number": 8
    },
    {
     "cell_type": "code",
     "collapsed": false,
     "input": [
      "def aggregate_many_queries(df):\n",
      "    queries = df['name'].str.strip().str.lower().tolist()\n",
      "    result_df = pd.DataFrame()\n",
      "    for q in queries:\n",
      "        res = device_specific_repos(q, use_description=False)\n",
      "        res['device'] = q\n",
      "        result_df = result_df.append(res)\n",
      "    return result_df\n",
      "    "
     ],
     "language": "python",
     "metadata": {},
     "outputs": [],
     "prompt_number": 23
    },
    {
     "cell_type": "code",
     "collapsed": false,
     "input": [
      "df = pd.DataFrame({'name':['cloud', 'virtual']} )\n",
      "a_df = aggregate_many_queries(df)\n",
      "a_df.head()"
     ],
     "language": "python",
     "metadata": {},
     "outputs": [
      {
       "output_type": "stream",
       "stream": "stdout",
       "text": [
        "starting bigquery ... \n",
        "cloud\n",
        "\r",
        "Waiting on bqjob_r5718a9f590d6ae42_0000014652855426_8 ... (1s) Current status: RUNNING"
       ]
      },
      {
       "output_type": "stream",
       "stream": "stdout",
       "text": [
        " \r",
        "Waiting on bqjob_r5718a9f590d6ae42_0000014652855426_8 ... (1s) Current status: DONE   \n",
        "(30683, 4)"
       ]
      },
      {
       "output_type": "stream",
       "stream": "stdout",
       "text": [
        "\n",
        "starting bigquery ... \n",
        "virtual\n",
        "\r",
        "Waiting on bqjob_r7af7d0517b34d70d_0000014652859766_9 ... (0s) Current status: RUNNING"
       ]
      },
      {
       "output_type": "stream",
       "stream": "stdout",
       "text": [
        " \r",
        "Waiting on bqjob_r7af7d0517b34d70d_0000014652859766_9 ... (0s) Current status: DONE   \n",
        "(4526, 4)"
       ]
      },
      {
       "output_type": "stream",
       "stream": "stdout",
       "text": [
        "\n"
       ]
      },
      {
       "html": [
        "<div style=\"max-height:1000px;max-width:1500px;overflow:auto;\">\n",
        "<table border=\"1\" class=\"dataframe\">\n",
        "  <thead>\n",
        "    <tr style=\"text-align: right;\">\n",
        "      <th></th>\n",
        "      <th>device</th>\n",
        "      <th>fork</th>\n",
        "      <th>full_name</th>\n",
        "      <th>name</th>\n",
        "    </tr>\n",
        "  </thead>\n",
        "  <tbody>\n",
        "    <tr>\n",
        "      <th>0</th>\n",
        "      <td> cloud</td>\n",
        "      <td> 1</td>\n",
        "      <td> DimitriGilbert/fuel-cloud-storage</td>\n",
        "      <td>    fuel-cloud-storage</td>\n",
        "    </tr>\n",
        "    <tr>\n",
        "      <th>1</th>\n",
        "      <td> cloud</td>\n",
        "      <td> 1</td>\n",
        "      <td>            joshargh/notebookcloud</td>\n",
        "      <td>         notebookcloud</td>\n",
        "    </tr>\n",
        "    <tr>\n",
        "      <th>2</th>\n",
        "      <td> cloud</td>\n",
        "      <td> 1</td>\n",
        "      <td>                LvSongping/jclouds</td>\n",
        "      <td>               jclouds</td>\n",
        "    </tr>\n",
        "    <tr>\n",
        "      <th>3</th>\n",
        "      <td> cloud</td>\n",
        "      <td> 0</td>\n",
        "      <td> mohanvkumar/LoggingCloudConnector</td>\n",
        "      <td> LoggingCloudConnector</td>\n",
        "    </tr>\n",
        "    <tr>\n",
        "      <th>4</th>\n",
        "      <td> cloud</td>\n",
        "      <td> 1</td>\n",
        "      <td>  ericbottard/cloudfoundry-android</td>\n",
        "      <td>  cloudfoundry-android</td>\n",
        "    </tr>\n",
        "  </tbody>\n",
        "</table>\n",
        "<p>5 rows \u00d7 4 columns</p>\n",
        "</div>"
       ],
       "metadata": {},
       "output_type": "pyout",
       "prompt_number": 24,
       "text": [
        "  device  fork                          full_name                   name\n",
        "0  cloud     1  DimitriGilbert/fuel-cloud-storage     fuel-cloud-storage\n",
        "1  cloud     1             joshargh/notebookcloud          notebookcloud\n",
        "2  cloud     1                 LvSongping/jclouds                jclouds\n",
        "3  cloud     0  mohanvkumar/LoggingCloudConnector  LoggingCloudConnector\n",
        "4  cloud     1   ericbottard/cloudfoundry-android   cloudfoundry-android\n",
        "\n",
        "[5 rows x 4 columns]"
       ]
      }
     ],
     "prompt_number": 24
    },
    {
     "cell_type": "code",
     "collapsed": false,
     "input": [
      "a_df['device'].value_counts()"
     ],
     "language": "python",
     "metadata": {},
     "outputs": [
      {
       "metadata": {},
       "output_type": "pyout",
       "prompt_number": 25,
       "text": [
        "cloud      30683\n",
        "virtual     4526\n",
        "dtype: int64"
       ]
      }
     ],
     "prompt_number": 25
    },
    {
     "cell_type": "code",
     "collapsed": false,
     "input": [
      "## Cloud query example\n",
      "\n",
      "query = 'cloud'\n",
      "cloud_df = device_specific_repos(query, use_description=True)"
     ],
     "language": "python",
     "metadata": {},
     "outputs": [
      {
       "output_type": "stream",
       "stream": "stdout",
       "text": [
        "starting bigquery ... \n",
        "cloud\n",
        "\r",
        "Waiting on bqjob_r1d5c44b41bdaba54_000001465280fc5c_7 ... (0s) Current status: RUNNING"
       ]
      },
      {
       "output_type": "stream",
       "stream": "stdout",
       "text": [
        " \r",
        "Waiting on bqjob_r1d5c44b41bdaba54_000001465280fc5c_7 ... (2s) Current status: RUNNING "
       ]
      },
      {
       "output_type": "stream",
       "stream": "stdout",
       "text": [
        "\r",
        "Waiting on bqjob_r1d5c44b41bdaba54_000001465280fc5c_7 ... (2s) Current status: DONE   \n",
        "(63662, 4)"
       ]
      },
      {
       "output_type": "stream",
       "stream": "stdout",
       "text": [
        "\n"
       ]
      }
     ],
     "prompt_number": 18
    },
    {
     "cell_type": "code",
     "collapsed": true,
     "input": [
      "cloud_df.head()"
     ],
     "language": "python",
     "metadata": {},
     "outputs": [
      {
       "html": [
        "<div style=\"max-height:1000px;max-width:1500px;overflow:auto;\">\n",
        "<table border=\"1\" class=\"dataframe\">\n",
        "  <thead>\n",
        "    <tr style=\"text-align: right;\">\n",
        "      <th></th>\n",
        "      <th>name</th>\n",
        "      <th>full_name</th>\n",
        "      <th>fork</th>\n",
        "      <th>device</th>\n",
        "    </tr>\n",
        "  </thead>\n",
        "  <tbody>\n",
        "    <tr>\n",
        "      <th>0</th>\n",
        "      <td>    fuel-cloud-storage</td>\n",
        "      <td> DimitriGilbert/fuel-cloud-storage</td>\n",
        "      <td> 1</td>\n",
        "      <td> cloud</td>\n",
        "    </tr>\n",
        "    <tr>\n",
        "      <th>1</th>\n",
        "      <td>              Activiti</td>\n",
        "      <td>              vagrant1984/Activiti</td>\n",
        "      <td> 1</td>\n",
        "      <td> cloud</td>\n",
        "    </tr>\n",
        "    <tr>\n",
        "      <th>2</th>\n",
        "      <td>         notebookcloud</td>\n",
        "      <td>            joshargh/notebookcloud</td>\n",
        "      <td> 1</td>\n",
        "      <td> cloud</td>\n",
        "    </tr>\n",
        "    <tr>\n",
        "      <th>3</th>\n",
        "      <td>               jclouds</td>\n",
        "      <td>                LvSongping/jclouds</td>\n",
        "      <td> 1</td>\n",
        "      <td> cloud</td>\n",
        "    </tr>\n",
        "    <tr>\n",
        "      <th>4</th>\n",
        "      <td> LoggingCloudConnector</td>\n",
        "      <td> mohanvkumar/LoggingCloudConnector</td>\n",
        "      <td> 0</td>\n",
        "      <td> cloud</td>\n",
        "    </tr>\n",
        "  </tbody>\n",
        "</table>\n",
        "<p>5 rows \u00d7 4 columns</p>\n",
        "</div>"
       ],
       "metadata": {},
       "output_type": "pyout",
       "prompt_number": 19,
       "text": [
        "                    name                          full_name  fork device\n",
        "0     fuel-cloud-storage  DimitriGilbert/fuel-cloud-storage     1  cloud\n",
        "1               Activiti               vagrant1984/Activiti     1  cloud\n",
        "2          notebookcloud             joshargh/notebookcloud     1  cloud\n",
        "3                jclouds                 LvSongping/jclouds     1  cloud\n",
        "4  LoggingCloudConnector  mohanvkumar/LoggingCloudConnector     0  cloud\n",
        "\n",
        "[5 rows x 4 columns]"
       ]
      }
     ],
     "prompt_number": 19
    },
    {
     "cell_type": "code",
     "collapsed": false,
     "input": [
      "query = 'corrugated-box-machine'\n",
      "cartonmachine_df = device_specific_repos(query, use_description=False)"
     ],
     "language": "python",
     "metadata": {},
     "outputs": [
      {
       "output_type": "stream",
       "stream": "stdout",
       "text": [
        "starting bigquery ... \n",
        "corrugated.?box.?machine\n",
        "\r",
        "Waiting on bqjob_r58092bbc67c3029d_000001464b5607e6_3 ... (0s) Current status: RUNNING"
       ]
      },
      {
       "output_type": "stream",
       "stream": "stdout",
       "text": [
        " \r",
        "Waiting on bqjob_r58092bbc67c3029d_000001464b5607e6_3 ... (0s) Current status: DONE   \n",
        "(45, 4)"
       ]
      },
      {
       "output_type": "stream",
       "stream": "stdout",
       "text": [
        "\n"
       ]
      }
     ],
     "prompt_number": 10
    },
    {
     "cell_type": "code",
     "collapsed": false,
     "input": [
      "cartonmachine_df.head()"
     ],
     "language": "python",
     "metadata": {},
     "outputs": [
      {
       "html": [
        "<div style=\"max-height:1000px;max-width:1500px;overflow:auto;\">\n",
        "<table border=\"1\" class=\"dataframe\">\n",
        "  <thead>\n",
        "    <tr style=\"text-align: right;\">\n",
        "      <th></th>\n",
        "      <th>name</th>\n",
        "      <th>full_name</th>\n",
        "      <th>fork</th>\n",
        "      <th>device</th>\n",
        "    </tr>\n",
        "  </thead>\n",
        "  <tbody>\n",
        "    <tr>\n",
        "      <th>0</th>\n",
        "      <td> 3layer-5layer-7layer-corrugated-box-machine--0...</td>\n",
        "      <td> dpackcartonmachine/3layer-5layer-7layer-corrug...</td>\n",
        "      <td> 0</td>\n",
        "      <td> corrugated.?box.?machine</td>\n",
        "    </tr>\n",
        "    <tr>\n",
        "      <th>1</th>\n",
        "      <td>                    corrugated-box-machine--817258</td>\n",
        "      <td> dpackcartonmachine/corrugated-box-machine--817258</td>\n",
        "      <td> 0</td>\n",
        "      <td> corrugated.?box.?machine</td>\n",
        "    </tr>\n",
        "    <tr>\n",
        "      <th>2</th>\n",
        "      <td>                    corrugated-box-machine--854402</td>\n",
        "      <td> dpackcartonmachine/corrugated-box-machine--854402</td>\n",
        "      <td> 0</td>\n",
        "      <td> corrugated.?box.?machine</td>\n",
        "    </tr>\n",
        "    <tr>\n",
        "      <th>3</th>\n",
        "      <td>                    corrugated-box-machine--709152</td>\n",
        "      <td> dpackcartonmachine/corrugated-box-machine--709152</td>\n",
        "      <td> 0</td>\n",
        "      <td> corrugated.?box.?machine</td>\n",
        "    </tr>\n",
        "    <tr>\n",
        "      <th>4</th>\n",
        "      <td>           5-layers-corrugated-box-machine--984327</td>\n",
        "      <td> dpackcartonmachine/5-layers-corrugated-box-mac...</td>\n",
        "      <td> 0</td>\n",
        "      <td> corrugated.?box.?machine</td>\n",
        "    </tr>\n",
        "  </tbody>\n",
        "</table>\n",
        "<p>5 rows \u00d7 4 columns</p>\n",
        "</div>"
       ],
       "metadata": {},
       "output_type": "pyout",
       "prompt_number": 13,
       "text": [
        "                                                name  \\\n",
        "0  3layer-5layer-7layer-corrugated-box-machine--0...   \n",
        "1                     corrugated-box-machine--817258   \n",
        "2                     corrugated-box-machine--854402   \n",
        "3                     corrugated-box-machine--709152   \n",
        "4            5-layers-corrugated-box-machine--984327   \n",
        "\n",
        "                                           full_name  fork  \\\n",
        "0  dpackcartonmachine/3layer-5layer-7layer-corrug...     0   \n",
        "1  dpackcartonmachine/corrugated-box-machine--817258     0   \n",
        "2  dpackcartonmachine/corrugated-box-machine--854402     0   \n",
        "3  dpackcartonmachine/corrugated-box-machine--709152     0   \n",
        "4  dpackcartonmachine/5-layers-corrugated-box-mac...     0   \n",
        "\n",
        "                     device  \n",
        "0  corrugated.?box.?machine  \n",
        "1  corrugated.?box.?machine  \n",
        "2  corrugated.?box.?machine  \n",
        "3  corrugated.?box.?machine  \n",
        "4  corrugated.?box.?machine  \n",
        "\n",
        "[5 rows x 4 columns]"
       ]
      }
     ],
     "prompt_number": 13
    },
    {
     "cell_type": "code",
     "collapsed": false,
     "input": [
      "query = 'mirror'\n",
      "mirror_df = device_specific_repos(query, use_description=True)"
     ],
     "language": "python",
     "metadata": {},
     "outputs": [
      {
       "output_type": "stream",
       "stream": "stdout",
       "text": [
        "starting bigquery ... \n",
        "mirror\n",
        "\r",
        "Waiting on bqjob_r7ccf0d6695f9060e_000001464b5c0ead_5 ... (2s) Current status: RUNNING"
       ]
      },
      {
       "output_type": "stream",
       "stream": "stdout",
       "text": [
        " \r",
        "Waiting on bqjob_r7ccf0d6695f9060e_000001464b5c0ead_5 ... (5s) Current status: RUNNING "
       ]
      },
      {
       "output_type": "stream",
       "stream": "stdout",
       "text": [
        "\r",
        "Waiting on bqjob_r7ccf0d6695f9060e_000001464b5c0ead_5 ... (7s) Current status: RUNNING "
       ]
      },
      {
       "output_type": "stream",
       "stream": "stdout",
       "text": [
        "\r",
        "Waiting on bqjob_r7ccf0d6695f9060e_000001464b5c0ead_5 ... (7s) Current status: DONE   \n",
        "(89164, 4)"
       ]
      },
      {
       "output_type": "stream",
       "stream": "stdout",
       "text": [
        "\n"
       ]
      }
     ],
     "prompt_number": 16
    },
    {
     "cell_type": "code",
     "collapsed": false,
     "input": [
      "mirror_df.head()"
     ],
     "language": "python",
     "metadata": {},
     "outputs": [
      {
       "html": [
        "<div style=\"max-height:1000px;max-width:1500px;overflow:auto;\">\n",
        "<table border=\"1\" class=\"dataframe\">\n",
        "  <thead>\n",
        "    <tr style=\"text-align: right;\">\n",
        "      <th></th>\n",
        "      <th>name</th>\n",
        "      <th>full_name</th>\n",
        "      <th>fork</th>\n",
        "      <th>device</th>\n",
        "    </tr>\n",
        "  </thead>\n",
        "  <tbody>\n",
        "    <tr>\n",
        "      <th>0</th>\n",
        "      <td> syphon-filter-dark-mirror-download</td>\n",
        "      <td> nalversnokoo/syphon-filter-dark-mirror-download</td>\n",
        "      <td> 0</td>\n",
        "      <td> mirror</td>\n",
        "    </tr>\n",
        "    <tr>\n",
        "      <th>1</th>\n",
        "      <td>                    MirrorMessaging</td>\n",
        "      <td>                     DivineOmega/MirrorMessaging</td>\n",
        "      <td> 0</td>\n",
        "      <td> mirror</td>\n",
        "    </tr>\n",
        "    <tr>\n",
        "      <th>2</th>\n",
        "      <td>                     markdownmirror</td>\n",
        "      <td>                         robert52/markdownmirror</td>\n",
        "      <td> 0</td>\n",
        "      <td> mirror</td>\n",
        "    </tr>\n",
        "    <tr>\n",
        "      <th>3</th>\n",
        "      <td>                             mirror</td>\n",
        "      <td>                            lordofthelake/mirror</td>\n",
        "      <td> 0</td>\n",
        "      <td> mirror</td>\n",
        "    </tr>\n",
        "    <tr>\n",
        "      <th>4</th>\n",
        "      <td>                          debmirror</td>\n",
        "      <td>                            gcymbalski/debmirror</td>\n",
        "      <td> 1</td>\n",
        "      <td> mirror</td>\n",
        "    </tr>\n",
        "  </tbody>\n",
        "</table>\n",
        "<p>5 rows \u00d7 4 columns</p>\n",
        "</div>"
       ],
       "metadata": {},
       "output_type": "pyout",
       "prompt_number": 15,
       "text": [
        "                                 name  \\\n",
        "0  syphon-filter-dark-mirror-download   \n",
        "1                     MirrorMessaging   \n",
        "2                      markdownmirror   \n",
        "3                              mirror   \n",
        "4                           debmirror   \n",
        "\n",
        "                                         full_name  fork  device  \n",
        "0  nalversnokoo/syphon-filter-dark-mirror-download     0  mirror  \n",
        "1                      DivineOmega/MirrorMessaging     0  mirror  \n",
        "2                          robert52/markdownmirror     0  mirror  \n",
        "3                             lordofthelake/mirror     0  mirror  \n",
        "4                             gcymbalski/debmirror     1  mirror  \n",
        "\n",
        "[5 rows x 4 columns]"
       ]
      }
     ],
     "prompt_number": 15
    },
    {
     "cell_type": "code",
     "collapsed": true,
     "input": [
      "socialmedia = pd.read_csv('topic_lists/social_media.csv', header=0)"
     ],
     "language": "python",
     "metadata": {},
     "outputs": [
      {
       "html": [
        "<div style=\"max-height:1000px;max-width:1500px;overflow:auto;\">\n",
        "<table border=\"1\" class=\"dataframe\">\n",
        "  <thead>\n",
        "    <tr style=\"text-align: right;\">\n",
        "      <th></th>\n",
        "      <th>name</th>\n",
        "      <th>description</th>\n",
        "      <th>start</th>\n",
        "      <th>users</th>\n",
        "      <th>Registration post responses and questions </th>\n",
        "      <th>Ranking</th>\n",
        "    </tr>\n",
        "  </thead>\n",
        "  <tbody>\n",
        "    <tr>\n",
        "      <th>0</th>\n",
        "      <td>    43 Things </td>\n",
        "      <td>                     Goal setting and achievement </td>\n",
        "      <td> 1 January 2005 </td>\n",
        "      <td> 3,000,000[2] </td>\n",
        "      <td>     Open </td>\n",
        "      <td>  12,914[3]</td>\n",
        "    </tr>\n",
        "    <tr>\n",
        "      <th>1</th>\n",
        "      <td> Academia.edu </td>\n",
        "      <td> Social networking site for academics/researchers </td>\n",
        "      <td> September 2008 </td>\n",
        "      <td>   211,000[4] </td>\n",
        "      <td>     Open </td>\n",
        "      <td>   1,995[5]</td>\n",
        "    </tr>\n",
        "    <tr>\n",
        "      <th>2</th>\n",
        "      <td>     About.me </td>\n",
        "      <td>                           Social networking site </td>\n",
        "      <td>   October 2009 </td>\n",
        "      <td> 5,000,000[6] </td>\n",
        "      <td>     Open </td>\n",
        "      <td>       1447</td>\n",
        "    </tr>\n",
        "    <tr>\n",
        "      <th>3</th>\n",
        "      <td>     Advogato </td>\n",
        "      <td>         Free and open source software developers </td>\n",
        "      <td>            1999</td>\n",
        "      <td>    13,575[7] </td>\n",
        "      <td>     Open </td>\n",
        "      <td> 292,620[8]</td>\n",
        "    </tr>\n",
        "    <tr>\n",
        "      <th>4</th>\n",
        "      <td>       aNobii </td>\n",
        "      <td>                                            Books </td>\n",
        "      <td>            2006</td>\n",
        "      <td>         Open </td>\n",
        "      <td> 26,939[9]</td>\n",
        "      <td>        NaN</td>\n",
        "    </tr>\n",
        "  </tbody>\n",
        "</table>\n",
        "<p>5 rows \u00d7 6 columns</p>\n",
        "</div>"
       ],
       "metadata": {},
       "output_type": "pyout",
       "prompt_number": 4,
       "text": [
        "            name                                        description  \\\n",
        "0     43 Things                       Goal setting and achievement    \n",
        "1  Academia.edu   Social networking site for academics/researchers    \n",
        "2      About.me                             Social networking site    \n",
        "3      Advogato           Free and open source software developers    \n",
        "4        aNobii                                              Books    \n",
        "\n",
        "             start          users Registration post responses and questions   \\\n",
        "0  1 January 2005   3,000,000[2]                                       Open    \n",
        "1  September 2008     211,000[4]                                       Open    \n",
        "2    October 2009   5,000,000[6]                                       Open    \n",
        "3             1999     13,575[7]                                       Open    \n",
        "4             2006          Open                                   26,939[9]   \n",
        "\n",
        "      Ranking  \n",
        "0   12,914[3]  \n",
        "1    1,995[5]  \n",
        "2        1447  \n",
        "3  292,620[8]  \n",
        "4         NaN  \n",
        "\n",
        "[5 rows x 6 columns]"
       ]
      }
     ],
     "prompt_number": 4
    },
    {
     "cell_type": "code",
     "collapsed": true,
     "input": [
      "socialmedia_df = aggregate_many_queries(socialmedia[:4])"
     ],
     "language": "python",
     "metadata": {},
     "outputs": [
      {
       "output_type": "stream",
       "stream": "stdout",
       "text": [
        "starting bigquery ... \n",
        "43.?things\n",
        "\r",
        "Waiting on bqjob_r30e667ae1510240c_0000014622cba24b_207 ... (0s) Current status: RUNNING"
       ]
      },
      {
       "output_type": "stream",
       "stream": "stdout",
       "text": [
        " \r",
        "Waiting on bqjob_r30e667ae1510240c_0000014622cba24b_207 ... (2s) Current status: RUNNING "
       ]
      },
      {
       "output_type": "stream",
       "stream": "stdout",
       "text": [
        "\r",
        "Waiting on bqjob_r30e667ae1510240c_0000014622cba24b_207 ... (2s) Current status: DONE   \n",
        "(1, 4)"
       ]
      },
      {
       "output_type": "stream",
       "stream": "stdout",
       "text": [
        "\n",
        "starting bigquery ... \n",
        "academia.edu\n",
        "\r",
        "Waiting on bqjob_r52fc36708a78d5ee_0000014622cbc044_208 ... (0s) Current status: RUNNING"
       ]
      },
      {
       "output_type": "stream",
       "stream": "stdout",
       "text": [
        " \r",
        "Waiting on bqjob_r52fc36708a78d5ee_0000014622cbc044_208 ... (2s) Current status: RUNNING "
       ]
      },
      {
       "output_type": "stream",
       "stream": "stdout",
       "text": [
        "\r",
        "Waiting on bqjob_r52fc36708a78d5ee_0000014622cbc044_208 ... (2s) Current status: DONE   \n",
        "(0, 4)"
       ]
      },
      {
       "output_type": "stream",
       "stream": "stdout",
       "text": [
        "\n",
        "starting bigquery ... \n",
        "about.me\n",
        "\r",
        "Waiting on bqjob_r2629c179cfc6a257_0000014622cbe098_209 ... (0s) Current status: RUNNING"
       ]
      },
      {
       "output_type": "stream",
       "stream": "stdout",
       "text": [
        " \r",
        "Waiting on bqjob_r2629c179cfc6a257_0000014622cbe098_209 ... (0s) Current status: DONE   \n",
        "(314, 4)"
       ]
      },
      {
       "output_type": "stream",
       "stream": "stdout",
       "text": [
        "\n",
        "starting bigquery ... \n",
        "advogato\n",
        "\r",
        "Waiting on bqjob_r39efe03101cf9cc6_0000014622cbf51a_210 ... (0s) Current status: RUNNING"
       ]
      },
      {
       "output_type": "stream",
       "stream": "stdout",
       "text": [
        " \r",
        "Waiting on bqjob_r39efe03101cf9cc6_0000014622cbf51a_210 ... (2s) Current status: RUNNING "
       ]
      },
      {
       "output_type": "stream",
       "stream": "stdout",
       "text": [
        "\r",
        "Waiting on bqjob_r39efe03101cf9cc6_0000014622cbf51a_210 ... (2s) Current status: DONE   \n",
        "(3, 4)"
       ]
      },
      {
       "output_type": "stream",
       "stream": "stdout",
       "text": [
        "\n"
       ]
      }
     ],
     "prompt_number": 16
    },
    {
     "cell_type": "code",
     "collapsed": false,
     "input": [
      "socialmedia_df.shape\n",
      "smdf = socialmedia_df.copy()"
     ],
     "language": "python",
     "metadata": {},
     "outputs": [],
     "prompt_number": 10
    },
    {
     "cell_type": "code",
     "collapsed": false,
     "input": [
      "wikipedia_df = device_specific_repos('wikipedia')"
     ],
     "language": "python",
     "metadata": {},
     "outputs": [
      {
       "output_type": "stream",
       "stream": "stdout",
       "text": [
        "starting bigquery ... \n",
        "wikipedia\n",
        "\r",
        "Waiting on bqjob_r59fd272f98f3e43f_000001461b2a44af_205 ... (0s) Current status: DONE   "
       ]
      },
      {
       "output_type": "stream",
       "stream": "stdout",
       "text": [
        "\n",
        "(4426, 3)"
       ]
      },
      {
       "output_type": "stream",
       "stream": "stdout",
       "text": [
        "\n"
       ]
      }
     ],
     "prompt_number": 7
    },
    {
     "cell_type": "code",
     "collapsed": false,
     "input": [
      "socialmedia_df = pd.concat([socialmedia_df, wikipedia_df])\n",
      "socialmedia_df.shape"
     ],
     "language": "python",
     "metadata": {},
     "outputs": [
      {
       "metadata": {},
       "output_type": "pyout",
       "prompt_number": 9,
       "text": [
        "(159746, 3)"
       ]
      }
     ],
     "prompt_number": 9
    },
    {
     "cell_type": "code",
     "collapsed": false,
     "input": [
      "red.sadd('socialmedia', *socialmedia_df.full_name)"
     ],
     "language": "python",
     "metadata": {},
     "outputs": [
      {
       "metadata": {},
       "output_type": "pyout",
       "prompt_number": 12,
       "text": [
        "154532"
       ]
      }
     ],
     "prompt_number": 12
    },
    {
     "cell_type": "code",
     "collapsed": false,
     "input": [
      "df = device_specific_repos('api')"
     ],
     "language": "python",
     "metadata": {},
     "outputs": [
      {
       "output_type": "stream",
       "stream": "stdout",
       "text": [
        "starting bigquery ... \n",
        "api\n",
        "\r",
        "Waiting on bqjob_r7434e564025a0048_000001462800c75f_1 ... (0s) Current status: RUNNING"
       ]
      },
      {
       "output_type": "stream",
       "stream": "stdout",
       "text": [
        " \r",
        "Waiting on bqjob_r7434e564025a0048_000001462800c75f_1 ... (1s) Current status: RUNNING "
       ]
      },
      {
       "output_type": "stream",
       "stream": "stdout",
       "text": [
        "\r",
        "Waiting on bqjob_r7434e564025a0048_000001462800c75f_1 ... (3s) Current status: RUNNING "
       ]
      },
      {
       "output_type": "stream",
       "stream": "stdout",
       "text": [
        "\r",
        "Waiting on bqjob_r7434e564025a0048_000001462800c75f_1 ... (5s) Current status: RUNNING "
       ]
      },
      {
       "output_type": "stream",
       "stream": "stdout",
       "text": [
        "\r",
        "Waiting on bqjob_r7434e564025a0048_000001462800c75f_1 ... (5s) Current status: DONE   \n",
        "(289449, 4)"
       ]
      },
      {
       "output_type": "stream",
       "stream": "stdout",
       "text": [
        "\n"
       ]
      }
     ],
     "prompt_number": 5
    },
    {
     "cell_type": "code",
     "collapsed": false,
     "input": [
      "df = device_specific_repos('api|sdk', description=False)"
     ],
     "language": "python",
     "metadata": {},
     "outputs": [
      {
       "output_type": "stream",
       "stream": "stdout",
       "text": [
        "starting bigquery ... \n",
        "api|sdk\n",
        "\r",
        "Waiting on bqjob_r7bf9c2220bd051a9_00000146280f7a6c_4 ... (0s) Current status: DONE   "
       ]
      },
      {
       "output_type": "stream",
       "stream": "stdout",
       "text": [
        "\n",
        "(117676, 4)"
       ]
      },
      {
       "output_type": "stream",
       "stream": "stdout",
       "text": [
        "\n"
       ]
      }
     ],
     "prompt_number": 10
    },
    {
     "cell_type": "code",
     "collapsed": false,
     "input": [
      "df.head(20)"
     ],
     "language": "python",
     "metadata": {},
     "outputs": [
      {
       "html": [
        "<div style=\"max-height:1000px;max-width:1500px;overflow:auto;\">\n",
        "<table border=\"1\" class=\"dataframe\">\n",
        "  <thead>\n",
        "    <tr style=\"text-align: right;\">\n",
        "      <th></th>\n",
        "      <th>name</th>\n",
        "      <th>full_name</th>\n",
        "      <th>fork</th>\n",
        "      <th>device</th>\n",
        "    </tr>\n",
        "  </thead>\n",
        "  <tbody>\n",
        "    <tr>\n",
        "      <th>0 </th>\n",
        "      <td>     AndroidKeyLogger</td>\n",
        "      <td> the-darknight/AndroidKeyLogger</td>\n",
        "      <td> 1</td>\n",
        "      <td> api|sdk</td>\n",
        "    </tr>\n",
        "    <tr>\n",
        "      <th>1 </th>\n",
        "      <td>         cashplay-api</td>\n",
        "      <td>          BuddyBet/cashplay-api</td>\n",
        "      <td> 0</td>\n",
        "      <td> api|sdk</td>\n",
        "    </tr>\n",
        "    <tr>\n",
        "      <th>2 </th>\n",
        "      <td>         twitteroauth</td>\n",
        "      <td>     mathijsvdhurk/twitteroauth</td>\n",
        "      <td> 1</td>\n",
        "      <td> api|sdk</td>\n",
        "    </tr>\n",
        "    <tr>\n",
        "      <th>3 </th>\n",
        "      <td>              smgpapi</td>\n",
        "      <td>                7nights/smgpapi</td>\n",
        "      <td> 0</td>\n",
        "      <td> api|sdk</td>\n",
        "    </tr>\n",
        "    <tr>\n",
        "      <th>4 </th>\n",
        "      <td>            sauce-api</td>\n",
        "      <td>           firesofmay/sauce-api</td>\n",
        "      <td> 0</td>\n",
        "      <td> api|sdk</td>\n",
        "    </tr>\n",
        "    <tr>\n",
        "      <th>5 </th>\n",
        "      <td>        wikipedia_api</td>\n",
        "      <td>       gpherguson/wikipedia_api</td>\n",
        "      <td> 0</td>\n",
        "      <td> api|sdk</td>\n",
        "    </tr>\n",
        "    <tr>\n",
        "      <th>6 </th>\n",
        "      <td>   unifiedSeleniumAPI</td>\n",
        "      <td>  musaffirlp/unifiedSeleniumAPI</td>\n",
        "      <td> 1</td>\n",
        "      <td> api|sdk</td>\n",
        "    </tr>\n",
        "    <tr>\n",
        "      <th>7 </th>\n",
        "      <td>               PayLib</td>\n",
        "      <td>                 tehnerd/PayLib</td>\n",
        "      <td> 1</td>\n",
        "      <td> api|sdk</td>\n",
        "    </tr>\n",
        "    <tr>\n",
        "      <th>8 </th>\n",
        "      <td>       realtime-tasks</td>\n",
        "      <td>      CodericDev/realtime-tasks</td>\n",
        "      <td> 1</td>\n",
        "      <td> api|sdk</td>\n",
        "    </tr>\n",
        "    <tr>\n",
        "      <th>9 </th>\n",
        "      <td>  realtime-playground</td>\n",
        "      <td> CodericDev/realtime-playground</td>\n",
        "      <td> 1</td>\n",
        "      <td> api|sdk</td>\n",
        "    </tr>\n",
        "    <tr>\n",
        "      <th>10</th>\n",
        "      <td>       nodes-classify</td>\n",
        "      <td>       ops-baidu/nodes-classify</td>\n",
        "      <td> 0</td>\n",
        "      <td> api|sdk</td>\n",
        "    </tr>\n",
        "    <tr>\n",
        "      <th>11</th>\n",
        "      <td>        Koken-API-PHP</td>\n",
        "      <td>             Haza/Koken-API-PHP</td>\n",
        "      <td> 0</td>\n",
        "      <td> api|sdk</td>\n",
        "    </tr>\n",
        "    <tr>\n",
        "      <th>12</th>\n",
        "      <td>             java-sdk</td>\n",
        "      <td>               kintone/java-sdk</td>\n",
        "      <td> 0</td>\n",
        "      <td> api|sdk</td>\n",
        "    </tr>\n",
        "    <tr>\n",
        "      <th>13</th>\n",
        "      <td>             BitlyPHP</td>\n",
        "      <td>          aureshsaxena/BitlyPHP</td>\n",
        "      <td> 1</td>\n",
        "      <td> api|sdk</td>\n",
        "    </tr>\n",
        "    <tr>\n",
        "      <th>14</th>\n",
        "      <td>            wykop-sdk</td>\n",
        "      <td>                noisy/wykop-sdk</td>\n",
        "      <td> 1</td>\n",
        "      <td> api|sdk</td>\n",
        "    </tr>\n",
        "    <tr>\n",
        "      <th>15</th>\n",
        "      <td>              ivr-sms</td>\n",
        "      <td>            harshkhanna/ivr-sms</td>\n",
        "      <td> 0</td>\n",
        "      <td> api|sdk</td>\n",
        "    </tr>\n",
        "    <tr>\n",
        "      <th>16</th>\n",
        "      <td> facebook-android-sdk</td>\n",
        "      <td>     slott/facebook-android-sdk</td>\n",
        "      <td> 1</td>\n",
        "      <td> api|sdk</td>\n",
        "    </tr>\n",
        "    <tr>\n",
        "      <th>17</th>\n",
        "      <td> facebook-android-sdk</td>\n",
        "      <td> derfshaya/facebook-android-sdk</td>\n",
        "      <td> 1</td>\n",
        "      <td> api|sdk</td>\n",
        "    </tr>\n",
        "    <tr>\n",
        "      <th>18</th>\n",
        "      <td>        AppEngineDemo</td>\n",
        "      <td>         dinodinu/AppEngineDemo</td>\n",
        "      <td> 1</td>\n",
        "      <td> api|sdk</td>\n",
        "    </tr>\n",
        "    <tr>\n",
        "      <th>19</th>\n",
        "      <td>             TiGMap-1</td>\n",
        "      <td>            bangslosan/TiGMap-1</td>\n",
        "      <td> 1</td>\n",
        "      <td> api|sdk</td>\n",
        "    </tr>\n",
        "  </tbody>\n",
        "</table>\n",
        "<p>20 rows \u00d7 4 columns</p>\n",
        "</div>"
       ],
       "metadata": {},
       "output_type": "pyout",
       "prompt_number": 8,
       "text": [
        "                    name                       full_name  fork   device\n",
        "0       AndroidKeyLogger  the-darknight/AndroidKeyLogger     1  api|sdk\n",
        "1           cashplay-api           BuddyBet/cashplay-api     0  api|sdk\n",
        "2           twitteroauth      mathijsvdhurk/twitteroauth     1  api|sdk\n",
        "3                smgpapi                 7nights/smgpapi     0  api|sdk\n",
        "4              sauce-api            firesofmay/sauce-api     0  api|sdk\n",
        "5          wikipedia_api        gpherguson/wikipedia_api     0  api|sdk\n",
        "6     unifiedSeleniumAPI   musaffirlp/unifiedSeleniumAPI     1  api|sdk\n",
        "7                 PayLib                  tehnerd/PayLib     1  api|sdk\n",
        "8         realtime-tasks       CodericDev/realtime-tasks     1  api|sdk\n",
        "9    realtime-playground  CodericDev/realtime-playground     1  api|sdk\n",
        "10        nodes-classify        ops-baidu/nodes-classify     0  api|sdk\n",
        "11         Koken-API-PHP              Haza/Koken-API-PHP     0  api|sdk\n",
        "12              java-sdk                kintone/java-sdk     0  api|sdk\n",
        "13              BitlyPHP           aureshsaxena/BitlyPHP     1  api|sdk\n",
        "14             wykop-sdk                 noisy/wykop-sdk     1  api|sdk\n",
        "15               ivr-sms             harshkhanna/ivr-sms     0  api|sdk\n",
        "16  facebook-android-sdk      slott/facebook-android-sdk     1  api|sdk\n",
        "17  facebook-android-sdk  derfshaya/facebook-android-sdk     1  api|sdk\n",
        "18         AppEngineDemo          dinodinu/AppEngineDemo     1  api|sdk\n",
        "19              TiGMap-1             bangslosan/TiGMap-1     1  api|sdk\n",
        "\n",
        "[20 rows x 4 columns]"
       ]
      }
     ],
     "prompt_number": 8
    }
   ],
   "metadata": {}
  }
 ]
}