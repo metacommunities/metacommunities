{
 "metadata": {
  "name": ""
 },
 "nbformat": 3,
 "nbformat_minor": 0,
 "worksheets": [
  {
   "cells": [
    {
     "cell_type": "code",
     "collapsed": false,
     "input": [
      "import seaborn\n",
      "import matplotlib.pyplot as plt\n",
      "import pandas as pd\n",
      "import pickle\n",
      "import sys\n",
      "sys.path.append('..')\n",
      "import github_api_data as gad\n",
      "import google_bigquery_access as gba"
     ],
     "language": "python",
     "metadata": {},
     "outputs": [],
     "prompt_number": 1
    },
    {
     "cell_type": "markdown",
     "metadata": {},
     "source": [
      "## Get a list of repos and their urls to work with"
     ]
    },
    {
     "cell_type": "code",
     "collapsed": false,
     "input": [
      "repos = gad.get_repos()"
     ],
     "language": "python",
     "metadata": {},
     "outputs": [
      {
       "output_type": "stream",
       "stream": "stdout",
       "text": [
        "fetched  100 rows\n",
        "fetched "
       ]
      },
      {
       "output_type": "stream",
       "stream": "stdout",
       "text": [
        " 200 rows\n",
        "fetched "
       ]
      },
      {
       "output_type": "stream",
       "stream": "stdout",
       "text": [
        " 300 rows\n",
        "fetched "
       ]
      },
      {
       "output_type": "stream",
       "stream": "stdout",
       "text": [
        " 400 rows\n",
        "fetched "
       ]
      },
      {
       "output_type": "stream",
       "stream": "stdout",
       "text": [
        " 500 rows\n"
       ]
      }
     ],
     "prompt_number": 3
    },
    {
     "cell_type": "code",
     "collapsed": false,
     "input": [
      "# download event data for a sample of them\n",
      "eve = gad.get_repository_event(url = repos.url.values[0])"
     ],
     "language": "python",
     "metadata": {},
     "outputs": [
      {
       "output_type": "stream",
       "stream": "stdout",
       "text": [
        "https://api.github.com/repositories/1/events?page=2\n",
        "https://api.github.com/repositories/1/events?page=3&per_page=100"
       ]
      },
      {
       "output_type": "stream",
       "stream": "stdout",
       "text": [
        "\n",
        "https://api.github.com/repositories/1/events?page=4&per_page=100"
       ]
      },
      {
       "output_type": "stream",
       "stream": "stdout",
       "text": [
        "\n",
        "https://api.github.com/repositories/1/events?page=5&per_page=100"
       ]
      },
      {
       "output_type": "stream",
       "stream": "stdout",
       "text": [
        "\n",
        "https://api.github.com/repositories/1/events?page=6&per_page=100"
       ]
      },
      {
       "output_type": "stream",
       "stream": "stdout",
       "text": [
        "\n",
        "https://api.github.com/repositories/1/events?page=7&per_page=100"
       ]
      },
      {
       "output_type": "stream",
       "stream": "stdout",
       "text": [
        "\n",
        "https://api.github.com/repositories/1/events?page=8&per_page=100"
       ]
      },
      {
       "output_type": "stream",
       "stream": "stdout",
       "text": [
        "\n",
        "https://api.github.com/repositories/1/events?page=9&per_page=100"
       ]
      },
      {
       "output_type": "stream",
       "stream": "stdout",
       "text": [
        "\n",
        "https://api.github.com/repositories/1/events?page=10&per_page=100"
       ]
      },
      {
       "output_type": "stream",
       "stream": "stdout",
       "text": [
        "\n"
       ]
      }
     ],
     "prompt_number": 5
    },
    {
     "cell_type": "code",
     "collapsed": false,
     "input": [
      "pickle.dump(eve, open('data/one_repos_events.pyd', 'wb'))"
     ],
     "language": "python",
     "metadata": {},
     "outputs": [],
     "prompt_number": 6
    },
    {
     "cell_type": "code",
     "collapsed": false,
     "input": [
      "eve = pickle.load(open('data/one_repos_events.pyd', 'rb'))"
     ],
     "language": "python",
     "metadata": {},
     "outputs": [],
     "prompt_number": 8
    },
    {
     "cell_type": "code",
     "collapsed": false,
     "input": [
      "eve[0]"
     ],
     "language": "python",
     "metadata": {},
     "outputs": [
      {
       "metadata": {},
       "output_type": "pyout",
       "prompt_number": 22,
       "text": [
        "{u'actor': {u'avatar_url': u'https://gravatar.com/avatar/05cb456ddf4bc0f5955291651f5f51a6?d=https%3A%2F%2Fa248.e.akamai.net%2Fassets.github.com%2Fimages%2Fgravatars%2Fgravatar-user-420.png&r=x',\n",
        "  u'gravatar_id': u'05cb456ddf4bc0f5955291651f5f51a6',\n",
        "  u'id': 121853,\n",
        "  u'login': u'msalzburg',\n",
        "  u'url': u'https://api.github.com/users/msalzburg'},\n",
        " u'created_at': u'2013-12-12T15:29:35Z',\n",
        " u'id': u'1916606251',\n",
        " u'payload': {u'action': u'started'},\n",
        " u'public': True,\n",
        " u'repo': {u'id': 1,\n",
        "  u'name': u'mojombo/grit',\n",
        "  u'url': u'https://api.github.com/repos/mojombo/grit'},\n",
        " u'type': u'WatchEvent'}"
       ]
      }
     ],
     "prompt_number": 22
    },
    {
     "cell_type": "code",
     "collapsed": false,
     "input": [
      "len(eve)"
     ],
     "language": "python",
     "metadata": {},
     "outputs": [
      {
       "metadata": {},
       "output_type": "pyout",
       "prompt_number": 6,
       "text": [
        "300"
       ]
      }
     ],
     "prompt_number": 6
    },
    {
     "cell_type": "code",
     "collapsed": false,
     "input": [
      "created_at = [e['created_at'] for e in eve]"
     ],
     "language": "python",
     "metadata": {},
     "outputs": [],
     "prompt_number": 9
    },
    {
     "cell_type": "code",
     "collapsed": false,
     "input": [
      "event = [e['type'] for e in eve]"
     ],
     "language": "python",
     "metadata": {},
     "outputs": [],
     "prompt_number": 25
    },
    {
     "cell_type": "code",
     "collapsed": false,
     "input": [
      "ids = [e['actor']['id'] for e in eve]"
     ],
     "language": "python",
     "metadata": {},
     "outputs": [],
     "prompt_number": 26
    },
    {
     "cell_type": "code",
     "collapsed": false,
     "input": [
      "d = {'time':created_at, 'event':event, 'id':ids}"
     ],
     "language": "python",
     "metadata": {},
     "outputs": [],
     "prompt_number": 30
    },
    {
     "cell_type": "code",
     "collapsed": false,
     "input": [
      "df = pd.DataFrame(d)"
     ],
     "language": "python",
     "metadata": {},
     "outputs": [],
     "prompt_number": 31
    },
    {
     "cell_type": "code",
     "collapsed": false,
     "input": [
      "df.head()"
     ],
     "language": "python",
     "metadata": {},
     "outputs": [
      {
       "html": [
        "<div style=\"max-height:1000px;max-width:1500px;overflow:auto;\">\n",
        "<table border=\"1\" class=\"dataframe\">\n",
        "  <thead>\n",
        "    <tr style=\"text-align: right;\">\n",
        "      <th></th>\n",
        "      <th>event</th>\n",
        "      <th>id</th>\n",
        "      <th>time</th>\n",
        "    </tr>\n",
        "  </thead>\n",
        "  <tbody>\n",
        "    <tr>\n",
        "      <th>0</th>\n",
        "      <td> WatchEvent</td>\n",
        "      <td>  121853</td>\n",
        "      <td> 2013-12-12T15:29:35Z</td>\n",
        "    </tr>\n",
        "    <tr>\n",
        "      <th>1</th>\n",
        "      <td> WatchEvent</td>\n",
        "      <td>  362784</td>\n",
        "      <td> 2013-12-12T04:24:03Z</td>\n",
        "    </tr>\n",
        "    <tr>\n",
        "      <th>2</th>\n",
        "      <td> WatchEvent</td>\n",
        "      <td>  404659</td>\n",
        "      <td> 2013-12-11T17:02:05Z</td>\n",
        "    </tr>\n",
        "    <tr>\n",
        "      <th>3</th>\n",
        "      <td>  ForkEvent</td>\n",
        "      <td>  436536</td>\n",
        "      <td> 2013-12-11T14:39:13Z</td>\n",
        "    </tr>\n",
        "    <tr>\n",
        "      <th>4</th>\n",
        "      <td> WatchEvent</td>\n",
        "      <td> 2290461</td>\n",
        "      <td> 2013-12-10T02:05:58Z</td>\n",
        "    </tr>\n",
        "  </tbody>\n",
        "</table>\n",
        "</div>"
       ],
       "metadata": {},
       "output_type": "pyout",
       "prompt_number": 36,
       "text": [
        "        event       id                  time\n",
        "0  WatchEvent   121853  2013-12-12T15:29:35Z\n",
        "1  WatchEvent   362784  2013-12-12T04:24:03Z\n",
        "2  WatchEvent   404659  2013-12-11T17:02:05Z\n",
        "3   ForkEvent   436536  2013-12-11T14:39:13Z\n",
        "4  WatchEvent  2290461  2013-12-10T02:05:58Z"
       ]
      }
     ],
     "prompt_number": 36
    },
    {
     "cell_type": "code",
     "collapsed": false,
     "input": [
      "df.event.value_counts()"
     ],
     "language": "python",
     "metadata": {},
     "outputs": [
      {
       "metadata": {},
       "output_type": "pyout",
       "prompt_number": 34,
       "text": [
        "WatchEvent                       196\n",
        "ForkEvent                         65\n",
        "IssueCommentEvent                 17\n",
        "PullRequestEvent                  10\n",
        "IssuesEvent                        7\n",
        "PullRequestReviewCommentEvent      4\n",
        "GollumEvent                        1\n",
        "dtype: int64"
       ]
      }
     ],
     "prompt_number": 34
    },
    {
     "cell_type": "code",
     "collapsed": false,
     "input": [
      "df.time = pd.to_datetime(df.time)"
     ],
     "language": "python",
     "metadata": {},
     "outputs": [],
     "prompt_number": 40
    },
    {
     "cell_type": "code",
     "collapsed": false,
     "input": [
      "df.time.plot(kind='line')"
     ],
     "language": "python",
     "metadata": {},
     "outputs": [
      {
       "metadata": {},
       "output_type": "pyout",
       "prompt_number": 42,
       "text": [
        "<matplotlib.axes.AxesSubplot at 0x67ff1d0>"
       ]
      },
      {
       "metadata": {},
       "output_type": "display_data",
       "png": "[encoded data removed]",
       "text": [
        "<matplotlib.figure.Figure at 0x6800cd0>"
       ]
      }
     ],
     "prompt_number": 42
    }
   ],
   "metadata": {}
  }
 ]
}