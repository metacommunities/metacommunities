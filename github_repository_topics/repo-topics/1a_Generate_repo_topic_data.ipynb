{
 "metadata": {
  "name": ""
 },
 "nbformat": 3,
 "nbformat_minor": 0,
 "worksheets": [
  {
   "cells": [
    {
     "cell_type": "code",
     "collapsed": false,
     "input": [
      "import redis\n",
      "import pandas as pd\n",
      "import re"
     ],
     "language": "python",
     "metadata": {},
     "outputs": [],
     "prompt_number": 1
    },
    {
     "cell_type": "code",
     "collapsed": false,
     "input": [
      "repo_table = 'metacommunities:github_proper.repo_list'\n",
      "red = redis.Redis(db='1')\n",
      "\n",
      "# this loads around 10 million repo names, so its a bit slow\n",
      "%timeit -r 1 repo_list = pd.read_pickle('data/repo_list.pyd')\n"
     ],
     "language": "python",
     "metadata": {},
     "outputs": [
      {
       "output_type": "stream",
       "stream": "stdout",
       "text": [
        "1 loops, best of 1: 38.1 s per loop\n"
       ]
      }
     ],
     "prompt_number": 12
    },
    {
     "cell_type": "code",
     "collapsed": false,
     "input": [
      "# only run this if the repo_list has been updated\n",
      "pipe = red.pipeline()\n",
      "step = 100000\n",
      "for i in range(0, len(repo_list), step):\n",
      "    pipe.sadd('repos:list', *repo_list[i:i+step])\n",
      "    pipe.execute()"
     ],
     "language": "python",
     "metadata": {},
     "outputs": [],
     "prompt_number": 27
    },
    {
     "cell_type": "code",
     "collapsed": false,
     "input": [
      "def construct_repo_df_using_local(query):\n",
      "    \"\"\" For a given query, return all the repo full names from the local\n",
      "    copy of all the repo names.\n",
      "    It uses regular expression   on a list to do this.\n",
      "    \n",
      "    @param: regular expression query\n",
      "    \"\"\"\n",
      "    if repo_list is not None:\n",
      "        full_df = pd.DataFrame(repo_list[repo_list.str.contains(query)], columns = ['full_name'])\n",
      "        print(full_df.shape)\n",
      "        return full_df\n",
      "    else:\n",
      "        return None"
     ],
     "language": "python",
     "metadata": {},
     "outputs": [],
     "prompt_number": 21
    },
    {
     "cell_type": "code",
     "collapsed": false,
     "input": [
      "\n",
      "def repo_query(query):\n",
      "    \"\"\" Runs simple GLOB-style queries against the list of all repo fullnames\n",
      "    in the Redis database\"\"\"\n",
      "    \n",
      "    query_formatted  = '*{}*'.format(query)\n",
      "    more_results = True\n",
      "    results = []\n",
      "    c=0\n",
      "    while more_results:\n",
      "        c, res =  red.sscan('repos:list', cursor=c, match = query_formatted, count = 10000000)\n",
      "        results.extend(res)\n",
      "        if c is '0':\n",
      "            more_results=False\n",
      "    print ('Found {0} repositories for query {1}'.format(len(results), query))\n",
      "    return results"
     ],
     "language": "python",
     "metadata": {},
     "outputs": [],
     "prompt_number": 22
    },
    {
     "cell_type": "code",
     "collapsed": false,
     "input": [
      "def construct_repo_df(query, description = False, local =True):\n",
      "    \"\"\" For a given query, return all the repo names, full names and fork\n",
      "    from the master list of reponames held on the githubarchive timeline.\n",
      "    It uses regular expression to do this and queries the table: metacommunities:github_proper.repo_list.\n",
      "    \n",
      "    @param: description - if True, will use the 'description' field too\n",
      "    @param: local - if True, will use the local copy of the repo names\"\"\"\n",
      "    \n",
      "    query = query.lower()\n",
      "    #to deal with the way people name repositories, try various separator characters\n",
      "    query = re.subn('[-_\\s+]', '.?', query)[0]\n",
      "    query = re.subn('[,\\(\\):]', '', query)[0]\n",
      "    print query\n",
      "    \n",
      "    if local:\n",
      "        return construct_repo_df_using_local(query)\n",
      "    else:\n",
      "        print('starting bigquery ... ')\n",
      "    \n",
      "        if description:\n",
      "            full_query = 'SELECT name, full_name, fork FROM [github_proper.repo_list] where regexp_match(lower(name),\"' + query +'\") or regexp_match(description,\"'+ query +'\")'\n",
      "\n",
      "        else:\n",
      "            full_query = 'SELECT name, full_name, fork FROM [github_proper.repo_list] where regexp_match(lower(name),\"' + query +'\")'\n",
      "\n",
      "        full_df = pd.io.gbq.read_gbq(full_query)\n",
      "        print(full_df.shape)\n",
      "        return full_df"
     ],
     "language": "python",
     "metadata": {},
     "outputs": [],
     "prompt_number": 23
    },
    {
     "cell_type": "code",
     "collapsed": false,
     "input": [
      "query = 'facebook'\n",
      "%timeit repo_query(query)"
     ],
     "language": "python",
     "metadata": {},
     "outputs": [
      {
       "output_type": "stream",
       "stream": "stdout",
       "text": [
        "Found 22020 repositories for query facebook\n",
        "Found 22020 repositories for query facebook"
       ]
      },
      {
       "output_type": "stream",
       "stream": "stdout",
       "text": [
        "\n",
        "Found 22020 repositories for query facebook"
       ]
      },
      {
       "output_type": "stream",
       "stream": "stdout",
       "text": [
        "\n",
        "Found 22020 repositories for query facebook"
       ]
      },
      {
       "output_type": "stream",
       "stream": "stdout",
       "text": [
        "\n",
        "1 loops, best of 3: 13.2 s per loop\n"
       ]
      }
     ],
     "prompt_number": 7
    },
    {
     "cell_type": "code",
     "collapsed": false,
     "input": [
      "query = 'facebook|twitter'\n",
      "%timeit construct_repo_df_using_local(query)"
     ],
     "language": "python",
     "metadata": {},
     "outputs": [
      {
       "output_type": "stream",
       "stream": "stdout",
       "text": [
        "(51174, 1)\n",
        "(51174, 1)"
       ]
      },
      {
       "output_type": "stream",
       "stream": "stdout",
       "text": [
        "\n",
        "(51174, 1)"
       ]
      },
      {
       "output_type": "stream",
       "stream": "stdout",
       "text": [
        "\n",
        "(51174, 1)"
       ]
      },
      {
       "output_type": "stream",
       "stream": "stdout",
       "text": [
        "\n",
        "1 loops, best of 3: 9.45 s per loop\n"
       ]
      }
     ],
     "prompt_number": 9
    },
    {
     "cell_type": "markdown",
     "metadata": {},
     "source": [
      "# Topics of github repos \n",
      "\n",
      "How far in classifying all the repositories can we get by using repo names? And also departing from the github showcases?\n",
      "I'm taking a fairly rough but encompassing approach by using lists of sofware from various sources.  I've cleaned the lists quite a bit in making them. \n",
      "\n",
      "## List of topics/domains\n",
      "\n",
      "There are three main sources of topics I'm drawing on here. \n",
      "\n",
      "1. List of software, often found on wikipedia or specialist sites\n",
      "2. A big list (several thousand) of file formats categorised by domain\n",
      "3. A list of disciplines and fields\n",
      "\n",
      "Combining these helps identify components of github repository names. \n",
      "I've also got an idea that these components constitute an intensive time-space metacommunity. \n"
     ]
    },
    {
     "cell_type": "markdown",
     "metadata": {},
     "source": [
      "## Possible domains:\n",
      "\n",
      "\n",
      "\n",
      "1. databases: -- use a list of them: see http://db-engines.com/en/ranking -- DONE\n",
      "2. web frameworks: -- use a list of them -- apache, ruby on rails, asp.net, symphony, etc: see http://hotframeworks.com/ DONE\n",
      "3. editing tools and code development tools: -- using a list of them -- wikipedia has one http://en.wikipedia.org/wiki/List_of_text_editors; and for ides: http://en.wikipedia.org/wiki/Comparison_of_integrated_development_environments\n",
      "4. github and git components: -- need to use search on reponame for these; -- DONE\n",
      "5. test repos for testing github use: -- query reponames for 'test|try|demo|hello' -- DONE\n",
      "6. dot or config files for bash, zsh, tmux, csh, vim, emacs: , etc -- list for these including 'bash|zsh|tmux|csh|vim|emacs|dot?file' -- DONE\n",
      "7. javascript libraries for web pages: - jquery, bootstrap  - http://en.wikipedia.org/wiki/List_of_JavaScript_libraries DONE\n",
      "8. data visualization: d3.js, ggplot2, matplotlib, 'dashboard|infoviz|chart|plot'\n",
      "9. machine learning: in title or in description -- the phrase, plus 'advanced analytics'; perhaps algorithms by name - vowpal, support vector machine, neural net, etc - http://en.wikipedia.org/wiki/List_of_machine_learning_algorithms and added a list of software from  http://en.wikipedia.org/wiki/Machine_learning -- DONE\n",
      "10. icons and fonts and emojis: -- just search for these literals in the name -- DONE\n",
      "11. css tools and libraries: -- css like bootstrap -- http://en.wikipedia.org/wiki/CSS_frameworks -- DONE\n",
      "12. package and library management: -- rubygems, apt, cran, cpan, homebrew, etc - http://en.wikipedia.org/wiki/List_of_software_package_management_systems -- DONE\n",
      "13. server administration, virtualization and infrastructural services: -- chef, including operating systems and cloud platforms like azure, etcsee http://newrelic.com/devops/toolset -- DONE\n",
      "14. drawing and graphic design: -- gimp, inkscape, svg, png, illustrator, sketch, draw, cad, raytrace -- CHECK FILE FORMATS on this\n",
      "15. video, sound and image processing: --  'video, youtube, image,  jpeg, mp3, mpeg, audio, sound, photograph' -- DONE\n",
      "16. code cleaning: -- linters\n",
      "17. policies: -- legal, political, data, \n",
      "18. books: -- mainly technical, but probably others too; tons of these, but many are code-based. Used manual query.  -- DONE\n",
      "19. games: -- use 'game' in the reponames -- again, many just with this simple query, but also 'xbox, ps3, wii', '['game', 'xbox', 'playstation', 'wii', 'kinect', 'nintendo', 'minecraft', 'warcraft']. -- DONE\n",
      "20. programming languages: -- development of the languages, but also as programming platforms against on which things are made\n",
      "21. computational architectures and operating systems: -- linux, openwrt  -- DONE?\n",
      "22. science and modelling: -- of what? molecules, populations, dynamic systems, etc -- huge list of disciplines http://en.wikipedia.org/wiki/List_of_academic_disciplines_and_sub-disciplines that I've downloaded and cleaned a bit.  -- DONE\n",
      "23. hardware devices: -- arduino, raspberry pi, android, ios, blackberry - they bring many libraries to them; --'arduino|raspberry|android|ios|blackberry|armv|symbian'  DONE\n",
      "24. data manipulation, statistics and calculation: -- pandas, numpy, but also spreadsheets -- hard to define this list -- I started with this http://en.wikipedia.org/wiki/List_of_statistical_packages  and then appended this http://en.wikipedia.org/wiki/List_of_numerical_analysis_software -- DONE\n",
      "25. build and build management tools: -- compilers, but also continuous systems like Jenkins -- http://en.wikipedia.org/wiki/List_of_compilers; http://en.wikipedia.org/wiki/Continuous_integration#Software -- DONE\n",
      "26. maps and gis: -- libraries, tools and maps -- search for gps, geo, gis - http://en.wikipedia.org/wiki/List_of_geographic_information_systems_software - DONE\n",
      "27. business software: -- accounting, finance, personal or business including spreadsheets (xls) \n",
      "28. data processing architectures: -- Hadoop\n",
      "30. Social media platforms: -- how could I forget -- http://en.wikipedia.org/wiki/List_of_social_networking_websites -- DONE\n",
      "31. internet protocols and services: - ftp, smtp, etc, etc -- used http://en.wikipedia.org/wiki/Lists_of_network_protocols  DONE -- might need to add more to the list of 18 -- DONE\n",
      "32. document processing: -- wordprocessing, desktop publishing, presentations, docx, markdown, latex, etc; then just 'document|presentation|' -- DONE\n",
      "32. Github as a blog or webpage: -- search for 'github.com|github.io' -- DONE\n",
      "33. cracks and downloads: -- 'crack|download' -- DONE\n",
      "34. filehandling tools: -- archives, compression, etc -- use fileformats? -- no, put them into packages -- DONE\n",
      "35. educational platforms: -- list form wikipedia@ -  DONE\n",
      "36. apis and sdks: -- this a really wide ranging query -- DONE"
     ]
    },
    {
     "cell_type": "markdown",
     "metadata": {},
     "source": [
      "Each of these domains -- and there are probably more to be added -- is populated by a range of different pieces of software, implemented in different languages, and with different relations to each other. Even assembling a fully list of the main pieces of software would be a significant achievement, and useful in making sense of why Github looks like it does. There would also be many overlaps between them. \n",
      "\n",
      "The aim would be to process all of the 12 million repo names in the list and try to classify them using a mixture of rules. Given the name of a repo, what it groups does it belong to. The mapping that results would be like a treemap, with some blurry edges. "
     ]
    },
    {
     "cell_type": "markdown",
     "metadata": {},
     "source": [
      "#  File formats\n",
      "\n",
      "This is a huge list. They provide pointers to different domains and connect between them (e.g. xml, json vs svg, etc). See http://en.wikipedia.org/wiki/List_of_file_formats; could be interesting to use this as a lens overall; or as a way to augment any of the list givens above all.  "
     ]
    },
    {
     "cell_type": "markdown",
     "metadata": {},
     "source": [
      "# Repo domains"
     ]
    },
    {
     "cell_type": "code",
     "collapsed": true,
     "input": [
      "file_formats = pd.read_csv('topic_lists/file_formats.csv', sep='\\t', header=None, names = ['domain', 'filetype', 'description'])\n",
      "file_formats = file_formats.apply(lambda x: x.str.strip().str.lower())\n",
      "file_formats['domain'].value_counts()"
     ],
     "language": "python",
     "metadata": {},
     "outputs": [
      {
       "metadata": {},
       "output_type": "pyout",
       "prompt_number": 2,
       "text": [
        "graphics                                 162\n",
        "video game data                          122\n",
        "source code for computer programs         88\n",
        "computer-aided                            87\n",
        "sound and music                           75\n",
        "archive and compressed                    73\n",
        "document                                  65\n",
        "database                                  59\n",
        "script                                    46\n",
        "object code                               41\n",
        "spreadsheet                               34\n",
        "video                                     31\n",
        "electronic design automation (eda)        29\n",
        "webpage                                   24\n",
        "presentation                              22\n",
        "molecular biology and bioinformatics:     22\n",
        "font file                                 21\n",
        "physical recordable media archiving       20\n",
        "virtual machines                          19\n",
        "biomedical signals (time series)          18\n",
        "audio editing                             17\n",
        "geographic information system             14\n",
        "page description language                 14\n",
        "signal data (non-audio)                   13\n",
        "desktop publishing                        12\n",
        "biomedical imaging                        11\n",
        "scientific data (data exchange)            9\n",
        "graphical information organizers           8\n",
        "playlists                                  8\n",
        "video editing                              7\n",
        "xml                                        7\n",
        "personal information manager               6\n",
        "multi-domain                               5\n",
        "qemu                                       4\n",
        "financial records                          4\n",
        "tabulated data                             4\n",
        "chemistry                                  4\n",
        "meteorology                                4\n",
        "mathematical                               4\n",
        "parallels workstation                      3\n",
        "reference management software              3\n",
        "other biomedical formats                   2\n",
        "project management software                1\n",
        "test technology                            1\n",
        "mathematics                                1\n",
        "dtype: int64"
       ]
      }
     ],
     "prompt_number": 2
    },
    {
     "cell_type": "code",
     "collapsed": false,
     "input": [
      "file_formats.ix[file_formats['domain'] == 'graphics']"
     ],
     "language": "python",
     "metadata": {},
     "outputs": [
      {
       "html": [
        "<div style=\"max-height:1000px;max-width:1500px;overflow:auto;\">\n",
        "<table border=\"1\" class=\"dataframe\">\n",
        "  <thead>\n",
        "    <tr style=\"text-align: right;\">\n",
        "      <th></th>\n",
        "      <th>domain</th>\n",
        "      <th>filetype</th>\n",
        "      <th>description</th>\n",
        "    </tr>\n",
        "  </thead>\n",
        "  <tbody>\n",
        "    <tr>\n",
        "      <th>395</th>\n",
        "      <td> graphics</td>\n",
        "      <td>                                               act</td>\n",
        "      <td> adobe color table. contains a raw color palett...</td>\n",
        "    </tr>\n",
        "    <tr>\n",
        "      <th>396</th>\n",
        "      <td> graphics</td>\n",
        "      <td>                                               pal</td>\n",
        "      <td>                            microsoft palette file</td>\n",
        "    </tr>\n",
        "    <tr>\n",
        "      <th>397</th>\n",
        "      <td> graphics</td>\n",
        "      <td>                                   raster graphics</td>\n",
        "      <td>                                               NaN</td>\n",
        "    </tr>\n",
        "    <tr>\n",
        "      <th>398</th>\n",
        "      <td> graphics</td>\n",
        "      <td> raster (or bitmap) files store images as a gro...</td>\n",
        "      <td>                                               NaN</td>\n",
        "    </tr>\n",
        "    <tr>\n",
        "      <th>399</th>\n",
        "      <td> graphics</td>\n",
        "      <td>                                               ase</td>\n",
        "      <td>                                      adobe swatch</td>\n",
        "    </tr>\n",
        "    <tr>\n",
        "      <th>400</th>\n",
        "      <td> graphics</td>\n",
        "      <td>                                               art</td>\n",
        "      <td>                 america online proprietary format</td>\n",
        "    </tr>\n",
        "    <tr>\n",
        "      <th>401</th>\n",
        "      <td> graphics</td>\n",
        "      <td>                                               bmp</td>\n",
        "      <td>          microsoft windows bitmap formatted image</td>\n",
        "    </tr>\n",
        "    <tr>\n",
        "      <th>402</th>\n",
        "      <td> graphics</td>\n",
        "      <td>                                               blp</td>\n",
        "      <td>                                             .ilbm</td>\n",
        "    </tr>\n",
        "    <tr>\n",
        "      <th>403</th>\n",
        "      <td> graphics</td>\n",
        "      <td>                                               cd5</td>\n",
        "      <td>                             chasys draw ies image</td>\n",
        "    </tr>\n",
        "    <tr>\n",
        "      <th>404</th>\n",
        "      <td> graphics</td>\n",
        "      <td>                                               cit</td>\n",
        "      <td>                              jfif (.jpg or .jpeg)</td>\n",
        "    </tr>\n",
        "    <tr>\n",
        "      <th>405</th>\n",
        "      <td> graphics</td>\n",
        "      <td>                                               cpt</td>\n",
        "      <td>                           corel photo-paint image</td>\n",
        "    </tr>\n",
        "    <tr>\n",
        "      <th>406</th>\n",
        "      <td> graphics</td>\n",
        "      <td>                                               cr2</td>\n",
        "      <td> canon camera raw format. photos will have this...</td>\n",
        "    </tr>\n",
        "    <tr>\n",
        "      <th>407</th>\n",
        "      <td> graphics</td>\n",
        "      <td>                                               cut</td>\n",
        "      <td>                               dr. halo image file</td>\n",
        "    </tr>\n",
        "    <tr>\n",
        "      <th>408</th>\n",
        "      <td> graphics</td>\n",
        "      <td>                                               dds</td>\n",
        "      <td>                              directx texture file</td>\n",
        "    </tr>\n",
        "    <tr>\n",
        "      <th>409</th>\n",
        "      <td> graphics</td>\n",
        "      <td>                                               dib</td>\n",
        "      <td>                 device-independent bitmap graphic</td>\n",
        "    </tr>\n",
        "    <tr>\n",
        "      <th>410</th>\n",
        "      <td> graphics</td>\n",
        "      <td>                                              djvu</td>\n",
        "      <td>                        djvu for scanned documents</td>\n",
        "    </tr>\n",
        "    <tr>\n",
        "      <th>411</th>\n",
        "      <td> graphics</td>\n",
        "      <td>                                               egt</td>\n",
        "      <td>                            egt universal document</td>\n",
        "    </tr>\n",
        "    <tr>\n",
        "      <th>412</th>\n",
        "      <td> graphics</td>\n",
        "      <td>                                              exif</td>\n",
        "      <td> exchangeable image file format (exif) is a spe...</td>\n",
        "    </tr>\n",
        "    <tr>\n",
        "      <th>413</th>\n",
        "      <td> graphics</td>\n",
        "      <td>                                               gif</td>\n",
        "      <td>          compuserve's graphics interchange format</td>\n",
        "    </tr>\n",
        "    <tr>\n",
        "      <th>414</th>\n",
        "      <td> graphics</td>\n",
        "      <td>                                               gpl</td>\n",
        "      <td>                                      gimp palette</td>\n",
        "    </tr>\n",
        "    <tr>\n",
        "      <th>415</th>\n",
        "      <td> graphics</td>\n",
        "      <td>                                               grf</td>\n",
        "      <td>             zebra technologies proprietary format</td>\n",
        "    </tr>\n",
        "    <tr>\n",
        "      <th>416</th>\n",
        "      <td> graphics</td>\n",
        "      <td>                                              icns</td>\n",
        "      <td> file format use for icons in mac os x. contain...</td>\n",
        "    </tr>\n",
        "    <tr>\n",
        "      <th>417</th>\n",
        "      <td> graphics</td>\n",
        "      <td>                                               ico</td>\n",
        "      <td> a file format used for icons in microsoft wind...</td>\n",
        "    </tr>\n",
        "    <tr>\n",
        "      <th>418</th>\n",
        "      <td> graphics</td>\n",
        "      <td>                                         iff (.iff</td>\n",
        "      <td>                                              ilbm</td>\n",
        "    </tr>\n",
        "    <tr>\n",
        "      <th>419</th>\n",
        "      <td> graphics</td>\n",
        "      <td>                                               jng</td>\n",
        "      <td> a single-frame mng using jpeg compression and ...</td>\n",
        "    </tr>\n",
        "    <tr>\n",
        "      <th>420</th>\n",
        "      <td> graphics</td>\n",
        "      <td>                                              jpeg</td>\n",
        "      <td>                           deluxe paint image file</td>\n",
        "    </tr>\n",
        "    <tr>\n",
        "      <th>421</th>\n",
        "      <td> graphics</td>\n",
        "      <td>                                               jp2</td>\n",
        "      <td>                       scansoft paperport document</td>\n",
        "    </tr>\n",
        "    <tr>\n",
        "      <th>422</th>\n",
        "      <td> graphics</td>\n",
        "      <td>                                               jps</td>\n",
        "      <td>                  imagemagick's native file format</td>\n",
        "    </tr>\n",
        "    <tr>\n",
        "      <th>423</th>\n",
        "      <td> graphics</td>\n",
        "      <td>                                               lbm</td>\n",
        "      <td>                         multiple network graphics</td>\n",
        "    </tr>\n",
        "    <tr>\n",
        "      <th>424</th>\n",
        "      <td> graphics</td>\n",
        "      <td>                                               max</td>\n",
        "      <td> a file format used by old versions of microsof...</td>\n",
        "    </tr>\n",
        "    <tr>\n",
        "      <th>425</th>\n",
        "      <td> graphics</td>\n",
        "      <td>                                              miff</td>\n",
        "      <td>                                               pct</td>\n",
        "    </tr>\n",
        "    <tr>\n",
        "      <th>426</th>\n",
        "      <td> graphics</td>\n",
        "      <td>                                               mng</td>\n",
        "      <td> a specification designed by nokia for black an...</td>\n",
        "    </tr>\n",
        "    <tr>\n",
        "      <th>427</th>\n",
        "      <td> graphics</td>\n",
        "      <td>                                               msp</td>\n",
        "      <td>                                   portable bitmap</td>\n",
        "    </tr>\n",
        "    <tr>\n",
        "      <th>428</th>\n",
        "      <td> graphics</td>\n",
        "      <td>                                              nitf</td>\n",
        "      <td>                                    low resolution</td>\n",
        "    </tr>\n",
        "    <tr>\n",
        "      <th>429</th>\n",
        "      <td> graphics</td>\n",
        "      <td>                  ota bitmap (over the air bitmap)</td>\n",
        "      <td>                                 medium resolution</td>\n",
        "    </tr>\n",
        "    <tr>\n",
        "      <th>430</th>\n",
        "      <td> graphics</td>\n",
        "      <td>                                               pbm</td>\n",
        "      <td>                                   high resolution</td>\n",
        "    </tr>\n",
        "    <tr>\n",
        "      <th>431</th>\n",
        "      <td> graphics</td>\n",
        "      <td>                                               pc1</td>\n",
        "      <td>                                               pdd</td>\n",
        "    </tr>\n",
        "    <tr>\n",
        "      <th>432</th>\n",
        "      <td> graphics</td>\n",
        "      <td>                                               pc2</td>\n",
        "      <td>        a lossless format used by zsoft's pc paint</td>\n",
        "    </tr>\n",
        "    <tr>\n",
        "      <th>433</th>\n",
        "      <td> graphics</td>\n",
        "      <td>                                               pc3</td>\n",
        "      <td>                                               NaN</td>\n",
        "    </tr>\n",
        "    <tr>\n",
        "      <th>434</th>\n",
        "      <td> graphics</td>\n",
        "      <td>                                               pcf</td>\n",
        "      <td>                                               NaN</td>\n",
        "    </tr>\n",
        "    <tr>\n",
        "      <th>435</th>\n",
        "      <td> graphics</td>\n",
        "      <td>                                               pcx</td>\n",
        "      <td>                                               NaN</td>\n",
        "    </tr>\n",
        "    <tr>\n",
        "      <th>436</th>\n",
        "      <td> graphics</td>\n",
        "      <td>                                               pdn</td>\n",
        "      <td>                              paint.net image file</td>\n",
        "    </tr>\n",
        "    <tr>\n",
        "      <th>437</th>\n",
        "      <td> graphics</td>\n",
        "      <td>                                               pgm</td>\n",
        "      <td>                                  portable graymap</td>\n",
        "    </tr>\n",
        "    <tr>\n",
        "      <th>438</th>\n",
        "      <td> graphics</td>\n",
        "      <td>                                               pi1</td>\n",
        "      <td>                                    low resolution</td>\n",
        "    </tr>\n",
        "    <tr>\n",
        "      <th>439</th>\n",
        "      <td> graphics</td>\n",
        "      <td>                                               pi2</td>\n",
        "      <td>                                 medium resolution</td>\n",
        "    </tr>\n",
        "    <tr>\n",
        "      <th>440</th>\n",
        "      <td> graphics</td>\n",
        "      <td>                                               pi3</td>\n",
        "      <td>                                               rgb</td>\n",
        "    </tr>\n",
        "    <tr>\n",
        "      <th>441</th>\n",
        "      <td> graphics</td>\n",
        "      <td>                                              pict</td>\n",
        "      <td>                                            .targa</td>\n",
        "    </tr>\n",
        "    <tr>\n",
        "      <th>442</th>\n",
        "      <td> graphics</td>\n",
        "      <td>                                               png</td>\n",
        "      <td>                portable network graphic (lossless</td>\n",
        "    </tr>\n",
        "    <tr>\n",
        "      <th>443</th>\n",
        "      <td> graphics</td>\n",
        "      <td>                                               pnm</td>\n",
        "      <td>              portable anymap graphic bitmap image</td>\n",
        "    </tr>\n",
        "    <tr>\n",
        "      <th>444</th>\n",
        "      <td> graphics</td>\n",
        "      <td>                                               pns</td>\n",
        "      <td>                                        png stereo</td>\n",
        "    </tr>\n",
        "    <tr>\n",
        "      <th>445</th>\n",
        "      <td> graphics</td>\n",
        "      <td>                                               ppm</td>\n",
        "      <td>                 portable pixmap (pixel map) image</td>\n",
        "    </tr>\n",
        "    <tr>\n",
        "      <th>446</th>\n",
        "      <td> graphics</td>\n",
        "      <td>                                               psb</td>\n",
        "      <td>  adobe photoshop big image file (for large files)</td>\n",
        "    </tr>\n",
        "    <tr>\n",
        "      <th>447</th>\n",
        "      <td> graphics</td>\n",
        "      <td>                                               psd</td>\n",
        "      <td> general term for minimally processed image dat...</td>\n",
        "    </tr>\n",
        "    <tr>\n",
        "      <th>448</th>\n",
        "      <td> graphics</td>\n",
        "      <td>                                               psp</td>\n",
        "      <td>                        a run-length encoded image</td>\n",
        "    </tr>\n",
        "    <tr>\n",
        "      <th>449</th>\n",
        "      <td> graphics</td>\n",
        "      <td>                                                px</td>\n",
        "      <td>                 scitex continuous tone image file</td>\n",
        "    </tr>\n",
        "    <tr>\n",
        "      <th>450</th>\n",
        "      <td> graphics</td>\n",
        "      <td>                       pxm - pixelmator image file</td>\n",
        "      <td>                            silicon graphics image</td>\n",
        "    </tr>\n",
        "    <tr>\n",
        "      <th>451</th>\n",
        "      <td> graphics</td>\n",
        "      <td>                                               pxr</td>\n",
        "      <td>                      truevision tga (targa) image</td>\n",
        "    </tr>\n",
        "    <tr>\n",
        "      <th>452</th>\n",
        "      <td> graphics</td>\n",
        "      <td>                                               qfx</td>\n",
        "      <td>        tagged image file format (usually lossless</td>\n",
        "    </tr>\n",
        "    <tr>\n",
        "      <th>453</th>\n",
        "      <td> graphics</td>\n",
        "      <td>                                               raw</td>\n",
        "      <td> iso 12234-2; tends to be used as a basis for o...</td>\n",
        "    </tr>\n",
        "    <tr>\n",
        "      <th>454</th>\n",
        "      <td> graphics</td>\n",
        "      <td>                                               rle</td>\n",
        "      <td>                              valve texture format</td>\n",
        "    </tr>\n",
        "    <tr>\n",
        "      <th></th>\n",
        "      <td>...</td>\n",
        "      <td>...</td>\n",
        "      <td>...</td>\n",
        "    </tr>\n",
        "  </tbody>\n",
        "</table>\n",
        "<p>162 rows \u00d7 3 columns</p>\n",
        "</div>"
       ],
       "metadata": {},
       "output_type": "pyout",
       "prompt_number": 3,
       "text": [
        "       domain                                           filetype  \\\n",
        "395  graphics                                                act   \n",
        "396  graphics                                                pal   \n",
        "397  graphics                                    raster graphics   \n",
        "398  graphics  raster (or bitmap) files store images as a gro...   \n",
        "399  graphics                                                ase   \n",
        "400  graphics                                                art   \n",
        "401  graphics                                                bmp   \n",
        "402  graphics                                                blp   \n",
        "403  graphics                                                cd5   \n",
        "404  graphics                                                cit   \n",
        "405  graphics                                                cpt   \n",
        "406  graphics                                                cr2   \n",
        "407  graphics                                                cut   \n",
        "408  graphics                                                dds   \n",
        "409  graphics                                                dib   \n",
        "410  graphics                                               djvu   \n",
        "411  graphics                                                egt   \n",
        "412  graphics                                               exif   \n",
        "413  graphics                                                gif   \n",
        "414  graphics                                                gpl   \n",
        "415  graphics                                                grf   \n",
        "416  graphics                                               icns   \n",
        "417  graphics                                                ico   \n",
        "418  graphics                                          iff (.iff   \n",
        "419  graphics                                                jng   \n",
        "420  graphics                                               jpeg   \n",
        "421  graphics                                                jp2   \n",
        "422  graphics                                                jps   \n",
        "423  graphics                                                lbm   \n",
        "424  graphics                                                max   \n",
        "425  graphics                                               miff   \n",
        "426  graphics                                                mng   \n",
        "427  graphics                                                msp   \n",
        "428  graphics                                               nitf   \n",
        "429  graphics                   ota bitmap (over the air bitmap)   \n",
        "430  graphics                                                pbm   \n",
        "431  graphics                                                pc1   \n",
        "432  graphics                                                pc2   \n",
        "433  graphics                                                pc3   \n",
        "434  graphics                                                pcf   \n",
        "435  graphics                                                pcx   \n",
        "436  graphics                                                pdn   \n",
        "437  graphics                                                pgm   \n",
        "438  graphics                                                pi1   \n",
        "439  graphics                                                pi2   \n",
        "440  graphics                                                pi3   \n",
        "441  graphics                                               pict   \n",
        "442  graphics                                                png   \n",
        "443  graphics                                                pnm   \n",
        "444  graphics                                                pns   \n",
        "445  graphics                                                ppm   \n",
        "446  graphics                                                psb   \n",
        "447  graphics                                                psd   \n",
        "448  graphics                                                psp   \n",
        "449  graphics                                                 px   \n",
        "450  graphics                        pxm - pixelmator image file   \n",
        "451  graphics                                                pxr   \n",
        "452  graphics                                                qfx   \n",
        "453  graphics                                                raw   \n",
        "454  graphics                                                rle   \n",
        "          ...                                                ...   \n",
        "\n",
        "                                           description  \n",
        "395  adobe color table. contains a raw color palett...  \n",
        "396                             microsoft palette file  \n",
        "397                                                NaN  \n",
        "398                                                NaN  \n",
        "399                                       adobe swatch  \n",
        "400                  america online proprietary format  \n",
        "401           microsoft windows bitmap formatted image  \n",
        "402                                              .ilbm  \n",
        "403                              chasys draw ies image  \n",
        "404                               jfif (.jpg or .jpeg)  \n",
        "405                            corel photo-paint image  \n",
        "406  canon camera raw format. photos will have this...  \n",
        "407                                dr. halo image file  \n",
        "408                               directx texture file  \n",
        "409                  device-independent bitmap graphic  \n",
        "410                         djvu for scanned documents  \n",
        "411                             egt universal document  \n",
        "412  exchangeable image file format (exif) is a spe...  \n",
        "413           compuserve's graphics interchange format  \n",
        "414                                       gimp palette  \n",
        "415              zebra technologies proprietary format  \n",
        "416  file format use for icons in mac os x. contain...  \n",
        "417  a file format used for icons in microsoft wind...  \n",
        "418                                               ilbm  \n",
        "419  a single-frame mng using jpeg compression and ...  \n",
        "420                            deluxe paint image file  \n",
        "421                        scansoft paperport document  \n",
        "422                   imagemagick's native file format  \n",
        "423                          multiple network graphics  \n",
        "424  a file format used by old versions of microsof...  \n",
        "425                                                pct  \n",
        "426  a specification designed by nokia for black an...  \n",
        "427                                    portable bitmap  \n",
        "428                                     low resolution  \n",
        "429                                  medium resolution  \n",
        "430                                    high resolution  \n",
        "431                                                pdd  \n",
        "432         a lossless format used by zsoft's pc paint  \n",
        "433                                                NaN  \n",
        "434                                                NaN  \n",
        "435                                                NaN  \n",
        "436                               paint.net image file  \n",
        "437                                   portable graymap  \n",
        "438                                     low resolution  \n",
        "439                                  medium resolution  \n",
        "440                                                rgb  \n",
        "441                                             .targa  \n",
        "442                 portable network graphic (lossless  \n",
        "443               portable anymap graphic bitmap image  \n",
        "444                                         png stereo  \n",
        "445                  portable pixmap (pixel map) image  \n",
        "446   adobe photoshop big image file (for large files)  \n",
        "447  general term for minimally processed image dat...  \n",
        "448                         a run-length encoded image  \n",
        "449                  scitex continuous tone image file  \n",
        "450                             silicon graphics image  \n",
        "451                       truevision tga (targa) image  \n",
        "452         tagged image file format (usually lossless  \n",
        "453  iso 12234-2; tends to be used as a basis for o...  \n",
        "454                               valve texture format  \n",
        "                                                   ...  \n",
        "\n",
        "[162 rows x 3 columns]"
       ]
      }
     ],
     "prompt_number": 3
    },
    {
     "cell_type": "markdown",
     "metadata": {},
     "source": [
      "This list of file types suggests some things I haven't looked at properly. "
     ]
    },
    {
     "cell_type": "markdown",
     "metadata": {},
     "source": [
      "## Spam and download repositories\n",
      "\n",
      "Many events on the github timeline might be produced by botnets or spammers. There are many repositories that appear and disappear from the timeline. Yet they add to the overall repository count. "
     ]
    },
    {
     "cell_type": "code",
     "collapsed": false,
     "input": [
      "spam_query = 'crack|download|free.*mp3'\n",
      "spam_df = construct_repo_df(spam_query, description = False)\n"
     ],
     "language": "python",
     "metadata": {},
     "outputs": [
      {
       "output_type": "stream",
       "stream": "stdout",
       "text": [
        "starting bigquery ... \n",
        "crack|download|free.*mp3\n",
        "\r",
        "Waiting on bqjob_r327fba2efe688643_00000146200b656b_1 ... (0s) Current status: DONE   "
       ]
      },
      {
       "output_type": "stream",
       "stream": "stdout",
       "text": [
        "\n",
        "(38802, 3)"
       ]
      },
      {
       "output_type": "stream",
       "stream": "stdout",
       "text": [
        "\n"
       ]
      }
     ],
     "prompt_number": 4
    },
    {
     "cell_type": "code",
     "collapsed": false,
     "input": [
      "long_title_query = 'SELECT name, full_name, fork FROM [github_proper.repo_list] where length(name) > 40'\n",
      "long_title_df = pd.io.gbq.read_gbq(long_title_query)\n",
      "print(long_title_df.shape)"
     ],
     "language": "python",
     "metadata": {},
     "outputs": [
      {
       "output_type": "stream",
       "stream": "stdout",
       "text": [
        "\r",
        "Waiting on bqjob_r3edc34d6795cbdd8_00000146200daa81_2 ... (0s) Current status: DONE   \n",
        "(45955, 3)"
       ]
      },
      {
       "output_type": "stream",
       "stream": "stdout",
       "text": [
        "\n"
       ]
      }
     ],
     "prompt_number": 5
    },
    {
     "cell_type": "code",
     "collapsed": false,
     "input": [
      "# keep all the Bayesian probability programming books\n",
      "long_title_df = long_title_df.ix[-long_title_df.name.str.contains('Bayesian')]\n",
      "long_title_df.shape"
     ],
     "language": "python",
     "metadata": {},
     "outputs": [
      {
       "metadata": {},
       "output_type": "pyout",
       "prompt_number": 6,
       "text": [
        "(45091, 3)"
       ]
      }
     ],
     "prompt_number": 6
    },
    {
     "cell_type": "code",
     "collapsed": false,
     "input": [
      "spam_df = pd.concat([spam_df, long_title_df])\n",
      "spam_df = spam_df.drop_duplicates()\n",
      "print spam_df.shape\n",
      "red.sadd('spam', *spam_df.full_name)"
     ],
     "language": "python",
     "metadata": {},
     "outputs": [
      {
       "output_type": "stream",
       "stream": "stdout",
       "text": [
        "(79011, 3)\n"
       ]
      },
      {
       "metadata": {},
       "output_type": "pyout",
       "prompt_number": 8,
       "text": [
        "79011"
       ]
      }
     ],
     "prompt_number": 8
    },
    {
     "cell_type": "markdown",
     "metadata": {},
     "source": [
      "## Test/try/demo repos\n",
      "\n",
      "Many people just play a bit with git or github"
     ]
    },
    {
     "cell_type": "code",
     "collapsed": false,
     "input": [
      "test_query = 'test|try|demo|hello|getting started|starting|beginning|train|learn|sample|spoon-knife'\n",
      "test_df = construct_repo_df(test_query, description=False,local=True)\n"
     ],
     "language": "python",
     "metadata": {},
     "outputs": [
      {
       "output_type": "stream",
       "stream": "stdout",
       "text": [
        "test|try|demo|hello|getting.?started|starting|beginning|train|learn|sample|spoon.?knife\n",
        "(786900, 1)"
       ]
      },
      {
       "output_type": "stream",
       "stream": "stdout",
       "text": [
        "\n"
       ]
      }
     ],
     "prompt_number": 28
    },
    {
     "cell_type": "code",
     "collapsed": false,
     "input": [
      "test_df.head()"
     ],
     "language": "python",
     "metadata": {},
     "outputs": [
      {
       "html": [
        "<div style=\"max-height:1000px;max-width:1500px;overflow:auto;\">\n",
        "<table border=\"1\" class=\"dataframe\">\n",
        "  <thead>\n",
        "    <tr style=\"text-align: right;\">\n",
        "      <th></th>\n",
        "      <th>full_name</th>\n",
        "    </tr>\n",
        "  </thead>\n",
        "  <tbody>\n",
        "    <tr>\n",
        "      <th>36</th>\n",
        "      <td>                 songsh/test</td>\n",
        "    </tr>\n",
        "    <tr>\n",
        "      <th>38</th>\n",
        "      <td>             michiosata/test</td>\n",
        "    </tr>\n",
        "    <tr>\n",
        "      <th>60</th>\n",
        "      <td> trekdemo/spree_ghetto_posts</td>\n",
        "    </tr>\n",
        "    <tr>\n",
        "      <th>61</th>\n",
        "      <td> trekdemo/spree_ghetto_boxes</td>\n",
        "    </tr>\n",
        "    <tr>\n",
        "      <th>62</th>\n",
        "      <td> trekdemo/spree_ghetto_files</td>\n",
        "    </tr>\n",
        "  </tbody>\n",
        "</table>\n",
        "<p>5 rows \u00d7 1 columns</p>\n",
        "</div>"
       ],
       "metadata": {},
       "output_type": "pyout",
       "prompt_number": 37,
       "text": [
        "                      full_name\n",
        "36                  songsh/test\n",
        "38              michiosata/test\n",
        "60  trekdemo/spree_ghetto_posts\n",
        "61  trekdemo/spree_ghetto_boxes\n",
        "62  trekdemo/spree_ghetto_files\n",
        "\n",
        "[5 rows x 1 columns]"
       ]
      }
     ],
     "prompt_number": 37
    },
    {
     "cell_type": "code",
     "collapsed": false,
     "input": [
      "red.sadd('tests', *test_df.full_name)"
     ],
     "language": "python",
     "metadata": {},
     "outputs": [
      {
       "metadata": {},
       "output_type": "pyout",
       "prompt_number": 29,
       "text": [
        "24574"
       ]
      }
     ],
     "prompt_number": 29
    },
    {
     "cell_type": "markdown",
     "metadata": {},
     "source": [
      "As expected, this is quite a big number of repos -- 0.8M. "
     ]
    },
    {
     "cell_type": "markdown",
     "metadata": {},
     "source": [
      "## Code editors and IDEs\n",
      "\n",
      "These have to be a basic part of the Github world, since nearly everything we find there has been written in some kind of text editor. There are around 120 editors and 133 IDes in the Wikipedia list.\n",
      "\n",
      "Matching problems occur around some editor names -- 'ee', and 'ed' for instance are text editors on Unix and BSD platforms. It's hard to get good matches on those. "
     ]
    },
    {
     "cell_type": "code",
     "collapsed": false,
     "input": [
      "editors = pd.read_csv('topic_lists/editors.csv', header = None, names = ['name'])\n",
      "\n",
      "ides = pd.read_csv('topic_lists/ide_list.csv', header=None, names = ['name']).drop_duplicates()\n"
     ],
     "language": "python",
     "metadata": {},
     "outputs": [],
     "prompt_number": 13
    },
    {
     "cell_type": "code",
     "collapsed": false,
     "input": [
      "print(ides.head())\n",
      "editors.sort(inplace=True, columns =['name'])\n",
      "editors.drop_duplicates(inplace=True, cols = ['name'])\n",
      "\n",
      "print(editors['name'].head())"
     ],
     "language": "python",
     "metadata": {},
     "outputs": [
      {
       "output_type": "stream",
       "stream": "stdout",
       "text": [
        "                   name\n",
        "0        Flash Builder \n",
        "1  Allegro Common Lisp \n",
        "2               Anjuta \n",
        "5               AppCode\n",
        "6        Aptana Studio \n",
        "\n",
        "[5 rows x 1 columns]\n",
        "1              Acme \n",
        "2           AkelPad \n",
        "3           Alphatk \n",
        "4    Aquamacs Emacs \n",
        "5     Arachnophilia \n",
        "Name: name, dtype: object\n"
       ]
      }
     ],
     "prompt_number": 14
    },
    {
     "cell_type": "code",
     "collapsed": false,
     "input": [
      "ed_query_1 = 'editor|' + '|'.join(editors['name'][:50].str.strip()).lower().replace('++', '\\\\\\+\\\\\\+')\n",
      "\n",
      "ed_query_2 = '|'.join(editors['name'][50:].str.strip()).lower().replace('++', '\\\\\\+\\\\\\+')\n",
      "\n",
      "ide_query = '|'.join(ides['name'].str.strip()).lower().replace('++', '\\\\\\+\\\\\\+')\n"
     ],
     "language": "python",
     "metadata": {},
     "outputs": [],
     "prompt_number": 15
    },
    {
     "cell_type": "code",
     "collapsed": false,
     "input": [
      "ide_df = construct_repo_df(ide_query, description=False,local=True)"
     ],
     "language": "python",
     "metadata": {},
     "outputs": [
      {
       "output_type": "stream",
       "stream": "stdout",
       "text": [
        "flash.?builder|allegro.?common.?lisp|anjuta|appcode|aptana.?studio|aptana.?studio|basic|basic4android|blackbox.?component.?builder|bluej|c\\\\.?\\\\.?builder|codeblocks|codea|codelite|codelobster|codenvy|component.?pascal|cpide|decoda|dev.?c\\\\.?\\\\.?|dolphin.?smalltalk|drjava|drracket|eclipse.?cdt|eclipse.?dltk|eclipse.?epic|eclipse.?jdt|eclipse.?jdt.?ibm|eclipse.?pdt|eclipse.?w/.?aonixadt[1]|eclipse.?web.?tools|eiffelstudio|eric.?python.?and.?ruby.?ide|express.?edition.?freeware|flashdevelop|free.?pascal.?ide|gambas|geany|gnat.?programming.?studio|greenfoot|html.?kit|intellij.?idea|jbuilder|jcreator|jdeveloper|jgrasp|kdevelop|komodo.?ide|komodo.?ide.?/.?edit|labwindows/cvi|lazarus|lccwin32|lispworks|microsoft.?small.?basic|microsoft.?visual.?studio|microsoft.?visual.?studio.?express|midletpascal|monodevelop|morfik|mseide|myeclipse|netbeans|netbeans.?c/c\\\\.?\\\\.?.?pack|ninja.?ide|nodeclipse.?nts|nusphere.?phped|openwatcom|oracle.?jdeveloper|oracle.?solaris.?studio|oxygene|padre|pascal.?object.?pascal|pelles.?c|pharo|philasmicos.?entwickler.?studio|photran|phpeclipse|phped.?professional|phpedit|phpstorm|pida|pocketstudio|purebasic|pycharm|pydev|pyscripter|python.?tools.?for.?visual.?studio|pythonanywhere|pythonista|qt.?creator|quanta.?plus|racket|radphp.?formerly.?delphi.?for.?php|rational.?application.?developer|rational.?software.?architect|realaxy.?actionscript.?editor|rubymine|servoy|sharpdevelop|slime|small.?basic|spyder|squeak|stani's.?python.?editor|ultimate\\\\.?\\\\.?.?theide|visual.?studio|visualworks|webdev|webstorm|windev|wing.?ide|wlanguage|wxdev.?c\\\\.?\\\\.?|xcode|xojo|zend.?studio\n",
        "(40507, 1)"
       ]
      },
      {
       "output_type": "stream",
       "stream": "stdout",
       "text": [
        "\n"
       ]
      }
     ],
     "prompt_number": 11
    },
    {
     "cell_type": "code",
     "collapsed": false,
     "input": [
      "red.sadd('ides', *ide_df.full_name)"
     ],
     "language": "python",
     "metadata": {},
     "outputs": [
      {
       "metadata": {},
       "output_type": "pyout",
       "prompt_number": 12,
       "text": [
        "23169"
       ]
      }
     ],
     "prompt_number": 12
    },
    {
     "cell_type": "code",
     "collapsed": false,
     "input": [
      "ide_df.head()"
     ],
     "language": "python",
     "metadata": {},
     "outputs": [
      {
       "html": [
        "<div style=\"max-height:1000px;max-width:1500px;overflow:auto;\">\n",
        "<table border=\"1\" class=\"dataframe\">\n",
        "  <thead>\n",
        "    <tr style=\"text-align: right;\">\n",
        "      <th></th>\n",
        "      <th>full_name</th>\n",
        "    </tr>\n",
        "  </thead>\n",
        "  <tbody>\n",
        "    <tr>\n",
        "      <th>289</th>\n",
        "      <td>       vvallury/python-basics</td>\n",
        "    </tr>\n",
        "    <tr>\n",
        "      <th>332</th>\n",
        "      <td>     gt-webdev/meeting-sept-4</td>\n",
        "    </tr>\n",
        "    <tr>\n",
        "      <th>379</th>\n",
        "      <td> ikorich/libpng-xcode-project</td>\n",
        "    </tr>\n",
        "    <tr>\n",
        "      <th>598</th>\n",
        "      <td>         scottiiee/xcode-test</td>\n",
        "    </tr>\n",
        "    <tr>\n",
        "      <th>701</th>\n",
        "      <td>      tdegrunt/dotty-webstorm</td>\n",
        "    </tr>\n",
        "  </tbody>\n",
        "</table>\n",
        "<p>5 rows \u00d7 1 columns</p>\n",
        "</div>"
       ],
       "metadata": {},
       "output_type": "pyout",
       "prompt_number": 13,
       "text": [
        "                        full_name\n",
        "289        vvallury/python-basics\n",
        "332      gt-webdev/meeting-sept-4\n",
        "379  ikorich/libpng-xcode-project\n",
        "598          scottiiee/xcode-test\n",
        "701       tdegrunt/dotty-webstorm\n",
        "\n",
        "[5 rows x 1 columns]"
       ]
      }
     ],
     "prompt_number": 13
    },
    {
     "cell_type": "code",
     "collapsed": false,
     "input": [
      "editor_df = construct_repo_df(ed_query_1,local=True, description=False)"
     ],
     "language": "python",
     "metadata": {},
     "outputs": [
      {
       "output_type": "stream",
       "stream": "stdout",
       "text": [
        "editor|acme|akelpad|alphatk|aquamacs.?emacs|arachnophilia|atom|bbedit|bbedit.?lite|bluefish|codewright|context|cream|crimson.?editor|cygnused|diakonos|e.?text.?editor|eddie|editplus|elvis|emeditor|emacs|epsilon|extensible.?versatile.?editor|gnu.?emacs/xemacs|gwd.?text.?editor|geany|golded|html.?kit|hxd|inlage.?latex.?editor|jed|joe|jove|juffed|kwrite|kate|kedit|kile|kod|komodo.?edit|led.?\u2013.?latex.?editor|language.?sensitive.?editor|lapis|leafpad|leo|light.?table|ms.?dos.?editor|madedit|metapad|microemacs\n",
        "(127311, 1)"
       ]
      },
      {
       "output_type": "stream",
       "stream": "stdout",
       "text": [
        "\n"
       ]
      }
     ],
     "prompt_number": 16
    },
    {
     "cell_type": "code",
     "collapsed": false,
     "input": [
      "editor_df2 = construct_repo_df(ed_query_2, local=True)"
     ],
     "language": "python",
     "metadata": {},
     "outputs": [
      {
       "output_type": "stream",
       "stream": "stdout",
       "text": [
        "mined|mousepad|nano|nedit|notetab|notetab.?light|notepad|notepad\\\\.?\\\\.?|notepad2|pspad|pico|polyedit|programmer's.?file.?editor|programmer's.?notepad|q10|rj.?texted|rtext|setedit|sam|scite|simpletext|slickedit|smultron|source.?insight|subethaedit|sublime.?text|ted.?notepad|texshop|texniccenter|teachtext|tex.?edit.?plus|textedit|textmate|textpad.?and.?wildedit|textwrangler|the.?hessling.?editor|the.?semware.?editor|tincta|topstyle|ultraedit|ulysses|unired|vedit|winedt|x11.?xedit|xedit|yi.?editor|yudit|zile|edlin|gedit|ia.?writer|jedit|mcedit|nvi|skedit|vi|vile|vim\n",
        "(791623, 1)"
       ]
      },
      {
       "output_type": "stream",
       "stream": "stdout",
       "text": [
        "\n"
       ]
      }
     ],
     "prompt_number": 16
    },
    {
     "cell_type": "markdown",
     "metadata": {},
     "source": [
      "This is still way too noisy, but I'll work with it for the moment. "
     ]
    },
    {
     "cell_type": "code",
     "collapsed": false,
     "input": [
      "editor_df.head()"
     ],
     "language": "python",
     "metadata": {},
     "outputs": [
      {
       "html": [
        "<div style=\"max-height:1000px;max-width:1500px;overflow:auto;\">\n",
        "<table border=\"1\" class=\"dataframe\">\n",
        "  <thead>\n",
        "    <tr style=\"text-align: right;\">\n",
        "      <th></th>\n",
        "      <th>full_name</th>\n",
        "    </tr>\n",
        "  </thead>\n",
        "  <tbody>\n",
        "    <tr>\n",
        "      <th>115</th>\n",
        "      <td> wpi-rail/keyboardteleopjs</td>\n",
        "    </tr>\n",
        "    <tr>\n",
        "      <th>200</th>\n",
        "      <td>        joeegan/nodewriter</td>\n",
        "    </tr>\n",
        "    <tr>\n",
        "      <th>235</th>\n",
        "      <td>  jedahan/web-trafficlight</td>\n",
        "    </tr>\n",
        "    <tr>\n",
        "      <th>263</th>\n",
        "      <td>              joesve/html5</td>\n",
        "    </tr>\n",
        "    <tr>\n",
        "      <th>528</th>\n",
        "      <td>       snarf95/real-editor</td>\n",
        "    </tr>\n",
        "  </tbody>\n",
        "</table>\n",
        "<p>5 rows \u00d7 1 columns</p>\n",
        "</div>"
       ],
       "metadata": {},
       "output_type": "pyout",
       "prompt_number": 19,
       "text": [
        "                     full_name\n",
        "115  wpi-rail/keyboardteleopjs\n",
        "200         joeegan/nodewriter\n",
        "235   jedahan/web-trafficlight\n",
        "263               joesve/html5\n",
        "528        snarf95/real-editor\n",
        "\n",
        "[5 rows x 1 columns]"
       ]
      }
     ],
     "prompt_number": 19
    },
    {
     "cell_type": "code",
     "collapsed": false,
     "input": [
      "editor_df = editor_df.append(editor_df2)\n",
      "editor_df.drop_duplicates(inplace=True)\n",
      "editor_df.shape"
     ],
     "language": "python",
     "metadata": {},
     "outputs": [
      {
       "metadata": {},
       "output_type": "pyout",
       "prompt_number": 18,
       "text": [
        "(897048, 1)"
       ]
      }
     ],
     "prompt_number": 18
    },
    {
     "cell_type": "code",
     "collapsed": false,
     "input": [
      "delete = False"
     ],
     "language": "python",
     "metadata": {},
     "outputs": [],
     "prompt_number": 17
    },
    {
     "cell_type": "code",
     "collapsed": false,
     "input": [
      "pipe = red.pipeline()\n",
      "\n",
      "if delete:\n",
      "    pipe.delete('editors')\n",
      "\n",
      "for i in range(0, editor_df.shape[0], 100000):\n",
      "    pipe.sadd('editors', *editor_df.full_name[i: i+100000])\n",
      "res =pipe.execute()\n"
     ],
     "language": "python",
     "metadata": {},
     "outputs": [],
     "prompt_number": 18
    },
    {
     "cell_type": "markdown",
     "metadata": {},
     "source": [
      "## Compilers\n",
      "\n",
      "There are huge number of these."
     ]
    },
    {
     "cell_type": "code",
     "collapsed": false,
     "input": [
      "compilers = pd.read_csv('topic_lists/compilers.csv', header=None, names = ['name'])\n",
      "compilers.dropna(inplace=True)\n",
      "compilers.drop_duplicates(inplace=True)\n",
      "compiler_query = '|'.join(compilers.name.str.strip()).lower().replace('++', '\\\\\\+\\\\\\+')\n"
     ],
     "language": "python",
     "metadata": {},
     "outputs": [],
     "prompt_number": 27
    },
    {
     "cell_type": "code",
     "collapsed": false,
     "input": [
      "compiler_df = construct_repo_df(compiler_query, description=False)"
     ],
     "language": "python",
     "metadata": {},
     "outputs": [
      {
       "output_type": "stream",
       "stream": "stdout",
       "text": [
        "starting bigquery ... \n",
        "aonix.?object.?ada|borland.?turbo.?c|absoft.?pro.?fortran|algol.?60|algol.?68g.?genie|allegro.?common.?lisp|ampc|amsterdam.?compiler.?kit|armed.?bear.?common.?lisp|aztec.?c|bacon|bail|bbc.?basic.?for.?windows|bigloo|blitzmax|borland.?c\\\\.?\\\\.?|c\\\\.?\\\\.?.?builder|c\\\\.?\\\\.?.?compiler|ccs.?c.?compiler|ch|chez.?scheme|chicken.?scheme|chipmunk.?basic|cint|clang|cli.?compilers|clisp|clozure.?cl|cmu.?common.?lisp|cobol.?compilers|codewarrior|comeau.?c/c\\\\.?\\\\.?|common.?larceny|common.?lisp.?compilers|coolbasic|corman.?common.?lisp|cosy.?compiler.?development.?system|cparser/libfirm|cython|d.?compiler.?for.?.net|d.?compilers|darkbasic|delphi.?prism|dibol/dbl.?compilers|digital.?mars|digital.?mars.?d.?dmd|dignus.?systems/c|doylesoft.?basic|ecj.?eclipse.?compiler.?for.?java|ecmascript.?interpreters|edge.?arm.?c/c\\\\.?\\\\.?|eiffel.?compilers|eiffelstudio|elk.?scheme|embarcadero.?delphi|embeddable.?common.?lisp|felix|frameworkpascal|free.?pascal|freebasic|ftn95|g95|gambas|gambit|gauche|gcc|gcc.?c|gcc.?gnat|gdc|gfortran|ghc|glbasic|gnu.?common.?lisp|gnu.?guile|gnu.?java|gnu.?pascal|gnu.?smalltalk|hbc|hippo.?c|hp.?ac\\\\.?\\\\.?|hp.?pascal|iar.?c/c\\\\.?\\\\.?.?compilers|ibm.?cobol|ibm.?enterprise.?pl/i|ibm.?pl/if|ibm.?rational.?apex|ikarus.?scheme|ildjit|intel.?c\\\\.?\\\\.?.?compiler|intel.?fortran.?compiler|interactive.?c|interpreter|irie.?pascal|iron.?spring.?pl/i|ironscheme|irvine.?compiler|iscobol|java.?compilers|javac|jhc|jikes|jscheme|just.?basic|kai.?c\\\\.?\\\\.?.?compiler|kawa|kbasic|kednos.?pl/i|kylix|labwindows/cvi|lahey.?fortran|larceny|lattice.?c|lcc|ldc|liberty.?basic|lispworks|mac.?c|mankai.?common.?lisp|mark.?williams.?c|mcp.?compiler|micro.?c.?compiler.?mcc|micro.?c.?compiler.?mcc|microsoft.?pascal|microtec|mikroc.?compiler|mit/gnu.?scheme|mmbasic|mono|mpw.?c|multi|multics.?pl/i|nag.?fortran.?compiler|nbasic|neatcc|netbeans|netcobol|nhc|nuitka|nwcc|open.?genera|open.?watcom|open64|opencobol|oracle.?solaris.?studio|owl.?lisp|oxygen.?scheme|parallware|pathscale|pathscale.?compiler.?suite|pelles.?c|persistent.?s.?algol|petit.?larceny|pgcc|pgcpp|pgfortran|pips|pl/i.?compilers|portable.?c.?compiler|portable.net|power.?c|power.?j[7]|powerbasic|prodev.?workshop|psyco|purebasic|pvts|pypy|python.?compilers|qb64|quickbasic|quickc|racket|raincode.?cobol|raincode.?pl/i|rapidq|rcc.?rcor.?c.?compiler|realbasic|realview.?c/c\\\\.?\\\\.?.?compiler.?armcc|ritchie.?c.?compiler.?pdp.?11|rose.?compiler|rscheme|s.n.?java.?compiler|salford.?c\\\\.?\\\\.?.?compiler|sas/c|sas/c.?c\\\\.?\\\\.?|scheme.?48|scheme.?compilers.?and.?interpreters|scieneer.?common.?lisp|scm|shedskin|small.?device.?c.?compiler|small.?c|smalltalk.?compilers|smalltalk.?mt|smalltalk.?yx|solaris.?studio|solaris.?studio.?express|source.?to.?source.?compilers|stalin|steel.?bank.?common.?lisp|subc|synergy.?dbl[4][5][6]|systems/cc\\\\.?\\\\.?|tendra|think.?c.?lightspeed.?c|tiny.?c.?compiler|tinycobol|true.?basic|turbo.?c\\\\.?\\\\.?.?explorer|turbo.?c\\\\.?\\\\.?.?for.?dos|turbo.?pascal|turbo.?pascal.?for.?windows|ups.?debugger.?includes.?c.?interpreter|vbcc|vector.?pascal|vectorc|virtual.?pascal|visual.?basic|visual.?c#|visual.?c#.?express|visual.?c\\\\.?\\\\.?|visual.?c\\\\.?\\\\.?.?express|visual.?cobol|visual.?studio|visualage.?c\\\\.?\\\\.?|visualworks|vs.?fortran|wdsibyl|wind.?river.?diab.?compiler|xcl|xl.?c|xl.?c/c\\\\.?\\\\.?|xl.?fortran|yhc\n",
        "\r",
        "Waiting on bqjob_r44215540aed7c50b_000001462014b19a_7 ... (0s) Current status: DONE   "
       ]
      },
      {
       "output_type": "stream",
       "stream": "stdout",
       "text": [
        "\n",
        "(576950, 3)"
       ]
      },
      {
       "output_type": "stream",
       "stream": "stdout",
       "text": [
        "\n"
       ]
      }
     ],
     "prompt_number": 28
    },
    {
     "cell_type": "code",
     "collapsed": false,
     "input": [
      "red.sadd('compilers', *compiler_df.full_name)"
     ],
     "language": "python",
     "metadata": {},
     "outputs": [
      {
       "metadata": {},
       "output_type": "pyout",
       "prompt_number": 29,
       "text": [
        "576880"
       ]
      }
     ],
     "prompt_number": 29
    },
    {
     "cell_type": "markdown",
     "metadata": {},
     "source": [
      "This is pretty huge. 0.5M Possible the biggest category I've seen. Is this really noise? "
     ]
    },
    {
     "cell_type": "markdown",
     "metadata": {},
     "source": [
      "## Continuous integration build"
     ]
    },
    {
     "cell_type": "code",
     "collapsed": false,
     "input": [
      "integration_list = pd.read_csv('topic_lists/integration.csv', header =None, names = ['name'])\n",
      "integration_query = '|'.join(integration_list.name.str.strip()).lower()"
     ],
     "language": "python",
     "metadata": {},
     "outputs": [],
     "prompt_number": 35
    },
    {
     "cell_type": "code",
     "collapsed": false,
     "input": [
      "integration_df = construct_repo_df(integration_query, description = True)"
     ],
     "language": "python",
     "metadata": {},
     "outputs": [
      {
       "output_type": "stream",
       "stream": "stdout",
       "text": [
        "starting bigquery ... \n",
        "apache.?continuum|apache.?gump|automatedqa.?automated.?build.?studio|atlassian.?software.?systems.?bamboo|buildbot|buildhive|cabie|cascade|codebeamer|cruisecontrol|cruisecontrol.rb|electric.?cloud.?electriccommander|finalbuilder.?server|hudson|jenkins.?fork.?of.?hudson|ibm.?rational.?team.?concert|ibm.?rational.?software.?sclm|microsoft.?team.?foundation.?server|shippable|strider|teamcity|thoughtworks.?go|tinderbox|travis.?ci|xcode.?5\n",
        "\r",
        "Waiting on bqjob_r306873c0c41510a9_0000014620186360_8 ... (0s) Current status: DONE   "
       ]
      },
      {
       "output_type": "stream",
       "stream": "stdout",
       "text": [
        "\n",
        "(6707, 3)"
       ]
      },
      {
       "output_type": "stream",
       "stream": "stdout",
       "text": [
        "\n"
       ]
      }
     ],
     "prompt_number": 36
    },
    {
     "cell_type": "code",
     "collapsed": false,
     "input": [
      "red.sadd('integration', *integration_df.full_name)"
     ],
     "language": "python",
     "metadata": {},
     "outputs": [
      {
       "metadata": {},
       "output_type": "pyout",
       "prompt_number": 38,
       "text": [
        "6705"
       ]
      }
     ],
     "prompt_number": 38
    },
    {
     "cell_type": "code",
     "collapsed": false,
     "input": [
      "integration_df.head()"
     ],
     "language": "python",
     "metadata": {},
     "outputs": [
      {
       "html": [
        "<div style=\"max-height:1000px;max-width:1500px;overflow:auto;\">\n",
        "<table border=\"1\" class=\"dataframe\">\n",
        "  <thead>\n",
        "    <tr style=\"text-align: right;\">\n",
        "      <th></th>\n",
        "      <th>name</th>\n",
        "      <th>full_name</th>\n",
        "      <th>fork</th>\n",
        "    </tr>\n",
        "  </thead>\n",
        "  <tbody>\n",
        "    <tr>\n",
        "      <th>0</th>\n",
        "      <td> testteamcity</td>\n",
        "      <td>      olegin62/testteamcity</td>\n",
        "      <td> 0</td>\n",
        "    </tr>\n",
        "    <tr>\n",
        "      <th>1</th>\n",
        "      <td>      strider</td>\n",
        "      <td>         wouterhund/strider</td>\n",
        "      <td> 1</td>\n",
        "    </tr>\n",
        "    <tr>\n",
        "      <th>2</th>\n",
        "      <td>     buildbot</td>\n",
        "      <td>              ojwb/buildbot</td>\n",
        "      <td> 1</td>\n",
        "    </tr>\n",
        "    <tr>\n",
        "      <th>3</th>\n",
        "      <td>   Xcode5Test</td>\n",
        "      <td>        rathahin/Xcode5Test</td>\n",
        "      <td> 1</td>\n",
        "    </tr>\n",
        "    <tr>\n",
        "      <th>4</th>\n",
        "      <td>  SMILEsmileD</td>\n",
        "      <td> saeed-abdullah/SMILEsmileD</td>\n",
        "      <td> 1</td>\n",
        "    </tr>\n",
        "  </tbody>\n",
        "</table>\n",
        "<p>5 rows \u00d7 3 columns</p>\n",
        "</div>"
       ],
       "metadata": {},
       "output_type": "pyout",
       "prompt_number": 39,
       "text": [
        "           name                   full_name  fork\n",
        "0  testteamcity       olegin62/testteamcity     0\n",
        "1       strider          wouterhund/strider     1\n",
        "2      buildbot               ojwb/buildbot     1\n",
        "3    Xcode5Test         rathahin/Xcode5Test     1\n",
        "4   SMILEsmileD  saeed-abdullah/SMILEsmileD     1\n",
        "\n",
        "[5 rows x 3 columns]"
       ]
      }
     ],
     "prompt_number": 39
    },
    {
     "cell_type": "markdown",
     "metadata": {},
     "source": [
      "## Programming languages"
     ]
    },
    {
     "cell_type": "code",
     "collapsed": false,
     "input": [
      "programming_query = '\\\\bC\\\\b|java|php|javascript|perl|ruby|python|scala|pig'\n",
      "programming_df = construct_repo_df(programming_query, description=True)"
     ],
     "language": "python",
     "metadata": {},
     "outputs": [
      {
       "output_type": "stream",
       "stream": "stdout",
       "text": [
        "starting bigquery ... \n",
        "\\bc\\b|java|php|javascript|perl|ruby|python|scala|pig\n",
        "\r",
        "Waiting on bqjob_r36074053ab77e948_0000014628492123_18 ... (0s) Current status: RUNNING"
       ]
      },
      {
       "output_type": "stream",
       "stream": "stdout",
       "text": [
        " \r",
        "Waiting on bqjob_r36074053ab77e948_0000014628492123_18 ... (1s) Current status: RUNNING "
       ]
      },
      {
       "output_type": "stream",
       "stream": "stdout",
       "text": [
        "\r",
        "Waiting on bqjob_r36074053ab77e948_0000014628492123_18 ... (3s) Current status: RUNNING "
       ]
      },
      {
       "output_type": "stream",
       "stream": "stdout",
       "text": [
        "\r",
        "Waiting on bqjob_r36074053ab77e948_0000014628492123_18 ... (4s) Current status: RUNNING "
       ]
      },
      {
       "output_type": "stream",
       "stream": "stdout",
       "text": [
        "\r",
        "Waiting on bqjob_r36074053ab77e948_0000014628492123_18 ... (6s) Current status: RUNNING "
       ]
      },
      {
       "output_type": "stream",
       "stream": "stdout",
       "text": [
        "\r",
        "Waiting on bqjob_r36074053ab77e948_0000014628492123_18 ... (8s) Current status: RUNNING "
       ]
      },
      {
       "output_type": "stream",
       "stream": "stdout",
       "text": [
        "\r",
        "Waiting on bqjob_r36074053ab77e948_0000014628492123_18 ... (8s) Current status: DONE   \n",
        "(552691, 3)"
       ]
      },
      {
       "output_type": "stream",
       "stream": "stdout",
       "text": [
        "\n"
       ]
      }
     ],
     "prompt_number": 30
    },
    {
     "cell_type": "code",
     "collapsed": false,
     "input": [
      "programming_query2 = 'clojure|fortran|lisp|actionscript|objective-c|\\\\bSQL\\\\b|lua|visual basic'\n",
      "programming_df2 = construct_repo_df(programming_query2, description=True)"
     ],
     "language": "python",
     "metadata": {},
     "outputs": [
      {
       "output_type": "stream",
       "stream": "stdout",
       "text": [
        "starting bigquery ... \n",
        "clojure|fortran|lisp|actionscript|objective.?c|\\bsql\\b|lua|visual.?basic\n",
        "\r",
        "Waiting on bqjob_r7bc76cdf2fb67a12_00000146288a1152_30 ... (0s) Current status: RUNNING"
       ]
      },
      {
       "output_type": "stream",
       "stream": "stdout",
       "text": [
        " \r",
        "Waiting on bqjob_r7bc76cdf2fb67a12_00000146288a1152_30 ... (2s) Current status: RUNNING "
       ]
      },
      {
       "output_type": "stream",
       "stream": "stdout",
       "text": [
        "\r",
        "Waiting on bqjob_r7bc76cdf2fb67a12_00000146288a1152_30 ... (2s) Current status: DONE   \n",
        "(41248, 3)"
       ]
      },
      {
       "output_type": "stream",
       "stream": "stdout",
       "text": [
        "\n"
       ]
      }
     ],
     "prompt_number": 49
    },
    {
     "cell_type": "code",
     "collapsed": false,
     "input": [
      "programming_df = pd.concat([programming_df, programming_df2])"
     ],
     "language": "python",
     "metadata": {},
     "outputs": [],
     "prompt_number": 51
    },
    {
     "cell_type": "code",
     "collapsed": false,
     "input": [
      "red.sadd('programming_language', *programming_df.full_name)"
     ],
     "language": "python",
     "metadata": {},
     "outputs": [
      {
       "metadata": {},
       "output_type": "pyout",
       "prompt_number": 52,
       "text": [
        "16774"
       ]
      }
     ],
     "prompt_number": 52
    },
    {
     "cell_type": "markdown",
     "metadata": {},
     "source": [
      "## Package manager software\n",
      "\n",
      "There are around 100 different package managers in use. "
     ]
    },
    {
     "cell_type": "code",
     "collapsed": false,
     "input": [
      "packagelist = pd.read_csv('topic_lists/package_manager.csv', header=None, names = ['name'])\n",
      "packagelist.shape\n",
      "package_query = 'zip|tar|gz|'+ '|'.join(packagelist['name'].str.strip()).lower()\n"
     ],
     "language": "python",
     "metadata": {},
     "outputs": [],
     "prompt_number": 173
    },
    {
     "cell_type": "code",
     "collapsed": false,
     "input": [
      "package_df = construct_repo_df(package_query)"
     ],
     "language": "python",
     "metadata": {},
     "outputs": []
    },
    {
     "cell_type": "code",
     "collapsed": false,
     "input": [
      "package_df.head()\n",
      "red.sadd('packages', *package_df.full_name)"
     ],
     "language": "python",
     "metadata": {},
     "outputs": [
      {
       "metadata": {},
       "output_type": "pyout",
       "prompt_number": 42,
       "text": [
        "216858"
       ]
      }
     ],
     "prompt_number": 42
    },
    {
     "cell_type": "markdown",
     "metadata": {},
     "source": [
      "Another quite important category -- 0.2M repos here. "
     ]
    },
    {
     "cell_type": "markdown",
     "metadata": {},
     "source": [
      "## Databases\n",
      "\n",
      "Several hundred databases are in use. The point of looking for them in repo names or descriptions is to highlight work on the databases themselves. "
     ]
    },
    {
     "cell_type": "code",
     "collapsed": false,
     "input": [
      "# list of databases came from db-engine.com. I just copied the ranking table there. There are around 200 there.\n",
      "dblist = pd.read_csv('topic_lists/db_list.csv', header=None)\n",
      "dblist.columns = ['name', 'type']\n",
      "print(dblist.shape)"
     ],
     "language": "python",
     "metadata": {},
     "outputs": [
      {
       "output_type": "stream",
       "stream": "stdout",
       "text": [
        "(219, 2)\n"
       ]
      }
     ],
     "prompt_number": 187
    },
    {
     "cell_type": "code",
     "collapsed": false,
     "input": [
      "dblist['type'].value_counts()"
     ],
     "language": "python",
     "metadata": {},
     "outputs": [
      {
       "metadata": {},
       "output_type": "pyout",
       "prompt_number": 188,
       "text": [
        "Relational DBMS         81\n",
        "Key-value store         38\n",
        "Document store          22\n",
        "RDF store               15\n",
        "Object oriented DBMS    14\n",
        "Search engine           13\n",
        "Graph DBMS               9\n",
        "Multi-model              8\n",
        "Multivalue DBMS          7\n",
        "Native XML DBMS          4\n",
        "Wide column store        4\n",
        "Content store            2\n",
        "Navigational DBMS        2\n",
        "dtype: int64"
       ]
      }
     ],
     "prompt_number": 188
    },
    {
     "cell_type": "markdown",
     "metadata": {},
     "source": [
      "The idea with such lists is to construct queries that look for all the top db names in names of repos, and then see how that divides up"
     ]
    },
    {
     "cell_type": "code",
     "collapsed": false,
     "input": [
      "dbquery = '|'.join(dblist['name']).lower()"
     ],
     "language": "python",
     "metadata": {},
     "outputs": [],
     "prompt_number": 189
    },
    {
     "cell_type": "code",
     "collapsed": false,
     "input": [
      "db_df = construct_repo_df(dbquery, description=False)"
     ],
     "language": "python",
     "metadata": {},
     "outputs": [
      {
       "output_type": "stream",
       "stream": "stdout",
       "text": [
        "starting bigquery ... \n",
        "oracle|mysql|microsoft.?sql.?server|postgresql|mongodb|db2|microsoft.?access|sqlite|cassandra|sybase.?ase|solr|teradata|redis|filemaker|hbase|informix|elasticsearch|hive|memcached|splunk|couchdb|neo4j|sap.?hana|netezza|firebird|windows.?azure.?sql.?database|mariadb|couchbase|vertica|dbase|riak|dynamodb|sphinx|endeca|ingres|marklogic|greenplum|ehcache|interbase|ravendb|sql.?anywhere|sybase.?iq|hypersql|msql|jackrabbit|hazelcast|google.?search.?appliance|adabas|h2|derby|berkeley.?db|simpledb|sybase.?ads|coherence|virtuoso|accumulo|timesten|unidatauniverse|maxdb|google.?bigquery|gemfire|redshift|titan|cach\u00e9|orientdb|db4o|drizzle|openedge|teradata.?aster|versant.?object.?database|cloudant|oracle.?nosql|enterprisedb|ims|infobright|paraccel|tamino|jena|sesame|voltdb|percona.?server|idms|objectstore|red.?brick|d3|infinispan|sedna|sparksee|nuodb|monetdb|jbase|dataease|altibase|datameer|rbase|nonstop.?sql|mnesia|leveldb|gt.m|aerospike|clustrix|cloudsearch|model.?204|gridgain|hypertable|soliddb|zodb|memsql|vectorwise|kdb.?|frontbase|1010data|xapian|kognitio|pervasive.?psql|vistadb|basex|infinidb|allegrograph|tokyo.?cabinet|openbase|northgate.?reality|giraph|algebraix|rethinkdb|ncache|objectivity/db|websphere.?extreme.?scale|cubrid|nexusdb|project.?voldemort|hadapt|tokudb|tokyo.?tyrant|foundationdb|hibari|exasol|compass|akiban|indica|xap|webscalesql|perst|objectdb|tokumx|gemstone/s|geniedb|extremedb|infinitegraph|owlim|scimoredb|redland|dataupia|redstore|scalaris|luciddb|clusterpoint|stardog|starcounter|hamsterdb|infogrid|flockdb|ejdb|arangodb|lightcloud|terrastore|smallsql|kyoto.?tycoon|kyoto.?cabinet|searchblox|4store|translattice|siaqodb|scaledb|exist.?db|sqrrl|rocksdb|openqm|hyperdex|modeshape|cubicweb|eloquera|ittia|amisa.?server|bangdb|brightstardb|c.?treeace|cloudkit|codernitydb|densodb|djondb|dydra|exorbyte|fleetdb|globalsdb|graphbase|hypergraphdb|jade|jasdb|justonedb|mimer.?sql|mulgara|nanolat|raptordb|resin.?cache|scaleout.?stateserver|senseidb|sequoiadb|sisodb|sparkledb|srch\u00b2|strabon|stsdb|tajo|tarantool|tomp2p|velocitydb|wakandadb|xtremedata\n",
        "\r",
        "Waiting on bqjob_r78c980eef56a7069_000001462019e26d_10 ... (0s) Current status: DONE   "
       ]
      },
      {
       "output_type": "stream",
       "stream": "stdout",
       "text": [
        "\n",
        "(158349, 3)"
       ]
      },
      {
       "output_type": "stream",
       "stream": "stdout",
       "text": [
        "\n"
       ]
      }
     ],
     "prompt_number": 46
    },
    {
     "cell_type": "code",
     "collapsed": true,
     "input": [
      "print(db_df.shape)\n",
      "print db_df.head()\n",
      "red.sadd('databases', *db_df.full_name)"
     ],
     "language": "python",
     "metadata": {},
     "outputs": [
      {
       "output_type": "stream",
       "stream": "stdout",
       "text": [
        "(158349, 3)\n",
        "                   name                         full_name  fork\n",
        "0    NodeMongoDBAngular        piyasde/NodeMongoDBAngular     0\n",
        "1          chef-mongodb           liulinyang/chef-mongodb     1\n",
        "2              simpledb               studytimee/simpledb     1\n",
        "3  nagios-elasticsearch  hajoeichler/nagios-elasticsearch     1\n",
        "4       Hive-JSON-Serde             abe64/Hive-JSON-Serde     1\n",
        "\n",
        "[5 rows x 3 columns]\n"
       ]
      },
      {
       "metadata": {},
       "output_type": "pyout",
       "prompt_number": 47,
       "text": [
        "158325"
       ]
      }
     ],
     "prompt_number": 47
    },
    {
     "cell_type": "markdown",
     "metadata": {},
     "source": [
      "This is not a huge number -- around 0.125 M, but still quite significant. "
     ]
    },
    {
     "cell_type": "markdown",
     "metadata": {},
     "source": [
      "## Web frameworks\n",
      "\n",
      "These are important infrastructural components. Most websites rely on them today. So there are quite a few of them. "
     ]
    },
    {
     "cell_type": "code",
     "collapsed": false,
     "input": [
      "#  http://hotframeworks.com/ has a ranked list\n",
      "\n",
      "wflist_df = pd.read_csv('topic_lists/webframe_list.csv', header=None, names=['name'])"
     ],
     "language": "python",
     "metadata": {},
     "outputs": [],
     "prompt_number": 48
    },
    {
     "cell_type": "code",
     "collapsed": false,
     "input": [
      "print(wflist_df.shape)\n",
      "wflist_df.head()"
     ],
     "language": "python",
     "metadata": {},
     "outputs": [
      {
       "output_type": "stream",
       "stream": "stdout",
       "text": [
        "(135, 1)\n"
       ]
      },
      {
       "html": [
        "<div style=\"max-height:1000px;max-width:1500px;overflow:auto;\">\n",
        "<table border=\"1\" class=\"dataframe\">\n",
        "  <thead>\n",
        "    <tr style=\"text-align: right;\">\n",
        "      <th></th>\n",
        "      <th>name</th>\n",
        "    </tr>\n",
        "  </thead>\n",
        "  <tbody>\n",
        "    <tr>\n",
        "      <th>0</th>\n",
        "      <td>   ASP.NET</td>\n",
        "    </tr>\n",
        "    <tr>\n",
        "      <th>1</th>\n",
        "      <td>     Agavi</td>\n",
        "    </tr>\n",
        "    <tr>\n",
        "      <th>2</th>\n",
        "      <td>  AgilePHP</td>\n",
        "    </tr>\n",
        "    <tr>\n",
        "      <th>3</th>\n",
        "      <td>    Akelos</td>\n",
        "    </tr>\n",
        "    <tr>\n",
        "      <th>4</th>\n",
        "      <td> AngularJS</td>\n",
        "    </tr>\n",
        "  </tbody>\n",
        "</table>\n",
        "<p>5 rows \u00d7 1 columns</p>\n",
        "</div>"
       ],
       "metadata": {},
       "output_type": "pyout",
       "prompt_number": 49,
       "text": [
        "        name\n",
        "0    ASP.NET\n",
        "1      Agavi\n",
        "2   AgilePHP\n",
        "3     Akelos\n",
        "4  AngularJS\n",
        "\n",
        "[5 rows x 1 columns]"
       ]
      }
     ],
     "prompt_number": 49
    },
    {
     "cell_type": "code",
     "collapsed": false,
     "input": [
      "wfquery = '|'.join(wflist_df['name'][:30]).lower()\n",
      "wfquery"
     ],
     "language": "python",
     "metadata": {},
     "outputs": [
      {
       "metadata": {},
       "output_type": "pyout",
       "prompt_number": 50,
       "text": [
        "'asp.net|agavi|agilephp|akelos|angularjs|apache click|asp.net mvc|atomik|aura|bottle|cairngorm|cakephp|camping|cappuccino|catalyst|cgi::application|cgi::prototype|cherrypy|circumflex|clearpress|cocoon|codeigniter|compojure|compoundjs|conjure|cyclone3|django|dojo|eliom|ember.js'"
       ]
      }
     ],
     "prompt_number": 50
    },
    {
     "cell_type": "code",
     "collapsed": false,
     "input": [
      "wf_df = construct_repo_df(wfquery)\n"
     ],
     "language": "python",
     "metadata": {},
     "outputs": [
      {
       "output_type": "stream",
       "stream": "stdout",
       "text": [
        "starting bigquery ... \n",
        "asp.net|agavi|agilephp|akelos|angularjs|apache.?click|asp.net.?mvc|atomik|aura|bottle|cairngorm|cakephp|camping|cappuccino|catalyst|cgiapplication|cgiprototype|cherrypy|circumflex|clearpress|cocoon|codeigniter|compojure|compoundjs|conjure|cyclone3|django|dojo|eliom|ember.js\n",
        "\r",
        "Waiting on bqjob_r2950b463e5ed096b_00000146201adea5_11 ... (0s) Current status: DONE   "
       ]
      },
      {
       "output_type": "stream",
       "stream": "stdout",
       "text": [
        "\n",
        "(135109, 3)"
       ]
      },
      {
       "output_type": "stream",
       "stream": "stdout",
       "text": [
        "\n"
       ]
      }
     ],
     "prompt_number": 51
    },
    {
     "cell_type": "code",
     "collapsed": false,
     "input": [
      "red.sadd('webframeworks', *wf_df.full_name)"
     ],
     "language": "python",
     "metadata": {},
     "outputs": [
      {
       "metadata": {},
       "output_type": "pyout",
       "prompt_number": 53,
       "text": [
        "135098"
       ]
      }
     ],
     "prompt_number": 53
    },
    {
     "cell_type": "markdown",
     "metadata": {},
     "source": [
      "0.1M Are there really that many projects working on webframeworks. Or is that these frameworks are widely used, but not actually under development. "
     ]
    },
    {
     "cell_type": "markdown",
     "metadata": {},
     "source": [
      "# Javascript frontend libraries\n",
      "\n",
      "Some of these are hard to differentiate, because javascript is now becoming a server technology, and an application framework. There are 50 libraries in use."
     ]
    },
    {
     "cell_type": "code",
     "collapsed": false,
     "input": [
      "javascript_list = pd.read_csv('topic_lists/javascript_front.csv', header=None, names=['name'])\n",
      "javascript_query = 'widget|'+'|'.join(javascript_list.name.str.strip()).lower()\n"
     ],
     "language": "python",
     "metadata": {},
     "outputs": [],
     "prompt_number": 54
    },
    {
     "cell_type": "code",
     "collapsed": false,
     "input": [
      "javascript_query"
     ],
     "language": "python",
     "metadata": {},
     "outputs": [
      {
       "metadata": {},
       "output_type": "pyout",
       "prompt_number": 55,
       "text": [
        "\"widget|accdc|dojo toolkit|glow|jquery|midori|mootools|prototype javascript framework|yui library|ample sdk|dhtmlx|dojo widgets|ext js|ix framework|jquery ui|lively kernel|qooxdoo|script.aculo.us|smartclient|angularjs|atoms.js|backbone.js|cappuccino|chaplin.js|echo|ember.js|enyo|google web toolkit|javascriptmvc|knockout|rialto toolkit|sproutcore|wakanda framework|kendo|funcjs|google closure library|joose|jsphp|microsoft's ajax library|mochikit|pdf.js|rico|socket.io|spry framework|underscore.js|d3.js|javascript infovis toolkit|kinetic.js|processing.js|rapha\\xc3\\xabl|swfobject|three.js|createjs\""
       ]
      }
     ],
     "prompt_number": 55
    },
    {
     "cell_type": "code",
     "collapsed": false,
     "input": [
      "javascript_df = construct_repo_df(javascript_query)"
     ],
     "language": "python",
     "metadata": {},
     "outputs": [
      {
       "output_type": "stream",
       "stream": "stdout",
       "text": [
        "starting bigquery ... \n",
        "widget|accdc|dojo.?toolkit|glow|jquery|midori|mootools|prototype.?javascript.?framework|yui.?library|ample.?sdk|dhtmlx|dojo.?widgets|ext.?js|ix.?framework|jquery.?ui|lively.?kernel|qooxdoo|script.aculo.us|smartclient|angularjs|atoms.js|backbone.js|cappuccino|chaplin.js|echo|ember.js|enyo|google.?web.?toolkit|javascriptmvc|knockout|rialto.?toolkit|sproutcore|wakanda.?framework|kendo|funcjs|google.?closure.?library|joose|jsphp|microsoft's.?ajax.?library|mochikit|pdf.js|rico|socket.io|spry.?framework|underscore.js|d3.js|javascript.?infovis.?toolkit|kinetic.js|processing.js|rapha\u00ebl|swfobject|three.js|createjs\n",
        "\r",
        "Waiting on bqjob_r2fa5eae3345a5529_00000146201d520e_13 ... (0s) Current status: DONE   "
       ]
      },
      {
       "output_type": "stream",
       "stream": "stdout",
       "text": [
        "\n",
        "(213955, 3)"
       ]
      },
      {
       "output_type": "stream",
       "stream": "stdout",
       "text": [
        "\n"
       ]
      }
     ],
     "prompt_number": 58
    },
    {
     "cell_type": "code",
     "collapsed": false,
     "input": [
      "red.sadd('web_frontend_javascript', *javascript_df.full_name)"
     ],
     "language": "python",
     "metadata": {},
     "outputs": [
      {
       "metadata": {},
       "output_type": "pyout",
       "prompt_number": 59,
       "text": [
        "213946"
       ]
      }
     ],
     "prompt_number": 59
    },
    {
     "cell_type": "markdown",
     "metadata": {},
     "source": [
      "A small list of libraries, but a lot of repos -- 0.2M"
     ]
    },
    {
     "cell_type": "markdown",
     "metadata": {},
     "source": [
      "## CSS processors\n",
      "\n",
      "Again, these are widely used components for structuring the content of webpages. A couple of dozen are in use. "
     ]
    },
    {
     "cell_type": "code",
     "collapsed": false,
     "input": [
      "csslist = pd.read_csv('topic_lists/css_list.csv', header=None, names = ['name'])\n",
      "csslist.head()"
     ],
     "language": "python",
     "metadata": {},
     "outputs": [
      {
       "html": [
        "<div style=\"max-height:1000px;max-width:1500px;overflow:auto;\">\n",
        "<table border=\"1\" class=\"dataframe\">\n",
        "  <thead>\n",
        "    <tr style=\"text-align: right;\">\n",
        "      <th></th>\n",
        "      <th>name</th>\n",
        "    </tr>\n",
        "  </thead>\n",
        "  <tbody>\n",
        "    <tr>\n",
        "      <th>0</th>\n",
        "      <td>     960 grid system</td>\n",
        "    </tr>\n",
        "    <tr>\n",
        "      <th>1</th>\n",
        "      <td>           Blueprint</td>\n",
        "    </tr>\n",
        "    <tr>\n",
        "      <th>2</th>\n",
        "      <td> Bluesky Grid system</td>\n",
        "    </tr>\n",
        "    <tr>\n",
        "      <th>3</th>\n",
        "      <td>           Bootstrap</td>\n",
        "    </tr>\n",
        "    <tr>\n",
        "      <th>4</th>\n",
        "      <td>            Cardinal</td>\n",
        "    </tr>\n",
        "  </tbody>\n",
        "</table>\n",
        "<p>5 rows \u00d7 1 columns</p>\n",
        "</div>"
       ],
       "metadata": {},
       "output_type": "pyout",
       "prompt_number": 60,
       "text": [
        "                  name\n",
        "0      960 grid system\n",
        "1            Blueprint\n",
        "2  Bluesky Grid system\n",
        "3            Bootstrap\n",
        "4             Cardinal\n",
        "\n",
        "[5 rows x 1 columns]"
       ]
      }
     ],
     "prompt_number": 60
    },
    {
     "cell_type": "code",
     "collapsed": false,
     "input": [
      "cssquery = 'css|'+'|'.join(csslist['name'][:30]).lower()\n",
      "cssquery"
     ],
     "language": "python",
     "metadata": {},
     "outputs": [
      {
       "metadata": {},
       "output_type": "pyout",
       "prompt_number": 61,
       "text": [
        "'css|960 grid system|blueprint|bluesky grid system|bootstrap|cardinal|cascade framework|cascade framework light|chopstick|columnal|dismantle|emastic|floatz|fluidable|foundation|gumby framework|ink|jaidee framework|jeet grid system|knacss|kube|kule css lazy|malo|pure|responsive grid system|r\\xc3\\x96cssti|schema ui / built with less|semantic ui|skeleton|stacklayout|thao framework'"
       ]
      }
     ],
     "prompt_number": 61
    },
    {
     "cell_type": "code",
     "collapsed": false,
     "input": [
      "css_df = construct_repo_df(cssquery)"
     ],
     "language": "python",
     "metadata": {},
     "outputs": [
      {
       "output_type": "stream",
       "stream": "stdout",
       "text": [
        "starting bigquery ... \n",
        "css|960.?grid.?system|blueprint|bluesky.?grid.?system|bootstrap|cardinal|cascade.?framework|cascade.?framework.?light|chopstick|columnal|dismantle|emastic|floatz|fluidable|foundation|gumby.?framework|ink|jaidee.?framework|jeet.?grid.?system|knacss|kube|kule.?css.?lazy|malo|pure|responsive.?grid.?system|r\u00d6cssti|schema.?ui.?/.?built.?with.?less|semantic.?ui|skeleton|stacklayout|thao.?framework\n",
        "\r",
        "Waiting on bqjob_r46278bf2ff1a213f_00000146201df31c_14 ... (0s) Current status: DONE   "
       ]
      },
      {
       "output_type": "stream",
       "stream": "stdout",
       "text": [
        "\n",
        "(271684, 3)"
       ]
      },
      {
       "output_type": "stream",
       "stream": "stdout",
       "text": [
        "\n"
       ]
      }
     ],
     "prompt_number": 62
    },
    {
     "cell_type": "code",
     "collapsed": false,
     "input": [
      "red.sadd('css', *css_df.full_name)"
     ],
     "language": "python",
     "metadata": {},
     "outputs": [
      {
       "metadata": {},
       "output_type": "pyout",
       "prompt_number": 63,
       "text": [
        "271665"
       ]
      }
     ],
     "prompt_number": 63
    },
    {
     "cell_type": "code",
     "collapsed": false,
     "input": [
      "css_df.head(10)"
     ],
     "language": "python",
     "metadata": {},
     "outputs": [
      {
       "html": [
        "<div style=\"max-height:1000px;max-width:1500px;overflow:auto;\">\n",
        "<table border=\"1\" class=\"dataframe\">\n",
        "  <thead>\n",
        "    <tr style=\"text-align: right;\">\n",
        "      <th></th>\n",
        "      <th>name</th>\n",
        "      <th>full_name</th>\n",
        "      <th>fork</th>\n",
        "    </tr>\n",
        "  </thead>\n",
        "  <tbody>\n",
        "    <tr>\n",
        "      <th>0</th>\n",
        "      <td>     Under_Foundation</td>\n",
        "      <td>  colegeissinger/Under_Foundation</td>\n",
        "      <td> 0</td>\n",
        "    </tr>\n",
        "    <tr>\n",
        "      <th>1</th>\n",
        "      <td>          pykeylogger</td>\n",
        "      <td>        the-darknight/pykeylogger</td>\n",
        "      <td> 1</td>\n",
        "    </tr>\n",
        "    <tr>\n",
        "      <th>2</th>\n",
        "      <td>            bootstrap</td>\n",
        "      <td>            justin-john/bootstrap</td>\n",
        "      <td> 1</td>\n",
        "    </tr>\n",
        "    <tr>\n",
        "      <th>3</th>\n",
        "      <td>             PlurkCSS</td>\n",
        "      <td>                 howar31/PlurkCSS</td>\n",
        "      <td> 1</td>\n",
        "    </tr>\n",
        "    <tr>\n",
        "      <th>4</th>\n",
        "      <td>            bootstrap</td>\n",
        "      <td>          hummingbird12/bootstrap</td>\n",
        "      <td> 1</td>\n",
        "    </tr>\n",
        "    <tr>\n",
        "      <th>5</th>\n",
        "      <td> tieu-de-bai-viet-moi</td>\n",
        "      <td> kickauthor1/tieu-de-bai-viet-moi</td>\n",
        "      <td> 0</td>\n",
        "    </tr>\n",
        "    <tr>\n",
        "      <th>6</th>\n",
        "      <td>       bootstrap-sass</td>\n",
        "      <td>         shaggyone/bootstrap-sass</td>\n",
        "      <td> 1</td>\n",
        "    </tr>\n",
        "    <tr>\n",
        "      <th>7</th>\n",
        "      <td>               liuyan</td>\n",
        "      <td>               zliangjiang/liuyan</td>\n",
        "      <td> 0</td>\n",
        "    </tr>\n",
        "    <tr>\n",
        "      <th>8</th>\n",
        "      <td>            bootstrap</td>\n",
        "      <td>              kabaskimy/bootstrap</td>\n",
        "      <td> 1</td>\n",
        "    </tr>\n",
        "    <tr>\n",
        "      <th>9</th>\n",
        "      <td>     Foundation-Pixel</td>\n",
        "      <td> FoundationPixel/Foundation-Pixel</td>\n",
        "      <td> 0</td>\n",
        "    </tr>\n",
        "  </tbody>\n",
        "</table>\n",
        "<p>10 rows \u00d7 3 columns</p>\n",
        "</div>"
       ],
       "metadata": {},
       "output_type": "pyout",
       "prompt_number": 64,
       "text": [
        "                   name                         full_name  fork\n",
        "0      Under_Foundation   colegeissinger/Under_Foundation     0\n",
        "1           pykeylogger         the-darknight/pykeylogger     1\n",
        "2             bootstrap             justin-john/bootstrap     1\n",
        "3              PlurkCSS                  howar31/PlurkCSS     1\n",
        "4             bootstrap           hummingbird12/bootstrap     1\n",
        "5  tieu-de-bai-viet-moi  kickauthor1/tieu-de-bai-viet-moi     0\n",
        "6        bootstrap-sass          shaggyone/bootstrap-sass     1\n",
        "7                liuyan                zliangjiang/liuyan     0\n",
        "8             bootstrap               kabaskimy/bootstrap     1\n",
        "9      Foundation-Pixel  FoundationPixel/Foundation-Pixel     0\n",
        "\n",
        "[10 rows x 3 columns]"
       ]
      }
     ],
     "prompt_number": 64
    },
    {
     "cell_type": "markdown",
     "metadata": {},
     "source": [
      "Quite a lot here -- around 0.2 M"
     ]
    },
    {
     "cell_type": "markdown",
     "metadata": {},
     "source": [
      "## Git and github related tools\n"
     ]
    },
    {
     "cell_type": "code",
     "collapsed": false,
     "input": [
      "git_query = 'git|(github)'\n",
      "git_df = construct_repo_df(git_query, description=False)"
     ],
     "language": "python",
     "metadata": {},
     "outputs": [
      {
       "output_type": "stream",
       "stream": "stdout",
       "text": [
        "starting bigquery ... \n",
        "git|github\n",
        "\r",
        "Waiting on bqjob_r3f5cd596c805e0d5_00000146201ea50c_15 ... (0s) Current status: DONE   "
       ]
      },
      {
       "output_type": "stream",
       "stream": "stdout",
       "text": [
        "\n",
        "(368120, 3)"
       ]
      },
      {
       "output_type": "stream",
       "stream": "stdout",
       "text": [
        "\n"
       ]
      }
     ],
     "prompt_number": 65
    },
    {
     "cell_type": "code",
     "collapsed": false,
     "input": [
      "git_df.head(20)\n",
      "red.sadd('git', *git_df.full_name)"
     ],
     "language": "python",
     "metadata": {},
     "outputs": [
      {
       "metadata": {},
       "output_type": "pyout",
       "prompt_number": 69,
       "text": [
        "0"
       ]
      }
     ],
     "prompt_number": 69
    },
    {
     "cell_type": "markdown",
     "metadata": {},
     "source": [
      "Ok, as expected, quite a few here. I haven't worked out a way to exclude all the "
     ]
    },
    {
     "cell_type": "markdown",
     "metadata": {},
     "source": [
      "## Editor and command configs - dot files\n",
      "\n",
      "I'm thinking these are really important to programmers work. They are commonly known as 'dotfiles.' The query here is very loose. There might be additional terms needed. "
     ]
    },
    {
     "cell_type": "code",
     "collapsed": false,
     "input": [
      "dotquery = 'bash|zsh|tmux|csh|vim|emacs|dot?file'\n",
      "dot_df = construct_repo_df(dotquery)\n",
      "red.sadd('dot_files', *dot_df.full_name)\n"
     ],
     "language": "python",
     "metadata": {},
     "outputs": [
      {
       "output_type": "stream",
       "stream": "stdout",
       "text": [
        "starting bigquery ... \n",
        "bash|zsh|tmux|csh|vim|emacs|dot?file\n",
        "\r",
        "Waiting on bqjob_r829d8158da095f1_00000146201f8ec8_16 ... (0s) Current status: DONE   "
       ]
      },
      {
       "output_type": "stream",
       "stream": "stdout",
       "text": [
        "\n",
        "(161760, 3)"
       ]
      },
      {
       "output_type": "stream",
       "stream": "stdout",
       "text": [
        "\n"
       ]
      },
      {
       "metadata": {},
       "output_type": "pyout",
       "prompt_number": 67,
       "text": [
        "161722"
       ]
      }
     ],
     "prompt_number": 67
    },
    {
     "cell_type": "markdown",
     "metadata": {},
     "source": [
      "Again, quite a few here - around 0.15 M."
     ]
    },
    {
     "cell_type": "markdown",
     "metadata": {},
     "source": [
      "## Server admin, virtualization and infrastructures\n",
      "\n",
      "These are quite large low level bodies of software, including cloud, virtualization, application servers, etc. This list is from newrelic.com. Again, around 120 exist. "
     ]
    },
    {
     "cell_type": "code",
     "collapsed": false,
     "input": [
      "server = pd.read_csv('topic_lists/opsadmin.csv', header=None, names = ['name', 'type'], na_filter=True, sep='\\t')\n",
      "print server.shape\n",
      "server.dropna(inplace=True)\n",
      "server.head()\n"
     ],
     "language": "python",
     "metadata": {},
     "outputs": [
      {
       "output_type": "stream",
       "stream": "stdout",
       "text": [
        "(127, 2)\n"
       ]
      },
      {
       "html": [
        "<div style=\"max-height:1000px;max-width:1500px;overflow:auto;\">\n",
        "<table border=\"1\" class=\"dataframe\">\n",
        "  <thead>\n",
        "    <tr style=\"text-align: right;\">\n",
        "      <th></th>\n",
        "      <th>name</th>\n",
        "      <th>type</th>\n",
        "    </tr>\n",
        "  </thead>\n",
        "  <tbody>\n",
        "    <tr>\n",
        "      <th>0</th>\n",
        "      <td>        Linux</td>\n",
        "      <td> Operating Systems</td>\n",
        "    </tr>\n",
        "    <tr>\n",
        "      <th>1</th>\n",
        "      <td>         Unix</td>\n",
        "      <td> Operating Systems</td>\n",
        "    </tr>\n",
        "    <tr>\n",
        "      <th>2</th>\n",
        "      <td>      Windows</td>\n",
        "      <td> Operating Systems</td>\n",
        "    </tr>\n",
        "    <tr>\n",
        "      <th>3</th>\n",
        "      <td>      Solaris</td>\n",
        "      <td> Operating Systems</td>\n",
        "    </tr>\n",
        "    <tr>\n",
        "      <th>4</th>\n",
        "      <td>     Mac OS X</td>\n",
        "      <td> Operating Systems</td>\n",
        "    </tr>\n",
        "  </tbody>\n",
        "</table>\n",
        "<p>5 rows \u00d7 2 columns</p>\n",
        "</div>"
       ],
       "metadata": {},
       "output_type": "pyout",
       "prompt_number": 71,
       "text": [
        "           name               type\n",
        "0         Linux  Operating Systems\n",
        "1          Unix  Operating Systems\n",
        "2       Windows  Operating Systems\n",
        "3       Solaris  Operating Systems\n",
        "4      Mac OS X  Operating Systems\n",
        "\n",
        "[5 rows x 2 columns]"
       ]
      }
     ],
     "prompt_number": 71
    },
    {
     "cell_type": "code",
     "collapsed": false,
     "input": [
      "serverquery   = '|'.join(server['name'].str.strip()).lower()\n",
      "serverquery"
     ],
     "language": "python",
     "metadata": {},
     "outputs": [
      {
       "metadata": {},
       "output_type": "pyout",
       "prompt_number": 72,
       "text": [
        "'linux|unix|windows|solaris|mac os x|amazon web services j|rackspace j|cloud foundry|azure|google cloud|openstack|centos|redhat|ubuntu|debian|gentoo|slackware|vmware|kvm|xen|virtualbox|lxc|solaris containers|kickstart|cobbler|puppet|mcollective|chef|ansible|cfengine j|saltstack|rancid|jenkins|maven|ant|jboss|tomcat|jetty|glassfish|websphere|nginx|apache|activemq|rabbitmq|memcache|varnish|new relic|nagios|icinga|graphite|ganglia|cacti|pagerduty j|papertrail|logstash|loggly|splunk|monit|runit|supervisor|god|blue pill|upstart|snorby threat stack|tripwire|multihost ssh wrapper|code climate|iperf'"
       ]
      }
     ],
     "prompt_number": 72
    },
    {
     "cell_type": "code",
     "collapsed": false,
     "input": [
      "server_df = construct_repo_df(serverquery, description=False)"
     ],
     "language": "python",
     "metadata": {},
     "outputs": [
      {
       "output_type": "stream",
       "stream": "stdout",
       "text": [
        "starting bigquery ... \n",
        "linux|unix|windows|solaris|mac.?os.?x|amazon.?web.?services.?j|rackspace.?j|cloud.?foundry|azure|google.?cloud|openstack|centos|redhat|ubuntu|debian|gentoo|slackware|vmware|kvm|xen|virtualbox|lxc|solaris.?containers|kickstart|cobbler|puppet|mcollective|chef|ansible|cfengine.?j|saltstack|rancid|jenkins|maven|ant|jboss|tomcat|jetty|glassfish|websphere|nginx|apache|activemq|rabbitmq|memcache|varnish|new.?relic|nagios|icinga|graphite|ganglia|cacti|pagerduty.?j|papertrail|logstash|loggly|splunk|monit|runit|supervisor|god|blue.?pill|upstart|snorby.?threat.?stack|tripwire|multihost.?ssh.?wrapper|code.?climate|iperf\n",
        "\r",
        "Waiting on bqjob_r143f8e919d392335_00000146203616bd_18 ... (0s) Current status: DONE   "
       ]
      },
      {
       "output_type": "stream",
       "stream": "stdout",
       "text": [
        "\n",
        "(273133, 3)"
       ]
      },
      {
       "output_type": "stream",
       "stream": "stdout",
       "text": [
        "\n"
       ]
      }
     ],
     "prompt_number": 75
    },
    {
     "cell_type": "code",
     "collapsed": false,
     "input": [
      "server_df.head(20)"
     ],
     "language": "python",
     "metadata": {},
     "outputs": [
      {
       "html": [
        "<div style=\"max-height:1000px;max-width:1500px;overflow:auto;\">\n",
        "<table border=\"1\" class=\"dataframe\">\n",
        "  <thead>\n",
        "    <tr style=\"text-align: right;\">\n",
        "      <th></th>\n",
        "      <th>name</th>\n",
        "      <th>full_name</th>\n",
        "      <th>fork</th>\n",
        "    </tr>\n",
        "  </thead>\n",
        "  <tbody>\n",
        "    <tr>\n",
        "      <th>0 </th>\n",
        "      <td>                    symantec-ghost-serial</td>\n",
        "      <td>                profsefthema/symantec-ghost-serial</td>\n",
        "      <td> 0</td>\n",
        "    </tr>\n",
        "    <tr>\n",
        "      <th>1 </th>\n",
        "      <td> symantec-ghost-imaging-software-download</td>\n",
        "      <td> zaptothynus/symantec-ghost-imaging-software-do...</td>\n",
        "      <td> 0</td>\n",
        "    </tr>\n",
        "    <tr>\n",
        "      <th>2 </th>\n",
        "      <td>            symantec-ghost-solution-crack</td>\n",
        "      <td>        siopercpopan/symantec-ghost-solution-crack</td>\n",
        "      <td> 0</td>\n",
        "    </tr>\n",
        "    <tr>\n",
        "      <th>3 </th>\n",
        "      <td>     symantec-ghost-solution-suite-serial</td>\n",
        "      <td> desknistsusri/symantec-ghost-solution-suite-se...</td>\n",
        "      <td> 0</td>\n",
        "    </tr>\n",
        "    <tr>\n",
        "      <th>4 </th>\n",
        "      <td>         symantec-ghost-suite-20-download</td>\n",
        "      <td>       probicoviv/symantec-ghost-suite-20-download</td>\n",
        "      <td> 0</td>\n",
        "    </tr>\n",
        "    <tr>\n",
        "      <th>5 </th>\n",
        "      <td>            symantec-ghost-suite-25-crack</td>\n",
        "      <td>         cumssoplini/symantec-ghost-suite-25-crack</td>\n",
        "      <td> 0</td>\n",
        "    </tr>\n",
        "    <tr>\n",
        "      <th>6 </th>\n",
        "      <td>                   symantec-ghost-torrent</td>\n",
        "      <td>                   icabefta/symantec-ghost-torrent</td>\n",
        "      <td> 0</td>\n",
        "    </tr>\n",
        "    <tr>\n",
        "      <th>7 </th>\n",
        "      <td>           symantec-ghost-suite-20-serial</td>\n",
        "      <td>         mutamamarg/symantec-ghost-suite-20-serial</td>\n",
        "      <td> 0</td>\n",
        "    </tr>\n",
        "    <tr>\n",
        "      <th>8 </th>\n",
        "      <td>                     symantec-i3-download</td>\n",
        "      <td>                     ifatisxu/symantec-i3-download</td>\n",
        "      <td> 0</td>\n",
        "    </tr>\n",
        "    <tr>\n",
        "      <th>9 </th>\n",
        "      <td>            symantec-ghost-trial-download</td>\n",
        "      <td>       seabisrestmat/symantec-ghost-trial-download</td>\n",
        "      <td> 0</td>\n",
        "    </tr>\n",
        "    <tr>\n",
        "      <th>10</th>\n",
        "      <td>   symantec-ghost-solution-suite-download</td>\n",
        "      <td> tradmetaro/symantec-ghost-solution-suite-download</td>\n",
        "      <td> 0</td>\n",
        "    </tr>\n",
        "    <tr>\n",
        "      <th>11</th>\n",
        "      <td>     symantec-intelligent-update-download</td>\n",
        "      <td>  tairingdiro/symantec-intelligent-update-download</td>\n",
        "      <td> 0</td>\n",
        "    </tr>\n",
        "    <tr>\n",
        "      <th>12</th>\n",
        "      <td>    symantec-intelligent-updater-download</td>\n",
        "      <td> slufatchacal/symantec-intelligent-updater-down...</td>\n",
        "      <td> 0</td>\n",
        "    </tr>\n",
        "    <tr>\n",
        "      <th>13</th>\n",
        "      <td>                                   puppet</td>\n",
        "      <td>                                   gjscheer/puppet</td>\n",
        "      <td> 0</td>\n",
        "    </tr>\n",
        "    <tr>\n",
        "      <th>14</th>\n",
        "      <td>                       NodeMongoDBAngular</td>\n",
        "      <td>                        piyasde/NodeMongoDBAngular</td>\n",
        "      <td> 0</td>\n",
        "    </tr>\n",
        "    <tr>\n",
        "      <th>15</th>\n",
        "      <td>        symantec-internet-security-serial</td>\n",
        "      <td>    dauthemretor/symantec-internet-security-serial</td>\n",
        "      <td> 0</td>\n",
        "    </tr>\n",
        "    <tr>\n",
        "      <th>16</th>\n",
        "      <td>  symantec-internet-security-serial-carck</td>\n",
        "      <td> sioprololnsit/symantec-internet-security-seria...</td>\n",
        "      <td> 0</td>\n",
        "    </tr>\n",
        "    <tr>\n",
        "      <th>17</th>\n",
        "      <td>   symantec-internet-suite-trial-download</td>\n",
        "      <td> spygommapho/symantec-internet-suite-trial-down...</td>\n",
        "      <td> 0</td>\n",
        "    </tr>\n",
        "    <tr>\n",
        "      <th>18</th>\n",
        "      <td>                          symantec-keygen</td>\n",
        "      <td>                  tiasunsloughcont/symantec-keygen</td>\n",
        "      <td> 0</td>\n",
        "    </tr>\n",
        "    <tr>\n",
        "      <th>19</th>\n",
        "      <td>                 symantec-keygen-darklord</td>\n",
        "      <td>            colkolungness/symantec-keygen-darklord</td>\n",
        "      <td> 0</td>\n",
        "    </tr>\n",
        "  </tbody>\n",
        "</table>\n",
        "<p>20 rows \u00d7 3 columns</p>\n",
        "</div>"
       ],
       "metadata": {},
       "output_type": "pyout",
       "prompt_number": 141,
       "text": [
        "                                        name  \\\n",
        "0                      symantec-ghost-serial   \n",
        "1   symantec-ghost-imaging-software-download   \n",
        "2              symantec-ghost-solution-crack   \n",
        "3       symantec-ghost-solution-suite-serial   \n",
        "4           symantec-ghost-suite-20-download   \n",
        "5              symantec-ghost-suite-25-crack   \n",
        "6                     symantec-ghost-torrent   \n",
        "7             symantec-ghost-suite-20-serial   \n",
        "8                       symantec-i3-download   \n",
        "9              symantec-ghost-trial-download   \n",
        "10    symantec-ghost-solution-suite-download   \n",
        "11      symantec-intelligent-update-download   \n",
        "12     symantec-intelligent-updater-download   \n",
        "13                                    puppet   \n",
        "14                        NodeMongoDBAngular   \n",
        "15         symantec-internet-security-serial   \n",
        "16   symantec-internet-security-serial-carck   \n",
        "17    symantec-internet-suite-trial-download   \n",
        "18                           symantec-keygen   \n",
        "19                  symantec-keygen-darklord   \n",
        "\n",
        "                                            full_name  fork  \n",
        "0                  profsefthema/symantec-ghost-serial     0  \n",
        "1   zaptothynus/symantec-ghost-imaging-software-do...     0  \n",
        "2          siopercpopan/symantec-ghost-solution-crack     0  \n",
        "3   desknistsusri/symantec-ghost-solution-suite-se...     0  \n",
        "4         probicoviv/symantec-ghost-suite-20-download     0  \n",
        "5           cumssoplini/symantec-ghost-suite-25-crack     0  \n",
        "6                     icabefta/symantec-ghost-torrent     0  \n",
        "7           mutamamarg/symantec-ghost-suite-20-serial     0  \n",
        "8                       ifatisxu/symantec-i3-download     0  \n",
        "9         seabisrestmat/symantec-ghost-trial-download     0  \n",
        "10  tradmetaro/symantec-ghost-solution-suite-download     0  \n",
        "11   tairingdiro/symantec-intelligent-update-download     0  \n",
        "12  slufatchacal/symantec-intelligent-updater-down...     0  \n",
        "13                                    gjscheer/puppet     0  \n",
        "14                         piyasde/NodeMongoDBAngular     0  \n",
        "15     dauthemretor/symantec-internet-security-serial     0  \n",
        "16  sioprololnsit/symantec-internet-security-seria...     0  \n",
        "17  spygommapho/symantec-internet-suite-trial-down...     0  \n",
        "18                   tiasunsloughcont/symantec-keygen     0  \n",
        "19             colkolungness/symantec-keygen-darklord     0  \n",
        "\n",
        "[20 rows x 3 columns]"
       ]
      }
     ],
     "prompt_number": 141
    },
    {
     "cell_type": "code",
     "collapsed": false,
     "input": [
      "red.sadd('servers', *server_df.full_name)"
     ],
     "language": "python",
     "metadata": {},
     "outputs": [
      {
       "metadata": {},
       "output_type": "pyout",
       "prompt_number": 81,
       "text": [
        "273100"
       ]
      }
     ],
     "prompt_number": 81
    },
    {
     "cell_type": "markdown",
     "metadata": {},
     "source": [
      "Around 0.3 M repos here"
     ]
    },
    {
     "cell_type": "markdown",
     "metadata": {},
     "source": [
      "## Hardware devices and platforms\n"
     ]
    },
    {
     "cell_type": "code",
     "collapsed": false,
     "input": [
      "device_query = 'arduino|raspberry|android|ios|blackberry|armv|symbian'"
     ],
     "language": "python",
     "metadata": {},
     "outputs": [],
     "prompt_number": 85
    },
    {
     "cell_type": "code",
     "collapsed": false,
     "input": [
      "devices_df = construct_repo_df(device_query)"
     ],
     "language": "python",
     "metadata": {},
     "outputs": [
      {
       "output_type": "stream",
       "stream": "stdout",
       "text": [
        "starting bigquery ... \n",
        "arduino|raspberry|android|ios|blackberry|armv|symbian\n",
        "\r",
        "Waiting on bqjob_r21b2f42137ff493b_00000146203cb1b9_20 ... (0s) Current status: DONE   "
       ]
      },
      {
       "output_type": "stream",
       "stream": "stdout",
       "text": [
        "\n",
        "(323569, 3)"
       ]
      },
      {
       "output_type": "stream",
       "stream": "stdout",
       "text": [
        "\n"
       ]
      }
     ],
     "prompt_number": 86
    },
    {
     "cell_type": "code",
     "collapsed": false,
     "input": [
      "red.sadd('devices', *devices_df.name)"
     ],
     "language": "python",
     "metadata": {},
     "outputs": [
      {
       "metadata": {},
       "output_type": "pyout",
       "prompt_number": 142,
       "text": [
        "0"
       ]
      }
     ],
     "prompt_number": 142
    },
    {
     "cell_type": "code",
     "collapsed": false,
     "input": [
      "devices_df.head()"
     ],
     "language": "python",
     "metadata": {},
     "outputs": [
      {
       "html": [
        "<div style=\"max-height:1000px;max-width:1500px;overflow:auto;\">\n",
        "<table border=\"1\" class=\"dataframe\">\n",
        "  <thead>\n",
        "    <tr style=\"text-align: right;\">\n",
        "      <th></th>\n",
        "      <th>name</th>\n",
        "      <th>full_name</th>\n",
        "      <th>fork</th>\n",
        "    </tr>\n",
        "  </thead>\n",
        "  <tbody>\n",
        "    <tr>\n",
        "      <th>0</th>\n",
        "      <td>               android-kawa</td>\n",
        "      <td>                cadre-io/android-kawa</td>\n",
        "      <td> 1</td>\n",
        "    </tr>\n",
        "    <tr>\n",
        "      <th>1</th>\n",
        "      <td>                    android</td>\n",
        "      <td>                      SmileMx/android</td>\n",
        "      <td> 0</td>\n",
        "    </tr>\n",
        "    <tr>\n",
        "      <th>2</th>\n",
        "      <td>                  arm7-dasm</td>\n",
        "      <td>              the-darknight/arm7-dasm</td>\n",
        "      <td> 1</td>\n",
        "    </tr>\n",
        "    <tr>\n",
        "      <th>3</th>\n",
        "      <td>           AndroidKeyLogger</td>\n",
        "      <td>       the-darknight/AndroidKeyLogger</td>\n",
        "      <td> 1</td>\n",
        "    </tr>\n",
        "    <tr>\n",
        "      <th>4</th>\n",
        "      <td> BlurEffectForAndroidDesign</td>\n",
        "      <td> yang-chao/BlurEffectForAndroidDesign</td>\n",
        "      <td> 1</td>\n",
        "    </tr>\n",
        "  </tbody>\n",
        "</table>\n",
        "<p>5 rows \u00d7 3 columns</p>\n",
        "</div>"
       ],
       "metadata": {},
       "output_type": "pyout",
       "prompt_number": 88,
       "text": [
        "                         name                             full_name  fork\n",
        "0                android-kawa                 cadre-io/android-kawa     1\n",
        "1                     android                       SmileMx/android     0\n",
        "2                   arm7-dasm               the-darknight/arm7-dasm     1\n",
        "3            AndroidKeyLogger        the-darknight/AndroidKeyLogger     1\n",
        "4  BlurEffectForAndroidDesign  yang-chao/BlurEffectForAndroidDesign     1\n",
        "\n",
        "[5 rows x 3 columns]"
       ]
      }
     ],
     "prompt_number": 88
    },
    {
     "cell_type": "markdown",
     "metadata": {},
     "source": [
      "Ok, around 0.35M repos again -- this starting to sound familiar! Quite interesting to look more at ARM architectures, and perhaps follow up the very notion of architecture through code. "
     ]
    },
    {
     "cell_type": "markdown",
     "metadata": {},
     "source": [
      "## Social media platforms\n",
      "\n",
      "This is a huge one, combining several of the previous ones, again with several hundred cases"
     ]
    },
    {
     "cell_type": "code",
     "collapsed": false,
     "input": [
      "socialmedia = pd.read_csv('topic_lists/social_media.csv', header=0)\n",
      "socialmedia.shape\n",
      "socialmedia.head()"
     ],
     "language": "python",
     "metadata": {},
     "outputs": [
      {
       "html": [
        "<div style=\"max-height:1000px;max-width:1500px;overflow:auto;\">\n",
        "<table border=\"1\" class=\"dataframe\">\n",
        "  <thead>\n",
        "    <tr style=\"text-align: right;\">\n",
        "      <th></th>\n",
        "      <th>name</th>\n",
        "      <th>description</th>\n",
        "      <th>start</th>\n",
        "      <th>users</th>\n",
        "      <th>Registration post responses and questions </th>\n",
        "      <th>Ranking</th>\n",
        "    </tr>\n",
        "  </thead>\n",
        "  <tbody>\n",
        "    <tr>\n",
        "      <th>0</th>\n",
        "      <td>    43 Things </td>\n",
        "      <td>                     Goal setting and achievement </td>\n",
        "      <td> 1 January 2005 </td>\n",
        "      <td> 3,000,000[2] </td>\n",
        "      <td>     Open </td>\n",
        "      <td>  12,914[3]</td>\n",
        "    </tr>\n",
        "    <tr>\n",
        "      <th>1</th>\n",
        "      <td> Academia.edu </td>\n",
        "      <td> Social networking site for academics/researchers </td>\n",
        "      <td> September 2008 </td>\n",
        "      <td>   211,000[4] </td>\n",
        "      <td>     Open </td>\n",
        "      <td>   1,995[5]</td>\n",
        "    </tr>\n",
        "    <tr>\n",
        "      <th>2</th>\n",
        "      <td>     About.me </td>\n",
        "      <td>                           Social networking site </td>\n",
        "      <td>   October 2009 </td>\n",
        "      <td> 5,000,000[6] </td>\n",
        "      <td>     Open </td>\n",
        "      <td>       1447</td>\n",
        "    </tr>\n",
        "    <tr>\n",
        "      <th>3</th>\n",
        "      <td>     Advogato </td>\n",
        "      <td>         Free and open source software developers </td>\n",
        "      <td>            1999</td>\n",
        "      <td>    13,575[7] </td>\n",
        "      <td>     Open </td>\n",
        "      <td> 292,620[8]</td>\n",
        "    </tr>\n",
        "    <tr>\n",
        "      <th>4</th>\n",
        "      <td>       aNobii </td>\n",
        "      <td>                                            Books </td>\n",
        "      <td>            2006</td>\n",
        "      <td>         Open </td>\n",
        "      <td> 26,939[9]</td>\n",
        "      <td>        NaN</td>\n",
        "    </tr>\n",
        "  </tbody>\n",
        "</table>\n",
        "<p>5 rows \u00d7 6 columns</p>\n",
        "</div>"
       ],
       "metadata": {},
       "output_type": "pyout",
       "prompt_number": 89,
       "text": [
        "            name                                        description  \\\n",
        "0     43 Things                       Goal setting and achievement    \n",
        "1  Academia.edu   Social networking site for academics/researchers    \n",
        "2      About.me                             Social networking site    \n",
        "3      Advogato           Free and open source software developers    \n",
        "4        aNobii                                              Books    \n",
        "\n",
        "             start          users Registration post responses and questions   \\\n",
        "0  1 January 2005   3,000,000[2]                                       Open    \n",
        "1  September 2008     211,000[4]                                       Open    \n",
        "2    October 2009   5,000,000[6]                                       Open    \n",
        "3             1999     13,575[7]                                       Open    \n",
        "4             2006          Open                                   26,939[9]   \n",
        "\n",
        "      Ranking  \n",
        "0   12,914[3]  \n",
        "1    1,995[5]  \n",
        "2        1447  \n",
        "3  292,620[8]  \n",
        "4         NaN  \n",
        "\n",
        "[5 rows x 6 columns]"
       ]
      }
     ],
     "prompt_number": 89
    },
    {
     "cell_type": "code",
     "collapsed": false,
     "input": [
      "socialmediaquery = 'wikipedia|'+'|'.join(socialmedia['name'].str.strip()).lower()\n",
      "print socialmediaquery"
     ],
     "language": "python",
     "metadata": {},
     "outputs": [
      {
       "output_type": "stream",
       "stream": "stdout",
       "text": [
        "wikipedia|43 things|academia.edu|about.me|advogato|anobii|asianavenue|asmallworld|athlinks|audimated.com|bebo|biip.no|blackplanet|blauk|blogster|bolt.com|busuu|buzznet|cafemom|care2|caringbridge|classmates.com|cloob|couchsurfing|cozycot|cross.tv|crunchyroll|cyworld|dailybooth|dailystrength|delicious|deviantart|diaspora*|didlr|disaboom|dol2day|dontstayin|draugiem.lv|douban|dxy.cn|elftown|elixio|english, baby!|epernicus|eons.com|etoro|experience project|exploroo|facebook|faceparty|faces.com|fetlife|filmaffinity|filmow|fledgewing|flixster|flickr|focus.com|formspring|fotki|fotolog|foursquare|friendica|friends reunited|friendster|fr\u00fchst\u00fcckstreff|fuelmyblog|fullcircle|gaia online|gamerdna|gapyear.com|gather.com|gays.com|geni.com|getglue|gogoyoko|goodreads|goodwizz|google+|govloop|grono.net|habbo|hi5|hospitality club|hotlist|hr.com|hub culture|hyves|ibibo|identi.ca|indaba music|instagram|irc-galleria|italki.com|itsmy|iwiw|jaiku|jiepang|kaixin001|kiwibox|lafango|laibhaari|last.fm|librarything|lifeknot|linkedin|linkexpats|listography|livejournal|livemocha|makeoutclub|meetin|meetup (website)|meettheboss|millatfacebook|mixi|mocospace|mog|mouthshut.com|mubi|myheritage|mylife|my opera|myspace|nasza-klasa.pl|netlog|nexopia|ngo post|ning|odnoklassniki|open diary|orkut|outeverywhere|patientslikeme|partyflock|pingsta|pinterest|plaxo|playfire|playlist.com|plurk|poolwo|qapacity|quechup|qzone|raptr|ravelry|renren|reverbnation.com|ryze|sciencestage|sgrouples|sharethemusic|shelfari|sina weibo|skoob|skyrock|socialvibe|sonico.com|soundcloud|spaces|stage 32|stickam|studivz|students circle network|stumbleupon|tagged|talkbiznow|taltopia|taringa!|teachstreet|termwiki|the sphere|travbuddy.com|travellerspoint|tribe.net|trombi.com|tuenti|tumblr|twitter|tylted|vkontakte|vampirefreaks.com|viadeo|virb|vox|wattpad|wayn|weeworld|we heart it|wellwer|weourfamily|wepolls.com|wer-kennt-wen|weread|wiser.org|wooxie|writeaprisoner.com|xanga|xing|xt3|yammer|yelp, inc.|zoo.gr|zooppa\n"
       ]
      }
     ],
     "prompt_number": 90
    },
    {
     "cell_type": "code",
     "collapsed": false,
     "input": [
      "socialmedia_df = construct_repo_df(socialmediaquery, description = False)"
     ],
     "language": "python",
     "metadata": {},
     "outputs": [
      {
       "output_type": "stream",
       "stream": "stdout",
       "text": [
        "starting bigquery ... \n",
        "wikipedia|43.?things|academia.edu|about.me|advogato|anobii|asianavenue|asmallworld|athlinks|audimated.com|bebo|biip.no|blackplanet|blauk|blogster|bolt.com|busuu|buzznet|cafemom|care2|caringbridge|classmates.com|cloob|couchsurfing|cozycot|cross.tv|crunchyroll|cyworld|dailybooth|dailystrength|delicious|deviantart|diaspora*|didlr|disaboom|dol2day|dontstayin|draugiem.lv|douban|dxy.cn|elftown|elixio|english.?baby!|epernicus|eons.com|etoro|experience.?project|exploroo|facebook|faceparty|faces.com|fetlife|filmaffinity|filmow|fledgewing|flixster|flickr|focus.com|formspring|fotki|fotolog|foursquare|friendica|friends.?reunited|friendster|fr\u00fchst\u00fcckstreff|fuelmyblog|fullcircle|gaia.?online|gamerdna|gapyear.com|gather.com|gays.com|geni.com|getglue|gogoyoko|goodreads|goodwizz|google.?|govloop|grono.net|habbo|hi5|hospitality.?club|hotlist|hr.com|hub.?culture|hyves|ibibo|identi.ca|indaba.?music|instagram|irc.?galleria|italki.com|itsmy|iwiw|jaiku|jiepang|kaixin001|kiwibox|lafango|laibhaari|last.fm|librarything|lifeknot|linkedin|linkexpats|listography|livejournal|livemocha|makeoutclub|meetin|meetup.?website|meettheboss|millatfacebook|mixi|mocospace|mog|mouthshut.com|mubi|myheritage|mylife|my.?opera|myspace|nasza.?klasa.pl|netlog|nexopia|ngo.?post|ning|odnoklassniki|open.?diary|orkut|outeverywhere|patientslikeme|partyflock|pingsta|pinterest|plaxo|playfire|playlist.com|plurk|poolwo|qapacity|quechup|qzone|raptr|ravelry|renren|reverbnation.com|ryze|sciencestage|sgrouples|sharethemusic|shelfari|sina.?weibo|skoob|skyrock|socialvibe|sonico.com|soundcloud|spaces|stage.?32|stickam|studivz|students.?circle.?network|stumbleupon|tagged|talkbiznow|taltopia|taringa!|teachstreet|termwiki|the.?sphere|travbuddy.com|travellerspoint|tribe.net|trombi.com|tuenti|tumblr|twitter|tylted|vkontakte|vampirefreaks.com|viadeo|virb|vox|wattpad|wayn|weeworld|we.?heart.?it|wellwer|weourfamily|wepolls.com|wer.?kennt.?wen|weread|wiser.org|wooxie|writeaprisoner.com|xanga|xing|xt3|yammer|yelp.?inc.|zoo.gr|zooppa\n",
        "\r",
        "Waiting on bqjob_r1bca3395151b160a_00000146203dd18f_21 ... (0s) Current status: DONE   "
       ]
      },
      {
       "output_type": "stream",
       "stream": "stdout",
       "text": [
        "\n",
        "(156058, 3)"
       ]
      },
      {
       "output_type": "stream",
       "stream": "stdout",
       "text": [
        "\n"
       ]
      }
     ],
     "prompt_number": 91
    },
    {
     "cell_type": "code",
     "collapsed": false,
     "input": [
      "red.sadd('social_media', *socialmedia_df.full_name)"
     ],
     "language": "python",
     "metadata": {},
     "outputs": [
      {
       "metadata": {},
       "output_type": "pyout",
       "prompt_number": 148,
       "text": [
        "156050"
       ]
      }
     ],
     "prompt_number": 148
    },
    {
     "cell_type": "markdown",
     "metadata": {},
     "source": [
      "Almost 157k repositories here. Is that mostly noise?"
     ]
    },
    {
     "cell_type": "code",
     "collapsed": false,
     "input": [
      "socialmedia_df.head(30)"
     ],
     "language": "python",
     "metadata": {},
     "outputs": [
      {
       "html": [
        "<div style=\"max-height:1000px;max-width:1500px;overflow:auto;\">\n",
        "<table border=\"1\" class=\"dataframe\">\n",
        "  <thead>\n",
        "    <tr style=\"text-align: right;\">\n",
        "      <th></th>\n",
        "      <th>name</th>\n",
        "      <th>full_name</th>\n",
        "      <th>fork</th>\n",
        "    </tr>\n",
        "  </thead>\n",
        "  <tbody>\n",
        "    <tr>\n",
        "      <th>0 </th>\n",
        "      <td>                             PlurkCSS</td>\n",
        "      <td>                               howar31/PlurkCSS</td>\n",
        "      <td> 1</td>\n",
        "    </tr>\n",
        "    <tr>\n",
        "      <th>1 </th>\n",
        "      <td>                     ZXing.Net.Mobile</td>\n",
        "      <td>                  JerryLee7809/ZXing.Net.Mobile</td>\n",
        "      <td> 1</td>\n",
        "    </tr>\n",
        "    <tr>\n",
        "      <th>2 </th>\n",
        "      <td>                         twitteroauth</td>\n",
        "      <td>                     mathijsvdhurk/twitteroauth</td>\n",
        "      <td> 1</td>\n",
        "    </tr>\n",
        "    <tr>\n",
        "      <th>3 </th>\n",
        "      <td>           Recipes-for-Mining-Twitter</td>\n",
        "      <td>            winnerdy/Recipes-for-Mining-Twitter</td>\n",
        "      <td> 1</td>\n",
        "    </tr>\n",
        "    <tr>\n",
        "      <th>4 </th>\n",
        "      <td>                  DMActivityInstagram</td>\n",
        "      <td>               PrincessThan/DMActivityInstagram</td>\n",
        "      <td> 1</td>\n",
        "    </tr>\n",
        "    <tr>\n",
        "      <th>5 </th>\n",
        "      <td>                        wikipedia_api</td>\n",
        "      <td>                       gpherguson/wikipedia_api</td>\n",
        "      <td> 0</td>\n",
        "    </tr>\n",
        "    <tr>\n",
        "      <th>6 </th>\n",
        "      <td>                             facebook</td>\n",
        "      <td>                       harjeetsingh111/facebook</td>\n",
        "      <td> 0</td>\n",
        "    </tr>\n",
        "    <tr>\n",
        "      <th>7 </th>\n",
        "      <td>           symphony-learning-download</td>\n",
        "      <td>          teradotact/symphony-learning-download</td>\n",
        "      <td> 0</td>\n",
        "    </tr>\n",
        "    <tr>\n",
        "      <th>8 </th>\n",
        "      <td>                 facebook-android-sdk</td>\n",
        "      <td>                     slott/facebook-android-sdk</td>\n",
        "      <td> 1</td>\n",
        "    </tr>\n",
        "    <tr>\n",
        "      <th>9 </th>\n",
        "      <td>                 facebook-android-sdk</td>\n",
        "      <td>                 derfshaya/facebook-android-sdk</td>\n",
        "      <td> 1</td>\n",
        "    </tr>\n",
        "    <tr>\n",
        "      <th>10</th>\n",
        "      <td>                   SwanFlickrUploader</td>\n",
        "      <td>               entercritical/SwanFlickrUploader</td>\n",
        "      <td> 0</td>\n",
        "    </tr>\n",
        "    <tr>\n",
        "      <th>11</th>\n",
        "      <td>                          iOSTraining</td>\n",
        "      <td>                          tokyoaret/iOSTraining</td>\n",
        "      <td> 1</td>\n",
        "    </tr>\n",
        "    <tr>\n",
        "      <th>12</th>\n",
        "      <td>                  angular-google-maps</td>\n",
        "      <td>                      adato/angular-google-maps</td>\n",
        "      <td> 1</td>\n",
        "    </tr>\n",
        "    <tr>\n",
        "      <th>13</th>\n",
        "      <td>                     facebook-php-sdk</td>\n",
        "      <td>                      cabaltho/facebook-php-sdk</td>\n",
        "      <td> 1</td>\n",
        "    </tr>\n",
        "    <tr>\n",
        "      <th>14</th>\n",
        "      <td>                 twitterWithFragments</td>\n",
        "      <td>                   adi2188/twitterWithFragments</td>\n",
        "      <td> 0</td>\n",
        "    </tr>\n",
        "    <tr>\n",
        "      <th>15</th>\n",
        "      <td>             twitter-sentiment-python</td>\n",
        "      <td>            malikpunit/twitter-sentiment-python</td>\n",
        "      <td> 1</td>\n",
        "    </tr>\n",
        "    <tr>\n",
        "      <th>16</th>\n",
        "      <td>                              DemoGit</td>\n",
        "      <td>                                conrpa2/DemoGit</td>\n",
        "      <td> 0</td>\n",
        "    </tr>\n",
        "    <tr>\n",
        "      <th>17</th>\n",
        "      <td>                       FacebookSample</td>\n",
        "      <td>                   ngocthanh2207/FacebookSample</td>\n",
        "      <td> 1</td>\n",
        "    </tr>\n",
        "    <tr>\n",
        "      <th>18</th>\n",
        "      <td>                    soundcloud-player</td>\n",
        "      <td>                      SaLiVeR/soundcloud-player</td>\n",
        "      <td> 1</td>\n",
        "    </tr>\n",
        "    <tr>\n",
        "      <th>19</th>\n",
        "      <td>                     facebook-ios-sdk</td>\n",
        "      <td>                         indit/facebook-ios-sdk</td>\n",
        "      <td> 1</td>\n",
        "    </tr>\n",
        "    <tr>\n",
        "      <th>20</th>\n",
        "      <td>                             moghyron</td>\n",
        "      <td>                          a7medshe7ata/moghyron</td>\n",
        "      <td> 0</td>\n",
        "    </tr>\n",
        "    <tr>\n",
        "      <th>21</th>\n",
        "      <td>                          ACMTraining</td>\n",
        "      <td>                 AliaksandrSiarohin/ACMTraining</td>\n",
        "      <td> 0</td>\n",
        "    </tr>\n",
        "    <tr>\n",
        "      <th>22</th>\n",
        "      <td>         thewinningnumbers.github.com</td>\n",
        "      <td> TheWinningNumbers/thewinningnumbers.github.com</td>\n",
        "      <td> 0</td>\n",
        "    </tr>\n",
        "    <tr>\n",
        "      <th>23</th>\n",
        "      <td>             twitteroauth-codeigniter</td>\n",
        "      <td>      InquisitionMedia/twitteroauth-codeigniter</td>\n",
        "      <td> 0</td>\n",
        "    </tr>\n",
        "    <tr>\n",
        "      <th>24</th>\n",
        "      <td>                        facebook-stub</td>\n",
        "      <td>                           sdzyub/facebook-stub</td>\n",
        "      <td> 1</td>\n",
        "    </tr>\n",
        "    <tr>\n",
        "      <th>25</th>\n",
        "      <td> facebook-windows-phone-sample-master</td>\n",
        "      <td>  Quikcurl/facebook-windows-phone-sample-master</td>\n",
        "      <td> 0</td>\n",
        "    </tr>\n",
        "    <tr>\n",
        "      <th>26</th>\n",
        "      <td>             codeigniter-twitteroauth</td>\n",
        "      <td>              TheMorgz/codeigniter-twitteroauth</td>\n",
        "      <td> 0</td>\n",
        "    </tr>\n",
        "    <tr>\n",
        "      <th>27</th>\n",
        "      <td>                      twitter-api-php</td>\n",
        "      <td>                    stefanolaru/twitter-api-php</td>\n",
        "      <td> 1</td>\n",
        "    </tr>\n",
        "    <tr>\n",
        "      <th>28</th>\n",
        "      <td>                       destroytwitter</td>\n",
        "      <td>                       Sergik666/destroytwitter</td>\n",
        "      <td> 1</td>\n",
        "    </tr>\n",
        "    <tr>\n",
        "      <th>29</th>\n",
        "      <td>                      AndroidTraining</td>\n",
        "      <td>                          nlqip/AndroidTraining</td>\n",
        "      <td> 1</td>\n",
        "    </tr>\n",
        "  </tbody>\n",
        "</table>\n",
        "<p>30 rows \u00d7 3 columns</p>\n",
        "</div>"
       ],
       "metadata": {},
       "output_type": "pyout",
       "prompt_number": 93,
       "text": [
        "                                    name  \\\n",
        "0                               PlurkCSS   \n",
        "1                       ZXing.Net.Mobile   \n",
        "2                           twitteroauth   \n",
        "3             Recipes-for-Mining-Twitter   \n",
        "4                    DMActivityInstagram   \n",
        "5                          wikipedia_api   \n",
        "6                               facebook   \n",
        "7             symphony-learning-download   \n",
        "8                   facebook-android-sdk   \n",
        "9                   facebook-android-sdk   \n",
        "10                    SwanFlickrUploader   \n",
        "11                           iOSTraining   \n",
        "12                   angular-google-maps   \n",
        "13                      facebook-php-sdk   \n",
        "14                  twitterWithFragments   \n",
        "15              twitter-sentiment-python   \n",
        "16                               DemoGit   \n",
        "17                        FacebookSample   \n",
        "18                     soundcloud-player   \n",
        "19                      facebook-ios-sdk   \n",
        "20                              moghyron   \n",
        "21                           ACMTraining   \n",
        "22          thewinningnumbers.github.com   \n",
        "23              twitteroauth-codeigniter   \n",
        "24                         facebook-stub   \n",
        "25  facebook-windows-phone-sample-master   \n",
        "26              codeigniter-twitteroauth   \n",
        "27                       twitter-api-php   \n",
        "28                        destroytwitter   \n",
        "29                       AndroidTraining   \n",
        "\n",
        "                                         full_name  fork  \n",
        "0                                 howar31/PlurkCSS     1  \n",
        "1                    JerryLee7809/ZXing.Net.Mobile     1  \n",
        "2                       mathijsvdhurk/twitteroauth     1  \n",
        "3              winnerdy/Recipes-for-Mining-Twitter     1  \n",
        "4                 PrincessThan/DMActivityInstagram     1  \n",
        "5                         gpherguson/wikipedia_api     0  \n",
        "6                         harjeetsingh111/facebook     0  \n",
        "7            teradotact/symphony-learning-download     0  \n",
        "8                       slott/facebook-android-sdk     1  \n",
        "9                   derfshaya/facebook-android-sdk     1  \n",
        "10                entercritical/SwanFlickrUploader     0  \n",
        "11                           tokyoaret/iOSTraining     1  \n",
        "12                       adato/angular-google-maps     1  \n",
        "13                       cabaltho/facebook-php-sdk     1  \n",
        "14                    adi2188/twitterWithFragments     0  \n",
        "15             malikpunit/twitter-sentiment-python     1  \n",
        "16                                 conrpa2/DemoGit     0  \n",
        "17                    ngocthanh2207/FacebookSample     1  \n",
        "18                       SaLiVeR/soundcloud-player     1  \n",
        "19                          indit/facebook-ios-sdk     1  \n",
        "20                           a7medshe7ata/moghyron     0  \n",
        "21                  AliaksandrSiarohin/ACMTraining     0  \n",
        "22  TheWinningNumbers/thewinningnumbers.github.com     0  \n",
        "23       InquisitionMedia/twitteroauth-codeigniter     0  \n",
        "24                            sdzyub/facebook-stub     1  \n",
        "25   Quikcurl/facebook-windows-phone-sample-master     0  \n",
        "26               TheMorgz/codeigniter-twitteroauth     0  \n",
        "27                     stefanolaru/twitter-api-php     1  \n",
        "28                        Sergik666/destroytwitter     1  \n",
        "29                           nlqip/AndroidTraining     1  \n",
        "\n",
        "[30 rows x 3 columns]"
       ]
      }
     ],
     "prompt_number": 93
    },
    {
     "cell_type": "markdown",
     "metadata": {},
     "source": [
      "## Internet and communication protocols\n",
      "\n",
      "Again, these are so numerous when you take into account all the different ways computers talk to each other, and these protocols themselves could be a kind of map"
     ]
    },
    {
     "cell_type": "code",
     "collapsed": false,
     "input": [
      "iplist  = pd.read_csv('topic_lists/internet_protocols.csv', header=None, names = ['name'])\n",
      "iplist.shape"
     ],
     "language": "python",
     "metadata": {},
     "outputs": [
      {
       "metadata": {},
       "output_type": "pyout",
       "prompt_number": 94,
       "text": [
        "(17, 1)"
       ]
      }
     ],
     "prompt_number": 94
    },
    {
     "cell_type": "code",
     "collapsed": false,
     "input": [
      "ipquery = '|'.join(iplist['name'].str.strip()).lower()\n",
      "print ipquery"
     ],
     "language": "python",
     "metadata": {},
     "outputs": [
      {
       "output_type": "stream",
       "stream": "stdout",
       "text": [
        "bluetooth|rtps|ssh|ftp|smtp|telnet|http|https|sftp|ssl|tls|pop|ntp|ppp|nntp|imap|wifi\n"
       ]
      }
     ],
     "prompt_number": 95
    },
    {
     "cell_type": "code",
     "collapsed": false,
     "input": [
      "ip_df = construct_repo_df(ipquery)"
     ],
     "language": "python",
     "metadata": {},
     "outputs": [
      {
       "output_type": "stream",
       "stream": "stdout",
       "text": [
        "starting bigquery ... \n",
        "bluetooth|rtps|ssh|ftp|smtp|telnet|http|https|sftp|ssl|tls|pop|ntp|ppp|nntp|imap|wifi\n",
        "\r",
        "Waiting on bqjob_r73f6915efe7d764b_00000146203f539f_22 ... (0s) Current status: DONE   "
       ]
      },
      {
       "output_type": "stream",
       "stream": "stdout",
       "text": [
        "\n",
        "(251342, 3)"
       ]
      },
      {
       "output_type": "stream",
       "stream": "stdout",
       "text": [
        "\n"
       ]
      }
     ],
     "prompt_number": 96
    },
    {
     "cell_type": "code",
     "collapsed": false,
     "input": [
      "red.sadd('internet_protocols', *ip_df.full_name)"
     ],
     "language": "python",
     "metadata": {},
     "outputs": [
      {
       "metadata": {},
       "output_type": "pyout",
       "prompt_number": 97,
       "text": [
        "251286"
       ]
      }
     ],
     "prompt_number": 97
    },
    {
     "cell_type": "code",
     "collapsed": false,
     "input": [
      "ip_df.head(10)"
     ],
     "language": "python",
     "metadata": {},
     "outputs": [
      {
       "html": [
        "<div style=\"max-height:1000px;max-width:1500px;overflow:auto;\">\n",
        "<table border=\"1\" class=\"dataframe\">\n",
        "  <thead>\n",
        "    <tr style=\"text-align: right;\">\n",
        "      <th></th>\n",
        "      <th>name</th>\n",
        "      <th>full_name</th>\n",
        "      <th>fork</th>\n",
        "    </tr>\n",
        "  </thead>\n",
        "  <tbody>\n",
        "    <tr>\n",
        "      <th>0</th>\n",
        "      <td>            MBProgressHUD</td>\n",
        "      <td>            yabusai/MBProgressHUD</td>\n",
        "      <td> 1</td>\n",
        "    </tr>\n",
        "    <tr>\n",
        "      <th>1</th>\n",
        "      <td>              JZSwipeCell</td>\n",
        "      <td>                ios4u/JZSwipeCell</td>\n",
        "      <td> 1</td>\n",
        "    </tr>\n",
        "    <tr>\n",
        "      <th>2</th>\n",
        "      <td>     tieu-de-bai-viet-moi</td>\n",
        "      <td> kickauthor1/tieu-de-bai-viet-moi</td>\n",
        "      <td> 0</td>\n",
        "    </tr>\n",
        "    <tr>\n",
        "      <th>3</th>\n",
        "      <td>      flaming-octo-wookie</td>\n",
        "      <td>      ChingTi/flaming-octo-wookie</td>\n",
        "      <td> 0</td>\n",
        "    </tr>\n",
        "    <tr>\n",
        "      <th>4</th>\n",
        "      <td>     SublimeHttpRequester</td>\n",
        "      <td>       sefus/SublimeHttpRequester</td>\n",
        "      <td> 1</td>\n",
        "    </tr>\n",
        "    <tr>\n",
        "      <th>5</th>\n",
        "      <td>                   jersey</td>\n",
        "      <td>                mengql1987/jersey</td>\n",
        "      <td> 1</td>\n",
        "    </tr>\n",
        "    <tr>\n",
        "      <th>6</th>\n",
        "      <td>             MoreTextView</td>\n",
        "      <td>        silvio-icona/MoreTextView</td>\n",
        "      <td> 0</td>\n",
        "    </tr>\n",
        "    <tr>\n",
        "      <th>7</th>\n",
        "      <td>         SARAH-SSH-Plugin</td>\n",
        "      <td>      madrippeur/SARAH-SSH-Plugin</td>\n",
        "      <td> 1</td>\n",
        "    </tr>\n",
        "    <tr>\n",
        "      <th>8</th>\n",
        "      <td> elasticsearch-http-basic</td>\n",
        "      <td>   hagun/elasticsearch-http-basic</td>\n",
        "      <td> 1</td>\n",
        "    </tr>\n",
        "    <tr>\n",
        "      <th>9</th>\n",
        "      <td>                 magento2</td>\n",
        "      <td>                  soncao/magento2</td>\n",
        "      <td> 1</td>\n",
        "    </tr>\n",
        "  </tbody>\n",
        "</table>\n",
        "<p>10 rows \u00d7 3 columns</p>\n",
        "</div>"
       ],
       "metadata": {},
       "output_type": "pyout",
       "prompt_number": 98,
       "text": [
        "                       name                         full_name  fork\n",
        "0             MBProgressHUD             yabusai/MBProgressHUD     1\n",
        "1               JZSwipeCell                 ios4u/JZSwipeCell     1\n",
        "2      tieu-de-bai-viet-moi  kickauthor1/tieu-de-bai-viet-moi     0\n",
        "3       flaming-octo-wookie       ChingTi/flaming-octo-wookie     0\n",
        "4      SublimeHttpRequester        sefus/SublimeHttpRequester     1\n",
        "5                    jersey                 mengql1987/jersey     1\n",
        "6              MoreTextView         silvio-icona/MoreTextView     0\n",
        "7          SARAH-SSH-Plugin       madrippeur/SARAH-SSH-Plugin     1\n",
        "8  elasticsearch-http-basic    hagun/elasticsearch-http-basic     1\n",
        "9                  magento2                   soncao/magento2     1\n",
        "\n",
        "[10 rows x 3 columns]"
       ]
      }
     ],
     "prompt_number": 98
    },
    {
     "cell_type": "markdown",
     "metadata": {},
     "source": [
      "Some of these look a little bit irrelevant, but even if only 50% are right, there are still 100k internet protocol related projects."
     ]
    },
    {
     "cell_type": "markdown",
     "metadata": {},
     "source": [
      "## Machine learning code\n"
     ]
    },
    {
     "cell_type": "code",
     "collapsed": false,
     "input": [
      "ml_list = pd.read_csv('topic_lists/ml.csv', header=None, names = ['name'])\n",
      "ml_list.shape\n",
      "ml_query  = 'data mining|machine learning|feature selection|prediction|' + '|'.join(ml_list['name'].str.strip()).lower()"
     ],
     "language": "python",
     "metadata": {},
     "outputs": [],
     "prompt_number": 41
    },
    {
     "cell_type": "code",
     "collapsed": false,
     "input": [
      "ml_df = construct_repo_df(ml_query, description=False, local=True)"
     ],
     "language": "python",
     "metadata": {},
     "outputs": [
      {
       "output_type": "stream",
       "stream": "stdout",
       "text": [
        "data.?mining|machine.?learning|feature.?selection|prediction|artificial.?neural.?network|analogical.?modeling|autoencoders|backpropagation|bayesian.?knowledge.?base|bayesian.?network|boltzmann.?machines|boosting.?meta|bootstrap|c4.5|fisher's.?linear.?discriminant|hopfield.?networks|logistic.?regression|multinomial.?logistic.?regression|naive.?bayes.?classifier|naive.?bayes.?classifier|nearest.?neighbor.?algorithm|perceptron|random.?forests|restricted.?boltzmann.?machines|spiking.?neural.?networks|support.?vector.?machines|anova|artificial.?neural.?network|bayesian.?networks|bayesian.?statistics|boosting|conditional.?random.?field|data.?clustering|decision.?trees|decision.?trees|expectation.?maximization.?algorithm|gaussian.?process.?regression|gene.?expression.?programming|generative.?topographic.?map|group.?method.?of.?data.?handling.?gmdh|hidden.?markov.?models|inductive.?logic.?programming|information.?bottleneck.?method|information.?fuzzy.?networks.?ifn|k.?nearest.?neighbor|lazy.?learning|learning.?automata|learning.?vector.?quantization|linear.?classifiers|logistic.?model.?tree|minimum.?message.?length.?decision.?trees|ordinal.?classification|probably.?approximately.?correct.?learning.?pac.?learning|quadratic.?classifiers|radial.?basis.?function.?network|random.?forests|regression.?analysis|ripple.?down.?rules|self.?organizing.?map|subsymbolic.?machine.?learning.?algorithms|support.?vector.?machines|symbolic.?machine.?learning.?algorithms|vector.?quantization|unsupervised.?learning|association.?rule.?learning|apriori.?algorithm|eclat.?algorithm|fp|hierarchical.?clustering|k.?means|fuzzy.?clustering|dbscan|optics.?algorithm|outlier.?detection|local.?outlier.?factor|reinforcement.?learning|temporal.?difference.?learning|learning.?automata|monte.?carlo.?method|sarsa|deep.?learning|deep.?belief.?networks|deep.?boltzmann.?machines|deep.?convolutional.?neural.?networks|deep.?recurrent.?neural.?networks|ayasdi|angoss.?knowledgestudio|apache.?mahout|gesture.?recognition.?toolkit|ibm.?spss.?modeler|knime|kxen.?modeler|lionsolver|matlab|mlpy|mlpack.?library|mcmll|neurosolutions|opencv|opennn|dlib|oracle.?data.?mining|orange|python.?scikit.?learn|rapidminer|salford.?predictive.?modeler|sas.?enterprise.?miner|shogun.?toolbox|statistica.?data.?miner|weka.\n",
        "(120393, 1)"
       ]
      },
      {
       "output_type": "stream",
       "stream": "stdout",
       "text": [
        "\n"
       ]
      }
     ],
     "prompt_number": 42
    },
    {
     "cell_type": "code",
     "collapsed": false,
     "input": [
      "red.sadd('machine_learning', *ml_df.full_name)"
     ],
     "language": "python",
     "metadata": {},
     "outputs": [
      {
       "metadata": {},
       "output_type": "pyout",
       "prompt_number": 152,
       "text": [
        "120440"
       ]
      }
     ],
     "prompt_number": 152
    },
    {
     "cell_type": "code",
     "collapsed": false,
     "input": [
      "ml_df.head(10)"
     ],
     "language": "python",
     "metadata": {},
     "outputs": [
      {
       "html": [
        "<div style=\"max-height:1000px;max-width:1500px;overflow:auto;\">\n",
        "<table border=\"1\" class=\"dataframe\">\n",
        "  <thead>\n",
        "    <tr style=\"text-align: right;\">\n",
        "      <th></th>\n",
        "      <th>name</th>\n",
        "      <th>full_name</th>\n",
        "      <th>fork</th>\n",
        "    </tr>\n",
        "  </thead>\n",
        "  <tbody>\n",
        "    <tr>\n",
        "      <th>0</th>\n",
        "      <td>              bootstrap</td>\n",
        "      <td>            justin-john/bootstrap</td>\n",
        "      <td> 1</td>\n",
        "    </tr>\n",
        "    <tr>\n",
        "      <th>1</th>\n",
        "      <td>              bootstrap</td>\n",
        "      <td>          hummingbird12/bootstrap</td>\n",
        "      <td> 1</td>\n",
        "    </tr>\n",
        "    <tr>\n",
        "      <th>2</th>\n",
        "      <td>         bootstrap-sass</td>\n",
        "      <td>         shaggyone/bootstrap-sass</td>\n",
        "      <td> 1</td>\n",
        "    </tr>\n",
        "    <tr>\n",
        "      <th>3</th>\n",
        "      <td>              bootstrap</td>\n",
        "      <td>              kabaskimy/bootstrap</td>\n",
        "      <td> 1</td>\n",
        "    </tr>\n",
        "    <tr>\n",
        "      <th>4</th>\n",
        "      <td>                   fpxx</td>\n",
        "      <td>                 ericniebler/fpxx</td>\n",
        "      <td> 0</td>\n",
        "    </tr>\n",
        "    <tr>\n",
        "      <th>5</th>\n",
        "      <td> Bootstrap-Form-Builder</td>\n",
        "      <td>  nthelton/Bootstrap-Form-Builder</td>\n",
        "      <td> 1</td>\n",
        "    </tr>\n",
        "    <tr>\n",
        "      <th>6</th>\n",
        "      <td>         bootstrap_form</td>\n",
        "      <td>         shobhitic/bootstrap_form</td>\n",
        "      <td> 1</td>\n",
        "    </tr>\n",
        "    <tr>\n",
        "      <th>7</th>\n",
        "      <td>  select2-bootstrap-css</td>\n",
        "      <td>    angelim/select2-bootstrap-css</td>\n",
        "      <td> 1</td>\n",
        "    </tr>\n",
        "    <tr>\n",
        "      <th>8</th>\n",
        "      <td>   bootstrap-datepicker</td>\n",
        "      <td> bensanssous/bootstrap-datepicker</td>\n",
        "      <td> 1</td>\n",
        "    </tr>\n",
        "    <tr>\n",
        "      <th>9</th>\n",
        "      <td>                    fpw</td>\n",
        "      <td>                       korisk/fpw</td>\n",
        "      <td> 0</td>\n",
        "    </tr>\n",
        "  </tbody>\n",
        "</table>\n",
        "<p>10 rows \u00d7 3 columns</p>\n",
        "</div>"
       ],
       "metadata": {},
       "output_type": "pyout",
       "prompt_number": 102,
       "text": [
        "                     name                         full_name  fork\n",
        "0               bootstrap             justin-john/bootstrap     1\n",
        "1               bootstrap           hummingbird12/bootstrap     1\n",
        "2          bootstrap-sass          shaggyone/bootstrap-sass     1\n",
        "3               bootstrap               kabaskimy/bootstrap     1\n",
        "4                    fpxx                  ericniebler/fpxx     0\n",
        "5  Bootstrap-Form-Builder   nthelton/Bootstrap-Form-Builder     1\n",
        "6          bootstrap_form          shobhitic/bootstrap_form     1\n",
        "7   select2-bootstrap-css     angelim/select2-bootstrap-css     1\n",
        "8    bootstrap-datepicker  bensanssous/bootstrap-datepicker     1\n",
        "9                     fpw                        korisk/fpw     0\n",
        "\n",
        "[10 rows x 3 columns]"
       ]
      }
     ],
     "prompt_number": 102
    },
    {
     "cell_type": "markdown",
     "metadata": {},
     "source": [
      "These results look a bit strange. Around 100k, so should be able find something here. "
     ]
    },
    {
     "cell_type": "markdown",
     "metadata": {},
     "source": [
      "## Scientific software\n",
      "\n",
      "This is a huge topic. I have a list of around 1000 fields"
     ]
    },
    {
     "cell_type": "code",
     "collapsed": false,
     "input": [
      "\n",
      "scilist  = pd.read_csv('topic_lists/science.csv', header=None, names = ['name'])\n",
      "scilist.shape\n",
      "sci_qs = []\n",
      "for i in range(100, scilist.shape[0], 100):\n",
      "    sci_qs.append('|'.join(scilist['name'][i-100:i].str.strip()).lower())\n"
     ],
     "language": "python",
     "metadata": {},
     "outputs": [],
     "prompt_number": 103
    },
    {
     "cell_type": "code",
     "collapsed": false,
     "input": [
      "sci_dfs = []\n",
      "for qu in sci_qs:\n",
      "    sci_dfs.append(construct_repo_df(qu))"
     ],
     "language": "python",
     "metadata": {},
     "outputs": [
      {
       "output_type": "stream",
       "stream": "stdout",
       "text": [
        "starting bigquery ... \n",
        "artificial.?neural.?network|string.?theory|support.?vector.?machine|actuarial.?science|assignment.?problem|astrophysical.?plasma|automated.?reasoning|behavioral.?geography|black.?holes|bootstrap.?statistics|calculus.?outline|chaos.?theory|children's.?geographies|coding.?theory|commutative.?algebra|computational.?complexity.?theory|computational.?fluid.?dynamics|computer.?vision|conchology|concurrent.?programming|decision.?analysis|demography|deontic.?logic|development.?geography|distributed.?database|doxastic.?logic|dynamic.?programming|econometrics|economic.?development|education.?policy|epidemiology|exercise.?physiology|feminist.?geography|finite.?element.?analysis|foot.?and.?ankle.?surgery|forensic.?science.?outline|fourier.?analysis|fractal.?geometry|functional.?programming|fuzzy.?logic|galaxy.?formation.?and.?evolution|gamma.?ray.?astronomy|glaciology|group.?representation|hand.?surgery|health.?geography|health.?policy|helioseismology|hepatology|high.?energy.?astrophysics|housing.?policy|hydrodynamics|imperative.?programming|infrared.?astronomy|integral.?geometry|inventory.?theory|joint.?replacement|labor.?policy|limnology|linear.?programming|logic.?programming|machine.?learning|magnetohydrodynamics|mathematical.?optimization|mathematical.?statistics|medical.?toxicology|microwave.?astronomy|military.?geography|natural.?language.?processing.?computational.?linguistics|noncommutative.?algebra|object.?database|object.?oriented.?programming|oceanography|operator.?theory|optical.?astronomy|optimal.?maintenance|palaeoclimatology|police.?science|probability.?outline|quantum.?field.?theory|quantum.?gravity|quantum.?mechanics|radio.?astronomy|real.?options.?analysis|relational.?database|scheduling|shoulder.?surgery|social.?development|social.?policy|sound.?and.?music.?computing|sports.?medicine|star.?formation|statistical.?mechanics|stellar.?evolution|stellar.?nucleosynthesis|stochastic.?processes|strategic.?geography|structural.?equation.?model|systems.?analysis|television.?studies*\n",
        "\r",
        "Waiting on bqjob_r664145ff0344d7b0_000001462041255d_24 ... (0s) Current status: DONE   "
       ]
      },
      {
       "output_type": "stream",
       "stream": "stdout",
       "text": [
        "\n",
        "(15296, 3)"
       ]
      },
      {
       "output_type": "stream",
       "stream": "stdout",
       "text": [
        "\n",
        "starting bigquery ... \n",
        "time.?series|topos.?theory|tourism.?geography|type.?design|uv.?astronomy|x.?ray.?astronomy|addiction.?medicine|admiralty.?law|advertising|affine.?geometry|agricultural.?education|agricultural.?policy|agroecology|algebraic.?symbolic.?computation|algebraic.?number.?theory|algebraic.?topology|alternative.?education|analytic.?number.?theory|andrology|animal.?communication|animal.?communications|animal.?law/animal.?rights|anthropology.?of.?religion|apiology|appalachian.?studies|approximation.?theory|arachnology|architecture.?outline|art.?education|associative.?algebra|athletic.?director|athletic.?training|automata.?theory.?formal.?languages|automotive.?engineering|bariatric.?surgery|beekeeping.?apiculture|behavioral.?medicine|behavioral.?neuroscience|behavioural.?genetics|biblical.?hebrew|biblical.?studies/sacred.?scripture|bilingual.?education|biogeography|biological.?systems.?engineering|biomechanical.?engineering|biomedical.?engineering|biostatistics|block.?design.?and.?analysis.?of.?variance|broadcast.?journalism|canadian.?studies|carcinology|cardiology|cardiothoracic.?surgery|category.?theory|celtic.?studies|ceramic.?engineering|cetology|chemistry.?education|christian.?ethics|citation.?analysis|civil.?procedure|climatology|clinical.?biochemistry|clinical.?immunology|clinical.?microbiology|clinical.?psychology|cloud.?computing|coastal.?geography|coastal.?management|cognitive.?science|collective.?bargaining|combinatorics.?outline|communication.?design|community.?informatics|community.?organizing|comparative.?anatomy|compilers|complex.?analysis|computability.?theory|computational.?biology.?bioinformatics|computational.?chemistry|computational.?complexity.?theory|computational.?economics|computational.?finance|computational.?geometry|computational.?mathematics|computational.?neuroscience|computational.?number.?theory|computational.?physics|computational.?sociology|computational.?sociology|computer.?aided.?engineering|concurrency.?theory|contract.?law|control.?engineering|control.?systems|convex.?geometry|cooperative.?learning|corporations|counseling.?psychology\n",
        "\r",
        "Waiting on bqjob_r2c9beaa772f09add_0000014620413cef_25 ... (0s) Current status: DONE   "
       ]
      },
      {
       "output_type": "stream",
       "stream": "stdout",
       "text": [
        "\n",
        "(5845, 3)"
       ]
      },
      {
       "output_type": "stream",
       "stream": "stdout",
       "text": [
        "\n",
        "starting bigquery ... \n",
        "counselor.?education|criminal.?justice.?outline|criminal.?procedure|cryptography|cryptography|cultural.?geography|cytogenetics|cytohematology|cytology|data.?management|data.?mining|data.?mining|database.?outline|decision.?theory|defense.?policy|dental.?hygiene.?and.?epidemiology|dental.?surgery|dermatology|developmental.?systems.?theory|diachronic.?linguistics.?or.?historical.?linguistics|differential.?algebra|differential.?topology|discrete.?geometry|distributed.?algorithms|dogmatic.?theology|domestic.?policy|drug.?policy|dynamical.?systems|dynamical.?systems|earthquake.?engineering|ecclesiology|economic.?anthropology|economic.?geography|economic.?sociology/socioeconomics|elementary.?education|embryology|endocrinology|endodontics|energy.?policy|engineering.?geology|entomology|environmental.?communication|environmental.?law|environmental.?policy|ergodic.?theory|ergonomics.?outline|ethnobotany|ethnoecology|ethnography|ethnohistory|ethnolinguistics|ethnology|ethnomethodology|ethnomusicology|ethnozoology|ethology|expert.?systems|fault.?tolerant.?computing|field.?theory|fiscal.?policy|fisheries.?management|folklore|food.?engineering|food.?engineering|foodservice.?management*|foreign.?policy|forensic.?anthropology|formal.?methods.?formal.?verification|formal.?methods.?formal.?verification|functional.?analysis|game.?design|game.?theory|gastroenterology|gene.?culture.?coevolution|general.?practice|general.?systems.?theory|general.?topology|geodesy|geometric.?number.?theory|geometric.?topology|geomorphology|geotechnical.?engineering|geriatrics|german.?studies|graph.?theory|graphic.?design|gravitational.?astronomy|grid.?computing|group.?fitness.?/.?aerobics|group.?fitness.?/.?aerobics|group.?theory|gynaecology|haemostasiology|harmonic.?analysis|health.?informatics|health.?psychology|helminthology|hematology|herpetology|high.?performance.?computing\n",
        "\r",
        "Waiting on bqjob_r1f8d0b23a2d8e00c_000001462041525e_26 ... (0s) Current status: DONE   "
       ]
      },
      {
       "output_type": "stream",
       "stream": "stdout",
       "text": [
        "\n",
        "(4980, 3)"
       ]
      },
      {
       "output_type": "stream",
       "stream": "stdout",
       "text": [
        "\n",
        "starting bigquery ... \n",
        "higher.?education|highway.?engineering|histology|historical.?geography|history.?of.?computer.?hardware|history.?of.?computer.?science.?outline|homiletics|homological.?algebra|human.?anatomy.?outline|human.?behavioral.?ecology|human.?ecology|human.?evolution|human.?physiology|human.?resources|humanistic.?informatics|hydrology/hydrography|ichthyology|image.?processing|immigration.?policy|implantology|indology.?indian.?studies|infectious.?disease|information.?architecture|information.?management|information.?retrieval|information.?theory|information.?theory|information.?theory|integral.?geometry|interaction.?design|intercultural.?communication|interior.?design.?interior.?architecture|international.?law|internet.?outline|internet.?world.?wide.?web|interstellar.?medium|intuitionistic.?logic|intuitionistic.?logic|iranian.?studies|japanology.?japanese.?studies|k.?theory|kinesiology.?/.?exercise.?science.?/.?human.?performance|knowledge.?management|korean.?studies|labor.?economics|labor.?history|labor.?law|land.?management|landscape.?architecture.?landscape.?planning|landscape.?ecology|landscape.?ecology|language.?education|latin|latin.?american.?studies|lattice.?theory.?order.?theory|legal.?education|leisure.?studies|lie.?algebra|linear.?algebra.?vector.?space|literary.?journalism|liturgy|logic.?programming|logical.?reasoning|magazine|malacology|mammalogy|management.?information.?systems|manufacturing.?engineering|marine.?engineering|marketing.?outline|mass.?communication|mastery.?learning|mathematical.?physics|mathematical.?statistics|mathematical.?system.?theory|mathematics.?education|measure.?theory|medical.?anthropology|medical.?education|medical.?psychology|metallurgical.?engineering|military.?education.?and.?training|missiology|missiology|modal.?logic|modal.?logic|modal.?logic|model.?theory|model.?theory|molecular.?genetics|molecular.?genetics|molecular.?virology|multi.?valued.?logic|multilinear.?algebra|multimedia.?hypermedia|multivariate.?analysis|museum.?administration|music.?education|myrmecology|mythology\n",
        "\r",
        "Waiting on bqjob_r38eb7acbce338353_0000014620416676_27 ... (0s) Current status: DONE   "
       ]
      },
      {
       "output_type": "stream",
       "stream": "stdout",
       "text": [
        "\n",
        "(26811, 3)"
       ]
      },
      {
       "output_type": "stream",
       "stream": "stdout",
       "text": [
        "\n",
        "starting bigquery ... \n",
        "natural.?resource.?management|naval.?architecture|naval.?architecture|naval.?engineering|naval.?tactics|naval.?tactics|nematology|nephrology|neuroethology|neurology|neurosurgery|neurosurgery|new.?media.?journalism|new.?testament.?greek|newspaper|non.?associative.?algebra|non.?euclidean.?geometry|non.?governmental.?organization.?ngo.?administration|non.?governmental.?organization.?ngo.?administration|non.?standard.?analysis|noncommutative.?geometry|nonprofit.?administration|nonprofit.?administration|nonverbal.?communication|numerical.?analysis|numerical.?analysis|numerical.?simulations.?in|nursing.?education|nursing.?theory|observational.?astronomy|obstetrics.?.?.?outline|old.?church.?slavonic|oncology|oology|operations.?research|ophthalmology|oral.?and.?maxillofacial.?surgery|ordinary.?differential.?equations|organizational.?communication|organizational.?studies|ornithology|orthodontics|orthopedic.?surgery|otolaryngology|p.?adic.?analysis|palaeogeography|paleoanthropology|paleobiology|paleontology|paralegal.?studies|parallel.?algorithms|parasitology|partial.?differential.?equations|pastoral.?counseling|pastoral.?theology|pathology|peace.?education|pediatrics|periodontics|personal.?fitness.?training|personal.?trainer.?/.?personal.?fitness.?training|phenomenology|phycology|physical.?cosmology|physical.?education/sports.?coaching|physics.?education|planktology|plastic.?surgery|political.?anthropology|political.?geography.?&.?geopolitics|political.?sociology|polymer.?engineering|pomology|population.?genetics|population.?genetics|population.?geography|port.?management|preventive.?medicine|primatology|primatology|print.?journalism|program.?semantics|programming.?language.?semantics|programming.?paradigms|projective.?geometry|proof.?theory|proof.?theory|propaganda|property.?law|prosthodontics|psychological.?anthropology|public.?relations.?outline|public.?sociology|pulmonology|pulmonology|pure.?sociology|quality.?control|radio.?outline|randomized.?algorithms|reading.?education\n",
        "\r",
        "Waiting on bqjob_r1d6621afbe09ece0_0000014620418b0d_28 ... (0s) Current status: DONE   "
       ]
      },
      {
       "output_type": "stream",
       "stream": "stdout",
       "text": [
        "\n",
        "(1906, 3)"
       ]
      },
      {
       "output_type": "stream",
       "stream": "stdout",
       "text": [
        "\n",
        "starting bigquery ... \n",
        "real.?analysis|recursion.?theory|recursion.?theory|regression|reliability.?theory|religious.?education|religious.?education.?techniques|representation.?theory|response.?surface.?methodology|ring.?theory|robotics.?outline|sacramental.?theology|sacred.?music|sampling.?theory|scandinavian.?studies|science.?education|scientific.?computing.?computational.?science|scientific.?visualization|secondary.?education|set.?theory|set.?theory|sex.?education|simulation|sinology.?outline.?chinese.?studies|slavic.?studies|sleep.?medicine|social.?constructionism|social.?engineering|social.?geography|social.?movements|social.?network.?analysis|social.?policy|sociolinguistics|sociology.?of.?education|southeast.?asian.?studies|special.?education|speech.?communication|sports.?journalism.?/.?sportscasting|statistics|stellar.?astrophysics|stochastic.?process|survey.?methodology|sustainable.?development|symbolic.?interactionism|synchronic.?linguistics.?or.?descriptive.?linguistics|systematic.?theology|systems.?analysis|tax.?law|technical.?drawing|technical.?writing|technology.?education|television.?outline|teratology|the.?digital.?humanities.?humanities.?computing|theory.?of.?computation|time.?geography|tort.?law|toy.?and.?amusement.?design|trade.?policy|translation|transportation.?engineering|traumatology|type.?theory|type.?theory|ubiquitous.?computing|universal.?algebra|urban.?geography|urban.?planning.?urban.?design|user.?experience.?evaluation|user.?interface.?design|vlsi.?design|vocational.?education|weapons.?systems|wildlife.?management|wireless.?computing.?mobile.?computing|zoosemiotics|zootomy|abnormal.?psychology|accounting.?scholarship|acoustics|aerobiology|aerospace.?engineering|african.?studies|agricultural.?economics|agricultural.?economics|agricultural.?engineering|agricultural.?engineering|agrochemistry|agroecology|agrology|agronomy|algebra.?outline|algorithms|american.?politics|american.?studies|amphibious.?warfare|analysis|analytical.?chemistry|anarchist.?economics|anatomy\n",
        "\r",
        "Waiting on bqjob_r44e6e0ff8d38dda9_0000014620419dd0_29 ... (0s) Current status: DONE   "
       ]
      },
      {
       "output_type": "stream",
       "stream": "stdout",
       "text": [
        "\n",
        "(67825, 3)"
       ]
      },
      {
       "output_type": "stream",
       "stream": "stdout",
       "text": [
        "\n",
        "starting bigquery ... \n",
        "animal.?husbandry.?animal.?science|anthropological.?linguistics|applied.?mathematics|applied.?physics|applied.?psychology|applied.?sociology|aquaculture|architectural.?analytics|architectural.?analytics|architectural.?engineering|architecture.?and.?related.?design|archival.?science|artificial.?intelligence.?outline|artillery|asian.?american.?studies|asian.?studies|asian.?studies|astrobiology|astrochemistry|astronomy.?outline|astrophysics|astrophysics|atmospheric.?chemistry|atomic.?molecular.?and.?optical.?physics|australian.?studies|behavioral.?economics|bibliometrics|biochemistry.?outline|biochemistry.?outline|bioeconomics|bioengineering|bioinformatics|biological.?anthropology|biological.?psychology|biomechanics.?/.?sports.?biomechanics|biophysics.?outline.?of.?biophysics|biophysics.?outline|biotechnology.?outline|black.?studies.?or.?african.?american.?studies|botany.?outline|business.?administration|business.?analysis|business.?ethics|business.?law|campaigning|canadian.?politics|canon.?law|canon.?law|cartography.?outline|cell.?biology.?outline|chemical.?biology|chemical.?engineering|chemical.?engineering|cheminformatics|chicano.?studies|child.?welfare|childhood.?studies|chronobiology|church.?history|civics|civil.?engineering|civil.?law|classical.?archaeology|clinical.?laboratory.?sciences/clinical.?pathology/laboratory.?medicine|clinical.?neuropsychology|clinical.?physiology|clinical.?psychology|cognitive.?psychology|collective.?behavior|communication.?studies|community.?informatics|community.?practice|community.?psychology|comparative.?law|comparative.?politics|comparative.?psychology|comparative.?sociology|competition.?law|complex.?systems|complexity.?economics|computational.?biology|computational.?chemistry|computational.?economics|computational.?physics|computational.?statistics|computer.?architecture|computer.?communications.?networks|computer.?engineering.?outline|computer.?graphics|computer.?security.?and.?reliability|computing.?in.?mathematics.?natural.?sciences.?engineering.?and.?medicine|computing.?in.?social.?sciences.?arts.?and.?humanities.?professions|condensed.?matter.?physics|conflict.?theory|conservation.?biology|conservation.?psychology|conservation.?science|constitutional.?law|consumer.?economics|consumer.?education\n",
        "\r",
        "Waiting on bqjob_r189322be3497336a_000001462041c74a_30 ... (0s) Current status: DONE   "
       ]
      },
      {
       "output_type": "stream",
       "stream": "stdout",
       "text": [
        "\n",
        "(2424, 3)"
       ]
      },
      {
       "output_type": "stream",
       "stream": "stdout",
       "text": [
        "\n",
        "starting bigquery ... \n",
        "consumer.?education|consumer.?psychology|control.?systems.?engineering|control.?theory|corrections|corrections|cosmochemistry|counseling.?psychology|criminal.?justice.?outline|criminal.?law|criminology/criminal.?justice.?outline|critical.?management.?studies|critical.?pedagogy|cryobiology|cryogenics|cultural.?anthropology|cultural.?psychology|cultural.?studies|curriculum.?and.?instruction|cybernetics|dance.?outline|data.?structures|demography/population|dentistry.?outline|design.?of.?experiments|development.?economics|developmental.?biology|developmental.?psychology|differential.?psychology|disability.?studies|distance.?education|distributed.?computing|doctrine|e.?business|ecological.?economics|ecological.?engineering|ecology.?outline|econometrics|economic.?geography|economic.?history|economic.?sociology|economic.?systems|edaphology|educational.?leadership|educational.?philosophy|educational.?psychology|educational.?psychology|educational.?technology|egyptology|electrical.?engineering.?outline|electrochemistry|electromagnetism|electronic.?engineering|elementary.?particle.?physics|emergency.?management|endocrinology|energy.?economics|engineering.?physics|enology|entomology|entrepreneurial.?economics|entrepreneurship|environmental.?chemistry|environmental.?chemistry|environmental.?economics|environmental.?engineering|environmental.?geography|environmental.?management|environmental.?policy|environmental.?psychology|environmental.?science|environmental.?sociology|ergonomics|european.?studies|evolutionary.?biology|evolutionary.?economics|evolutionary.?psychology|exercise.?physiology|experimental.?archaeology|experimental.?economics|experimental.?psychology|family.?psychology|fashion.?design|feminine.?psychology|feminist.?economics|feminist.?sociology|femtochemistry|field.?ministry|finance.?outline|financial.?econometrics|financial.?economics|fire.?ecology.?wildland.?fire.?management|fire.?safety.?structural.?fire.?protection|flavor|flow.?chemistry|fluid.?dynamics|food.?science|forensic.?psychology|futures.?studies.?outline|game.?design\n",
        "\r",
        "Waiting on bqjob_r53ec955b4280189c_000001462041da67_31 ... (0s) Current status: DONE   "
       ]
      },
      {
       "output_type": "stream",
       "stream": "stdout",
       "text": [
        "\n",
        "(17538, 3)"
       ]
      },
      {
       "output_type": "stream",
       "stream": "stdout",
       "text": [
        "\n",
        "starting bigquery ... \n",
        "game.?theory|game.?theory|gemology|gender.?studies/gender.?theory|genetics.?outline|geochemistry|geochemistry|geodesy|geography.?outline|geology.?outline|geometry.?outline.?and.?topology|geomorphology|geophysics.?outline|geophysics.?outline|geopolitics.?political.?geography|gerontology|glaciology|governmental.?affairs|green.?chemistry|green.?economics|group.?psychology|growth.?economics|health.?informatics/clinical.?informatics|health.?psychology|heterosexism|highway.?safety|histochemistry|historic.?preservation|horticulture|housing*|human.?biology|human.?development.?theory|human.?ecology|human.?geography|human.?sexual.?behavior|human.?sexuality.?outline|human.?computer.?interaction|humanistic.?psychology|humanistic.?sociology|hydrogenation|hydrogeology|hydrology.?outline|hydrology.?outline|immunochemistry|immunology|industrial.?and.?labor.?relations|industrial.?design.?product.?design|industrial.?engineering|industrial.?organization|infographics|informatics|information.?architecture|information.?economics|information.?science|information.?systems.?business.?informatics|information.?technology.?outline|inorganic.?chemistry|institutional.?economics|instrumentation.?engineering|interactionism|interior.?design|intermodal.?transportation.?studies|internal.?medicine|international.?affairs|international.?economics|international.?organizations|international.?relations|international.?trade|islamic.?economics|islamic.?law|jewish.?law|journalism.?outline|jurisprudence.?philosophy.?of.?law|kinesiology.?/.?exercise.?science.?/.?human.?performance|labor.?economics|latino.?studies|law.?and.?economics|leadership|legal.?psychology|leisure.?studies|limnology|linnaean.?taxonomy|logic.?and.?foundations.?of.?mathematics|logic.?in.?computer.?science|logistics|macroeconomics|managerial.?economics|marine.?biology|marine.?chemistry|marine.?transportation|maritime.?archaeology|marketing.?outline|marxian.?economics|masculine.?psychology|mass.?transit|materials.?engineering|materials.?science|materials.?science|mathematical.?biology|mathematical.?chemistry\n",
        "\r",
        "Waiting on bqjob_r49951a4dd774f524_000001462041ee40_32 ... (0s) Current status: DONE   "
       ]
      },
      {
       "output_type": "stream",
       "stream": "stdout",
       "text": [
        "\n",
        "(3968, 3)"
       ]
      },
      {
       "output_type": "stream",
       "stream": "stdout",
       "text": [
        "\n",
        "starting bigquery ... \n",
        "mathematical.?economics|mathematical.?logic|mathematical.?physics|mechanical.?engineering|mechanics|mechanochemistry|media.?psychology|media.?studies.?mass.?media|medical.?physics|medical.?psychology|medical.?social.?work|medical.?sociology|medicinal.?chemistry|men's.?studies|mental.?health|meteorology.?outline|microbiology|microeconomics|middle.?east.?studies|midwifery.?obstetrics|military.?engineering|military.?history|military.?intelligence|military.?law|military.?medicine|military.?psychology|military.?sociology|mineralogy|mining.?engineering|molecular.?biology|molecular.?biology|molecular.?mechanics|molecular.?physics|monetary.?economics|moral.?psychology.?and.?descriptive.?ethics|museology|mycology|nanoengineering|nanotechnology|nationalism.?studies|native.?american.?studies|natural.?product.?chemistry|naval.?science|near.?eastern.?archaeology|neurochemistry|neuroeconomics|neuropsychology|neuroscience.?outline|newtonian.?dynamics|nuclear.?engineering|nuclear.?physics|number.?theory|nursing|nutrition.?outline|nutrition.?outline|nutrition.?outlineand.?dietetics|occupational.?health.?psychology|occupational.?therapy|ocean.?engineering|oceanography.?outline|oenology|operating.?systems|operations.?research|operations.?research|optical.?engineering|optics|optometry|organic.?chemistry.?outline|organizational.?psychology|organizational.?studies|organometallic.?chemistry|orthoptics|paleoanthropology|paleobiology|paleontology|parallel.?computing|parapsychology.?outline|parasitology|participatory.?economics|pathology|peace.?and.?conflict.?studies|peace.?and.?conflict.?studies|pediatric.?psychology|pedology|personality.?psychology|petrochemistry|petroleum.?engineering|pharmaceutical.?sciences|pharmacology|pharmacy|philosophical.?logic|photochemistry|physical.?chemistry|physical.?education.?/.?pedagogy|physical.?fitness|physical.?fitness|physical.?geography|physical.?organic.?chemistry|physiology|physiotherapy\n",
        "\r",
        "Waiting on bqjob_r66902316af5606ab_00000146204202ae_33 ... (0s) Current status: DONE   "
       ]
      },
      {
       "output_type": "stream",
       "stream": "stdout",
       "text": [
        "\n",
        "(3082, 3)"
       ]
      },
      {
       "output_type": "stream",
       "stream": "stdout",
       "text": [
        "\n",
        "starting bigquery ... \n",
        "phytochemistry|planetary.?science.?alternatively.?a.?part.?of.?earth.?science|planetary.?science.?alternatively.?a.?part.?of.?space.?science|plant.?science|plasma.?physics|podiatry|police.?science|policy.?studies|political.?behavior|political.?culture|political.?economy|political.?economy|political.?history|political.?philosophy|political.?psychology|polymer.?chemistry|positive.?psychology|prehistoric.?archaeology|primary.?care|probability.?theory|programming.?languages|psephology|psychiatry.?outline|psychoanalysis|psychology.?outline|psychology.?of.?religion|psychometrics|psychophysics|public.?administration|public.?administration|public.?economics|public.?finance|public.?health|public.?policy|public.?policy|purchasing|quality.?assurance.?engineering|quantitative.?psychology|quantum.?chemistry|quantum.?computing|quantum.?physics|queer.?studies/queer.?theory|radiochemistry|radiology|real.?estate.?economics|recreation.?ecology|recreation.?therapy|regional.?geography|rehabilitation.?medicine|rehabilitation.?psychology|remote.?sensing|resource.?economics|respiratory.?medicine|respiratory.?therapy|rheumatology|risk.?management.?and.?insurance|safety.?engineering|sample.?survey|school.?psychology|school.?social.?work|science.?studies/science.?and.?technology.?studies|scriptural.?study.?and.?languages|sedimentology|see.?also.?acm.?computing.?classification.?system|see.?also.?biology.?outline|see.?also.?branches.?of.?chemistry|see.?also.?branches.?of.?earth.?sciences|see.?also.?branches.?of.?engineering|see.?also.?branches.?of.?life.?sciences|see.?also.?branches.?of.?mathematics.?and.?ams.?mathematics.?subject.?classification|see.?also.?branches.?of.?physics|sex.?education|sexology|sexology|sexology|silviculture|social.?capital|social.?change|social.?choice.?theory|social.?choice.?theory|social.?control|social.?economy|social.?philosophy|social.?policy|social.?psychology|social.?psychology|social.?research|social.?stratification|social.?theory|social.?transformation|socialist.?economics|sociobiology|sociocybernetics|socioeconomics|sociolinguistics|sociological.?theory|sociology.?of.?culture|sociology.?of.?deviance|sociology.?of.?education|sociology.?of.?gender\n",
        "\r",
        "Waiting on bqjob_r529e3425221a2d51_00000146204217a8_34 ... (0s) Current status: DONE   "
       ]
      },
      {
       "output_type": "stream",
       "stream": "stdout",
       "text": [
        "\n",
        "(2442, 3)"
       ]
      },
      {
       "output_type": "stream",
       "stream": "stdout",
       "text": [
        "\n",
        "starting bigquery ... \n",
        "sociology.?of.?knowledge|sociology.?of.?law|sociology.?of.?religion|sociology.?of.?sport|sociology.?of.?sport|sociology.?of.?the.?family|sociology.?of.?work|software.?engineering|software.?engineering.?outline|soil.?science|solid.?mechanics|solid.?state.?physics|solid.?state.?chemistry|sonochemistry|speech.?and.?language.?pathology|speleology|sport.?management|sport.?psychology|sport.?psychology|sports.?coaching|sports.?journalism.?/.?sportscasting|sports.?medicine|sports.?medicine|statistical.?mechanics|statistical.?modelling|statistical.?theory|strategy|structural.?engineering|supramolecular.?chemistry|surface.?chemistry|surgery|sustainability.?studies|synthetic.?chemistry|systematics.?taxonomy|systems.?biology|systems.?dynamics|systems.?engineering|systems.?engineering|systems.?science|systems.?theory|tactics|tectonics|telecommunications.?engineering|textile.?design|textiles*|theology.?outline|theoretical.?chemistry|theoretical.?physics|theory.?of.?computation|thermochemistry|thermodynamics|toxicology|toy.?and.?amusement.?design|transport.?economics|urban.?studies.?or.?urban.?sociology/rural.?sociology|urology|user.?experience.?design|vehicle.?dynamics|vehicle.?engineering|veterinary.?medicine|virology|visual.?communication|visual.?sociology|viticulture|volcanology|web.?engineering|welfare.?economics|women's.?studies|xenobiology|zoology.?outline|agriculture|anthropology|archaeology|architecture.?and.?design|area.?studies|biology|business|chemistry|computer.?sciences|cultural.?and.?ethnic.?studies|divinity|earth.?sciences|economics|education|engineering|environmental.?studies.?and.?forestry|family.?and.?consumer.?science|formal.?sciences|gender.?and.?sexuality.?studies|geography|healthcare.?science|human.?physical.?performance.?and.?recreation*|journalism.?media.?studies.?and.?communication|law|library.?and.?museum.?studies|military.?sciences|natural.?sciences|physics|political.?science|professions.?and.?applied.?sciences\n",
        "\r",
        "Waiting on bqjob_r5f1031538dfd4e61_0000014620422be9_35 ... (0s) Current status: DONE   "
       ]
      },
      {
       "output_type": "stream",
       "stream": "stdout",
       "text": [
        "\n",
        "(39491, 3)"
       ]
      },
      {
       "output_type": "stream",
       "stream": "stdout",
       "text": [
        "\n"
       ]
      }
     ],
     "prompt_number": 104
    },
    {
     "cell_type": "code",
     "collapsed": false,
     "input": [
      "sci_df = pd.DataFrame()\n",
      "for df in sci_dfs:\n",
      "    sci_df = sci_df.append(df)\n",
      "print sci_df.shape\n",
      "sci_df.head()"
     ],
     "language": "python",
     "metadata": {},
     "outputs": [
      {
       "output_type": "stream",
       "stream": "stdout",
       "text": [
        "(191608, 3)\n"
       ]
      },
      {
       "html": [
        "<div style=\"max-height:1000px;max-width:1500px;overflow:auto;\">\n",
        "<table border=\"1\" class=\"dataframe\">\n",
        "  <thead>\n",
        "    <tr style=\"text-align: right;\">\n",
        "      <th></th>\n",
        "      <th>fork</th>\n",
        "      <th>full_name</th>\n",
        "      <th>name</th>\n",
        "    </tr>\n",
        "  </thead>\n",
        "  <tbody>\n",
        "    <tr>\n",
        "      <th>0</th>\n",
        "      <td> 0</td>\n",
        "      <td>                           MoonighT/coursera_ml</td>\n",
        "      <td>                         coursera_ml</td>\n",
        "    </tr>\n",
        "    <tr>\n",
        "      <th>1</th>\n",
        "      <td> 0</td>\n",
        "      <td>                               ericniebler/fpxx</td>\n",
        "      <td>                                fpxx</td>\n",
        "    </tr>\n",
        "    <tr>\n",
        "      <th>2</th>\n",
        "      <td> 0</td>\n",
        "      <td>                     thomaskalinowski/job-limit</td>\n",
        "      <td>                           job-limit</td>\n",
        "    </tr>\n",
        "    <tr>\n",
        "      <th>3</th>\n",
        "      <td> 1</td>\n",
        "      <td>                           linglan520/oceanbase</td>\n",
        "      <td>                           oceanbase</td>\n",
        "    </tr>\n",
        "    <tr>\n",
        "      <th>4</th>\n",
        "      <td> 0</td>\n",
        "      <td> inounsulde/systems-analysis-and-design-torrent</td>\n",
        "      <td> systems-analysis-and-design-torrent</td>\n",
        "    </tr>\n",
        "  </tbody>\n",
        "</table>\n",
        "<p>5 rows \u00d7 3 columns</p>\n",
        "</div>"
       ],
       "metadata": {},
       "output_type": "pyout",
       "prompt_number": 106,
       "text": [
        "   fork                                       full_name  \\\n",
        "0     0                            MoonighT/coursera_ml   \n",
        "1     0                                ericniebler/fpxx   \n",
        "2     0                      thomaskalinowski/job-limit   \n",
        "3     1                            linglan520/oceanbase   \n",
        "4     0  inounsulde/systems-analysis-and-design-torrent   \n",
        "\n",
        "                                  name  \n",
        "0                          coursera_ml  \n",
        "1                                 fpxx  \n",
        "2                            job-limit  \n",
        "3                            oceanbase  \n",
        "4  systems-analysis-and-design-torrent  \n",
        "\n",
        "[5 rows x 3 columns]"
       ]
      }
     ],
     "prompt_number": 106
    },
    {
     "cell_type": "code",
     "collapsed": false,
     "input": [
      "red.sadd('science', *sci_df.full_name)"
     ],
     "language": "python",
     "metadata": {},
     "outputs": [
      {
       "metadata": {},
       "output_type": "pyout",
       "prompt_number": 107,
       "text": [
        "179306"
       ]
      }
     ],
     "prompt_number": 107
    },
    {
     "cell_type": "markdown",
     "metadata": {},
     "source": [
      "Ok, 0.17M -- not a huge amount but worth tracking a bit more"
     ]
    },
    {
     "cell_type": "markdown",
     "metadata": {},
     "source": [
      "## Geo, gis and mapping software\n",
      "\n",
      "Mapserver is one of the most active repos on github. I gleaned a list from http://en.wikipedia.org/wiki/List_of_geographic_information_systems_software. There is lot of mapping software"
     ]
    },
    {
     "cell_type": "code",
     "collapsed": false,
     "input": [
      "gengeolist  = ['gis', 'geo']\n",
      "geolist  = pd.read_csv('topic_lists/geo_gis.csv', header=None, names = ['name'])\n",
      "geolist.shape\n",
      "geolist.head()\n"
     ],
     "language": "python",
     "metadata": {},
     "outputs": [
      {
       "html": [
        "<div style=\"max-height:1000px;max-width:1500px;overflow:auto;\">\n",
        "<table border=\"1\" class=\"dataframe\">\n",
        "  <thead>\n",
        "    <tr style=\"text-align: right;\">\n",
        "      <th></th>\n",
        "      <th>name</th>\n",
        "    </tr>\n",
        "  </thead>\n",
        "  <tbody>\n",
        "    <tr>\n",
        "      <th>0</th>\n",
        "      <td> Capaware</td>\n",
        "    </tr>\n",
        "    <tr>\n",
        "      <th>1</th>\n",
        "      <td>    GRASS</td>\n",
        "    </tr>\n",
        "    <tr>\n",
        "      <th>2</th>\n",
        "      <td>    gvSIG</td>\n",
        "    </tr>\n",
        "    <tr>\n",
        "      <th>3</th>\n",
        "      <td>   IDRISI</td>\n",
        "    </tr>\n",
        "    <tr>\n",
        "      <th>4</th>\n",
        "      <td> SAGA-GIS</td>\n",
        "    </tr>\n",
        "  </tbody>\n",
        "</table>\n",
        "<p>5 rows \u00d7 1 columns</p>\n",
        "</div>"
       ],
       "metadata": {},
       "output_type": "pyout",
       "prompt_number": 108,
       "text": [
        "       name\n",
        "0  Capaware\n",
        "1     GRASS\n",
        "2     gvSIG\n",
        "3    IDRISI\n",
        "4  SAGA-GIS\n",
        "\n",
        "[5 rows x 1 columns]"
       ]
      }
     ],
     "prompt_number": 108
    },
    {
     "cell_type": "code",
     "collapsed": false,
     "input": [
      "geoquery = '|'.join(geolist['name'].str.strip()).lower()\n",
      "geoquery = geoquery + '|geo|gis'\n",
      "print geoquery"
     ],
     "language": "python",
     "metadata": {},
     "outputs": [
      {
       "output_type": "stream",
       "stream": "stdout",
       "text": [
        "capaware|grass|gvsig|idrisi|saga-gis|grass|gvsig|ilwis|openjump|mapwindow|qgis|saga|udig|capaware|falconview|kalypso|terraview|whitebox|geoserver|mapguide|mapnik|mapserver|postgis|spatialite|terralib|geobase|geomajas|mapfish|openlayers|leafletjs|geotools|gdal|orfeo|geonetwork|chameleon|mappoint|autodesk|bentley|erdas|esri|intergraph|mapinfo|pci|remoteview|smallworld|supergeo|supermap|tntmips|avenza|cadcorp|caliper|dragon/ips|envi|geosoft|geotime|idrisi|mapdotnet|manifold|citysurf|netcad|regiograph|arcview|arcgis|arcsde|arcims|arcweb|arcgis|geo|gis\n"
       ]
      }
     ],
     "prompt_number": 109
    },
    {
     "cell_type": "code",
     "collapsed": false,
     "input": [
      "geo_df = construct_repo_df(geoquery)"
     ],
     "language": "python",
     "metadata": {},
     "outputs": [
      {
       "output_type": "stream",
       "stream": "stdout",
       "text": [
        "starting bigquery ... \n",
        "capaware|grass|gvsig|idrisi|saga.?gis|grass|gvsig|ilwis|openjump|mapwindow|qgis|saga|udig|capaware|falconview|kalypso|terraview|whitebox|geoserver|mapguide|mapnik|mapserver|postgis|spatialite|terralib|geobase|geomajas|mapfish|openlayers|leafletjs|geotools|gdal|orfeo|geonetwork|chameleon|mappoint|autodesk|bentley|erdas|esri|intergraph|mapinfo|pci|remoteview|smallworld|supergeo|supermap|tntmips|avenza|cadcorp|caliper|dragon/ips|envi|geosoft|geotime|idrisi|mapdotnet|manifold|citysurf|netcad|regiograph|arcview|arcgis|arcsde|arcims|arcweb|arcgis|geo|gis\n",
        "\r",
        "Waiting on bqjob_r6960d79d9090423a_00000146204353e4_37 ... (0s) Current status: DONE   "
       ]
      },
      {
       "output_type": "stream",
       "stream": "stdout",
       "text": [
        "\n",
        "(99028, 3)"
       ]
      },
      {
       "output_type": "stream",
       "stream": "stdout",
       "text": [
        "\n"
       ]
      }
     ],
     "prompt_number": 111
    },
    {
     "cell_type": "code",
     "collapsed": false,
     "input": [
      "red.sadd('geo_gis', *geo_df.full_name)\n",
      "geo_df.full_name[:30]"
     ],
     "language": "python",
     "metadata": {},
     "outputs": [
      {
       "metadata": {},
       "output_type": "pyout",
       "prompt_number": 112,
       "text": [
        "0                    isakvan/Register---Login-Examples\n",
        "1                               netconstructor/geodict\n",
        "2                                      mapping/geodict\n",
        "3                                     Big-Data/geodict\n",
        "4                                     scraping/geodict\n",
        "5                                BigData-Tools/geodict\n",
        "6                          v-iacovella/python-user-env\n",
        "7                                  oliverm-be/geomajas\n",
        "8                                     lat-lon/geomajas\n",
        "9                          ipa-desire/cob_environments\n",
        "10                                         hasin89/mgr\n",
        "11                                   crondaemon/ip2geo\n",
        "12                               alfonsodev/libre-user\n",
        "13                                    axal/Development\n",
        "14    rishahosli/system-mechanics-7-registration-crack\n",
        "15         ordafiban/system-registry-freeware-download\n",
        "16          etenaccob/system-registry-cleaner-download\n",
        "17                              matthewjhunt/twofishes\n",
        "18                             yusukeyusuke/GeoSweeper\n",
        "19                     jarus/django-rest-framework-gis\n",
        "20                                    maste9/Statistix\n",
        "21                              ventosus/supercollider\n",
        "22                                iN1kk0/AuthRegSmarty\n",
        "23                                  vuntz/barclamp-dns\n",
        "24                   dex4er/perl-Geo-Coder-GeocodeFarm\n",
        "25                                        hedersb/wati\n",
        "26                             stevexucd/Mobile-Detect\n",
        "27                           ucuzbilgisayar/bilgisayar\n",
        "28                      909652048/gis-tools-for-hadoop\n",
        "29                         909652048/geometry-api-java\n",
        "Name: full_name, dtype: object"
       ]
      }
     ],
     "prompt_number": 112
    },
    {
     "cell_type": "markdown",
     "metadata": {},
     "source": [
      "The usual number here -- around 0.1 M. So substantial, but probably still very noisy"
     ]
    },
    {
     "cell_type": "markdown",
     "metadata": {},
     "source": [
      "## Data manipulations including statistics\n",
      "\n"
     ]
    },
    {
     "cell_type": "code",
     "collapsed": false,
     "input": [
      "datasoftware = pd.read_csv('topic_lists/data_stats.csv', header=None, names = ['name'])\n",
      "datasoftware.drop_duplicates(inplace=True)\n",
      "datasoftware.shape"
     ],
     "language": "python",
     "metadata": {},
     "outputs": [
      {
       "metadata": {},
       "output_type": "pyout",
       "prompt_number": 18,
       "text": [
        "(157, 1)"
       ]
      }
     ],
     "prompt_number": 18
    },
    {
     "cell_type": "code",
     "collapsed": false,
     "input": [
      "data_query1 = 'statistic|data scien|'+'|'.join(datasoftware['name'][:50].str.strip()).lower()\n",
      "print data_query1\n",
      "data_query2 = '|'.join(datasoftware['name'][50:100].str.strip()).lower()\n",
      "print data_query2\n",
      "data_query3 = '|'.join(datasoftware['name'][100:].str.strip()).lower()\n",
      "print data_query3"
     ],
     "language": "python",
     "metadata": {},
     "outputs": [
      {
       "output_type": "stream",
       "stream": "stdout",
       "text": [
        "statistic|data scien|adamsoft|acslx|admb|ampl|analyse-it|analytica|angoss|apmonitor:|armadillo|asreml|automlab|baudline|bayesian filtering library|bmdp|bv4.1|ceemple:|chronux|comsol|cspro|dadisp|dap|data applied|dataplot|dotplot|ejs|elki|epi|euler|fenics|fityk|flexpro|freemat|gauss|geoda|gnu|graphpad|gretl|hermes|idams/winidams|idl|igor|ilnumerics.net|jacket|jags|jlab|jmathlab|jmulti|julia|kpp|labplot\n",
        "labview|libsvm|limdep|lisrel|macsyma|madagascar|madartsoft|madeline|maple|mathcad|mathemagix|mathematica|matlab|mcsim|mcxlab|medcalc|metfem2d:|minitab|minuit|mlpack|mlwin|mondrian|mpmath|nag|ncar|ncss|nlogit|nmath|numbergo|numxl|o-matrix|octave|openbugs|openepi|openmx|optimj|orange|origin|originpro|pandas|pari/gp|partek|paw|pbdr|ploticus|plotly|primer-e|pspp|pv-wave|pylab\n",
        "qed|qtiplot|quadrigram|quadrigram|quantopix|quantum analytics|r commander|rapidminer|rats|rattle|revolution r|rlab|s-plus|sage|salome|salstat|sas|scavis|scigpgpu|scikit-learn|scilab|scipy|shazam|shogun|sigmastat|sigmaxl|simfit|simplexnumerica|simul|socr|sofa|spc|speakeasy|spss|stan|stata|statgraphics|statistica|statsdirect|statsmodels|statsxl|statxact|sudaan|sysquake|systat|trilinos|unistat|vissim|waffles|weka|winbugs|winpepi|x-12-arima|xlfit|xlisp-stat|xplore|yorick\n"
       ]
      }
     ],
     "prompt_number": 19
    },
    {
     "cell_type": "code",
     "collapsed": false,
     "input": [
      "datastat_df = construct_repo_df(data_query1, description=False, local=True)"
     ],
     "language": "python",
     "metadata": {},
     "outputs": [
      {
       "output_type": "stream",
       "stream": "stdout",
       "text": [
        "statistic|data.?scien|adamsoft|acslx|admb|ampl|analyse.?it|analytica|angoss|apmonitor|armadillo|asreml|automlab|baudline|bayesian.?filtering.?library|bmdp|bv4.1|ceemple|chronux|comsol|cspro|dadisp|dap|data.?applied|dataplot|dotplot|ejs|elki|epi|euler|fenics|fityk|flexpro|freemat|gauss|geoda|gnu|graphpad|gretl|hermes|idams/winidams|idl|igor|ilnumerics.net|jacket|jags|jlab|jmathlab|jmulti|julia|kpp|labplot\n",
        "(295873, 1)"
       ]
      },
      {
       "output_type": "stream",
       "stream": "stdout",
       "text": [
        "\n"
       ]
      }
     ],
     "prompt_number": 24
    },
    {
     "cell_type": "code",
     "collapsed": false,
     "input": [
      "datastat_df.head()"
     ],
     "language": "python",
     "metadata": {},
     "outputs": [
      {
       "html": [
        "<div style=\"max-height:1000px;max-width:1500px;overflow:auto;\">\n",
        "<table border=\"1\" class=\"dataframe\">\n",
        "  <thead>\n",
        "    <tr style=\"text-align: right;\">\n",
        "      <th></th>\n",
        "      <th>full_name</th>\n",
        "    </tr>\n",
        "  </thead>\n",
        "  <tbody>\n",
        "    <tr>\n",
        "      <th>70 </th>\n",
        "      <td>                              rajula/sample_app</td>\n",
        "    </tr>\n",
        "    <tr>\n",
        "      <th>85 </th>\n",
        "      <td>                             ndevenish/freejson</td>\n",
        "    </tr>\n",
        "    <tr>\n",
        "      <th>100</th>\n",
        "      <td>                         skottler/project-euler</td>\n",
        "    </tr>\n",
        "    <tr>\n",
        "      <th>114</th>\n",
        "      <td>               cyberwombat/jquery.serializejson</td>\n",
        "    </tr>\n",
        "    <tr>\n",
        "      <th>118</th>\n",
        "      <td> alincc/angular-requirejs-html5boilerplate-seed</td>\n",
        "    </tr>\n",
        "  </tbody>\n",
        "</table>\n",
        "<p>5 rows \u00d7 1 columns</p>\n",
        "</div>"
       ],
       "metadata": {},
       "output_type": "pyout",
       "prompt_number": 28,
       "text": [
        "                                          full_name\n",
        "70                                rajula/sample_app\n",
        "85                               ndevenish/freejson\n",
        "100                          skottler/project-euler\n",
        "114                cyberwombat/jquery.serializejson\n",
        "118  alincc/angular-requirejs-html5boilerplate-seed\n",
        "\n",
        "[5 rows x 1 columns]"
       ]
      }
     ],
     "prompt_number": 28
    },
    {
     "cell_type": "code",
     "collapsed": false,
     "input": [],
     "language": "python",
     "metadata": {},
     "outputs": []
    },
    {
     "cell_type": "code",
     "collapsed": false,
     "input": [],
     "language": "python",
     "metadata": {},
     "outputs": []
    },
    {
     "cell_type": "code",
     "collapsed": false,
     "input": [
      "datastat_df2 = construct_repo_df(data_query2, description=False, local=True)"
     ],
     "language": "python",
     "metadata": {},
     "outputs": [
      {
       "output_type": "stream",
       "stream": "stdout",
       "text": [
        "labview|libsvm|limdep|lisrel|macsyma|madagascar|madartsoft|madeline|maple|mathcad|mathemagix|mathematica|matlab|mcsim|mcxlab|medcalc|metfem2d|minitab|minuit|mlpack|mlwin|mondrian|mpmath|nag|ncar|ncss|nlogit|nmath|numbergo|numxl|o.?matrix|octave|openbugs|openepi|openmx|optimj|orange|origin|originpro|pandas|pari/gp|partek|paw|pbdr|ploticus|plotly|primer.?e|pspp|pv.?wave|pylab\n",
        "(83769, 1)"
       ]
      },
      {
       "output_type": "stream",
       "stream": "stdout",
       "text": [
        "\n"
       ]
      }
     ],
     "prompt_number": 7
    },
    {
     "cell_type": "code",
     "collapsed": false,
     "input": [
      "datastat_df3 = construct_repo_df(data_query3, description=False, local=True)"
     ],
     "language": "python",
     "metadata": {},
     "outputs": [
      {
       "output_type": "stream",
       "stream": "stdout",
       "text": [
        "qed|qtiplot|quadrigram|quadrigram|quantopix|quantum.?analytics|r.?commander|rapidminer|rats|rattle|revolution.?r|rlab|s.?plus|sage|salome|salstat|sas|scavis|scigpgpu|scikit.?learn|scilab|scipy|shazam|shogun|sigmastat|sigmaxl|simfit|simplexnumerica|simul|socr|sofa|spc|speakeasy|spss|stan|stata|statgraphics|statistica|statsdirect|statsmodels|statsxl|statxact|sudaan|sysquake|systat|trilinos|unistat|vissim|waffles|weka|winbugs|winpepi|x.?12.?arima|xlfit|xlisp.?stat|xplore|yorick\n",
        "(101725, 1)"
       ]
      },
      {
       "output_type": "stream",
       "stream": "stdout",
       "text": [
        "\n"
       ]
      }
     ],
     "prompt_number": 8
    },
    {
     "cell_type": "code",
     "collapsed": false,
     "input": [
      "delete = False"
     ],
     "language": "python",
     "metadata": {},
     "outputs": [],
     "prompt_number": 25
    },
    {
     "cell_type": "code",
     "collapsed": false,
     "input": [
      "datastat_df = pd.concat([datastat_df, datastat_df2, datastat_df3])\n",
      "datastat_df.drop_duplicates(inplace=True)\n",
      "print datastat_df.shape\n",
      "datastat_df.head()"
     ],
     "language": "python",
     "metadata": {},
     "outputs": []
    },
    {
     "cell_type": "code",
     "collapsed": false,
     "input": [
      "if delete:\n",
      "    red.delete('data_statistics')\n",
      "red.sadd('data_statistics', *datastat_df.full_name)"
     ],
     "language": "python",
     "metadata": {},
     "outputs": [
      {
       "metadata": {},
       "output_type": "pyout",
       "prompt_number": 27,
       "text": [
        "2979"
       ]
      }
     ],
     "prompt_number": 27
    },
    {
     "cell_type": "markdown",
     "metadata": {},
     "source": [
      "The use of these datamining packages is huge. There seems to be around 0.8M. They probably need further analysis"
     ]
    },
    {
     "cell_type": "markdown",
     "metadata": {},
     "source": [
      "## Documents and publishing\n",
      "\n",
      "This is an amorphous category but includes word processing, document formats, bibliographic and reference software, markup and publishing software. Mundane but ubiquitous."
     ]
    },
    {
     "cell_type": "code",
     "collapsed": false,
     "input": [
      "file_formats.domain.value_counts()\n",
      "docs = file_formats['domain'] == 'document'\n",
      "pub = file_formats['domain'] == 'desktop publishing'\n",
      "refs = file_formats['domain'] == 'reference management software'\n",
      "pres = file_formats['domain'] == 'presentation'\n",
      "doc_types = file_formats[docs + pub + refs + pres].filetype\n",
      "# .map(str) + \"|\" + file_formats[docs + pub + refs].description\n",
      "\n",
      "doc_query = '\\\\b' + '\\\\b|\\\\b'.join(doc_types.dropna()).lower() + '\\\\b'\n",
      "# doc_query"
     ],
     "language": "python",
     "metadata": {},
     "outputs": [
      {
       "metadata": {},
       "output_type": "pyout",
       "prompt_number": 146,
       "text": [
        "'\\\\bzave\\\\b|\\\\bchp\\\\b|\\\\bdtp\\\\b|\\\\bgdraw\\\\b|\\\\bindd\\\\b|\\\\bmcf\\\\b|\\\\bpmd\\\\b|\\\\bppp\\\\b|\\\\bpub\\\\b|\\\\bqxd\\\\b|\\\\bfm\\\\b|\\\\bsla / scd\\\\b|\\\\babw\\\\b|\\\\bacl\\\\b|\\\\bafp\\\\b|\\\\bami\\\\b|\\\\bans\\\\b|\\\\basc\\\\b|\\\\baww\\\\b|\\\\bccf\\\\b|\\\\bcsv\\\\b|\\\\bcwk\\\\b|\\\\bdbk\\\\b|\\\\bdoc\\\\b|\\\\bdocm\\\\b|\\\\bdocx\\\\b|\\\\bdot\\\\b|\\\\bdotx\\\\b|\\\\begt\\\\b|\\\\bepub\\\\b|\\\\bezw\\\\b|\\\\bfdx\\\\b|\\\\bftm\\\\b|\\\\bftx\\\\b|\\\\bgdoc\\\\b|\\\\bhtml\\\\b|\\\\bhwp\\\\b|\\\\bhwpml\\\\b|\\\\blwp\\\\b|\\\\bmbp\\\\b|\\\\bmd\\\\b|\\\\bmcw\\\\b|\\\\bmobi\\\\b|\\\\bnb\\\\b|\\\\bnbp\\\\b|\\\\bodm\\\\b|\\\\bodt\\\\b|\\\\bott\\\\b|\\\\bomm\\\\b|\\\\bpages\\\\b|\\\\bpap\\\\b|\\\\bpdax\\\\b|\\\\bpdf\\\\b|\\\\bradix-64\\\\b|\\\\brtf\\\\b|\\\\bquox\\\\b|\\\\brpt\\\\b|\\\\bsdw\\\\b|\\\\bse\\\\b|\\\\bstw\\\\b|\\\\bsxw\\\\b|\\\\btex\\\\b|\\\\binfo\\\\b|\\\\btroff\\\\b|\\\\btxt\\\\b|\\\\buof\\\\b|\\\\buoml\\\\b|\\\\bvia\\\\b|\\\\bwpd\\\\b|\\\\bwps\\\\b|\\\\bwpt\\\\b|\\\\bwrd\\\\b|\\\\bwrf\\\\b|\\\\bwri\\\\b|\\\\bxhtml (xhtml\\\\b|\\\\bxml\\\\b|\\\\bxps\\\\b|\\\\bgslides\\\\b|\\\\bkey\\\\b|\\\\bnb\\\\b|\\\\bnbp\\\\b|\\\\bodp\\\\b|\\\\botp\\\\b|\\\\bpez\\\\b|\\\\bpot\\\\b|\\\\bpps\\\\b|\\\\bppt\\\\b|\\\\bpptx\\\\b|\\\\bprz\\\\b|\\\\bsdd\\\\b|\\\\bshf\\\\b|\\\\bshow\\\\b|\\\\bshw\\\\b|\\\\bslp\\\\b|\\\\bsspss\\\\b|\\\\bsti\\\\b|\\\\bsxi\\\\b|\\\\bthmx - microsoft powerpoint theme template\\\\b|\\\\bwatch\\\\b|\\\\bbib\\\\b|\\\\benl\\\\b|\\\\bris\\\\b'"
       ]
      }
     ],
     "prompt_number": 146
    },
    {
     "cell_type": "code",
     "collapsed": false,
     "input": [
      "docs_list = pd.read_csv('topic_lists/docs.csv', header = None, names = ['extension', 'description'])\n",
      "doc_query = '|'.join(docs_list.extension.str.strip()).lower()\n",
      "doc_query"
     ],
     "language": "python",
     "metadata": {},
     "outputs": [
      {
       "metadata": {},
       "output_type": "pyout",
       "prompt_number": 122,
       "text": [
        "'indd|pmd|doc|docx|dotx|epub|gdoc|md|mcw|odm|odt|ott|pdax|pdf|tex|txt|xml|odp|ppt|pptx|bib|enl|ris'"
       ]
      }
     ],
     "prompt_number": 122
    },
    {
     "cell_type": "code",
     "collapsed": false,
     "input": [
      "doc_df = construct_repo_df(doc_query, description=False)"
     ],
     "language": "python",
     "metadata": {},
     "outputs": [
      {
       "output_type": "stream",
       "stream": "stdout",
       "text": [
        "starting bigquery ... \n",
        "indd|pmd|doc|docx|dotx|epub|gdoc|md|mcw|odm|odt|ott|pdax|pdf|tex|txt|xml|odp|ppt|pptx|bib|enl|ris\n",
        "\r",
        "Waiting on bqjob_r37b58a48524bbd3e_000001462048b37a_41 ... (0s) Current status: DONE   "
       ]
      },
      {
       "output_type": "stream",
       "stream": "stdout",
       "text": [
        "\n",
        "(260776, 3)"
       ]
      },
      {
       "output_type": "stream",
       "stream": "stdout",
       "text": [
        "\n"
       ]
      }
     ],
     "prompt_number": 123
    },
    {
     "cell_type": "code",
     "collapsed": false,
     "input": [
      "red.sadd('documents', *doc_df.full_name)"
     ],
     "language": "python",
     "metadata": {},
     "outputs": [
      {
       "metadata": {},
       "output_type": "pyout",
       "prompt_number": 124,
       "text": [
        "260748"
       ]
      }
     ],
     "prompt_number": 124
    },
    {
     "cell_type": "code",
     "collapsed": false,
     "input": [
      "doc_df.ix[60:100]"
     ],
     "language": "python",
     "metadata": {},
     "outputs": [
      {
       "html": [
        "<div style=\"max-height:1000px;max-width:1500px;overflow:auto;\">\n",
        "<table border=\"1\" class=\"dataframe\">\n",
        "  <thead>\n",
        "    <tr style=\"text-align: right;\">\n",
        "      <th></th>\n",
        "      <th>name</th>\n",
        "      <th>full_name</th>\n",
        "      <th>fork</th>\n",
        "    </tr>\n",
        "  </thead>\n",
        "  <tbody>\n",
        "    <tr>\n",
        "      <th>60 </th>\n",
        "      <td>                             docker</td>\n",
        "      <td>                            MaximeHeckel/docker</td>\n",
        "      <td> 1</td>\n",
        "    </tr>\n",
        "    <tr>\n",
        "      <th>61 </th>\n",
        "      <td>                    django_docs_app</td>\n",
        "      <td>                          royka/django_docs_app</td>\n",
        "      <td> 0</td>\n",
        "    </tr>\n",
        "    <tr>\n",
        "      <th>62 </th>\n",
        "      <td>                       dmd-2013-kep</td>\n",
        "      <td>                      IRI-Research/dmd-2013-kep</td>\n",
        "      <td> 1</td>\n",
        "    </tr>\n",
        "    <tr>\n",
        "      <th>63 </th>\n",
        "      <td>               SublimeText2-FTPSync</td>\n",
        "      <td>                     idevz/SublimeText2-FTPSync</td>\n",
        "      <td> 1</td>\n",
        "    </tr>\n",
        "    <tr>\n",
        "      <th>64 </th>\n",
        "      <td>                          imdaraugh</td>\n",
        "      <td>                            imdaraugh/imdaraugh</td>\n",
        "      <td> 0</td>\n",
        "    </tr>\n",
        "    <tr>\n",
        "      <th>65 </th>\n",
        "      <td>                           text2obj</td>\n",
        "      <td>                        netconstructor/text2obj</td>\n",
        "      <td> 1</td>\n",
        "    </tr>\n",
        "    <tr>\n",
        "      <th>66 </th>\n",
        "      <td>                           text2obj</td>\n",
        "      <td>                              Big-Data/text2obj</td>\n",
        "      <td> 1</td>\n",
        "    </tr>\n",
        "    <tr>\n",
        "      <th>67 </th>\n",
        "      <td>                           text2obj</td>\n",
        "      <td>                              scraping/text2obj</td>\n",
        "      <td> 1</td>\n",
        "    </tr>\n",
        "    <tr>\n",
        "      <th>68 </th>\n",
        "      <td>                           text2obj</td>\n",
        "      <td>                         BigData-Tools/text2obj</td>\n",
        "      <td> 1</td>\n",
        "    </tr>\n",
        "    <tr>\n",
        "      <th>69 </th>\n",
        "      <td>                       dmd-2013-mup</td>\n",
        "      <td>                      IRI-Research/dmd-2013-mup</td>\n",
        "      <td> 0</td>\n",
        "    </tr>\n",
        "    <tr>\n",
        "      <th>70 </th>\n",
        "      <td>                  rissen.github.com</td>\n",
        "      <td>                       rissen/rissen.github.com</td>\n",
        "      <td> 0</td>\n",
        "    </tr>\n",
        "    <tr>\n",
        "      <th>71 </th>\n",
        "      <td>                        prism-break</td>\n",
        "      <td>                           equipote/prism-break</td>\n",
        "      <td> 1</td>\n",
        "    </tr>\n",
        "    <tr>\n",
        "      <th>72 </th>\n",
        "      <td>                            Doctors</td>\n",
        "      <td>                       pranavkhandelwal/Doctors</td>\n",
        "      <td> 0</td>\n",
        "    </tr>\n",
        "    <tr>\n",
        "      <th>73 </th>\n",
        "      <td>                          rdoc-tags</td>\n",
        "      <td>                                 lzap/rdoc-tags</td>\n",
        "      <td> 1</td>\n",
        "    </tr>\n",
        "    <tr>\n",
        "      <th>74 </th>\n",
        "      <td>                    plamut.odpustki</td>\n",
        "      <td>                         plamut/plamut.odpustki</td>\n",
        "      <td> 0</td>\n",
        "    </tr>\n",
        "    <tr>\n",
        "      <th>75 </th>\n",
        "      <td>                      newborisbikes</td>\n",
        "      <td>                        jeremygoh/newborisbikes</td>\n",
        "      <td> 0</td>\n",
        "    </tr>\n",
        "    <tr>\n",
        "      <th>76 </th>\n",
        "      <td>                            testdoc</td>\n",
        "      <td>                             docentus58/testdoc</td>\n",
        "      <td> 0</td>\n",
        "    </tr>\n",
        "    <tr>\n",
        "      <th>77 </th>\n",
        "      <td>                             yetris</td>\n",
        "      <td>                               z32556601/yetris</td>\n",
        "      <td> 0</td>\n",
        "    </tr>\n",
        "    <tr>\n",
        "      <th>78 </th>\n",
        "      <td>                  P4_rottenpotatoes</td>\n",
        "      <td>                     jmaviles/P4_rottenpotatoes</td>\n",
        "      <td> 1</td>\n",
        "    </tr>\n",
        "    <tr>\n",
        "      <th>79 </th>\n",
        "      <td>                         pivottable</td>\n",
        "      <td>                            xiaobozi/pivottable</td>\n",
        "      <td> 1</td>\n",
        "    </tr>\n",
        "    <tr>\n",
        "      <th>80 </th>\n",
        "      <td>                           colubris</td>\n",
        "      <td>                        alexeyostapets/colubris</td>\n",
        "      <td> 0</td>\n",
        "    </tr>\n",
        "    <tr>\n",
        "      <th>81 </th>\n",
        "      <td>                        HTML5Tetris</td>\n",
        "      <td>                         Roonerelli/HTML5Tetris</td>\n",
        "      <td> 0</td>\n",
        "    </tr>\n",
        "    <tr>\n",
        "      <th>82 </th>\n",
        "      <td>                           charisma</td>\n",
        "      <td>                            peidachang/charisma</td>\n",
        "      <td> 1</td>\n",
        "    </tr>\n",
        "    <tr>\n",
        "      <th>83 </th>\n",
        "      <td>                 systemdoctor-crack</td>\n",
        "      <td>                plucmoutibil/systemdoctor-crack</td>\n",
        "      <td> 0</td>\n",
        "    </tr>\n",
        "    <tr>\n",
        "      <th>84 </th>\n",
        "      <td>                            xml2tss</td>\n",
        "      <td>                               dbankier/xml2tss</td>\n",
        "      <td> 0</td>\n",
        "    </tr>\n",
        "    <tr>\n",
        "      <th>85 </th>\n",
        "      <td>       systems-analysis-torrent-pdf</td>\n",
        "      <td>         amenasten/systems-analysis-torrent-pdf</td>\n",
        "      <td> 0</td>\n",
        "    </tr>\n",
        "    <tr>\n",
        "      <th>86 </th>\n",
        "      <td>            TextformatterVideoEmbed</td>\n",
        "      <td>                   ffub/TextformatterVideoEmbed</td>\n",
        "      <td> 1</td>\n",
        "    </tr>\n",
        "    <tr>\n",
        "      <th>87 </th>\n",
        "      <td>               chris24dmr.github.io</td>\n",
        "      <td>                chris24dmr/chris24dmr.github.io</td>\n",
        "      <td> 0</td>\n",
        "    </tr>\n",
        "    <tr>\n",
        "      <th>88 </th>\n",
        "      <td>                              MTPDF</td>\n",
        "      <td>                                  giginet/MTPDF</td>\n",
        "      <td> 1</td>\n",
        "    </tr>\n",
        "    <tr>\n",
        "      <th>89 </th>\n",
        "      <td>                             xmlmws</td>\n",
        "      <td>                              lewiswalsh/xmlmws</td>\n",
        "      <td> 0</td>\n",
        "    </tr>\n",
        "    <tr>\n",
        "      <th>90 </th>\n",
        "      <td>                       mdns-gateway</td>\n",
        "      <td>                          bfajalia/mdns-gateway</td>\n",
        "      <td> 1</td>\n",
        "    </tr>\n",
        "    <tr>\n",
        "      <th>91 </th>\n",
        "      <td>                       DoctorAssist</td>\n",
        "      <td>                      twainmark153/DoctorAssist</td>\n",
        "      <td> 0</td>\n",
        "    </tr>\n",
        "    <tr>\n",
        "      <th>92 </th>\n",
        "      <td>                 t-mobile-mda-crack</td>\n",
        "      <td>                   coicobaba/t-mobile-mda-crack</td>\n",
        "      <td> 0</td>\n",
        "    </tr>\n",
        "    <tr>\n",
        "      <th>93 </th>\n",
        "      <td>             t-mobile-mda-sim-crack</td>\n",
        "      <td>                enabeser/t-mobile-mda-sim-crack</td>\n",
        "      <td> 0</td>\n",
        "    </tr>\n",
        "    <tr>\n",
        "      <th>94 </th>\n",
        "      <td>                             pdf.js</td>\n",
        "      <td>                             thorlarholm/pdf.js</td>\n",
        "      <td> 1</td>\n",
        "    </tr>\n",
        "    <tr>\n",
        "      <th>95 </th>\n",
        "      <td>                         spPdfGraph</td>\n",
        "      <td>                             arnoble/spPdfGraph</td>\n",
        "      <td> 0</td>\n",
        "    </tr>\n",
        "    <tr>\n",
        "      <th>96 </th>\n",
        "      <td>       Opencartimportexportproducts</td>\n",
        "      <td>      AnandPhadnis/Opencartimportexportproducts</td>\n",
        "      <td> 0</td>\n",
        "    </tr>\n",
        "    <tr>\n",
        "      <th>97 </th>\n",
        "      <td>                DoctrinePHPCRBundle</td>\n",
        "      <td>                    meynety/DoctrinePHPCRBundle</td>\n",
        "      <td> 1</td>\n",
        "    </tr>\n",
        "    <tr>\n",
        "      <th>98 </th>\n",
        "      <td>                      epubinfo-demo</td>\n",
        "      <td>                  agilecreativity/epubinfo-demo</td>\n",
        "      <td> 0</td>\n",
        "    </tr>\n",
        "    <tr>\n",
        "      <th>99 </th>\n",
        "      <td>                             pdf.js</td>\n",
        "      <td>                               samuelj90/pdf.js</td>\n",
        "      <td> 1</td>\n",
        "    </tr>\n",
        "    <tr>\n",
        "      <th>100</th>\n",
        "      <td> t-mobile-mda-tomtom6-download-free</td>\n",
        "      <td> ceilupoburg/t-mobile-mda-tomtom6-download-free</td>\n",
        "      <td> 0</td>\n",
        "    </tr>\n",
        "  </tbody>\n",
        "</table>\n",
        "<p>41 rows \u00d7 3 columns</p>\n",
        "</div>"
       ],
       "metadata": {},
       "output_type": "pyout",
       "prompt_number": 125,
       "text": [
        "                                   name  \\\n",
        "60                               docker   \n",
        "61                      django_docs_app   \n",
        "62                         dmd-2013-kep   \n",
        "63                 SublimeText2-FTPSync   \n",
        "64                            imdaraugh   \n",
        "65                             text2obj   \n",
        "66                             text2obj   \n",
        "67                             text2obj   \n",
        "68                             text2obj   \n",
        "69                         dmd-2013-mup   \n",
        "70                    rissen.github.com   \n",
        "71                          prism-break   \n",
        "72                              Doctors   \n",
        "73                            rdoc-tags   \n",
        "74                      plamut.odpustki   \n",
        "75                        newborisbikes   \n",
        "76                              testdoc   \n",
        "77                               yetris   \n",
        "78                    P4_rottenpotatoes   \n",
        "79                           pivottable   \n",
        "80                             colubris   \n",
        "81                          HTML5Tetris   \n",
        "82                             charisma   \n",
        "83                   systemdoctor-crack   \n",
        "84                              xml2tss   \n",
        "85         systems-analysis-torrent-pdf   \n",
        "86              TextformatterVideoEmbed   \n",
        "87                 chris24dmr.github.io   \n",
        "88                                MTPDF   \n",
        "89                               xmlmws   \n",
        "90                         mdns-gateway   \n",
        "91                         DoctorAssist   \n",
        "92                   t-mobile-mda-crack   \n",
        "93               t-mobile-mda-sim-crack   \n",
        "94                               pdf.js   \n",
        "95                           spPdfGraph   \n",
        "96         Opencartimportexportproducts   \n",
        "97                  DoctrinePHPCRBundle   \n",
        "98                        epubinfo-demo   \n",
        "99                               pdf.js   \n",
        "100  t-mobile-mda-tomtom6-download-free   \n",
        "\n",
        "                                          full_name  fork  \n",
        "60                              MaximeHeckel/docker     1  \n",
        "61                            royka/django_docs_app     0  \n",
        "62                        IRI-Research/dmd-2013-kep     1  \n",
        "63                       idevz/SublimeText2-FTPSync     1  \n",
        "64                              imdaraugh/imdaraugh     0  \n",
        "65                          netconstructor/text2obj     1  \n",
        "66                                Big-Data/text2obj     1  \n",
        "67                                scraping/text2obj     1  \n",
        "68                           BigData-Tools/text2obj     1  \n",
        "69                        IRI-Research/dmd-2013-mup     0  \n",
        "70                         rissen/rissen.github.com     0  \n",
        "71                             equipote/prism-break     1  \n",
        "72                         pranavkhandelwal/Doctors     0  \n",
        "73                                   lzap/rdoc-tags     1  \n",
        "74                           plamut/plamut.odpustki     0  \n",
        "75                          jeremygoh/newborisbikes     0  \n",
        "76                               docentus58/testdoc     0  \n",
        "77                                 z32556601/yetris     0  \n",
        "78                       jmaviles/P4_rottenpotatoes     1  \n",
        "79                              xiaobozi/pivottable     1  \n",
        "80                          alexeyostapets/colubris     0  \n",
        "81                           Roonerelli/HTML5Tetris     0  \n",
        "82                              peidachang/charisma     1  \n",
        "83                  plucmoutibil/systemdoctor-crack     0  \n",
        "84                                 dbankier/xml2tss     0  \n",
        "85           amenasten/systems-analysis-torrent-pdf     0  \n",
        "86                     ffub/TextformatterVideoEmbed     1  \n",
        "87                  chris24dmr/chris24dmr.github.io     0  \n",
        "88                                    giginet/MTPDF     1  \n",
        "89                                lewiswalsh/xmlmws     0  \n",
        "90                            bfajalia/mdns-gateway     1  \n",
        "91                        twainmark153/DoctorAssist     0  \n",
        "92                     coicobaba/t-mobile-mda-crack     0  \n",
        "93                  enabeser/t-mobile-mda-sim-crack     0  \n",
        "94                               thorlarholm/pdf.js     1  \n",
        "95                               arnoble/spPdfGraph     0  \n",
        "96        AnandPhadnis/Opencartimportexportproducts     0  \n",
        "97                      meynety/DoctrinePHPCRBundle     1  \n",
        "98                    agilecreativity/epubinfo-demo     0  \n",
        "99                                 samuelj90/pdf.js     1  \n",
        "100  ceilupoburg/t-mobile-mda-tomtom6-download-free     0  \n",
        "\n",
        "[41 rows x 3 columns]"
       ]
      }
     ],
     "prompt_number": 125
    },
    {
     "cell_type": "markdown",
     "metadata": {},
     "source": [
      "## Github as a blog or webpage\n",
      "\n",
      "Lots of repositories are actually blogs or webpages. This shows up in the repo name"
     ]
    },
    {
     "cell_type": "code",
     "collapsed": false,
     "input": [
      "page_query  = 'github.com|github.io'\n",
      "page_df = construct_repo_df(page_query, description = False)\n",
      "red.sadd('github_webpages', *page_df.full_name)"
     ],
     "language": "python",
     "metadata": {},
     "outputs": [
      {
       "output_type": "stream",
       "stream": "stdout",
       "text": [
        "starting bigquery ... \n",
        "github.com|github.io\n",
        "\r",
        "Waiting on bqjob_r7d702f08817ebabe_0000014620494dea_42 ... (0s) Current status: DONE   "
       ]
      },
      {
       "output_type": "stream",
       "stream": "stdout",
       "text": [
        "\n",
        "(151452, 3)"
       ]
      },
      {
       "output_type": "stream",
       "stream": "stdout",
       "text": [
        "\n"
       ]
      },
      {
       "metadata": {},
       "output_type": "pyout",
       "prompt_number": 126,
       "text": [
        "151362"
       ]
      }
     ],
     "prompt_number": 126
    },
    {
     "cell_type": "markdown",
     "metadata": {},
     "source": [
      "0.15M repos used as blogs or webpages"
     ]
    },
    {
     "cell_type": "markdown",
     "metadata": {},
     "source": [
      "## Policies, laws, standards, manifestos\n",
      "\n",
      "Are there lots of legal documents on Github?"
     ]
    },
    {
     "cell_type": "code",
     "collapsed": false,
     "input": [
      "policy_query = '|'.join(['policy', 'law', 'manifesto', 'agreement', 'guideline'])\n",
      "\n",
      "policy_df = construct_repo_df(policy_query)"
     ],
     "language": "python",
     "metadata": {},
     "outputs": [
      {
       "output_type": "stream",
       "stream": "stdout",
       "text": [
        "starting bigquery ... \n",
        "policy|law|manifesto|agreement|guideline\n",
        "\r",
        "Waiting on bqjob_r1d7d3ca537d61242_000001462049a912_43 ... (0s) Current status: DONE   "
       ]
      },
      {
       "output_type": "stream",
       "stream": "stdout",
       "text": [
        "\n",
        "(10326, 3)"
       ]
      },
      {
       "output_type": "stream",
       "stream": "stdout",
       "text": [
        "\n"
       ]
      }
     ],
     "prompt_number": 127
    },
    {
     "cell_type": "code",
     "collapsed": false,
     "input": [
      "red.sadd('policy_law', *policy_df.full_name)"
     ],
     "language": "python",
     "metadata": {},
     "outputs": [
      {
       "metadata": {},
       "output_type": "pyout",
       "prompt_number": 128,
       "text": [
        "10324"
       ]
      }
     ],
     "prompt_number": 128
    },
    {
     "cell_type": "code",
     "collapsed": false,
     "input": [
      "policy_df.head()"
     ],
     "language": "python",
     "metadata": {},
     "outputs": [
      {
       "html": [
        "<div style=\"max-height:1000px;max-width:1500px;overflow:auto;\">\n",
        "<table border=\"1\" class=\"dataframe\">\n",
        "  <thead>\n",
        "    <tr style=\"text-align: right;\">\n",
        "      <th></th>\n",
        "      <th>name</th>\n",
        "      <th>full_name</th>\n",
        "      <th>fork</th>\n",
        "    </tr>\n",
        "  </thead>\n",
        "  <tbody>\n",
        "    <tr>\n",
        "      <th>0</th>\n",
        "      <td>                                magento2</td>\n",
        "      <td>                                   soncao/magento2</td>\n",
        "      <td> 1</td>\n",
        "    </tr>\n",
        "    <tr>\n",
        "      <th>1</th>\n",
        "      <td>        ms-accessible-site-guidelines-v2</td>\n",
        "      <td>    jalbertbowden/ms-accessible-site-guidelines-v2</td>\n",
        "      <td> 0</td>\n",
        "    </tr>\n",
        "    <tr>\n",
        "      <th>2</th>\n",
        "      <td>                               adhocracy</td>\n",
        "      <td>                              cristianlp/adhocracy</td>\n",
        "      <td> 1</td>\n",
        "    </tr>\n",
        "    <tr>\n",
        "      <th>3</th>\n",
        "      <td>                         css-conventions</td>\n",
        "      <td>                           cbracco/css-conventions</td>\n",
        "      <td> 0</td>\n",
        "    </tr>\n",
        "    <tr>\n",
        "      <th>4</th>\n",
        "      <td> takamine-lawsuit-guitars-serial-numbers</td>\n",
        "      <td> tabtiogade/takamine-lawsuit-guitars-serial-num...</td>\n",
        "      <td> 0</td>\n",
        "    </tr>\n",
        "  </tbody>\n",
        "</table>\n",
        "<p>5 rows \u00d7 3 columns</p>\n",
        "</div>"
       ],
       "metadata": {},
       "output_type": "pyout",
       "prompt_number": 129,
       "text": [
        "                                      name  \\\n",
        "0                                 magento2   \n",
        "1         ms-accessible-site-guidelines-v2   \n",
        "2                                adhocracy   \n",
        "3                          css-conventions   \n",
        "4  takamine-lawsuit-guitars-serial-numbers   \n",
        "\n",
        "                                           full_name  fork  \n",
        "0                                    soncao/magento2     1  \n",
        "1     jalbertbowden/ms-accessible-site-guidelines-v2     0  \n",
        "2                               cristianlp/adhocracy     1  \n",
        "3                            cbracco/css-conventions     0  \n",
        "4  tabtiogade/takamine-lawsuit-guitars-serial-num...     0  \n",
        "\n",
        "[5 rows x 3 columns]"
       ]
      }
     ],
     "prompt_number": 129
    },
    {
     "cell_type": "markdown",
     "metadata": {},
     "source": [
      "## Books, buides, and articles\n",
      "\n",
      "Are there lots of writing projects on Github?"
     ]
    },
    {
     "cell_type": "code",
     "collapsed": false,
     "input": [
      "bookquery = '|'.join(['book', 'article', 'guide', 'how to', 'manual'])\n",
      "print bookquery\n",
      "book_df = construct_repo_df(bookquery)"
     ],
     "language": "python",
     "metadata": {},
     "outputs": [
      {
       "output_type": "stream",
       "stream": "stdout",
       "text": [
        "book|article|guide|how to|manual\n",
        "starting bigquery ... \n",
        "book|article|guide|how.?to|manual\n",
        "\r",
        "Waiting on bqjob_r2eab85fa9e2c8758_00000146204a1692_44 ... (0s) Current status: DONE   "
       ]
      },
      {
       "output_type": "stream",
       "stream": "stdout",
       "text": [
        "\n",
        "(276068, 3)"
       ]
      },
      {
       "output_type": "stream",
       "stream": "stdout",
       "text": [
        "\n"
       ]
      }
     ],
     "prompt_number": 130
    },
    {
     "cell_type": "code",
     "collapsed": false,
     "input": [
      "red.sadd('books_manuals', *book_df.full_name)"
     ],
     "language": "python",
     "metadata": {},
     "outputs": [
      {
       "metadata": {},
       "output_type": "pyout",
       "prompt_number": 131,
       "text": [
        "276043"
       ]
      }
     ],
     "prompt_number": 131
    },
    {
     "cell_type": "code",
     "collapsed": false,
     "input": [
      "book_df.head(10)"
     ],
     "language": "python",
     "metadata": {},
     "outputs": [
      {
       "html": [
        "<div style=\"max-height:1000px;max-width:1500px;overflow:auto;\">\n",
        "<table border=\"1\" class=\"dataframe\">\n",
        "  <thead>\n",
        "    <tr style=\"text-align: right;\">\n",
        "      <th></th>\n",
        "      <th>name</th>\n",
        "      <th>full_name</th>\n",
        "      <th>fork</th>\n",
        "    </tr>\n",
        "  </thead>\n",
        "  <tbody>\n",
        "    <tr>\n",
        "      <th>0</th>\n",
        "      <td> BlurEffectForAndroidDesign</td>\n",
        "      <td> yang-chao/BlurEffectForAndroidDesign</td>\n",
        "      <td> 1</td>\n",
        "    </tr>\n",
        "    <tr>\n",
        "      <th>1</th>\n",
        "      <td>       tieu-de-bai-viet-moi</td>\n",
        "      <td>     kickauthor1/tieu-de-bai-viet-moi</td>\n",
        "      <td> 0</td>\n",
        "    </tr>\n",
        "    <tr>\n",
        "      <th>2</th>\n",
        "      <td>        Post-type-wordpress</td>\n",
        "      <td>        anddrie69/Post-type-wordpress</td>\n",
        "      <td> 0</td>\n",
        "    </tr>\n",
        "    <tr>\n",
        "      <th>3</th>\n",
        "      <td>        flaming-octo-wookie</td>\n",
        "      <td>          ChingTi/flaming-octo-wookie</td>\n",
        "      <td> 0</td>\n",
        "    </tr>\n",
        "    <tr>\n",
        "      <th>4</th>\n",
        "      <td>               chef-mongodb</td>\n",
        "      <td>              liulinyang/chef-mongodb</td>\n",
        "      <td> 1</td>\n",
        "    </tr>\n",
        "    <tr>\n",
        "      <th>5</th>\n",
        "      <td>                 FB-Gallery</td>\n",
        "      <td>                     ios4u/FB-Gallery</td>\n",
        "      <td> 1</td>\n",
        "    </tr>\n",
        "    <tr>\n",
        "      <th>6</th>\n",
        "      <td>     frontend-dev-bookmarks</td>\n",
        "      <td>        birkof/frontend-dev-bookmarks</td>\n",
        "      <td> 1</td>\n",
        "    </tr>\n",
        "    <tr>\n",
        "      <th>7</th>\n",
        "      <td>                   facebook</td>\n",
        "      <td>             harjeetsingh111/facebook</td>\n",
        "      <td> 0</td>\n",
        "    </tr>\n",
        "    <tr>\n",
        "      <th>8</th>\n",
        "      <td>           baike-classifier</td>\n",
        "      <td>            tatetian/baike-classifier</td>\n",
        "      <td> 0</td>\n",
        "    </tr>\n",
        "    <tr>\n",
        "      <th>9</th>\n",
        "      <td>               python-guide</td>\n",
        "      <td>                 TAKO712/python-guide</td>\n",
        "      <td> 1</td>\n",
        "    </tr>\n",
        "  </tbody>\n",
        "</table>\n",
        "<p>10 rows \u00d7 3 columns</p>\n",
        "</div>"
       ],
       "metadata": {},
       "output_type": "pyout",
       "prompt_number": 150,
       "text": [
        "                         name                             full_name  fork\n",
        "0  BlurEffectForAndroidDesign  yang-chao/BlurEffectForAndroidDesign     1\n",
        "1        tieu-de-bai-viet-moi      kickauthor1/tieu-de-bai-viet-moi     0\n",
        "2         Post-type-wordpress         anddrie69/Post-type-wordpress     0\n",
        "3         flaming-octo-wookie           ChingTi/flaming-octo-wookie     0\n",
        "4                chef-mongodb               liulinyang/chef-mongodb     1\n",
        "5                  FB-Gallery                      ios4u/FB-Gallery     1\n",
        "6      frontend-dev-bookmarks         birkof/frontend-dev-bookmarks     1\n",
        "7                    facebook              harjeetsingh111/facebook     0\n",
        "8            baike-classifier             tatetian/baike-classifier     0\n",
        "9                python-guide                  TAKO712/python-guide     1\n",
        "\n",
        "[10 rows x 3 columns]"
       ]
      }
     ],
     "prompt_number": 150
    },
    {
     "cell_type": "markdown",
     "metadata": {},
     "source": [
      "Around 0.25M. Need to check if these are too noisy, but they seem ok overall."
     ]
    },
    {
     "cell_type": "markdown",
     "metadata": {},
     "source": [
      "## The image/video software\n",
      "\n",
      "I'm thinking this will be quite important in terms of applications"
     ]
    },
    {
     "cell_type": "code",
     "collapsed": false,
     "input": [
      "image_terms = ['video','image','jpeg', 'mp3', 'mpeg', 'audio', 'sound','photograph', 'camera', 'webcam']\n",
      "image_query = '|'.join(image_terms)\n"
     ],
     "language": "python",
     "metadata": {},
     "outputs": [],
     "prompt_number": 132
    },
    {
     "cell_type": "code",
     "collapsed": false,
     "input": [
      "image_df = construct_repo_df(image_query)"
     ],
     "language": "python",
     "metadata": {},
     "outputs": [
      {
       "output_type": "stream",
       "stream": "stdout",
       "text": [
        "starting bigquery ... \n",
        "video|image|jpeg|mp3|mpeg|audio|sound|photograph|camera|webcam\n",
        "\r",
        "Waiting on bqjob_r5671bf88029e25df_00000146204b30c0_45 ... (0s) Current status: DONE   "
       ]
      },
      {
       "output_type": "stream",
       "stream": "stdout",
       "text": [
        "\n",
        "(195034, 3)"
       ]
      },
      {
       "output_type": "stream",
       "stream": "stdout",
       "text": [
        "\n"
       ]
      }
     ],
     "prompt_number": 133
    },
    {
     "cell_type": "code",
     "collapsed": false,
     "input": [
      "red.sadd('images', *image_df.full_name)"
     ],
     "language": "python",
     "metadata": {},
     "outputs": [
      {
       "metadata": {},
       "output_type": "pyout",
       "prompt_number": 134,
       "text": [
        "195018"
       ]
      }
     ],
     "prompt_number": 134
    },
    {
     "cell_type": "markdown",
     "metadata": {},
     "source": [
      "Ok, _195k_ is not so many. Perhaps need to add more terms here. "
     ]
    },
    {
     "cell_type": "code",
     "collapsed": false,
     "input": [
      "image_df.head(10)"
     ],
     "language": "python",
     "metadata": {},
     "outputs": [
      {
       "html": [
        "<div style=\"max-height:1000px;max-width:1500px;overflow:auto;\">\n",
        "<table border=\"1\" class=\"dataframe\">\n",
        "  <thead>\n",
        "    <tr style=\"text-align: right;\">\n",
        "      <th></th>\n",
        "      <th>name</th>\n",
        "      <th>full_name</th>\n",
        "      <th>fork</th>\n",
        "    </tr>\n",
        "  </thead>\n",
        "  <tbody>\n",
        "    <tr>\n",
        "      <th>0</th>\n",
        "      <td>                  webcam</td>\n",
        "      <td>                 the-darknight/webcam</td>\n",
        "      <td> 1</td>\n",
        "    </tr>\n",
        "    <tr>\n",
        "      <th>1</th>\n",
        "      <td>                 kxmovie</td>\n",
        "      <td>                        zhuyc/kxmovie</td>\n",
        "      <td> 1</td>\n",
        "    </tr>\n",
        "    <tr>\n",
        "      <th>2</th>\n",
        "      <td>                  FFMpeg</td>\n",
        "      <td>                      truthwzl/FFMpeg</td>\n",
        "      <td> 1</td>\n",
        "    </tr>\n",
        "    <tr>\n",
        "      <th>3</th>\n",
        "      <td>      UIImageWithiPhone5</td>\n",
        "      <td>         limbo0312/UIImageWithiPhone5</td>\n",
        "      <td> 1</td>\n",
        "    </tr>\n",
        "    <tr>\n",
        "      <th>4</th>\n",
        "      <td>       android-cropimage</td>\n",
        "      <td>            thanhtx/android-cropimage</td>\n",
        "      <td> 1</td>\n",
        "    </tr>\n",
        "    <tr>\n",
        "      <th>5</th>\n",
        "      <td>              Video_Hook</td>\n",
        "      <td>                  kishkaru/Video_Hook</td>\n",
        "      <td> 0</td>\n",
        "    </tr>\n",
        "    <tr>\n",
        "      <th>6</th>\n",
        "      <td> symbol-red-mp3-download</td>\n",
        "      <td> terjunouncho/symbol-red-mp3-download</td>\n",
        "      <td> 0</td>\n",
        "    </tr>\n",
        "    <tr>\n",
        "      <th>7</th>\n",
        "      <td>              youtube-dl</td>\n",
        "      <td>                nathanchen/youtube-dl</td>\n",
        "      <td> 1</td>\n",
        "    </tr>\n",
        "    <tr>\n",
        "      <th>8</th>\n",
        "      <td>      jquery-collagePlus</td>\n",
        "      <td>          cocus-es/jquery-collagePlus</td>\n",
        "      <td> 1</td>\n",
        "    </tr>\n",
        "    <tr>\n",
        "      <th>9</th>\n",
        "      <td>           GKImagePicker</td>\n",
        "      <td>             larascasse/GKImagePicker</td>\n",
        "      <td> 1</td>\n",
        "    </tr>\n",
        "  </tbody>\n",
        "</table>\n",
        "<p>10 rows \u00d7 3 columns</p>\n",
        "</div>"
       ],
       "metadata": {},
       "output_type": "pyout",
       "prompt_number": 135,
       "text": [
        "                      name                             full_name  fork\n",
        "0                   webcam                  the-darknight/webcam     1\n",
        "1                  kxmovie                         zhuyc/kxmovie     1\n",
        "2                   FFMpeg                       truthwzl/FFMpeg     1\n",
        "3       UIImageWithiPhone5          limbo0312/UIImageWithiPhone5     1\n",
        "4        android-cropimage             thanhtx/android-cropimage     1\n",
        "5               Video_Hook                   kishkaru/Video_Hook     0\n",
        "6  symbol-red-mp3-download  terjunouncho/symbol-red-mp3-download     0\n",
        "7               youtube-dl                 nathanchen/youtube-dl     1\n",
        "8       jquery-collagePlus           cocus-es/jquery-collagePlus     1\n",
        "9            GKImagePicker              larascasse/GKImagePicker     1\n",
        "\n",
        "[10 rows x 3 columns]"
       ]
      }
     ],
     "prompt_number": 135
    },
    {
     "cell_type": "markdown",
     "metadata": {},
     "source": [
      "## Games and gaming\n"
     ]
    },
    {
     "cell_type": "code",
     "collapsed": false,
     "input": [
      "game_list  = ['game', 'xbox', 'playstation', 'wii', 'kinect', 'nintendo', 'minecraft', 'warcraft', 'multiplayer']\n",
      "game_query = '|'.join(game_list)"
     ],
     "language": "python",
     "metadata": {},
     "outputs": [],
     "prompt_number": 136
    },
    {
     "cell_type": "code",
     "collapsed": false,
     "input": [
      "game_df = construct_repo_df(game_query)\n",
      "red.sadd('gaming', *game_df.full_name)"
     ],
     "language": "python",
     "metadata": {},
     "outputs": [
      {
       "output_type": "stream",
       "stream": "stdout",
       "text": [
        "starting bigquery ... \n",
        "game|xbox|playstation|wii|kinect|nintendo|minecraft|warcraft|multiplayer\n",
        "\r",
        "Waiting on bqjob_r675e30b52429079c_00000146204bdb0c_46 ... (0s) Current status: DONE   "
       ]
      },
      {
       "output_type": "stream",
       "stream": "stdout",
       "text": [
        "\n",
        "(175045, 3)"
       ]
      },
      {
       "output_type": "stream",
       "stream": "stdout",
       "text": [
        "\n"
       ]
      },
      {
       "metadata": {},
       "output_type": "pyout",
       "prompt_number": 137,
       "text": [
        "175019"
       ]
      }
     ],
     "prompt_number": 137
    },
    {
     "cell_type": "code",
     "collapsed": false,
     "input": [
      "game_df.head(10)"
     ],
     "language": "python",
     "metadata": {},
     "outputs": [
      {
       "html": [
        "<div style=\"max-height:1000px;max-width:1500px;overflow:auto;\">\n",
        "<table border=\"1\" class=\"dataframe\">\n",
        "  <thead>\n",
        "    <tr style=\"text-align: right;\">\n",
        "      <th></th>\n",
        "      <th>name</th>\n",
        "      <th>full_name</th>\n",
        "      <th>fork</th>\n",
        "    </tr>\n",
        "  </thead>\n",
        "  <tbody>\n",
        "    <tr>\n",
        "      <th>0</th>\n",
        "      <td>            MCCrashReporter</td>\n",
        "      <td>        Thaumic-Tinkerer/MCCrashReporter</td>\n",
        "      <td> 0</td>\n",
        "    </tr>\n",
        "    <tr>\n",
        "      <th>1</th>\n",
        "      <td>              Zelda-Strikes</td>\n",
        "      <td>                      Quff/Zelda-Strikes</td>\n",
        "      <td> 0</td>\n",
        "    </tr>\n",
        "    <tr>\n",
        "      <th>2</th>\n",
        "      <td>                   CheatMod</td>\n",
        "      <td>                         Ga1294/CheatMod</td>\n",
        "      <td> 1</td>\n",
        "    </tr>\n",
        "    <tr>\n",
        "      <th>3</th>\n",
        "      <td>                 codecombat</td>\n",
        "      <td>                   jayant1992/codecombat</td>\n",
        "      <td> 1</td>\n",
        "    </tr>\n",
        "    <tr>\n",
        "      <th>4</th>\n",
        "      <td> confectionery-crush-phaser</td>\n",
        "      <td> willmcneilly/confectionery-crush-phaser</td>\n",
        "      <td> 0</td>\n",
        "    </tr>\n",
        "    <tr>\n",
        "      <th>5</th>\n",
        "      <td>                  dice-game</td>\n",
        "      <td>                         emb78/dice-game</td>\n",
        "      <td> 0</td>\n",
        "    </tr>\n",
        "    <tr>\n",
        "      <th>6</th>\n",
        "      <td>                  antichess</td>\n",
        "      <td>                       smy2748/antichess</td>\n",
        "      <td> 0</td>\n",
        "    </tr>\n",
        "    <tr>\n",
        "      <th>7</th>\n",
        "      <td>                Breakout-PB</td>\n",
        "      <td>                  greggraham/Breakout-PB</td>\n",
        "      <td> 1</td>\n",
        "    </tr>\n",
        "    <tr>\n",
        "      <th>8</th>\n",
        "      <td>               Kinect_Piano</td>\n",
        "      <td>                     Xandon/Kinect_Piano</td>\n",
        "      <td> 0</td>\n",
        "    </tr>\n",
        "    <tr>\n",
        "      <th>9</th>\n",
        "      <td>                 TopicBingo</td>\n",
        "      <td>                worthingtonse/TopicBingo</td>\n",
        "      <td> 1</td>\n",
        "    </tr>\n",
        "  </tbody>\n",
        "</table>\n",
        "<p>10 rows \u00d7 3 columns</p>\n",
        "</div>"
       ],
       "metadata": {},
       "output_type": "pyout",
       "prompt_number": 183,
       "text": [
        "                         name                                full_name  fork\n",
        "0             MCCrashReporter         Thaumic-Tinkerer/MCCrashReporter     0\n",
        "1               Zelda-Strikes                       Quff/Zelda-Strikes     0\n",
        "2                    CheatMod                          Ga1294/CheatMod     1\n",
        "3                  codecombat                    jayant1992/codecombat     1\n",
        "4  confectionery-crush-phaser  willmcneilly/confectionery-crush-phaser     0\n",
        "5                   dice-game                          emb78/dice-game     0\n",
        "6                   antichess                        smy2748/antichess     0\n",
        "7                 Breakout-PB                   greggraham/Breakout-PB     1\n",
        "8                Kinect_Piano                      Xandon/Kinect_Piano     0\n",
        "9                  TopicBingo                 worthingtonse/TopicBingo     1\n",
        "\n",
        "[10 rows x 3 columns]"
       ]
      }
     ],
     "prompt_number": 183
    },
    {
     "cell_type": "markdown",
     "metadata": {},
     "source": [
      "Again, around 150k hits here, but probably could be expanded quite a bit. "
     ]
    },
    {
     "cell_type": "markdown",
     "metadata": {},
     "source": [
      "\n",
      "## Icons, fonts and themes\n",
      "\n",
      "I'm not whether these matter, but they are a showcase on Github"
     ]
    },
    {
     "cell_type": "code",
     "collapsed": false,
     "input": [
      "iconlist = ['icon','font', 'emoji', 'theme']\n",
      "iconquery = '|'.join(iconlist)\n",
      "print iconquery"
     ],
     "language": "python",
     "metadata": {},
     "outputs": [
      {
       "output_type": "stream",
       "stream": "stdout",
       "text": [
        "icon|font|emoji|theme\n"
       ]
      }
     ],
     "prompt_number": 138
    },
    {
     "cell_type": "code",
     "collapsed": false,
     "input": [
      "icon_df = construct_repo_df(iconquery)"
     ],
     "language": "python",
     "metadata": {},
     "outputs": [
      {
       "output_type": "stream",
       "stream": "stdout",
       "text": [
        "starting bigquery ... \n",
        "icon|font|emoji|theme\n",
        "\r",
        "Waiting on bqjob_rc231052060b6d19_00000146204c6466_47 ... (0s) Current status: DONE   "
       ]
      },
      {
       "output_type": "stream",
       "stream": "stdout",
       "text": [
        "\n",
        "(110665, 3)"
       ]
      },
      {
       "output_type": "stream",
       "stream": "stdout",
       "text": [
        "\n"
       ]
      }
     ],
     "prompt_number": 139
    },
    {
     "cell_type": "code",
     "collapsed": false,
     "input": [
      "red.sadd('icons_fonts', *icon_df.full_name)"
     ],
     "language": "python",
     "metadata": {},
     "outputs": [
      {
       "metadata": {},
       "output_type": "pyout",
       "prompt_number": 140,
       "text": [
        "110659"
       ]
      }
     ],
     "prompt_number": 140
    },
    {
     "cell_type": "code",
     "collapsed": false,
     "input": [
      "icon_df.head()"
     ],
     "language": "python",
     "metadata": {},
     "outputs": [
      {
       "html": [
        "<div style=\"max-height:1000px;max-width:1500px;overflow:auto;\">\n",
        "<table border=\"1\" class=\"dataframe\">\n",
        "  <thead>\n",
        "    <tr style=\"text-align: right;\">\n",
        "      <th></th>\n",
        "      <th>name</th>\n",
        "      <th>full_name</th>\n",
        "      <th>fork</th>\n",
        "    </tr>\n",
        "  </thead>\n",
        "  <tbody>\n",
        "    <tr>\n",
        "      <th>0</th>\n",
        "      <td>                     Under_Foundation</td>\n",
        "      <td>           colegeissinger/Under_Foundation</td>\n",
        "      <td> 0</td>\n",
        "    </tr>\n",
        "    <tr>\n",
        "      <th>1</th>\n",
        "      <td>                          JZSwipeCell</td>\n",
        "      <td>                         ios4u/JZSwipeCell</td>\n",
        "      <td> 1</td>\n",
        "    </tr>\n",
        "    <tr>\n",
        "      <th>2</th>\n",
        "      <td>                                   _s</td>\n",
        "      <td>                         colegeissinger/_s</td>\n",
        "      <td> 1</td>\n",
        "    </tr>\n",
        "    <tr>\n",
        "      <th>3</th>\n",
        "      <td>           symbian-60-themes-download</td>\n",
        "      <td>   cimuquarchea/symbian-60-themes-download</td>\n",
        "      <td> 0</td>\n",
        "    </tr>\n",
        "    <tr>\n",
        "      <th>4</th>\n",
        "      <td> chrome-devtools-zerodarkmatrix-theme</td>\n",
        "      <td> bqst/chrome-devtools-zerodarkmatrix-theme</td>\n",
        "      <td> 1</td>\n",
        "    </tr>\n",
        "  </tbody>\n",
        "</table>\n",
        "<p>5 rows \u00d7 3 columns</p>\n",
        "</div>"
       ],
       "metadata": {},
       "output_type": "pyout",
       "prompt_number": 213,
       "text": [
        "                                   name  \\\n",
        "0                      Under_Foundation   \n",
        "1                           JZSwipeCell   \n",
        "2                                    _s   \n",
        "3            symbian-60-themes-download   \n",
        "4  chrome-devtools-zerodarkmatrix-theme   \n",
        "\n",
        "                                   full_name  fork  \n",
        "0            colegeissinger/Under_Foundation     0  \n",
        "1                          ios4u/JZSwipeCell     1  \n",
        "2                          colegeissinger/_s     1  \n",
        "3    cimuquarchea/symbian-60-themes-download     0  \n",
        "4  bqst/chrome-devtools-zerodarkmatrix-theme     1  \n",
        "\n",
        "[5 rows x 3 columns]"
       ]
      }
     ],
     "prompt_number": 213
    },
    {
     "cell_type": "markdown",
     "metadata": {},
     "source": [
      "Around 100k repos on this, which is a lot, given that they don't that much ... "
     ]
    },
    {
     "cell_type": "markdown",
     "metadata": {},
     "source": [
      "## Education platforms and moocs"
     ]
    },
    {
     "cell_type": "code",
     "collapsed": false,
     "input": [
      "education = 'mooc|coursera|EdX|khan academy|opencourseware|P2PU|Udacity|Udemy'\n",
      "edu_query = education.lower()\n",
      "edu_df = construct_repo_df(edu_query)\n",
      "red.sadd('education', *edu_df.full_name)\n"
     ],
     "language": "python",
     "metadata": {},
     "outputs": [
      {
       "output_type": "stream",
       "stream": "stdout",
       "text": [
        "starting bigquery ... \n",
        "mooc|coursera|edx|khan.?academy|opencourseware|p2pu|udacity|udemy\n",
        "\r",
        "Waiting on bqjob_r311194bb4efd4b48_0000014622caee46_53 ... (0s) Current status: RUNNING"
       ]
      },
      {
       "output_type": "stream",
       "stream": "stdout",
       "text": [
        " \r",
        "Waiting on bqjob_r311194bb4efd4b48_0000014622caee46_53 ... (1s) Current status: RUNNING "
       ]
      },
      {
       "output_type": "stream",
       "stream": "stdout",
       "text": [
        "\r",
        "Waiting on bqjob_r311194bb4efd4b48_0000014622caee46_53 ... (1s) Current status: DONE   \n",
        "(10757, 3)"
       ]
      },
      {
       "output_type": "stream",
       "stream": "stdout",
       "text": [
        "\n"
       ]
      }
     ],
     "prompt_number": 157
    },
    {
     "cell_type": "code",
     "collapsed": false,
     "input": [
      "red.sadd('moocs', *edu_df.full_name)\n",
      "edu_df.head()"
     ],
     "language": "python",
     "metadata": {},
     "outputs": [
      {
       "html": [
        "<div style=\"max-height:1000px;max-width:1500px;overflow:auto;\">\n",
        "<table border=\"1\" class=\"dataframe\">\n",
        "  <thead>\n",
        "    <tr style=\"text-align: right;\">\n",
        "      <th></th>\n",
        "      <th>name</th>\n",
        "      <th>full_name</th>\n",
        "      <th>fork</th>\n",
        "    </tr>\n",
        "  </thead>\n",
        "  <tbody>\n",
        "    <tr>\n",
        "      <th>0</th>\n",
        "      <td>              coursera_ml</td>\n",
        "      <td>              MoonighT/coursera_ml</td>\n",
        "      <td> 0</td>\n",
        "    </tr>\n",
        "    <tr>\n",
        "      <th>1</th>\n",
        "      <td>         moocfi-analytics</td>\n",
        "      <td>           matnel/moocfi-analytics</td>\n",
        "      <td> 0</td>\n",
        "    </tr>\n",
        "    <tr>\n",
        "      <th>2</th>\n",
        "      <td>          Udacity_PyStuff</td>\n",
        "      <td>       pnamasondhi/Udacity_PyStuff</td>\n",
        "      <td> 0</td>\n",
        "    </tr>\n",
        "    <tr>\n",
        "      <th>3</th>\n",
        "      <td> datasci_course_materials</td>\n",
        "      <td> akoshodi/datasci_course_materials</td>\n",
        "      <td> 1</td>\n",
        "    </tr>\n",
        "    <tr>\n",
        "      <th>4</th>\n",
        "      <td>                 homework</td>\n",
        "      <td>            yonatan-zilpa/homework</td>\n",
        "      <td> 0</td>\n",
        "    </tr>\n",
        "  </tbody>\n",
        "</table>\n",
        "<p>5 rows \u00d7 3 columns</p>\n",
        "</div>"
       ],
       "metadata": {},
       "output_type": "pyout",
       "prompt_number": 160,
       "text": [
        "                       name                          full_name  fork\n",
        "0               coursera_ml               MoonighT/coursera_ml     0\n",
        "1          moocfi-analytics            matnel/moocfi-analytics     0\n",
        "2           Udacity_PyStuff        pnamasondhi/Udacity_PyStuff     0\n",
        "3  datasci_course_materials  akoshodi/datasci_course_materials     1\n",
        "4                  homework             yonatan-zilpa/homework     0\n",
        "\n",
        "[5 rows x 3 columns]"
       ]
      }
     ],
     "prompt_number": 160
    },
    {
     "cell_type": "markdown",
     "metadata": {},
     "source": [
      "## APIS and SDKs"
     ]
    },
    {
     "cell_type": "code",
     "collapsed": false,
     "input": [
      "api_query = 'api|sdk'\n",
      "api_df = construct_repo_df(api_query, description=False)"
     ],
     "language": "python",
     "metadata": {},
     "outputs": [
      {
       "output_type": "stream",
       "stream": "stdout",
       "text": [
        "starting bigquery ... \n",
        "api|sdk\n",
        "\r",
        "Waiting on bqjob_r3f6c6cc3509d72ef_0000014628052618_4 ... (0s) Current status: DONE   "
       ]
      },
      {
       "output_type": "stream",
       "stream": "stdout",
       "text": [
        "\n",
        "(117676, 3)"
       ]
      },
      {
       "output_type": "stream",
       "stream": "stdout",
       "text": [
        "\n"
       ]
      }
     ],
     "prompt_number": 11
    },
    {
     "cell_type": "code",
     "collapsed": false,
     "input": [
      "red.sadd('api_sdk', *api_df.full_name)"
     ],
     "language": "python",
     "metadata": {},
     "outputs": [
      {
       "metadata": {},
       "output_type": "pyout",
       "prompt_number": 13,
       "text": [
        "117654"
       ]
      }
     ],
     "prompt_number": 13
    },
    {
     "cell_type": "markdown",
     "metadata": {},
     "source": [
      "# Save dataframes to redis for analysis"
     ]
    },
    {
     "cell_type": "code",
     "collapsed": false,
     "input": [
      "red = redis.Redis(db='1')\n"
     ],
     "language": "python",
     "metadata": {},
     "outputs": [
      {
       "metadata": {},
       "output_type": "pyout",
       "prompt_number": 182,
       "text": [
        "65613"
       ]
      }
     ],
     "prompt_number": 182
    },
    {
     "cell_type": "code",
     "collapsed": true,
     "input": [
      "pipe = red.pipeline()\n",
      "\n",
      "for i in range(0, editor_df.shape[0], 100000):\n",
      "    pipe.sadd('editors', *editor_df.full_name[i:i + 100000])\n",
      "res = pipe.execute()"
     ],
     "language": "python",
     "metadata": {},
     "outputs": [],
     "prompt_number": 183
    },
    {
     "cell_type": "code",
     "collapsed": false,
     "input": [
      "red.sadd('servers', *server_df.full_name)\n",
      "red.sadd('ides', *ide_df.full_name)\n",
      "red.sadd('gaming', *game_df.full_name)\n",
      "red.sadd('icons_fonts', *icon_df.full_name)\n",
      "red.sadd('images', *image_df.full_name)\n",
      "red.sadd('books_manuals', *book_df.full_name)\n",
      "red.sadd('data_statistics', *datastat_df.full_name)\n",
      "red.sadd('geo_gis', *geo_df.full_name)\n",
      "red.sadd('machine_learning', *ml_df.full_name)\n",
      "red.sadd('internet_protocols', *ip_df.full_name)\n",
      "red.sadd('social_media', *socialmedia_df.full_name)\n",
      "red.sadd('devices', *devices_df.full_name)\n",
      "red.sadd('packages', *package_df.full_name)\n",
      "red.sadd('databases', *db_df.full_name)\n",
      "red.sadd('webframeworks', *wf_df.full_name)\n",
      "red.sadd('css', *css_df.full_name)\n",
      "red.sadd('dotfiles', *dot_df.full_name)\n",
      "red.sadd('webpages', *page_df.full_name)\n",
      "red.sadd('tests', *test_df.full_name)\n",
      "red.sadd('git', *git_df.full_name)\n",
      "red.sadd('web_frontend_javascript', *javascript_df.full_name)\n",
      "red.sadd('compilers', *compiler_df.full_name)\n",
      "red.sadd('integration', *integration_df.full_name)\n",
      "red.sadd('policy_law', *policy_df.full_name)\n",
      "red.sadd('science', *sci_df.full_name)\n",
      "red.sadd('documents', *doc_df.full_name)\n",
      "red.sadd('spam', *spam_df.full_name)"
     ],
     "language": "python",
     "metadata": {},
     "outputs": [
      {
       "metadata": {},
       "output_type": "pyout",
       "prompt_number": 186,
       "text": [
        "0"
       ]
      }
     ],
     "prompt_number": 186
    },
    {
     "cell_type": "code",
     "collapsed": false,
     "input": [
      "red.sadd('moocs', *edu_df.full_name)\n",
      "red.sadd('spam', *spam_df.full_name)"
     ],
     "language": "python",
     "metadata": {},
     "outputs": [
      {
       "metadata": {},
       "output_type": "pyout",
       "prompt_number": 185,
       "text": [
        "79011"
       ]
      }
     ],
     "prompt_number": 185
    },
    {
     "cell_type": "code",
     "collapsed": false,
     "input": [],
     "language": "python",
     "metadata": {},
     "outputs": []
    }
   ],
   "metadata": {}
  }
 ]
}