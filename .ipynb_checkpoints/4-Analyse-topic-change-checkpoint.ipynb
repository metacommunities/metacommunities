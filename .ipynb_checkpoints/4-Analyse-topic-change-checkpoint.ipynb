{
 "metadata": {
  "name": "",
  "signature": "sha256:218b8bc64418d9c9d589f8c714a9dbc84b1ac89b9ec209d129e6d1d386ae181d"
 },
 "nbformat": 3,
 "nbformat_minor": 0,
 "worksheets": [
  {
   "cells": [
    {
     "cell_type": "markdown",
     "metadata": {},
     "source": [
      "## Changing relations between domains over time\n",
      "\n",
      "Do domain combine differently over time?"
     ]
    },
    {
     "cell_type": "code",
     "collapsed": false,
     "input": [
      "%load_ext autoreload\n",
      "%autoreload 2"
     ],
     "language": "python",
     "metadata": {},
     "outputs": [],
     "prompt_number": 16
    },
    {
     "cell_type": "code",
     "collapsed": false,
     "input": [
      "import redis\n",
      "import matplotlib.pyplot as plt\n",
      "import seaborn\n",
      "import pandas as pd\n",
      "import re\n",
      "import itertools\n",
      "import numpy as np\n",
      "import ConfigParser\n",
      "import github as gh\n"
     ],
     "language": "python",
     "metadata": {},
     "outputs": [],
     "prompt_number": 17
    },
    {
     "cell_type": "code",
     "collapsed": false,
     "input": [
      "sys.path.append('..')\n",
      "import RedisRepos as rr"
     ],
     "language": "python",
     "metadata": {},
     "outputs": [],
     "prompt_number": 18
    },
    {
     "cell_type": "code",
     "collapsed": false,
     "input": [
      "config = ConfigParser.ConfigParser()\n",
      "config.read('/home/mackenza/.history_git/settings.conf')\n",
      "\n",
      "user = config.get('github', 'user')\n",
      "password = config.get('github', 'password')\n",
      "github = gh.Github(user, password)\n"
     ],
     "language": "python",
     "metadata": {},
     "outputs": [],
     "prompt_number": 28
    },
    {
     "cell_type": "code",
     "collapsed": false,
     "input": [
      "red  = redis.Redis(db='1')\n",
      "rrr = rr.Repos()"
     ],
     "language": "python",
     "metadata": {},
     "outputs": [],
     "prompt_number": 23
    },
    {
     "cell_type": "code",
     "collapsed": false,
     "input": [
      "soc_sampe = rrr.load_repo_collection('repos:social_media')"
     ],
     "language": "python",
     "metadata": {},
     "outputs": [
      {
       "output_type": "stream",
       "stream": "stdout",
       "text": [
        "using redis to get repo names\n"
       ]
      }
     ],
     "prompt_number": 29
    },
    {
     "cell_type": "code",
     "collapsed": true,
     "input": [
      "# soc_sampe = red.srandmember('social_media', 100)\n",
      "for r in soc_sampe[:10]:\n",
      "    try:\n",
      "        r = github.get_repo(r)\n",
      "        print r.created_at\n",
      "    except Exception, e:\n",
      "        print e\n",
      "    \n"
     ],
     "language": "python",
     "metadata": {},
     "outputs": [
      {
       "output_type": "stream",
       "stream": "stdout",
       "text": [
        "['ohtaman/data_mining_algorithms']\n",
        "['fourq/google-drive-ruby']\n",
        "['gregcarrart/google-map-api']\n",
        "['alcfstiger/facebook-php-sdk']\n",
        "['jiangcx009/morning']\n",
        "['meganxoxo/www.facebook.co.uk']\n",
        "['surindergithub/facebookapp']\n",
        "['seocore/switchvox']\n",
        "['abh1nav/twitter-node']\n",
        "['bluepeppers/googlefromdesktop']\n"
       ]
      }
     ],
     "prompt_number": 31
    }
   ],
   "metadata": {}
  }
 ]
}